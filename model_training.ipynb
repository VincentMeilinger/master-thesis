{
 "cells": [
  {
   "cell_type": "code",
   "id": "initial_id",
   "metadata": {
    "collapsed": true,
    "ExecuteTime": {
     "end_time": "2024-08-02T08:01:04.378915Z",
     "start_time": "2024-08-02T08:01:04.376381Z"
    }
   },
   "source": [
    "import torch\n",
    "import pandas as pd\n",
    "from graphdatascience import GraphDataScience\n",
    "from torch_geometric.data import Data\n",
    "import torch.nn.functional as F\n",
    "import torch.optim as optim"
   ],
   "outputs": [],
   "execution_count": 73
  },
  {
   "metadata": {
    "ExecuteTime": {
     "end_time": "2024-08-02T08:01:04.386732Z",
     "start_time": "2024-08-02T08:01:04.384286Z"
    }
   },
   "cell_type": "code",
   "source": [
    "from src.shared.database_wrapper import DatabaseWrapper\n",
    "from src.model.GAT.gat_encoder import GATv2Encoder\n",
    "from src.model.GAT.gat_decoder import GATv2Decoder\n",
    "from src.shared.graph_schema import NodeType, EdgeType, AuthorEdge, PublicationEdge, SimilarityEdge"
   ],
   "id": "8a937f5fe8ae9688",
   "outputs": [],
   "execution_count": 74
  },
  {
   "metadata": {
    "ExecuteTime": {
     "end_time": "2024-08-02T08:01:04.411469Z",
     "start_time": "2024-08-02T08:01:04.387996Z"
    }
   },
   "cell_type": "code",
   "source": "db = DatabaseWrapper()",
   "id": "febc40d036c72c46",
   "outputs": [
    {
     "name": "stderr",
     "output_type": "stream",
     "text": [
      "2024-08-02 10:01:04,388 - DatabaseWrapper - INFO - Connecting to the database ...\n",
      "2024-08-02 10:01:04,409 - DatabaseWrapper - INFO - Database ready.\n"
     ]
    }
   ],
   "execution_count": 75
  },
  {
   "metadata": {
    "ExecuteTime": {
     "end_time": "2024-08-02T08:01:04.413778Z",
     "start_time": "2024-08-02T08:01:04.412491Z"
    }
   },
   "cell_type": "code",
   "source": "",
   "id": "9f162f462477f8b7",
   "outputs": [],
   "execution_count": 75
  },
  {
   "metadata": {
    "ExecuteTime": {
     "end_time": "2024-08-02T08:01:04.421443Z",
     "start_time": "2024-08-02T08:01:04.414465Z"
    }
   },
   "cell_type": "code",
   "source": [
    "node_feature_dim = 4\n",
    "node_to_one_hot = {\n",
    "    NodeType.PUBLICATION.value: F.one_hot(torch.tensor(0), node_feature_dim).type(torch.float32),\n",
    "    NodeType.ORGANIZATION.value: F.one_hot(torch.tensor(1), node_feature_dim).type(torch.float32),\n",
    "    NodeType.VENUE.value: F.one_hot(torch.tensor(2), node_feature_dim).type(torch.float32),\n",
    "}\n",
    "edge_feature_dim = 8\n",
    "edge_to_one_hot = {\n",
    "    PublicationEdge.AUTHOR.value: F.one_hot(torch.tensor(0), edge_feature_dim).type(torch.float32),\n",
    "    PublicationEdge.VENUE.value: F.one_hot(torch.tensor(1), edge_feature_dim).type(torch.float32),\n",
    "    AuthorEdge.ORGANIZATION.value: F.one_hot(torch.tensor(2), edge_feature_dim).type(torch.float32),\n",
    "    AuthorEdge.PUBLICATION.value: F.one_hot(torch.tensor(3), edge_feature_dim).type(torch.float32),\n",
    "    SimilarityEdge.SIM_ORG.value: F.one_hot(torch.tensor(4), edge_feature_dim).type(torch.float32),\n",
    "    SimilarityEdge.SIM_VENUE.value: F.one_hot(torch.tensor(5), edge_feature_dim).type(torch.float32),\n",
    "    SimilarityEdge.SIM_TITLE.value: F.one_hot(torch.tensor(6), edge_feature_dim).type(torch.float32)\n",
    "}\n",
    "\n",
    "def project_single(n):\n",
    "    return torch.hstack((node_to_one_hot[list(n.labels)[0]], torch.tensor(n['vec'])))\n",
    "\n",
    "def project_pub_title_and_abstract(nodes):\n",
    "    pass\n",
    "\n",
    "projection_map = {\n",
    "    NodeType.PUBLICATION.value: project_single,\n",
    "    NodeType.AUTHOR.value: lambda x: None,\n",
    "    NodeType.CO_AUTHOR.value: lambda x: None,\n",
    "    NodeType.ORGANIZATION.value: project_single,\n",
    "    NodeType.VENUE.value: project_single,\n",
    "    NodeType.TRUE_AUTHOR.value: lambda x: None\n",
    "}\n",
    "\n",
    "def convert_to_pyg(nodes, relationships):\n",
    "    # Create a mapping from Neo4j node IDs to consecutive integers\n",
    "    node_id_mapping = {}\n",
    "    node_features = []\n",
    "    node_index = 0\n",
    "    for n in nodes:\n",
    "        feature_vec = projection_map[list(n.labels)[0]](n)\n",
    "        if feature_vec is not None:\n",
    "            node_features.append(feature_vec)\n",
    "            node_id_mapping[n['id']] = node_index\n",
    "            node_index += 1\n",
    "    \n",
    "    if len(node_features) == 0:\n",
    "        return None\n",
    "    \n",
    "    x = torch.stack(node_features)\n",
    "\n",
    "    # Create edge index\n",
    "    edge_index = []\n",
    "    edge_features = []\n",
    "    for rel in relationships:\n",
    "        if rel.type not in edge_to_one_hot:\n",
    "            continue\n",
    "        if rel.start_node['id'] not in node_id_mapping or rel.end_node['id'] not in node_id_mapping:\n",
    "            continue\n",
    "            \n",
    "        source = node_id_mapping[rel.start_node['id']]\n",
    "        target = node_id_mapping[rel.end_node['id']]\n",
    "        edge_index.append([source, target])\n",
    "        edge_features.append(edge_to_one_hot[rel.type])\n",
    "    \n",
    "    if len(edge_index) == 0:\n",
    "        return None\n",
    "    \n",
    "    edge_index = torch.tensor(edge_index, dtype=torch.long).t().contiguous()\n",
    "\n",
    "    # Create PyTorch Geometric data object\n",
    "    return Data(x=x, edge_index=edge_index, edge_attr=torch.stack(edge_features))\n"
   ],
   "id": "a67f34b0e23727b4",
   "outputs": [],
   "execution_count": 76
  },
  {
   "metadata": {
    "ExecuteTime": {
     "end_time": "2024-08-02T08:01:04.435324Z",
     "start_time": "2024-08-02T08:01:04.422703Z"
    }
   },
   "cell_type": "code",
   "source": [
    "gat_embedding_dim = 32\n",
    "\n",
    "encoder = GATv2Encoder(\n",
    "    in_channels=node_feature_dim + 32,\n",
    "    out_channels=gat_embedding_dim,\n",
    "    edge_dim=edge_feature_dim,\n",
    "    add_self_loops=False\n",
    ")\n",
    "\n",
    "decoder = GATv2Decoder(\n",
    "    in_channels=gat_embedding_dim,\n",
    "    out_channels=node_feature_dim + 32\n",
    ")\n",
    "    "
   ],
   "id": "ed3057a530a365a0",
   "outputs": [],
   "execution_count": 77
  },
  {
   "metadata": {
    "ExecuteTime": {
     "end_time": "2024-08-02T08:01:04.439255Z",
     "start_time": "2024-08-02T08:01:04.436348Z"
    }
   },
   "cell_type": "code",
   "source": [
    "\n",
    "def train_gat(encoder, decoder, data, epochs=100, lr=0.01):\n",
    "    # Define the optimizer for the encoder and decoder\n",
    "    optimizer = optim.SGD(list(encoder.parameters()) + list(decoder.parameters()), lr=lr)\n",
    "    \n",
    "    # Define a loss function\n",
    "    criterion = torch.nn.MSELoss()\n",
    "\n",
    "    # Training loop\n",
    "    for epoch in range(epochs):\n",
    "        encoder.train()\n",
    "        decoder.train()\n",
    "\n",
    "        # Zero gradients\n",
    "        optimizer.zero_grad()\n",
    "\n",
    "        # Forward pass through the encoder\n",
    "        encoded_nodes = encoder(data.x, data.edge_index, data.edge_attr)\n",
    "\n",
    "        # Forward pass through the decoder\n",
    "        decoded_graph = decoder(encoded_nodes, data.edge_index, data.edge_attr)\n",
    "\n",
    "        # Compute loss (assuming your decoder returns node features to be compared with the original)\n",
    "        loss = criterion(decoded_graph, data.x)\n",
    "\n",
    "        # Backward pass\n",
    "        loss.backward()\n",
    "\n",
    "        # Optimize the parameters\n",
    "        optimizer.step()\n",
    "\n",
    "        # Print loss every 10 epochs\n",
    "        if epoch % 10 == 0:\n",
    "            print(f'Epoch {epoch}, Loss: {loss.item()}')\n",
    "    "
   ],
   "id": "94973859826544a",
   "outputs": [],
   "execution_count": 78
  },
  {
   "metadata": {
    "ExecuteTime": {
     "end_time": "2024-08-02T08:01:05.700333Z",
     "start_time": "2024-08-02T08:01:04.440059Z"
    }
   },
   "cell_type": "code",
   "source": [
    "for nodes in db.iter_nodes(NodeType.PUBLICATION, [\"id\"]):\n",
    "    for node in nodes:\n",
    "        nodes, rels = db.fetch_neighborhood(NodeType.PUBLICATION, node[\"id\"], 5)\n",
    "        data = convert_to_pyg(nodes, rels)\n",
    "        if data:\n",
    "            train_gat(encoder, decoder, data)"
   ],
   "id": "eeeaeb7eaecff2fa",
   "outputs": [
    {
     "name": "stdout",
     "output_type": "stream",
     "text": [
      "Epoch 0, Loss: 3.529656410217285\n",
      "Epoch 10, Loss: 2.7048017978668213\n",
      "Epoch 20, Loss: 1.817945122718811\n",
      "Epoch 30, Loss: 1.1770896911621094\n",
      "Epoch 40, Loss: 0.8790652751922607\n",
      "Epoch 50, Loss: 0.7660320401191711\n",
      "Epoch 60, Loss: 0.7253664135932922\n",
      "Epoch 70, Loss: 0.7102127075195312\n",
      "Epoch 80, Loss: 0.7038132548332214\n",
      "Epoch 90, Loss: 0.700435221195221\n",
      "Epoch 0, Loss: 1.5151829719543457\n",
      "Epoch 10, Loss: 0.8650241494178772\n",
      "Epoch 20, Loss: 0.5606831312179565\n",
      "Epoch 30, Loss: 0.43871623277664185\n",
      "Epoch 40, Loss: 0.39382728934288025\n",
      "Epoch 50, Loss: 0.37760454416275024\n",
      "Epoch 60, Loss: 0.3715980648994446\n",
      "Epoch 70, Loss: 0.36917877197265625\n",
      "Epoch 80, Loss: 0.3680095374584198\n",
      "Epoch 90, Loss: 0.36726468801498413\n",
      "Epoch 0, Loss: 1.8850826025009155\n",
      "Epoch 10, Loss: 1.0667037963867188\n",
      "Epoch 20, Loss: 0.9207552075386047\n",
      "Epoch 30, Loss: 0.8582070469856262\n",
      "Epoch 40, Loss: 0.8296349048614502\n",
      "Epoch 50, Loss: 0.8154789209365845\n",
      "Epoch 60, Loss: 0.8075219988822937\n",
      "Epoch 70, Loss: 0.8023483753204346\n",
      "Epoch 80, Loss: 0.7985009551048279\n",
      "Epoch 90, Loss: 0.7953366041183472\n",
      "Epoch 0, Loss: 1.2227976322174072\n",
      "Epoch 10, Loss: 0.7303951382637024\n",
      "Epoch 20, Loss: 0.5522348880767822\n",
      "Epoch 30, Loss: 0.4895126223564148\n",
      "Epoch 40, Loss: 0.46756336092948914\n",
      "Epoch 50, Loss: 0.459720641374588\n",
      "Epoch 60, Loss: 0.45672157406806946\n",
      "Epoch 70, Loss: 0.4553805887699127\n",
      "Epoch 80, Loss: 0.4546041488647461\n",
      "Epoch 90, Loss: 0.4540182948112488\n",
      "Epoch 0, Loss: 0.4758818447589874\n",
      "Epoch 10, Loss: 0.4383494257926941\n",
      "Epoch 20, Loss: 0.428043395280838\n",
      "Epoch 30, Loss: 0.4240851402282715\n",
      "Epoch 40, Loss: 0.42224347591400146\n",
      "Epoch 50, Loss: 0.42115113139152527\n",
      "Epoch 60, Loss: 0.4203309118747711\n",
      "Epoch 70, Loss: 0.41961368918418884\n",
      "Epoch 80, Loss: 0.41893908381462097\n",
      "Epoch 90, Loss: 0.4182843267917633\n",
      "Epoch 0, Loss: 5.773440361022949\n",
      "Epoch 10, Loss: 5.59438943862915\n",
      "Epoch 20, Loss: 5.404911041259766\n",
      "Epoch 30, Loss: 5.2008161544799805\n",
      "Epoch 40, Loss: 4.978446960449219\n",
      "Epoch 50, Loss: 4.735004901885986\n",
      "Epoch 60, Loss: 4.46921443939209\n",
      "Epoch 70, Loss: 4.182294845581055\n",
      "Epoch 80, Loss: 3.8790652751922607\n",
      "Epoch 90, Loss: 3.5686612129211426\n",
      "Epoch 0, Loss: 15.652023315429688\n",
      "Epoch 10, Loss: 2.259936809539795\n",
      "Epoch 20, Loss: 2.116846799850464\n",
      "Epoch 30, Loss: 1.9990946054458618\n",
      "Epoch 40, Loss: 1.8953337669372559\n",
      "Epoch 50, Loss: 1.8016177415847778\n",
      "Epoch 60, Loss: 1.7162344455718994\n",
      "Epoch 70, Loss: 1.638339877128601\n",
      "Epoch 80, Loss: 1.5674386024475098\n",
      "Epoch 90, Loss: 1.5031368732452393\n",
      "Epoch 0, Loss: 1.59553062915802\n",
      "Epoch 10, Loss: 1.5155917406082153\n",
      "Epoch 20, Loss: 1.4477214813232422\n",
      "Epoch 30, Loss: 1.389508605003357\n",
      "Epoch 40, Loss: 1.3393173217773438\n",
      "Epoch 50, Loss: 1.2959233522415161\n",
      "Epoch 60, Loss: 1.258338451385498\n",
      "Epoch 70, Loss: 1.225724697113037\n",
      "Epoch 80, Loss: 1.1973559856414795\n",
      "Epoch 90, Loss: 1.1725977659225464\n",
      "Epoch 0, Loss: 3.811234712600708\n",
      "Epoch 10, Loss: 3.530949592590332\n",
      "Epoch 20, Loss: 3.282623529434204\n",
      "Epoch 30, Loss: 3.063662528991699\n",
      "Epoch 40, Loss: 2.8713107109069824\n",
      "Epoch 50, Loss: 2.7021501064300537\n",
      "Epoch 60, Loss: 2.552241325378418\n",
      "Epoch 70, Loss: 2.417775869369507\n",
      "Epoch 80, Loss: 2.29537296295166\n",
      "Epoch 90, Loss: 2.182187080383301\n",
      "Epoch 0, Loss: 2.908352851867676\n",
      "Epoch 10, Loss: 2.4560885429382324\n",
      "Epoch 20, Loss: 2.138991355895996\n",
      "Epoch 30, Loss: 1.8887403011322021\n",
      "Epoch 40, Loss: 1.6805695295333862\n",
      "Epoch 50, Loss: 1.5038905143737793\n",
      "Epoch 60, Loss: 1.3531848192214966\n",
      "Epoch 70, Loss: 1.224822759628296\n",
      "Epoch 80, Loss: 1.1159261465072632\n",
      "Epoch 90, Loss: 1.0239646434783936\n",
      "Epoch 0, Loss: 2.8529279232025146\n",
      "Epoch 10, Loss: 2.423853635787964\n",
      "Epoch 20, Loss: 2.1110401153564453\n",
      "Epoch 30, Loss: 1.8593711853027344\n",
      "Epoch 40, Loss: 1.6492085456848145\n",
      "Epoch 50, Loss: 1.471629023551941\n",
      "Epoch 60, Loss: 1.3212497234344482\n",
      "Epoch 70, Loss: 1.1939761638641357\n",
      "Epoch 80, Loss: 1.0863083600997925\n",
      "Epoch 90, Loss: 0.9952042698860168\n",
      "Epoch 0, Loss: 5.063024520874023\n",
      "Epoch 10, Loss: 3.5426902770996094\n",
      "Epoch 20, Loss: 2.829944133758545\n",
      "Epoch 30, Loss: 2.400519847869873\n",
      "Epoch 40, Loss: 2.106790781021118\n",
      "Epoch 50, Loss: 1.88988196849823\n",
      "Epoch 60, Loss: 1.7212872505187988\n",
      "Epoch 70, Loss: 1.585423469543457\n",
      "Epoch 80, Loss: 1.473030924797058\n",
      "Epoch 90, Loss: 1.3782604932785034\n",
      "Epoch 0, Loss: 2.8554019927978516\n",
      "Epoch 10, Loss: 2.5358331203460693\n",
      "Epoch 20, Loss: 2.253340721130371\n",
      "Epoch 30, Loss: 2.011983633041382\n",
      "Epoch 40, Loss: 1.8104315996170044\n",
      "Epoch 50, Loss: 1.643192172050476\n",
      "Epoch 60, Loss: 1.5030333995819092\n",
      "Epoch 70, Loss: 1.3831168413162231\n",
      "Epoch 80, Loss: 1.2780885696411133\n",
      "Epoch 90, Loss: 1.1842460632324219\n",
      "Epoch 0, Loss: 9.472476959228516\n",
      "Epoch 10, Loss: 1.872180700302124\n",
      "Epoch 20, Loss: 1.5981909036636353\n",
      "Epoch 30, Loss: 1.4127933979034424\n",
      "Epoch 40, Loss: 1.266114592552185\n",
      "Epoch 50, Loss: 1.1488640308380127\n",
      "Epoch 60, Loss: 1.0556747913360596\n",
      "Epoch 70, Loss: 0.9819233417510986\n",
      "Epoch 80, Loss: 0.9235861897468567\n",
      "Epoch 90, Loss: 0.877250611782074\n"
     ]
    },
    {
     "ename": "RuntimeError",
     "evalue": "stack expects a non-empty TensorList",
     "output_type": "error",
     "traceback": [
      "\u001B[0;31m---------------------------------------------------------------------------\u001B[0m",
      "\u001B[0;31mRuntimeError\u001B[0m                              Traceback (most recent call last)",
      "Cell \u001B[0;32mIn[79], line 4\u001B[0m\n\u001B[1;32m      2\u001B[0m \u001B[38;5;28;01mfor\u001B[39;00m node \u001B[38;5;129;01min\u001B[39;00m nodes:\n\u001B[1;32m      3\u001B[0m     nodes, rels \u001B[38;5;241m=\u001B[39m db\u001B[38;5;241m.\u001B[39mfetch_neighborhood(NodeType\u001B[38;5;241m.\u001B[39mPUBLICATION, node[\u001B[38;5;124m\"\u001B[39m\u001B[38;5;124mid\u001B[39m\u001B[38;5;124m\"\u001B[39m], \u001B[38;5;241m5\u001B[39m)\n\u001B[0;32m----> 4\u001B[0m     data \u001B[38;5;241m=\u001B[39m \u001B[43mconvert_to_pyg\u001B[49m\u001B[43m(\u001B[49m\u001B[43mnodes\u001B[49m\u001B[43m,\u001B[49m\u001B[43m \u001B[49m\u001B[43mrels\u001B[49m\u001B[43m)\u001B[49m\n\u001B[1;32m      5\u001B[0m     \u001B[38;5;28;01mif\u001B[39;00m \u001B[38;5;28mlen\u001B[39m(data\u001B[38;5;241m.\u001B[39medge_attr) \u001B[38;5;241m==\u001B[39m \u001B[38;5;241m0\u001B[39m:\n\u001B[1;32m      6\u001B[0m         \u001B[38;5;28;01mcontinue\u001B[39;00m\n",
      "Cell \u001B[0;32mIn[76], line 64\u001B[0m, in \u001B[0;36mconvert_to_pyg\u001B[0;34m(nodes, relationships)\u001B[0m\n\u001B[1;32m     61\u001B[0m edge_index \u001B[38;5;241m=\u001B[39m torch\u001B[38;5;241m.\u001B[39mtensor(edge_index, dtype\u001B[38;5;241m=\u001B[39mtorch\u001B[38;5;241m.\u001B[39mlong)\u001B[38;5;241m.\u001B[39mt()\u001B[38;5;241m.\u001B[39mcontiguous()\n\u001B[1;32m     63\u001B[0m \u001B[38;5;66;03m# Create PyTorch Geometric data object\u001B[39;00m\n\u001B[0;32m---> 64\u001B[0m \u001B[38;5;28;01mreturn\u001B[39;00m Data(x\u001B[38;5;241m=\u001B[39mx, edge_index\u001B[38;5;241m=\u001B[39medge_index, edge_attr\u001B[38;5;241m=\u001B[39m\u001B[43mtorch\u001B[49m\u001B[38;5;241;43m.\u001B[39;49m\u001B[43mstack\u001B[49m\u001B[43m(\u001B[49m\u001B[43medge_features\u001B[49m\u001B[43m)\u001B[49m)\n",
      "\u001B[0;31mRuntimeError\u001B[0m: stack expects a non-empty TensorList"
     ]
    }
   ],
   "execution_count": 79
  },
  {
   "metadata": {},
   "cell_type": "code",
   "source": "",
   "id": "b7558e6dd806efab",
   "outputs": [],
   "execution_count": null
  }
 ],
 "metadata": {
  "kernelspec": {
   "display_name": "Python 3",
   "language": "python",
   "name": "python3"
  },
  "language_info": {
   "codemirror_mode": {
    "name": "ipython",
    "version": 2
   },
   "file_extension": ".py",
   "mimetype": "text/x-python",
   "name": "python",
   "nbconvert_exporter": "python",
   "pygments_lexer": "ipython2",
   "version": "2.7.6"
  }
 },
 "nbformat": 4,
 "nbformat_minor": 5
}
