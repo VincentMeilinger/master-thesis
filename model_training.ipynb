{
 "cells": [
  {
   "cell_type": "code",
   "id": "initial_id",
   "metadata": {
    "collapsed": true,
    "ExecuteTime": {
     "end_time": "2024-08-01T12:08:12.946431Z",
     "start_time": "2024-08-01T12:08:12.944561Z"
    }
   },
   "source": [
    "import torch\n",
    "import pandas as pd\n",
    "from graphdatascience import GraphDataScience\n",
    "from torch_geometric.data import Data\n",
    "import torch.nn.functional as F"
   ],
   "outputs": [],
   "execution_count": 86
  },
  {
   "metadata": {
    "ExecuteTime": {
     "end_time": "2024-08-01T12:08:12.968342Z",
     "start_time": "2024-08-01T12:08:12.952863Z"
    }
   },
   "cell_type": "code",
   "source": [
    "from src.shared.database_wrapper import DatabaseWrapper\n",
    "from src.model.GAT.gat_encoder import GATEncoder\n",
    "from src.model.GAT.gat_decoder import GATDecoder\n",
    "from src.shared.graph_schema import NodeType, EdgeType, AuthorEdge, PublicationEdge"
   ],
   "id": "8a937f5fe8ae9688",
   "outputs": [],
   "execution_count": 87
  },
  {
   "metadata": {
    "ExecuteTime": {
     "end_time": "2024-08-01T12:08:12.983698Z",
     "start_time": "2024-08-01T12:08:12.968965Z"
    }
   },
   "cell_type": "code",
   "source": "db = DatabaseWrapper()",
   "id": "febc40d036c72c46",
   "outputs": [
    {
     "name": "stderr",
     "output_type": "stream",
     "text": [
      "2024-08-01 14:08:12,977 - DatabaseWrapper - INFO - Connecting to the database ...\n",
      "2024-08-01 14:08:12,982 - DatabaseWrapper - INFO - Database ready.\n"
     ]
    }
   ],
   "execution_count": 88
  },
  {
   "metadata": {
    "ExecuteTime": {
     "end_time": "2024-08-01T12:08:12.985461Z",
     "start_time": "2024-08-01T12:08:12.984302Z"
    }
   },
   "cell_type": "code",
   "source": "",
   "id": "9f162f462477f8b7",
   "outputs": [],
   "execution_count": 88
  },
  {
   "metadata": {
    "ExecuteTime": {
     "end_time": "2024-08-01T12:08:12.996349Z",
     "start_time": "2024-08-01T12:08:12.986133Z"
    }
   },
   "cell_type": "code",
   "source": [
    "node_feature_dim = 8\n",
    "node_to_one_hot = {\n",
    "    NodeType.PUBLICATION.value: F.one_hot(torch.tensor(0), node_feature_dim),\n",
    "    NodeType.AUTHOR.value: F.one_hot(torch.tensor(1), node_feature_dim),\n",
    "    NodeType.CO_AUTHOR.value: F.one_hot(torch.tensor(2), node_feature_dim),\n",
    "    NodeType.ORGANIZATION.value: F.one_hot(torch.tensor(3), node_feature_dim),\n",
    "    NodeType.VENUE.value: F.one_hot(torch.tensor(4), node_feature_dim),\n",
    "}\n",
    "edge_feature_dim = 8\n",
    "edge_to_one_hot = {\n",
    "    PublicationEdge.AUTHOR: F.one_hot(torch.tensor(0), edge_feature_dim),\n",
    "    PublicationEdge.VENUE: F.one_hot(torch.tensor(1), edge_feature_dim),\n",
    "    AuthorEdge.ORGANIZATION: F.one_hot(torch.tensor(2), edge_feature_dim),\n",
    "    AuthorEdge.PUBLICATION: F.one_hot(torch.tensor(3), edge_feature_dim),\n",
    "}\n",
    "\n",
    "def project_single(n):\n",
    "    return torch.hstack((node_to_one_hot[list(n.labels)[0]], torch.tensor(n['vec'])))\n",
    "\n",
    "def project_pub_title_and_abstract(nodes):\n",
    "    pass\n",
    "\n",
    "projection_map = {\n",
    "    NodeType.PUBLICATION.value: project_single,\n",
    "    NodeType.AUTHOR.value: lambda x: None,\n",
    "    NodeType.CO_AUTHOR.value: lambda x: None,\n",
    "    NodeType.ORGANIZATION.value: project_single,\n",
    "    NodeType.VENUE.value: project_single\n",
    "}\n",
    "\n",
    "def convert_to_pyg(nodes, relationships):\n",
    "    # Create a mapping from Neo4j node IDs to consecutive integers\n",
    "    node_id_mapping = {}\n",
    "    node_features = []\n",
    "    for i, n in enumerate(nodes):\n",
    "        print(n.labels)\n",
    "        feature_vec = projection_map[list(n.labels)[0]](n)\n",
    "        if feature_vec is not None:\n",
    "            node_features.append(feature_vec)\n",
    "            node_id_mapping[n['id']] = i\n",
    "            \n",
    "    x = torch.stack(node_features)\n",
    "\n",
    "    # Create edge index\n",
    "    edge_index = []\n",
    "    edge_features = []\n",
    "    for rel in relationships:\n",
    "        if list(rel.labels)[0] not in edge_to_one_hot:\n",
    "            continue\n",
    "        if rel.start_node['id'] not in node_id_mapping or rel.end_node['id'] not in node_id_mapping:\n",
    "            continue\n",
    "        source = node_id_mapping[rel.start_node['id']]\n",
    "        target = node_id_mapping[rel.end_node['id']]\n",
    "        edge_index.append([source, target])\n",
    "        edge_features.append(edge_to_one_hot[list(rel.labels)[0]])\n",
    "\n",
    "    edge_index = torch.tensor(edge_index, dtype=torch.long).t().contiguous()\n",
    "\n",
    "    # Create PyTorch Geometric data object\n",
    "    return Data(x=x, edge_index=edge_index, edge_attr=torch.stack(edge_features))\n"
   ],
   "id": "a67f34b0e23727b4",
   "outputs": [],
   "execution_count": 89
  },
  {
   "metadata": {
    "ExecuteTime": {
     "end_time": "2024-08-01T12:08:13.010817Z",
     "start_time": "2024-08-01T12:08:12.996819Z"
    }
   },
   "cell_type": "code",
   "source": [
    "encoder = GATEncoder(\n",
    "    node_feature_dim=node_feature_dim + 32, \n",
    "    edge_feature_dim=edge_feature_dim, \n",
    "    embedding_dim=32\n",
    ")\n",
    "\n",
    "decoder = GATDecoder(\n",
    "    num_features=node_feature_dim + 32, \n",
    "    num_edge_features=edge_feature_dim, \n",
    "    embedding_dim=32, \n",
    "    num_node_types=len(node_to_one_hot.keys()), \n",
    "    num_edge_types=len(edge_to_one_hot.keys())\n",
    ")\n",
    "\n",
    "def train_gat(model, data):\n",
    "    "
   ],
   "id": "94973859826544a",
   "outputs": [
    {
     "ename": "IndentationError",
     "evalue": "expected an indented block (4001040235.py, line 3)",
     "output_type": "error",
     "traceback": [
      "\u001B[0;36m  Cell \u001B[0;32mIn[90], line 3\u001B[0;36m\u001B[0m\n\u001B[0;31m    \u001B[0m\n\u001B[0m    ^\u001B[0m\n\u001B[0;31mIndentationError\u001B[0m\u001B[0;31m:\u001B[0m expected an indented block\n"
     ]
    }
   ],
   "execution_count": 90
  },
  {
   "metadata": {
    "ExecuteTime": {
     "end_time": "2024-08-01T12:08:13.011480Z",
     "start_time": "2024-08-01T12:08:13.011423Z"
    }
   },
   "cell_type": "code",
   "source": [
    "for nodes in db.iter_nodes(NodeType.PUBLICATION, [\"id\"]):\n",
    "    for node in nodes:\n",
    "        nodes, rels = db.fetch_neighborhood(NodeType.PUBLICATION, node[\"id\"], 5)\n",
    "        data = convert_to_pyg(nodes, rels)\n",
    "        break"
   ],
   "id": "7691662e05a7fce7",
   "outputs": [],
   "execution_count": null
  },
  {
   "metadata": {},
   "cell_type": "code",
   "source": "",
   "id": "eeeaeb7eaecff2fa",
   "outputs": [],
   "execution_count": null
  }
 ],
 "metadata": {
  "kernelspec": {
   "display_name": "Python 3",
   "language": "python",
   "name": "python3"
  },
  "language_info": {
   "codemirror_mode": {
    "name": "ipython",
    "version": 2
   },
   "file_extension": ".py",
   "mimetype": "text/x-python",
   "name": "python",
   "nbconvert_exporter": "python",
   "pygments_lexer": "ipython2",
   "version": "2.7.6"
  }
 },
 "nbformat": 4,
 "nbformat_minor": 5
}
