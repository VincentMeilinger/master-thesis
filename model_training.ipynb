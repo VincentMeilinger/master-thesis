{
 "cells": [
  {
   "cell_type": "code",
   "id": "initial_id",
   "metadata": {
    "collapsed": true,
    "ExecuteTime": {
     "end_time": "2024-07-29T14:49:13.071761Z",
     "start_time": "2024-07-29T14:49:13.068035Z"
    }
   },
   "source": [
    "import torch\n",
    "import pandas as pd\n",
    "from graphdatascience import GraphDataScience\n",
    "from torch_geometric.data import Data\n",
    "import torch.nn.functional as F"
   ],
   "outputs": [],
   "execution_count": 162
  },
  {
   "metadata": {
    "ExecuteTime": {
     "end_time": "2024-07-29T14:49:13.077176Z",
     "start_time": "2024-07-29T14:49:13.074606Z"
    }
   },
   "cell_type": "code",
   "source": [
    "from src.shared.database_wrapper import DatabaseWrapper\n",
    "from src.model.GAT.gat_encoder import GATEncoder\n",
    "from src.model.GAT.gat_decoder import GATDecoder\n",
    "from src.shared.graph_schema import NodeType, EdgeType, AuthorEdge, PublicationEdge"
   ],
   "id": "8a937f5fe8ae9688",
   "outputs": [],
   "execution_count": 163
  },
  {
   "metadata": {
    "ExecuteTime": {
     "end_time": "2024-07-29T14:49:13.109787Z",
     "start_time": "2024-07-29T14:49:13.078348Z"
    }
   },
   "cell_type": "code",
   "source": "db = DatabaseWrapper()",
   "id": "febc40d036c72c46",
   "outputs": [
    {
     "name": "stderr",
     "output_type": "stream",
     "text": [
      "2024-07-29 16:49:13,078 - DatabaseWrapper - INFO - Connecting to the database ...\n",
      "2024-07-29 16:49:13,107 - DatabaseWrapper - INFO - Database ready.\n"
     ]
    }
   ],
   "execution_count": 164
  },
  {
   "metadata": {
    "ExecuteTime": {
     "end_time": "2024-07-29T14:49:13.116929Z",
     "start_time": "2024-07-29T14:49:13.111151Z"
    }
   },
   "cell_type": "code",
   "source": [
    "node_to_one_hot = {\n",
    "    NodeType.PUBLICATION.value: F.one_hot(torch.tensor(0), 7),\n",
    "    NodeType.AUTHOR.value: F.one_hot(torch.tensor(1), 7),\n",
    "    NodeType.CO_AUTHOR.value: F.one_hot(torch.tensor(2), 7),\n",
    "    NodeType.ORGANIZATION.value: F.one_hot(torch.tensor(3), 7),\n",
    "    NodeType.VENUE.value: F.one_hot(torch.tensor(4), 7)\n",
    "}\n",
    "def project_single(n):\n",
    "    return torch.vstack((node_to_one_hot[n.labels], torch.tensor(n['vec'])))\n",
    "\n",
    "def project_pub_title_and_abstract(nodes):\n",
    "    pass\n",
    "\n",
    "projection_map = {\n",
    "    NodeType.PUBLICATION.value: project_single,\n",
    "    NodeType.AUTHOR.value: project_single,\n",
    "    NodeType.CO_AUTHOR.value: project_single,\n",
    "    NodeType.ORGANIZATION.value: project_single,\n",
    "    NodeType.VENUE.value: project_single\n",
    "}\n",
    "\n",
    "def convert_to_pyg(nodes, relationships):\n",
    "    # Create a mapping from Neo4j node IDs to consecutive integers\n",
    "    node_id_mapping = {node['id']: i for i, node in enumerate(nodes)}\n",
    "    for n in nodes:\n",
    "        print(list(n.labels)[0])\n",
    "        print(projection_map[list(n.labels)[0]](n))\n",
    "    node_features = [projection_map[list(n.labels)[0]](n) for n in nodes]\n",
    "\n",
    "    x = torch.tensor(node_features, dtype=torch.float)\n",
    "\n",
    "    # Create edge index\n",
    "    edge_index = []\n",
    "    for rel in relationships:\n",
    "        source = node_id_mapping[rel.start_node.id]\n",
    "        target = node_id_mapping[rel.end_node.id]\n",
    "        edge_index.append([source, target])\n",
    "\n",
    "    edge_index = torch.tensor(edge_index, dtype=torch.long).t().contiguous()\n",
    "\n",
    "    # Create PyTorch Geometric data object\n",
    "    data = Data(x=x, edge_index=edge_index)\n",
    "\n",
    "    return data\n"
   ],
   "id": "a67f34b0e23727b4",
   "outputs": [],
   "execution_count": 165
  },
  {
   "metadata": {
    "ExecuteTime": {
     "end_time": "2024-07-29T14:49:13.120174Z",
     "start_time": "2024-07-29T14:49:13.117702Z"
    }
   },
   "cell_type": "code",
   "source": [
    "\"\"\"for nodes in db.iter_nodes(NodeType.PUBLICATION, [\"id\"]):\n",
    "    for node in nodes:\n",
    "        nodes, rels = db.fetch_neighborhood(NodeType.PUBLICATION, node[\"id\"], 5)\n",
    "        for n in nodes:\n",
    "            print(n)\n",
    "            #print(n.labels, 'Publication' in n.labels)\n",
    "        print(\"\")\n",
    "        for rel in rels:\n",
    "            print(rel)\n",
    "        break\n",
    "\"\"\"\n"
   ],
   "id": "94973859826544a",
   "outputs": [
    {
     "data": {
      "text/plain": [
       "'for nodes in db.iter_nodes(NodeType.PUBLICATION, [\"id\"]):\\n    for node in nodes:\\n        nodes, rels = db.fetch_neighborhood(NodeType.PUBLICATION, node[\"id\"], 5)\\n        for n in nodes:\\n            print(n)\\n            #print(n.labels, \\'Publication\\' in n.labels)\\n        print(\"\")\\n        for rel in rels:\\n            print(rel)\\n        break\\n'"
      ]
     },
     "execution_count": 166,
     "metadata": {},
     "output_type": "execute_result"
    }
   ],
   "execution_count": 166
  },
  {
   "metadata": {
    "ExecuteTime": {
     "end_time": "2024-07-29T14:49:13.180870Z",
     "start_time": "2024-07-29T14:49:13.121744Z"
    }
   },
   "cell_type": "code",
   "source": [
    "for nodes in db.iter_nodes(NodeType.PUBLICATION, [\"id\"]):\n",
    "    for node in nodes:\n",
    "        nodes, rels = db.fetch_neighborhood(NodeType.PUBLICATION, node[\"id\"], 5)\n",
    "        data = convert_to_pyg(nodes, rels)\n",
    "        print(data)"
   ],
   "id": "7691662e05a7fce7",
   "outputs": [
    {
     "name": "stdout",
     "output_type": "stream",
     "text": [
      "Publication\n"
     ]
    },
    {
     "ename": "KeyError",
     "evalue": "frozenset({'Publication'})",
     "output_type": "error",
     "traceback": [
      "\u001B[0;31m---------------------------------------------------------------------------\u001B[0m",
      "\u001B[0;31mKeyError\u001B[0m                                  Traceback (most recent call last)",
      "Cell \u001B[0;32mIn[167], line 4\u001B[0m\n\u001B[1;32m      2\u001B[0m \u001B[38;5;28;01mfor\u001B[39;00m node \u001B[38;5;129;01min\u001B[39;00m nodes:\n\u001B[1;32m      3\u001B[0m     nodes, rels \u001B[38;5;241m=\u001B[39m db\u001B[38;5;241m.\u001B[39mfetch_neighborhood(NodeType\u001B[38;5;241m.\u001B[39mPUBLICATION, node[\u001B[38;5;124m\"\u001B[39m\u001B[38;5;124mid\u001B[39m\u001B[38;5;124m\"\u001B[39m], \u001B[38;5;241m5\u001B[39m)\n\u001B[0;32m----> 4\u001B[0m     data \u001B[38;5;241m=\u001B[39m \u001B[43mconvert_to_pyg\u001B[49m\u001B[43m(\u001B[49m\u001B[43mnodes\u001B[49m\u001B[43m,\u001B[49m\u001B[43m \u001B[49m\u001B[43mrels\u001B[49m\u001B[43m)\u001B[49m\n\u001B[1;32m      5\u001B[0m     \u001B[38;5;28mprint\u001B[39m(data)\n",
      "Cell \u001B[0;32mIn[165], line 27\u001B[0m, in \u001B[0;36mconvert_to_pyg\u001B[0;34m(nodes, relationships)\u001B[0m\n\u001B[1;32m     25\u001B[0m \u001B[38;5;28;01mfor\u001B[39;00m n \u001B[38;5;129;01min\u001B[39;00m nodes:\n\u001B[1;32m     26\u001B[0m     \u001B[38;5;28mprint\u001B[39m(\u001B[38;5;28mlist\u001B[39m(n\u001B[38;5;241m.\u001B[39mlabels)[\u001B[38;5;241m0\u001B[39m])\n\u001B[0;32m---> 27\u001B[0m     \u001B[38;5;28mprint\u001B[39m(\u001B[43mprojection_map\u001B[49m\u001B[43m[\u001B[49m\u001B[38;5;28;43mlist\u001B[39;49m\u001B[43m(\u001B[49m\u001B[43mn\u001B[49m\u001B[38;5;241;43m.\u001B[39;49m\u001B[43mlabels\u001B[49m\u001B[43m)\u001B[49m\u001B[43m[\u001B[49m\u001B[38;5;241;43m0\u001B[39;49m\u001B[43m]\u001B[49m\u001B[43m]\u001B[49m\u001B[43m(\u001B[49m\u001B[43mn\u001B[49m\u001B[43m)\u001B[49m)\n\u001B[1;32m     28\u001B[0m node_features \u001B[38;5;241m=\u001B[39m [projection_map[\u001B[38;5;28mlist\u001B[39m(n\u001B[38;5;241m.\u001B[39mlabels)[\u001B[38;5;241m0\u001B[39m]](n) \u001B[38;5;28;01mfor\u001B[39;00m n \u001B[38;5;129;01min\u001B[39;00m nodes]\n\u001B[1;32m     30\u001B[0m x \u001B[38;5;241m=\u001B[39m torch\u001B[38;5;241m.\u001B[39mtensor(node_features, dtype\u001B[38;5;241m=\u001B[39mtorch\u001B[38;5;241m.\u001B[39mfloat)\n",
      "Cell \u001B[0;32mIn[165], line 9\u001B[0m, in \u001B[0;36mproject_single\u001B[0;34m(n)\u001B[0m\n\u001B[1;32m      8\u001B[0m \u001B[38;5;28;01mdef\u001B[39;00m \u001B[38;5;21mproject_single\u001B[39m(n):\n\u001B[0;32m----> 9\u001B[0m     \u001B[38;5;28;01mreturn\u001B[39;00m torch\u001B[38;5;241m.\u001B[39mvstack((\u001B[43mnode_to_one_hot\u001B[49m\u001B[43m[\u001B[49m\u001B[43mn\u001B[49m\u001B[38;5;241;43m.\u001B[39;49m\u001B[43mlabels\u001B[49m\u001B[43m]\u001B[49m, torch\u001B[38;5;241m.\u001B[39mtensor(n\u001B[38;5;241m.\u001B[39mproperties[\u001B[38;5;124m'\u001B[39m\u001B[38;5;124mvec\u001B[39m\u001B[38;5;124m'\u001B[39m])))\n",
      "\u001B[0;31mKeyError\u001B[0m: frozenset({'Publication'})"
     ]
    }
   ],
   "execution_count": 167
  },
  {
   "metadata": {},
   "cell_type": "code",
   "source": "",
   "id": "eeeaeb7eaecff2fa",
   "outputs": [],
   "execution_count": null
  }
 ],
 "metadata": {
  "kernelspec": {
   "display_name": "Python 3",
   "language": "python",
   "name": "python3"
  },
  "language_info": {
   "codemirror_mode": {
    "name": "ipython",
    "version": 2
   },
   "file_extension": ".py",
   "mimetype": "text/x-python",
   "name": "python",
   "nbconvert_exporter": "python",
   "pygments_lexer": "ipython2",
   "version": "2.7.6"
  }
 },
 "nbformat": 4,
 "nbformat_minor": 5
}
