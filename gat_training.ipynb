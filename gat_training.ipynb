{
 "cells": [
  {
   "cell_type": "code",
   "id": "initial_id",
   "metadata": {
    "collapsed": true
   },
   "source": [
    "import os\n",
    "import pandas as pd\n",
    "from graphdatascience import GraphDataScience\n",
    "import torch\n",
    "import torch.optim as optim\n",
    "import torch.nn.functional as F\n",
    "from torch_geometric.data import Data\n",
    "from torch_geometric.nn import GCNConv\n",
    "from torch_geometric.transforms import RandomNodeSplit\n",
    "import random\n",
    "import numpy as np\n",
    "\n",
    "from src.shared.database_wrapper import DatabaseWrapper\n",
    "from src.model.GAT.gat_encoder import GATv2Encoder\n",
    "from src.model.GAT.gat_decoder import GATv2Decoder\n",
    "from src.shared.graph_schema import NodeType, EdgeType, node_one_hot, edge_one_hot\n",
    "from src.shared import config"
   ],
   "outputs": [],
   "execution_count": null
  },
  {
   "metadata": {},
   "cell_type": "code",
   "source": [
    "# Set seeds for consistent results\n",
    "random.seed(42)\n",
    "np.random.seed(42)\n",
    "torch.manual_seed(42)\n",
    "torch.cuda.manual_seed_all(42)"
   ],
   "id": "34d4e50c8527556",
   "outputs": [],
   "execution_count": null
  },
  {
   "metadata": {},
   "cell_type": "code",
   "source": [
    "#def project_single(n):\n",
    "#    return torch.hstack((node_to_one_hot[list(n.labels)[0]], torch.tensor(n['vec'])))\n",
    "\n"
   ],
   "id": "6dd88166a730e567",
   "outputs": [],
   "execution_count": null
  },
  {
   "metadata": {},
   "cell_type": "code",
   "source": [
    "auth = (config.DB_USER, config.DB_PASSWORD)\n",
    "gds = GraphDataScience(config.DB_URI, auth=auth)"
   ],
   "id": "ce9692a8cc8906ff",
   "outputs": [],
   "execution_count": null
  },
  {
   "metadata": {},
   "cell_type": "code",
   "source": [
    "included_nodes = [\n",
    "    NodeType.PUBLICATION, \n",
    "    NodeType.VENUE, \n",
    "    NodeType.ORGANIZATION\n",
    "]\n",
    "included_edges = [\n",
    "    EdgeType.PUB_VENUE, \n",
    "    EdgeType.PUB_ORG, \n",
    "    EdgeType.SIM_VENUE,\n",
    "    EdgeType.SIM_ORG,\n",
    "    EdgeType.ORG_PUB, \n",
    "    EdgeType.VENUE_PUB\n",
    "]\n",
    "\n",
    "node_spec = [node_type.value for node_type in included_nodes]\n",
    "relationship_spec = [edge_type.value for edge_type in included_edges]\n",
    "print(node_spec)\n",
    "print(relationship_spec)"
   ],
   "id": "6b29563150b972f2",
   "outputs": [],
   "execution_count": null
  },
  {
   "metadata": {},
   "cell_type": "code",
   "source": [
    "gds.graph.drop('graph_sample')\n",
    "G, _ = gds.graph.project(\n",
    "    graph_name='graph_sample',\n",
    "    node_spec=node_spec,\n",
    "    relationship_spec=relationship_spec,\n",
    "    nodeProperties=['vec']\n",
    ")\n",
    "print(G)"
   ],
   "id": "605c78f70d5188e9",
   "outputs": [],
   "execution_count": null
  },
  {
   "metadata": {},
   "cell_type": "code",
   "source": [
    "configuration = {\n",
    "    \"concurrency\": 1,\n",
    "    \"randomSeed\": 42,\n",
    "    #\"start_nodes\": [node['id']],\n",
    "}\n",
    "gds.graph.drop(\"graph_rwr\")\n",
    "G_sample, _ = gds.graph.sample.rwr(\"graph_rwr\", G, configuration=configuration)\n",
    "sample_topology_df = gds.beta.graph.relationships.stream(G_sample)\n",
    "display(sample_topology_df)"
   ],
   "id": "d6ea17d6b9cb37c6",
   "outputs": [],
   "execution_count": null
  },
  {
   "metadata": {},
   "cell_type": "code",
   "source": [
    "sample_node_properties = gds.graph.nodeProperties.stream(\n",
    "    G_sample,\n",
    "    node_properties=[\"vec\"],\n",
    "    node_labels=[\"*\"],\n",
    "    separate_property_columns=True,\n",
    "    listNodeLabels=True\n",
    ")\n",
    "display(sample_node_properties)"
   ],
   "id": "9a77ba462c5aa0d6",
   "outputs": [],
   "execution_count": null
  },
  {
   "metadata": {},
   "cell_type": "code",
   "source": [
    "# Map neo4j node ids to PyG node indices\n",
    "sample_topology = sample_topology_df.by_rel_type()\n",
    "#print(sample_topology)"
   ],
   "id": "20f32d89489cc6fb",
   "outputs": [],
   "execution_count": null
  },
  {
   "metadata": {},
   "cell_type": "code",
   "source": [
    "def normalize_topology(new_idx_to_old, topology):\n",
    "    # Reverse index mapping based on new idx -> old idx\n",
    "    old_idx_to_new = dict((v, k) for k, v in new_idx_to_old.items())\n",
    "    return {rel_type: [[old_idx_to_new[node_id] for node_id in nodes] for nodes in topology] for rel_type, topology in topology.items()}\n",
    "\n",
    "def create_edge_index(topology):\n",
    "    edge_index = []\n",
    "    edge_features = []\n",
    "    for rel_type, nodes in topology.items():\n",
    "        src_nodes, dst_nodes = nodes\n",
    "        edges = torch.tensor([src_nodes, dst_nodes], dtype=torch.long)\n",
    "        edge_index.append(edges)\n",
    "        edge_feature_vec = edge_one_hot[rel_type]\n",
    "        edge_features.extend([edge_feature_vec for _ in range(len(src_nodes))])\n",
    "    return torch.cat(edge_index, dim=1), torch.vstack(edge_features) # TODO: REMOVE .t() and .contiguous() if not needed\n",
    "\n",
    "\n",
    "normalized_topology = normalize_topology(dict(sample_node_properties[\"nodeId\"]), sample_topology)\n",
    "edge_index, edge_features = create_edge_index(normalized_topology)\n",
    "\n",
    "display(edge_index)\n",
    "display(edge_features)"
   ],
   "id": "553348f445924f77",
   "outputs": [],
   "execution_count": null
  },
  {
   "metadata": {},
   "cell_type": "code",
   "source": [
    "def project_node_embeddings(node_df):\n",
    "    def stack_one_hot(row):\n",
    "        one_hot_enc = node_one_hot[row[\"nodeLabels\"][0]]\n",
    "        return torch.hstack((one_hot_enc, torch.tensor(row[\"vec\"])))\n",
    "    return node_df.apply(stack_one_hot, axis=1)\n",
    "\n",
    "sample_node_properties[\"vec_projected\"] = project_node_embeddings(sample_node_properties)\n",
    "node_features = torch.vstack(sample_node_properties[\"vec_projected\"].tolist())\n",
    "\n",
    "display(sample_node_properties)\n",
    "display(node_features)"
   ],
   "id": "1a4c57d638c7daac",
   "outputs": [],
   "execution_count": null
  },
  {
   "metadata": {},
   "cell_type": "code",
   "source": [
    "node_feature_dim = sample_node_properties[\"vec_projected\"][0].shape[0]\n",
    "edge_feature_dim = edge_features[0].shape[0]\n",
    "gat_embedding_dim = 32\n",
    "\n",
    "encoder = GATv2Encoder(\n",
    "    in_channels=node_feature_dim,\n",
    "    out_channels=gat_embedding_dim,\n",
    "    edge_dim=edge_feature_dim,\n",
    "    add_self_loops=False\n",
    ")\n",
    "\n",
    "decoder = GATv2Decoder(\n",
    "    in_channels=gat_embedding_dim,\n",
    "    out_channels=node_feature_dim\n",
    ")"
   ],
   "id": "9d84f09b94271a13",
   "outputs": [],
   "execution_count": null
  },
  {
   "metadata": {},
   "cell_type": "code",
   "source": [
    "def train_gat(encoder, decoder, data, epochs=1000, lr=0.01):\n",
    "    # Define the optimizer for the encoder and decoder\n",
    "    optimizer = optim.SGD(list(encoder.parameters()) + list(decoder.parameters()), lr=lr)\n",
    "    \n",
    "    # Define a loss function\n",
    "    criterion = torch.nn.MSELoss()\n",
    "\n",
    "    # Training loop\n",
    "    for epoch in range(epochs):\n",
    "        encoder.train()\n",
    "        decoder.train()\n",
    "\n",
    "        # Zero gradients\n",
    "        optimizer.zero_grad()\n",
    "\n",
    "        # Forward pass through the encoder\n",
    "        encoded_nodes = encoder(data.x, data.edge_index, data.edge_attr)\n",
    "\n",
    "        # Forward pass through the decoder\n",
    "        decoded_graph = decoder(encoded_nodes, data.edge_index, data.edge_attr)\n",
    "\n",
    "        # Compute loss (assuming your decoder returns node features to be compared with the original)\n",
    "        loss = criterion(decoded_graph, data.x)\n",
    "\n",
    "        # Backward pass\n",
    "        loss.backward()\n",
    "\n",
    "        # Optimize the parameters\n",
    "        optimizer.step()\n",
    "\n",
    "        # Print loss every 10 epochs\n",
    "        if epoch % 10 == 0:\n",
    "            print(f'Epoch {epoch}, Loss: {loss.item()}')"
   ],
   "id": "f87e0e99daa2e1b2",
   "outputs": [],
   "execution_count": null
  },
  {
   "metadata": {},
   "cell_type": "code",
   "source": [
    "data = Data(\n",
    "    x=node_features,\n",
    "    edge_index=edge_index,\n",
    "    edge_attr=edge_features\n",
    ")\n",
    "\n",
    "train_gat(encoder, decoder, data)"
   ],
   "id": "f406175f3d4eef42",
   "outputs": [],
   "execution_count": null
  },
  {
   "metadata": {},
   "cell_type": "code",
   "source": [
    "# Save the model\n",
    "torch.save(encoder.state_dict(), './data/models/gat_encoder.pth')"
   ],
   "id": "bf67d6a0cacf8285",
   "outputs": [],
   "execution_count": null
  },
  {
   "metadata": {},
   "cell_type": "code",
   "source": [
    "_ = G_sample.drop()\n",
    "_ = G.drop()"
   ],
   "id": "45f33503c00db1db",
   "outputs": [],
   "execution_count": null
  },
  {
   "metadata": {},
   "cell_type": "code",
   "source": "",
   "id": "5721de0f195d22e0",
   "outputs": [],
   "execution_count": null
  }
 ],
 "metadata": {
  "kernelspec": {
   "display_name": "Python 3",
   "language": "python",
   "name": "python3"
  },
  "language_info": {
   "codemirror_mode": {
    "name": "ipython",
    "version": 2
   },
   "file_extension": ".py",
   "mimetype": "text/x-python",
   "name": "python",
   "nbconvert_exporter": "python",
   "pygments_lexer": "ipython2",
   "version": "2.7.6"
  }
 },
 "nbformat": 4,
 "nbformat_minor": 5
}
