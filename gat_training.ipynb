{
 "cells": [
  {
   "cell_type": "code",
   "id": "initial_id",
   "metadata": {
    "collapsed": true,
    "ExecuteTime": {
     "end_time": "2024-08-03T08:54:30.332708Z",
     "start_time": "2024-08-03T08:54:30.330217Z"
    }
   },
   "source": [
    "import os\n",
    "import pandas as pd\n",
    "from graphdatascience import GraphDataScience\n",
    "import torch\n",
    "import torch.optim as optim\n",
    "import torch.nn.functional as F\n",
    "from torch_geometric.data import Data\n",
    "from torch_geometric.nn import GCNConv\n",
    "from torch_geometric.transforms import RandomNodeSplit\n",
    "import random\n",
    "import numpy as np\n",
    "\n",
    "from src.shared.database_wrapper import DatabaseWrapper\n",
    "from src.model.GAT.gat_encoder import GATv2Encoder\n",
    "from src.model.GAT.gat_decoder import GATv2Decoder\n",
    "from src.shared.graph_schema import NodeType, EdgeType, node_one_hot, edge_one_hot\n",
    "from src.shared import config"
   ],
   "outputs": [],
   "execution_count": 102
  },
  {
   "metadata": {
    "ExecuteTime": {
     "end_time": "2024-08-03T08:54:30.348246Z",
     "start_time": "2024-08-03T08:54:30.345603Z"
    }
   },
   "cell_type": "code",
   "source": [
    "# Set seeds for consistent results\n",
    "random.seed(42)\n",
    "np.random.seed(42)\n",
    "torch.manual_seed(42)\n",
    "torch.cuda.manual_seed_all(42)"
   ],
   "id": "34d4e50c8527556",
   "outputs": [],
   "execution_count": 103
  },
  {
   "metadata": {
    "ExecuteTime": {
     "end_time": "2024-08-03T08:54:30.362457Z",
     "start_time": "2024-08-03T08:54:30.348926Z"
    }
   },
   "cell_type": "code",
   "source": [
    "#def project_single(n):\n",
    "#    return torch.hstack((node_to_one_hot[list(n.labels)[0]], torch.tensor(n['vec'])))\n",
    "\n"
   ],
   "id": "6dd88166a730e567",
   "outputs": [],
   "execution_count": 104
  },
  {
   "metadata": {
    "ExecuteTime": {
     "end_time": "2024-08-03T08:54:30.376783Z",
     "start_time": "2024-08-03T08:54:30.362926Z"
    }
   },
   "cell_type": "code",
   "source": [
    "auth = (config.DB_USER, config.DB_PASSWORD)\n",
    "gds = GraphDataScience(config.DB_URI, auth=auth)"
   ],
   "id": "ce9692a8cc8906ff",
   "outputs": [],
   "execution_count": 105
  },
  {
   "metadata": {
    "ExecuteTime": {
     "end_time": "2024-08-03T08:54:30.389198Z",
     "start_time": "2024-08-03T08:54:30.377476Z"
    }
   },
   "cell_type": "code",
   "source": [
    "included_nodes = [\n",
    "    NodeType.PUBLICATION, \n",
    "    NodeType.VENUE, \n",
    "    NodeType.ORGANIZATION\n",
    "]\n",
    "included_edges = [\n",
    "    EdgeType.PUB_VENUE, \n",
    "    EdgeType.PUB_ORG, \n",
    "    EdgeType.SIM_VENUE,\n",
    "    EdgeType.SIM_ORG,\n",
    "    EdgeType.ORG_PUB, \n",
    "    EdgeType.VENUE_PUB\n",
    "]\n",
    "\n",
    "node_spec = [node_type.value for node_type in included_nodes]\n",
    "relationship_spec = [edge_type.value for edge_type in included_edges]\n",
    "print(node_spec)\n",
    "print(relationship_spec)"
   ],
   "id": "6b29563150b972f2",
   "outputs": [
    {
     "name": "stdout",
     "output_type": "stream",
     "text": [
      "['Publication', 'Venue', 'Organization']\n",
      "['PubVenue', 'PubOrg', 'SimilarVenue', 'SimilarOrg', 'OrgPub', 'VenuePub']\n"
     ]
    }
   ],
   "execution_count": 106
  },
  {
   "metadata": {
    "ExecuteTime": {
     "end_time": "2024-08-03T08:54:30.420063Z",
     "start_time": "2024-08-03T08:54:30.389842Z"
    }
   },
   "cell_type": "code",
   "source": [
    "gds.graph.drop('graph_sample')\n",
    "G, _ = gds.graph.project(\n",
    "    graph_name='graph_sample',\n",
    "    node_spec=node_spec,\n",
    "    relationship_spec=relationship_spec,\n",
    "    nodeProperties=['vec']\n",
    ")\n",
    "print(G)"
   ],
   "id": "605c78f70d5188e9",
   "outputs": [
    {
     "name": "stdout",
     "output_type": "stream",
     "text": [
      "Graph(name=graph_sample, node_count=2313, relationship_count=6262)\n"
     ]
    }
   ],
   "execution_count": 107
  },
  {
   "metadata": {
    "ExecuteTime": {
     "end_time": "2024-08-03T08:54:30.459649Z",
     "start_time": "2024-08-03T08:54:30.421069Z"
    }
   },
   "cell_type": "code",
   "source": [
    "configuration = {\n",
    "    \"concurrency\": 1,\n",
    "    \"randomSeed\": 42,\n",
    "    #\"start_nodes\": [node['id']],\n",
    "}\n",
    "gds.graph.drop(\"graph_rwr\")\n",
    "G_sample, _ = gds.graph.sample.rwr(\"graph_rwr\", G, configuration=configuration)\n",
    "sample_topology_df = gds.beta.graph.relationships.stream(G_sample)\n",
    "display(sample_topology_df)"
   ],
   "id": "d6ea17d6b9cb37c6",
   "outputs": [
    {
     "data": {
      "text/plain": [
       "      sourceNodeId  targetNodeId relationshipType\n",
       "0               20            56       SimilarOrg\n",
       "1               20            70       SimilarOrg\n",
       "2               20           204       SimilarOrg\n",
       "3               20           330       SimilarOrg\n",
       "4               20           477       SimilarOrg\n",
       "...            ...           ...              ...\n",
       "1147          7607          7608         PubVenue\n",
       "1148          7608          7607         VenuePub\n",
       "1149          7652          1025     SimilarVenue\n",
       "1150          7652          4301     SimilarVenue\n",
       "1151          7652          5180     SimilarVenue\n",
       "\n",
       "[1152 rows x 3 columns]"
      ],
      "text/html": [
       "<div>\n",
       "<style scoped>\n",
       "    .dataframe tbody tr th:only-of-type {\n",
       "        vertical-align: middle;\n",
       "    }\n",
       "\n",
       "    .dataframe tbody tr th {\n",
       "        vertical-align: top;\n",
       "    }\n",
       "\n",
       "    .dataframe thead th {\n",
       "        text-align: right;\n",
       "    }\n",
       "</style>\n",
       "<table border=\"1\" class=\"dataframe\">\n",
       "  <thead>\n",
       "    <tr style=\"text-align: right;\">\n",
       "      <th></th>\n",
       "      <th>sourceNodeId</th>\n",
       "      <th>targetNodeId</th>\n",
       "      <th>relationshipType</th>\n",
       "    </tr>\n",
       "  </thead>\n",
       "  <tbody>\n",
       "    <tr>\n",
       "      <th>0</th>\n",
       "      <td>20</td>\n",
       "      <td>56</td>\n",
       "      <td>SimilarOrg</td>\n",
       "    </tr>\n",
       "    <tr>\n",
       "      <th>1</th>\n",
       "      <td>20</td>\n",
       "      <td>70</td>\n",
       "      <td>SimilarOrg</td>\n",
       "    </tr>\n",
       "    <tr>\n",
       "      <th>2</th>\n",
       "      <td>20</td>\n",
       "      <td>204</td>\n",
       "      <td>SimilarOrg</td>\n",
       "    </tr>\n",
       "    <tr>\n",
       "      <th>3</th>\n",
       "      <td>20</td>\n",
       "      <td>330</td>\n",
       "      <td>SimilarOrg</td>\n",
       "    </tr>\n",
       "    <tr>\n",
       "      <th>4</th>\n",
       "      <td>20</td>\n",
       "      <td>477</td>\n",
       "      <td>SimilarOrg</td>\n",
       "    </tr>\n",
       "    <tr>\n",
       "      <th>...</th>\n",
       "      <td>...</td>\n",
       "      <td>...</td>\n",
       "      <td>...</td>\n",
       "    </tr>\n",
       "    <tr>\n",
       "      <th>1147</th>\n",
       "      <td>7607</td>\n",
       "      <td>7608</td>\n",
       "      <td>PubVenue</td>\n",
       "    </tr>\n",
       "    <tr>\n",
       "      <th>1148</th>\n",
       "      <td>7608</td>\n",
       "      <td>7607</td>\n",
       "      <td>VenuePub</td>\n",
       "    </tr>\n",
       "    <tr>\n",
       "      <th>1149</th>\n",
       "      <td>7652</td>\n",
       "      <td>1025</td>\n",
       "      <td>SimilarVenue</td>\n",
       "    </tr>\n",
       "    <tr>\n",
       "      <th>1150</th>\n",
       "      <td>7652</td>\n",
       "      <td>4301</td>\n",
       "      <td>SimilarVenue</td>\n",
       "    </tr>\n",
       "    <tr>\n",
       "      <th>1151</th>\n",
       "      <td>7652</td>\n",
       "      <td>5180</td>\n",
       "      <td>SimilarVenue</td>\n",
       "    </tr>\n",
       "  </tbody>\n",
       "</table>\n",
       "<p>1152 rows × 3 columns</p>\n",
       "</div>"
      ]
     },
     "metadata": {},
     "output_type": "display_data"
    }
   ],
   "execution_count": 108
  },
  {
   "metadata": {
    "ExecuteTime": {
     "end_time": "2024-08-03T08:54:30.485604Z",
     "start_time": "2024-08-03T08:54:30.460178Z"
    }
   },
   "cell_type": "code",
   "source": [
    "sample_node_properties = gds.graph.nodeProperties.stream(\n",
    "    G_sample,\n",
    "    node_properties=[\"vec\"],\n",
    "    node_labels=[\"*\"],\n",
    "    separate_property_columns=True,\n",
    "    listNodeLabels=True\n",
    ")\n",
    "display(sample_node_properties)"
   ],
   "id": "9a77ba462c5aa0d6",
   "outputs": [
    {
     "data": {
      "text/plain": [
       "     nodeId                                                vec      nodeLabels\n",
       "0        20  [-7.349286079406738, -6.137350082397461, 1.769...  [Organization]\n",
       "1        56  [-7.838522434234619, -6.077364444732666, 1.122...  [Organization]\n",
       "2        68  [-2.6143743991851807, -2.6950881481170654, -1....         [Venue]\n",
       "3        70  [-9.003606796264648, -5.801609039306641, 1.042...  [Organization]\n",
       "4       100  [-16.875104904174805, -6.252501010894775, -2.3...   [Publication]\n",
       "..      ...                                                ...             ...\n",
       "342    7599  [-12.758501052856445, -6.827425956726074, -2.9...   [Publication]\n",
       "343    7600  [-10.055512428283691, -5.252875328063965, -0.0...         [Venue]\n",
       "344    7607  [-12.508116722106934, -4.270413398742676, -3.1...   [Publication]\n",
       "345    7608  [0.7140827775001526, -5.582761287689209, 0.461...         [Venue]\n",
       "346    7652  [-10.007651329040527, -4.343207359313965, 0.71...         [Venue]\n",
       "\n",
       "[347 rows x 3 columns]"
      ],
      "text/html": [
       "<div>\n",
       "<style scoped>\n",
       "    .dataframe tbody tr th:only-of-type {\n",
       "        vertical-align: middle;\n",
       "    }\n",
       "\n",
       "    .dataframe tbody tr th {\n",
       "        vertical-align: top;\n",
       "    }\n",
       "\n",
       "    .dataframe thead th {\n",
       "        text-align: right;\n",
       "    }\n",
       "</style>\n",
       "<table border=\"1\" class=\"dataframe\">\n",
       "  <thead>\n",
       "    <tr style=\"text-align: right;\">\n",
       "      <th></th>\n",
       "      <th>nodeId</th>\n",
       "      <th>vec</th>\n",
       "      <th>nodeLabels</th>\n",
       "    </tr>\n",
       "  </thead>\n",
       "  <tbody>\n",
       "    <tr>\n",
       "      <th>0</th>\n",
       "      <td>20</td>\n",
       "      <td>[-7.349286079406738, -6.137350082397461, 1.769...</td>\n",
       "      <td>[Organization]</td>\n",
       "    </tr>\n",
       "    <tr>\n",
       "      <th>1</th>\n",
       "      <td>56</td>\n",
       "      <td>[-7.838522434234619, -6.077364444732666, 1.122...</td>\n",
       "      <td>[Organization]</td>\n",
       "    </tr>\n",
       "    <tr>\n",
       "      <th>2</th>\n",
       "      <td>68</td>\n",
       "      <td>[-2.6143743991851807, -2.6950881481170654, -1....</td>\n",
       "      <td>[Venue]</td>\n",
       "    </tr>\n",
       "    <tr>\n",
       "      <th>3</th>\n",
       "      <td>70</td>\n",
       "      <td>[-9.003606796264648, -5.801609039306641, 1.042...</td>\n",
       "      <td>[Organization]</td>\n",
       "    </tr>\n",
       "    <tr>\n",
       "      <th>4</th>\n",
       "      <td>100</td>\n",
       "      <td>[-16.875104904174805, -6.252501010894775, -2.3...</td>\n",
       "      <td>[Publication]</td>\n",
       "    </tr>\n",
       "    <tr>\n",
       "      <th>...</th>\n",
       "      <td>...</td>\n",
       "      <td>...</td>\n",
       "      <td>...</td>\n",
       "    </tr>\n",
       "    <tr>\n",
       "      <th>342</th>\n",
       "      <td>7599</td>\n",
       "      <td>[-12.758501052856445, -6.827425956726074, -2.9...</td>\n",
       "      <td>[Publication]</td>\n",
       "    </tr>\n",
       "    <tr>\n",
       "      <th>343</th>\n",
       "      <td>7600</td>\n",
       "      <td>[-10.055512428283691, -5.252875328063965, -0.0...</td>\n",
       "      <td>[Venue]</td>\n",
       "    </tr>\n",
       "    <tr>\n",
       "      <th>344</th>\n",
       "      <td>7607</td>\n",
       "      <td>[-12.508116722106934, -4.270413398742676, -3.1...</td>\n",
       "      <td>[Publication]</td>\n",
       "    </tr>\n",
       "    <tr>\n",
       "      <th>345</th>\n",
       "      <td>7608</td>\n",
       "      <td>[0.7140827775001526, -5.582761287689209, 0.461...</td>\n",
       "      <td>[Venue]</td>\n",
       "    </tr>\n",
       "    <tr>\n",
       "      <th>346</th>\n",
       "      <td>7652</td>\n",
       "      <td>[-10.007651329040527, -4.343207359313965, 0.71...</td>\n",
       "      <td>[Venue]</td>\n",
       "    </tr>\n",
       "  </tbody>\n",
       "</table>\n",
       "<p>347 rows × 3 columns</p>\n",
       "</div>"
      ]
     },
     "metadata": {},
     "output_type": "display_data"
    }
   ],
   "execution_count": 109
  },
  {
   "metadata": {
    "ExecuteTime": {
     "end_time": "2024-08-03T08:54:30.489016Z",
     "start_time": "2024-08-03T08:54:30.486189Z"
    }
   },
   "cell_type": "code",
   "source": [
    "# Map neo4j node ids to PyG node indices\n",
    "sample_topology = sample_topology_df.by_rel_type()\n",
    "#print(sample_topology)"
   ],
   "id": "20f32d89489cc6fb",
   "outputs": [],
   "execution_count": 110
  },
  {
   "metadata": {
    "ExecuteTime": {
     "end_time": "2024-08-03T08:54:30.503933Z",
     "start_time": "2024-08-03T08:54:30.489545Z"
    }
   },
   "cell_type": "code",
   "source": [
    "def normalize_topology(new_idx_to_old, topology):\n",
    "    # Reverse index mapping based on new idx -> old idx\n",
    "    old_idx_to_new = dict((v, k) for k, v in new_idx_to_old.items())\n",
    "    return {rel_type: [[old_idx_to_new[node_id] for node_id in nodes] for nodes in topology] for rel_type, topology in topology.items()}\n",
    "\n",
    "def create_edge_index(topology):\n",
    "    edge_index = []\n",
    "    edge_features = []\n",
    "    for rel_type, nodes in topology.items():\n",
    "        src_nodes, dst_nodes = nodes\n",
    "        edges = torch.tensor([src_nodes, dst_nodes], dtype=torch.long)\n",
    "        edge_index.append(edges)\n",
    "        edge_feature_vec = edge_one_hot[rel_type]\n",
    "        edge_features.extend([edge_feature_vec for _ in range(len(src_nodes))])\n",
    "    return torch.cat(edge_index, dim=1), torch.vstack(edge_features) # TODO: REMOVE .t() and .contiguous() if not needed\n",
    "\n",
    "\n",
    "normalized_topology = normalize_topology(dict(sample_node_properties[\"nodeId\"]), sample_topology)\n",
    "edge_index, edge_features = create_edge_index(normalized_topology)\n",
    "\n",
    "display(edge_index)\n",
    "display(edge_features)"
   ],
   "id": "553348f445924f77",
   "outputs": [
    {
     "data": {
      "text/plain": [
       "tensor([[  3,   6,   6,  ..., 340, 343, 345],\n",
       "        [179,   4,  13,  ..., 339, 342, 344]])"
      ]
     },
     "metadata": {},
     "output_type": "display_data"
    },
    {
     "data": {
      "text/plain": [
       "tensor([[0., 0., 0.,  ..., 0., 0., 0.],\n",
       "        [0., 0., 0.,  ..., 0., 0., 0.],\n",
       "        [0., 0., 0.,  ..., 0., 0., 0.],\n",
       "        ...,\n",
       "        [0., 0., 0.,  ..., 0., 0., 1.],\n",
       "        [0., 0., 0.,  ..., 0., 0., 1.],\n",
       "        [0., 0., 0.,  ..., 0., 0., 1.]])"
      ]
     },
     "metadata": {},
     "output_type": "display_data"
    }
   ],
   "execution_count": 111
  },
  {
   "metadata": {
    "ExecuteTime": {
     "end_time": "2024-08-03T08:54:30.574250Z",
     "start_time": "2024-08-03T08:54:30.504457Z"
    }
   },
   "cell_type": "code",
   "source": [
    "def project_node_embeddings(node_df):\n",
    "    def stack_one_hot(row):\n",
    "        one_hot_enc = node_one_hot[row[\"nodeLabels\"][0]]\n",
    "        return torch.hstack((one_hot_enc, torch.tensor(row[\"vec\"])))\n",
    "    return node_df.apply(stack_one_hot, axis=1)\n",
    "\n",
    "sample_node_properties[\"vec_projected\"] = project_node_embeddings(sample_node_properties)\n",
    "node_features = torch.vstack(sample_node_properties[\"vec_projected\"].tolist())\n",
    "\n",
    "display(sample_node_properties)\n",
    "display(node_features)"
   ],
   "id": "1a4c57d638c7daac",
   "outputs": [
    {
     "data": {
      "text/plain": [
       "     nodeId                                                vec  \\\n",
       "0        20  [-7.349286079406738, -6.137350082397461, 1.769...   \n",
       "1        56  [-7.838522434234619, -6.077364444732666, 1.122...   \n",
       "2        68  [-2.6143743991851807, -2.6950881481170654, -1....   \n",
       "3        70  [-9.003606796264648, -5.801609039306641, 1.042...   \n",
       "4       100  [-16.875104904174805, -6.252501010894775, -2.3...   \n",
       "..      ...                                                ...   \n",
       "342    7599  [-12.758501052856445, -6.827425956726074, -2.9...   \n",
       "343    7600  [-10.055512428283691, -5.252875328063965, -0.0...   \n",
       "344    7607  [-12.508116722106934, -4.270413398742676, -3.1...   \n",
       "345    7608  [0.7140827775001526, -5.582761287689209, 0.461...   \n",
       "346    7652  [-10.007651329040527, -4.343207359313965, 0.71...   \n",
       "\n",
       "         nodeLabels                                      vec_projected  \n",
       "0    [Organization]  [tensor(0.), tensor(0.), tensor(0.), tensor(0....  \n",
       "1    [Organization]  [tensor(0.), tensor(0.), tensor(0.), tensor(0....  \n",
       "2           [Venue]  [tensor(0.), tensor(0.), tensor(0.), tensor(0....  \n",
       "3    [Organization]  [tensor(0.), tensor(0.), tensor(0.), tensor(0....  \n",
       "4     [Publication]  [tensor(1.), tensor(0.), tensor(0.), tensor(0....  \n",
       "..              ...                                                ...  \n",
       "342   [Publication]  [tensor(1.), tensor(0.), tensor(0.), tensor(0....  \n",
       "343         [Venue]  [tensor(0.), tensor(0.), tensor(0.), tensor(0....  \n",
       "344   [Publication]  [tensor(1.), tensor(0.), tensor(0.), tensor(0....  \n",
       "345         [Venue]  [tensor(0.), tensor(0.), tensor(0.), tensor(0....  \n",
       "346         [Venue]  [tensor(0.), tensor(0.), tensor(0.), tensor(0....  \n",
       "\n",
       "[347 rows x 4 columns]"
      ],
      "text/html": [
       "<div>\n",
       "<style scoped>\n",
       "    .dataframe tbody tr th:only-of-type {\n",
       "        vertical-align: middle;\n",
       "    }\n",
       "\n",
       "    .dataframe tbody tr th {\n",
       "        vertical-align: top;\n",
       "    }\n",
       "\n",
       "    .dataframe thead th {\n",
       "        text-align: right;\n",
       "    }\n",
       "</style>\n",
       "<table border=\"1\" class=\"dataframe\">\n",
       "  <thead>\n",
       "    <tr style=\"text-align: right;\">\n",
       "      <th></th>\n",
       "      <th>nodeId</th>\n",
       "      <th>vec</th>\n",
       "      <th>nodeLabels</th>\n",
       "      <th>vec_projected</th>\n",
       "    </tr>\n",
       "  </thead>\n",
       "  <tbody>\n",
       "    <tr>\n",
       "      <th>0</th>\n",
       "      <td>20</td>\n",
       "      <td>[-7.349286079406738, -6.137350082397461, 1.769...</td>\n",
       "      <td>[Organization]</td>\n",
       "      <td>[tensor(0.), tensor(0.), tensor(0.), tensor(0....</td>\n",
       "    </tr>\n",
       "    <tr>\n",
       "      <th>1</th>\n",
       "      <td>56</td>\n",
       "      <td>[-7.838522434234619, -6.077364444732666, 1.122...</td>\n",
       "      <td>[Organization]</td>\n",
       "      <td>[tensor(0.), tensor(0.), tensor(0.), tensor(0....</td>\n",
       "    </tr>\n",
       "    <tr>\n",
       "      <th>2</th>\n",
       "      <td>68</td>\n",
       "      <td>[-2.6143743991851807, -2.6950881481170654, -1....</td>\n",
       "      <td>[Venue]</td>\n",
       "      <td>[tensor(0.), tensor(0.), tensor(0.), tensor(0....</td>\n",
       "    </tr>\n",
       "    <tr>\n",
       "      <th>3</th>\n",
       "      <td>70</td>\n",
       "      <td>[-9.003606796264648, -5.801609039306641, 1.042...</td>\n",
       "      <td>[Organization]</td>\n",
       "      <td>[tensor(0.), tensor(0.), tensor(0.), tensor(0....</td>\n",
       "    </tr>\n",
       "    <tr>\n",
       "      <th>4</th>\n",
       "      <td>100</td>\n",
       "      <td>[-16.875104904174805, -6.252501010894775, -2.3...</td>\n",
       "      <td>[Publication]</td>\n",
       "      <td>[tensor(1.), tensor(0.), tensor(0.), tensor(0....</td>\n",
       "    </tr>\n",
       "    <tr>\n",
       "      <th>...</th>\n",
       "      <td>...</td>\n",
       "      <td>...</td>\n",
       "      <td>...</td>\n",
       "      <td>...</td>\n",
       "    </tr>\n",
       "    <tr>\n",
       "      <th>342</th>\n",
       "      <td>7599</td>\n",
       "      <td>[-12.758501052856445, -6.827425956726074, -2.9...</td>\n",
       "      <td>[Publication]</td>\n",
       "      <td>[tensor(1.), tensor(0.), tensor(0.), tensor(0....</td>\n",
       "    </tr>\n",
       "    <tr>\n",
       "      <th>343</th>\n",
       "      <td>7600</td>\n",
       "      <td>[-10.055512428283691, -5.252875328063965, -0.0...</td>\n",
       "      <td>[Venue]</td>\n",
       "      <td>[tensor(0.), tensor(0.), tensor(0.), tensor(0....</td>\n",
       "    </tr>\n",
       "    <tr>\n",
       "      <th>344</th>\n",
       "      <td>7607</td>\n",
       "      <td>[-12.508116722106934, -4.270413398742676, -3.1...</td>\n",
       "      <td>[Publication]</td>\n",
       "      <td>[tensor(1.), tensor(0.), tensor(0.), tensor(0....</td>\n",
       "    </tr>\n",
       "    <tr>\n",
       "      <th>345</th>\n",
       "      <td>7608</td>\n",
       "      <td>[0.7140827775001526, -5.582761287689209, 0.461...</td>\n",
       "      <td>[Venue]</td>\n",
       "      <td>[tensor(0.), tensor(0.), tensor(0.), tensor(0....</td>\n",
       "    </tr>\n",
       "    <tr>\n",
       "      <th>346</th>\n",
       "      <td>7652</td>\n",
       "      <td>[-10.007651329040527, -4.343207359313965, 0.71...</td>\n",
       "      <td>[Venue]</td>\n",
       "      <td>[tensor(0.), tensor(0.), tensor(0.), tensor(0....</td>\n",
       "    </tr>\n",
       "  </tbody>\n",
       "</table>\n",
       "<p>347 rows × 4 columns</p>\n",
       "</div>"
      ]
     },
     "metadata": {},
     "output_type": "display_data"
    },
    {
     "data": {
      "text/plain": [
       "tensor([[ 0.0000,  0.0000,  0.0000,  ...,  0.0575,  0.0671, -0.0406],\n",
       "        [ 0.0000,  0.0000,  0.0000,  ...,  0.0630, -0.4268, -0.3316],\n",
       "        [ 0.0000,  0.0000,  0.0000,  ..., -0.5694, -0.4004,  0.6518],\n",
       "        ...,\n",
       "        [ 1.0000,  0.0000,  0.0000,  ...,  0.0658, -1.4814, -0.9582],\n",
       "        [ 0.0000,  0.0000,  0.0000,  ...,  0.5818, -1.0339, -0.4346],\n",
       "        [ 0.0000,  0.0000,  0.0000,  ..., -0.2475, -1.7157, -0.7256]])"
      ]
     },
     "metadata": {},
     "output_type": "display_data"
    }
   ],
   "execution_count": 112
  },
  {
   "metadata": {
    "ExecuteTime": {
     "end_time": "2024-08-03T08:54:30.578746Z",
     "start_time": "2024-08-03T08:54:30.575286Z"
    }
   },
   "cell_type": "code",
   "source": [
    "node_feature_dim = sample_node_properties[\"vec_projected\"][0].shape[0]\n",
    "edge_feature_dim = edge_features[0].shape[0]\n",
    "gat_embedding_dim = 32\n",
    "\n",
    "encoder = GATv2Encoder(\n",
    "    in_channels=node_feature_dim,\n",
    "    out_channels=gat_embedding_dim,\n",
    "    edge_dim=edge_feature_dim,\n",
    "    add_self_loops=False\n",
    ")\n",
    "\n",
    "decoder = GATv2Decoder(\n",
    "    in_channels=gat_embedding_dim,\n",
    "    out_channels=node_feature_dim\n",
    ")"
   ],
   "id": "9d84f09b94271a13",
   "outputs": [],
   "execution_count": 113
  },
  {
   "metadata": {
    "ExecuteTime": {
     "end_time": "2024-08-03T08:54:30.588304Z",
     "start_time": "2024-08-03T08:54:30.579283Z"
    }
   },
   "cell_type": "code",
   "source": [
    "def train_gat(encoder, decoder, data, epochs=1000, lr=0.01):\n",
    "    # Define the optimizer for the encoder and decoder\n",
    "    optimizer = optim.SGD(list(encoder.parameters()) + list(decoder.parameters()), lr=lr)\n",
    "    \n",
    "    # Define a loss function\n",
    "    criterion = torch.nn.MSELoss()\n",
    "\n",
    "    # Training loop\n",
    "    for epoch in range(epochs):\n",
    "        encoder.train()\n",
    "        decoder.train()\n",
    "\n",
    "        # Zero gradients\n",
    "        optimizer.zero_grad()\n",
    "\n",
    "        # Forward pass through the encoder\n",
    "        encoded_nodes = encoder(data.x, data.edge_index, data.edge_attr)\n",
    "\n",
    "        # Forward pass through the decoder\n",
    "        decoded_graph = decoder(encoded_nodes, data.edge_index, data.edge_attr)\n",
    "\n",
    "        # Compute loss (assuming your decoder returns node features to be compared with the original)\n",
    "        loss = criterion(decoded_graph, data.x)\n",
    "\n",
    "        # Backward pass\n",
    "        loss.backward()\n",
    "\n",
    "        # Optimize the parameters\n",
    "        optimizer.step()\n",
    "\n",
    "        # Print loss every 10 epochs\n",
    "        if epoch % 10 == 0:\n",
    "            print(f'Epoch {epoch}, Loss: {loss.item()}')"
   ],
   "id": "f87e0e99daa2e1b2",
   "outputs": [],
   "execution_count": 114
  },
  {
   "metadata": {
    "ExecuteTime": {
     "end_time": "2024-08-03T08:54:31.985170Z",
     "start_time": "2024-08-03T08:54:30.588922Z"
    }
   },
   "cell_type": "code",
   "source": [
    "data = Data(\n",
    "    x=node_features,\n",
    "    edge_index=edge_index,\n",
    "    edge_attr=edge_features\n",
    ")\n",
    "\n",
    "train_gat(encoder, decoder, data)"
   ],
   "id": "f406175f3d4eef42",
   "outputs": [
    {
     "name": "stdout",
     "output_type": "stream",
     "text": [
      "Epoch 0, Loss: 6.02380895614624\n",
      "Epoch 10, Loss: 4.913343906402588\n",
      "Epoch 20, Loss: 4.351069450378418\n",
      "Epoch 30, Loss: 3.6309823989868164\n",
      "Epoch 40, Loss: 2.8314192295074463\n",
      "Epoch 50, Loss: 2.2657554149627686\n",
      "Epoch 60, Loss: 1.9944164752960205\n",
      "Epoch 70, Loss: 1.8855009078979492\n",
      "Epoch 80, Loss: 1.8361690044403076\n",
      "Epoch 90, Loss: 1.805999517440796\n",
      "Epoch 100, Loss: 1.7815426588058472\n",
      "Epoch 110, Loss: 1.75917387008667\n",
      "Epoch 120, Loss: 1.7381595373153687\n",
      "Epoch 130, Loss: 1.7185533046722412\n",
      "Epoch 140, Loss: 1.7003612518310547\n",
      "Epoch 150, Loss: 1.683487892150879\n",
      "Epoch 160, Loss: 1.6676430702209473\n",
      "Epoch 170, Loss: 1.6525752544403076\n",
      "Epoch 180, Loss: 1.6381007432937622\n",
      "Epoch 190, Loss: 1.6239831447601318\n",
      "Epoch 200, Loss: 1.610060691833496\n",
      "Epoch 210, Loss: 1.5962764024734497\n",
      "Epoch 220, Loss: 1.5826225280761719\n",
      "Epoch 230, Loss: 1.569061517715454\n",
      "Epoch 240, Loss: 1.5556806325912476\n",
      "Epoch 250, Loss: 1.5424778461456299\n",
      "Epoch 260, Loss: 1.529500126838684\n",
      "Epoch 270, Loss: 1.5168428421020508\n",
      "Epoch 280, Loss: 1.5045548677444458\n",
      "Epoch 290, Loss: 1.4926844835281372\n",
      "Epoch 300, Loss: 1.4813035726547241\n",
      "Epoch 310, Loss: 1.4704556465148926\n",
      "Epoch 320, Loss: 1.4601448774337769\n",
      "Epoch 330, Loss: 1.4503936767578125\n",
      "Epoch 340, Loss: 1.4411886930465698\n",
      "Epoch 350, Loss: 1.432517409324646\n",
      "Epoch 360, Loss: 1.42436945438385\n",
      "Epoch 370, Loss: 1.4167073965072632\n",
      "Epoch 380, Loss: 1.4095335006713867\n",
      "Epoch 390, Loss: 1.4027906656265259\n",
      "Epoch 400, Loss: 1.396437168121338\n",
      "Epoch 410, Loss: 1.3904448747634888\n",
      "Epoch 420, Loss: 1.384796380996704\n",
      "Epoch 430, Loss: 1.3794431686401367\n",
      "Epoch 440, Loss: 1.374342918395996\n",
      "Epoch 450, Loss: 1.3694733381271362\n",
      "Epoch 460, Loss: 1.3648074865341187\n",
      "Epoch 470, Loss: 1.3603339195251465\n",
      "Epoch 480, Loss: 1.3560307025909424\n",
      "Epoch 490, Loss: 1.3519021272659302\n",
      "Epoch 500, Loss: 1.3479176759719849\n",
      "Epoch 510, Loss: 1.3440598249435425\n",
      "Epoch 520, Loss: 1.3403165340423584\n",
      "Epoch 530, Loss: 1.3366930484771729\n",
      "Epoch 540, Loss: 1.3331615924835205\n",
      "Epoch 550, Loss: 1.3297216892242432\n",
      "Epoch 560, Loss: 1.3263604640960693\n",
      "Epoch 570, Loss: 1.3230749368667603\n",
      "Epoch 580, Loss: 1.319860577583313\n",
      "Epoch 590, Loss: 1.316709041595459\n",
      "Epoch 600, Loss: 1.3136156797409058\n",
      "Epoch 610, Loss: 1.3105748891830444\n",
      "Epoch 620, Loss: 1.3075923919677734\n",
      "Epoch 630, Loss: 1.3046592473983765\n",
      "Epoch 640, Loss: 1.3017669916152954\n",
      "Epoch 650, Loss: 1.2989119291305542\n",
      "Epoch 660, Loss: 1.2960858345031738\n",
      "Epoch 670, Loss: 1.2932909727096558\n",
      "Epoch 680, Loss: 1.2905274629592896\n",
      "Epoch 690, Loss: 1.2877936363220215\n",
      "Epoch 700, Loss: 1.2850910425186157\n",
      "Epoch 710, Loss: 1.2824087142944336\n",
      "Epoch 720, Loss: 1.2797443866729736\n",
      "Epoch 730, Loss: 1.2771035432815552\n",
      "Epoch 740, Loss: 1.274496078491211\n",
      "Epoch 750, Loss: 1.2719223499298096\n",
      "Epoch 760, Loss: 1.2693753242492676\n",
      "Epoch 770, Loss: 1.2668505907058716\n",
      "Epoch 780, Loss: 1.2643417119979858\n",
      "Epoch 790, Loss: 1.2618452310562134\n",
      "Epoch 800, Loss: 1.259358286857605\n",
      "Epoch 810, Loss: 1.2568755149841309\n",
      "Epoch 820, Loss: 1.2543972730636597\n",
      "Epoch 830, Loss: 1.251932144165039\n",
      "Epoch 840, Loss: 1.249502420425415\n",
      "Epoch 850, Loss: 1.247106909751892\n",
      "Epoch 860, Loss: 1.244740605354309\n",
      "Epoch 870, Loss: 1.2424036264419556\n",
      "Epoch 880, Loss: 1.2400891780853271\n",
      "Epoch 890, Loss: 1.2377954721450806\n",
      "Epoch 900, Loss: 1.235530138015747\n",
      "Epoch 910, Loss: 1.2332932949066162\n",
      "Epoch 920, Loss: 1.2310839891433716\n",
      "Epoch 930, Loss: 1.2289056777954102\n",
      "Epoch 940, Loss: 1.226753830909729\n",
      "Epoch 950, Loss: 1.2246284484863281\n",
      "Epoch 960, Loss: 1.2225338220596313\n",
      "Epoch 970, Loss: 1.2204644680023193\n",
      "Epoch 980, Loss: 1.2184163331985474\n",
      "Epoch 990, Loss: 1.2163888216018677\n"
     ]
    }
   ],
   "execution_count": 115
  },
  {
   "metadata": {
    "ExecuteTime": {
     "end_time": "2024-08-03T08:54:31.988161Z",
     "start_time": "2024-08-03T08:54:31.985817Z"
    }
   },
   "cell_type": "code",
   "source": [
    "# Save the model\n",
    "torch.save(encoder.state_dict(), './data/models/gat_encoder.pth')"
   ],
   "id": "bf67d6a0cacf8285",
   "outputs": [],
   "execution_count": 116
  },
  {
   "metadata": {
    "ExecuteTime": {
     "end_time": "2024-08-03T08:54:32.011628Z",
     "start_time": "2024-08-03T08:54:31.988701Z"
    }
   },
   "cell_type": "code",
   "source": [
    "_ = G_sample.drop()\n",
    "_ = G.drop()"
   ],
   "id": "45f33503c00db1db",
   "outputs": [],
   "execution_count": 117
  },
  {
   "metadata": {
    "ExecuteTime": {
     "end_time": "2024-08-03T08:54:32.013389Z",
     "start_time": "2024-08-03T08:54:32.012112Z"
    }
   },
   "cell_type": "code",
   "source": "",
   "id": "5721de0f195d22e0",
   "outputs": [],
   "execution_count": 117
  }
 ],
 "metadata": {
  "kernelspec": {
   "display_name": "Python 3",
   "language": "python",
   "name": "python3"
  },
  "language_info": {
   "codemirror_mode": {
    "name": "ipython",
    "version": 2
   },
   "file_extension": ".py",
   "mimetype": "text/x-python",
   "name": "python",
   "nbconvert_exporter": "python",
   "pygments_lexer": "ipython2",
   "version": "2.7.6"
  }
 },
 "nbformat": 4,
 "nbformat_minor": 5
}
