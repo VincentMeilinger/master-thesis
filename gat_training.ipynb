{
 "cells": [
  {
   "cell_type": "code",
   "id": "initial_id",
   "metadata": {
    "collapsed": true,
    "ExecuteTime": {
     "end_time": "2024-08-02T10:37:12.846590Z",
     "start_time": "2024-08-02T10:37:12.843399Z"
    }
   },
   "source": [
    "import os\n",
    "import pandas as pd\n",
    "from graphdatascience import GraphDataScience\n",
    "import torch\n",
    "from torch_geometric.data import Data\n",
    "import torch.nn.functional as F\n",
    "from torch_geometric.nn import GCNConv\n",
    "from torch_geometric.transforms import RandomNodeSplit\n",
    "import random\n",
    "import numpy as np\n",
    "\n",
    "from src.shared.database_wrapper import DatabaseWrapper\n",
    "from src.model.GAT.gat_encoder import GATv2Encoder\n",
    "from src.model.GAT.gat_decoder import GATv2Decoder\n",
    "from src.shared.graph_schema import NodeType, EdgeType, node_one_hot, edge_one_hot\n",
    "from src.shared import config"
   ],
   "outputs": [],
   "execution_count": 20
  },
  {
   "metadata": {
    "ExecuteTime": {
     "end_time": "2024-08-02T10:37:12.863263Z",
     "start_time": "2024-08-02T10:37:12.859298Z"
    }
   },
   "cell_type": "code",
   "source": [
    "# Set seeds for consistent results\n",
    "random.seed(42)\n",
    "np.random.seed(42)\n",
    "torch.manual_seed(42)\n",
    "torch.cuda.manual_seed_all(42)"
   ],
   "id": "34d4e50c8527556",
   "outputs": [],
   "execution_count": 21
  },
  {
   "metadata": {
    "ExecuteTime": {
     "end_time": "2024-08-02T10:37:12.866335Z",
     "start_time": "2024-08-02T10:37:12.864523Z"
    }
   },
   "cell_type": "code",
   "source": [
    "#def project_single(n):\n",
    "#    return torch.hstack((node_to_one_hot[list(n.labels)[0]], torch.tensor(n['vec'])))\n",
    "\n"
   ],
   "id": "6dd88166a730e567",
   "outputs": [],
   "execution_count": 22
  },
  {
   "metadata": {
    "ExecuteTime": {
     "end_time": "2024-08-02T10:37:12.880274Z",
     "start_time": "2024-08-02T10:37:12.867072Z"
    }
   },
   "cell_type": "code",
   "source": [
    "auth = (config.DB_USER, config.DB_PASSWORD)\n",
    "gds = GraphDataScience(config.DB_URI, auth=auth)"
   ],
   "id": "ce9692a8cc8906ff",
   "outputs": [],
   "execution_count": 23
  },
  {
   "metadata": {
    "ExecuteTime": {
     "end_time": "2024-08-02T10:37:12.884511Z",
     "start_time": "2024-08-02T10:37:12.881378Z"
    }
   },
   "cell_type": "code",
   "source": [
    "excluded_nodes = [NodeType.TRUE_AUTHOR, NodeType.AUTHOR, NodeType.CO_AUTHOR]\n",
    "included_edges = [\n",
    "    EdgeType.PUB_VENUE, \n",
    "    EdgeType.PUB_ORG, \n",
    "    EdgeType.SIM_VENUE,\n",
    "    EdgeType.SIM_ORG,\n",
    "    EdgeType.ORG_PUB, \n",
    "    EdgeType.VENUE_PUB\n",
    "]\n",
    "\n",
    "node_spec = [node_type.value for node_type in NodeType if node_type not in excluded_nodes]\n",
    "relationship_spec = [edge_type.value for edge_type in EdgeType if edge_type in included_edges]\n",
    "print(node_spec)\n",
    "print(relationship_spec)"
   ],
   "id": "6b29563150b972f2",
   "outputs": [
    {
     "name": "stdout",
     "output_type": "stream",
     "text": [
      "['Publication', 'Organization', 'Venue']\n",
      "['SimilarOrg', 'SimilarVenue', 'PubVenue', 'PubOrg', 'OrgPub', 'VenuePub']\n"
     ]
    }
   ],
   "execution_count": 24
  },
  {
   "metadata": {
    "ExecuteTime": {
     "end_time": "2024-08-02T10:37:12.930165Z",
     "start_time": "2024-08-02T10:37:12.885375Z"
    }
   },
   "cell_type": "code",
   "source": [
    "gds.graph.drop('graph_sample')\n",
    "G, _ = gds.graph.project(\n",
    "    graph_name='graph_sample',\n",
    "    node_spec=node_spec,\n",
    "    relationship_spec=relationship_spec,\n",
    "    nodeProperties=['vec']\n",
    ")\n",
    "print(G)"
   ],
   "id": "605c78f70d5188e9",
   "outputs": [
    {
     "name": "stdout",
     "output_type": "stream",
     "text": [
      "Graph(name=graph_sample, node_count=2313, relationship_count=6354)\n"
     ]
    }
   ],
   "execution_count": 25
  },
  {
   "metadata": {
    "ExecuteTime": {
     "end_time": "2024-08-02T10:37:12.975242Z",
     "start_time": "2024-08-02T10:37:12.931061Z"
    }
   },
   "cell_type": "code",
   "source": [
    "configuration = {\n",
    "    \"concurrency\": 1,\n",
    "    \"randomSeed\": 42,\n",
    "    #\"start_nodes\": [node['id']],\n",
    "}\n",
    "gds.graph.drop(\"graph_rwr\")\n",
    "G_sample, _ = gds.graph.sample.rwr(\"graph_rwr\", G, configuration=configuration)\n",
    "sample_topology_df = gds.beta.graph.relationships.stream(G_sample)\n",
    "display(sample_topology_df)"
   ],
   "id": "d6ea17d6b9cb37c6",
   "outputs": [
    {
     "data": {
      "text/plain": [
       "      sourceNodeId  targetNodeId relationshipType\n",
       "0             6998          7002           PubOrg\n",
       "1             6998          6999         PubVenue\n",
       "2             6999          6998         VenuePub\n",
       "3             6999          7011         VenuePub\n",
       "4             6999         10319         VenuePub\n",
       "...            ...           ...              ...\n",
       "1232         13173         13170           OrgPub\n",
       "1233         13181          8767           PubOrg\n",
       "1234         13181          8765         PubVenue\n",
       "1235         13194          8359           PubOrg\n",
       "1236         13194          7362         PubVenue\n",
       "\n",
       "[1237 rows x 3 columns]"
      ],
      "text/html": [
       "<div>\n",
       "<style scoped>\n",
       "    .dataframe tbody tr th:only-of-type {\n",
       "        vertical-align: middle;\n",
       "    }\n",
       "\n",
       "    .dataframe tbody tr th {\n",
       "        vertical-align: top;\n",
       "    }\n",
       "\n",
       "    .dataframe thead th {\n",
       "        text-align: right;\n",
       "    }\n",
       "</style>\n",
       "<table border=\"1\" class=\"dataframe\">\n",
       "  <thead>\n",
       "    <tr style=\"text-align: right;\">\n",
       "      <th></th>\n",
       "      <th>sourceNodeId</th>\n",
       "      <th>targetNodeId</th>\n",
       "      <th>relationshipType</th>\n",
       "    </tr>\n",
       "  </thead>\n",
       "  <tbody>\n",
       "    <tr>\n",
       "      <th>0</th>\n",
       "      <td>6998</td>\n",
       "      <td>7002</td>\n",
       "      <td>PubOrg</td>\n",
       "    </tr>\n",
       "    <tr>\n",
       "      <th>1</th>\n",
       "      <td>6998</td>\n",
       "      <td>6999</td>\n",
       "      <td>PubVenue</td>\n",
       "    </tr>\n",
       "    <tr>\n",
       "      <th>2</th>\n",
       "      <td>6999</td>\n",
       "      <td>6998</td>\n",
       "      <td>VenuePub</td>\n",
       "    </tr>\n",
       "    <tr>\n",
       "      <th>3</th>\n",
       "      <td>6999</td>\n",
       "      <td>7011</td>\n",
       "      <td>VenuePub</td>\n",
       "    </tr>\n",
       "    <tr>\n",
       "      <th>4</th>\n",
       "      <td>6999</td>\n",
       "      <td>10319</td>\n",
       "      <td>VenuePub</td>\n",
       "    </tr>\n",
       "    <tr>\n",
       "      <th>...</th>\n",
       "      <td>...</td>\n",
       "      <td>...</td>\n",
       "      <td>...</td>\n",
       "    </tr>\n",
       "    <tr>\n",
       "      <th>1232</th>\n",
       "      <td>13173</td>\n",
       "      <td>13170</td>\n",
       "      <td>OrgPub</td>\n",
       "    </tr>\n",
       "    <tr>\n",
       "      <th>1233</th>\n",
       "      <td>13181</td>\n",
       "      <td>8767</td>\n",
       "      <td>PubOrg</td>\n",
       "    </tr>\n",
       "    <tr>\n",
       "      <th>1234</th>\n",
       "      <td>13181</td>\n",
       "      <td>8765</td>\n",
       "      <td>PubVenue</td>\n",
       "    </tr>\n",
       "    <tr>\n",
       "      <th>1235</th>\n",
       "      <td>13194</td>\n",
       "      <td>8359</td>\n",
       "      <td>PubOrg</td>\n",
       "    </tr>\n",
       "    <tr>\n",
       "      <th>1236</th>\n",
       "      <td>13194</td>\n",
       "      <td>7362</td>\n",
       "      <td>PubVenue</td>\n",
       "    </tr>\n",
       "  </tbody>\n",
       "</table>\n",
       "<p>1237 rows × 3 columns</p>\n",
       "</div>"
      ]
     },
     "metadata": {},
     "output_type": "display_data"
    }
   ],
   "execution_count": 26
  },
  {
   "metadata": {
    "ExecuteTime": {
     "end_time": "2024-08-02T10:37:13.002178Z",
     "start_time": "2024-08-02T10:37:12.975996Z"
    }
   },
   "cell_type": "code",
   "source": [
    "sample_node_properties = gds.graph.nodeProperties.stream(\n",
    "    G_sample,\n",
    "    node_properties=[\"vec\"],\n",
    "    node_labels=[\"*\"],\n",
    "    separate_property_columns=True,\n",
    "    listNodeLabels=True\n",
    ")\n",
    "display(sample_node_properties)"
   ],
   "id": "9a77ba462c5aa0d6",
   "outputs": [
    {
     "data": {
      "text/plain": [
       "     nodeId                                                vec      nodeLabels\n",
       "0      6998  [4.177231788635254, -3.409796953201294, 0.4951...   [Publication]\n",
       "1      6999  [-1.361520528793335, -3.1956822872161865, 2.14...         [Venue]\n",
       "2      7002  [-6.341586589813232, -6.61083459854126, 1.9404...  [Organization]\n",
       "3      7011  [-15.870619773864746, -6.40643835067749, -1.65...   [Publication]\n",
       "4      7017  [-17.103137969970703, -3.749770164489746, -3.2...   [Publication]\n",
       "..      ...                                                ...             ...\n",
       "342   13170  [-10.912079811096191, -6.778702259063721, -1.3...   [Publication]\n",
       "343   13171  [-5.502167701721191, -5.071459770202637, 1.299...         [Venue]\n",
       "344   13173  [-6.176707744598389, -5.64370584487915, 1.4108...  [Organization]\n",
       "345   13181  [-14.853845596313477, -6.310136795043945, 2.97...   [Publication]\n",
       "346   13194  [-14.460138320922852, -7.138647556304932, 0.55...   [Publication]\n",
       "\n",
       "[347 rows x 3 columns]"
      ],
      "text/html": [
       "<div>\n",
       "<style scoped>\n",
       "    .dataframe tbody tr th:only-of-type {\n",
       "        vertical-align: middle;\n",
       "    }\n",
       "\n",
       "    .dataframe tbody tr th {\n",
       "        vertical-align: top;\n",
       "    }\n",
       "\n",
       "    .dataframe thead th {\n",
       "        text-align: right;\n",
       "    }\n",
       "</style>\n",
       "<table border=\"1\" class=\"dataframe\">\n",
       "  <thead>\n",
       "    <tr style=\"text-align: right;\">\n",
       "      <th></th>\n",
       "      <th>nodeId</th>\n",
       "      <th>vec</th>\n",
       "      <th>nodeLabels</th>\n",
       "    </tr>\n",
       "  </thead>\n",
       "  <tbody>\n",
       "    <tr>\n",
       "      <th>0</th>\n",
       "      <td>6998</td>\n",
       "      <td>[4.177231788635254, -3.409796953201294, 0.4951...</td>\n",
       "      <td>[Publication]</td>\n",
       "    </tr>\n",
       "    <tr>\n",
       "      <th>1</th>\n",
       "      <td>6999</td>\n",
       "      <td>[-1.361520528793335, -3.1956822872161865, 2.14...</td>\n",
       "      <td>[Venue]</td>\n",
       "    </tr>\n",
       "    <tr>\n",
       "      <th>2</th>\n",
       "      <td>7002</td>\n",
       "      <td>[-6.341586589813232, -6.61083459854126, 1.9404...</td>\n",
       "      <td>[Organization]</td>\n",
       "    </tr>\n",
       "    <tr>\n",
       "      <th>3</th>\n",
       "      <td>7011</td>\n",
       "      <td>[-15.870619773864746, -6.40643835067749, -1.65...</td>\n",
       "      <td>[Publication]</td>\n",
       "    </tr>\n",
       "    <tr>\n",
       "      <th>4</th>\n",
       "      <td>7017</td>\n",
       "      <td>[-17.103137969970703, -3.749770164489746, -3.2...</td>\n",
       "      <td>[Publication]</td>\n",
       "    </tr>\n",
       "    <tr>\n",
       "      <th>...</th>\n",
       "      <td>...</td>\n",
       "      <td>...</td>\n",
       "      <td>...</td>\n",
       "    </tr>\n",
       "    <tr>\n",
       "      <th>342</th>\n",
       "      <td>13170</td>\n",
       "      <td>[-10.912079811096191, -6.778702259063721, -1.3...</td>\n",
       "      <td>[Publication]</td>\n",
       "    </tr>\n",
       "    <tr>\n",
       "      <th>343</th>\n",
       "      <td>13171</td>\n",
       "      <td>[-5.502167701721191, -5.071459770202637, 1.299...</td>\n",
       "      <td>[Venue]</td>\n",
       "    </tr>\n",
       "    <tr>\n",
       "      <th>344</th>\n",
       "      <td>13173</td>\n",
       "      <td>[-6.176707744598389, -5.64370584487915, 1.4108...</td>\n",
       "      <td>[Organization]</td>\n",
       "    </tr>\n",
       "    <tr>\n",
       "      <th>345</th>\n",
       "      <td>13181</td>\n",
       "      <td>[-14.853845596313477, -6.310136795043945, 2.97...</td>\n",
       "      <td>[Publication]</td>\n",
       "    </tr>\n",
       "    <tr>\n",
       "      <th>346</th>\n",
       "      <td>13194</td>\n",
       "      <td>[-14.460138320922852, -7.138647556304932, 0.55...</td>\n",
       "      <td>[Publication]</td>\n",
       "    </tr>\n",
       "  </tbody>\n",
       "</table>\n",
       "<p>347 rows × 3 columns</p>\n",
       "</div>"
      ]
     },
     "metadata": {},
     "output_type": "display_data"
    }
   ],
   "execution_count": 27
  },
  {
   "metadata": {
    "ExecuteTime": {
     "end_time": "2024-08-02T10:37:13.007979Z",
     "start_time": "2024-08-02T10:37:13.004069Z"
    }
   },
   "cell_type": "code",
   "source": [
    "# Map neo4j node ids to PyG node indices\n",
    "sample_topology = sample_topology_df.by_rel_type()\n",
    "#print(sample_topology)"
   ],
   "id": "20f32d89489cc6fb",
   "outputs": [],
   "execution_count": 28
  },
  {
   "metadata": {
    "ExecuteTime": {
     "end_time": "2024-08-02T10:37:13.013857Z",
     "start_time": "2024-08-02T10:37:13.008803Z"
    }
   },
   "cell_type": "code",
   "source": [
    "def normalize_topology(new_idx_to_old, topology):\n",
    "    # Reverse index mapping based on new idx -> old idx\n",
    "    old_idx_to_new = dict((v, k) for k, v in new_idx_to_old.items())\n",
    "    return {rel_type: [[old_idx_to_new[node_id] for node_id in nodes] for nodes in topology] for rel_type, topology in topology.items()}\n",
    "\n",
    "def create_edge_index(topology):\n",
    "    edge_index = []\n",
    "    for rel_type, nodes in topology.items():\n",
    "        src_nodes, dst_nodes = nodes\n",
    "        edges = torch.tensor([src_nodes, dst_nodes], dtype=torch.long)\n",
    "        edge_index.append(edges)\n",
    "    return torch.cat(edge_index, dim=1).t().contiguous() # TODO: REMOVE .t() and .contiguous() if not needed\n",
    "\n",
    "\n",
    "normalized_topology = normalize_topology(dict(sample_node_properties[\"nodeId\"]), sample_topology)\n",
    "edge_index = create_edge_index(normalized_topology)\n",
    "\n",
    "display(edge_index)"
   ],
   "id": "553348f445924f77",
   "outputs": [
    {
     "data": {
      "text/plain": [
       "tensor([[  2,   0],\n",
       "        [  2,   3],\n",
       "        [  2, 245],\n",
       "        ...,\n",
       "        [336, 335],\n",
       "        [339, 338],\n",
       "        [343, 342]])"
      ]
     },
     "metadata": {},
     "output_type": "display_data"
    }
   ],
   "execution_count": 29
  },
  {
   "metadata": {
    "ExecuteTime": {
     "end_time": "2024-08-02T10:37:13.070667Z",
     "start_time": "2024-08-02T10:37:13.014614Z"
    }
   },
   "cell_type": "code",
   "source": [
    "def project_node_embeddings(node_df):\n",
    "    def stack_one_hot(row):\n",
    "        one_hot_enc = node_one_hot[row[\"nodeLabels\"][0]]\n",
    "        return torch.hstack((one_hot_enc, torch.tensor(row[\"vec\"])))\n",
    "    return node_df.apply(stack_one_hot, axis=1)\n",
    "\n",
    "sample_node_properties[\"vec_projected\"] = project_node_embeddings(sample_node_properties)\n",
    "display(sample_node_properties)"
   ],
   "id": "1a4c57d638c7daac",
   "outputs": [
    {
     "data": {
      "text/plain": [
       "     nodeId                                                vec  \\\n",
       "0      6998  [4.177231788635254, -3.409796953201294, 0.4951...   \n",
       "1      6999  [-1.361520528793335, -3.1956822872161865, 2.14...   \n",
       "2      7002  [-6.341586589813232, -6.61083459854126, 1.9404...   \n",
       "3      7011  [-15.870619773864746, -6.40643835067749, -1.65...   \n",
       "4      7017  [-17.103137969970703, -3.749770164489746, -3.2...   \n",
       "..      ...                                                ...   \n",
       "342   13170  [-10.912079811096191, -6.778702259063721, -1.3...   \n",
       "343   13171  [-5.502167701721191, -5.071459770202637, 1.299...   \n",
       "344   13173  [-6.176707744598389, -5.64370584487915, 1.4108...   \n",
       "345   13181  [-14.853845596313477, -6.310136795043945, 2.97...   \n",
       "346   13194  [-14.460138320922852, -7.138647556304932, 0.55...   \n",
       "\n",
       "         nodeLabels                                      projected_vec  \n",
       "0     [Publication]  [tensor(1.), tensor(0.), tensor(0.), tensor(0....  \n",
       "1           [Venue]  [tensor(0.), tensor(0.), tensor(0.), tensor(0....  \n",
       "2    [Organization]  [tensor(0.), tensor(0.), tensor(0.), tensor(0....  \n",
       "3     [Publication]  [tensor(1.), tensor(0.), tensor(0.), tensor(0....  \n",
       "4     [Publication]  [tensor(1.), tensor(0.), tensor(0.), tensor(0....  \n",
       "..              ...                                                ...  \n",
       "342   [Publication]  [tensor(1.), tensor(0.), tensor(0.), tensor(0....  \n",
       "343         [Venue]  [tensor(0.), tensor(0.), tensor(0.), tensor(0....  \n",
       "344  [Organization]  [tensor(0.), tensor(0.), tensor(0.), tensor(0....  \n",
       "345   [Publication]  [tensor(1.), tensor(0.), tensor(0.), tensor(0....  \n",
       "346   [Publication]  [tensor(1.), tensor(0.), tensor(0.), tensor(0....  \n",
       "\n",
       "[347 rows x 4 columns]"
      ],
      "text/html": [
       "<div>\n",
       "<style scoped>\n",
       "    .dataframe tbody tr th:only-of-type {\n",
       "        vertical-align: middle;\n",
       "    }\n",
       "\n",
       "    .dataframe tbody tr th {\n",
       "        vertical-align: top;\n",
       "    }\n",
       "\n",
       "    .dataframe thead th {\n",
       "        text-align: right;\n",
       "    }\n",
       "</style>\n",
       "<table border=\"1\" class=\"dataframe\">\n",
       "  <thead>\n",
       "    <tr style=\"text-align: right;\">\n",
       "      <th></th>\n",
       "      <th>nodeId</th>\n",
       "      <th>vec</th>\n",
       "      <th>nodeLabels</th>\n",
       "      <th>projected_vec</th>\n",
       "    </tr>\n",
       "  </thead>\n",
       "  <tbody>\n",
       "    <tr>\n",
       "      <th>0</th>\n",
       "      <td>6998</td>\n",
       "      <td>[4.177231788635254, -3.409796953201294, 0.4951...</td>\n",
       "      <td>[Publication]</td>\n",
       "      <td>[tensor(1.), tensor(0.), tensor(0.), tensor(0....</td>\n",
       "    </tr>\n",
       "    <tr>\n",
       "      <th>1</th>\n",
       "      <td>6999</td>\n",
       "      <td>[-1.361520528793335, -3.1956822872161865, 2.14...</td>\n",
       "      <td>[Venue]</td>\n",
       "      <td>[tensor(0.), tensor(0.), tensor(0.), tensor(0....</td>\n",
       "    </tr>\n",
       "    <tr>\n",
       "      <th>2</th>\n",
       "      <td>7002</td>\n",
       "      <td>[-6.341586589813232, -6.61083459854126, 1.9404...</td>\n",
       "      <td>[Organization]</td>\n",
       "      <td>[tensor(0.), tensor(0.), tensor(0.), tensor(0....</td>\n",
       "    </tr>\n",
       "    <tr>\n",
       "      <th>3</th>\n",
       "      <td>7011</td>\n",
       "      <td>[-15.870619773864746, -6.40643835067749, -1.65...</td>\n",
       "      <td>[Publication]</td>\n",
       "      <td>[tensor(1.), tensor(0.), tensor(0.), tensor(0....</td>\n",
       "    </tr>\n",
       "    <tr>\n",
       "      <th>4</th>\n",
       "      <td>7017</td>\n",
       "      <td>[-17.103137969970703, -3.749770164489746, -3.2...</td>\n",
       "      <td>[Publication]</td>\n",
       "      <td>[tensor(1.), tensor(0.), tensor(0.), tensor(0....</td>\n",
       "    </tr>\n",
       "    <tr>\n",
       "      <th>...</th>\n",
       "      <td>...</td>\n",
       "      <td>...</td>\n",
       "      <td>...</td>\n",
       "      <td>...</td>\n",
       "    </tr>\n",
       "    <tr>\n",
       "      <th>342</th>\n",
       "      <td>13170</td>\n",
       "      <td>[-10.912079811096191, -6.778702259063721, -1.3...</td>\n",
       "      <td>[Publication]</td>\n",
       "      <td>[tensor(1.), tensor(0.), tensor(0.), tensor(0....</td>\n",
       "    </tr>\n",
       "    <tr>\n",
       "      <th>343</th>\n",
       "      <td>13171</td>\n",
       "      <td>[-5.502167701721191, -5.071459770202637, 1.299...</td>\n",
       "      <td>[Venue]</td>\n",
       "      <td>[tensor(0.), tensor(0.), tensor(0.), tensor(0....</td>\n",
       "    </tr>\n",
       "    <tr>\n",
       "      <th>344</th>\n",
       "      <td>13173</td>\n",
       "      <td>[-6.176707744598389, -5.64370584487915, 1.4108...</td>\n",
       "      <td>[Organization]</td>\n",
       "      <td>[tensor(0.), tensor(0.), tensor(0.), tensor(0....</td>\n",
       "    </tr>\n",
       "    <tr>\n",
       "      <th>345</th>\n",
       "      <td>13181</td>\n",
       "      <td>[-14.853845596313477, -6.310136795043945, 2.97...</td>\n",
       "      <td>[Publication]</td>\n",
       "      <td>[tensor(1.), tensor(0.), tensor(0.), tensor(0....</td>\n",
       "    </tr>\n",
       "    <tr>\n",
       "      <th>346</th>\n",
       "      <td>13194</td>\n",
       "      <td>[-14.460138320922852, -7.138647556304932, 0.55...</td>\n",
       "      <td>[Publication]</td>\n",
       "      <td>[tensor(1.), tensor(0.), tensor(0.), tensor(0....</td>\n",
       "    </tr>\n",
       "  </tbody>\n",
       "</table>\n",
       "<p>347 rows × 4 columns</p>\n",
       "</div>"
      ]
     },
     "metadata": {},
     "output_type": "display_data"
    }
   ],
   "execution_count": 30
  },
  {
   "metadata": {
    "ExecuteTime": {
     "end_time": "2024-08-02T10:37:13.074014Z",
     "start_time": "2024-08-02T10:37:13.072054Z"
    }
   },
   "cell_type": "code",
   "source": "",
   "id": "9d84f09b94271a13",
   "outputs": [],
   "execution_count": 30
  }
 ],
 "metadata": {
  "kernelspec": {
   "display_name": "Python 3",
   "language": "python",
   "name": "python3"
  },
  "language_info": {
   "codemirror_mode": {
    "name": "ipython",
    "version": 2
   },
   "file_extension": ".py",
   "mimetype": "text/x-python",
   "name": "python",
   "nbconvert_exporter": "python",
   "pygments_lexer": "ipython2",
   "version": "2.7.6"
  }
 },
 "nbformat": 4,
 "nbformat_minor": 5
}
