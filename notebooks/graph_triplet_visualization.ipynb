{
 "cells": [
  {
   "cell_type": "code",
   "id": "initial_id",
   "metadata": {
    "collapsed": true
   },
   "source": [
    "import os\n",
    "import torch\n",
    "import networkx as nx\n",
    "import matplotlib.pyplot as plt\n",
    "import matplotlib as mpl\n",
    "from torch_geometric.utils import to_networkx"
   ],
   "outputs": [],
   "execution_count": null
  },
  {
   "metadata": {},
   "cell_type": "code",
   "source": [
    "class TripletDataset:\n",
    "    def __init__(self, dataset_path):\n",
    "        self.dataset_path = dataset_path\n",
    "        self.batch_files = os.listdir(dataset_path)\n",
    "        \n",
    "    def iter_triplets(self):\n",
    "        for batch_file in self.batch_files:\n",
    "            file_path = os.path.join(self.dataset_path, batch_file)\n",
    "            batch = torch.load(file_path)\n",
    "            for triplet in batch:\n",
    "                yield triplet\n",
    "                \n",
    "    def __len__(self, batch_size):\n",
    "        return len(self.batch_files) * batch_size"
   ],
   "id": "eb4359248942aa4d",
   "outputs": [],
   "execution_count": null
  },
  {
   "metadata": {},
   "cell_type": "code",
   "source": [
    "\n",
    "\n",
    "def visualize_heterodata(data, node_colors=None, node_size=300, font_size=12):\n",
    "    \"\"\"\n",
    "    Visualize a HeteroData object using NetworkX and Matplotlib.\n",
    "\n",
    "    Args:\n",
    "        data (HeteroData): The heterogeneous graph data.\n",
    "        node_colors (dict): Optional. A dictionary mapping node types to colors.\n",
    "        node_size (int): Size of the nodes in the plot.\n",
    "        font_size (int): Font size of the labels.\n",
    "    \"\"\"\n",
    "    # Convert HeteroData to NetworkX graph\n",
    "    G = to_networkx(data, node_attrs=['x'], edge_attrs=['edge_attr'])\n",
    "\n",
    "    # Create a color map for the nodes based on their type\n",
    "    if node_colors is None:\n",
    "        cmap = mpl.colormaps.get_cmap('tab20')\n",
    "        node_colors = {key: cmap(i % cmap.N) for i, key in enumerate(data.node_types)}\n",
    "\n",
    "    color_map = []\n",
    "    for node in G.nodes(data=True):\n",
    "        node_type = node[1]['type']  # Get node type from data\n",
    "        color_map.append(node_colors[node_type])\n",
    "    \n",
    "    pos = nx.spring_layout(G)  # Define the layout for visualization\n",
    "    \n",
    "    plt.figure(figsize=(12, 8))\n",
    "    nx.draw(G, pos, with_labels=True, node_color=color_map, node_size=node_size, font_size=font_size, cmap=plt.get_cmap('tab20'))\n",
    "\n",
    "    # Create a legend for node types\n",
    "    for node_type, color in node_colors.items():\n",
    "        plt.scatter([], [], c=[color], label=node_type, s=node_size)\n",
    "    plt.legend(scatterpoints=1, frameon=False, labelspacing=1, loc='upper left')\n",
    "\n",
    "    plt.show()\n",
    "\n",
    "# Example usage\n",
    "# Assume `hetero_data` is an instance of HeteroData you want to visualize\n",
    "path = './data/triplet_dataset'\n",
    "dataset = TripletDataset(path)\n",
    "\n",
    "for triplet in dataset.iter_triplets():\n",
    "    anchor = triplet['anchor']['data']\n",
    "    visualize_heterodata(anchor)\n",
    "    visualize_heterodata(triplet['pos']['data'])\n",
    "    visualize_heterodata(triplet['neg']['data'])\n",
    "    break\n"
   ],
   "id": "8d8128d82f6e861a",
   "outputs": [],
   "execution_count": null
  }
 ],
 "metadata": {
  "kernelspec": {
   "display_name": "Python 3",
   "language": "python",
   "name": "python3"
  },
  "language_info": {
   "codemirror_mode": {
    "name": "ipython",
    "version": 2
   },
   "file_extension": ".py",
   "mimetype": "text/x-python",
   "name": "python",
   "nbconvert_exporter": "python",
   "pygments_lexer": "ipython2",
   "version": "2.7.6"
  }
 },
 "nbformat": 4,
 "nbformat_minor": 5
}
