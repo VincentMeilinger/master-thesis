{
 "cells": [
  {
   "cell_type": "code",
   "id": "initial_id",
   "metadata": {
    "collapsed": true,
    "ExecuteTime": {
     "end_time": "2024-11-26T07:49:40.032486Z",
     "start_time": "2024-11-26T07:49:37.480562Z"
    }
   },
   "source": [
    "from util_homogeneous import *\n",
    "from util import *\n",
    "from training_homogeneous import *\n",
    "from gat_models import *\n",
    "\n",
    "import random\n",
    "import numpy as np\n",
    "from sklearn.metrics import accuracy_score\n",
    "from tqdm.notebook import tqdm\n",
    "from torch_geometric.loader import DataLoader\n",
    "from torch.optim import Adam\n",
    "from torch.nn.modules.loss import TripletMarginLoss\n",
    "\n",
    "from src.shared.database_wrapper import DatabaseWrapper\n",
    "from src.shared.graph_schema import *\n",
    "from src.shared.graph_sampling import GraphSampling\n",
    "\n",
    "random.seed(40)\n",
    "np.random.seed(40)\n",
    "torch.manual_seed(40)\n",
    "torch.cuda.manual_seed_all(40)"
   ],
   "outputs": [
    {
     "name": "stderr",
     "output_type": "stream",
     "text": [
      "/home/vincie/.anaconda3/envs/master/lib/python3.9/site-packages/sentence_transformers/cross_encoder/CrossEncoder.py:11: TqdmExperimentalWarning: Using `tqdm.autonotebook.tqdm` in notebook mode. Use `tqdm.tqdm` instead to force console mode (e.g. in jupyter console)\n",
      "  from tqdm.autonotebook import tqdm, trange\n"
     ]
    }
   ],
   "execution_count": 1
  },
  {
   "metadata": {},
   "cell_type": "markdown",
   "source": "## Configurations",
   "id": "ee4fa502d7e51e50"
  },
  {
   "metadata": {
    "ExecuteTime": {
     "end_time": "2024-11-26T07:49:40.043473Z",
     "start_time": "2024-11-26T07:49:40.039306Z"
    }
   },
   "cell_type": "code",
   "source": [
    "# Graph sampling configurations\n",
    "node_spec = NodeType.PUBLICATION\n",
    "\n",
    "edge_spec = EdgeType.SIM_TITLE\n",
    "\n",
    "node_properties = [\n",
    "    'id',\n",
    "    'feature_vec',\n",
    "]\n",
    "\n",
    "database = 'dense-graph'\n",
    "gs = GraphSampling(\n",
    "    node_spec=[node_spec],\n",
    "    edge_spec=[edge_spec],\n",
    "    node_properties=node_properties,\n",
    "    database=database\n",
    ")\n",
    "\n",
    "# Model configurations\n",
    "\n",
    "config = {\n",
    "    'experiment': 'GATv2 encoder (with linear layer + dropout) trained on homogeneous dense graph (publication nodes with title and abstract, title edges) using Triplet Loss and full embeddings and low hidden dimensions',\n",
    "    'max_hops': 3,\n",
    "    'model_node_feature': 'feature_vec',  # Node feature to use for GAT encoder\n",
    "    'hidden_channels': 64,\n",
    "    'out_channels': 3,\n",
    "    'num_heads': 8,\n",
    "    'margin': 1.0,\n",
    "    'optimizer': 'Adam',\n",
    "    'learning_rate': 0.005,\n",
    "    'weight_decay': 5e-4,\n",
    "    'num_epochs': 10,\n",
    "    'batch_size': 32,\n",
    "}\n",
    "\n",
    "model_class = HomoGATEncoderLinearDropout\n",
    "loss_fn = TripletMarginLoss(margin=config['margin'])\n",
    "device = torch.device('cuda' if torch.cuda.is_available() else 'cpu')\n",
    "\n",
    "# TODO: Adjust result folder name!\n",
    "result_folder_name = 'dense (title) full_emb linear_layer dropout low-hidden-dim'\n",
    "result_folder_path = f'./data/results/{result_folder_name}'\n",
    "if not os.path.exists(result_folder_path):\n",
    "    os.mkdir(result_folder_path)"
   ],
   "id": "91b04efb689d61f4",
   "outputs": [
    {
     "name": "stdout",
     "output_type": "stream",
     "text": [
      "Using default edge type: SimilarTitle for homogeneous graph sampling.\n"
     ]
    }
   ],
   "execution_count": 2
  },
  {
   "metadata": {
    "ExecuteTime": {
     "end_time": "2024-11-26T07:49:40.268885Z",
     "start_time": "2024-11-26T07:49:40.115898Z"
    }
   },
   "cell_type": "code",
   "source": [
    "db = DatabaseWrapper(database=database)\n",
    "data_harvester = TripletDataHarvester(db=db, gs=gs, edge_spec=[edge_spec], config=config, valid_triplets_save_file='valid_triplets_dense_title', transformer_model='sentence-transformers/all-MiniLM-L6-v2')\n",
    "\n",
    "\n",
    "# Split the pairs into train and test\n",
    "\n",
    "train_size = int(0.85 * len(data_harvester.triplets))\n",
    "test_size = int(0.1 * len(data_harvester.triplets))\n",
    "eval_size = len(data_harvester.triplets) - train_size - test_size\n",
    "\n",
    "# Harvest the evaluation triplets first, since triplets are ordered by author. This will ensure that the evaluation set has authors not seen in the training set.\n",
    "eval_triplets = data_harvester.triplets[:eval_size]\n",
    "\n",
    "train_test_triplets = data_harvester.triplets[eval_size:]\n",
    "random.shuffle(train_test_triplets)\n",
    "\n",
    "train_triplets = train_test_triplets[:train_size]\n",
    "test_triplets = train_test_triplets[train_size:]\n",
    "config['train_size'] = len(train_triplets)\n",
    "config['test_size'] = len(test_triplets)\n",
    "config['eval_size'] = len(eval_triplets)\n",
    "\n",
    "print(f\"Train size: {len(train_triplets)}, Test size: {len(test_triplets)}, Eval size: {len(eval_triplets)}\")\n",
    "\n",
    "# Create the datasets from the pairs (distinct pairs for training and testing)\n",
    "train_dataset = HomogeneousGraphTripletDataset(train_triplets, gs, config=config)\n",
    "test_dataset = HomogeneousGraphTripletDataset(test_triplets, gs, config=config)\n",
    "eval_dataset = HomogeneousGraphTripletDataset(eval_triplets, gs, config=config)\n",
    "\n",
    "# Create the DataLoader\n",
    "train_dataloader = DataLoader(train_dataset, batch_size=config['batch_size'], shuffle=True, collate_fn=custom_triplet_collate)\n",
    "test_dataloader = DataLoader(test_dataset, batch_size=config['batch_size'], shuffle=False, collate_fn=custom_triplet_collate)\n",
    "eval_dataloader = DataLoader(eval_dataset, batch_size=config['batch_size'], shuffle=False, collate_fn=custom_triplet_collate)\n",
    "\n",
    "# Create model\n",
    "metadata = (\n",
    "    node_spec.value,\n",
    "    edge_spec.value\n",
    ")\n",
    "config['node_spec'] = metadata[0]\n",
    "config['edge_spec'] = metadata[1]\n",
    "model = model_class(config['hidden_channels'], config['out_channels'], num_heads=config['num_heads']).to(device)\n",
    "optimizer = Adam(model.parameters(), lr=config['learning_rate'], weight_decay=config['weight_decay'])"
   ],
   "id": "62ef1028a5c5fd5d",
   "outputs": [
    {
     "name": "stderr",
     "output_type": "stream",
     "text": [
      "2024-11-26 08:49:40,118 - DatabaseWrapper - INFO - Connecting to the database ...\n",
      "2024-11-26 08:49:40,119 - DatabaseWrapper - INFO - Database ready.\n"
     ]
    },
    {
     "name": "stdout",
     "output_type": "stream",
     "text": [
      "Preparing triplets...\n",
      "Loading triplets...\n",
      "Loaded 9755 triplets.\n",
      "Train size: 8291, Test size: 975, Eval size: 489\n"
     ]
    }
   ],
   "execution_count": 3
  },
  {
   "metadata": {
    "ExecuteTime": {
     "end_time": "2024-11-26T10:04:32.277396Z",
     "start_time": "2024-11-26T07:49:40.278487Z"
    }
   },
   "cell_type": "code",
   "source": [
    "num_epochs = config['num_epochs']\n",
    "train_losses = []\n",
    "\n",
    "test_losses = []\n",
    "test_accuracies = []\n",
    "test_correct_pos = []\n",
    "test_correct_neg = []\n",
    "\n",
    "eval_losses = []\n",
    "eval_accuracies = []\n",
    "eval_correct_pos = []\n",
    "eval_correct_neg = []\n",
    "\n",
    "current_batch = 1\n",
    "\n",
    "for epoch in range(1, num_epochs + 1):\n",
    "    print(f\"=== Epoch {epoch}/{num_epochs} ======================\")\n",
    "    epoch_marker_pos = list(range(0, len(train_dataloader) * epoch, len(train_dataloader)))\n",
    "    current_batch = 1\n",
    "    for batch_anchor, batch_pos, batch_neg in tqdm(train_dataloader, desc=f\"Epoch {epoch}/{num_epochs}\"):\n",
    "        if batch_anchor is None or batch_pos is None or batch_neg is None:\n",
    "            continue\n",
    "        \n",
    "        if current_batch == 1 or current_batch == len(train_dataloader) // 2:\n",
    "            print(f\"___ Current Batch {current_batch}/{len(train_dataloader)} _________________________\")\n",
    "            # Model testing\n",
    "            print(\"    Test Results:\")\n",
    "            test_loss, test_num_correct, test_correct_pos_val, test_correct_neg_val = test(\n",
    "                model=model,\n",
    "                loss_fn=loss_fn,\n",
    "                dataloader=test_dataloader,\n",
    "                margin=config['margin']\n",
    "            )\n",
    "            test_losses.append(test_loss)\n",
    "            test_accuracies.append(test_num_correct)\n",
    "            test_correct_pos.append(test_correct_pos_val)\n",
    "            test_correct_neg.append(test_correct_neg_val)\n",
    "    \n",
    "            plot_loss(test_losses, epoch_len=2, plot_title='Test Loss', plot_avg=False, plot_file=result_folder_path + '/test_loss.png')\n",
    "            plot_loss(\n",
    "                test_accuracies,\n",
    "                epoch_len=2,\n",
    "                plot_title='Test Accuracy',\n",
    "                plot_avg=False, \n",
    "                x_label='Test Iterations',\n",
    "                y_label='Accuracy',\n",
    "                line_label='Accuracy',\n",
    "                plot_file=result_folder_path + '/test_accuracy.png'\n",
    "            )\n",
    "            \n",
    "            # Model evaluation\n",
    "            print(\"    Eval Results:\")\n",
    "            eval_loss, eval_num_correct, eval_correct_pos_val, eval_correct_neg_val = evaluate(\n",
    "                model=model,\n",
    "                loss_fn=loss_fn,\n",
    "                dataloader=eval_dataloader,\n",
    "                margin=config['margin']\n",
    "            )\n",
    "            eval_losses.append(eval_loss)\n",
    "            eval_accuracies.append(eval_num_correct)\n",
    "            eval_correct_pos.append(eval_correct_pos_val)\n",
    "            eval_correct_neg.append(eval_correct_neg_val)\n",
    "            \n",
    "            plot_loss(eval_losses, epoch_len=2, plot_title='Evaluation Loss', plot_avg=False, plot_file=result_folder_path + '/eval_loss.png')\n",
    "            plot_loss(\n",
    "                eval_accuracies, \n",
    "                epoch_len=2, \n",
    "                plot_title='Evaluation Accuracy', \n",
    "                plot_avg=False, \n",
    "                x_label='Eval Iterations',\n",
    "                y_label='Accuracy',\n",
    "                line_label='Accuracy',\n",
    "                plot_file=result_folder_path + '/eval_accuracy.png'\n",
    "            )\n",
    "            \n",
    "        loss = train(\n",
    "            model=model,\n",
    "            loss_fn=loss_fn,\n",
    "            batch_anchor=batch_anchor,\n",
    "            batch_pos=batch_pos,\n",
    "            batch_neg=batch_neg,\n",
    "            optimizer=optimizer\n",
    "        )\n",
    "        train_losses.append(loss)\n",
    "        \n",
    "        plot_loss(train_losses, epoch_len=len(train_dataloader), plot_title='Training Loss', plot_avg=True, plot_file=result_folder_path + '/train_loss.png')\n",
    "        current_batch += 1\n",
    "        \n",
    "    # Save config and training results\n",
    "    eval_results = {\n",
    "        'eval_losses': eval_losses,\n",
    "        'eval_accuracies': eval_accuracies,\n",
    "        'eval_correct_pos': eval_correct_pos,\n",
    "        'eval_correct_neg': eval_correct_neg\n",
    "    }\n",
    "    save_training_results(train_losses, test_losses, eval_results, config, result_folder_path + '/training_data.json')\n",
    "    \n",
    "    # Save model if loss has decreased\n",
    "    if len(test_losses) > 1 and test_losses[-1] < min(test_losses[:-1]):\n",
    "        print(f\"Saving model at epoch {epoch}...\")\n",
    "        torch.save(model.state_dict(), result_folder_path + '/gat_encoder.pt')"
   ],
   "id": "c3b28cd52881796",
   "outputs": [
    {
     "name": "stdout",
     "output_type": "stream",
     "text": [
      "=== Epoch 1/10 ======================\n"
     ]
    },
    {
     "data": {
      "text/plain": [
       "Epoch 1/10:   0%|          | 0/260 [00:00<?, ?it/s]"
      ],
      "application/vnd.jupyter.widget-view+json": {
       "version_major": 2,
       "version_minor": 0,
       "model_id": "66e783b701cb48d0b0b10f944789683e"
      }
     },
     "metadata": {},
     "output_type": "display_data"
    },
    {
     "name": "stdout",
     "output_type": "stream",
     "text": [
      "___ Current Batch 1/260 _________________________\n",
      "    Test Results:\n",
      "        Correct positive: 975 (100.00%), Correct negative: 0 (0.00%)\n",
      "        Total correct: 975 (50.00%)\n",
      "        Test Loss: 1.0043, Test Accuracy: 0.5000\n",
      "    Eval Results:\n",
      "        Correct positive: 489 (100.00%), Correct negative: 0 (0.00%)\n",
      "        Total correct: 489 (50.00%)\n",
      "        Eval Loss: 1.0016, Eval Accuracy: 0.5000\n",
      "___ Current Batch 130/260 _________________________\n",
      "    Test Results:\n",
      "        Correct positive: 546 (56.00%), Correct negative: 849 (87.08%)\n",
      "        Total correct: 1395 (71.54%)\n",
      "        Test Loss: 0.3428, Test Accuracy: 0.7154\n",
      "    Eval Results:\n",
      "        Correct positive: 185 (37.83%), Correct negative: 191 (39.06%)\n",
      "        Total correct: 376 (38.45%)\n",
      "        Eval Loss: 1.3183, Eval Accuracy: 0.3845\n",
      "Saving model at epoch 1...\n",
      "=== Epoch 2/10 ======================\n"
     ]
    },
    {
     "data": {
      "text/plain": [
       "Epoch 2/10:   0%|          | 0/260 [00:00<?, ?it/s]"
      ],
      "application/vnd.jupyter.widget-view+json": {
       "version_major": 2,
       "version_minor": 0,
       "model_id": "a23ee2be22bd409e9b09ef37948cc845"
      }
     },
     "metadata": {},
     "output_type": "display_data"
    },
    {
     "name": "stdout",
     "output_type": "stream",
     "text": [
      "___ Current Batch 1/260 _________________________\n",
      "    Test Results:\n",
      "        Correct positive: 691 (70.87%), Correct negative: 834 (85.54%)\n",
      "        Total correct: 1525 (78.21%)\n",
      "        Test Loss: 0.2710, Test Accuracy: 0.7821\n",
      "    Eval Results:\n",
      "        Correct positive: 402 (82.21%), Correct negative: 81 (16.56%)\n",
      "        Total correct: 483 (49.39%)\n",
      "        Eval Loss: 1.0455, Eval Accuracy: 0.4939\n",
      "___ Current Batch 130/260 _________________________\n",
      "    Test Results:\n",
      "        Correct positive: 669 (68.62%), Correct negative: 845 (86.67%)\n",
      "        Total correct: 1514 (77.64%)\n",
      "        Test Loss: 0.2327, Test Accuracy: 0.7764\n",
      "    Eval Results:\n",
      "        Correct positive: 278 (56.85%), Correct negative: 201 (41.10%)\n",
      "        Total correct: 479 (48.98%)\n",
      "        Eval Loss: 1.1367, Eval Accuracy: 0.4898\n",
      "Saving model at epoch 2...\n",
      "=== Epoch 3/10 ======================\n"
     ]
    },
    {
     "data": {
      "text/plain": [
       "Epoch 3/10:   0%|          | 0/260 [00:00<?, ?it/s]"
      ],
      "application/vnd.jupyter.widget-view+json": {
       "version_major": 2,
       "version_minor": 0,
       "model_id": "330f3726ab1a4098a73e0fbe2f317f9a"
      }
     },
     "metadata": {},
     "output_type": "display_data"
    },
    {
     "name": "stdout",
     "output_type": "stream",
     "text": [
      "___ Current Batch 1/260 _________________________\n",
      "    Test Results:\n",
      "        Correct positive: 693 (71.08%), Correct negative: 856 (87.79%)\n",
      "        Total correct: 1549 (79.44%)\n",
      "        Test Loss: 0.2561, Test Accuracy: 0.7944\n",
      "    Eval Results:\n",
      "        Correct positive: 280 (57.26%), Correct negative: 228 (46.63%)\n",
      "        Total correct: 508 (51.94%)\n",
      "        Eval Loss: 1.0510, Eval Accuracy: 0.5194\n",
      "___ Current Batch 130/260 _________________________\n",
      "    Test Results:\n",
      "        Correct positive: 797 (81.74%), Correct negative: 801 (82.15%)\n",
      "        Total correct: 1598 (81.95%)\n",
      "        Test Loss: 0.2606, Test Accuracy: 0.8195\n",
      "    Eval Results:\n",
      "        Correct positive: 464 (94.89%), Correct negative: 25 (5.11%)\n",
      "        Total correct: 489 (50.00%)\n",
      "        Eval Loss: 1.0662, Eval Accuracy: 0.5000\n",
      "=== Epoch 4/10 ======================\n"
     ]
    },
    {
     "data": {
      "text/plain": [
       "Epoch 4/10:   0%|          | 0/260 [00:00<?, ?it/s]"
      ],
      "application/vnd.jupyter.widget-view+json": {
       "version_major": 2,
       "version_minor": 0,
       "model_id": "f3a00e8d7bf34846bdc2d5d31a689a4f"
      }
     },
     "metadata": {},
     "output_type": "display_data"
    },
    {
     "name": "stdout",
     "output_type": "stream",
     "text": [
      "___ Current Batch 1/260 _________________________\n",
      "    Test Results:\n",
      "        Correct positive: 606 (62.15%), Correct negative: 886 (90.87%)\n",
      "        Total correct: 1492 (76.51%)\n",
      "        Test Loss: 0.2632, Test Accuracy: 0.7651\n",
      "    Eval Results:\n",
      "        Correct positive: 295 (60.33%), Correct negative: 175 (35.79%)\n",
      "        Total correct: 470 (48.06%)\n",
      "        Eval Loss: 1.0342, Eval Accuracy: 0.4806\n",
      "___ Current Batch 130/260 _________________________\n",
      "    Test Results:\n",
      "        Correct positive: 680 (69.74%), Correct negative: 875 (89.74%)\n",
      "        Total correct: 1555 (79.74%)\n",
      "        Test Loss: 0.2588, Test Accuracy: 0.7974\n",
      "    Eval Results:\n",
      "        Correct positive: 349 (71.37%), Correct negative: 128 (26.18%)\n",
      "        Total correct: 477 (48.77%)\n",
      "        Eval Loss: 1.0347, Eval Accuracy: 0.4877\n",
      "=== Epoch 5/10 ======================\n"
     ]
    },
    {
     "data": {
      "text/plain": [
       "Epoch 5/10:   0%|          | 0/260 [00:00<?, ?it/s]"
      ],
      "application/vnd.jupyter.widget-view+json": {
       "version_major": 2,
       "version_minor": 0,
       "model_id": "3d6f9e01621f4e258c27aa54500c20aa"
      }
     },
     "metadata": {},
     "output_type": "display_data"
    },
    {
     "name": "stdout",
     "output_type": "stream",
     "text": [
      "___ Current Batch 1/260 _________________________\n",
      "    Test Results:\n",
      "        Correct positive: 776 (79.59%), Correct negative: 860 (88.21%)\n",
      "        Total correct: 1636 (83.90%)\n",
      "        Test Loss: 0.1854, Test Accuracy: 0.8390\n",
      "    Eval Results:\n",
      "        Correct positive: 402 (82.21%), Correct negative: 70 (14.31%)\n",
      "        Total correct: 472 (48.26%)\n",
      "        Eval Loss: 1.0157, Eval Accuracy: 0.4826\n",
      "___ Current Batch 130/260 _________________________\n",
      "    Test Results:\n",
      "        Correct positive: 794 (81.44%), Correct negative: 836 (85.74%)\n",
      "        Total correct: 1630 (83.59%)\n",
      "        Test Loss: 0.2219, Test Accuracy: 0.8359\n",
      "    Eval Results:\n",
      "        Correct positive: 378 (77.30%), Correct negative: 146 (29.86%)\n",
      "        Total correct: 524 (53.58%)\n",
      "        Eval Loss: 0.9575, Eval Accuracy: 0.5358\n",
      "=== Epoch 6/10 ======================\n"
     ]
    },
    {
     "data": {
      "text/plain": [
       "Epoch 6/10:   0%|          | 0/260 [00:00<?, ?it/s]"
      ],
      "application/vnd.jupyter.widget-view+json": {
       "version_major": 2,
       "version_minor": 0,
       "model_id": "b167b55aeeea4f65884948369ad57ce7"
      }
     },
     "metadata": {},
     "output_type": "display_data"
    },
    {
     "name": "stdout",
     "output_type": "stream",
     "text": [
      "___ Current Batch 1/260 _________________________\n",
      "    Test Results:\n",
      "        Correct positive: 661 (67.79%), Correct negative: 884 (90.67%)\n",
      "        Total correct: 1545 (79.23%)\n",
      "        Test Loss: 0.2160, Test Accuracy: 0.7923\n",
      "    Eval Results:\n",
      "        Correct positive: 280 (57.26%), Correct negative: 100 (20.45%)\n",
      "        Total correct: 380 (38.85%)\n",
      "        Eval Loss: 1.3504, Eval Accuracy: 0.3885\n",
      "___ Current Batch 130/260 _________________________\n",
      "    Test Results:\n",
      "        Correct positive: 712 (73.03%), Correct negative: 890 (91.28%)\n",
      "        Total correct: 1602 (82.15%)\n",
      "        Test Loss: 0.1985, Test Accuracy: 0.8215\n",
      "    Eval Results:\n",
      "        Correct positive: 385 (78.73%), Correct negative: 115 (23.52%)\n",
      "        Total correct: 500 (51.12%)\n",
      "        Eval Loss: 1.0461, Eval Accuracy: 0.5112\n",
      "=== Epoch 7/10 ======================\n"
     ]
    },
    {
     "data": {
      "text/plain": [
       "Epoch 7/10:   0%|          | 0/260 [00:00<?, ?it/s]"
      ],
      "application/vnd.jupyter.widget-view+json": {
       "version_major": 2,
       "version_minor": 0,
       "model_id": "42af6807ca59469aa4040f85fc0b14fe"
      }
     },
     "metadata": {},
     "output_type": "display_data"
    },
    {
     "name": "stdout",
     "output_type": "stream",
     "text": [
      "___ Current Batch 1/260 _________________________\n",
      "    Test Results:\n",
      "        Correct positive: 727 (74.56%), Correct negative: 903 (92.62%)\n",
      "        Total correct: 1630 (83.59%)\n",
      "        Test Loss: 0.1765, Test Accuracy: 0.8359\n",
      "    Eval Results:\n",
      "        Correct positive: 346 (70.76%), Correct negative: 151 (30.88%)\n",
      "        Total correct: 497 (50.82%)\n",
      "        Eval Loss: 0.9720, Eval Accuracy: 0.5082\n",
      "___ Current Batch 130/260 _________________________\n",
      "    Test Results:\n",
      "        Correct positive: 757 (77.64%), Correct negative: 885 (90.77%)\n",
      "        Total correct: 1642 (84.21%)\n",
      "        Test Loss: 0.1947, Test Accuracy: 0.8421\n",
      "    Eval Results:\n",
      "        Correct positive: 272 (55.62%), Correct negative: 191 (39.06%)\n",
      "        Total correct: 463 (47.34%)\n",
      "        Eval Loss: 1.1555, Eval Accuracy: 0.4734\n",
      "=== Epoch 8/10 ======================\n"
     ]
    },
    {
     "data": {
      "text/plain": [
       "Epoch 8/10:   0%|          | 0/260 [00:00<?, ?it/s]"
      ],
      "application/vnd.jupyter.widget-view+json": {
       "version_major": 2,
       "version_minor": 0,
       "model_id": "58689b26688b4a05a25fa7fc9211d64d"
      }
     },
     "metadata": {},
     "output_type": "display_data"
    },
    {
     "name": "stdout",
     "output_type": "stream",
     "text": [
      "___ Current Batch 1/260 _________________________\n",
      "    Test Results:\n",
      "        Correct positive: 579 (59.38%), Correct negative: 911 (93.44%)\n",
      "        Total correct: 1490 (76.41%)\n",
      "        Test Loss: 0.1892, Test Accuracy: 0.7641\n",
      "    Eval Results:\n",
      "        Correct positive: 195 (39.88%), Correct negative: 293 (59.92%)\n",
      "        Total correct: 488 (49.90%)\n",
      "        Eval Loss: 1.2052, Eval Accuracy: 0.4990\n",
      "___ Current Batch 130/260 _________________________\n",
      "    Test Results:\n",
      "        Correct positive: 822 (84.31%), Correct negative: 875 (89.74%)\n",
      "        Total correct: 1697 (87.03%)\n",
      "        Test Loss: 0.1636, Test Accuracy: 0.8703\n",
      "    Eval Results:\n",
      "        Correct positive: 360 (73.62%), Correct negative: 90 (18.40%)\n",
      "        Total correct: 450 (46.01%)\n",
      "        Eval Loss: 1.1673, Eval Accuracy: 0.4601\n",
      "Saving model at epoch 8...\n",
      "=== Epoch 9/10 ======================\n"
     ]
    },
    {
     "data": {
      "text/plain": [
       "Epoch 9/10:   0%|          | 0/260 [00:00<?, ?it/s]"
      ],
      "application/vnd.jupyter.widget-view+json": {
       "version_major": 2,
       "version_minor": 0,
       "model_id": "106b2cb6c04946958c9abd4859587a83"
      }
     },
     "metadata": {},
     "output_type": "display_data"
    },
    {
     "name": "stdout",
     "output_type": "stream",
     "text": [
      "___ Current Batch 1/260 _________________________\n",
      "    Test Results:\n",
      "        Correct positive: 770 (78.97%), Correct negative: 895 (91.79%)\n",
      "        Total correct: 1665 (85.38%)\n",
      "        Test Loss: 0.1652, Test Accuracy: 0.8538\n",
      "    Eval Results:\n",
      "        Correct positive: 362 (74.03%), Correct negative: 74 (15.13%)\n",
      "        Total correct: 436 (44.58%)\n",
      "        Eval Loss: 1.2920, Eval Accuracy: 0.4458\n",
      "___ Current Batch 130/260 _________________________\n",
      "    Test Results:\n",
      "        Correct positive: 769 (78.87%), Correct negative: 907 (93.03%)\n",
      "        Total correct: 1676 (85.95%)\n",
      "        Test Loss: 0.1522, Test Accuracy: 0.8595\n",
      "    Eval Results:\n",
      "        Correct positive: 355 (72.60%), Correct negative: 124 (25.36%)\n",
      "        Total correct: 479 (48.98%)\n",
      "        Eval Loss: 1.0464, Eval Accuracy: 0.4898\n",
      "Saving model at epoch 9...\n",
      "=== Epoch 10/10 ======================\n"
     ]
    },
    {
     "data": {
      "text/plain": [
       "Epoch 10/10:   0%|          | 0/260 [00:00<?, ?it/s]"
      ],
      "application/vnd.jupyter.widget-view+json": {
       "version_major": 2,
       "version_minor": 0,
       "model_id": "2f7a725c4ec04f84a0f8d5a019bd5370"
      }
     },
     "metadata": {},
     "output_type": "display_data"
    },
    {
     "name": "stdout",
     "output_type": "stream",
     "text": [
      "___ Current Batch 1/260 _________________________\n",
      "    Test Results:\n",
      "        Correct positive: 714 (73.23%), Correct negative: 912 (93.54%)\n",
      "        Total correct: 1626 (83.38%)\n",
      "        Test Loss: 0.1991, Test Accuracy: 0.8338\n",
      "    Eval Results:\n",
      "        Correct positive: 258 (52.76%), Correct negative: 216 (44.17%)\n",
      "        Total correct: 474 (48.47%)\n",
      "        Eval Loss: 1.0538, Eval Accuracy: 0.4847\n",
      "___ Current Batch 130/260 _________________________\n",
      "    Test Results:\n",
      "        Correct positive: 803 (82.36%), Correct negative: 883 (90.56%)\n",
      "        Total correct: 1686 (86.46%)\n",
      "        Test Loss: 0.1830, Test Accuracy: 0.8646\n",
      "    Eval Results:\n",
      "        Correct positive: 359 (73.42%), Correct negative: 182 (37.22%)\n",
      "        Total correct: 541 (55.32%)\n",
      "        Eval Loss: 0.8530, Eval Accuracy: 0.5532\n"
     ]
    }
   ],
   "execution_count": 4
  }
 ],
 "metadata": {
  "kernelspec": {
   "display_name": "Python 3",
   "language": "python",
   "name": "python3"
  },
  "language_info": {
   "codemirror_mode": {
    "name": "ipython",
    "version": 2
   },
   "file_extension": ".py",
   "mimetype": "text/x-python",
   "name": "python",
   "nbconvert_exporter": "python",
   "pygments_lexer": "ipython2",
   "version": "2.7.6"
  }
 },
 "nbformat": 4,
 "nbformat_minor": 5
}
