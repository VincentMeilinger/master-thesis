{
 "cells": [
  {
   "cell_type": "code",
   "id": "initial_id",
   "metadata": {
    "collapsed": true,
    "ExecuteTime": {
     "end_time": "2024-12-10T14:40:58.037867Z",
     "start_time": "2024-12-10T14:40:55.343559Z"
    }
   },
   "source": [
    "from util_homogeneous import *\n",
    "from util import *\n",
    "from training_homogeneous import *\n",
    "from gat_models import *\n",
    "\n",
    "from collections import defaultdict\n",
    "import random\n",
    "import numpy as np\n",
    "from tqdm.notebook import tqdm\n",
    "from torch_geometric.loader import DataLoader\n",
    "from torch.optim import Adam, SGD\n",
    "from torch.nn.modules.loss import TripletMarginLoss\n",
    "\n",
    "from src.shared.database_wrapper import DatabaseWrapper\n",
    "from src.shared.graph_schema import *\n",
    "from src.shared.graph_sampling import GraphSampling\n",
    "\n",
    "random.seed(40)\n",
    "np.random.seed(40)\n",
    "torch.manual_seed(40)\n",
    "torch.cuda.manual_seed_all(40)"
   ],
   "outputs": [
    {
     "name": "stderr",
     "output_type": "stream",
     "text": [
      "/home/vincie/.anaconda3/envs/master/lib/python3.9/site-packages/sentence_transformers/cross_encoder/CrossEncoder.py:11: TqdmExperimentalWarning: Using `tqdm.autonotebook.tqdm` in notebook mode. Use `tqdm.tqdm` instead to force console mode (e.g. in jupyter console)\n",
      "  from tqdm.autonotebook import tqdm, trange\n"
     ]
    }
   ],
   "execution_count": 1
  },
  {
   "metadata": {},
   "cell_type": "markdown",
   "source": "## Configurations",
   "id": "ee4fa502d7e51e50"
  },
  {
   "metadata": {
    "ExecuteTime": {
     "end_time": "2024-12-10T14:40:58.047909Z",
     "start_time": "2024-12-10T14:40:58.044353Z"
    }
   },
   "cell_type": "code",
   "source": [
    "# Graph sampling configurations\n",
    "node_spec = NodeType.PUBLICATION\n",
    "\n",
    "edge_spec = EdgeType.SIM_ORG\n",
    "\n",
    "node_properties = [\n",
    "    'id',\n",
    "    'feature_vec',\n",
    "]\n",
    "\n",
    "database = 'small-graph'\n",
    "gs = GraphSampling(\n",
    "    node_spec=[node_spec],\n",
    "    edge_spec=[edge_spec],\n",
    "    node_properties=node_properties,\n",
    "    database=database\n",
    ")\n",
    "\n",
    "# Model configurations\n",
    "\n",
    "config = {\n",
    "    'experiment': 'GATv2 encoder (with linear layer + dropout) trained on small graph (publication nodes with title and abstract, org edges) using Triplet Loss and full embeddings',\n",
    "    'max_hops': 2,\n",
    "    'model_node_feature': 'feature_vec',  # Node feature to use for GAT encoder\n",
    "    'hidden_channels': 32,\n",
    "    'out_channels': 8,\n",
    "    'num_heads': 8,\n",
    "    'dropout_p': 0.4,\n",
    "    'margin': 1.0,\n",
    "    'optimizer': 'Adam',\n",
    "    'learning_rate': 0.005,\n",
    "    'weight_decay': 5e-4,\n",
    "    'num_epochs': 10,\n",
    "    'batch_size': 32,\n",
    "}\n",
    "\n",
    "model_class = HomoGATv2Encoder\n",
    "loss_fn = TripletMarginLoss(margin=config['margin'])\n",
    "device = torch.device('cuda' if torch.cuda.is_available() else 'cpu')\n",
    "\n",
    "# TODO: Adjust result folder name!\n",
    "result_folder_name = 'homogeneous (org) full_emb linear_layer dropout 32h 8out'\n",
    "result_folder_path = f'./data/results/{result_folder_name}'\n",
    "if not os.path.exists(result_folder_path):\n",
    "    os.mkdir(result_folder_path)"
   ],
   "id": "91b04efb689d61f4",
   "outputs": [
    {
     "name": "stdout",
     "output_type": "stream",
     "text": [
      "Using default edge type: SimilarOrg for homogeneous graph sampling.\n"
     ]
    }
   ],
   "execution_count": 2
  },
  {
   "metadata": {
    "ExecuteTime": {
     "end_time": "2024-12-10T14:40:58.283613Z",
     "start_time": "2024-12-10T14:40:58.092133Z"
    }
   },
   "cell_type": "code",
   "source": [
    "db = DatabaseWrapper(database=database)\n",
    "data_harvester = TripletDataHarvester(db=db, gs=gs, edge_spec=[edge_spec], config=config, valid_triplets_save_file='valid_triplets_homogeneous_org_small_graph', transformer_model='sentence-transformers/all-MiniLM-L6-v2')\n",
    "\n",
    "\n",
    "# Split the pairs into train and test\n",
    "\n",
    "train_size = int(0.85 * len(data_harvester.triplets))\n",
    "test_size = int(0.1 * len(data_harvester.triplets))\n",
    "eval_size = len(data_harvester.triplets) - train_size - test_size\n",
    "\n",
    "# Harvest the evaluation triplets first, since triplets are ordered by author. This will ensure that the evaluation set has authors not seen in the training set.\n",
    "num_eval_authors = 3\n",
    "eval_papers = set()\n",
    "train_data = WhoIsWhoDataset.parse_train()\n",
    "for i, val in enumerate(train_data.values()):\n",
    "    num_eval_authors -= 1\n",
    "    for paper in val['normal_data']:\n",
    "        eval_papers.add(paper)\n",
    "    if num_eval_authors == 0:\n",
    "        break\n",
    "eval_triplets = []\n",
    "for triplet in data_harvester.triplets:\n",
    "    if triplet[0] in eval_papers or triplet[1] in eval_papers or triplet[2] in eval_papers:\n",
    "        eval_triplets.append(triplet)\n",
    "\n",
    "# Remove the evaluation triplets from the data harvester\n",
    "train_test_triplets = [triplet for triplet in data_harvester.triplets if triplet not in eval_triplets]\n",
    "\n",
    "random.shuffle(train_test_triplets)\n",
    "\n",
    "train_size = int(0.85 * len(train_test_triplets))\n",
    "test_size = len(train_test_triplets) - train_size\n",
    "\n",
    "train_triplets = train_test_triplets[:train_size]\n",
    "test_triplets = train_test_triplets[train_size:]\n",
    "config['train_size'] = len(train_triplets)\n",
    "config['test_size'] = len(test_triplets)\n",
    "config['eval_size'] = len(eval_triplets)\n",
    "\n",
    "print(f\"Train size: {len(train_triplets)}, Test size: {len(test_triplets)}, Eval size: {len(eval_triplets)}\")\n",
    "\n",
    "# Create the datasets from the pairs (distinct pairs for training and testing)\n",
    "train_dataset = HomogeneousGraphTripletDataset(train_triplets, gs, config=config)\n",
    "test_dataset = HomogeneousGraphTripletDataset(test_triplets, gs, config=config)\n",
    "eval_dataset = HomogeneousGraphTripletDataset(eval_triplets, gs, config=config)\n",
    "\n",
    "# Create the DataLoader\n",
    "train_dataloader = DataLoader(train_dataset, batch_size=config['batch_size'], shuffle=True, collate_fn=custom_triplet_collate)\n",
    "test_dataloader = DataLoader(test_dataset, batch_size=config['batch_size'], shuffle=False, collate_fn=custom_triplet_collate)\n",
    "eval_dataloader = DataLoader(eval_dataset, batch_size=config['batch_size'], shuffle=False, collate_fn=custom_triplet_collate)\n",
    "\n",
    "# Create model\n",
    "metadata = (\n",
    "    node_spec.value,\n",
    "    edge_spec.value\n",
    ")\n",
    "config['node_spec'] = metadata[0]\n",
    "config['edge_spec'] = metadata[1]\n",
    "model = model_class(config['hidden_channels'], config['out_channels'], num_heads=config['num_heads'], dropout_p=config['dropout_p']).to(device)\n",
    "#optimizer = SGD(model.parameters(), lr=0.1, momentum=0.9)\n",
    "optimizer = Adam(model.parameters(), lr=config['learning_rate'], weight_decay=config['weight_decay'])"
   ],
   "id": "62ef1028a5c5fd5d",
   "outputs": [
    {
     "name": "stderr",
     "output_type": "stream",
     "text": [
      "2024-12-10 15:40:58,095 - DatabaseWrapper - INFO - Connecting to the database ...\n",
      "2024-12-10 15:40:58,096 - DatabaseWrapper - INFO - Database ready.\n"
     ]
    },
    {
     "name": "stdout",
     "output_type": "stream",
     "text": [
      "Preparing triplets...\n",
      "Loading triplets...\n",
      "Loaded 3684 triplets.\n",
      "Train size: 2850, Test size: 503, Eval size: 331\n"
     ]
    }
   ],
   "execution_count": 3
  },
  {
   "metadata": {
    "ExecuteTime": {
     "end_time": "2024-12-10T16:51:02.230472Z",
     "start_time": "2024-12-10T14:40:58.293823Z"
    }
   },
   "cell_type": "code",
   "source": [
    "num_epochs = config['num_epochs']\n",
    "results = defaultdict(list)\n",
    "\n",
    "current_batch = 1\n",
    "\n",
    "for epoch in range(1, num_epochs + 1):\n",
    "    print(f\"=== Epoch {epoch}/{num_epochs} ======================\")\n",
    "    epoch_marker_pos = list(range(0, len(train_dataloader) * epoch, len(train_dataloader)))\n",
    "    current_batch = 1\n",
    "    for batch_anchor, batch_pos, batch_neg in tqdm(train_dataloader, desc=f\"Epoch {epoch}/{num_epochs}\"):\n",
    "        if batch_anchor is None or batch_pos is None or batch_neg is None:\n",
    "            continue\n",
    "        \n",
    "        if current_batch == 1 or current_batch == len(train_dataloader) // 2:\n",
    "            print(f\"___ Current Batch {current_batch}/{len(train_dataloader)} _________________________\")\n",
    "            # Model testing\n",
    "            print(\"    Test Results:\")\n",
    "            test_loss, test_num_correct, test_correct_pos_val, test_correct_neg_val, test_precision, test_recall, test_F1 = test_and_eval(\n",
    "                model=model,\n",
    "                loss_fn=loss_fn,\n",
    "                dataloader=test_dataloader,\n",
    "                margin=config['margin']\n",
    "            )\n",
    "            results['test_total_loss'].append(test_loss)\n",
    "            results['test_accuracies'].append(test_num_correct)\n",
    "            results['test_accuracies_correct_pos'].append(test_correct_pos_val)\n",
    "            results['test_accuracies_correct_neg'].append(test_correct_neg_val)\n",
    "            results['test_precision'].append(test_precision)\n",
    "            results['test_recall'].append(test_recall)\n",
    "            results['test_F1'].append(test_F1)\n",
    "    \n",
    "            plot_losses(\n",
    "                losses=[results['test_total_loss']], \n",
    "                epoch_len=2, \n",
    "                plot_title='Test Loss', \n",
    "                plot_file=result_folder_path + '/test_loss.png', \n",
    "                line_labels=[\"Triplet Loss\"]\n",
    "            )\n",
    "            \n",
    "            plot_losses(\n",
    "                [results['test_accuracies'], results['test_accuracies_correct_pos'], results['test_accuracies_correct_neg']],\n",
    "                epoch_len=2,\n",
    "                plot_title='Test Accuracy',\n",
    "                x_label='Test Iterations',\n",
    "                y_label='Accuracy',\n",
    "                line_labels=['Total Accuracy', 'Correct Pos', 'Correct Neg'],\n",
    "                plot_file=result_folder_path + '/test_accuracy.png'\n",
    "            )\n",
    "            \n",
    "            # Model evaluation\n",
    "            print(\"    Eval Results:\")\n",
    "            eval_loss, eval_num_correct, eval_correct_pos_val, eval_correct_neg_val, eval_precision, eval_recall, eval_F1 = test_and_eval(\n",
    "                model=model,\n",
    "                loss_fn=loss_fn,\n",
    "                dataloader=eval_dataloader,\n",
    "                margin=config['margin']\n",
    "            )\n",
    "            results['eval_total_loss'].append(eval_loss)\n",
    "            results['eval_accuracies'].append(eval_num_correct)\n",
    "            results['eval_accuracies_correct_pos'].append(eval_correct_pos_val)\n",
    "            results['eval_accuracies_correct_neg'].append(eval_correct_neg_val)\n",
    "            results['eval_precision'].append(eval_precision)\n",
    "            results['eval_recall'].append(eval_recall)\n",
    "            results['eval_F1'].append(eval_F1)\n",
    "            \n",
    "            plot_losses(\n",
    "                losses=[results['eval_total_loss']], \n",
    "                epoch_len=2, \n",
    "                plot_title='Evaluation Loss', \n",
    "                plot_file=result_folder_path + '/eval_loss.png', \n",
    "                line_labels=[\"Triplet Loss\"]\n",
    "            )\n",
    "            \n",
    "            plot_losses(\n",
    "                [results['eval_accuracies'], results['eval_accuracies_correct_pos'], results['eval_accuracies_correct_neg']], \n",
    "                epoch_len=2, \n",
    "                plot_title='Evaluation Accuracy', \n",
    "                x_label='Eval Iterations',\n",
    "                y_label='Accuracy',\n",
    "                line_labels=['Total Accuracy', 'Correct Pos', 'Correct Neg'],\n",
    "                plot_file=result_folder_path + '/eval_accuracy.png'\n",
    "            )\n",
    "            \n",
    "            # Save config and training results\n",
    "            config['results'] = results\n",
    "            save_dict_to_json(config, result_folder_path + '/training_data.json')\n",
    "            \n",
    "            # Save model if loss has decreased\n",
    "            if len(results['eval_accuracies']) > 1 and results['eval_accuracies'][-1] > max(results['eval_accuracies'][:-1]):\n",
    "                print(f\"Saving model at epoch {epoch}...\")\n",
    "                torch.save(model.state_dict(), result_folder_path + '/gat_encoder.pt')\n",
    "            \n",
    "        loss = train(\n",
    "            model=model,\n",
    "            loss_fn=loss_fn,\n",
    "            batch_anchor=batch_anchor,\n",
    "            batch_pos=batch_pos,\n",
    "            batch_neg=batch_neg,\n",
    "            optimizer=optimizer\n",
    "        )\n",
    "        results['train_loss'].append(loss)\n",
    "        \n",
    "        plot_loss(results['train_loss'], epoch_len=len(train_dataloader), plot_title='Training Loss', plot_avg=True, plot_file=result_folder_path + '/train_loss.png')\n",
    "        current_batch += 1\n",
    "        "
   ],
   "id": "c3b28cd52881796",
   "outputs": [
    {
     "name": "stdout",
     "output_type": "stream",
     "text": [
      "=== Epoch 1/10 ======================\n"
     ]
    },
    {
     "data": {
      "text/plain": [
       "Epoch 1/10:   0%|          | 0/90 [00:00<?, ?it/s]"
      ],
      "application/vnd.jupyter.widget-view+json": {
       "version_major": 2,
       "version_minor": 0,
       "model_id": "1948b0c8e5994a7cb0f4a54ef58063da"
      }
     },
     "metadata": {},
     "output_type": "display_data"
    },
    {
     "name": "stdout",
     "output_type": "stream",
     "text": [
      "___ Current Batch 1/90 _________________________\n",
      "    Test Results:\n",
      "        Correct positive: 503 (100.00%), Correct negative: 0 (0.00%)\n",
      "        Total correct: 503 (50.00%)\n",
      "        Test/Eval Loss: 0.9552, Test/Eval Accuracy: 0.5000\n",
      "        Precision: 0.5000, Recall: 1.0000, F1: 0.6667\n",
      "    Eval Results:\n",
      "        Correct positive: 331 (100.00%), Correct negative: 0 (0.00%)\n",
      "        Total correct: 331 (50.00%)\n",
      "        Test/Eval Loss: 0.9837, Test/Eval Accuracy: 0.5000\n",
      "        Precision: 0.5000, Recall: 1.0000, F1: 0.6667\n",
      "___ Current Batch 45/90 _________________________\n",
      "    Test Results:\n",
      "        Correct positive: 365 (72.56%), Correct negative: 409 (81.31%)\n",
      "        Total correct: 774 (76.94%)\n",
      "        Test/Eval Loss: 0.4227, Test/Eval Accuracy: 0.7694\n",
      "        Precision: 0.7952, Recall: 0.7256, F1: 0.7588\n",
      "    Eval Results:\n",
      "        Correct positive: 275 (83.08%), Correct negative: 113 (34.14%)\n",
      "        Total correct: 388 (58.61%)\n",
      "        Test/Eval Loss: 0.5935, Test/Eval Accuracy: 0.5861\n",
      "        Precision: 0.5578, Recall: 0.8308, F1: 0.6675\n",
      "Saving model at epoch 1...\n",
      "=== Epoch 2/10 ======================\n"
     ]
    },
    {
     "data": {
      "text/plain": [
       "Epoch 2/10:   0%|          | 0/90 [00:00<?, ?it/s]"
      ],
      "application/vnd.jupyter.widget-view+json": {
       "version_major": 2,
       "version_minor": 0,
       "model_id": "0c05fb6a92904b1f9d8654bdaea2ef3e"
      }
     },
     "metadata": {},
     "output_type": "display_data"
    },
    {
     "name": "stdout",
     "output_type": "stream",
     "text": [
      "___ Current Batch 1/90 _________________________\n",
      "    Test Results:\n",
      "        Correct positive: 428 (85.09%), Correct negative: 410 (81.51%)\n",
      "        Total correct: 838 (83.30%)\n",
      "        Test/Eval Loss: 0.2902, Test/Eval Accuracy: 0.8330\n",
      "        Precision: 0.8215, Recall: 0.8509, F1: 0.8359\n",
      "    Eval Results:\n",
      "        Correct positive: 282 (85.20%), Correct negative: 54 (16.31%)\n",
      "        Total correct: 336 (50.76%)\n",
      "        Test/Eval Loss: 0.7593, Test/Eval Accuracy: 0.5076\n",
      "        Precision: 0.5045, Recall: 0.8520, F1: 0.6337\n",
      "___ Current Batch 45/90 _________________________\n",
      "    Test Results:\n",
      "        Correct positive: 427 (84.89%), Correct negative: 409 (81.31%)\n",
      "        Total correct: 836 (83.10%)\n",
      "        Test/Eval Loss: 0.3039, Test/Eval Accuracy: 0.8310\n",
      "        Precision: 0.8196, Recall: 0.8489, F1: 0.8340\n",
      "    Eval Results:\n",
      "        Correct positive: 214 (64.65%), Correct negative: 250 (75.53%)\n",
      "        Total correct: 464 (70.09%)\n",
      "        Test/Eval Loss: 0.6462, Test/Eval Accuracy: 0.7009\n",
      "        Precision: 0.7254, Recall: 0.6465, F1: 0.6837\n",
      "Saving model at epoch 2...\n",
      "=== Epoch 3/10 ======================\n"
     ]
    },
    {
     "data": {
      "text/plain": [
       "Epoch 3/10:   0%|          | 0/90 [00:00<?, ?it/s]"
      ],
      "application/vnd.jupyter.widget-view+json": {
       "version_major": 2,
       "version_minor": 0,
       "model_id": "0fcc53833a7146af86377d38e60c0069"
      }
     },
     "metadata": {},
     "output_type": "display_data"
    },
    {
     "name": "stdout",
     "output_type": "stream",
     "text": [
      "___ Current Batch 1/90 _________________________\n",
      "    Test Results:\n",
      "        Correct positive: 417 (82.90%), Correct negative: 442 (87.87%)\n",
      "        Total correct: 859 (85.39%)\n",
      "        Test/Eval Loss: 0.2789, Test/Eval Accuracy: 0.8539\n",
      "        Precision: 0.8724, Recall: 0.8290, F1: 0.8502\n",
      "    Eval Results:\n",
      "        Correct positive: 242 (73.11%), Correct negative: 246 (74.32%)\n",
      "        Total correct: 488 (73.72%)\n",
      "        Test/Eval Loss: 0.6129, Test/Eval Accuracy: 0.7372\n",
      "        Precision: 0.7401, Recall: 0.7311, F1: 0.7356\n",
      "Saving model at epoch 3...\n",
      "___ Current Batch 45/90 _________________________\n",
      "    Test Results:\n",
      "        Correct positive: 437 (86.88%), Correct negative: 367 (72.96%)\n",
      "        Total correct: 804 (79.92%)\n",
      "        Test/Eval Loss: 0.3605, Test/Eval Accuracy: 0.7992\n",
      "        Precision: 0.7627, Recall: 0.8688, F1: 0.8123\n",
      "    Eval Results:\n",
      "        Correct positive: 231 (69.79%), Correct negative: 252 (76.13%)\n",
      "        Total correct: 483 (72.96%)\n",
      "        Test/Eval Loss: 0.5961, Test/Eval Accuracy: 0.7296\n",
      "        Precision: 0.7452, Recall: 0.6979, F1: 0.7207\n",
      "=== Epoch 4/10 ======================\n"
     ]
    },
    {
     "data": {
      "text/plain": [
       "Epoch 4/10:   0%|          | 0/90 [00:00<?, ?it/s]"
      ],
      "application/vnd.jupyter.widget-view+json": {
       "version_major": 2,
       "version_minor": 0,
       "model_id": "55faeeda0e894b879ff412739f7d4d4d"
      }
     },
     "metadata": {},
     "output_type": "display_data"
    },
    {
     "name": "stdout",
     "output_type": "stream",
     "text": [
      "___ Current Batch 1/90 _________________________\n",
      "    Test Results:\n",
      "        Correct positive: 390 (77.53%), Correct negative: 460 (91.45%)\n",
      "        Total correct: 850 (84.49%)\n",
      "        Test/Eval Loss: 0.2596, Test/Eval Accuracy: 0.8449\n",
      "        Precision: 0.9007, Recall: 0.7753, F1: 0.8333\n",
      "    Eval Results:\n",
      "        Correct positive: 245 (74.02%), Correct negative: 295 (89.12%)\n",
      "        Total correct: 540 (81.57%)\n",
      "        Test/Eval Loss: 0.3924, Test/Eval Accuracy: 0.8157\n",
      "        Precision: 0.8719, Recall: 0.7402, F1: 0.8007\n",
      "Saving model at epoch 4...\n",
      "___ Current Batch 45/90 _________________________\n",
      "    Test Results:\n",
      "        Correct positive: 423 (84.10%), Correct negative: 386 (76.74%)\n",
      "        Total correct: 809 (80.42%)\n",
      "        Test/Eval Loss: 0.3420, Test/Eval Accuracy: 0.8042\n",
      "        Precision: 0.7833, Recall: 0.8410, F1: 0.8111\n",
      "    Eval Results:\n",
      "        Correct positive: 222 (67.07%), Correct negative: 230 (69.49%)\n",
      "        Total correct: 452 (68.28%)\n",
      "        Test/Eval Loss: 0.6352, Test/Eval Accuracy: 0.6828\n",
      "        Precision: 0.6873, Recall: 0.6707, F1: 0.6789\n",
      "=== Epoch 5/10 ======================\n"
     ]
    },
    {
     "data": {
      "text/plain": [
       "Epoch 5/10:   0%|          | 0/90 [00:00<?, ?it/s]"
      ],
      "application/vnd.jupyter.widget-view+json": {
       "version_major": 2,
       "version_minor": 0,
       "model_id": "f8ce446975e94d67ad98a0422e47ca12"
      }
     },
     "metadata": {},
     "output_type": "display_data"
    },
    {
     "name": "stdout",
     "output_type": "stream",
     "text": [
      "___ Current Batch 1/90 _________________________\n",
      "    Test Results:\n",
      "        Correct positive: 425 (84.49%), Correct negative: 423 (84.10%)\n",
      "        Total correct: 848 (84.29%)\n",
      "        Test/Eval Loss: 0.2644, Test/Eval Accuracy: 0.8429\n",
      "        Precision: 0.8416, Recall: 0.8449, F1: 0.8433\n",
      "    Eval Results:\n",
      "        Correct positive: 253 (76.44%), Correct negative: 276 (83.38%)\n",
      "        Total correct: 529 (79.91%)\n",
      "        Test/Eval Loss: 0.4454, Test/Eval Accuracy: 0.7991\n",
      "        Precision: 0.8214, Recall: 0.7644, F1: 0.7919\n",
      "___ Current Batch 45/90 _________________________\n",
      "    Test Results:\n",
      "        Correct positive: 458 (91.05%), Correct negative: 372 (73.96%)\n",
      "        Total correct: 830 (82.50%)\n",
      "        Test/Eval Loss: 0.3176, Test/Eval Accuracy: 0.8250\n",
      "        Precision: 0.7776, Recall: 0.9105, F1: 0.8388\n",
      "    Eval Results:\n",
      "        Correct positive: 245 (74.02%), Correct negative: 189 (57.10%)\n",
      "        Total correct: 434 (65.56%)\n",
      "        Test/Eval Loss: 0.7151, Test/Eval Accuracy: 0.6556\n",
      "        Precision: 0.6331, Recall: 0.7402, F1: 0.6825\n",
      "=== Epoch 6/10 ======================\n"
     ]
    },
    {
     "data": {
      "text/plain": [
       "Epoch 6/10:   0%|          | 0/90 [00:00<?, ?it/s]"
      ],
      "application/vnd.jupyter.widget-view+json": {
       "version_major": 2,
       "version_minor": 0,
       "model_id": "d58d6ac475de46679e28833a40010893"
      }
     },
     "metadata": {},
     "output_type": "display_data"
    },
    {
     "name": "stdout",
     "output_type": "stream",
     "text": [
      "___ Current Batch 1/90 _________________________\n",
      "    Test Results:\n",
      "        Correct positive: 424 (84.29%), Correct negative: 407 (80.91%)\n",
      "        Total correct: 831 (82.60%)\n",
      "        Test/Eval Loss: 0.3306, Test/Eval Accuracy: 0.8260\n",
      "        Precision: 0.8154, Recall: 0.8429, F1: 0.8289\n",
      "    Eval Results:\n",
      "        Correct positive: 268 (80.97%), Correct negative: 225 (67.98%)\n",
      "        Total correct: 493 (74.47%)\n",
      "        Test/Eval Loss: 0.5192, Test/Eval Accuracy: 0.7447\n",
      "        Precision: 0.7166, Recall: 0.8097, F1: 0.7603\n",
      "___ Current Batch 45/90 _________________________\n",
      "    Test Results:\n",
      "        Correct positive: 440 (87.48%), Correct negative: 402 (79.92%)\n",
      "        Total correct: 842 (83.70%)\n",
      "        Test/Eval Loss: 0.2979, Test/Eval Accuracy: 0.8370\n",
      "        Precision: 0.8133, Recall: 0.8748, F1: 0.8429\n",
      "    Eval Results:\n",
      "        Correct positive: 218 (65.86%), Correct negative: 211 (63.75%)\n",
      "        Total correct: 429 (64.80%)\n",
      "        Test/Eval Loss: 0.6699, Test/Eval Accuracy: 0.6480\n",
      "        Precision: 0.6450, Recall: 0.6586, F1: 0.6517\n",
      "=== Epoch 7/10 ======================\n"
     ]
    },
    {
     "data": {
      "text/plain": [
       "Epoch 7/10:   0%|          | 0/90 [00:00<?, ?it/s]"
      ],
      "application/vnd.jupyter.widget-view+json": {
       "version_major": 2,
       "version_minor": 0,
       "model_id": "987a5e3860134bd8ba76ba918ef205f6"
      }
     },
     "metadata": {},
     "output_type": "display_data"
    },
    {
     "name": "stdout",
     "output_type": "stream",
     "text": [
      "___ Current Batch 1/90 _________________________\n",
      "    Test Results:\n",
      "        Correct positive: 409 (81.31%), Correct negative: 433 (86.08%)\n",
      "        Total correct: 842 (83.70%)\n",
      "        Test/Eval Loss: 0.3202, Test/Eval Accuracy: 0.8370\n",
      "        Precision: 0.8539, Recall: 0.8131, F1: 0.8330\n",
      "    Eval Results:\n",
      "        Correct positive: 242 (73.11%), Correct negative: 181 (54.68%)\n",
      "        Total correct: 423 (63.90%)\n",
      "        Test/Eval Loss: 0.6243, Test/Eval Accuracy: 0.6390\n",
      "        Precision: 0.6173, Recall: 0.7311, F1: 0.6694\n",
      "___ Current Batch 45/90 _________________________\n",
      "    Test Results:\n",
      "        Correct positive: 462 (91.85%), Correct negative: 343 (68.19%)\n",
      "        Total correct: 805 (80.02%)\n",
      "        Test/Eval Loss: 0.3779, Test/Eval Accuracy: 0.8002\n",
      "        Precision: 0.7428, Recall: 0.9185, F1: 0.8213\n",
      "    Eval Results:\n",
      "        Correct positive: 280 (84.59%), Correct negative: 189 (57.10%)\n",
      "        Total correct: 469 (70.85%)\n",
      "        Test/Eval Loss: 0.5544, Test/Eval Accuracy: 0.7085\n",
      "        Precision: 0.6635, Recall: 0.8459, F1: 0.7437\n",
      "=== Epoch 8/10 ======================\n"
     ]
    },
    {
     "data": {
      "text/plain": [
       "Epoch 8/10:   0%|          | 0/90 [00:00<?, ?it/s]"
      ],
      "application/vnd.jupyter.widget-view+json": {
       "version_major": 2,
       "version_minor": 0,
       "model_id": "97947e2ecfdd43c390cffa7f424b2fee"
      }
     },
     "metadata": {},
     "output_type": "display_data"
    },
    {
     "name": "stdout",
     "output_type": "stream",
     "text": [
      "___ Current Batch 1/90 _________________________\n",
      "    Test Results:\n",
      "        Correct positive: 414 (82.31%), Correct negative: 400 (79.52%)\n",
      "        Total correct: 814 (80.91%)\n",
      "        Test/Eval Loss: 0.3397, Test/Eval Accuracy: 0.8091\n",
      "        Precision: 0.8008, Recall: 0.8231, F1: 0.8118\n",
      "    Eval Results:\n",
      "        Correct positive: 235 (71.00%), Correct negative: 303 (91.54%)\n",
      "        Total correct: 538 (81.27%)\n",
      "        Test/Eval Loss: 0.3807, Test/Eval Accuracy: 0.8127\n",
      "        Precision: 0.8935, Recall: 0.7100, F1: 0.7912\n",
      "___ Current Batch 45/90 _________________________\n",
      "    Test Results:\n",
      "        Correct positive: 432 (85.88%), Correct negative: 402 (79.92%)\n",
      "        Total correct: 834 (82.90%)\n",
      "        Test/Eval Loss: 0.3031, Test/Eval Accuracy: 0.8290\n",
      "        Precision: 0.8105, Recall: 0.8588, F1: 0.8340\n",
      "    Eval Results:\n",
      "        Correct positive: 256 (77.34%), Correct negative: 251 (75.83%)\n",
      "        Total correct: 507 (76.59%)\n",
      "        Test/Eval Loss: 0.5266, Test/Eval Accuracy: 0.7659\n",
      "        Precision: 0.7619, Recall: 0.7734, F1: 0.7676\n",
      "=== Epoch 9/10 ======================\n"
     ]
    },
    {
     "data": {
      "text/plain": [
       "Epoch 9/10:   0%|          | 0/90 [00:00<?, ?it/s]"
      ],
      "application/vnd.jupyter.widget-view+json": {
       "version_major": 2,
       "version_minor": 0,
       "model_id": "9f76f9746bf344a9a03f60c1559990a7"
      }
     },
     "metadata": {},
     "output_type": "display_data"
    },
    {
     "name": "stdout",
     "output_type": "stream",
     "text": [
      "___ Current Batch 1/90 _________________________\n",
      "    Test Results:\n",
      "        Correct positive: 431 (85.69%), Correct negative: 365 (72.56%)\n",
      "        Total correct: 796 (79.13%)\n",
      "        Test/Eval Loss: 0.3545, Test/Eval Accuracy: 0.7913\n",
      "        Precision: 0.7575, Recall: 0.8569, F1: 0.8041\n",
      "    Eval Results:\n",
      "        Correct positive: 199 (60.12%), Correct negative: 285 (86.10%)\n",
      "        Total correct: 484 (73.11%)\n",
      "        Test/Eval Loss: 0.4645, Test/Eval Accuracy: 0.7311\n",
      "        Precision: 0.8122, Recall: 0.6012, F1: 0.6910\n",
      "___ Current Batch 45/90 _________________________\n",
      "    Test Results:\n",
      "        Correct positive: 441 (87.67%), Correct negative: 403 (80.12%)\n",
      "        Total correct: 844 (83.90%)\n",
      "        Test/Eval Loss: 0.3041, Test/Eval Accuracy: 0.8390\n",
      "        Precision: 0.8152, Recall: 0.8767, F1: 0.8448\n",
      "    Eval Results:\n",
      "        Correct positive: 216 (65.26%), Correct negative: 257 (77.64%)\n",
      "        Total correct: 473 (71.45%)\n",
      "        Test/Eval Loss: 0.6081, Test/Eval Accuracy: 0.7145\n",
      "        Precision: 0.7448, Recall: 0.6526, F1: 0.6957\n",
      "=== Epoch 10/10 ======================\n"
     ]
    },
    {
     "data": {
      "text/plain": [
       "Epoch 10/10:   0%|          | 0/90 [00:00<?, ?it/s]"
      ],
      "application/vnd.jupyter.widget-view+json": {
       "version_major": 2,
       "version_minor": 0,
       "model_id": "8084f6d68afd42e3b7650338e31ba744"
      }
     },
     "metadata": {},
     "output_type": "display_data"
    },
    {
     "name": "stdout",
     "output_type": "stream",
     "text": [
      "___ Current Batch 1/90 _________________________\n",
      "    Test Results:\n",
      "        Correct positive: 441 (87.67%), Correct negative: 414 (82.31%)\n",
      "        Total correct: 855 (84.99%)\n",
      "        Test/Eval Loss: 0.2953, Test/Eval Accuracy: 0.8499\n",
      "        Precision: 0.8321, Recall: 0.8767, F1: 0.8538\n",
      "    Eval Results:\n",
      "        Correct positive: 252 (76.13%), Correct negative: 284 (85.80%)\n",
      "        Total correct: 536 (80.97%)\n",
      "        Test/Eval Loss: 0.4256, Test/Eval Accuracy: 0.8097\n",
      "        Precision: 0.8428, Recall: 0.7613, F1: 0.8000\n",
      "___ Current Batch 45/90 _________________________\n",
      "    Test Results:\n",
      "        Correct positive: 436 (86.68%), Correct negative: 435 (86.48%)\n",
      "        Total correct: 871 (86.58%)\n",
      "        Test/Eval Loss: 0.2576, Test/Eval Accuracy: 0.8658\n",
      "        Precision: 0.8651, Recall: 0.8668, F1: 0.8659\n",
      "    Eval Results:\n",
      "        Correct positive: 269 (81.27%), Correct negative: 263 (79.46%)\n",
      "        Total correct: 532 (80.36%)\n",
      "        Test/Eval Loss: 0.4591, Test/Eval Accuracy: 0.8036\n",
      "        Precision: 0.7982, Recall: 0.8127, F1: 0.8054\n"
     ]
    }
   ],
   "execution_count": 4
  }
 ],
 "metadata": {
  "kernelspec": {
   "display_name": "Python 3",
   "language": "python",
   "name": "python3"
  },
  "language_info": {
   "codemirror_mode": {
    "name": "ipython",
    "version": 2
   },
   "file_extension": ".py",
   "mimetype": "text/x-python",
   "name": "python",
   "nbconvert_exporter": "python",
   "pygments_lexer": "ipython2",
   "version": "2.7.6"
  }
 },
 "nbformat": 4,
 "nbformat_minor": 5
}
