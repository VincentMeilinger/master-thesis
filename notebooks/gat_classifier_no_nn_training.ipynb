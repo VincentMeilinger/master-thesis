{
 "cells": [
  {
   "cell_type": "code",
   "id": "initial_id",
   "metadata": {
    "collapsed": true,
    "ExecuteTime": {
     "end_time": "2024-12-09T16:17:14.401146Z",
     "start_time": "2024-12-09T16:17:14.398240Z"
    }
   },
   "source": [
    "from notebooks.util_classifier import MultiHomogeneousGraphTripletDataset\n",
    "from training_classifier import *\n",
    "from util_classifier import *\n",
    "from util import plot_losses, save_training_results, save_dict_to_json\n",
    "from gat_models import *\n",
    "\n",
    "import os\n",
    "import random\n",
    "import numpy as np\n",
    "from sklearn.metrics import accuracy_score\n",
    "from tqdm.notebook import tqdm\n",
    "from torch_geometric.loader import DataLoader\n",
    "from torch.optim import Adam\n",
    "from torch.nn.modules.loss import TripletMarginLoss\n",
    "import torch.nn as nn\n",
    "from src.shared.database_wrapper import DatabaseWrapper\n",
    "from src.shared.graph_schema import *\n",
    "from src.shared.graph_sampling import GraphSampling\n",
    "\n",
    "random.seed(40)\n",
    "np.random.seed(40)\n",
    "torch.manual_seed(40)\n",
    "torch.cuda.manual_seed_all(40)"
   ],
   "outputs": [],
   "execution_count": 9
  },
  {
   "metadata": {
    "ExecuteTime": {
     "end_time": "2024-12-09T16:17:14.423950Z",
     "start_time": "2024-12-09T16:17:14.421928Z"
    }
   },
   "cell_type": "code",
   "source": [
    "config = {\n",
    "    'experiment': 'GAT Classifier Training',\n",
    "    'max_hops': 2,\n",
    "    'model_node_feature': 'feature_vec',  # Node feature to use for GAT encoder\n",
    "    'hidden_channels': 64,\n",
    "    'out_channels': 16,\n",
    "    'num_heads': 8,\n",
    "    'classifier_in_channels': 3 * 16,\n",
    "    'classifier_hidden_channels': 64,\n",
    "    'classifier_out_channels': 16,\n",
    "    'classifier_dropout': 0.2,\n",
    "    'margin': 1.0,\n",
    "    'optimizer': 'Adam',\n",
    "    'learning_rate': 0.005,\n",
    "    'weight_decay': 5e-4,\n",
    "    'num_epochs': 10,\n",
    "    'batch_size': 32,\n",
    "}"
   ],
   "id": "a053e7ce282b9a50",
   "outputs": [],
   "execution_count": 10
  },
  {
   "metadata": {
    "ExecuteTime": {
     "end_time": "2024-12-09T16:17:14.480385Z",
     "start_time": "2024-12-09T16:17:14.467046Z"
    }
   },
   "cell_type": "code",
   "source": [
    "# Graph sampling configurations\n",
    "node_properties = [\n",
    "    'id',\n",
    "    'feature_vec',\n",
    "]\n",
    "\n",
    "node_spec = [\n",
    "    NodeType.PUBLICATION\n",
    "]\n",
    "\n",
    "edge_spec = [\n",
    "    # EdgeType.SIM_TITLE,\n",
    "    EdgeType.SIM_ABSTRACT,\n",
    "    EdgeType.SIM_AUTHOR,\n",
    "    EdgeType.SIM_ORG,\n",
    "    #EdgeType.SAME_AUTHOR,\n",
    "]\n",
    "\n",
    "gat_list = {\n",
    "    EdgeType.SIM_ABSTRACT: './data/results/homogeneous (abstract) full_emb linear_layer dropout baseline/gat_encoder.pt',\n",
    "    EdgeType.SIM_AUTHOR: './data/results/homogeneous (similar co-authors) full_emb linear_layer dropout baseline/gat_encoder.pt',\n",
    "    EdgeType.SIM_ORG: './data/results/homogeneous (org) full_emb linear_layer dropout baseline/gat_encoder.pt',\n",
    "    #EdgeType.SAME_AUTHOR: './data/results/homogeneous (same author) full_emb linear_layer dropout/gat_encoder.pt'\n",
    "}\n",
    "\n",
    "\n",
    "database = 'small-graph'\n",
    "gs = GraphSampling(\n",
    "    node_spec=node_spec,\n",
    "    edge_spec=edge_spec,\n",
    "    node_properties=node_properties,\n",
    "    database=database\n",
    ")\n",
    "\n",
    "# Model configurations\n",
    "# Load pre-trained GAT encoders\n",
    "gat_encoders = {}\n",
    "for edge_key, gat_path in gat_list.items():\n",
    "    gat_encoder = HomoGATv2Encoder(config['hidden_channels'], config['out_channels'], num_heads=config['num_heads']).to(device)\n",
    "    gat_encoder.load_state_dict(torch.load(gat_path))\n",
    "    gat_list[edge_key] = gat_encoder\n",
    "\n",
    "loss_fn = TripletMarginLoss(margin=config['margin'])\n",
    "device = torch.device('cuda' if torch.cuda.is_available() else 'cpu')\n",
    "\n",
    "# TODO: Adjust result folder name!\n",
    "result_folder_name = 'classifier full_emb no nn (abstract, org, sim_author edges)'\n",
    "result_folder_path = f'./data/results/{result_folder_name}'\n",
    "if not os.path.exists(result_folder_path):\n",
    "    os.mkdir(result_folder_path)"
   ],
   "id": "8bf2f1d69c0ec445",
   "outputs": [
    {
     "name": "stdout",
     "output_type": "stream",
     "text": [
      "Using default edge type: SimilarAbstract for homogeneous graph sampling.\n"
     ]
    }
   ],
   "execution_count": 11
  },
  {
   "metadata": {},
   "cell_type": "markdown",
   "source": [
    "## Embedding Network\n",
    "**This network takes in the stacked GAT node embeddings and outputs a lower-dimensional embedding.**"
   ],
   "id": "300fa32358270cd9"
  },
  {
   "metadata": {
    "ExecuteTime": {
     "end_time": "2024-12-09T16:17:14.571576Z",
     "start_time": "2024-12-09T16:17:14.568669Z"
    }
   },
   "cell_type": "code",
   "source": [
    "class EmbeddingNet(nn.Module):\n",
    "    def __init__(self, input_size, hidden_size = 128, embedding_size = 16, dropout = 0.2):\n",
    "        super(EmbeddingNet, self).__init__()\n",
    "        self.fc = nn.Sequential(\n",
    "            nn.Dropout(dropout),\n",
    "            nn.Linear(input_size, hidden_size),\n",
    "            nn.BatchNorm1d(hidden_size),\n",
    "            nn.ReLU(),\n",
    "            nn.Dropout(dropout),\n",
    "            nn.Linear(hidden_size, embedding_size),\n",
    "        )\n",
    "    \n",
    "    def forward(self, x):\n",
    "        x = self.fc(x)\n",
    "        x = F.normalize(x, p=2, dim=-1)\n",
    "        return x"
   ],
   "id": "2f21df15b8250070",
   "outputs": [],
   "execution_count": 12
  },
  {
   "metadata": {},
   "cell_type": "markdown",
   "source": [
    "## Triplet Network\n",
    "**This network takes in three inputs: an anchor, a positive example, and a negative example. It outputs the embeddings of the three inputs. It is used to simplify triplet loss training**"
   ],
   "id": "e794b8217c921084"
  },
  {
   "metadata": {
    "ExecuteTime": {
     "end_time": "2024-12-09T16:17:14.618578Z",
     "start_time": "2024-12-09T16:17:14.613721Z"
    }
   },
   "cell_type": "code",
   "source": [
    "class TripletNet(nn.Module):\n",
    "    def __init__(self, embedding_net: EmbeddingNet, edge_spec: [EdgeType], gat_encoders: dict[EdgeType, nn.Module]):\n",
    "        super(TripletNet, self).__init__()\n",
    "        self.edge_spec = edge_spec\n",
    "        self.gat_encoders = gat_encoders\n",
    "        self.embedding_net = embedding_net\n",
    "        \"\"\"\n",
    "        for gat in self.gat_encoders.values():\n",
    "            gat.eval()\n",
    "            for param in gat.parameters():\n",
    "                param.requires_grad = False\n",
    "        \"\"\"\n",
    "\n",
    "    def forward(self, data_dict: dict):\n",
    "        anchor = []\n",
    "        positive = []\n",
    "        negative = []\n",
    "        \n",
    "        for edge_type in self.edge_spec:\n",
    "            # Anchor node embedding for the edge type \n",
    "            anchor_graph = data_dict[edge_type][0]\n",
    "            anchor_gat_emb = self.gat_encoders[edge_type](anchor_graph)\n",
    "            anchor.append(anchor_gat_emb[anchor_graph.central_node_id])\n",
    "            \n",
    "            # Positive node embedding for the edge type\n",
    "            positive_graph = data_dict[edge_type][1]\n",
    "            positive_gat_emb = self.gat_encoders[edge_type](positive_graph)\n",
    "            positive.append(positive_gat_emb[positive_graph.central_node_id])\n",
    "            \n",
    "            # Negative node embedding for the edge type\n",
    "            negative_graph = data_dict[edge_type][2]\n",
    "            negative_gat_emb = self.gat_encoders[edge_type](negative_graph)\n",
    "            negative.append(negative_gat_emb[negative_graph.central_node_id])\n",
    "            \n",
    "        anchor = torch.cat(anchor, dim=1)\n",
    "        positive = torch.cat(positive, dim=1)\n",
    "        negative = torch.cat(negative, dim=1)\n",
    "        \n",
    "        #output_anchor = self.embedding_net(anchor)\n",
    "        #output_positive = self.embedding_net(positive)\n",
    "        #output_negative = self.embedding_net(negative)\n",
    "        \n",
    "        return anchor, positive, negative #output_anchor, output_positive, output_negative\n",
    "\n",
    "    def get_embedding(self, x):\n",
    "        return self.embedding_net(x)"
   ],
   "id": "4c72f91a757a3500",
   "outputs": [],
   "execution_count": 13
  },
  {
   "metadata": {},
   "cell_type": "markdown",
   "source": [
    "## Pair Classifier\n",
    "**This network will be used for the actual classification task (the AND pipeline).**"
   ],
   "id": "988a62dfdb08331d"
  },
  {
   "metadata": {
    "ExecuteTime": {
     "end_time": "2024-12-09T16:17:14.663767Z",
     "start_time": "2024-12-09T16:17:14.661533Z"
    }
   },
   "cell_type": "code",
   "source": [
    "class PairClassifier(nn.Module):\n",
    "    def __init__(self, embedding_net):\n",
    "        super(PairClassifier, self).__init__()\n",
    "        self.embedding_net = embedding_net\n",
    "\n",
    "    def forward(self, embedding_1, embedding_2):\n",
    "        out_1 = self.embedding_net(embedding_1)\n",
    "        out_2 = self.embedding_net(embedding_2)\n",
    "        \n",
    "        # Compute probability of the pair being similar by computing pairwise distance\n",
    "        distance = F.pairwise_distance(out_1, out_2)\n",
    "        similarity_prediction = torch.sigmoid(-distance)\n",
    "        \n",
    "        return similarity_prediction\n",
    "\n",
    "    def get_embedding(self, x):\n",
    "        return self.embedding_net(x)"
   ],
   "id": "c7d713968074844a",
   "outputs": [],
   "execution_count": 14
  },
  {
   "metadata": {},
   "cell_type": "markdown",
   "source": "## Training",
   "id": "4dfe22b3fa0ce6f8"
  },
  {
   "metadata": {
    "ExecuteTime": {
     "end_time": "2024-12-09T16:17:14.712897Z",
     "start_time": "2024-12-09T16:17:14.706838Z"
    }
   },
   "cell_type": "code",
   "source": [
    "db = DatabaseWrapper(database=database)\n",
    "data_harvester = ClassifierTripletDataHarvester(db=db, gs=gs, edge_spec=edge_spec, config=config, valid_triplets_save_file='valid_triplets_classifier_small_graph', transformer_model='sentence-transformers/all-MiniLM-L6-v2')\n",
    "\n",
    "\n",
    "# Split the pairs into train and test\n",
    "\n",
    "# Harvest the evaluation triplets first, since triplets are ordered by author. This will ensure that the evaluation set has authors not seen in the training set.\n",
    "\n",
    "config['eval_size'] = len(data_harvester.triplets)\n",
    "\n",
    "print(f\"Eval size: {len(data_harvester.triplets)}\")\n",
    "\n",
    "# Create the datasets from the pairs (distinct pairs for training and testing)\n",
    "eval_dataset = MultiHomogeneousGraphTripletDataset(data_harvester.triplets, gs, edge_spec=edge_spec, config=config)\n",
    "\n",
    "# Create the DataLoader\n",
    "eval_dataloader = DataLoader(eval_dataset, batch_size=config['batch_size'], shuffle=False, collate_fn=custom_triplet_collate)\n",
    "\n",
    "# Create models\n",
    "metadata = (\n",
    "    [n.value for n in node_spec],\n",
    "    [edge_pyg_key_vals[r] for r in edge_spec]\n",
    ")\n",
    "config['node_spec'] = metadata[0]\n",
    "config['edge_spec'] = metadata[1]\n",
    "\n",
    "# Embedding model\n",
    "embedding_net = EmbeddingNet(\n",
    "    input_size=config['classifier_in_channels'], \n",
    "    hidden_size=config['classifier_hidden_channels'],\n",
    "    embedding_size=config['classifier_out_channels'],\n",
    "    dropout=config['classifier_dropout']\n",
    ").to(device)\n",
    "\n",
    "# Triplet training classifier model\n",
    "triplet_net = TripletNet(\n",
    "    embedding_net=embedding_net,\n",
    "    edge_spec=edge_spec,\n",
    "    gat_encoders=gat_list\n",
    ").to(device)\n",
    "\n",
    "# Optimizer\n",
    "optimizer = torch.optim.Adam(triplet_net.embedding_net.parameters(), lr=config['learning_rate'], weight_decay=config['weight_decay'])"
   ],
   "id": "5b32cfaf13d243bd",
   "outputs": [
    {
     "name": "stderr",
     "output_type": "stream",
     "text": [
      "2024-12-09 17:17:14,709 - DatabaseWrapper - INFO - Connecting to the database ...\n",
      "2024-12-09 17:17:14,709 - DatabaseWrapper - INFO - Database ready.\n"
     ]
    },
    {
     "name": "stdout",
     "output_type": "stream",
     "text": [
      "Preparing triplets...\n",
      "Loading triplets...\n",
      "Loaded 6284 triplets.\n",
      "Eval size: 6284\n"
     ]
    }
   ],
   "execution_count": 15
  },
  {
   "metadata": {
    "ExecuteTime": {
     "end_time": "2024-12-09T16:34:38.986556Z",
     "start_time": "2024-12-09T16:17:14.754028Z"
    }
   },
   "cell_type": "code",
   "source": [
    "from collections import defaultdict\n",
    "\n",
    "num_epochs = config['num_epochs']\n",
    "results = defaultdict(list)\n",
    "    \n",
    "test_loss, test_num_correct, test_correct_pos_val, test_correct_neg_val, test_precision, test_recall, test_F1 = test_and_eval(\n",
    "model=triplet_net,\n",
    "loss_fn=loss_fn,\n",
    "dataloader=eval_dataloader,\n",
    "margin=config['margin']\n",
    ")\n",
    "results['test_total_loss'].append(test_loss)\n",
    "results['test_accuracies'].append(test_num_correct)\n",
    "results['test_accuracies_correct_pos'].append(test_correct_pos_val)\n",
    "results['test_accuracies_correct_neg'].append(test_correct_neg_val)\n",
    "results['test_precision'].append(test_precision)\n",
    "results['test_recall'].append(test_recall)\n",
    "results['test_F1'].append(test_F1)\n",
    "\n",
    "print(f\"Eval Loss: {test_loss}\")\n",
    "print(f\"Eval Accuracy: {test_num_correct}\")\n",
    "print(f\"Eval Precision: {test_precision}\")\n",
    "print(f\"Eval Recall: {test_recall}\")\n",
    "print(f\"Eval F1: {test_F1}\")\n",
    "    \n",
    "# Save config and training results\n",
    "config['results'] = results\n",
    "save_dict_to_json(config, result_folder_path + '/training_data.json')\n"
   ],
   "id": "9f2ad94dcf4a330a",
   "outputs": [
    {
     "name": "stdout",
     "output_type": "stream",
     "text": [
      "        Correct positive: 202 (3.21%), Correct negative: 6134 (97.61%)\n",
      "        Total correct: 6336 (50.41%)\n",
      "        Test/Eval Loss: 0.9595, Test/Eval Accuracy: 0.5041\n",
      "        Precision: 0.5739, Recall: 0.0321, F1: 0.0609\n",
      "Eval Loss: 0.9595071994108597\n",
      "Eval Accuracy: 0.5041374920432845\n",
      "Eval Precision: 0.5738636363636364\n",
      "Eval Recall: 0.03214513049013367\n",
      "Eval F1: 0.06088004822182037\n"
     ]
    }
   ],
   "execution_count": 16
  },
  {
   "metadata": {
    "ExecuteTime": {
     "end_time": "2024-12-09T16:34:39.030744Z",
     "start_time": "2024-12-09T16:34:39.029387Z"
    }
   },
   "cell_type": "code",
   "source": "",
   "id": "d5efacd4c1f46181",
   "outputs": [],
   "execution_count": null
  }
 ],
 "metadata": {
  "kernelspec": {
   "display_name": "Python 3",
   "language": "python",
   "name": "python3"
  },
  "language_info": {
   "codemirror_mode": {
    "name": "ipython",
    "version": 2
   },
   "file_extension": ".py",
   "mimetype": "text/x-python",
   "name": "python",
   "nbconvert_exporter": "python",
   "pygments_lexer": "ipython2",
   "version": "2.7.6"
  }
 },
 "nbformat": 4,
 "nbformat_minor": 5
}
