{
 "cells": [
  {
   "cell_type": "code",
   "id": "initial_id",
   "metadata": {
    "collapsed": true,
    "ExecuteTime": {
     "end_time": "2024-11-24T12:07:53.269028Z",
     "start_time": "2024-11-24T12:07:51.425838Z"
    }
   },
   "source": [
    "from notebooks.util_classifier import MultiHomogeneousGraphTripletDataset\n",
    "from training_classifier import *\n",
    "from util_classifier import *\n",
    "from gat_models import *\n",
    "\n",
    "import os\n",
    "import random\n",
    "import numpy as np\n",
    "from sklearn.metrics import accuracy_score\n",
    "from tqdm.notebook import tqdm\n",
    "from torch_geometric.loader import DataLoader\n",
    "from torch.optim import Adam\n",
    "from torch.nn.modules.loss import TripletMarginLoss\n",
    "import torch.nn as nn\n",
    "from src.shared.database_wrapper import DatabaseWrapper\n",
    "from src.shared.graph_schema import *\n",
    "from src.shared.graph_sampling import GraphSampling\n",
    "\n",
    "random.seed(40)\n",
    "np.random.seed(40)\n",
    "torch.manual_seed(40)\n",
    "torch.cuda.manual_seed_all(40)"
   ],
   "outputs": [
    {
     "name": "stderr",
     "output_type": "stream",
     "text": [
      "/home/vincie/.anaconda3/envs/master/lib/python3.9/site-packages/sentence_transformers/cross_encoder/CrossEncoder.py:11: TqdmExperimentalWarning: Using `tqdm.autonotebook.tqdm` in notebook mode. Use `tqdm.tqdm` instead to force console mode (e.g. in jupyter console)\n",
      "  from tqdm.autonotebook import tqdm, trange\n"
     ]
    }
   ],
   "execution_count": 1
  },
  {
   "metadata": {
    "ExecuteTime": {
     "end_time": "2024-11-24T12:07:53.273828Z",
     "start_time": "2024-11-24T12:07:53.271896Z"
    }
   },
   "cell_type": "code",
   "source": [
    "config = {\n",
    "    'experiment': 'GAT Classifier Training without GAT dropout',\n",
    "    'max_hops': 2,\n",
    "    'model_node_feature': 'feature_vec',  # Node feature to use for GAT encoder\n",
    "    'hidden_channels': 32,\n",
    "    'out_channels': 16,\n",
    "    'num_heads': 8,\n",
    "    'classifier_in_channels': 3 * 16,\n",
    "    'classifier_hidden_channels': 128,\n",
    "    'classifier_out_channels': 16,\n",
    "    'classifier_dropout': 0.2,\n",
    "    'margin': 1.0,\n",
    "    'optimizer': 'Adam',\n",
    "    'learning_rate': 0.005,\n",
    "    'weight_decay': 5e-4,\n",
    "    'num_epochs': 10,\n",
    "    'batch_size': 32,\n",
    "}"
   ],
   "id": "a053e7ce282b9a50",
   "outputs": [],
   "execution_count": 2
  },
  {
   "metadata": {
    "ExecuteTime": {
     "end_time": "2024-11-24T12:07:53.465938Z",
     "start_time": "2024-11-24T12:07:53.318027Z"
    }
   },
   "cell_type": "code",
   "source": [
    "# Graph sampling configurations\n",
    "node_properties = [\n",
    "    'id',\n",
    "    'feature_vec',\n",
    "]\n",
    "\n",
    "node_spec = [\n",
    "    NodeType.PUBLICATION\n",
    "]\n",
    "\n",
    "edge_spec = [\n",
    "    EdgeType.SIM_ABSTRACT,\n",
    "    EdgeType.SIM_TITLE,\n",
    "    EdgeType.SIM_AUTHOR,\n",
    "    #EdgeType.SAME_AUTHOR,\n",
    "]\n",
    "\n",
    "gat_list = {\n",
    "    EdgeType.SIM_TITLE: './data/results/homogeneous (title) full_emb linear_layer dropout/gat_encoder.pt',\n",
    "    EdgeType.SIM_ABSTRACT: './data/results/homogeneous (abstract) full_emb linear_layer dropout/gat_encoder.pt',\n",
    "    EdgeType.SIM_AUTHOR: './data/results/homogeneous (similar co-authors) full_emb linear_layer dropout/gat_encoder.pt',\n",
    "}\n",
    "\n",
    "\n",
    "database = 'homogeneous-graph'\n",
    "gs = GraphSampling(\n",
    "    node_spec=node_spec,\n",
    "    edge_spec=edge_spec,\n",
    "    node_properties=node_properties,\n",
    "    database=database\n",
    ")\n",
    "\n",
    "# Model configurations\n",
    "# Load pre-trained GAT encoders\n",
    "gat_encoders = {}\n",
    "for edge_key, gat_path in gat_list.items():\n",
    "    gat_encoder = HomoGATEncoderLinearDropout(config['hidden_channels'], config['out_channels'], num_heads=config['num_heads'], dropout_p=0).to(device)\n",
    "    gat_encoder.load_state_dict(torch.load(gat_path))\n",
    "    gat_list[edge_key] = gat_encoder\n",
    "\n",
    "loss_fn = TripletMarginLoss(margin=config['margin'])\n",
    "device = torch.device('cuda' if torch.cuda.is_available() else 'cpu')\n",
    "\n",
    "# TODO: Adjust result folder name!\n",
    "result_folder_name = 'classifier full_emb (abstract, title, sim_author edges) no_gat_dropout'\n",
    "result_folder_path = f'./data/results/{result_folder_name}'\n",
    "if not os.path.exists(result_folder_path):\n",
    "    os.mkdir(result_folder_path)"
   ],
   "id": "8bf2f1d69c0ec445",
   "outputs": [
    {
     "name": "stdout",
     "output_type": "stream",
     "text": [
      "Using default edge type: SimilarAbstract for homogeneous graph sampling.\n"
     ]
    }
   ],
   "execution_count": 3
  },
  {
   "metadata": {},
   "cell_type": "markdown",
   "source": [
    "## Embedding Network\n",
    "**This network takes in the stacked GAT node embeddings and outputs a lower-dimensional embedding.**"
   ],
   "id": "300fa32358270cd9"
  },
  {
   "metadata": {
    "ExecuteTime": {
     "end_time": "2024-11-24T12:07:53.474625Z",
     "start_time": "2024-11-24T12:07:53.472443Z"
    }
   },
   "cell_type": "code",
   "source": [
    "class EmbeddingNet(nn.Module):\n",
    "    def __init__(self, input_size, hidden_size = 128, embedding_size = 16, dropout = 0.2):\n",
    "        super(EmbeddingNet, self).__init__()\n",
    "        self.fc = nn.Sequential(\n",
    "            nn.Dropout(dropout),\n",
    "            nn.Linear(input_size, hidden_size),\n",
    "            nn.ReLU(),\n",
    "            nn.Dropout(dropout),\n",
    "            nn.Linear(hidden_size, embedding_size)\n",
    "        )\n",
    "    \n",
    "    def forward(self, x):\n",
    "        output = self.fc(x)\n",
    "        return output"
   ],
   "id": "2f21df15b8250070",
   "outputs": [],
   "execution_count": 4
  },
  {
   "metadata": {},
   "cell_type": "markdown",
   "source": [
    "## Triplet Network\n",
    "**This network takes in three inputs: an anchor, a positive example, and a negative example. It outputs the embeddings of the three inputs. It is used to simplify triplet loss training**"
   ],
   "id": "e794b8217c921084"
  },
  {
   "metadata": {
    "ExecuteTime": {
     "end_time": "2024-11-24T12:07:53.519586Z",
     "start_time": "2024-11-24T12:07:53.515394Z"
    }
   },
   "cell_type": "code",
   "source": [
    "class TripletNet(nn.Module):\n",
    "    def __init__(self, embedding_net: EmbeddingNet, edge_spec: [EdgeType], gat_encoders: dict[EdgeType, nn.Module]):\n",
    "        super(TripletNet, self).__init__()\n",
    "        self.edge_spec = edge_spec\n",
    "        self.gat_encoders = gat_encoders\n",
    "        self.embedding_net = embedding_net\n",
    "        \n",
    "        for gat in self.gat_encoders.values():\n",
    "            gat.eval()\n",
    "            for param in gat.parameters():\n",
    "                param.requires_grad = False\n",
    "\n",
    "    def forward(self, data_dict: dict):\n",
    "        anchor = []\n",
    "        positive = []\n",
    "        negative = []\n",
    "        \n",
    "        for edge_type in self.edge_spec:\n",
    "            # Anchor node embedding for the edge type \n",
    "            anchor_graph = data_dict[edge_type][0]\n",
    "            anchor_gat_emb = self.gat_encoders[edge_type](anchor_graph)\n",
    "            anchor.append(anchor_gat_emb[anchor_graph.central_node_id])\n",
    "            \n",
    "            # Positive node embedding for the edge type\n",
    "            positive_graph = data_dict[edge_type][1]\n",
    "            positive_gat_emb = self.gat_encoders[edge_type](positive_graph)\n",
    "            positive.append(positive_gat_emb[positive_graph.central_node_id])\n",
    "            \n",
    "            # Negative node embedding for the edge type\n",
    "            negative_graph = data_dict[edge_type][2]\n",
    "            negative_gat_emb = self.gat_encoders[edge_type](negative_graph)\n",
    "            negative.append(negative_gat_emb[negative_graph.central_node_id])\n",
    "            \n",
    "        anchor = torch.cat(anchor, dim=1)\n",
    "        positive = torch.cat(positive, dim=1)\n",
    "        negative = torch.cat(negative, dim=1)\n",
    "        \n",
    "        output_anchor = self.embedding_net(anchor)\n",
    "        output_positive = self.embedding_net(positive)\n",
    "        output_negative = self.embedding_net(negative)\n",
    "        \n",
    "        return output_anchor, output_positive, output_negative\n",
    "\n",
    "    def get_embedding(self, x):\n",
    "        return self.embedding_net(x)"
   ],
   "id": "4c72f91a757a3500",
   "outputs": [],
   "execution_count": 5
  },
  {
   "metadata": {},
   "cell_type": "markdown",
   "source": [
    "## Pair Classifier\n",
    "**This network will be used for the actual classification task (the AND pipeline).**"
   ],
   "id": "988a62dfdb08331d"
  },
  {
   "metadata": {
    "ExecuteTime": {
     "end_time": "2024-11-24T12:07:53.563297Z",
     "start_time": "2024-11-24T12:07:53.561181Z"
    }
   },
   "cell_type": "code",
   "source": [
    "class PairClassifier(nn.Module):\n",
    "    def __init__(self, embedding_net):\n",
    "        super(PairClassifier, self).__init__()\n",
    "        self.embedding_net = embedding_net\n",
    "\n",
    "    def forward(self, embedding_1, embedding_2):\n",
    "        out_1 = self.embedding_net(embedding_1)\n",
    "        out_2 = self.embedding_net(embedding_2)\n",
    "        \n",
    "        # Compute probability of the pair being similar by computing pairwise distance\n",
    "        distance = F.pairwise_distance(out_1, out_2)\n",
    "        similarity_prediction = torch.sigmoid(-distance)\n",
    "        \n",
    "        return similarity_prediction\n",
    "\n",
    "    def get_embedding(self, x):\n",
    "        return self.embedding_net(x)"
   ],
   "id": "c7d713968074844a",
   "outputs": [],
   "execution_count": 6
  },
  {
   "metadata": {},
   "cell_type": "markdown",
   "source": "## Training",
   "id": "4dfe22b3fa0ce6f8"
  },
  {
   "metadata": {
    "ExecuteTime": {
     "end_time": "2024-11-24T12:07:53.620209Z",
     "start_time": "2024-11-24T12:07:53.608083Z"
    }
   },
   "cell_type": "code",
   "source": [
    "db = DatabaseWrapper(database=database)\n",
    "data_harvester = ClassifierTripletDataHarvester(db=db, gs=gs, edge_spec=edge_spec, config=config, valid_triplets_save_file='valid_triplets_classifier', transformer_model='sentence-transformers/all-MiniLM-L6-v2')\n",
    "\n",
    "\n",
    "# Split the pairs into train and test\n",
    "train_size = int(0.85 * len(data_harvester.triplets))\n",
    "test_size = int(0.1 * len(data_harvester.triplets))\n",
    "eval_size = len(data_harvester.triplets) - train_size - test_size\n",
    "\n",
    "# Harvest the evaluation triplets first, since triplets are ordered by author. This will ensure that the evaluation set has authors not seen in the training set.\n",
    "eval_triplets = data_harvester.triplets[:eval_size]\n",
    "\n",
    "train_test_triplets = data_harvester.triplets[eval_size:]\n",
    "random.shuffle(train_test_triplets)\n",
    "\n",
    "train_triplets = train_test_triplets[:train_size]\n",
    "test_triplets = train_test_triplets[train_size:]\n",
    "config['train_size'] = len(train_triplets)\n",
    "config['test_size'] = len(test_triplets)\n",
    "config['eval_size'] = len(eval_triplets)\n",
    "\n",
    "print(f\"Train size: {len(train_triplets)}, Test size: {len(test_triplets)}, Eval size: {len(eval_triplets)}\")\n",
    "\n",
    "# Create the datasets from the pairs (distinct pairs for training and testing)\n",
    "train_dataset = MultiHomogeneousGraphTripletDataset(train_triplets, gs, edge_spec=edge_spec, config=config)\n",
    "test_dataset = MultiHomogeneousGraphTripletDataset(test_triplets, gs, edge_spec=edge_spec, config=config)\n",
    "eval_dataset = MultiHomogeneousGraphTripletDataset(eval_triplets, gs, edge_spec=edge_spec, config=config)\n",
    "\n",
    "# Create the DataLoader\n",
    "train_dataloader = DataLoader(train_dataset, batch_size=config['batch_size'], shuffle=True, collate_fn=custom_triplet_collate)\n",
    "test_dataloader = DataLoader(test_dataset, batch_size=config['batch_size'], shuffle=False, collate_fn=custom_triplet_collate)\n",
    "eval_dataloader = DataLoader(eval_dataset, batch_size=config['batch_size'], shuffle=False, collate_fn=custom_triplet_collate)\n",
    "\n",
    "# Create models\n",
    "metadata = (\n",
    "    [n.value for n in node_spec],\n",
    "    [edge_pyg_key_vals[r] for r in edge_spec]\n",
    ")\n",
    "config['node_spec'] = metadata[0]\n",
    "config['edge_spec'] = metadata[1]\n",
    "\n",
    "# Embedding model\n",
    "embedding_net = EmbeddingNet(\n",
    "    input_size=config['classifier_in_channels'], \n",
    "    hidden_size=config['classifier_hidden_channels'],\n",
    "    embedding_size=config['classifier_out_channels'],\n",
    "    dropout=config['classifier_dropout']\n",
    ").to(device)\n",
    "\n",
    "# Triplet training classifier model\n",
    "triplet_net = TripletNet(\n",
    "    embedding_net=embedding_net,\n",
    "    edge_spec=edge_spec,\n",
    "    gat_encoders=gat_list\n",
    ").to(device)\n",
    "\n",
    "# Optimizer\n",
    "optimizer = torch.optim.Adam(triplet_net.embedding_net.parameters(), lr=config['learning_rate'], weight_decay=config['weight_decay'])"
   ],
   "id": "5b32cfaf13d243bd",
   "outputs": [
    {
     "name": "stderr",
     "output_type": "stream",
     "text": [
      "2024-11-24 13:07:53,611 - DatabaseWrapper - INFO - Connecting to the database ...\n",
      "2024-11-24 13:07:53,611 - DatabaseWrapper - INFO - Database ready.\n"
     ]
    },
    {
     "name": "stdout",
     "output_type": "stream",
     "text": [
      "Preparing triplets...\n",
      "Loading triplets...\n",
      "Loaded 14923 triplets.\n",
      "Train size: 12684, Test size: 1492, Eval size: 747\n"
     ]
    }
   ],
   "execution_count": 7
  },
  {
   "metadata": {
    "jupyter": {
     "is_executing": true
    },
    "ExecuteTime": {
     "start_time": "2024-11-24T12:07:53.666033Z"
    }
   },
   "cell_type": "code",
   "source": [
    "num_epochs = config['num_epochs']\n",
    "train_losses = []\n",
    "\n",
    "test_losses = []\n",
    "test_accuracies = []\n",
    "test_correct_pos = []\n",
    "test_correct_neg = []\n",
    "\n",
    "eval_losses = []\n",
    "eval_accuracies = []\n",
    "eval_correct_pos = []\n",
    "eval_correct_neg = []\n",
    "\n",
    "current_batch = 1\n",
    "\n",
    "for epoch in range(1, num_epochs + 1):\n",
    "    print(f\"=== Epoch {epoch}/{num_epochs} ======================\")\n",
    "    epoch_marker_pos = list(range(0, len(train_dataloader) * epoch, len(train_dataloader)))\n",
    "    current_batch = 1\n",
    "    for data_dict in tqdm(train_dataloader, desc=f\"Epoch {epoch}/{num_epochs}\"):\n",
    "        if current_batch == 1 or current_batch == len(train_dataloader) // 2:\n",
    "            print(f\"___ Current Batch {current_batch}/{len(train_dataloader)} _________________________\")\n",
    "            # Model testing\n",
    "            print(\"    Test Results:\")\n",
    "            test_loss, test_num_correct, test_correct_pos_val, test_correct_neg_val = test(\n",
    "                triplet_classifier_model=triplet_net,\n",
    "                loss_fn=loss_fn,\n",
    "                dataloader=test_dataloader,\n",
    "                margin=config['margin']\n",
    "            )\n",
    "            test_losses.append(test_loss)\n",
    "            test_accuracies.append(test_num_correct)\n",
    "            test_correct_pos.append(test_correct_pos_val)\n",
    "            test_correct_neg.append(test_correct_neg_val)\n",
    "    \n",
    "            plot_loss(test_losses, epoch_len=2, plot_title='Test Loss', plot_avg=False, plot_file=result_folder_path + '/test_loss.png')\n",
    "            plot_loss(\n",
    "                test_accuracies,\n",
    "                epoch_len=2,\n",
    "                plot_title='Test Accuracy',\n",
    "                plot_avg=False, \n",
    "                x_label='Test Iterations',\n",
    "                y_label='Accuracy',\n",
    "                line_label='Accuracy',\n",
    "                plot_file=result_folder_path + '/test_accuracy.png'\n",
    "            )\n",
    "            \n",
    "            # Model evaluation\n",
    "            print(\"    Eval Results:\")\n",
    "            eval_loss, eval_num_correct, eval_correct_pos_val, eval_correct_neg_val = evaluate(\n",
    "                triplet_classifier_model=triplet_net,\n",
    "                loss_fn=loss_fn,\n",
    "                dataloader=eval_dataloader,\n",
    "                margin=config['margin']\n",
    "            )\n",
    "            eval_losses.append(eval_loss)\n",
    "            eval_accuracies.append(eval_num_correct)\n",
    "            eval_correct_pos.append(eval_correct_pos_val)\n",
    "            eval_correct_neg.append(eval_correct_neg_val)\n",
    "            \n",
    "            plot_loss(eval_losses, epoch_len=2, plot_title='Evaluation Loss', plot_avg=False, plot_file=result_folder_path + '/eval_loss.png')\n",
    "            plot_loss(\n",
    "                eval_accuracies, \n",
    "                epoch_len=2, \n",
    "                plot_title='Evaluation Accuracy', \n",
    "                plot_avg=False, \n",
    "                x_label='Eval Iterations',\n",
    "                y_label='Accuracy',\n",
    "                line_label='Accuracy',\n",
    "                plot_file=result_folder_path + '/eval_accuracy.png'\n",
    "            )\n",
    "        \n",
    "        loss = train(\n",
    "            triplet_classifier_model=triplet_net,\n",
    "            loss_fn=loss_fn,\n",
    "            data_dict=data_dict,\n",
    "            optimizer=optimizer\n",
    "        )\n",
    "        train_losses.append(loss)\n",
    "        \n",
    "        plot_loss(train_losses, epoch_len=len(train_dataloader), plot_title='Training Loss', plot_avg=True, plot_file=result_folder_path + '/train_loss.png')\n",
    "        current_batch += 1\n",
    "        \n",
    "    # Save config and training results\n",
    "    eval_results = {\n",
    "        'eval_losses': eval_losses,\n",
    "        'eval_accuracies': eval_accuracies,\n",
    "        'eval_correct_pos': eval_correct_pos,\n",
    "        'eval_correct_neg': eval_correct_neg\n",
    "    }\n",
    "    save_training_results(train_losses, test_losses, eval_results, config, result_folder_path + '/training_data.json')\n",
    "    \n",
    "    # Save model if loss has decreased\n",
    "    if len(test_losses) > 1 and test_losses[-1] < min(test_losses[:-1]):\n",
    "        print(f\"Saving model at epoch {epoch}...\")\n",
    "        torch.save(triplet_net.embedding_net.state_dict(), result_folder_path + '/embedding_net.pt')\n"
   ],
   "id": "9f2ad94dcf4a330a",
   "outputs": [
    {
     "name": "stdout",
     "output_type": "stream",
     "text": [
      "=== Epoch 1/10 ======================\n"
     ]
    },
    {
     "data": {
      "text/plain": [
       "Epoch 1/10:   0%|          | 0/397 [00:00<?, ?it/s]"
      ],
      "application/vnd.jupyter.widget-view+json": {
       "version_major": 2,
       "version_minor": 0,
       "model_id": "d5a840e0d391419d868acfe406161010"
      }
     },
     "metadata": {},
     "output_type": "display_data"
    },
    {
     "name": "stdout",
     "output_type": "stream",
     "text": [
      "___ Current Batch 1/397 _________________________\n",
      "    Test Results:\n",
      "        Correct positive: 1487 (99.66%), Correct negative: 158 (10.59%)\n",
      "        Total correct: 1645 (55.13%)\n",
      "        Test Loss: 0.6635, Test Accuracy: 0.5513\n",
      "    Eval Results:\n",
      "        Correct positive: 745 (99.73%), Correct negative: 3 (0.40%)\n",
      "        Total correct: 748 (50.07%)\n",
      "        Eval Loss: 0.9667, Eval Accuracy: 0.5007\n",
      "___ Current Batch 198/397 _________________________\n",
      "    Test Results:\n",
      "        Correct positive: 1080 (72.39%), Correct negative: 1355 (90.82%)\n",
      "        Total correct: 2435 (81.60%)\n",
      "        Test Loss: 0.1977, Test Accuracy: 0.8160\n",
      "    Eval Results:\n",
      "        Correct positive: 428 (57.30%), Correct negative: 380 (50.87%)\n",
      "        Total correct: 808 (54.08%)\n",
      "        Eval Loss: 1.1816, Eval Accuracy: 0.5408\n"
     ]
    }
   ],
   "execution_count": null
  },
  {
   "metadata": {},
   "cell_type": "code",
   "outputs": [],
   "execution_count": null,
   "source": "",
   "id": "d5efacd4c1f46181"
  }
 ],
 "metadata": {
  "kernelspec": {
   "display_name": "Python 3",
   "language": "python",
   "name": "python3"
  },
  "language_info": {
   "codemirror_mode": {
    "name": "ipython",
    "version": 2
   },
   "file_extension": ".py",
   "mimetype": "text/x-python",
   "name": "python",
   "nbconvert_exporter": "python",
   "pygments_lexer": "ipython2",
   "version": "2.7.6"
  }
 },
 "nbformat": 4,
 "nbformat_minor": 5
}
