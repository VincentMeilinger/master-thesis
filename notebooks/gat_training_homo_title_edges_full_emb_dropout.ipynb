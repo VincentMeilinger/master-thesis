{
 "cells": [
  {
   "cell_type": "code",
   "id": "initial_id",
   "metadata": {
    "collapsed": true,
    "ExecuteTime": {
     "end_time": "2024-11-17T13:12:26.646825Z",
     "start_time": "2024-11-17T13:12:24.806864Z"
    }
   },
   "source": [
    "from notebooks.util_homogeneous import HomogeneousGraphTripletDataset\n",
    "from util_homogeneous import *\n",
    "from util_heterogeneous import plot_loss, save_training_results\n",
    "from training_homogeneous import *\n",
    "from gat_models import *\n",
    "\n",
    "import random\n",
    "import numpy as np\n",
    "from sklearn.metrics import accuracy_score\n",
    "from tqdm.notebook import tqdm\n",
    "from torch_geometric.loader import DataLoader\n",
    "from torch.optim import Adam\n",
    "from torch.nn.modules.loss import TripletMarginLoss\n",
    "\n",
    "from src.shared.database_wrapper import DatabaseWrapper\n",
    "from src.shared.graph_schema import *\n",
    "from src.shared.graph_sampling import GraphSampling\n",
    "\n",
    "random.seed(40)\n",
    "np.random.seed(40)\n",
    "torch.manual_seed(40)\n",
    "torch.cuda.manual_seed_all(40)"
   ],
   "outputs": [
    {
     "name": "stderr",
     "output_type": "stream",
     "text": [
      "/home/vincie/.anaconda3/envs/master/lib/python3.9/site-packages/sentence_transformers/cross_encoder/CrossEncoder.py:11: TqdmExperimentalWarning: Using `tqdm.autonotebook.tqdm` in notebook mode. Use `tqdm.tqdm` instead to force console mode (e.g. in jupyter console)\n",
      "  from tqdm.autonotebook import tqdm, trange\n"
     ]
    }
   ],
   "execution_count": 1
  },
  {
   "metadata": {},
   "cell_type": "markdown",
   "source": "## Configurations",
   "id": "ee4fa502d7e51e50"
  },
  {
   "metadata": {
    "ExecuteTime": {
     "end_time": "2024-11-17T13:12:26.653197Z",
     "start_time": "2024-11-17T13:12:26.649401Z"
    }
   },
   "cell_type": "code",
   "source": [
    "# Graph sampling configurations\n",
    "node_spec = NodeType.PUBLICATION\n",
    "\n",
    "edge_spec = EdgeType.SIM_TITLE\n",
    "\n",
    "node_properties = [\n",
    "    'id',\n",
    "    'feature_vec',\n",
    "]\n",
    "\n",
    "database = 'homogeneous-graph'\n",
    "gs = GraphSampling(\n",
    "    node_spec=[node_spec],\n",
    "    edge_spec=[edge_spec],\n",
    "    node_properties=node_properties,\n",
    "    database=database\n",
    ")\n",
    "\n",
    "# Model configurations\n",
    "\n",
    "config = {\n",
    "    'experiment': 'GATv2 encoder (with linear layer + dropout) trained on homogeneous graph (publication nodes with title and abstract, title edges) using Triplet Loss and full embeddings',\n",
    "    'max_hops': 3,\n",
    "    'model_node_feature': 'feature_vec',  # Node feature to use for GAT encoder\n",
    "    'hidden_channels': 32,\n",
    "    'out_channels': 16,\n",
    "    'num_heads': 8,\n",
    "    'margin': 1.0,\n",
    "    'optimizer': 'Adam',\n",
    "    'learning_rate': 0.005,\n",
    "    'weight_decay': 5e-4,\n",
    "    'num_epochs': 10,\n",
    "    'batch_size': 32,\n",
    "}\n",
    "\n",
    "model_class = HomoGATEncoderLinearDropout\n",
    "loss_fn = TripletMarginLoss(margin=config['margin'])\n",
    "device = torch.device('cuda' if torch.cuda.is_available() else 'cpu')\n",
    "\n",
    "# TODO: Adjust result folder name!\n",
    "result_folder_name = 'homogeneous (title) full_emb linear_layer dropout'\n",
    "result_folder_path = f'./data/results/{result_folder_name}'\n",
    "if not os.path.exists(result_folder_path):\n",
    "    os.mkdir(result_folder_path)"
   ],
   "id": "91b04efb689d61f4",
   "outputs": [
    {
     "name": "stdout",
     "output_type": "stream",
     "text": [
      "Using default edge type: SimilarTitle for homogeneous graph sampling.\n"
     ]
    }
   ],
   "execution_count": 2
  },
  {
   "metadata": {
    "ExecuteTime": {
     "end_time": "2024-11-17T13:17:15.370096Z",
     "start_time": "2024-11-17T13:12:26.697211Z"
    }
   },
   "cell_type": "code",
   "source": [
    "db = DatabaseWrapper(database=database)\n",
    "data_harvester = TripletDataHarvester(db=db, gs=gs, edge_spec=[edge_spec], config=config, valid_triplets_save_file='valid_triplets_homogeneous_title', transformer_model='sentence-transformers/all-MiniLM-L6-v2')\n",
    "\n",
    "\n",
    "# Split the pairs into train and test\n",
    "\n",
    "train_size = int(0.85 * len(data_harvester.triplets))\n",
    "test_size = int(0.1 * len(data_harvester.triplets))\n",
    "eval_size = len(data_harvester.triplets) - train_size - test_size\n",
    "\n",
    "# Harvest the evaluation triplets first, since triplets are ordered by author. This will ensure that the evaluation set has authors not seen in the training set.\n",
    "eval_triplets = data_harvester.triplets[:eval_size]\n",
    "\n",
    "train_test_triplets = data_harvester.triplets[eval_size:]\n",
    "random.shuffle(train_test_triplets)\n",
    "\n",
    "train_triplets = train_test_triplets[:train_size]\n",
    "test_triplets = train_test_triplets[train_size:]\n",
    "config['train_size'] = len(train_triplets)\n",
    "config['test_size'] = len(test_triplets)\n",
    "config['eval_size'] = len(eval_triplets)\n",
    "\n",
    "print(f\"Train size: {len(train_triplets)}, Test size: {len(test_triplets)}, Eval size: {len(eval_triplets)}\")\n",
    "\n",
    "# Create the datasets from the pairs (distinct pairs for training and testing)\n",
    "train_dataset = HomogeneousGraphTripletDataset(train_triplets, gs, config=config)\n",
    "test_dataset = HomogeneousGraphTripletDataset(test_triplets, gs, config=config)\n",
    "eval_dataset = HomogeneousGraphTripletDataset(eval_triplets, gs, config=config)\n",
    "\n",
    "# Create the DataLoader\n",
    "train_dataloader = DataLoader(train_dataset, batch_size=config['batch_size'], shuffle=True, collate_fn=custom_triplet_collate)\n",
    "test_dataloader = DataLoader(test_dataset, batch_size=config['batch_size'], shuffle=False, collate_fn=custom_triplet_collate)\n",
    "eval_dataloader = DataLoader(eval_dataset, batch_size=config['batch_size'], shuffle=False, collate_fn=custom_triplet_collate)\n",
    "\n",
    "# Create model\n",
    "metadata = (\n",
    "    node_spec.value,\n",
    "    edge_spec.value\n",
    ")\n",
    "config['node_spec'] = metadata[0]\n",
    "config['edge_spec'] = metadata[1]\n",
    "model = model_class(config['hidden_channels'], config['out_channels'], num_heads=config['num_heads']).to(device)\n",
    "optimizer = Adam(model.parameters(), lr=config['learning_rate'], weight_decay=config['weight_decay'])"
   ],
   "id": "62ef1028a5c5fd5d",
   "outputs": [
    {
     "name": "stderr",
     "output_type": "stream",
     "text": [
      "2024-11-17 14:12:26,699 - DatabaseWrapper - INFO - Connecting to the database ...\n",
      "2024-11-17 14:12:26,700 - DatabaseWrapper - INFO - Database ready.\n"
     ]
    },
    {
     "name": "stdout",
     "output_type": "stream",
     "text": [
      "Preparing triplets...\n",
      "Loading triplets...\n",
      "Could not load triplets from file. Generating triplets...\n",
      "Checking data validity...\n",
      "Out of 20034 checked papers, 10566 are valid and 9468 are invalid.\n",
      "Generating hard triplets ...\n"
     ]
    },
    {
     "name": "stderr",
     "output_type": "stream",
     "text": [
      "/home/vincie/.anaconda3/envs/master/lib/python3.9/site-packages/transformers/tokenization_utils_base.py:1601: FutureWarning: `clean_up_tokenization_spaces` was not set. It will be set to `True` by default. This behavior will be depracted in transformers v4.45, and will be then set to `False` by default. For more details check this issue: https://github.com/huggingface/transformers/issues/31884\n",
      "  warnings.warn(\n"
     ]
    },
    {
     "name": "stdout",
     "output_type": "stream",
     "text": [
      "Total triplets generated: 9597. Done.\n",
      "Generated 9597 triplets.\n",
      "Saving triplets...\n",
      "Triplets saved.\n",
      "Train size: 8157, Test size: 959, Eval size: 481\n"
     ]
    }
   ],
   "execution_count": 3
  },
  {
   "metadata": {
    "ExecuteTime": {
     "end_time": "2024-11-17T15:08:16.778654Z",
     "start_time": "2024-11-17T13:17:15.376517Z"
    }
   },
   "cell_type": "code",
   "source": [
    "num_epochs = config['num_epochs']\n",
    "train_losses = []\n",
    "\n",
    "test_losses = []\n",
    "test_accuracies = []\n",
    "test_correct_pos = []\n",
    "test_correct_neg = []\n",
    "\n",
    "eval_losses = []\n",
    "eval_accuracies = []\n",
    "eval_correct_pos = []\n",
    "eval_correct_neg = []\n",
    "\n",
    "current_batch = 1\n",
    "\n",
    "for epoch in range(1, num_epochs + 1):\n",
    "    print(f\"=== Epoch {epoch}/{num_epochs} ======================\")\n",
    "    epoch_marker_pos = list(range(0, len(train_dataloader) * epoch, len(train_dataloader)))\n",
    "    current_batch = 1\n",
    "    for batch_anchor, batch_pos, batch_neg in tqdm(train_dataloader, desc=f\"Epoch {epoch}/{num_epochs}\"):\n",
    "        if batch_anchor is None or batch_pos is None or batch_neg is None:\n",
    "            continue\n",
    "        \n",
    "        if current_batch == 1 or current_batch == len(train_dataloader) // 2:\n",
    "            print(f\"___ Current Batch {current_batch}/{len(train_dataloader)} _________________________\")\n",
    "            # Model testing\n",
    "            print(\"    Test Results:\")\n",
    "            test_loss, test_num_correct, test_correct_pos_val, test_correct_neg_val = test(\n",
    "                model=model,\n",
    "                loss_fn=loss_fn,\n",
    "                dataloader=test_dataloader,\n",
    "                margin=config['margin']\n",
    "            )\n",
    "            test_losses.append(test_loss)\n",
    "            test_accuracies.append(test_num_correct)\n",
    "            test_correct_pos.append(test_correct_pos_val)\n",
    "            test_correct_neg.append(test_correct_neg_val)\n",
    "    \n",
    "            plot_loss(test_losses, epoch_len=2, plot_title='Test Loss', plot_avg=False, plot_file=result_folder_path + '/test_loss.png')\n",
    "            plot_loss(\n",
    "                test_accuracies,\n",
    "                epoch_len=2,\n",
    "                plot_title='Test Accuracy',\n",
    "                plot_avg=False, \n",
    "                x_label='Test Iterations',\n",
    "                y_label='Accuracy',\n",
    "                line_label='Accuracy',\n",
    "                plot_file=result_folder_path + '/test_accuracy.png'\n",
    "            )\n",
    "            \n",
    "            # Model evaluation\n",
    "            print(\"    Eval Results:\")\n",
    "            eval_loss, eval_num_correct, eval_correct_pos_val, eval_correct_neg_val = evaluate(\n",
    "                model=model,\n",
    "                loss_fn=loss_fn,\n",
    "                dataloader=eval_dataloader,\n",
    "                margin=config['margin']\n",
    "            )\n",
    "            eval_losses.append(eval_loss)\n",
    "            eval_accuracies.append(eval_num_correct)\n",
    "            eval_correct_pos.append(eval_correct_pos_val)\n",
    "            eval_correct_neg.append(eval_correct_neg_val)\n",
    "            \n",
    "            plot_loss(eval_losses, epoch_len=2, plot_title='Evaluation Loss', plot_avg=False, plot_file=result_folder_path + '/eval_loss.png')\n",
    "            plot_loss(\n",
    "                eval_accuracies, \n",
    "                epoch_len=2, \n",
    "                plot_title='Evaluation Accuracy', \n",
    "                plot_avg=False, \n",
    "                x_label='Eval Iterations',\n",
    "                y_label='Accuracy',\n",
    "                line_label='Accuracy',\n",
    "                plot_file=result_folder_path + '/eval_accuracy.png'\n",
    "            )\n",
    "            \n",
    "        loss = train(\n",
    "            model=model,\n",
    "            loss_fn=loss_fn,\n",
    "            batch_anchor=batch_anchor,\n",
    "            batch_pos=batch_pos,\n",
    "            batch_neg=batch_neg,\n",
    "            optimizer=optimizer\n",
    "        )\n",
    "        train_losses.append(loss)\n",
    "        \n",
    "        plot_loss(train_losses, epoch_len=len(train_dataloader), plot_title='Training Loss', plot_avg=True, plot_file=result_folder_path + '/train_loss.png')\n",
    "        current_batch += 1\n",
    "        \n",
    "    # Save config and training results\n",
    "    eval_results = {\n",
    "        'eval_losses': eval_losses,\n",
    "        'eval_accuracies': eval_accuracies,\n",
    "        'eval_correct_pos': eval_correct_pos,\n",
    "        'eval_correct_neg': eval_correct_neg\n",
    "    }\n",
    "    save_training_results(train_losses, test_losses, eval_results, config, result_folder_path + '/training_data.json')\n",
    "    \n",
    "    # Save model if loss has decreased\n",
    "    if len(test_losses) > 1 and test_losses[-1] < min(test_losses[:-1]):\n",
    "        print(f\"Saving model at epoch {epoch}...\")\n",
    "        torch.save(model.state_dict(), result_folder_path + '/gat_encoder.pt')"
   ],
   "id": "c3b28cd52881796",
   "outputs": [
    {
     "name": "stdout",
     "output_type": "stream",
     "text": [
      "=== Epoch 1/10 ======================\n"
     ]
    },
    {
     "data": {
      "text/plain": [
       "Epoch 1/10:   0%|          | 0/255 [00:00<?, ?it/s]"
      ],
      "application/vnd.jupyter.widget-view+json": {
       "version_major": 2,
       "version_minor": 0,
       "model_id": "70e42b10a8144f339ea56447f62fe070"
      }
     },
     "metadata": {},
     "output_type": "display_data"
    },
    {
     "name": "stdout",
     "output_type": "stream",
     "text": [
      "___ Current Batch 1/255 _________________________\n",
      "    Test Results:\n",
      "        Correct positive: 959 (100.00%), Correct negative: 0 (0.00%)\n",
      "        Total correct: 959 (50.00%)\n",
      "        Test Loss: 1.0276, Test Accuracy: 0.5000\n",
      "    Eval Results:\n",
      "        Correct positive: 481 (100.00%), Correct negative: 0 (0.00%)\n",
      "        Total correct: 481 (50.00%)\n",
      "        Eval Loss: 0.9973, Eval Accuracy: 0.5000\n",
      "___ Current Batch 127/255 _________________________\n",
      "    Test Results:\n",
      "        Correct positive: 656 (68.40%), Correct negative: 869 (90.62%)\n",
      "        Total correct: 1525 (79.51%)\n",
      "        Test Loss: 0.2479, Test Accuracy: 0.7951\n",
      "    Eval Results:\n",
      "        Correct positive: 285 (59.25%), Correct negative: 152 (31.60%)\n",
      "        Total correct: 437 (45.43%)\n",
      "        Eval Loss: 1.1198, Eval Accuracy: 0.4543\n",
      "Saving model at epoch 1...\n",
      "=== Epoch 2/10 ======================\n"
     ]
    },
    {
     "data": {
      "text/plain": [
       "Epoch 2/10:   0%|          | 0/255 [00:00<?, ?it/s]"
      ],
      "application/vnd.jupyter.widget-view+json": {
       "version_major": 2,
       "version_minor": 0,
       "model_id": "883b8e5d5a904080b64fb87f0fb3cf31"
      }
     },
     "metadata": {},
     "output_type": "display_data"
    },
    {
     "name": "stdout",
     "output_type": "stream",
     "text": [
      "___ Current Batch 1/255 _________________________\n",
      "    Test Results:\n",
      "        Correct positive: 670 (69.86%), Correct negative: 858 (89.47%)\n",
      "        Total correct: 1528 (79.67%)\n",
      "        Test Loss: 0.2144, Test Accuracy: 0.7967\n",
      "    Eval Results:\n",
      "        Correct positive: 257 (53.43%), Correct negative: 185 (38.46%)\n",
      "        Total correct: 442 (45.95%)\n",
      "        Eval Loss: 1.2449, Eval Accuracy: 0.4595\n",
      "___ Current Batch 127/255 _________________________\n",
      "    Test Results:\n",
      "        Correct positive: 791 (82.48%), Correct negative: 840 (87.59%)\n",
      "        Total correct: 1631 (85.04%)\n",
      "        Test Loss: 0.2009, Test Accuracy: 0.8504\n",
      "    Eval Results:\n",
      "        Correct positive: 347 (72.14%), Correct negative: 128 (26.61%)\n",
      "        Total correct: 475 (49.38%)\n",
      "        Eval Loss: 1.0519, Eval Accuracy: 0.4938\n",
      "Saving model at epoch 2...\n",
      "=== Epoch 3/10 ======================\n"
     ]
    },
    {
     "data": {
      "text/plain": [
       "Epoch 3/10:   0%|          | 0/255 [00:00<?, ?it/s]"
      ],
      "application/vnd.jupyter.widget-view+json": {
       "version_major": 2,
       "version_minor": 0,
       "model_id": "0097d96ef1d84105948e554d54fd64fc"
      }
     },
     "metadata": {},
     "output_type": "display_data"
    },
    {
     "name": "stdout",
     "output_type": "stream",
     "text": [
      "___ Current Batch 1/255 _________________________\n",
      "    Test Results:\n",
      "        Correct positive: 717 (74.77%), Correct negative: 864 (90.09%)\n",
      "        Total correct: 1581 (82.43%)\n",
      "        Test Loss: 0.2016, Test Accuracy: 0.8243\n",
      "    Eval Results:\n",
      "        Correct positive: 311 (64.66%), Correct negative: 209 (43.45%)\n",
      "        Total correct: 520 (54.05%)\n",
      "        Eval Loss: 1.0383, Eval Accuracy: 0.5405\n",
      "___ Current Batch 127/255 _________________________\n",
      "    Test Results:\n",
      "        Correct positive: 698 (72.78%), Correct negative: 874 (91.14%)\n",
      "        Total correct: 1572 (81.96%)\n",
      "        Test Loss: 0.1958, Test Accuracy: 0.8196\n",
      "    Eval Results:\n",
      "        Correct positive: 382 (79.42%), Correct negative: 78 (16.22%)\n",
      "        Total correct: 460 (47.82%)\n",
      "        Eval Loss: 1.1402, Eval Accuracy: 0.4782\n",
      "Saving model at epoch 3...\n",
      "=== Epoch 4/10 ======================\n"
     ]
    },
    {
     "data": {
      "text/plain": [
       "Epoch 4/10:   0%|          | 0/255 [00:00<?, ?it/s]"
      ],
      "application/vnd.jupyter.widget-view+json": {
       "version_major": 2,
       "version_minor": 0,
       "model_id": "24e44467a8a049a189b24637143b7097"
      }
     },
     "metadata": {},
     "output_type": "display_data"
    },
    {
     "name": "stdout",
     "output_type": "stream",
     "text": [
      "___ Current Batch 1/255 _________________________\n",
      "    Test Results:\n",
      "        Correct positive: 623 (64.96%), Correct negative: 902 (94.06%)\n",
      "        Total correct: 1525 (79.51%)\n",
      "        Test Loss: 0.1621, Test Accuracy: 0.7951\n",
      "    Eval Results:\n",
      "        Correct positive: 322 (66.94%), Correct negative: 141 (29.31%)\n",
      "        Total correct: 463 (48.13%)\n",
      "        Eval Loss: 1.0928, Eval Accuracy: 0.4813\n",
      "___ Current Batch 127/255 _________________________\n",
      "    Test Results:\n",
      "        Correct positive: 595 (62.04%), Correct negative: 897 (93.53%)\n",
      "        Total correct: 1492 (77.79%)\n",
      "        Test Loss: 0.1912, Test Accuracy: 0.7779\n",
      "    Eval Results:\n",
      "        Correct positive: 267 (55.51%), Correct negative: 345 (71.73%)\n",
      "        Total correct: 612 (63.62%)\n",
      "        Eval Loss: 0.7728, Eval Accuracy: 0.6362\n",
      "=== Epoch 5/10 ======================\n"
     ]
    },
    {
     "data": {
      "text/plain": [
       "Epoch 5/10:   0%|          | 0/255 [00:00<?, ?it/s]"
      ],
      "application/vnd.jupyter.widget-view+json": {
       "version_major": 2,
       "version_minor": 0,
       "model_id": "cc828407fe0244b2a14a7740d10d037f"
      }
     },
     "metadata": {},
     "output_type": "display_data"
    },
    {
     "name": "stdout",
     "output_type": "stream",
     "text": [
      "___ Current Batch 1/255 _________________________\n",
      "    Test Results:\n",
      "        Correct positive: 694 (72.37%), Correct negative: 900 (93.85%)\n",
      "        Total correct: 1594 (83.11%)\n",
      "        Test Loss: 0.1550, Test Accuracy: 0.8311\n",
      "    Eval Results:\n",
      "        Correct positive: 318 (66.11%), Correct negative: 227 (47.19%)\n",
      "        Total correct: 545 (56.65%)\n",
      "        Eval Loss: 0.8974, Eval Accuracy: 0.5665\n",
      "___ Current Batch 127/255 _________________________\n",
      "    Test Results:\n",
      "        Correct positive: 817 (85.19%), Correct negative: 857 (89.36%)\n",
      "        Total correct: 1674 (87.28%)\n",
      "        Test Loss: 0.1692, Test Accuracy: 0.8728\n",
      "    Eval Results:\n",
      "        Correct positive: 351 (72.97%), Correct negative: 157 (32.64%)\n",
      "        Total correct: 508 (52.81%)\n",
      "        Eval Loss: 0.9523, Eval Accuracy: 0.5281\n",
      "=== Epoch 6/10 ======================\n"
     ]
    },
    {
     "data": {
      "text/plain": [
       "Epoch 6/10:   0%|          | 0/255 [00:00<?, ?it/s]"
      ],
      "application/vnd.jupyter.widget-view+json": {
       "version_major": 2,
       "version_minor": 0,
       "model_id": "a7d41dba35b94facbed468612922e2dc"
      }
     },
     "metadata": {},
     "output_type": "display_data"
    },
    {
     "name": "stdout",
     "output_type": "stream",
     "text": [
      "___ Current Batch 1/255 _________________________\n",
      "    Test Results:\n",
      "        Correct positive: 722 (75.29%), Correct negative: 883 (92.08%)\n",
      "        Total correct: 1605 (83.68%)\n",
      "        Test Loss: 0.1780, Test Accuracy: 0.8368\n",
      "    Eval Results:\n",
      "        Correct positive: 328 (68.19%), Correct negative: 187 (38.88%)\n",
      "        Total correct: 515 (53.53%)\n",
      "        Eval Loss: 0.9175, Eval Accuracy: 0.5353\n",
      "___ Current Batch 127/255 _________________________\n",
      "    Test Results:\n",
      "        Correct positive: 746 (77.79%), Correct negative: 896 (93.43%)\n",
      "        Total correct: 1642 (85.61%)\n",
      "        Test Loss: 0.1503, Test Accuracy: 0.8561\n",
      "    Eval Results:\n",
      "        Correct positive: 345 (71.73%), Correct negative: 173 (35.97%)\n",
      "        Total correct: 518 (53.85%)\n",
      "        Eval Loss: 0.9553, Eval Accuracy: 0.5385\n",
      "Saving model at epoch 6...\n",
      "=== Epoch 7/10 ======================\n"
     ]
    },
    {
     "data": {
      "text/plain": [
       "Epoch 7/10:   0%|          | 0/255 [00:00<?, ?it/s]"
      ],
      "application/vnd.jupyter.widget-view+json": {
       "version_major": 2,
       "version_minor": 0,
       "model_id": "55f4af17dc7d4f6a878c771621dbf630"
      }
     },
     "metadata": {},
     "output_type": "display_data"
    },
    {
     "name": "stdout",
     "output_type": "stream",
     "text": [
      "___ Current Batch 1/255 _________________________\n",
      "    Test Results:\n",
      "        Correct positive: 785 (81.86%), Correct negative: 876 (91.35%)\n",
      "        Total correct: 1661 (86.60%)\n",
      "        Test Loss: 0.1615, Test Accuracy: 0.8660\n",
      "    Eval Results:\n",
      "        Correct positive: 344 (71.52%), Correct negative: 209 (43.45%)\n",
      "        Total correct: 553 (57.48%)\n",
      "        Eval Loss: 0.8875, Eval Accuracy: 0.5748\n",
      "___ Current Batch 127/255 _________________________\n",
      "    Test Results:\n",
      "        Correct positive: 714 (74.45%), Correct negative: 891 (92.91%)\n",
      "        Total correct: 1605 (83.68%)\n",
      "        Test Loss: 0.1417, Test Accuracy: 0.8368\n",
      "    Eval Results:\n",
      "        Correct positive: 332 (69.02%), Correct negative: 176 (36.59%)\n",
      "        Total correct: 508 (52.81%)\n",
      "        Eval Loss: 1.0107, Eval Accuracy: 0.5281\n",
      "Saving model at epoch 7...\n",
      "=== Epoch 8/10 ======================\n"
     ]
    },
    {
     "data": {
      "text/plain": [
       "Epoch 8/10:   0%|          | 0/255 [00:00<?, ?it/s]"
      ],
      "application/vnd.jupyter.widget-view+json": {
       "version_major": 2,
       "version_minor": 0,
       "model_id": "e67fdd99125c4e52be8ed79f176b6a36"
      }
     },
     "metadata": {},
     "output_type": "display_data"
    },
    {
     "name": "stdout",
     "output_type": "stream",
     "text": [
      "___ Current Batch 1/255 _________________________\n",
      "    Test Results:\n",
      "        Correct positive: 589 (61.42%), Correct negative: 921 (96.04%)\n",
      "        Total correct: 1510 (78.73%)\n",
      "        Test Loss: 0.1330, Test Accuracy: 0.7873\n",
      "    Eval Results:\n",
      "        Correct positive: 248 (51.56%), Correct negative: 354 (73.60%)\n",
      "        Total correct: 602 (62.58%)\n",
      "        Eval Loss: 0.6703, Eval Accuracy: 0.6258\n",
      "___ Current Batch 127/255 _________________________\n",
      "    Test Results:\n",
      "        Correct positive: 645 (67.26%), Correct negative: 913 (95.20%)\n",
      "        Total correct: 1558 (81.23%)\n",
      "        Test Loss: 0.1322, Test Accuracy: 0.8123\n",
      "    Eval Results:\n",
      "        Correct positive: 341 (70.89%), Correct negative: 321 (66.74%)\n",
      "        Total correct: 662 (68.81%)\n",
      "        Eval Loss: 0.6035, Eval Accuracy: 0.6881\n",
      "Saving model at epoch 8...\n",
      "=== Epoch 9/10 ======================\n"
     ]
    },
    {
     "data": {
      "text/plain": [
       "Epoch 9/10:   0%|          | 0/255 [00:00<?, ?it/s]"
      ],
      "application/vnd.jupyter.widget-view+json": {
       "version_major": 2,
       "version_minor": 0,
       "model_id": "3d0d1d9c0a2341bf88019eface3c8eba"
      }
     },
     "metadata": {},
     "output_type": "display_data"
    },
    {
     "name": "stdout",
     "output_type": "stream",
     "text": [
      "___ Current Batch 1/255 _________________________\n",
      "    Test Results:\n",
      "        Correct positive: 756 (78.83%), Correct negative: 899 (93.74%)\n",
      "        Total correct: 1655 (86.29%)\n",
      "        Test Loss: 0.1409, Test Accuracy: 0.8629\n",
      "    Eval Results:\n",
      "        Correct positive: 366 (76.09%), Correct negative: 202 (42.00%)\n",
      "        Total correct: 568 (59.04%)\n",
      "        Eval Loss: 0.8568, Eval Accuracy: 0.5904\n",
      "___ Current Batch 127/255 _________________________\n",
      "    Test Results:\n",
      "        Correct positive: 716 (74.66%), Correct negative: 907 (94.58%)\n",
      "        Total correct: 1623 (84.62%)\n",
      "        Test Loss: 0.1199, Test Accuracy: 0.8462\n",
      "    Eval Results:\n",
      "        Correct positive: 330 (68.61%), Correct negative: 330 (68.61%)\n",
      "        Total correct: 660 (68.61%)\n",
      "        Eval Loss: 0.6637, Eval Accuracy: 0.6861\n",
      "Saving model at epoch 9...\n",
      "=== Epoch 10/10 ======================\n"
     ]
    },
    {
     "data": {
      "text/plain": [
       "Epoch 10/10:   0%|          | 0/255 [00:00<?, ?it/s]"
      ],
      "application/vnd.jupyter.widget-view+json": {
       "version_major": 2,
       "version_minor": 0,
       "model_id": "2c3864e194b942b8ae4db00999eb3f46"
      }
     },
     "metadata": {},
     "output_type": "display_data"
    },
    {
     "name": "stdout",
     "output_type": "stream",
     "text": [
      "___ Current Batch 1/255 _________________________\n",
      "    Test Results:\n",
      "        Correct positive: 671 (69.97%), Correct negative: 904 (94.26%)\n",
      "        Total correct: 1575 (82.12%)\n",
      "        Test Loss: 0.1361, Test Accuracy: 0.8212\n",
      "    Eval Results:\n",
      "        Correct positive: 281 (58.42%), Correct negative: 372 (77.34%)\n",
      "        Total correct: 653 (67.88%)\n",
      "        Eval Loss: 0.5338, Eval Accuracy: 0.6788\n",
      "___ Current Batch 127/255 _________________________\n",
      "    Test Results:\n",
      "        Correct positive: 707 (73.72%), Correct negative: 912 (95.10%)\n",
      "        Total correct: 1619 (84.41%)\n",
      "        Test Loss: 0.1254, Test Accuracy: 0.8441\n",
      "    Eval Results:\n",
      "        Correct positive: 399 (82.95%), Correct negative: 306 (63.62%)\n",
      "        Total correct: 705 (73.28%)\n",
      "        Eval Loss: 0.5624, Eval Accuracy: 0.7328\n"
     ]
    }
   ],
   "execution_count": 4
  }
 ],
 "metadata": {
  "kernelspec": {
   "display_name": "Python 3",
   "language": "python",
   "name": "python3"
  },
  "language_info": {
   "codemirror_mode": {
    "name": "ipython",
    "version": 2
   },
   "file_extension": ".py",
   "mimetype": "text/x-python",
   "name": "python",
   "nbconvert_exporter": "python",
   "pygments_lexer": "ipython2",
   "version": "2.7.6"
  }
 },
 "nbformat": 4,
 "nbformat_minor": 5
}
