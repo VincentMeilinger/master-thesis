{
 "cells": [
  {
   "cell_type": "code",
   "id": "initial_id",
   "metadata": {
    "collapsed": true,
    "ExecuteTime": {
     "end_time": "2024-12-06T08:04:34.656252Z",
     "start_time": "2024-12-06T08:04:34.653328Z"
    }
   },
   "source": [
    "from util_homogeneous import *\n",
    "from util import *\n",
    "from training_homogeneous import *\n",
    "from gat_models import *\n",
    "\n",
    "from collections import defaultdict\n",
    "import random\n",
    "import numpy as np\n",
    "from sklearn.metrics import accuracy_score\n",
    "from tqdm.notebook import tqdm\n",
    "from torch_geometric.loader import DataLoader\n",
    "from torch.optim import Adam, SGD\n",
    "from torch.nn.modules.loss import TripletMarginLoss\n",
    "\n",
    "from src.shared.database_wrapper import DatabaseWrapper\n",
    "from src.shared.graph_schema import *\n",
    "from src.shared.graph_sampling import GraphSampling\n",
    "\n",
    "random.seed(40)\n",
    "np.random.seed(40)\n",
    "torch.manual_seed(40)\n",
    "torch.cuda.manual_seed_all(40)"
   ],
   "outputs": [],
   "execution_count": 9
  },
  {
   "metadata": {},
   "cell_type": "markdown",
   "source": "## Configurations",
   "id": "ee4fa502d7e51e50"
  },
  {
   "metadata": {
    "ExecuteTime": {
     "end_time": "2024-12-06T08:04:34.705004Z",
     "start_time": "2024-12-06T08:04:34.701383Z"
    }
   },
   "cell_type": "code",
   "source": [
    "# Graph sampling configurations\n",
    "node_spec = NodeType.PUBLICATION\n",
    "\n",
    "edge_spec = EdgeType.SIM_TITLE\n",
    "\n",
    "node_properties = [\n",
    "    'id',\n",
    "    'feature_vec',\n",
    "]\n",
    "\n",
    "database = 'small-graph'\n",
    "gs = GraphSampling(\n",
    "    node_spec=[node_spec],\n",
    "    edge_spec=[edge_spec],\n",
    "    node_properties=node_properties,\n",
    "    database=database\n",
    ")\n",
    "\n",
    "# Model configurations\n",
    "\n",
    "config = {\n",
    "    'experiment': 'GATv2 encoder (with linear layer + dropout) trained on small graph (publication nodes with title and abstract, title edges) using Triplet Loss and full embeddings',\n",
    "    'max_hops': 2,\n",
    "    'model_node_feature': 'feature_vec',  # Node feature to use for GAT encoder\n",
    "    'hidden_channels': 64,\n",
    "    'out_channels': 16,\n",
    "    'num_heads': 8,\n",
    "    'dropout_p': 0.4,\n",
    "    'margin': 1.0,\n",
    "    'optimizer': 'Adam',\n",
    "    'learning_rate': 0.005,\n",
    "    'weight_decay': 5e-4,\n",
    "    'num_epochs': 10,\n",
    "    'batch_size': 32,\n",
    "}\n",
    "\n",
    "model_class = HomoGATv2Encoder\n",
    "loss_fn = TripletMarginLoss(margin=config['margin'])\n",
    "device = torch.device('cuda' if torch.cuda.is_available() else 'cpu')\n",
    "\n",
    "# TODO: Adjust result folder name!\n",
    "result_folder_name = 'homogeneous (title) full_emb linear_layer dropout'\n",
    "result_folder_path = f'./data/results/{result_folder_name}'\n",
    "if not os.path.exists(result_folder_path):\n",
    "    os.mkdir(result_folder_path)"
   ],
   "id": "91b04efb689d61f4",
   "outputs": [
    {
     "name": "stdout",
     "output_type": "stream",
     "text": [
      "Using default edge type: SimilarTitle for homogeneous graph sampling.\n"
     ]
    }
   ],
   "execution_count": 10
  },
  {
   "metadata": {
    "ExecuteTime": {
     "end_time": "2024-12-06T08:04:34.857081Z",
     "start_time": "2024-12-06T08:04:34.752288Z"
    }
   },
   "cell_type": "code",
   "source": [
    "db = DatabaseWrapper(database=database)\n",
    "data_harvester = TripletDataHarvester(db=db, gs=gs, edge_spec=[edge_spec], config=config, valid_triplets_save_file='valid_triplets_homogeneous_title_small_graph', transformer_model='sentence-transformers/all-MiniLM-L6-v2')\n",
    "\n",
    "\n",
    "# Split the pairs into train and test\n",
    "\n",
    "# Harvest the evaluation triplets first, since triplets are ordered by author. This will ensure that the evaluation set has authors not seen in the training set.\n",
    "num_eval_authors = 3\n",
    "eval_papers = set()\n",
    "train_data = WhoIsWhoDataset.parse_train()\n",
    "for i, val in enumerate(train_data.values()):\n",
    "    num_eval_authors -= 1\n",
    "    for paper in val['normal_data']:\n",
    "        eval_papers.add(paper)\n",
    "    if num_eval_authors == 0:\n",
    "        break\n",
    "eval_triplets = []\n",
    "for triplet in data_harvester.triplets:\n",
    "    if triplet[0] in eval_papers or triplet[1] in eval_papers or triplet[2] in eval_papers:\n",
    "        eval_triplets.append(triplet)\n",
    "\n",
    "# Remove the evaluation triplets from the data harvester\n",
    "train_test_triplets = [triplet for triplet in data_harvester.triplets if triplet not in eval_triplets]\n",
    "\n",
    "random.shuffle(train_test_triplets)\n",
    "\n",
    "train_size = int(0.85 * len(train_test_triplets))\n",
    "test_size = len(train_test_triplets) - train_size\n",
    "\n",
    "train_triplets = train_test_triplets[:train_size]\n",
    "test_triplets = train_test_triplets[train_size:]\n",
    "config['train_size'] = len(train_triplets)\n",
    "config['test_size'] = len(test_triplets)\n",
    "config['eval_size'] = len(eval_triplets)\n",
    "\n",
    "print(f\"Train size: {len(train_triplets)}, Test size: {len(test_triplets)}, Eval size: {len(eval_triplets)}\")\n",
    "\n",
    "# Create the datasets from the pairs (distinct pairs for training and testing)\n",
    "train_dataset = HomogeneousGraphTripletDataset(train_triplets, gs, config=config)\n",
    "test_dataset = HomogeneousGraphTripletDataset(test_triplets, gs, config=config)\n",
    "eval_dataset = HomogeneousGraphTripletDataset(eval_triplets, gs, config=config)\n",
    "\n",
    "# Create the DataLoader\n",
    "train_dataloader = DataLoader(train_dataset, batch_size=config['batch_size'], shuffle=True, collate_fn=custom_triplet_collate)\n",
    "test_dataloader = DataLoader(test_dataset, batch_size=config['batch_size'], shuffle=False, collate_fn=custom_triplet_collate)\n",
    "eval_dataloader = DataLoader(eval_dataset, batch_size=config['batch_size'], shuffle=False, collate_fn=custom_triplet_collate)\n",
    "\n",
    "# Create model\n",
    "metadata = (\n",
    "    node_spec.value,\n",
    "    edge_spec.value\n",
    ")\n",
    "config['node_spec'] = metadata[0]\n",
    "config['edge_spec'] = metadata[1]\n",
    "model = model_class(config['hidden_channels'], config['out_channels'], num_heads=config['num_heads'], dropout_p=config['dropout_p']).to(device)\n",
    "#optimizer = SGD(model.parameters(), lr=0.1, momentum=0.9)\n",
    "optimizer = Adam(model.parameters(), lr=config['learning_rate'], weight_decay=config['weight_decay'])"
   ],
   "id": "62ef1028a5c5fd5d",
   "outputs": [
    {
     "name": "stderr",
     "output_type": "stream",
     "text": [
      "2024-12-06 09:04:34,756 - DatabaseWrapper - INFO - Connecting to the database ...\n",
      "2024-12-06 09:04:34,756 - DatabaseWrapper - INFO - Database ready.\n"
     ]
    },
    {
     "name": "stdout",
     "output_type": "stream",
     "text": [
      "Preparing triplets...\n",
      "Loading triplets...\n",
      "Loaded 8202 triplets.\n",
      "Train size: 6442, Test size: 1137, Eval size: 623\n"
     ]
    }
   ],
   "execution_count": 11
  },
  {
   "metadata": {
    "ExecuteTime": {
     "end_time": "2024-12-06T09:18:07.113706Z",
     "start_time": "2024-12-06T08:04:34.878173Z"
    }
   },
   "cell_type": "code",
   "source": [
    "num_epochs = config['num_epochs']\n",
    "results = defaultdict(list)\n",
    "\n",
    "current_batch = 1\n",
    "\n",
    "for epoch in range(1, num_epochs + 1):\n",
    "    print(f\"=== Epoch {epoch}/{num_epochs} ======================\")\n",
    "    epoch_marker_pos = list(range(0, len(train_dataloader) * epoch, len(train_dataloader)))\n",
    "    current_batch = 1\n",
    "    for batch_anchor, batch_pos, batch_neg in tqdm(train_dataloader, desc=f\"Epoch {epoch}/{num_epochs}\"):\n",
    "        if batch_anchor is None or batch_pos is None or batch_neg is None:\n",
    "            continue\n",
    "        \n",
    "        if current_batch == 1 or current_batch == len(train_dataloader) // 2:\n",
    "            print(f\"___ Current Batch {current_batch}/{len(train_dataloader)} _________________________\")\n",
    "            # Model testing\n",
    "            print(\"    Test Results:\")\n",
    "            test_loss, test_num_correct, test_correct_pos_val, test_correct_neg_val, test_precision, test_recall, test_F1 = test_and_eval(\n",
    "                model=model,\n",
    "                loss_fn=loss_fn,\n",
    "                dataloader=test_dataloader,\n",
    "                margin=config['margin']\n",
    "            )\n",
    "            results['test_total_loss'].append(test_loss)\n",
    "            results['test_accuracies'].append(test_num_correct)\n",
    "            results['test_accuracies_correct_pos'].append(test_correct_pos_val)\n",
    "            results['test_accuracies_correct_neg'].append(test_correct_neg_val)\n",
    "            results['test_precision'].append(test_precision)\n",
    "            results['test_recall'].append(test_recall)\n",
    "            results['test_F1'].append(test_F1)\n",
    "    \n",
    "            plot_losses(\n",
    "                losses=[results['test_total_loss']], \n",
    "                epoch_len=2, \n",
    "                plot_title='Test Loss', \n",
    "                plot_file=result_folder_path + '/test_loss.png', \n",
    "                line_labels=[\"Triplet Loss\"]\n",
    "            )\n",
    "            \n",
    "            plot_losses(\n",
    "                [results['test_accuracies'], results['test_accuracies_correct_pos'], results['test_accuracies_correct_neg']],\n",
    "                epoch_len=2,\n",
    "                plot_title='Test Accuracy',\n",
    "                x_label='Test Iterations',\n",
    "                y_label='Accuracy',\n",
    "                line_labels=['Total Accuracy', 'Correct Pos', 'Correct Neg'],\n",
    "                plot_file=result_folder_path + '/test_accuracy.png'\n",
    "            )\n",
    "            \n",
    "            # Model evaluation\n",
    "            print(\"    Eval Results:\")\n",
    "            eval_loss, eval_num_correct, eval_correct_pos_val, eval_correct_neg_val, eval_precision, eval_recall, eval_F1 = test_and_eval(\n",
    "                model=model,\n",
    "                loss_fn=loss_fn,\n",
    "                dataloader=eval_dataloader,\n",
    "                margin=config['margin']\n",
    "            )\n",
    "            results['eval_total_loss'].append(eval_loss)\n",
    "            results['eval_accuracies'].append(eval_num_correct)\n",
    "            results['eval_accuracies_correct_pos'].append(eval_correct_pos_val)\n",
    "            results['eval_accuracies_correct_neg'].append(eval_correct_neg_val)\n",
    "            results['eval_precision'].append(eval_precision)\n",
    "            results['eval_recall'].append(eval_recall)\n",
    "            results['eval_F1'].append(eval_F1)\n",
    "            \n",
    "            plot_losses(\n",
    "                losses=[results['eval_total_loss']], \n",
    "                epoch_len=2, \n",
    "                plot_title='Evaluation Loss', \n",
    "                plot_file=result_folder_path + '/eval_loss.png', \n",
    "                line_labels=[\"Triplet Loss\"]\n",
    "            )\n",
    "            \n",
    "            plot_losses(\n",
    "                [results['eval_accuracies'], results['eval_accuracies_correct_pos'], results['eval_accuracies_correct_neg']], \n",
    "                epoch_len=2, \n",
    "                plot_title='Evaluation Accuracy', \n",
    "                x_label='Eval Iterations',\n",
    "                y_label='Accuracy',\n",
    "                line_labels=['Total Accuracy', 'Correct Pos', 'Correct Neg'],\n",
    "                plot_file=result_folder_path + '/eval_accuracy.png'\n",
    "            )\n",
    "            \n",
    "            # Save config and training results\n",
    "            config['results'] = results\n",
    "            save_dict_to_json(config, result_folder_path + '/training_data.json')\n",
    "            \n",
    "            # Save model if loss has decreased\n",
    "            if len(results['eval_accuracies']) > 1 and results['eval_accuracies'][-1] > max(results['eval_accuracies'][:-1]):\n",
    "                print(f\"Saving model at epoch {epoch}...\")\n",
    "                torch.save(model.state_dict(), result_folder_path + '/gat_encoder.pt')\n",
    "            \n",
    "        loss = train(\n",
    "            model=model,\n",
    "            loss_fn=loss_fn,\n",
    "            batch_anchor=batch_anchor,\n",
    "            batch_pos=batch_pos,\n",
    "            batch_neg=batch_neg,\n",
    "            optimizer=optimizer\n",
    "        )\n",
    "        results['train_loss'].append(loss)\n",
    "        \n",
    "        plot_loss(results['train_loss'], epoch_len=len(train_dataloader), plot_title='Training Loss', plot_avg=True, plot_file=result_folder_path + '/train_loss.png')\n",
    "        current_batch += 1"
   ],
   "id": "c3b28cd52881796",
   "outputs": [
    {
     "name": "stdout",
     "output_type": "stream",
     "text": [
      "=== Epoch 1/10 ======================\n"
     ]
    },
    {
     "data": {
      "text/plain": [
       "Epoch 1/10:   0%|          | 0/202 [00:00<?, ?it/s]"
      ],
      "application/vnd.jupyter.widget-view+json": {
       "version_major": 2,
       "version_minor": 0,
       "model_id": "903443619ee94617b5eafe944f83f053"
      }
     },
     "metadata": {},
     "output_type": "display_data"
    },
    {
     "name": "stdout",
     "output_type": "stream",
     "text": [
      "___ Current Batch 1/202 _________________________\n",
      "    Test Results:\n",
      "        Correct positive: 1137 (100.00%), Correct negative: 1 (0.09%)\n",
      "        Total correct: 1138 (50.04%)\n",
      "        Test/Eval Loss: 0.9917, Test/Eval Accuracy: 0.5004\n",
      "        Precision: 0.5002, Recall: 1.0000, F1: 0.6669\n",
      "    Eval Results:\n",
      "        Correct positive: 623 (100.00%), Correct negative: 0 (0.00%)\n",
      "        Total correct: 623 (50.00%)\n",
      "        Test/Eval Loss: 0.9460, Test/Eval Accuracy: 0.5000\n",
      "        Precision: 0.5000, Recall: 1.0000, F1: 0.6667\n",
      "___ Current Batch 101/202 _________________________\n",
      "    Test Results:\n",
      "        Correct positive: 984 (86.54%), Correct negative: 930 (81.79%)\n",
      "        Total correct: 1914 (84.17%)\n",
      "        Test/Eval Loss: 0.2916, Test/Eval Accuracy: 0.8417\n",
      "        Precision: 0.8262, Recall: 0.8654, F1: 0.8454\n",
      "    Eval Results:\n",
      "        Correct positive: 320 (51.36%), Correct negative: 337 (54.09%)\n",
      "        Total correct: 657 (52.73%)\n",
      "        Test/Eval Loss: 0.9967, Test/Eval Accuracy: 0.5273\n",
      "        Precision: 0.5281, Recall: 0.5136, F1: 0.5207\n",
      "Saving model at epoch 1...\n",
      "=== Epoch 2/10 ======================\n"
     ]
    },
    {
     "data": {
      "text/plain": [
       "Epoch 2/10:   0%|          | 0/202 [00:00<?, ?it/s]"
      ],
      "application/vnd.jupyter.widget-view+json": {
       "version_major": 2,
       "version_minor": 0,
       "model_id": "a1244727e5d24737be07fe0f84ca32f2"
      }
     },
     "metadata": {},
     "output_type": "display_data"
    },
    {
     "name": "stdout",
     "output_type": "stream",
     "text": [
      "___ Current Batch 1/202 _________________________\n",
      "    Test Results:\n",
      "        Correct positive: 1019 (89.62%), Correct negative: 931 (81.88%)\n",
      "        Total correct: 1950 (85.75%)\n",
      "        Test/Eval Loss: 0.2390, Test/Eval Accuracy: 0.8575\n",
      "        Precision: 0.8318, Recall: 0.8962, F1: 0.8628\n",
      "    Eval Results:\n",
      "        Correct positive: 390 (62.60%), Correct negative: 275 (44.14%)\n",
      "        Total correct: 665 (53.37%)\n",
      "        Test/Eval Loss: 1.1495, Test/Eval Accuracy: 0.5337\n",
      "        Precision: 0.5285, Recall: 0.6260, F1: 0.5731\n",
      "___ Current Batch 101/202 _________________________\n",
      "    Test Results:\n",
      "        Correct positive: 1018 (89.53%), Correct negative: 891 (78.36%)\n",
      "        Total correct: 1909 (83.95%)\n",
      "        Test/Eval Loss: 0.2756, Test/Eval Accuracy: 0.8395\n",
      "        Precision: 0.8054, Recall: 0.8953, F1: 0.8480\n",
      "    Eval Results:\n",
      "        Correct positive: 348 (55.86%), Correct negative: 275 (44.14%)\n",
      "        Total correct: 623 (50.00%)\n",
      "        Test/Eval Loss: 1.1323, Test/Eval Accuracy: 0.5000\n",
      "        Precision: 0.5000, Recall: 0.5586, F1: 0.5277\n",
      "=== Epoch 3/10 ======================\n"
     ]
    },
    {
     "data": {
      "text/plain": [
       "Epoch 3/10:   0%|          | 0/202 [00:00<?, ?it/s]"
      ],
      "application/vnd.jupyter.widget-view+json": {
       "version_major": 2,
       "version_minor": 0,
       "model_id": "de0babc1bf5343e5b7b76c3afaa5ee20"
      }
     },
     "metadata": {},
     "output_type": "display_data"
    },
    {
     "name": "stdout",
     "output_type": "stream",
     "text": [
      "___ Current Batch 1/202 _________________________\n",
      "    Test Results:\n",
      "        Correct positive: 1044 (91.82%), Correct negative: 918 (80.74%)\n",
      "        Total correct: 1962 (86.28%)\n",
      "        Test/Eval Loss: 0.2250, Test/Eval Accuracy: 0.8628\n",
      "        Precision: 0.8266, Recall: 0.9182, F1: 0.8700\n",
      "    Eval Results:\n",
      "        Correct positive: 364 (58.43%), Correct negative: 272 (43.66%)\n",
      "        Total correct: 636 (51.04%)\n",
      "        Test/Eval Loss: 1.1332, Test/Eval Accuracy: 0.5104\n",
      "        Precision: 0.5091, Recall: 0.5843, F1: 0.5441\n",
      "___ Current Batch 101/202 _________________________\n",
      "    Test Results:\n",
      "        Correct positive: 966 (84.96%), Correct negative: 988 (86.90%)\n",
      "        Total correct: 1954 (85.93%)\n",
      "        Test/Eval Loss: 0.2563, Test/Eval Accuracy: 0.8593\n",
      "        Precision: 0.8664, Recall: 0.8496, F1: 0.8579\n",
      "    Eval Results:\n",
      "        Correct positive: 398 (63.88%), Correct negative: 92 (14.77%)\n",
      "        Total correct: 490 (39.33%)\n",
      "        Test/Eval Loss: 1.2407, Test/Eval Accuracy: 0.3933\n",
      "        Precision: 0.4284, Recall: 0.6388, F1: 0.5129\n",
      "=== Epoch 4/10 ======================\n"
     ]
    },
    {
     "data": {
      "text/plain": [
       "Epoch 4/10:   0%|          | 0/202 [00:00<?, ?it/s]"
      ],
      "application/vnd.jupyter.widget-view+json": {
       "version_major": 2,
       "version_minor": 0,
       "model_id": "e2c0a82d24084333be3788d2bc1ec099"
      }
     },
     "metadata": {},
     "output_type": "display_data"
    },
    {
     "name": "stdout",
     "output_type": "stream",
     "text": [
      "___ Current Batch 1/202 _________________________\n",
      "    Test Results:\n",
      "        Correct positive: 1000 (87.95%), Correct negative: 903 (79.42%)\n",
      "        Total correct: 1903 (83.69%)\n",
      "        Test/Eval Loss: 0.2908, Test/Eval Accuracy: 0.8369\n",
      "        Precision: 0.8104, Recall: 0.8795, F1: 0.8435\n",
      "    Eval Results:\n",
      "        Correct positive: 375 (60.19%), Correct negative: 252 (40.45%)\n",
      "        Total correct: 627 (50.32%)\n",
      "        Test/Eval Loss: 1.1059, Test/Eval Accuracy: 0.5032\n",
      "        Precision: 0.5027, Recall: 0.6019, F1: 0.5478\n",
      "___ Current Batch 101/202 _________________________\n",
      "    Test Results:\n",
      "        Correct positive: 1016 (89.36%), Correct negative: 962 (84.61%)\n",
      "        Total correct: 1978 (86.98%)\n",
      "        Test/Eval Loss: 0.2328, Test/Eval Accuracy: 0.8698\n",
      "        Precision: 0.8531, Recall: 0.8936, F1: 0.8729\n",
      "    Eval Results:\n",
      "        Correct positive: 416 (66.77%), Correct negative: 264 (42.38%)\n",
      "        Total correct: 680 (54.57%)\n",
      "        Test/Eval Loss: 1.1149, Test/Eval Accuracy: 0.5457\n",
      "        Precision: 0.5368, Recall: 0.6677, F1: 0.5951\n",
      "=== Epoch 5/10 ======================\n"
     ]
    },
    {
     "data": {
      "text/plain": [
       "Epoch 5/10:   0%|          | 0/202 [00:00<?, ?it/s]"
      ],
      "application/vnd.jupyter.widget-view+json": {
       "version_major": 2,
       "version_minor": 0,
       "model_id": "e16e9bee49204adfa2d6b7b436e06fd9"
      }
     },
     "metadata": {},
     "output_type": "display_data"
    },
    {
     "name": "stdout",
     "output_type": "stream",
     "text": [
      "___ Current Batch 1/202 _________________________\n",
      "    Test Results:\n",
      "        Correct positive: 1013 (89.09%), Correct negative: 863 (75.90%)\n",
      "        Total correct: 1876 (82.50%)\n",
      "        Test/Eval Loss: 0.3184, Test/Eval Accuracy: 0.8250\n",
      "        Precision: 0.7871, Recall: 0.8909, F1: 0.8358\n",
      "    Eval Results:\n",
      "        Correct positive: 312 (50.08%), Correct negative: 279 (44.78%)\n",
      "        Total correct: 591 (47.43%)\n",
      "        Test/Eval Loss: 1.0975, Test/Eval Accuracy: 0.4743\n",
      "        Precision: 0.4756, Recall: 0.5008, F1: 0.4879\n",
      "___ Current Batch 101/202 _________________________\n",
      "    Test Results:\n",
      "        Correct positive: 1012 (89.01%), Correct negative: 960 (84.43%)\n",
      "        Total correct: 1972 (86.72%)\n",
      "        Test/Eval Loss: 0.2384, Test/Eval Accuracy: 0.8672\n",
      "        Precision: 0.8511, Recall: 0.8901, F1: 0.8702\n",
      "    Eval Results:\n",
      "        Correct positive: 350 (56.18%), Correct negative: 91 (14.61%)\n",
      "        Total correct: 441 (35.39%)\n",
      "        Test/Eval Loss: 1.2988, Test/Eval Accuracy: 0.3539\n",
      "        Precision: 0.3968, Recall: 0.5618, F1: 0.4651\n",
      "=== Epoch 6/10 ======================\n"
     ]
    },
    {
     "data": {
      "text/plain": [
       "Epoch 6/10:   0%|          | 0/202 [00:00<?, ?it/s]"
      ],
      "application/vnd.jupyter.widget-view+json": {
       "version_major": 2,
       "version_minor": 0,
       "model_id": "8a863240aec04b718d5d83927356cbd8"
      }
     },
     "metadata": {},
     "output_type": "display_data"
    },
    {
     "name": "stdout",
     "output_type": "stream",
     "text": [
      "___ Current Batch 1/202 _________________________\n",
      "    Test Results:\n",
      "        Correct positive: 1062 (93.40%), Correct negative: 899 (79.07%)\n",
      "        Total correct: 1961 (86.24%)\n",
      "        Test/Eval Loss: 0.2685, Test/Eval Accuracy: 0.8624\n",
      "        Precision: 0.8169, Recall: 0.9340, F1: 0.8716\n",
      "    Eval Results:\n",
      "        Correct positive: 346 (55.54%), Correct negative: 265 (42.54%)\n",
      "        Total correct: 611 (49.04%)\n",
      "        Test/Eval Loss: 1.1801, Test/Eval Accuracy: 0.4904\n",
      "        Precision: 0.4915, Recall: 0.5554, F1: 0.5215\n",
      "___ Current Batch 101/202 _________________________\n",
      "    Test Results:\n",
      "        Correct positive: 1025 (90.15%), Correct negative: 909 (79.95%)\n",
      "        Total correct: 1934 (85.05%)\n",
      "        Test/Eval Loss: 0.2840, Test/Eval Accuracy: 0.8505\n",
      "        Precision: 0.8180, Recall: 0.9015, F1: 0.8577\n",
      "    Eval Results:\n",
      "        Correct positive: 341 (54.74%), Correct negative: 174 (27.93%)\n",
      "        Total correct: 515 (41.33%)\n",
      "        Test/Eval Loss: 1.2865, Test/Eval Accuracy: 0.4133\n",
      "        Precision: 0.4316, Recall: 0.5474, F1: 0.4827\n",
      "=== Epoch 7/10 ======================\n"
     ]
    },
    {
     "data": {
      "text/plain": [
       "Epoch 7/10:   0%|          | 0/202 [00:00<?, ?it/s]"
      ],
      "application/vnd.jupyter.widget-view+json": {
       "version_major": 2,
       "version_minor": 0,
       "model_id": "082b65d89c604aa6a19013b7cef1195f"
      }
     },
     "metadata": {},
     "output_type": "display_data"
    },
    {
     "name": "stdout",
     "output_type": "stream",
     "text": [
      "___ Current Batch 1/202 _________________________\n",
      "    Test Results:\n",
      "        Correct positive: 1033 (90.85%), Correct negative: 910 (80.04%)\n",
      "        Total correct: 1943 (85.44%)\n",
      "        Test/Eval Loss: 0.2606, Test/Eval Accuracy: 0.8544\n",
      "        Precision: 0.8198, Recall: 0.9085, F1: 0.8619\n",
      "    Eval Results:\n",
      "        Correct positive: 343 (55.06%), Correct negative: 282 (45.26%)\n",
      "        Total correct: 625 (50.16%)\n",
      "        Test/Eval Loss: 1.0944, Test/Eval Accuracy: 0.5016\n",
      "        Precision: 0.5015, Recall: 0.5506, F1: 0.5249\n",
      "___ Current Batch 101/202 _________________________\n",
      "    Test Results:\n",
      "        Correct positive: 1009 (88.74%), Correct negative: 962 (84.61%)\n",
      "        Total correct: 1971 (86.68%)\n",
      "        Test/Eval Loss: 0.2444, Test/Eval Accuracy: 0.8668\n",
      "        Precision: 0.8522, Recall: 0.8874, F1: 0.8695\n",
      "    Eval Results:\n",
      "        Correct positive: 378 (60.67%), Correct negative: 266 (42.70%)\n",
      "        Total correct: 644 (51.69%)\n",
      "        Test/Eval Loss: 1.1064, Test/Eval Accuracy: 0.5169\n",
      "        Precision: 0.5143, Recall: 0.6067, F1: 0.5567\n",
      "=== Epoch 8/10 ======================\n"
     ]
    },
    {
     "data": {
      "text/plain": [
       "Epoch 8/10:   0%|          | 0/202 [00:00<?, ?it/s]"
      ],
      "application/vnd.jupyter.widget-view+json": {
       "version_major": 2,
       "version_minor": 0,
       "model_id": "dc301a5d2b4e4ad98fc189fef790a447"
      }
     },
     "metadata": {},
     "output_type": "display_data"
    },
    {
     "name": "stdout",
     "output_type": "stream",
     "text": [
      "___ Current Batch 1/202 _________________________\n",
      "    Test Results:\n",
      "        Correct positive: 1049 (92.26%), Correct negative: 953 (83.82%)\n",
      "        Total correct: 2002 (88.04%)\n",
      "        Test/Eval Loss: 0.2172, Test/Eval Accuracy: 0.8804\n",
      "        Precision: 0.8508, Recall: 0.9226, F1: 0.8852\n",
      "    Eval Results:\n",
      "        Correct positive: 392 (62.92%), Correct negative: 261 (41.89%)\n",
      "        Total correct: 653 (52.41%)\n",
      "        Test/Eval Loss: 1.1136, Test/Eval Accuracy: 0.5241\n",
      "        Precision: 0.5199, Recall: 0.6292, F1: 0.5694\n",
      "___ Current Batch 101/202 _________________________\n",
      "    Test Results:\n",
      "        Correct positive: 1059 (93.14%), Correct negative: 899 (79.07%)\n",
      "        Total correct: 1958 (86.10%)\n",
      "        Test/Eval Loss: 0.2363, Test/Eval Accuracy: 0.8610\n",
      "        Precision: 0.8165, Recall: 0.9314, F1: 0.8702\n",
      "    Eval Results:\n",
      "        Correct positive: 380 (61.00%), Correct negative: 272 (43.66%)\n",
      "        Total correct: 652 (52.33%)\n",
      "        Test/Eval Loss: 1.1743, Test/Eval Accuracy: 0.5233\n",
      "        Precision: 0.5198, Recall: 0.6100, F1: 0.5613\n",
      "=== Epoch 9/10 ======================\n"
     ]
    },
    {
     "data": {
      "text/plain": [
       "Epoch 9/10:   0%|          | 0/202 [00:00<?, ?it/s]"
      ],
      "application/vnd.jupyter.widget-view+json": {
       "version_major": 2,
       "version_minor": 0,
       "model_id": "8e70a26b707b4f019490862c600c5d15"
      }
     },
     "metadata": {},
     "output_type": "display_data"
    },
    {
     "name": "stdout",
     "output_type": "stream",
     "text": [
      "___ Current Batch 1/202 _________________________\n",
      "    Test Results:\n",
      "        Correct positive: 1019 (89.62%), Correct negative: 972 (85.49%)\n",
      "        Total correct: 1991 (87.55%)\n",
      "        Test/Eval Loss: 0.2293, Test/Eval Accuracy: 0.8755\n",
      "        Precision: 0.8606, Recall: 0.8962, F1: 0.8781\n",
      "    Eval Results:\n",
      "        Correct positive: 378 (60.67%), Correct negative: 86 (13.80%)\n",
      "        Total correct: 464 (37.24%)\n",
      "        Test/Eval Loss: 1.3462, Test/Eval Accuracy: 0.3724\n",
      "        Precision: 0.4131, Recall: 0.6067, F1: 0.4915\n",
      "___ Current Batch 101/202 _________________________\n",
      "    Test Results:\n",
      "        Correct positive: 1049 (92.26%), Correct negative: 917 (80.65%)\n",
      "        Total correct: 1966 (86.46%)\n",
      "        Test/Eval Loss: 0.2454, Test/Eval Accuracy: 0.8646\n",
      "        Precision: 0.8266, Recall: 0.9226, F1: 0.8720\n",
      "    Eval Results:\n",
      "        Correct positive: 381 (61.16%), Correct negative: 269 (43.18%)\n",
      "        Total correct: 650 (52.17%)\n",
      "        Test/Eval Loss: 1.1781, Test/Eval Accuracy: 0.5217\n",
      "        Precision: 0.5184, Recall: 0.6116, F1: 0.5611\n",
      "=== Epoch 10/10 ======================\n"
     ]
    },
    {
     "data": {
      "text/plain": [
       "Epoch 10/10:   0%|          | 0/202 [00:00<?, ?it/s]"
      ],
      "application/vnd.jupyter.widget-view+json": {
       "version_major": 2,
       "version_minor": 0,
       "model_id": "2d8c0176e5d24515849021f6a0af13b3"
      }
     },
     "metadata": {},
     "output_type": "display_data"
    },
    {
     "name": "stdout",
     "output_type": "stream",
     "text": [
      "___ Current Batch 1/202 _________________________\n",
      "    Test Results:\n",
      "        Correct positive: 1032 (90.77%), Correct negative: 927 (81.53%)\n",
      "        Total correct: 1959 (86.15%)\n",
      "        Test/Eval Loss: 0.2376, Test/Eval Accuracy: 0.8615\n",
      "        Precision: 0.8309, Recall: 0.9077, F1: 0.8676\n",
      "    Eval Results:\n",
      "        Correct positive: 361 (57.95%), Correct negative: 259 (41.57%)\n",
      "        Total correct: 620 (49.76%)\n",
      "        Test/Eval Loss: 1.1482, Test/Eval Accuracy: 0.4976\n",
      "        Precision: 0.4979, Recall: 0.5795, F1: 0.5356\n",
      "___ Current Batch 101/202 _________________________\n",
      "    Test Results:\n",
      "        Correct positive: 1062 (93.40%), Correct negative: 879 (77.31%)\n",
      "        Total correct: 1941 (85.36%)\n",
      "        Test/Eval Loss: 0.2741, Test/Eval Accuracy: 0.8536\n",
      "        Precision: 0.8045, Recall: 0.9340, F1: 0.8645\n",
      "    Eval Results:\n",
      "        Correct positive: 386 (61.96%), Correct negative: 232 (37.24%)\n",
      "        Total correct: 618 (49.60%)\n",
      "        Test/Eval Loss: 1.2063, Test/Eval Accuracy: 0.4960\n",
      "        Precision: 0.4968, Recall: 0.6196, F1: 0.5514\n"
     ]
    }
   ],
   "execution_count": 12
  }
 ],
 "metadata": {
  "kernelspec": {
   "display_name": "Python 3",
   "language": "python",
   "name": "python3"
  },
  "language_info": {
   "codemirror_mode": {
    "name": "ipython",
    "version": 2
   },
   "file_extension": ".py",
   "mimetype": "text/x-python",
   "name": "python",
   "nbconvert_exporter": "python",
   "pygments_lexer": "ipython2",
   "version": "2.7.6"
  }
 },
 "nbformat": 4,
 "nbformat_minor": 5
}
