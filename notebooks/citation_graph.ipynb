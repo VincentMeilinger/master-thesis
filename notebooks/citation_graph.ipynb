{
 "cells": [
  {
   "cell_type": "code",
   "id": "initial_id",
   "metadata": {
    "collapsed": true,
    "ExecuteTime": {
     "end_time": "2024-10-08T09:16:48.476903Z",
     "start_time": "2024-10-08T09:16:48.474725Z"
    }
   },
   "source": [
    "from sentence_transformers import SentenceTransformer\n",
    "from torch.ao.nn.quantized.functional import threshold\n",
    "from tqdm.notebook import tqdm\n",
    "from collections import defaultdict\n",
    "\n",
    "from src.datasets.oc782k import OC782KDataset\n",
    "from src.shared.database_wrapper import DatabaseWrapper\n",
    "from src.shared.graph_schema import NodeType, EdgeType\n",
    "from src.shared.graph_sampling import GraphSampling\n",
    "from src.shared import config"
   ],
   "outputs": [],
   "execution_count": 6
  },
  {
   "metadata": {
    "ExecuteTime": {
     "end_time": "2024-10-08T09:16:48.537937Z",
     "start_time": "2024-10-08T09:16:48.535718Z"
    }
   },
   "cell_type": "code",
   "source": [
    "db = DatabaseWrapper(database='citation-graph')\n",
    "#db.delete_all_nodes()"
   ],
   "id": "d1247433bd36aa0e",
   "outputs": [
    {
     "name": "stderr",
     "output_type": "stream",
     "text": [
      "2024-10-08 11:16:48,536 - DatabaseWrapper - INFO - Connecting to the database ...\n",
      "2024-10-08 11:16:48,536 - DatabaseWrapper - INFO - Database ready.\n"
     ]
    }
   ],
   "execution_count": 7
  },
  {
   "metadata": {
    "ExecuteTime": {
     "end_time": "2024-10-08T09:16:48.644016Z",
     "start_time": "2024-10-08T09:16:48.637159Z"
    }
   },
   "cell_type": "code",
   "source": "data = OC782KDataset.parse_valid()",
   "id": "17ad8658794dfe40",
   "outputs": [
    {
     "name": "stderr",
     "output_type": "stream",
     "text": [
      "2024-10-08 11:16:48,637 - OC782KDataset - INFO - Parsing train dataset OC-782K ...\n"
     ]
    }
   ],
   "execution_count": 8
  },
  {
   "metadata": {
    "ExecuteTime": {
     "end_time": "2024-10-08T09:16:50.043806Z",
     "start_time": "2024-10-08T09:16:48.738032Z"
    }
   },
   "cell_type": "code",
   "source": [
    "model = SentenceTransformer(\n",
    "    'sentence-transformers/all-MiniLM-L6-v2',\n",
    "    device='cuda'\n",
    ")\n",
    "print(f\"Model dim: {model.get_sentence_embedding_dimension()}\")"
   ],
   "id": "34374bd682958881",
   "outputs": [
    {
     "name": "stdout",
     "output_type": "stream",
     "text": [
      "Model dim: 384\n"
     ]
    }
   ],
   "execution_count": 9
  },
  {
   "metadata": {
    "ExecuteTime": {
     "end_time": "2024-10-08T09:16:50.107666Z",
     "start_time": "2024-10-08T09:16:50.106013Z"
    }
   },
   "cell_type": "code",
   "source": [
    "for key in data.keys():\n",
    "    "
   ],
   "id": "a44a0d9658ddf515",
   "outputs": [],
   "execution_count": 10
  },
  {
   "metadata": {
    "ExecuteTime": {
     "end_time": "2024-10-08T09:16:57.525005Z",
     "start_time": "2024-10-08T09:16:57.523166Z"
    }
   },
   "cell_type": "code",
   "source": "",
   "id": "40c5bc8e8bb975a3",
   "outputs": [
    {
     "name": "stdout",
     "output_type": "stream",
     "text": [
      "Total papers: 841\n"
     ]
    }
   ],
   "execution_count": 11
  },
  {
   "metadata": {},
   "cell_type": "code",
   "outputs": [],
   "execution_count": null,
   "source": "",
   "id": "560ea1066aee3dc3"
  }
 ],
 "metadata": {
  "kernelspec": {
   "display_name": "Python 3",
   "language": "python",
   "name": "python3"
  },
  "language_info": {
   "codemirror_mode": {
    "name": "ipython",
    "version": 2
   },
   "file_extension": ".py",
   "mimetype": "text/x-python",
   "name": "python",
   "nbconvert_exporter": "python",
   "pygments_lexer": "ipython2",
   "version": "2.7.6"
  }
 },
 "nbformat": 4,
 "nbformat_minor": 5
}
