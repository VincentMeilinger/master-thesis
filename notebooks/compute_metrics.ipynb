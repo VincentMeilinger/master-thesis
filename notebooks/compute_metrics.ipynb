{
 "cells": [
  {
   "cell_type": "code",
   "id": "initial_id",
   "metadata": {
    "collapsed": true,
    "ExecuteTime": {
     "end_time": "2024-12-15T09:16:45.507823Z",
     "start_time": "2024-12-15T09:16:45.505899Z"
    }
   },
   "source": [
    "import json\n",
    "from src.datasets.who_is_who import WhoIsWhoDataset"
   ],
   "outputs": [],
   "execution_count": 11
  },
  {
   "metadata": {
    "ExecuteTime": {
     "end_time": "2024-12-15T09:16:45.518611Z",
     "start_time": "2024-12-15T09:16:45.510230Z"
    }
   },
   "cell_type": "code",
   "source": [
    "def print_latex_table(data, first_rows):\n",
    "    test_data = []\n",
    "    eval_data = []\n",
    "    for i, row in enumerate(data):\n",
    "        with open(f\"./data/results/{row}/training_data.json\") as f:\n",
    "            results = json.load(f)[\"results\"]\n",
    "            # Find index of max. f1 score\n",
    "            max_test_f1_index = results[\"test_F1\"].index(max(results[\"test_F1\"][1:]))\n",
    "            max_test_precision = results[\"test_precision\"][max_test_f1_index]\n",
    "            max_test_recall = results[\"test_recall\"][max_test_f1_index]\n",
    "            max_test_f1 = results[\"test_F1\"][max_test_f1_index]\n",
    "            max_test_accuracy = results[\"test_accuracies\"][max_test_f1_index]\n",
    "            max_test_correct_pos = results[\"test_accuracies_correct_pos\"][max_test_f1_index]\n",
    "            max_test_correct_neg = results[\"test_accuracies_correct_neg\"][max_test_f1_index]\n",
    "            \n",
    "            max_eval_f1_index = results[\"eval_F1\"].index(max(results[\"eval_F1\"][1:]))\n",
    "            max_eval_precision = results[\"eval_precision\"][max_eval_f1_index]\n",
    "            max_eval_recall = results[\"eval_recall\"][max_eval_f1_index]\n",
    "            max_eval_f1 = results[\"eval_F1\"][max_eval_f1_index]\n",
    "            max_eval_accuracy = results[\"eval_accuracies\"][max_eval_f1_index]\n",
    "            max_eval_correct_pos = results[\"eval_accuracies_correct_pos\"][max_eval_f1_index]\n",
    "            max_eval_correct_neg = results[\"eval_accuracies_correct_neg\"][max_eval_f1_index]\n",
    "            \n",
    "            row_test = [\n",
    "                f\"\\\\textbf{{{first_rows[i]}}}\",\n",
    "                f\"{max_test_precision:.2f}\",\n",
    "                f\"{max_test_recall:.2f}\",\n",
    "                f\"{max_test_f1:.2f}\",\n",
    "                f\"{max_test_accuracy:.2f}\",\n",
    "                f\"{max_test_correct_pos:.2f}\",\n",
    "                f\"{max_test_correct_neg:.2f}\",\n",
    "            ]\n",
    "            test_data.append(row_test)\n",
    "            row_eval = [\n",
    "                f\"\\\\textbf{{{first_rows[i]}}}\",\n",
    "                f\"{max_eval_precision:.2f}\",\n",
    "                f\"{max_eval_recall:.2f}\",\n",
    "                f\"{max_eval_f1:.2f}\",\n",
    "                f\"{max_eval_accuracy:.2f}\",\n",
    "                f\"{max_eval_correct_pos:.2f}\",\n",
    "                f\"{max_eval_correct_neg:.2f}\",\n",
    "            ]\n",
    "            eval_data.append(row_eval)\n",
    "    \n",
    "    print(\"\\nTest Data\\n\")\n",
    "    for row in test_data:\n",
    "        print(\" & \".join(row) + \" \\\\\\\\\")\n",
    "    \n",
    "    print(\"\\nEval Data\\n\")\n",
    "    for row in eval_data:\n",
    "        print(\" & \".join(row) + \" \\\\\\\\\")"
   ],
   "id": "e5ef8f7358abb86b",
   "outputs": [],
   "execution_count": 12
  },
  {
   "metadata": {
    "ExecuteTime": {
     "end_time": "2024-12-15T09:16:45.556914Z",
     "start_time": "2024-12-15T09:16:45.555235Z"
    }
   },
   "cell_type": "code",
   "source": [
    "data = [\n",
    "    \"homogeneous (title) full_emb linear_layer dropout baseline\",\n",
    "    \"homogeneous (abstract) full_emb linear_layer dropout\",\n",
    "    \"homogeneous (similar co-authors) full_emb linear_layer dropout small_graph\",\n",
    "    \"homogeneous (venue) full_emb linear_layer dropout\",\n",
    "    \"homogeneous (org) full_emb linear_layer dropout\",\n",
    "]\n",
    "\n",
    "first_rows = [\n",
    "    \"Title\",\n",
    "    \"Abstract\",\n",
    "    \"Co-Author\",\n",
    "    \"Venue\",\n",
    "    \"Organization\",\n",
    "]\n",
    "    "
   ],
   "id": "8cdff182d559bfb2",
   "outputs": [],
   "execution_count": 13
  },
  {
   "metadata": {
    "ExecuteTime": {
     "end_time": "2024-12-15T09:16:45.603411Z",
     "start_time": "2024-12-15T09:16:45.600104Z"
    }
   },
   "cell_type": "code",
   "source": [
    "print(\"Edge Type Comparison\")\n",
    "print_latex_table(data, first_rows)"
   ],
   "id": "9d62a25043702e83",
   "outputs": [
    {
     "name": "stdout",
     "output_type": "stream",
     "text": [
      "Edge Type Comparison\n",
      "\n",
      "Test Data\n",
      "\n",
      "\\textbf{Title} & 0.85 & 0.92 & 0.89 & 0.88 & 0.92 & 0.84 \\\\\n",
      "\\textbf{Abstract} & 0.76 & 0.86 & 0.81 & 0.80 & 0.86 & 0.74 \\\\\n",
      "\\textbf{Co-Author} & 0.66 & 0.89 & 0.76 & 0.72 & 0.89 & 0.54 \\\\\n",
      "\\textbf{Venue} & 0.82 & 0.84 & 0.83 & 0.83 & 0.84 & 0.82 \\\\\n",
      "\\textbf{Organization} & 0.87 & 0.87 & 0.87 & 0.87 & 0.87 & 0.87 \\\\\n",
      "\n",
      "Eval Data\n",
      "\n",
      "\\textbf{Title} & 0.54 & 0.67 & 0.60 & 0.55 & 0.67 & 0.42 \\\\\n",
      "\\textbf{Abstract} & 0.96 & 0.77 & 0.85 & 0.87 & 0.77 & 0.97 \\\\\n",
      "\\textbf{Co-Author} & 0.54 & 0.82 & 0.65 & 0.56 & 0.82 & 0.30 \\\\\n",
      "\\textbf{Venue} & 0.59 & 0.77 & 0.66 & 0.61 & 0.77 & 0.46 \\\\\n",
      "\\textbf{Organization} & 0.85 & 0.75 & 0.80 & 0.81 & 0.75 & 0.87 \\\\\n"
     ]
    }
   ],
   "execution_count": 14
  },
  {
   "metadata": {},
   "cell_type": "markdown",
   "source": "## Classifiers",
   "id": "a56f43e45b93ad73"
  },
  {
   "metadata": {
    "ExecuteTime": {
     "end_time": "2024-12-15T09:16:45.647798Z",
     "start_time": "2024-12-15T09:16:45.645936Z"
    }
   },
   "cell_type": "code",
   "source": [
    "data = [\n",
    "    \"classifier full_emb (abstract, org, sim_author edges) fixe_enc_weights\",\n",
    "    \"classifier full_emb (abstract, org, sim_author edges) baseline\",\n",
    "    \"classifier full_emb (abstract, org, sim_author, same_author edges)\",\n",
    "    \"classifier full_emb (abstract, org edges) low dim\",\n",
    "    \"classifier full_emb (abstract, org edges) low dim 2 layers\",\n",
    "    \"classifier full_emb (abstract, org, sim_author, same_author edges) low dim 2 layers\",\n",
    "]\n",
    "\n",
    "first_rows = [\n",
    "    \"Baseline\",\n",
    "    \"Fixed Enc. Weights\",\n",
    "    \"Same Author Edges\",\n",
    "    \"Low Dim\",\n",
    "    \"Baseline Low Dim\",\n",
    "    \"Same Author Baseline Low Dim\",\n",
    "]"
   ],
   "id": "d0c23a8f2742685f",
   "outputs": [],
   "execution_count": 15
  },
  {
   "metadata": {
    "ExecuteTime": {
     "end_time": "2024-12-15T09:16:45.694536Z",
     "start_time": "2024-12-15T09:16:45.690923Z"
    }
   },
   "cell_type": "code",
   "source": "print_latex_table(data, first_rows)",
   "id": "440c4bcd4476c832",
   "outputs": [
    {
     "name": "stdout",
     "output_type": "stream",
     "text": [
      "\n",
      "Test Data\n",
      "\n",
      "\\textbf{Baseline} & 0.80 & 0.79 & 0.80 & 0.80 & 0.79 & 0.80 \\\\\n",
      "\\textbf{Fixed Enc. Weights} & 0.91 & 0.87 & 0.89 & 0.89 & 0.87 & 0.91 \\\\\n",
      "\\textbf{Same Author Edges} & 0.92 & 0.86 & 0.89 & 0.89 & 0.86 & 0.93 \\\\\n",
      "\\textbf{Low Dim} & 0.61 & 0.80 & 0.69 & 0.64 & 0.80 & 0.48 \\\\\n",
      "\\textbf{Baseline Low Dim} & 0.74 & 0.66 & 0.70 & 0.72 & 0.66 & 0.77 \\\\\n",
      "\\textbf{Same Author Baseline Low Dim} & 0.74 & 0.68 & 0.71 & 0.72 & 0.68 & 0.77 \\\\\n",
      "\n",
      "Eval Data\n",
      "\n",
      "\\textbf{Baseline} & 0.65 & 0.46 & 0.54 & 0.60 & 0.46 & 0.75 \\\\\n",
      "\\textbf{Fixed Enc. Weights} & 0.48 & 0.43 & 0.46 & 0.49 & 0.43 & 0.54 \\\\\n",
      "\\textbf{Same Author Edges} & 0.49 & 0.49 & 0.49 & 0.49 & 0.49 & 0.49 \\\\\n",
      "\\textbf{Low Dim} & 0.52 & 0.92 & 0.66 & 0.53 & 0.92 & 0.14 \\\\\n",
      "\\textbf{Baseline Low Dim} & 0.81 & 0.61 & 0.69 & 0.73 & 0.61 & 0.86 \\\\\n",
      "\\textbf{Same Author Baseline Low Dim} & 0.80 & 0.67 & 0.73 & 0.75 & 0.67 & 0.83 \\\\\n"
     ]
    }
   ],
   "execution_count": 16
  },
  {
   "metadata": {},
   "cell_type": "markdown",
   "source": "## Dropout rates",
   "id": "d01f096251696f79"
  },
  {
   "metadata": {
    "ExecuteTime": {
     "end_time": "2024-12-15T09:16:45.739402Z",
     "start_time": "2024-12-15T09:16:45.736498Z"
    }
   },
   "cell_type": "code",
   "source": [
    "data = [\n",
    "    \"homogeneous (abstract) full_emb linear_layer dropout 0\",\n",
    "    \"homogeneous (abstract) full_emb linear_layer dropout 3\",\n",
    "    \"homogeneous (abstract) full_emb linear_layer dropout 5\",\n",
    "]\n",
    "\n",
    "first_rows = [\n",
    "    \"Dropout 0.0\",\n",
    "    \"Dropout 0.3\",\n",
    "    \"Dropout 0.5\",\n",
    "]\n",
    "\n",
    "print_latex_table(data, first_rows)"
   ],
   "id": "716701b87a9019b1",
   "outputs": [
    {
     "name": "stdout",
     "output_type": "stream",
     "text": [
      "\n",
      "Test Data\n",
      "\n",
      "\\textbf{Dropout 0.0} & 0.75 & 0.94 & 0.83 & 0.81 & 0.94 & 0.69 \\\\\n",
      "\\textbf{Dropout 0.3} & 0.82 & 0.86 & 0.84 & 0.83 & 0.86 & 0.81 \\\\\n",
      "\\textbf{Dropout 0.5} & 0.79 & 0.84 & 0.81 & 0.81 & 0.84 & 0.77 \\\\\n",
      "\n",
      "Eval Data\n",
      "\n",
      "\\textbf{Dropout 0.0} & 0.84 & 0.67 & 0.75 & 0.77 & 0.67 & 0.87 \\\\\n",
      "\\textbf{Dropout 0.3} & 0.86 & 0.75 & 0.80 & 0.81 & 0.75 & 0.88 \\\\\n",
      "\\textbf{Dropout 0.5} & 0.93 & 0.63 & 0.75 & 0.79 & 0.63 & 0.96 \\\\\n"
     ]
    }
   ],
   "execution_count": 17
  },
  {
   "metadata": {},
   "cell_type": "markdown",
   "source": "## Dual vs single objective",
   "id": "6fa11d957d1ddb7f"
  },
  {
   "metadata": {
    "ExecuteTime": {
     "end_time": "2024-12-15T09:16:45.788619Z",
     "start_time": "2024-12-15T09:16:45.785408Z"
    }
   },
   "cell_type": "code",
   "source": [
    "data = [\n",
    "    \"homogeneous (abstract) full_emb linear_layer dropout 32h 8out\",\n",
    "    \"homogeneous (abstract) full_emb linear_layer dropout baseline\",\n",
    "    \"homogeneous (abstract) full_emb linear_layer dropout 128h 32out\",\n",
    "]\n",
    "\n",
    "first_rows = [\n",
    "    \"32 hidden, 8 out\",\n",
    "    \"64 hidden, 16 out\",\n",
    "    \"128 hidden, 32 out\",\n",
    "]\n",
    "\n",
    "print_latex_table(data, first_rows)"
   ],
   "id": "57da5a1158b2745b",
   "outputs": [
    {
     "name": "stdout",
     "output_type": "stream",
     "text": [
      "\n",
      "Test Data\n",
      "\n",
      "\\textbf{32 hidden, 8 out} & 0.76 & 0.90 & 0.82 & 0.81 & 0.90 & 0.71 \\\\\n",
      "\\textbf{64 hidden, 16 out} & 0.81 & 0.89 & 0.85 & 0.84 & 0.89 & 0.79 \\\\\n",
      "\\textbf{128 hidden, 32 out} & 0.79 & 0.90 & 0.85 & 0.84 & 0.90 & 0.77 \\\\\n",
      "\n",
      "Eval Data\n",
      "\n",
      "\\textbf{32 hidden, 8 out} & 0.96 & 0.83 & 0.89 & 0.90 & 0.83 & 0.97 \\\\\n",
      "\\textbf{64 hidden, 16 out} & 0.92 & 0.78 & 0.84 & 0.85 & 0.78 & 0.93 \\\\\n",
      "\\textbf{128 hidden, 32 out} & 0.94 & 0.82 & 0.88 & 0.89 & 0.82 & 0.95 \\\\\n"
     ]
    }
   ],
   "execution_count": 18
  },
  {
   "metadata": {},
   "cell_type": "markdown",
   "source": "## Model depth",
   "id": "14af925bfa718ae4"
  },
  {
   "metadata": {
    "ExecuteTime": {
     "end_time": "2024-12-15T09:16:45.837352Z",
     "start_time": "2024-12-15T09:16:45.834120Z"
    }
   },
   "cell_type": "code",
   "source": [
    "data = [\n",
    "    \"homogeneous (abstract) full_emb linear_layer dropout baseline\",\n",
    "    \"homogeneous (abstract) full_emb linear_layer dropout 1_conv_layer\",\n",
    "    \"homogeneous (abstract) full_emb linear_layer dropout 1_conv_layer 2_linear\",\n",
    "]\n",
    "\n",
    "first_rows = [\n",
    "    \"2 Conv Layers\",\n",
    "    \"1 Conv Layer\",\n",
    "    \"1 Conv 2 Linear Layers\",\n",
    "]\n",
    "\n",
    "print_latex_table(data, first_rows)"
   ],
   "id": "25d1c617b0733fa8",
   "outputs": [
    {
     "name": "stdout",
     "output_type": "stream",
     "text": [
      "\n",
      "Test Data\n",
      "\n",
      "\\textbf{2 Conv Layers} & 0.81 & 0.89 & 0.85 & 0.84 & 0.89 & 0.79 \\\\\n",
      "\\textbf{1 Conv Layer} & 0.81 & 0.91 & 0.86 & 0.85 & 0.91 & 0.78 \\\\\n",
      "\\textbf{1 Conv 2 Linear Layers} & 0.80 & 0.87 & 0.83 & 0.83 & 0.87 & 0.79 \\\\\n",
      "\n",
      "Eval Data\n",
      "\n",
      "\\textbf{2 Conv Layers} & 0.92 & 0.78 & 0.84 & 0.85 & 0.78 & 0.93 \\\\\n",
      "\\textbf{1 Conv Layer} & 0.95 & 0.80 & 0.87 & 0.88 & 0.80 & 0.96 \\\\\n",
      "\\textbf{1 Conv 2 Linear Layers} & 0.96 & 0.82 & 0.89 & 0.90 & 0.82 & 0.97 \\\\\n"
     ]
    }
   ],
   "execution_count": 19
  },
  {
   "metadata": {},
   "cell_type": "markdown",
   "source": "## Neighborhood size",
   "id": "9a8e83a9842edc96"
  },
  {
   "metadata": {
    "ExecuteTime": {
     "end_time": "2024-12-15T09:16:45.938504Z",
     "start_time": "2024-12-15T09:16:45.935766Z"
    }
   },
   "cell_type": "code",
   "source": [
    "data = [\n",
    "    \"homogeneous (abstract) full_emb linear_layer dropout neighborhood 1\",\n",
    "    \"homogeneous (abstract) full_emb linear_layer dropout baseline\",\n",
    "    \"homogeneous (abstract) full_emb linear_layer dropout neighbourhood 3\",\n",
    "]\n",
    "\n",
    "first_rows = [\n",
    "    \"1 Hop\",\n",
    "    \"2 Hops\",\n",
    "    \"3 Hops\",\n",
    "]\n",
    "\n",
    "print_latex_table(data, first_rows)"
   ],
   "id": "e9afc6a3141e6b34",
   "outputs": [
    {
     "name": "stdout",
     "output_type": "stream",
     "text": [
      "\n",
      "Test Data\n",
      "\n",
      "\\textbf{1 Hop} & 0.91 & 0.93 & 0.92 & 0.92 & 0.93 & 0.91 \\\\\n",
      "\\textbf{2 Hops} & 0.81 & 0.89 & 0.85 & 0.84 & 0.89 & 0.79 \\\\\n",
      "\\textbf{3 Hops} & 0.73 & 0.90 & 0.81 & 0.79 & 0.90 & 0.67 \\\\\n",
      "\n",
      "Eval Data\n",
      "\n",
      "\\textbf{1 Hop} & 0.92 & 0.85 & 0.88 & 0.89 & 0.85 & 0.92 \\\\\n",
      "\\textbf{2 Hops} & 0.92 & 0.78 & 0.84 & 0.85 & 0.78 & 0.93 \\\\\n",
      "\\textbf{3 Hops} & 0.93 & 0.63 & 0.75 & 0.79 & 0.63 & 0.96 \\\\\n"
     ]
    }
   ],
   "execution_count": 20
  }
 ],
 "metadata": {
  "kernelspec": {
   "display_name": "Python 3",
   "language": "python",
   "name": "python3"
  },
  "language_info": {
   "codemirror_mode": {
    "name": "ipython",
    "version": 2
   },
   "file_extension": ".py",
   "mimetype": "text/x-python",
   "name": "python",
   "nbconvert_exporter": "python",
   "pygments_lexer": "ipython2",
   "version": "2.7.6"
  }
 },
 "nbformat": 4,
 "nbformat_minor": 5
}
