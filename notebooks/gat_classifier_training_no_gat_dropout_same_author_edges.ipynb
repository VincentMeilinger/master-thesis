{
 "cells": [
  {
   "cell_type": "code",
   "id": "initial_id",
   "metadata": {
    "collapsed": true,
    "ExecuteTime": {
     "end_time": "2024-11-24T13:14:25.022922Z",
     "start_time": "2024-11-24T13:14:25.019800Z"
    }
   },
   "source": [
    "from notebooks.util_classifier import MultiHomogeneousGraphTripletDataset\n",
    "from training_classifier import *\n",
    "from util_classifier import *\n",
    "from gat_models import *\n",
    "\n",
    "import os\n",
    "import random\n",
    "import numpy as np\n",
    "from sklearn.metrics import accuracy_score\n",
    "from tqdm.notebook import tqdm\n",
    "from torch_geometric.loader import DataLoader\n",
    "from torch.optim import Adam\n",
    "from torch.nn.modules.loss import TripletMarginLoss\n",
    "import torch.nn as nn\n",
    "from src.shared.database_wrapper import DatabaseWrapper\n",
    "from src.shared.graph_schema import *\n",
    "from src.shared.graph_sampling import GraphSampling\n",
    "\n",
    "random.seed(40)\n",
    "np.random.seed(40)\n",
    "torch.manual_seed(40)\n",
    "torch.cuda.manual_seed_all(40)"
   ],
   "outputs": [],
   "execution_count": 17
  },
  {
   "metadata": {
    "ExecuteTime": {
     "end_time": "2024-11-24T13:14:25.068143Z",
     "start_time": "2024-11-24T13:14:25.065921Z"
    }
   },
   "cell_type": "code",
   "source": [
    "config = {\n",
    "    'experiment': 'GAT Classifier Training With same author edges and no gat dropout',\n",
    "    'max_hops': 2,\n",
    "    'model_node_feature': 'feature_vec',  # Node feature to use for GAT encoder\n",
    "    'hidden_channels': 32,\n",
    "    'out_channels': 16,\n",
    "    'num_heads': 8,\n",
    "    'classifier_in_channels': 4 * 16,\n",
    "    'classifier_hidden_channels': 128,\n",
    "    'classifier_out_channels': 16,\n",
    "    'classifier_dropout': 0.2,\n",
    "    'margin': 1.0,\n",
    "    'optimizer': 'Adam',\n",
    "    'learning_rate': 0.005,\n",
    "    'weight_decay': 5e-4,\n",
    "    'num_epochs': 10,\n",
    "    'batch_size': 32,\n",
    "}"
   ],
   "id": "a053e7ce282b9a50",
   "outputs": [],
   "execution_count": 18
  },
  {
   "metadata": {
    "ExecuteTime": {
     "end_time": "2024-11-24T13:14:25.127381Z",
     "start_time": "2024-11-24T13:14:25.111530Z"
    }
   },
   "cell_type": "code",
   "source": [
    "# Graph sampling configurations\n",
    "node_properties = [\n",
    "    'id',\n",
    "    'feature_vec',\n",
    "]\n",
    "\n",
    "node_spec = [\n",
    "    NodeType.PUBLICATION\n",
    "]\n",
    "\n",
    "edge_spec = [\n",
    "    EdgeType.SIM_ABSTRACT,\n",
    "    EdgeType.SIM_TITLE,\n",
    "    EdgeType.SIM_AUTHOR,\n",
    "    EdgeType.SAME_AUTHOR,\n",
    "]\n",
    "\n",
    "gat_list = {\n",
    "    EdgeType.SIM_TITLE: './data/results/homogeneous (title) full_emb linear_layer dropout/gat_encoder.pt',\n",
    "    EdgeType.SIM_ABSTRACT: './data/results/homogeneous (abstract) full_emb linear_layer dropout/gat_encoder.pt',\n",
    "    EdgeType.SIM_AUTHOR: './data/results/homogeneous (similar co-authors) full_emb linear_layer dropout/gat_encoder.pt',\n",
    "    EdgeType.SAME_AUTHOR: './data/results/homogeneous (same author) full_emb linear_layer dropout/gat_encoder.pt',\n",
    "}\n",
    "\n",
    "\n",
    "database = 'homogeneous-graph'\n",
    "gs = GraphSampling(\n",
    "    node_spec=node_spec,\n",
    "    edge_spec=edge_spec,\n",
    "    node_properties=node_properties,\n",
    "    database=database\n",
    ")\n",
    "\n",
    "# Model configurations\n",
    "# Load pre-trained GAT encoders\n",
    "gat_encoders = {}\n",
    "for edge_key, gat_path in gat_list.items():\n",
    "    gat_encoder = HomoGATEncoderLinearDropout(config['hidden_channels'], config['out_channels'], num_heads=config['num_heads'], dropout_p=0).to(device)\n",
    "    gat_encoder.load_state_dict(torch.load(gat_path))\n",
    "    gat_list[edge_key] = gat_encoder\n",
    "\n",
    "loss_fn = TripletMarginLoss(margin=config['margin'])\n",
    "device = torch.device('cuda' if torch.cuda.is_available() else 'cpu')\n",
    "\n",
    "# TODO: Adjust result folder name!\n",
    "result_folder_name = 'classifier full_emb (abstract, title, sim_author, same_author edges) no_gat_dropout'\n",
    "result_folder_path = f'./data/results/{result_folder_name}'\n",
    "if not os.path.exists(result_folder_path):\n",
    "    os.mkdir(result_folder_path)"
   ],
   "id": "8bf2f1d69c0ec445",
   "outputs": [
    {
     "name": "stdout",
     "output_type": "stream",
     "text": [
      "Using default edge type: SimilarAbstract for homogeneous graph sampling.\n"
     ]
    }
   ],
   "execution_count": 19
  },
  {
   "metadata": {},
   "cell_type": "markdown",
   "source": [
    "## Embedding Network\n",
    "**This network takes in the stacked GAT node embeddings and outputs a lower-dimensional embedding.**"
   ],
   "id": "300fa32358270cd9"
  },
  {
   "metadata": {
    "ExecuteTime": {
     "end_time": "2024-11-24T13:14:25.161033Z",
     "start_time": "2024-11-24T13:14:25.158795Z"
    }
   },
   "cell_type": "code",
   "source": [
    "class EmbeddingNet(nn.Module):\n",
    "    def __init__(self, input_size, hidden_size = 128, embedding_size = 16, dropout = 0.2):\n",
    "        super(EmbeddingNet, self).__init__()\n",
    "        self.fc = nn.Sequential(\n",
    "            nn.Dropout(dropout),\n",
    "            nn.Linear(input_size, hidden_size),\n",
    "            nn.ReLU(),\n",
    "            nn.Dropout(dropout),\n",
    "            nn.Linear(hidden_size, embedding_size)\n",
    "        )\n",
    "    \n",
    "    def forward(self, x):\n",
    "        output = self.fc(x)\n",
    "        return output"
   ],
   "id": "2f21df15b8250070",
   "outputs": [],
   "execution_count": 20
  },
  {
   "metadata": {},
   "cell_type": "markdown",
   "source": [
    "## Triplet Network\n",
    "**This network takes in three inputs: an anchor, a positive example, and a negative example. It outputs the embeddings of the three inputs. It is used to simplify triplet loss training**"
   ],
   "id": "e794b8217c921084"
  },
  {
   "metadata": {
    "ExecuteTime": {
     "end_time": "2024-11-24T13:14:25.206208Z",
     "start_time": "2024-11-24T13:14:25.202440Z"
    }
   },
   "cell_type": "code",
   "source": [
    "class TripletNet(nn.Module):\n",
    "    def __init__(self, embedding_net: EmbeddingNet, edge_spec: [EdgeType], gat_encoders: dict[EdgeType, nn.Module]):\n",
    "        super(TripletNet, self).__init__()\n",
    "        self.edge_spec = edge_spec\n",
    "        self.gat_encoders = gat_encoders\n",
    "        self.embedding_net = embedding_net\n",
    "        \n",
    "        for gat in self.gat_encoders.values():\n",
    "            gat.eval()\n",
    "            for param in gat.parameters():\n",
    "                param.requires_grad = False\n",
    "\n",
    "    def forward(self, data_dict: dict):\n",
    "        anchor = []\n",
    "        positive = []\n",
    "        negative = []\n",
    "        \n",
    "        for edge_type in self.edge_spec:\n",
    "            # Anchor node embedding for the edge type \n",
    "            anchor_graph = data_dict[edge_type][0]\n",
    "            anchor_gat_emb = self.gat_encoders[edge_type](anchor_graph)\n",
    "            anchor.append(anchor_gat_emb[anchor_graph.central_node_id])\n",
    "            \n",
    "            # Positive node embedding for the edge type\n",
    "            positive_graph = data_dict[edge_type][1]\n",
    "            positive_gat_emb = self.gat_encoders[edge_type](positive_graph)\n",
    "            positive.append(positive_gat_emb[positive_graph.central_node_id])\n",
    "            \n",
    "            # Negative node embedding for the edge type\n",
    "            negative_graph = data_dict[edge_type][2]\n",
    "            negative_gat_emb = self.gat_encoders[edge_type](negative_graph)\n",
    "            negative.append(negative_gat_emb[negative_graph.central_node_id])\n",
    "            \n",
    "        anchor = torch.cat(anchor, dim=1)\n",
    "        positive = torch.cat(positive, dim=1)\n",
    "        negative = torch.cat(negative, dim=1)\n",
    "        \n",
    "        output_anchor = self.embedding_net(anchor)\n",
    "        output_positive = self.embedding_net(positive)\n",
    "        output_negative = self.embedding_net(negative)\n",
    "        \n",
    "        return output_anchor, output_positive, output_negative\n",
    "\n",
    "    def get_embedding(self, x):\n",
    "        return self.embedding_net(x)"
   ],
   "id": "4c72f91a757a3500",
   "outputs": [],
   "execution_count": 21
  },
  {
   "metadata": {},
   "cell_type": "markdown",
   "source": [
    "## Pair Classifier\n",
    "**This network will be used for the actual classification task (the AND pipeline).**"
   ],
   "id": "988a62dfdb08331d"
  },
  {
   "metadata": {
    "ExecuteTime": {
     "end_time": "2024-11-24T13:14:25.250276Z",
     "start_time": "2024-11-24T13:14:25.248112Z"
    }
   },
   "cell_type": "code",
   "source": [
    "class PairClassifier(nn.Module):\n",
    "    def __init__(self, embedding_net):\n",
    "        super(PairClassifier, self).__init__()\n",
    "        self.embedding_net = embedding_net\n",
    "\n",
    "    def forward(self, embedding_1, embedding_2):\n",
    "        out_1 = self.embedding_net(embedding_1)\n",
    "        out_2 = self.embedding_net(embedding_2)\n",
    "        \n",
    "        # Compute probability of the pair being similar by computing pairwise distance\n",
    "        distance = F.pairwise_distance(out_1, out_2)\n",
    "        similarity_prediction = torch.sigmoid(-distance)\n",
    "        \n",
    "        return similarity_prediction\n",
    "\n",
    "    def get_embedding(self, x):\n",
    "        return self.embedding_net(x)"
   ],
   "id": "c7d713968074844a",
   "outputs": [],
   "execution_count": 22
  },
  {
   "metadata": {},
   "cell_type": "markdown",
   "source": "## Training",
   "id": "4dfe22b3fa0ce6f8"
  },
  {
   "metadata": {
    "ExecuteTime": {
     "end_time": "2024-11-24T13:14:25.555432Z",
     "start_time": "2024-11-24T13:14:25.293538Z"
    }
   },
   "cell_type": "code",
   "source": [
    "db = DatabaseWrapper(database=database)\n",
    "data_harvester = ClassifierTripletDataHarvester(db=db, gs=gs, edge_spec=edge_spec, config=config, valid_triplets_save_file='valid_triplets_classifier', transformer_model='sentence-transformers/all-MiniLM-L6-v2')\n",
    "\n",
    "\n",
    "# Split the pairs into train and test\n",
    "train_size = int(0.85 * len(data_harvester.triplets))\n",
    "test_size = int(0.1 * len(data_harvester.triplets))\n",
    "eval_size = len(data_harvester.triplets) - train_size - test_size\n",
    "\n",
    "# Harvest the evaluation triplets first, since triplets are ordered by author. This will ensure that the evaluation set has authors not seen in the training set.\n",
    "eval_triplets = data_harvester.triplets[:eval_size]\n",
    "\n",
    "train_test_triplets = data_harvester.triplets[eval_size:]\n",
    "random.shuffle(train_test_triplets)\n",
    "\n",
    "train_triplets = train_test_triplets[:train_size]\n",
    "test_triplets = train_test_triplets[train_size:]\n",
    "config['train_size'] = len(train_triplets)\n",
    "config['test_size'] = len(test_triplets)\n",
    "config['eval_size'] = len(eval_triplets)\n",
    "\n",
    "print(f\"Train size: {len(train_triplets)}, Test size: {len(test_triplets)}, Eval size: {len(eval_triplets)}\")\n",
    "\n",
    "# Create the datasets from the pairs (distinct pairs for training and testing)\n",
    "train_dataset = MultiHomogeneousGraphTripletDataset(train_triplets, gs, edge_spec=edge_spec, config=config)\n",
    "test_dataset = MultiHomogeneousGraphTripletDataset(test_triplets, gs, edge_spec=edge_spec, config=config)\n",
    "eval_dataset = MultiHomogeneousGraphTripletDataset(eval_triplets, gs, edge_spec=edge_spec, config=config)\n",
    "\n",
    "# Create the DataLoader\n",
    "train_dataloader = DataLoader(train_dataset, batch_size=config['batch_size'], shuffle=True, collate_fn=custom_triplet_collate)\n",
    "test_dataloader = DataLoader(test_dataset, batch_size=config['batch_size'], shuffle=False, collate_fn=custom_triplet_collate)\n",
    "eval_dataloader = DataLoader(eval_dataset, batch_size=config['batch_size'], shuffle=False, collate_fn=custom_triplet_collate)\n",
    "\n",
    "# Create models\n",
    "metadata = (\n",
    "    [n.value for n in node_spec],\n",
    "    [edge_pyg_key_vals[r] for r in edge_spec]\n",
    ")\n",
    "config['node_spec'] = metadata[0]\n",
    "config['edge_spec'] = metadata[1]\n",
    "\n",
    "# Embedding model\n",
    "embedding_net = EmbeddingNet(\n",
    "    input_size=config['classifier_in_channels'], \n",
    "    hidden_size=config['classifier_hidden_channels'],\n",
    "    embedding_size=config['classifier_out_channels'],\n",
    "    dropout=config['classifier_dropout']\n",
    ").to(device)\n",
    "\n",
    "# Triplet training classifier model\n",
    "triplet_net = TripletNet(\n",
    "    embedding_net=embedding_net,\n",
    "    edge_spec=edge_spec,\n",
    "    gat_encoders=gat_list\n",
    ").to(device)\n",
    "\n",
    "# Optimizer\n",
    "optimizer = torch.optim.Adam(triplet_net.embedding_net.parameters(), lr=config['learning_rate'], weight_decay=config['weight_decay'])"
   ],
   "id": "5b32cfaf13d243bd",
   "outputs": [
    {
     "name": "stderr",
     "output_type": "stream",
     "text": [
      "2024-11-24 14:14:25,298 - DatabaseWrapper - INFO - Connecting to the database ...\n",
      "2024-11-24 14:14:25,299 - DatabaseWrapper - INFO - Database ready.\n"
     ]
    },
    {
     "name": "stdout",
     "output_type": "stream",
     "text": [
      "Preparing triplets...\n",
      "Loading triplets...\n",
      "Loaded 14923 triplets.\n",
      "Train size: 12684, Test size: 1492, Eval size: 747\n"
     ]
    }
   ],
   "execution_count": 23
  },
  {
   "metadata": {
    "ExecuteTime": {
     "end_time": "2024-11-24T16:11:25.381101Z",
     "start_time": "2024-11-24T13:14:25.574173Z"
    }
   },
   "cell_type": "code",
   "source": [
    "num_epochs = config['num_epochs']\n",
    "train_losses = []\n",
    "\n",
    "test_losses = []\n",
    "test_accuracies = []\n",
    "test_correct_pos = []\n",
    "test_correct_neg = []\n",
    "\n",
    "eval_losses = []\n",
    "eval_accuracies = []\n",
    "eval_correct_pos = []\n",
    "eval_correct_neg = []\n",
    "\n",
    "current_batch = 1\n",
    "\n",
    "for epoch in range(1, num_epochs + 1):\n",
    "    print(f\"=== Epoch {epoch}/{num_epochs} ======================\")\n",
    "    epoch_marker_pos = list(range(0, len(train_dataloader) * epoch, len(train_dataloader)))\n",
    "    current_batch = 1\n",
    "    for data_dict in tqdm(train_dataloader, desc=f\"Epoch {epoch}/{num_epochs}\"):\n",
    "        if current_batch == 1 or current_batch == len(train_dataloader) // 2:\n",
    "            print(f\"___ Current Batch {current_batch}/{len(train_dataloader)} _________________________\")\n",
    "            # Model testing\n",
    "            print(\"    Test Results:\")\n",
    "            test_loss, test_num_correct, test_correct_pos_val, test_correct_neg_val = test(\n",
    "                triplet_classifier_model=triplet_net,\n",
    "                loss_fn=loss_fn,\n",
    "                dataloader=test_dataloader,\n",
    "                margin=config['margin']\n",
    "            )\n",
    "            test_losses.append(test_loss)\n",
    "            test_accuracies.append(test_num_correct)\n",
    "            test_correct_pos.append(test_correct_pos_val)\n",
    "            test_correct_neg.append(test_correct_neg_val)\n",
    "    \n",
    "            plot_loss(test_losses, epoch_len=2, plot_title='Test Loss', plot_avg=False, plot_file=result_folder_path + '/test_loss.png')\n",
    "            plot_loss(\n",
    "                test_accuracies,\n",
    "                epoch_len=2,\n",
    "                plot_title='Test Accuracy',\n",
    "                plot_avg=False, \n",
    "                x_label='Test Iterations',\n",
    "                y_label='Accuracy',\n",
    "                line_label='Accuracy',\n",
    "                plot_file=result_folder_path + '/test_accuracy.png'\n",
    "            )\n",
    "            \n",
    "            # Model evaluation\n",
    "            print(\"    Eval Results:\")\n",
    "            eval_loss, eval_num_correct, eval_correct_pos_val, eval_correct_neg_val = evaluate(\n",
    "                triplet_classifier_model=triplet_net,\n",
    "                loss_fn=loss_fn,\n",
    "                dataloader=eval_dataloader,\n",
    "                margin=config['margin']\n",
    "            )\n",
    "            eval_losses.append(eval_loss)\n",
    "            eval_accuracies.append(eval_num_correct)\n",
    "            eval_correct_pos.append(eval_correct_pos_val)\n",
    "            eval_correct_neg.append(eval_correct_neg_val)\n",
    "            \n",
    "            plot_loss(eval_losses, epoch_len=2, plot_title='Evaluation Loss', plot_avg=False, plot_file=result_folder_path + '/eval_loss.png')\n",
    "            plot_loss(\n",
    "                eval_accuracies, \n",
    "                epoch_len=2, \n",
    "                plot_title='Evaluation Accuracy', \n",
    "                plot_avg=False, \n",
    "                x_label='Eval Iterations',\n",
    "                y_label='Accuracy',\n",
    "                line_label='Accuracy',\n",
    "                plot_file=result_folder_path + '/eval_accuracy.png'\n",
    "            )\n",
    "        \n",
    "        loss = train(\n",
    "            triplet_classifier_model=triplet_net,\n",
    "            loss_fn=loss_fn,\n",
    "            data_dict=data_dict,\n",
    "            optimizer=optimizer\n",
    "        )\n",
    "        train_losses.append(loss)\n",
    "        \n",
    "        plot_loss(train_losses, epoch_len=len(train_dataloader), plot_title='Training Loss', plot_avg=True, plot_file=result_folder_path + '/train_loss.png')\n",
    "        current_batch += 1\n",
    "        \n",
    "    # Save config and training results\n",
    "    eval_results = {\n",
    "        'eval_losses': eval_losses,\n",
    "        'eval_accuracies': eval_accuracies,\n",
    "        'eval_correct_pos': eval_correct_pos,\n",
    "        'eval_correct_neg': eval_correct_neg\n",
    "    }\n",
    "    save_training_results(train_losses, test_losses, eval_results, config, result_folder_path + '/training_data.json')\n",
    "    \n",
    "    # Save model if loss has decreased\n",
    "    if len(test_losses) > 1 and test_losses[-1] < min(test_losses[:-1]):\n",
    "        print(f\"Saving model at epoch {epoch}...\")\n",
    "        torch.save(triplet_net.embedding_net.state_dict(), result_folder_path + '/embedding_net.pt')\n"
   ],
   "id": "9f2ad94dcf4a330a",
   "outputs": [
    {
     "name": "stdout",
     "output_type": "stream",
     "text": [
      "=== Epoch 1/10 ======================\n"
     ]
    },
    {
     "data": {
      "text/plain": [
       "Epoch 1/10:   0%|          | 0/397 [00:00<?, ?it/s]"
      ],
      "application/vnd.jupyter.widget-view+json": {
       "version_major": 2,
       "version_minor": 0,
       "model_id": "69a5bbc0059744fd98c96344b8afa843"
      }
     },
     "metadata": {},
     "output_type": "display_data"
    },
    {
     "name": "stdout",
     "output_type": "stream",
     "text": [
      "___ Current Batch 1/397 _________________________\n",
      "    Test Results:\n",
      "        Correct positive: 1492 (100.00%), Correct negative: 75 (5.03%)\n",
      "        Total correct: 1567 (52.51%)\n",
      "        Test Loss: 0.7169, Test Accuracy: 0.5251\n",
      "    Eval Results:\n",
      "        Correct positive: 747 (100.00%), Correct negative: 0 (0.00%)\n",
      "        Total correct: 747 (50.00%)\n",
      "        Eval Loss: 0.9749, Eval Accuracy: 0.5000\n",
      "___ Current Batch 198/397 _________________________\n",
      "    Test Results:\n",
      "        Correct positive: 913 (61.19%), Correct negative: 1405 (94.17%)\n",
      "        Total correct: 2318 (77.68%)\n",
      "        Test Loss: 0.1895, Test Accuracy: 0.7768\n",
      "    Eval Results:\n",
      "        Correct positive: 330 (44.18%), Correct negative: 586 (78.45%)\n",
      "        Total correct: 916 (61.31%)\n",
      "        Eval Loss: 0.9042, Eval Accuracy: 0.6131\n",
      "Saving model at epoch 1...\n",
      "=== Epoch 2/10 ======================\n"
     ]
    },
    {
     "data": {
      "text/plain": [
       "Epoch 2/10:   0%|          | 0/397 [00:00<?, ?it/s]"
      ],
      "application/vnd.jupyter.widget-view+json": {
       "version_major": 2,
       "version_minor": 0,
       "model_id": "44d52cd55f934903a39e425b89c52f27"
      }
     },
     "metadata": {},
     "output_type": "display_data"
    },
    {
     "name": "stdout",
     "output_type": "stream",
     "text": [
      "___ Current Batch 1/397 _________________________\n",
      "    Test Results:\n",
      "        Correct positive: 819 (54.89%), Correct negative: 1408 (94.37%)\n",
      "        Total correct: 2227 (74.63%)\n",
      "        Test Loss: 0.1814, Test Accuracy: 0.7463\n",
      "    Eval Results:\n",
      "        Correct positive: 320 (42.84%), Correct negative: 606 (81.12%)\n",
      "        Total correct: 926 (61.98%)\n",
      "        Eval Loss: 0.9948, Eval Accuracy: 0.6198\n",
      "___ Current Batch 198/397 _________________________\n",
      "    Test Results:\n",
      "        Correct positive: 980 (65.68%), Correct negative: 1395 (93.50%)\n",
      "        Total correct: 2375 (79.59%)\n",
      "        Test Loss: 0.1659, Test Accuracy: 0.7959\n",
      "    Eval Results:\n",
      "        Correct positive: 391 (52.34%), Correct negative: 304 (40.70%)\n",
      "        Total correct: 695 (46.52%)\n",
      "        Eval Loss: 1.2191, Eval Accuracy: 0.4652\n"
     ]
    },
    {
     "ename": "KeyboardInterrupt",
     "evalue": "",
     "output_type": "error",
     "traceback": [
      "\u001B[0;31m---------------------------------------------------------------------------\u001B[0m",
      "\u001B[0;31mKeyboardInterrupt\u001B[0m                         Traceback (most recent call last)",
      "Cell \u001B[0;32mIn[24], line 20\u001B[0m\n\u001B[1;32m     18\u001B[0m epoch_marker_pos \u001B[38;5;241m=\u001B[39m \u001B[38;5;28mlist\u001B[39m(\u001B[38;5;28mrange\u001B[39m(\u001B[38;5;241m0\u001B[39m, \u001B[38;5;28mlen\u001B[39m(train_dataloader) \u001B[38;5;241m*\u001B[39m epoch, \u001B[38;5;28mlen\u001B[39m(train_dataloader)))\n\u001B[1;32m     19\u001B[0m current_batch \u001B[38;5;241m=\u001B[39m \u001B[38;5;241m1\u001B[39m\n\u001B[0;32m---> 20\u001B[0m \u001B[38;5;28;01mfor\u001B[39;00m data_dict \u001B[38;5;129;01min\u001B[39;00m tqdm(train_dataloader, desc\u001B[38;5;241m=\u001B[39m\u001B[38;5;124mf\u001B[39m\u001B[38;5;124m\"\u001B[39m\u001B[38;5;124mEpoch \u001B[39m\u001B[38;5;132;01m{\u001B[39;00mepoch\u001B[38;5;132;01m}\u001B[39;00m\u001B[38;5;124m/\u001B[39m\u001B[38;5;132;01m{\u001B[39;00mnum_epochs\u001B[38;5;132;01m}\u001B[39;00m\u001B[38;5;124m\"\u001B[39m):\n\u001B[1;32m     21\u001B[0m     \u001B[38;5;28;01mif\u001B[39;00m current_batch \u001B[38;5;241m==\u001B[39m \u001B[38;5;241m1\u001B[39m \u001B[38;5;129;01mor\u001B[39;00m current_batch \u001B[38;5;241m==\u001B[39m \u001B[38;5;28mlen\u001B[39m(train_dataloader) \u001B[38;5;241m/\u001B[39m\u001B[38;5;241m/\u001B[39m \u001B[38;5;241m2\u001B[39m:\n\u001B[1;32m     22\u001B[0m         \u001B[38;5;28mprint\u001B[39m(\u001B[38;5;124mf\u001B[39m\u001B[38;5;124m\"\u001B[39m\u001B[38;5;124m___ Current Batch \u001B[39m\u001B[38;5;132;01m{\u001B[39;00mcurrent_batch\u001B[38;5;132;01m}\u001B[39;00m\u001B[38;5;124m/\u001B[39m\u001B[38;5;132;01m{\u001B[39;00m\u001B[38;5;28mlen\u001B[39m(train_dataloader)\u001B[38;5;132;01m}\u001B[39;00m\u001B[38;5;124m _________________________\u001B[39m\u001B[38;5;124m\"\u001B[39m)\n",
      "File \u001B[0;32m~/.anaconda3/envs/master/lib/python3.9/site-packages/tqdm/notebook.py:250\u001B[0m, in \u001B[0;36mtqdm_notebook.__iter__\u001B[0;34m(self)\u001B[0m\n\u001B[1;32m    248\u001B[0m \u001B[38;5;28;01mtry\u001B[39;00m:\n\u001B[1;32m    249\u001B[0m     it \u001B[38;5;241m=\u001B[39m \u001B[38;5;28msuper\u001B[39m()\u001B[38;5;241m.\u001B[39m\u001B[38;5;21m__iter__\u001B[39m()\n\u001B[0;32m--> 250\u001B[0m     \u001B[38;5;28;01mfor\u001B[39;00m obj \u001B[38;5;129;01min\u001B[39;00m it:\n\u001B[1;32m    251\u001B[0m         \u001B[38;5;66;03m# return super(tqdm...) will not catch exception\u001B[39;00m\n\u001B[1;32m    252\u001B[0m         \u001B[38;5;28;01myield\u001B[39;00m obj\n\u001B[1;32m    253\u001B[0m \u001B[38;5;66;03m# NB: except ... [ as ...] breaks IPython async KeyboardInterrupt\u001B[39;00m\n",
      "File \u001B[0;32m~/.anaconda3/envs/master/lib/python3.9/site-packages/tqdm/std.py:1181\u001B[0m, in \u001B[0;36mtqdm.__iter__\u001B[0;34m(self)\u001B[0m\n\u001B[1;32m   1178\u001B[0m time \u001B[38;5;241m=\u001B[39m \u001B[38;5;28mself\u001B[39m\u001B[38;5;241m.\u001B[39m_time\n\u001B[1;32m   1180\u001B[0m \u001B[38;5;28;01mtry\u001B[39;00m:\n\u001B[0;32m-> 1181\u001B[0m     \u001B[38;5;28;01mfor\u001B[39;00m obj \u001B[38;5;129;01min\u001B[39;00m iterable:\n\u001B[1;32m   1182\u001B[0m         \u001B[38;5;28;01myield\u001B[39;00m obj\n\u001B[1;32m   1183\u001B[0m         \u001B[38;5;66;03m# Update and possibly print the progressbar.\u001B[39;00m\n\u001B[1;32m   1184\u001B[0m         \u001B[38;5;66;03m# Note: does not call self.update(1) for speed optimisation.\u001B[39;00m\n",
      "File \u001B[0;32m~/.anaconda3/envs/master/lib/python3.9/site-packages/torch/utils/data/dataloader.py:631\u001B[0m, in \u001B[0;36m_BaseDataLoaderIter.__next__\u001B[0;34m(self)\u001B[0m\n\u001B[1;32m    628\u001B[0m \u001B[38;5;28;01mif\u001B[39;00m \u001B[38;5;28mself\u001B[39m\u001B[38;5;241m.\u001B[39m_sampler_iter \u001B[38;5;129;01mis\u001B[39;00m \u001B[38;5;28;01mNone\u001B[39;00m:\n\u001B[1;32m    629\u001B[0m     \u001B[38;5;66;03m# TODO(https://github.com/pytorch/pytorch/issues/76750)\u001B[39;00m\n\u001B[1;32m    630\u001B[0m     \u001B[38;5;28mself\u001B[39m\u001B[38;5;241m.\u001B[39m_reset()  \u001B[38;5;66;03m# type: ignore[call-arg]\u001B[39;00m\n\u001B[0;32m--> 631\u001B[0m data \u001B[38;5;241m=\u001B[39m \u001B[38;5;28;43mself\u001B[39;49m\u001B[38;5;241;43m.\u001B[39;49m\u001B[43m_next_data\u001B[49m\u001B[43m(\u001B[49m\u001B[43m)\u001B[49m\n\u001B[1;32m    632\u001B[0m \u001B[38;5;28mself\u001B[39m\u001B[38;5;241m.\u001B[39m_num_yielded \u001B[38;5;241m+\u001B[39m\u001B[38;5;241m=\u001B[39m \u001B[38;5;241m1\u001B[39m\n\u001B[1;32m    633\u001B[0m \u001B[38;5;28;01mif\u001B[39;00m \u001B[38;5;28mself\u001B[39m\u001B[38;5;241m.\u001B[39m_dataset_kind \u001B[38;5;241m==\u001B[39m _DatasetKind\u001B[38;5;241m.\u001B[39mIterable \u001B[38;5;129;01mand\u001B[39;00m \\\n\u001B[1;32m    634\u001B[0m         \u001B[38;5;28mself\u001B[39m\u001B[38;5;241m.\u001B[39m_IterableDataset_len_called \u001B[38;5;129;01mis\u001B[39;00m \u001B[38;5;129;01mnot\u001B[39;00m \u001B[38;5;28;01mNone\u001B[39;00m \u001B[38;5;129;01mand\u001B[39;00m \\\n\u001B[1;32m    635\u001B[0m         \u001B[38;5;28mself\u001B[39m\u001B[38;5;241m.\u001B[39m_num_yielded \u001B[38;5;241m>\u001B[39m \u001B[38;5;28mself\u001B[39m\u001B[38;5;241m.\u001B[39m_IterableDataset_len_called:\n",
      "File \u001B[0;32m~/.anaconda3/envs/master/lib/python3.9/site-packages/torch/utils/data/dataloader.py:675\u001B[0m, in \u001B[0;36m_SingleProcessDataLoaderIter._next_data\u001B[0;34m(self)\u001B[0m\n\u001B[1;32m    673\u001B[0m \u001B[38;5;28;01mdef\u001B[39;00m \u001B[38;5;21m_next_data\u001B[39m(\u001B[38;5;28mself\u001B[39m):\n\u001B[1;32m    674\u001B[0m     index \u001B[38;5;241m=\u001B[39m \u001B[38;5;28mself\u001B[39m\u001B[38;5;241m.\u001B[39m_next_index()  \u001B[38;5;66;03m# may raise StopIteration\u001B[39;00m\n\u001B[0;32m--> 675\u001B[0m     data \u001B[38;5;241m=\u001B[39m \u001B[38;5;28;43mself\u001B[39;49m\u001B[38;5;241;43m.\u001B[39;49m\u001B[43m_dataset_fetcher\u001B[49m\u001B[38;5;241;43m.\u001B[39;49m\u001B[43mfetch\u001B[49m\u001B[43m(\u001B[49m\u001B[43mindex\u001B[49m\u001B[43m)\u001B[49m  \u001B[38;5;66;03m# may raise StopIteration\u001B[39;00m\n\u001B[1;32m    676\u001B[0m     \u001B[38;5;28;01mif\u001B[39;00m \u001B[38;5;28mself\u001B[39m\u001B[38;5;241m.\u001B[39m_pin_memory:\n\u001B[1;32m    677\u001B[0m         data \u001B[38;5;241m=\u001B[39m _utils\u001B[38;5;241m.\u001B[39mpin_memory\u001B[38;5;241m.\u001B[39mpin_memory(data, \u001B[38;5;28mself\u001B[39m\u001B[38;5;241m.\u001B[39m_pin_memory_device)\n",
      "File \u001B[0;32m~/.anaconda3/envs/master/lib/python3.9/site-packages/torch/utils/data/_utils/fetch.py:51\u001B[0m, in \u001B[0;36m_MapDatasetFetcher.fetch\u001B[0;34m(self, possibly_batched_index)\u001B[0m\n\u001B[1;32m     49\u001B[0m         data \u001B[38;5;241m=\u001B[39m \u001B[38;5;28mself\u001B[39m\u001B[38;5;241m.\u001B[39mdataset\u001B[38;5;241m.\u001B[39m__getitems__(possibly_batched_index)\n\u001B[1;32m     50\u001B[0m     \u001B[38;5;28;01melse\u001B[39;00m:\n\u001B[0;32m---> 51\u001B[0m         data \u001B[38;5;241m=\u001B[39m [\u001B[38;5;28mself\u001B[39m\u001B[38;5;241m.\u001B[39mdataset[idx] \u001B[38;5;28;01mfor\u001B[39;00m idx \u001B[38;5;129;01min\u001B[39;00m possibly_batched_index]\n\u001B[1;32m     52\u001B[0m \u001B[38;5;28;01melse\u001B[39;00m:\n\u001B[1;32m     53\u001B[0m     data \u001B[38;5;241m=\u001B[39m \u001B[38;5;28mself\u001B[39m\u001B[38;5;241m.\u001B[39mdataset[possibly_batched_index]\n",
      "File \u001B[0;32m~/.anaconda3/envs/master/lib/python3.9/site-packages/torch/utils/data/_utils/fetch.py:51\u001B[0m, in \u001B[0;36m<listcomp>\u001B[0;34m(.0)\u001B[0m\n\u001B[1;32m     49\u001B[0m         data \u001B[38;5;241m=\u001B[39m \u001B[38;5;28mself\u001B[39m\u001B[38;5;241m.\u001B[39mdataset\u001B[38;5;241m.\u001B[39m__getitems__(possibly_batched_index)\n\u001B[1;32m     50\u001B[0m     \u001B[38;5;28;01melse\u001B[39;00m:\n\u001B[0;32m---> 51\u001B[0m         data \u001B[38;5;241m=\u001B[39m [\u001B[38;5;28;43mself\u001B[39;49m\u001B[38;5;241;43m.\u001B[39;49m\u001B[43mdataset\u001B[49m\u001B[43m[\u001B[49m\u001B[43midx\u001B[49m\u001B[43m]\u001B[49m \u001B[38;5;28;01mfor\u001B[39;00m idx \u001B[38;5;129;01min\u001B[39;00m possibly_batched_index]\n\u001B[1;32m     52\u001B[0m \u001B[38;5;28;01melse\u001B[39;00m:\n\u001B[1;32m     53\u001B[0m     data \u001B[38;5;241m=\u001B[39m \u001B[38;5;28mself\u001B[39m\u001B[38;5;241m.\u001B[39mdataset[possibly_batched_index]\n",
      "File \u001B[0;32m~/Git/master-thesis/notebooks/util_classifier.py:219\u001B[0m, in \u001B[0;36mMultiHomogeneousGraphTripletDataset.__getitem__\u001B[0;34m(self, idx)\u001B[0m\n\u001B[1;32m    216\u001B[0m \u001B[38;5;66;03m# Iterate over edge types\u001B[39;00m\n\u001B[1;32m    217\u001B[0m \u001B[38;5;28;01mfor\u001B[39;00m edge_type \u001B[38;5;129;01min\u001B[39;00m \u001B[38;5;28mself\u001B[39m\u001B[38;5;241m.\u001B[39medge_spec:\n\u001B[1;32m    218\u001B[0m     \u001B[38;5;66;03m# Get n-hop neighbourhood for each paper\u001B[39;00m\n\u001B[0;32m--> 219\u001B[0m     g_a \u001B[38;5;241m=\u001B[39m \u001B[38;5;28;43mself\u001B[39;49m\u001B[38;5;241;43m.\u001B[39;49m\u001B[43mgs\u001B[49m\u001B[38;5;241;43m.\u001B[39;49m\u001B[43mexpand_config_homogeneous\u001B[49m\u001B[43m(\u001B[49m\u001B[43mNodeType\u001B[49m\u001B[38;5;241;43m.\u001B[39;49m\u001B[43mPUBLICATION\u001B[49m\u001B[43m,\u001B[49m\u001B[43m \u001B[49m\u001B[43manchor\u001B[49m\u001B[43m,\u001B[49m\u001B[43m \u001B[49m\u001B[43medge_type\u001B[49m\u001B[38;5;241;43m=\u001B[39;49m\u001B[43medge_type\u001B[49m\u001B[43m,\u001B[49m\u001B[43m \u001B[49m\u001B[43mmax_level\u001B[49m\u001B[38;5;241;43m=\u001B[39;49m\u001B[38;5;28;43mself\u001B[39;49m\u001B[38;5;241;43m.\u001B[39;49m\u001B[43mconfig\u001B[49m\u001B[43m[\u001B[49m\u001B[38;5;124;43m'\u001B[39;49m\u001B[38;5;124;43mmax_hops\u001B[39;49m\u001B[38;5;124;43m'\u001B[39;49m\u001B[43m]\u001B[49m\u001B[43m)\u001B[49m\n\u001B[1;32m    220\u001B[0m     g_p \u001B[38;5;241m=\u001B[39m \u001B[38;5;28mself\u001B[39m\u001B[38;5;241m.\u001B[39mgs\u001B[38;5;241m.\u001B[39mexpand_config_homogeneous(NodeType\u001B[38;5;241m.\u001B[39mPUBLICATION, pos, edge_type\u001B[38;5;241m=\u001B[39medge_type, max_level\u001B[38;5;241m=\u001B[39m\u001B[38;5;28mself\u001B[39m\u001B[38;5;241m.\u001B[39mconfig[\u001B[38;5;124m'\u001B[39m\u001B[38;5;124mmax_hops\u001B[39m\u001B[38;5;124m'\u001B[39m])\n\u001B[1;32m    221\u001B[0m     g_n \u001B[38;5;241m=\u001B[39m \u001B[38;5;28mself\u001B[39m\u001B[38;5;241m.\u001B[39mgs\u001B[38;5;241m.\u001B[39mexpand_config_homogeneous(NodeType\u001B[38;5;241m.\u001B[39mPUBLICATION, neg, edge_type\u001B[38;5;241m=\u001B[39medge_type, max_level\u001B[38;5;241m=\u001B[39m\u001B[38;5;28mself\u001B[39m\u001B[38;5;241m.\u001B[39mconfig[\u001B[38;5;124m'\u001B[39m\u001B[38;5;124mmax_hops\u001B[39m\u001B[38;5;124m'\u001B[39m])\n",
      "File \u001B[0;32m~/Git/master-thesis/src/shared/graph_sampling.py:109\u001B[0m, in \u001B[0;36mexpand_config_homogeneous\u001B[0;34m(self, start_node_type, start_node_id, edge_type, max_level)\u001B[0m\n\u001B[1;32m    105\u001B[0m         data \u001B[38;5;241m=\u001B[39m result\u001B[38;5;241m.\u001B[39msingle()\n\u001B[1;32m    106\u001B[0m         \u001B[38;5;28;01mreturn\u001B[39;00m data\n\u001B[1;32m    108\u001B[0m \u001B[38;5;28;01mdef\u001B[39;00m \u001B[38;5;21mexpand_config_heterogeneous\u001B[39m(\n\u001B[0;32m--> 109\u001B[0m         \u001B[38;5;28mself\u001B[39m,\n\u001B[1;32m    110\u001B[0m         start_node_type: NodeType,\n\u001B[1;32m    111\u001B[0m         start_node_id: \u001B[38;5;28mstr\u001B[39m,\n\u001B[1;32m    112\u001B[0m         edge_types: [EdgeType] \u001B[38;5;241m=\u001B[39m \u001B[38;5;28;01mNone\u001B[39;00m,\n\u001B[1;32m    113\u001B[0m         max_level: \u001B[38;5;28mint\u001B[39m \u001B[38;5;241m=\u001B[39m \u001B[38;5;241m3\u001B[39m\n\u001B[1;32m    114\u001B[0m ):\n\u001B[1;32m    115\u001B[0m     edge_filter \u001B[38;5;241m=\u001B[39m \u001B[38;5;124m'\u001B[39m\u001B[38;5;124m|\u001B[39m\u001B[38;5;124m'\u001B[39m\u001B[38;5;241m.\u001B[39mjoin(\n\u001B[1;32m    116\u001B[0m         [\u001B[38;5;124mf\u001B[39m\u001B[38;5;124m\"\u001B[39m\u001B[38;5;124m<\u001B[39m\u001B[38;5;132;01m{\u001B[39;00met\u001B[38;5;241m.\u001B[39mvalue\u001B[38;5;132;01m}\u001B[39;00m\u001B[38;5;124m\"\u001B[39m \u001B[38;5;28;01mfor\u001B[39;00m et \u001B[38;5;129;01min\u001B[39;00m \u001B[38;5;28mself\u001B[39m\u001B[38;5;241m.\u001B[39medge_spec] \u001B[38;5;28;01mif\u001B[39;00m edge_types \u001B[38;5;129;01mis\u001B[39;00m \u001B[38;5;28;01mNone\u001B[39;00m \u001B[38;5;28;01melse\u001B[39;00m\n\u001B[1;32m    117\u001B[0m         [\u001B[38;5;124mf\u001B[39m\u001B[38;5;124m\"\u001B[39m\u001B[38;5;124m<\u001B[39m\u001B[38;5;132;01m{\u001B[39;00met\u001B[38;5;241m.\u001B[39mvalue\u001B[38;5;132;01m}\u001B[39;00m\u001B[38;5;124m\"\u001B[39m \u001B[38;5;28;01mfor\u001B[39;00m et \u001B[38;5;129;01min\u001B[39;00m edge_types]\n\u001B[1;32m    118\u001B[0m     )\n\u001B[1;32m    120\u001B[0m     \u001B[38;5;28;01mwith\u001B[39;00m \u001B[38;5;28mself\u001B[39m\u001B[38;5;241m.\u001B[39mdriver\u001B[38;5;241m.\u001B[39msession() \u001B[38;5;28;01mas\u001B[39;00m session:\n",
      "File \u001B[0;32m~/.anaconda3/envs/master/lib/python3.9/site-packages/neo4j/_sync/work/result.py:485\u001B[0m, in \u001B[0;36mResult.single\u001B[0;34m(self, strict)\u001B[0m\n\u001B[1;32m    449\u001B[0m \u001B[38;5;129m@NonConcurrentMethodChecker\u001B[39m\u001B[38;5;241m.\u001B[39mnon_concurrent_method\n\u001B[1;32m    450\u001B[0m \u001B[38;5;28;01mdef\u001B[39;00m \u001B[38;5;21msingle\u001B[39m(\u001B[38;5;28mself\u001B[39m, strict: \u001B[38;5;28mbool\u001B[39m \u001B[38;5;241m=\u001B[39m \u001B[38;5;28;01mFalse\u001B[39;00m) \u001B[38;5;241m-\u001B[39m\u001B[38;5;241m>\u001B[39m t\u001B[38;5;241m.\u001B[39mOptional[Record]:\n\u001B[1;32m    451\u001B[0m \u001B[38;5;250m    \u001B[39m\u001B[38;5;124;03m\"\"\"Obtain the next and only remaining record or None.\u001B[39;00m\n\u001B[1;32m    452\u001B[0m \n\u001B[1;32m    453\u001B[0m \u001B[38;5;124;03m    Calling this method always exhausts the result.\u001B[39;00m\n\u001B[0;32m   (...)\u001B[0m\n\u001B[1;32m    483\u001B[0m \u001B[38;5;124;03m        * Can raise :exc:`.ResultConsumedError`.\u001B[39;00m\n\u001B[1;32m    484\u001B[0m \u001B[38;5;124;03m    \"\"\"\u001B[39;00m\n\u001B[0;32m--> 485\u001B[0m     \u001B[38;5;28;43mself\u001B[39;49m\u001B[38;5;241;43m.\u001B[39;49m\u001B[43m_buffer\u001B[49m\u001B[43m(\u001B[49m\u001B[38;5;241;43m2\u001B[39;49m\u001B[43m)\u001B[49m\n\u001B[1;32m    486\u001B[0m     buffer \u001B[38;5;241m=\u001B[39m \u001B[38;5;28mself\u001B[39m\u001B[38;5;241m.\u001B[39m_record_buffer\n\u001B[1;32m    487\u001B[0m     \u001B[38;5;28mself\u001B[39m\u001B[38;5;241m.\u001B[39m_record_buffer \u001B[38;5;241m=\u001B[39m deque()\n",
      "File \u001B[0;32m~/.anaconda3/envs/master/lib/python3.9/site-packages/neo4j/_sync/work/result.py:318\u001B[0m, in \u001B[0;36mResult._buffer\u001B[0;34m(self, n)\u001B[0m\n\u001B[1;32m    316\u001B[0m     \u001B[38;5;28;01mreturn\u001B[39;00m\n\u001B[1;32m    317\u001B[0m record_buffer \u001B[38;5;241m=\u001B[39m deque()\n\u001B[0;32m--> 318\u001B[0m \u001B[38;5;28;01mfor\u001B[39;00m record \u001B[38;5;129;01min\u001B[39;00m \u001B[38;5;28mself\u001B[39m:\n\u001B[1;32m    319\u001B[0m     record_buffer\u001B[38;5;241m.\u001B[39mappend(record)\n\u001B[1;32m    320\u001B[0m     \u001B[38;5;28;01mif\u001B[39;00m n \u001B[38;5;129;01mis\u001B[39;00m \u001B[38;5;129;01mnot\u001B[39;00m \u001B[38;5;28;01mNone\u001B[39;00m \u001B[38;5;129;01mand\u001B[39;00m \u001B[38;5;28mlen\u001B[39m(record_buffer) \u001B[38;5;241m>\u001B[39m\u001B[38;5;241m=\u001B[39m n:\n",
      "File \u001B[0;32m~/.anaconda3/envs/master/lib/python3.9/site-packages/neo4j/_sync/work/result.py:270\u001B[0m, in \u001B[0;36mResult.__iter__\u001B[0;34m(self)\u001B[0m\n\u001B[1;32m    268\u001B[0m     \u001B[38;5;28;01myield\u001B[39;00m \u001B[38;5;28mself\u001B[39m\u001B[38;5;241m.\u001B[39m_record_buffer\u001B[38;5;241m.\u001B[39mpopleft()\n\u001B[1;32m    269\u001B[0m \u001B[38;5;28;01melif\u001B[39;00m \u001B[38;5;28mself\u001B[39m\u001B[38;5;241m.\u001B[39m_streaming:\n\u001B[0;32m--> 270\u001B[0m     \u001B[38;5;28;43mself\u001B[39;49m\u001B[38;5;241;43m.\u001B[39;49m\u001B[43m_connection\u001B[49m\u001B[38;5;241;43m.\u001B[39;49m\u001B[43mfetch_message\u001B[49m\u001B[43m(\u001B[49m\u001B[43m)\u001B[49m\n\u001B[1;32m    271\u001B[0m \u001B[38;5;28;01melif\u001B[39;00m \u001B[38;5;28mself\u001B[39m\u001B[38;5;241m.\u001B[39m_discarding:\n\u001B[1;32m    272\u001B[0m     \u001B[38;5;28mself\u001B[39m\u001B[38;5;241m.\u001B[39m_discard()\n",
      "File \u001B[0;32m~/.anaconda3/envs/master/lib/python3.9/site-packages/neo4j/_sync/io/_common.py:178\u001B[0m, in \u001B[0;36mConnectionErrorHandler.__getattr__.<locals>.outer.<locals>.inner\u001B[0;34m(*args, **kwargs)\u001B[0m\n\u001B[1;32m    176\u001B[0m \u001B[38;5;28;01mdef\u001B[39;00m \u001B[38;5;21minner\u001B[39m(\u001B[38;5;241m*\u001B[39margs, \u001B[38;5;241m*\u001B[39m\u001B[38;5;241m*\u001B[39mkwargs):\n\u001B[1;32m    177\u001B[0m     \u001B[38;5;28;01mtry\u001B[39;00m:\n\u001B[0;32m--> 178\u001B[0m         \u001B[43mfunc\u001B[49m\u001B[43m(\u001B[49m\u001B[38;5;241;43m*\u001B[39;49m\u001B[43margs\u001B[49m\u001B[43m,\u001B[49m\u001B[43m \u001B[49m\u001B[38;5;241;43m*\u001B[39;49m\u001B[38;5;241;43m*\u001B[39;49m\u001B[43mkwargs\u001B[49m\u001B[43m)\u001B[49m\n\u001B[1;32m    179\u001B[0m     \u001B[38;5;28;01mexcept\u001B[39;00m (Neo4jError, ServiceUnavailable, SessionExpired) \u001B[38;5;28;01mas\u001B[39;00m exc:\n\u001B[1;32m    180\u001B[0m         \u001B[38;5;28;01massert\u001B[39;00m \u001B[38;5;129;01mnot\u001B[39;00m asyncio\u001B[38;5;241m.\u001B[39miscoroutinefunction(\u001B[38;5;28mself\u001B[39m\u001B[38;5;241m.\u001B[39m__on_error)\n",
      "File \u001B[0;32m~/.anaconda3/envs/master/lib/python3.9/site-packages/neo4j/_sync/io/_bolt.py:846\u001B[0m, in \u001B[0;36mBolt.fetch_message\u001B[0;34m(self)\u001B[0m\n\u001B[1;32m    843\u001B[0m     \u001B[38;5;28;01mreturn\u001B[39;00m \u001B[38;5;241m0\u001B[39m, \u001B[38;5;241m0\u001B[39m\n\u001B[1;32m    845\u001B[0m \u001B[38;5;66;03m# Receive exactly one message\u001B[39;00m\n\u001B[0;32m--> 846\u001B[0m tag, fields \u001B[38;5;241m=\u001B[39m \u001B[38;5;28;43mself\u001B[39;49m\u001B[38;5;241;43m.\u001B[39;49m\u001B[43minbox\u001B[49m\u001B[38;5;241;43m.\u001B[39;49m\u001B[43mpop\u001B[49m\u001B[43m(\u001B[49m\n\u001B[1;32m    847\u001B[0m \u001B[43m    \u001B[49m\u001B[43mhydration_hooks\u001B[49m\u001B[38;5;241;43m=\u001B[39;49m\u001B[38;5;28;43mself\u001B[39;49m\u001B[38;5;241;43m.\u001B[39;49m\u001B[43mresponses\u001B[49m\u001B[43m[\u001B[49m\u001B[38;5;241;43m0\u001B[39;49m\u001B[43m]\u001B[49m\u001B[38;5;241;43m.\u001B[39;49m\u001B[43mhydration_hooks\u001B[49m\n\u001B[1;32m    848\u001B[0m \u001B[43m\u001B[49m\u001B[43m)\u001B[49m\n\u001B[1;32m    849\u001B[0m res \u001B[38;5;241m=\u001B[39m \u001B[38;5;28mself\u001B[39m\u001B[38;5;241m.\u001B[39m_process_message(tag, fields)\n\u001B[1;32m    850\u001B[0m \u001B[38;5;28mself\u001B[39m\u001B[38;5;241m.\u001B[39midle_since \u001B[38;5;241m=\u001B[39m monotonic()\n",
      "File \u001B[0;32m~/.anaconda3/envs/master/lib/python3.9/site-packages/neo4j/_sync/io/_common.py:75\u001B[0m, in \u001B[0;36mInbox.pop\u001B[0;34m(self, hydration_hooks)\u001B[0m\n\u001B[1;32m     73\u001B[0m \u001B[38;5;28;01mtry\u001B[39;00m:\n\u001B[1;32m     74\u001B[0m     size, tag \u001B[38;5;241m=\u001B[39m \u001B[38;5;28mself\u001B[39m\u001B[38;5;241m.\u001B[39m_unpacker\u001B[38;5;241m.\u001B[39munpack_structure_header()\n\u001B[0;32m---> 75\u001B[0m     fields \u001B[38;5;241m=\u001B[39m [\u001B[38;5;28mself\u001B[39m\u001B[38;5;241m.\u001B[39m_unpacker\u001B[38;5;241m.\u001B[39munpack(hydration_hooks)\n\u001B[1;32m     76\u001B[0m               \u001B[38;5;28;01mfor\u001B[39;00m _ \u001B[38;5;129;01min\u001B[39;00m \u001B[38;5;28mrange\u001B[39m(size)]\n\u001B[1;32m     77\u001B[0m     \u001B[38;5;28;01mreturn\u001B[39;00m tag, fields\n\u001B[1;32m     78\u001B[0m \u001B[38;5;28;01mfinally\u001B[39;00m:\n\u001B[1;32m     79\u001B[0m     \u001B[38;5;66;03m# Reset for new message\u001B[39;00m\n",
      "File \u001B[0;32m~/.anaconda3/envs/master/lib/python3.9/site-packages/neo4j/_sync/io/_common.py:75\u001B[0m, in \u001B[0;36m<listcomp>\u001B[0;34m(.0)\u001B[0m\n\u001B[1;32m     73\u001B[0m \u001B[38;5;28;01mtry\u001B[39;00m:\n\u001B[1;32m     74\u001B[0m     size, tag \u001B[38;5;241m=\u001B[39m \u001B[38;5;28mself\u001B[39m\u001B[38;5;241m.\u001B[39m_unpacker\u001B[38;5;241m.\u001B[39munpack_structure_header()\n\u001B[0;32m---> 75\u001B[0m     fields \u001B[38;5;241m=\u001B[39m [\u001B[38;5;28;43mself\u001B[39;49m\u001B[38;5;241;43m.\u001B[39;49m\u001B[43m_unpacker\u001B[49m\u001B[38;5;241;43m.\u001B[39;49m\u001B[43munpack\u001B[49m\u001B[43m(\u001B[49m\u001B[43mhydration_hooks\u001B[49m\u001B[43m)\u001B[49m\n\u001B[1;32m     76\u001B[0m               \u001B[38;5;28;01mfor\u001B[39;00m _ \u001B[38;5;129;01min\u001B[39;00m \u001B[38;5;28mrange\u001B[39m(size)]\n\u001B[1;32m     77\u001B[0m     \u001B[38;5;28;01mreturn\u001B[39;00m tag, fields\n\u001B[1;32m     78\u001B[0m \u001B[38;5;28;01mfinally\u001B[39;00m:\n\u001B[1;32m     79\u001B[0m     \u001B[38;5;66;03m# Reset for new message\u001B[39;00m\n",
      "File \u001B[0;32m~/.anaconda3/envs/master/lib/python3.9/site-packages/neo4j/_codec/packstream/v1/__init__.py:292\u001B[0m, in \u001B[0;36mUnpacker.unpack\u001B[0;34m(self, hydration_hooks)\u001B[0m\n\u001B[1;32m    291\u001B[0m \u001B[38;5;28;01mdef\u001B[39;00m \u001B[38;5;21munpack\u001B[39m(\u001B[38;5;28mself\u001B[39m, hydration_hooks\u001B[38;5;241m=\u001B[39m\u001B[38;5;28;01mNone\u001B[39;00m):\n\u001B[0;32m--> 292\u001B[0m     \u001B[38;5;28;01mreturn\u001B[39;00m \u001B[38;5;28;43mself\u001B[39;49m\u001B[38;5;241;43m.\u001B[39;49m\u001B[43m_unpack\u001B[49m\u001B[43m(\u001B[49m\u001B[43mhydration_hooks\u001B[49m\u001B[38;5;241;43m=\u001B[39;49m\u001B[43mhydration_hooks\u001B[49m\u001B[43m)\u001B[49m\n",
      "File \u001B[0;32m~/.anaconda3/envs/master/lib/python3.9/site-packages/neo4j/_codec/packstream/v1/__init__.py:359\u001B[0m, in \u001B[0;36mUnpacker._unpack\u001B[0;34m(self, hydration_hooks)\u001B[0m\n\u001B[1;32m    357\u001B[0m \u001B[38;5;66;03m# List\u001B[39;00m\n\u001B[1;32m    358\u001B[0m \u001B[38;5;28;01melif\u001B[39;00m \u001B[38;5;241m0x90\u001B[39m \u001B[38;5;241m<\u001B[39m\u001B[38;5;241m=\u001B[39m marker \u001B[38;5;241m<\u001B[39m\u001B[38;5;241m=\u001B[39m \u001B[38;5;241m0x9F\u001B[39m \u001B[38;5;129;01mor\u001B[39;00m \u001B[38;5;241m0xD4\u001B[39m \u001B[38;5;241m<\u001B[39m\u001B[38;5;241m=\u001B[39m marker \u001B[38;5;241m<\u001B[39m\u001B[38;5;241m=\u001B[39m \u001B[38;5;241m0xD6\u001B[39m:\n\u001B[0;32m--> 359\u001B[0m     \u001B[38;5;28;01mreturn\u001B[39;00m \u001B[38;5;28;43mlist\u001B[39;49m\u001B[43m(\u001B[49m\u001B[38;5;28;43mself\u001B[39;49m\u001B[38;5;241;43m.\u001B[39;49m\u001B[43m_unpack_list_items\u001B[49m\u001B[43m(\u001B[49m\n\u001B[1;32m    360\u001B[0m \u001B[43m        \u001B[49m\u001B[43mmarker\u001B[49m\u001B[43m,\u001B[49m\u001B[43m \u001B[49m\u001B[43mhydration_hooks\u001B[49m\u001B[38;5;241;43m=\u001B[39;49m\u001B[43mhydration_hooks\u001B[49m\u001B[43m)\u001B[49m\n\u001B[1;32m    361\u001B[0m \u001B[43m    \u001B[49m\u001B[43m)\u001B[49m\n\u001B[1;32m    363\u001B[0m \u001B[38;5;66;03m# Map\u001B[39;00m\n\u001B[1;32m    364\u001B[0m \u001B[38;5;28;01melif\u001B[39;00m \u001B[38;5;241m0xA0\u001B[39m \u001B[38;5;241m<\u001B[39m\u001B[38;5;241m=\u001B[39m marker \u001B[38;5;241m<\u001B[39m\u001B[38;5;241m=\u001B[39m \u001B[38;5;241m0xAF\u001B[39m \u001B[38;5;129;01mor\u001B[39;00m \u001B[38;5;241m0xD8\u001B[39m \u001B[38;5;241m<\u001B[39m\u001B[38;5;241m=\u001B[39m marker \u001B[38;5;241m<\u001B[39m\u001B[38;5;241m=\u001B[39m \u001B[38;5;241m0xDA\u001B[39m:\n",
      "File \u001B[0;32m~/.anaconda3/envs/master/lib/python3.9/site-packages/neo4j/_codec/packstream/v1/__init__.py:395\u001B[0m, in \u001B[0;36mUnpacker._unpack_list_items\u001B[0;34m(self, marker, hydration_hooks)\u001B[0m\n\u001B[1;32m    393\u001B[0m     \u001B[38;5;28;01melse\u001B[39;00m:\n\u001B[1;32m    394\u001B[0m         \u001B[38;5;28;01mfor\u001B[39;00m _ \u001B[38;5;129;01min\u001B[39;00m \u001B[38;5;28mrange\u001B[39m(size):\n\u001B[0;32m--> 395\u001B[0m             \u001B[38;5;28;01myield\u001B[39;00m \u001B[38;5;28;43mself\u001B[39;49m\u001B[38;5;241;43m.\u001B[39;49m\u001B[43m_unpack\u001B[49m\u001B[43m(\u001B[49m\u001B[43mhydration_hooks\u001B[49m\u001B[38;5;241;43m=\u001B[39;49m\u001B[43mhydration_hooks\u001B[49m\u001B[43m)\u001B[49m\n\u001B[1;32m    396\u001B[0m \u001B[38;5;28;01melif\u001B[39;00m marker \u001B[38;5;241m==\u001B[39m \u001B[38;5;241m0xD4\u001B[39m:  \u001B[38;5;66;03m# LIST_8:\u001B[39;00m\n\u001B[1;32m    397\u001B[0m     size, \u001B[38;5;241m=\u001B[39m struct_unpack(\u001B[38;5;124m\"\u001B[39m\u001B[38;5;124m>B\u001B[39m\u001B[38;5;124m\"\u001B[39m, \u001B[38;5;28mself\u001B[39m\u001B[38;5;241m.\u001B[39mread(\u001B[38;5;241m1\u001B[39m))\n",
      "File \u001B[0;32m~/.anaconda3/envs/master/lib/python3.9/site-packages/neo4j/_codec/packstream/v1/__init__.py:359\u001B[0m, in \u001B[0;36mUnpacker._unpack\u001B[0;34m(self, hydration_hooks)\u001B[0m\n\u001B[1;32m    357\u001B[0m \u001B[38;5;66;03m# List\u001B[39;00m\n\u001B[1;32m    358\u001B[0m \u001B[38;5;28;01melif\u001B[39;00m \u001B[38;5;241m0x90\u001B[39m \u001B[38;5;241m<\u001B[39m\u001B[38;5;241m=\u001B[39m marker \u001B[38;5;241m<\u001B[39m\u001B[38;5;241m=\u001B[39m \u001B[38;5;241m0x9F\u001B[39m \u001B[38;5;129;01mor\u001B[39;00m \u001B[38;5;241m0xD4\u001B[39m \u001B[38;5;241m<\u001B[39m\u001B[38;5;241m=\u001B[39m marker \u001B[38;5;241m<\u001B[39m\u001B[38;5;241m=\u001B[39m \u001B[38;5;241m0xD6\u001B[39m:\n\u001B[0;32m--> 359\u001B[0m     \u001B[38;5;28;01mreturn\u001B[39;00m \u001B[38;5;28;43mlist\u001B[39;49m\u001B[43m(\u001B[49m\u001B[38;5;28;43mself\u001B[39;49m\u001B[38;5;241;43m.\u001B[39;49m\u001B[43m_unpack_list_items\u001B[49m\u001B[43m(\u001B[49m\n\u001B[1;32m    360\u001B[0m \u001B[43m        \u001B[49m\u001B[43mmarker\u001B[49m\u001B[43m,\u001B[49m\u001B[43m \u001B[49m\u001B[43mhydration_hooks\u001B[49m\u001B[38;5;241;43m=\u001B[39;49m\u001B[43mhydration_hooks\u001B[49m\u001B[43m)\u001B[49m\n\u001B[1;32m    361\u001B[0m \u001B[43m    \u001B[49m\u001B[43m)\u001B[49m\n\u001B[1;32m    363\u001B[0m \u001B[38;5;66;03m# Map\u001B[39;00m\n\u001B[1;32m    364\u001B[0m \u001B[38;5;28;01melif\u001B[39;00m \u001B[38;5;241m0xA0\u001B[39m \u001B[38;5;241m<\u001B[39m\u001B[38;5;241m=\u001B[39m marker \u001B[38;5;241m<\u001B[39m\u001B[38;5;241m=\u001B[39m \u001B[38;5;241m0xAF\u001B[39m \u001B[38;5;129;01mor\u001B[39;00m \u001B[38;5;241m0xD8\u001B[39m \u001B[38;5;241m<\u001B[39m\u001B[38;5;241m=\u001B[39m marker \u001B[38;5;241m<\u001B[39m\u001B[38;5;241m=\u001B[39m \u001B[38;5;241m0xDA\u001B[39m:\n",
      "File \u001B[0;32m~/.anaconda3/envs/master/lib/python3.9/site-packages/neo4j/_codec/packstream/v1/__init__.py:399\u001B[0m, in \u001B[0;36mUnpacker._unpack_list_items\u001B[0;34m(self, marker, hydration_hooks)\u001B[0m\n\u001B[1;32m    397\u001B[0m     size, \u001B[38;5;241m=\u001B[39m struct_unpack(\u001B[38;5;124m\"\u001B[39m\u001B[38;5;124m>B\u001B[39m\u001B[38;5;124m\"\u001B[39m, \u001B[38;5;28mself\u001B[39m\u001B[38;5;241m.\u001B[39mread(\u001B[38;5;241m1\u001B[39m))\n\u001B[1;32m    398\u001B[0m     \u001B[38;5;28;01mfor\u001B[39;00m _ \u001B[38;5;129;01min\u001B[39;00m \u001B[38;5;28mrange\u001B[39m(size):\n\u001B[0;32m--> 399\u001B[0m         \u001B[38;5;28;01myield\u001B[39;00m \u001B[38;5;28;43mself\u001B[39;49m\u001B[38;5;241;43m.\u001B[39;49m\u001B[43m_unpack\u001B[49m\u001B[43m(\u001B[49m\u001B[43mhydration_hooks\u001B[49m\u001B[38;5;241;43m=\u001B[39;49m\u001B[43mhydration_hooks\u001B[49m\u001B[43m)\u001B[49m\n\u001B[1;32m    400\u001B[0m \u001B[38;5;28;01melif\u001B[39;00m marker \u001B[38;5;241m==\u001B[39m \u001B[38;5;241m0xD5\u001B[39m:  \u001B[38;5;66;03m# LIST_16:\u001B[39;00m\n\u001B[1;32m    401\u001B[0m     size, \u001B[38;5;241m=\u001B[39m struct_unpack(\u001B[38;5;124m\"\u001B[39m\u001B[38;5;124m>H\u001B[39m\u001B[38;5;124m\"\u001B[39m, \u001B[38;5;28mself\u001B[39m\u001B[38;5;241m.\u001B[39mread(\u001B[38;5;241m2\u001B[39m))\n",
      "File \u001B[0;32m~/.anaconda3/envs/master/lib/python3.9/site-packages/neo4j/_codec/packstream/v1/__init__.py:374\u001B[0m, in \u001B[0;36mUnpacker._unpack\u001B[0;34m(self, hydration_hooks)\u001B[0m\n\u001B[1;32m    372\u001B[0m value \u001B[38;5;241m=\u001B[39m Structure(tag, \u001B[38;5;241m*\u001B[39m([\u001B[38;5;28;01mNone\u001B[39;00m] \u001B[38;5;241m*\u001B[39m size))\n\u001B[1;32m    373\u001B[0m \u001B[38;5;28;01mfor\u001B[39;00m i \u001B[38;5;129;01min\u001B[39;00m \u001B[38;5;28mrange\u001B[39m(\u001B[38;5;28mlen\u001B[39m(value)):\n\u001B[0;32m--> 374\u001B[0m     value[i] \u001B[38;5;241m=\u001B[39m \u001B[38;5;28;43mself\u001B[39;49m\u001B[38;5;241;43m.\u001B[39;49m\u001B[43m_unpack\u001B[49m\u001B[43m(\u001B[49m\u001B[43mhydration_hooks\u001B[49m\u001B[38;5;241;43m=\u001B[39;49m\u001B[43mhydration_hooks\u001B[49m\u001B[43m)\u001B[49m\n\u001B[1;32m    375\u001B[0m \u001B[38;5;28;01mif\u001B[39;00m \u001B[38;5;129;01mnot\u001B[39;00m hydration_hooks:\n\u001B[1;32m    376\u001B[0m     \u001B[38;5;28;01mreturn\u001B[39;00m value\n",
      "File \u001B[0;32m~/.anaconda3/envs/master/lib/python3.9/site-packages/neo4j/_codec/packstream/v1/__init__.py:365\u001B[0m, in \u001B[0;36mUnpacker._unpack\u001B[0;34m(self, hydration_hooks)\u001B[0m\n\u001B[1;32m    363\u001B[0m \u001B[38;5;66;03m# Map\u001B[39;00m\n\u001B[1;32m    364\u001B[0m \u001B[38;5;28;01melif\u001B[39;00m \u001B[38;5;241m0xA0\u001B[39m \u001B[38;5;241m<\u001B[39m\u001B[38;5;241m=\u001B[39m marker \u001B[38;5;241m<\u001B[39m\u001B[38;5;241m=\u001B[39m \u001B[38;5;241m0xAF\u001B[39m \u001B[38;5;129;01mor\u001B[39;00m \u001B[38;5;241m0xD8\u001B[39m \u001B[38;5;241m<\u001B[39m\u001B[38;5;241m=\u001B[39m marker \u001B[38;5;241m<\u001B[39m\u001B[38;5;241m=\u001B[39m \u001B[38;5;241m0xDA\u001B[39m:\n\u001B[0;32m--> 365\u001B[0m     \u001B[38;5;28;01mreturn\u001B[39;00m \u001B[38;5;28;43mself\u001B[39;49m\u001B[38;5;241;43m.\u001B[39;49m\u001B[43m_unpack_map\u001B[49m\u001B[43m(\u001B[49m\n\u001B[1;32m    366\u001B[0m \u001B[43m        \u001B[49m\u001B[43mmarker\u001B[49m\u001B[43m,\u001B[49m\u001B[43m \u001B[49m\u001B[43mhydration_hooks\u001B[49m\u001B[38;5;241;43m=\u001B[39;49m\u001B[43mhydration_hooks\u001B[49m\n\u001B[1;32m    367\u001B[0m \u001B[43m    \u001B[49m\u001B[43m)\u001B[49m\n\u001B[1;32m    369\u001B[0m \u001B[38;5;66;03m# Structure\u001B[39;00m\n\u001B[1;32m    370\u001B[0m \u001B[38;5;28;01melif\u001B[39;00m \u001B[38;5;241m0xB0\u001B[39m \u001B[38;5;241m<\u001B[39m\u001B[38;5;241m=\u001B[39m marker \u001B[38;5;241m<\u001B[39m\u001B[38;5;241m=\u001B[39m \u001B[38;5;241m0xBF\u001B[39m:\n",
      "File \u001B[0;32m~/.anaconda3/envs/master/lib/python3.9/site-packages/neo4j/_codec/packstream/v1/__init__.py:422\u001B[0m, in \u001B[0;36mUnpacker._unpack_map\u001B[0;34m(self, marker, hydration_hooks)\u001B[0m\n\u001B[1;32m    420\u001B[0m     \u001B[38;5;28;01mfor\u001B[39;00m _ \u001B[38;5;129;01min\u001B[39;00m \u001B[38;5;28mrange\u001B[39m(size):\n\u001B[1;32m    421\u001B[0m         key \u001B[38;5;241m=\u001B[39m \u001B[38;5;28mself\u001B[39m\u001B[38;5;241m.\u001B[39m_unpack(hydration_hooks\u001B[38;5;241m=\u001B[39mhydration_hooks)\n\u001B[0;32m--> 422\u001B[0m         value[key] \u001B[38;5;241m=\u001B[39m \u001B[38;5;28;43mself\u001B[39;49m\u001B[38;5;241;43m.\u001B[39;49m\u001B[43m_unpack\u001B[49m\u001B[43m(\u001B[49m\u001B[43mhydration_hooks\u001B[49m\u001B[38;5;241;43m=\u001B[39;49m\u001B[43mhydration_hooks\u001B[49m\u001B[43m)\u001B[49m\n\u001B[1;32m    423\u001B[0m     \u001B[38;5;28;01mreturn\u001B[39;00m value\n\u001B[1;32m    424\u001B[0m \u001B[38;5;28;01melif\u001B[39;00m marker \u001B[38;5;241m==\u001B[39m \u001B[38;5;241m0xD8\u001B[39m:  \u001B[38;5;66;03m# MAP_8:\u001B[39;00m\n",
      "File \u001B[0;32m~/.anaconda3/envs/master/lib/python3.9/site-packages/neo4j/_codec/packstream/v1/__init__.py:359\u001B[0m, in \u001B[0;36mUnpacker._unpack\u001B[0;34m(self, hydration_hooks)\u001B[0m\n\u001B[1;32m    357\u001B[0m \u001B[38;5;66;03m# List\u001B[39;00m\n\u001B[1;32m    358\u001B[0m \u001B[38;5;28;01melif\u001B[39;00m \u001B[38;5;241m0x90\u001B[39m \u001B[38;5;241m<\u001B[39m\u001B[38;5;241m=\u001B[39m marker \u001B[38;5;241m<\u001B[39m\u001B[38;5;241m=\u001B[39m \u001B[38;5;241m0x9F\u001B[39m \u001B[38;5;129;01mor\u001B[39;00m \u001B[38;5;241m0xD4\u001B[39m \u001B[38;5;241m<\u001B[39m\u001B[38;5;241m=\u001B[39m marker \u001B[38;5;241m<\u001B[39m\u001B[38;5;241m=\u001B[39m \u001B[38;5;241m0xD6\u001B[39m:\n\u001B[0;32m--> 359\u001B[0m     \u001B[38;5;28;01mreturn\u001B[39;00m \u001B[38;5;28;43mlist\u001B[39;49m\u001B[43m(\u001B[49m\u001B[38;5;28;43mself\u001B[39;49m\u001B[38;5;241;43m.\u001B[39;49m\u001B[43m_unpack_list_items\u001B[49m\u001B[43m(\u001B[49m\n\u001B[1;32m    360\u001B[0m \u001B[43m        \u001B[49m\u001B[43mmarker\u001B[49m\u001B[43m,\u001B[49m\u001B[43m \u001B[49m\u001B[43mhydration_hooks\u001B[49m\u001B[38;5;241;43m=\u001B[39;49m\u001B[43mhydration_hooks\u001B[49m\u001B[43m)\u001B[49m\n\u001B[1;32m    361\u001B[0m \u001B[43m    \u001B[49m\u001B[43m)\u001B[49m\n\u001B[1;32m    363\u001B[0m \u001B[38;5;66;03m# Map\u001B[39;00m\n\u001B[1;32m    364\u001B[0m \u001B[38;5;28;01melif\u001B[39;00m \u001B[38;5;241m0xA0\u001B[39m \u001B[38;5;241m<\u001B[39m\u001B[38;5;241m=\u001B[39m marker \u001B[38;5;241m<\u001B[39m\u001B[38;5;241m=\u001B[39m \u001B[38;5;241m0xAF\u001B[39m \u001B[38;5;129;01mor\u001B[39;00m \u001B[38;5;241m0xD8\u001B[39m \u001B[38;5;241m<\u001B[39m\u001B[38;5;241m=\u001B[39m marker \u001B[38;5;241m<\u001B[39m\u001B[38;5;241m=\u001B[39m \u001B[38;5;241m0xDA\u001B[39m:\n",
      "File \u001B[0;32m~/.anaconda3/envs/master/lib/python3.9/site-packages/neo4j/_codec/packstream/v1/__init__.py:403\u001B[0m, in \u001B[0;36mUnpacker._unpack_list_items\u001B[0;34m(self, marker, hydration_hooks)\u001B[0m\n\u001B[1;32m    401\u001B[0m     size, \u001B[38;5;241m=\u001B[39m struct_unpack(\u001B[38;5;124m\"\u001B[39m\u001B[38;5;124m>H\u001B[39m\u001B[38;5;124m\"\u001B[39m, \u001B[38;5;28mself\u001B[39m\u001B[38;5;241m.\u001B[39mread(\u001B[38;5;241m2\u001B[39m))\n\u001B[1;32m    402\u001B[0m     \u001B[38;5;28;01mfor\u001B[39;00m _ \u001B[38;5;129;01min\u001B[39;00m \u001B[38;5;28mrange\u001B[39m(size):\n\u001B[0;32m--> 403\u001B[0m         \u001B[38;5;28;01myield\u001B[39;00m \u001B[38;5;28;43mself\u001B[39;49m\u001B[38;5;241;43m.\u001B[39;49m\u001B[43m_unpack\u001B[49m\u001B[43m(\u001B[49m\u001B[43mhydration_hooks\u001B[49m\u001B[38;5;241;43m=\u001B[39;49m\u001B[43mhydration_hooks\u001B[49m\u001B[43m)\u001B[49m\n\u001B[1;32m    404\u001B[0m \u001B[38;5;28;01melif\u001B[39;00m marker \u001B[38;5;241m==\u001B[39m \u001B[38;5;241m0xD6\u001B[39m:  \u001B[38;5;66;03m# LIST_32:\u001B[39;00m\n\u001B[1;32m    405\u001B[0m     size, \u001B[38;5;241m=\u001B[39m struct_unpack(\u001B[38;5;124m\"\u001B[39m\u001B[38;5;124m>I\u001B[39m\u001B[38;5;124m\"\u001B[39m, \u001B[38;5;28mself\u001B[39m\u001B[38;5;241m.\u001B[39mread(\u001B[38;5;241m4\u001B[39m))\n",
      "File \u001B[0;32m~/.anaconda3/envs/master/lib/python3.9/site-packages/neo4j/_codec/packstream/v1/__init__.py:312\u001B[0m, in \u001B[0;36mUnpacker._unpack\u001B[0;34m(self, hydration_hooks)\u001B[0m\n\u001B[1;32m    310\u001B[0m \u001B[38;5;66;03m# Float\u001B[39;00m\n\u001B[1;32m    311\u001B[0m \u001B[38;5;28;01melif\u001B[39;00m marker \u001B[38;5;241m==\u001B[39m \u001B[38;5;241m0xC1\u001B[39m:\n\u001B[0;32m--> 312\u001B[0m     value, \u001B[38;5;241m=\u001B[39m struct_unpack(\u001B[38;5;124m\"\u001B[39m\u001B[38;5;124m>d\u001B[39m\u001B[38;5;124m\"\u001B[39m, \u001B[38;5;28;43mself\u001B[39;49m\u001B[38;5;241;43m.\u001B[39;49m\u001B[43mread\u001B[49m\u001B[43m(\u001B[49m\u001B[38;5;241;43m8\u001B[39;49m\u001B[43m)\u001B[49m)\n\u001B[1;32m    313\u001B[0m     \u001B[38;5;28;01mreturn\u001B[39;00m value\n\u001B[1;32m    315\u001B[0m \u001B[38;5;66;03m# Boolean\u001B[39;00m\n",
      "File \u001B[0;32m~/.anaconda3/envs/master/lib/python3.9/site-packages/neo4j/_codec/packstream/v1/__init__.py:278\u001B[0m, in \u001B[0;36mUnpacker.read\u001B[0;34m(self, n)\u001B[0m\n\u001B[1;32m    277\u001B[0m \u001B[38;5;28;01mdef\u001B[39;00m \u001B[38;5;21mread\u001B[39m(\u001B[38;5;28mself\u001B[39m, n\u001B[38;5;241m=\u001B[39m\u001B[38;5;241m1\u001B[39m):\n\u001B[0;32m--> 278\u001B[0m     \u001B[38;5;28;01mreturn\u001B[39;00m \u001B[38;5;28;43mself\u001B[39;49m\u001B[38;5;241;43m.\u001B[39;49m\u001B[43munpackable\u001B[49m\u001B[38;5;241;43m.\u001B[39;49m\u001B[43mread\u001B[49m\u001B[43m(\u001B[49m\u001B[43mn\u001B[49m\u001B[43m)\u001B[49m\n",
      "File \u001B[0;32m~/.anaconda3/envs/master/lib/python3.9/site-packages/neo4j/_codec/packstream/v1/__init__.py:487\u001B[0m, in \u001B[0;36mUnpackableBuffer.read\u001B[0;34m(self, n)\u001B[0m\n\u001B[1;32m    485\u001B[0m \u001B[38;5;28;01mdef\u001B[39;00m \u001B[38;5;21mread\u001B[39m(\u001B[38;5;28mself\u001B[39m, n\u001B[38;5;241m=\u001B[39m\u001B[38;5;241m1\u001B[39m):\n\u001B[1;32m    486\u001B[0m     view \u001B[38;5;241m=\u001B[39m \u001B[38;5;28mmemoryview\u001B[39m(\u001B[38;5;28mself\u001B[39m\u001B[38;5;241m.\u001B[39mdata)\n\u001B[0;32m--> 487\u001B[0m     q \u001B[38;5;241m=\u001B[39m \u001B[38;5;28;43mself\u001B[39;49m\u001B[38;5;241;43m.\u001B[39;49m\u001B[43mp\u001B[49m\u001B[43m \u001B[49m\u001B[38;5;241;43m+\u001B[39;49m\u001B[43m \u001B[49m\u001B[43mn\u001B[49m\n\u001B[1;32m    488\u001B[0m     subview \u001B[38;5;241m=\u001B[39m view[\u001B[38;5;28mself\u001B[39m\u001B[38;5;241m.\u001B[39mp:q]\n\u001B[1;32m    489\u001B[0m     \u001B[38;5;28mself\u001B[39m\u001B[38;5;241m.\u001B[39mp \u001B[38;5;241m=\u001B[39m q\n",
      "\u001B[0;31mKeyboardInterrupt\u001B[0m: "
     ]
    }
   ],
   "execution_count": 24
  },
  {
   "metadata": {},
   "cell_type": "code",
   "source": "",
   "id": "d5efacd4c1f46181",
   "outputs": [],
   "execution_count": null
  }
 ],
 "metadata": {
  "kernelspec": {
   "display_name": "Python 3",
   "language": "python",
   "name": "python3"
  },
  "language_info": {
   "codemirror_mode": {
    "name": "ipython",
    "version": 2
   },
   "file_extension": ".py",
   "mimetype": "text/x-python",
   "name": "python",
   "nbconvert_exporter": "python",
   "pygments_lexer": "ipython2",
   "version": "2.7.6"
  }
 },
 "nbformat": 4,
 "nbformat_minor": 5
}
