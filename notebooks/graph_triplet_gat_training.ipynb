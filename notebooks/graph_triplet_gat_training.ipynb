{
 "cells": [
  {
   "cell_type": "code",
   "id": "initial_id",
   "metadata": {
    "collapsed": true,
    "ExecuteTime": {
     "end_time": "2024-08-24T17:16:41.594293Z",
     "start_time": "2024-08-24T17:16:41.589799Z"
    }
   },
   "source": [
    "import os\n",
    "import json\n",
    "from time import sleep\n",
    "\n",
    "import pandas as pd\n",
    "from graphdatascience import GraphDataScience\n",
    "from neo4j import GraphDatabase\n",
    "import torch\n",
    "import torch.optim as optim\n",
    "import torch.nn.functional as F\n",
    "from torch_geometric.data import Data\n",
    "from torch_geometric.loader import DataLoader\n",
    "from torch_geometric.nn import GCNConv\n",
    "from torch_geometric.transforms import RandomNodeSplit\n",
    "import random\n",
    "import numpy as np\n",
    "\n",
    "from src.shared.database_wrapper import DatabaseWrapper\n",
    "from src.datasets.who_is_who import WhoIsWhoDataset\n",
    "from src.model.GAT.gat_encoder import GATv2Encoder\n",
    "from src.model.GAT.gat_decoder import GATv2Decoder\n",
    "from src.shared.graph_schema import NodeType, EdgeType, node_one_hot, edge_one_hot\n",
    "from src.model.loss.triplet_loss import TripletLoss\n",
    "from src.shared import config\n",
    "\n",
    "import networkx as nx\n",
    "import plotly.graph_objects as go\n",
    "\n",
    "random.seed(42)\n",
    "np.random.seed(42)\n",
    "torch.manual_seed(42)\n",
    "torch.cuda.manual_seed_all(42)"
   ],
   "outputs": [],
   "execution_count": 48
  },
  {
   "metadata": {
    "ExecuteTime": {
     "end_time": "2024-08-24T17:16:41.611238Z",
     "start_time": "2024-08-24T17:16:41.595528Z"
    }
   },
   "cell_type": "code",
   "source": [
    "node_feature_dim = NodeType.PUBLICATION.one_hot().shape[0] + 32\n",
    "edge_feature_dim = EdgeType.SIM_TITLE.one_hot().shape[0]\n",
    "gat_embedding_dim = 32\n",
    "\n",
    "device = torch.device(\n",
    "    'cuda' if torch.cuda.is_available()\n",
    "    else 'cpu'\n",
    ")\n",
    "print(device)\n",
    "\n",
    "encoder = GATv2Encoder(\n",
    "    in_channels=node_feature_dim,\n",
    "    hidden_channels=32,\n",
    "    out_channels=gat_embedding_dim,\n",
    "    edge_dim=edge_feature_dim,\n",
    "    add_self_loops=False\n",
    ")\n",
    "encoder.to(device)"
   ],
   "id": "ab76e036f95625a9",
   "outputs": [
    {
     "name": "stdout",
     "output_type": "stream",
     "text": [
      "cpu\n"
     ]
    },
    {
     "data": {
      "text/plain": [
       "GATv2Encoder(\n",
       "  (conv1): GATv2Conv(37, 32, heads=5)\n",
       "  (conv2): GATv2Conv(160, 32, heads=5)\n",
       "  (linear_output): Sequential(\n",
       "    (0): Linear(in_features=160, out_features=32, bias=True)\n",
       "    (1): Dropout(p=0.0, inplace=False)\n",
       "    (2): Linear(in_features=32, out_features=32, bias=True)\n",
       "  )\n",
       ")"
      ]
     },
     "execution_count": 49,
     "metadata": {},
     "output_type": "execute_result"
    }
   ],
   "execution_count": 49
  },
  {
   "metadata": {
    "ExecuteTime": {
     "end_time": "2024-08-24T17:16:41.616143Z",
     "start_time": "2024-08-24T17:16:41.612887Z"
    }
   },
   "cell_type": "code",
   "source": [
    "class TripletDataset:\n",
    "    def __init__(self, dataset_path):\n",
    "        self.dataset_path = dataset_path\n",
    "        self.batch_files = os.listdir(dataset_path)\n",
    "        \n",
    "    def iter_triplets(self):\n",
    "        for batch_file in self.batch_files:\n",
    "            file_path = os.path.join(self.dataset_path, batch_file)\n",
    "            batch = torch.load(file_path)\n",
    "            for triplet in batch:\n",
    "                yield triplet\n",
    "                \n",
    "    def __len__(self, batch_size):\n",
    "        return len(self.batch_files) * batch_size\n",
    "        "
   ],
   "id": "5fed188e49fbd8ef",
   "outputs": [],
   "execution_count": 50
  },
  {
   "metadata": {
    "ExecuteTime": {
     "end_time": "2024-08-24T17:16:41.622421Z",
     "start_time": "2024-08-24T17:16:41.617538Z"
    }
   },
   "cell_type": "code",
   "source": [
    "def train_gat(encoder, ds: TripletDataset, epochs=1000, lr=0.01):\n",
    "    # Define the optimizer for the gat model\n",
    "    optimizer = optim.SGD(list(encoder.parameters()), lr=lr)\n",
    "    \n",
    "    # Define a loss function\n",
    "    criterion = torch.nn.MSELoss()\n",
    "    triplet_loss = TripletLoss()\n",
    "    \n",
    "    # Training loop\n",
    "    for epoch in range(epochs):\n",
    "        encoder.train()\n",
    "        \n",
    "        total_loss = 0\n",
    "        \n",
    "        for triplet in ds.iter_triplets():\n",
    "            anchor, pos, neg = triplet['anchor'], triplet['pos'], triplet['neg']\n",
    "            \n",
    "            anchor = Data(\n",
    "                x=torch.tensor(anchor['x'], dtype=torch.float32), \n",
    "                edge_index=torch.tensor(anchor['edge_index'], dtype=torch.long),\n",
    "                edge_attr=torch.tensor(anchor['edge_attr'], dtype=torch.float32)\n",
    "            )\n",
    "            pos = Data(\n",
    "                x=torch.tensor(pos['x'], dtype=torch.float32),\n",
    "                edge_index=torch.tensor(pos['edge_index'], dtype=torch.long),\n",
    "                edge_attr=torch.tensor(pos['edge_attr'], dtype=torch.float32)\n",
    "            )\n",
    "            neg = Data(\n",
    "                x=torch.tensor(neg['x'], dtype=torch.float32),\n",
    "                edge_index=torch.tensor(neg['edge_index'], dtype=torch.long),\n",
    "                edge_attr=torch.tensor(neg['edge_attr'], dtype=torch.float32)\n",
    "            )\n",
    "            \n",
    "            anchor.to(device)\n",
    "            pos.to(device)\n",
    "            neg.to(device)\n",
    "            \n",
    "            # Zero gradients\n",
    "            optimizer.zero_grad()\n",
    "\n",
    "            # Forward pass through the encoder\n",
    "            anchor_emb = encoder.forward(anchor.x, anchor.edge_index, anchor.edge_attr)\n",
    "            pos_emb = encoder.forward(pos.x, pos.edge_index, pos.edge_attr)\n",
    "            neg_emb = encoder.forward(neg.x, neg.edge_index, neg.edge_attr)\n",
    "            print(anchor_emb.shape, pos_emb.shape, neg_emb.shape)\n",
    "            \n",
    "            # Compute loss \n",
    "            #loss = criterion()\n",
    "            loss = triplet_loss.forward(anchor_emb, pos_emb, neg_emb)\n",
    "\n",
    "            # Backward pass\n",
    "            loss.backward()\n",
    "\n",
    "            # Optimize the parameters\n",
    "            optimizer.step()\n",
    "\n",
    "            total_loss += loss.item()\n",
    "\n",
    "        # Print loss every 10 epochs\n",
    "        if epoch % 10 == 0:\n",
    "            print(f'Epoch {epoch}, Loss: {total_loss / len(ds.__len__(10))}')"
   ],
   "id": "2e4940736d78156c",
   "outputs": [],
   "execution_count": 51
  },
  {
   "metadata": {
    "ExecuteTime": {
     "end_time": "2024-08-24T17:16:41.694164Z",
     "start_time": "2024-08-24T17:16:41.624229Z"
    }
   },
   "cell_type": "code",
   "source": [
    "ds = TripletDataset(\"./data/triplet_dataset\")\n",
    "train_gat(encoder, ds, epochs=1000, lr=0.01)"
   ],
   "id": "94e69b7f6005b121",
   "outputs": [
    {
     "name": "stdout",
     "output_type": "stream",
     "text": [
      "torch.Size([42, 32]) torch.Size([72, 32]) torch.Size([6, 32])\n"
     ]
    },
    {
     "ename": "RuntimeError",
     "evalue": "The size of tensor a (42) must match the size of tensor b (72) at non-singleton dimension 0",
     "output_type": "error",
     "traceback": [
      "\u001B[0;31m---------------------------------------------------------------------------\u001B[0m",
      "\u001B[0;31mRuntimeError\u001B[0m                              Traceback (most recent call last)",
      "Cell \u001B[0;32mIn[52], line 2\u001B[0m\n\u001B[1;32m      1\u001B[0m ds \u001B[38;5;241m=\u001B[39m TripletDataset(\u001B[38;5;124m\"\u001B[39m\u001B[38;5;124m./data/triplet_dataset\u001B[39m\u001B[38;5;124m\"\u001B[39m)\n\u001B[0;32m----> 2\u001B[0m \u001B[43mtrain_gat\u001B[49m\u001B[43m(\u001B[49m\u001B[43mencoder\u001B[49m\u001B[43m,\u001B[49m\u001B[43m \u001B[49m\u001B[43mds\u001B[49m\u001B[43m,\u001B[49m\u001B[43m \u001B[49m\u001B[43mepochs\u001B[49m\u001B[38;5;241;43m=\u001B[39;49m\u001B[38;5;241;43m1000\u001B[39;49m\u001B[43m,\u001B[49m\u001B[43m \u001B[49m\u001B[43mlr\u001B[49m\u001B[38;5;241;43m=\u001B[39;49m\u001B[38;5;241;43m0.01\u001B[39;49m\u001B[43m)\u001B[49m\n",
      "Cell \u001B[0;32mIn[51], line 49\u001B[0m, in \u001B[0;36mtrain_gat\u001B[0;34m(encoder, ds, epochs, lr)\u001B[0m\n\u001B[1;32m     45\u001B[0m \u001B[38;5;28mprint\u001B[39m(anchor_emb\u001B[38;5;241m.\u001B[39mshape, pos_emb\u001B[38;5;241m.\u001B[39mshape, neg_emb\u001B[38;5;241m.\u001B[39mshape)\n\u001B[1;32m     47\u001B[0m \u001B[38;5;66;03m# Compute loss \u001B[39;00m\n\u001B[1;32m     48\u001B[0m \u001B[38;5;66;03m#loss = criterion()\u001B[39;00m\n\u001B[0;32m---> 49\u001B[0m loss \u001B[38;5;241m=\u001B[39m \u001B[43mtriplet_loss\u001B[49m\u001B[38;5;241;43m.\u001B[39;49m\u001B[43mforward\u001B[49m\u001B[43m(\u001B[49m\u001B[43manchor_emb\u001B[49m\u001B[43m,\u001B[49m\u001B[43m \u001B[49m\u001B[43mpos_emb\u001B[49m\u001B[43m,\u001B[49m\u001B[43m \u001B[49m\u001B[43mneg_emb\u001B[49m\u001B[43m)\u001B[49m\n\u001B[1;32m     51\u001B[0m \u001B[38;5;66;03m# Backward pass\u001B[39;00m\n\u001B[1;32m     52\u001B[0m loss\u001B[38;5;241m.\u001B[39mbackward()\n",
      "File \u001B[0;32m~/Git/master-thesis/src/model/loss/triplet_loss.py:11\u001B[0m, in \u001B[0;36mTripletLoss.forward\u001B[0;34m(self, anchor, positive, negative)\u001B[0m\n\u001B[1;32m     10\u001B[0m \u001B[38;5;28;01mdef\u001B[39;00m \u001B[38;5;21mforward\u001B[39m(\u001B[38;5;28mself\u001B[39m, anchor, positive, negative):\n\u001B[0;32m---> 11\u001B[0m     pos_dist \u001B[38;5;241m=\u001B[39m torch\u001B[38;5;241m.\u001B[39mnorm(\u001B[43manchor\u001B[49m\u001B[43m \u001B[49m\u001B[38;5;241;43m-\u001B[39;49m\u001B[43m \u001B[49m\u001B[43mpositive\u001B[49m, p\u001B[38;5;241m=\u001B[39m\u001B[38;5;241m2\u001B[39m, dim\u001B[38;5;241m=\u001B[39m\u001B[38;5;241m1\u001B[39m)\n\u001B[1;32m     12\u001B[0m     neg_dist \u001B[38;5;241m=\u001B[39m torch\u001B[38;5;241m.\u001B[39mnorm(anchor \u001B[38;5;241m-\u001B[39m negative, p\u001B[38;5;241m=\u001B[39m\u001B[38;5;241m2\u001B[39m, dim\u001B[38;5;241m=\u001B[39m\u001B[38;5;241m1\u001B[39m)\n\u001B[1;32m     13\u001B[0m     loss \u001B[38;5;241m=\u001B[39m torch\u001B[38;5;241m.\u001B[39mrelu(pos_dist \u001B[38;5;241m-\u001B[39m neg_dist \u001B[38;5;241m+\u001B[39m \u001B[38;5;28mself\u001B[39m\u001B[38;5;241m.\u001B[39mmargin)\u001B[38;5;241m.\u001B[39mmean()\n",
      "\u001B[0;31mRuntimeError\u001B[0m: The size of tensor a (42) must match the size of tensor b (72) at non-singleton dimension 0"
     ]
    }
   ],
   "execution_count": 52
  }
 ],
 "metadata": {
  "kernelspec": {
   "display_name": "Python 3",
   "language": "python",
   "name": "python3"
  },
  "language_info": {
   "codemirror_mode": {
    "name": "ipython",
    "version": 2
   },
   "file_extension": ".py",
   "mimetype": "text/x-python",
   "name": "python",
   "nbconvert_exporter": "python",
   "pygments_lexer": "ipython2",
   "version": "2.7.6"
  }
 },
 "nbformat": 4,
 "nbformat_minor": 5
}
