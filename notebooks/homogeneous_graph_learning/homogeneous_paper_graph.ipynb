{
 "cells": [
  {
   "cell_type": "code",
   "id": "initial_id",
   "metadata": {
    "collapsed": true,
    "ExecuteTime": {
     "end_time": "2024-09-14T13:55:49.341697Z",
     "start_time": "2024-09-14T13:55:43.820343Z"
    }
   },
   "source": [
    "from sentence_transformers import SentenceTransformer\n",
    "from tqdm.notebook import tqdm\n",
    "from collections import defaultdict\n",
    "\n",
    "from src.datasets.who_is_who import WhoIsWhoDataset\n",
    "from src.shared.database_wrapper import DatabaseWrapper\n",
    "from src.shared.graph_schema import NodeType, EdgeType\n",
    "from src.shared import config"
   ],
   "outputs": [
    {
     "name": "stderr",
     "output_type": "stream",
     "text": [
      "/Users/vincie/miniconda3/envs/master/lib/python3.9/site-packages/sentence_transformers/cross_encoder/CrossEncoder.py:11: TqdmExperimentalWarning: Using `tqdm.autonotebook.tqdm` in notebook mode. Use `tqdm.tqdm` instead to force console mode (e.g. in jupyter console)\n",
      "  from tqdm.autonotebook import tqdm, trange\n"
     ]
    }
   ],
   "execution_count": 1
  },
  {
   "metadata": {
    "ExecuteTime": {
     "end_time": "2024-09-14T13:55:56.199990Z",
     "start_time": "2024-09-14T13:55:49.342777Z"
    }
   },
   "cell_type": "code",
   "source": [
    "db = DatabaseWrapper(database='homogeneous-graph')\n",
    "db.create_vector_index('title_index', NodeType.PUBLICATION, 'title_emb', 32)\n",
    "db.create_vector_index('abstract_index', NodeType.PUBLICATION, 'abstract_emb', 32)\n",
    "db.create_vector_index('venue_index', NodeType.PUBLICATION, 'venue_emb', 32)\n",
    "data = WhoIsWhoDataset.parse_data()"
   ],
   "id": "7b4f2bfe1943d12a",
   "outputs": [
    {
     "name": "stderr",
     "output_type": "stream",
     "text": [
      "2024-09-14 15:55:49,343 - DatabaseWrapper - INFO - Connecting to the database ...\n",
      "2024-09-14 15:55:49,344 - DatabaseWrapper - INFO - Database ready.\n"
     ]
    }
   ],
   "execution_count": 2
  },
  {
   "metadata": {
    "ExecuteTime": {
     "end_time": "2024-09-14T13:55:56.596577Z",
     "start_time": "2024-09-14T13:55:56.200841Z"
    }
   },
   "cell_type": "code",
   "source": [
    "model = SentenceTransformer(\n",
    "    '../../data/models/scibert_scivocab_uncased_sentence_transformer-32dim',\n",
    "    device='mps'\n",
    ")"
   ],
   "id": "9a313d7d87172b1c",
   "outputs": [],
   "execution_count": 3
  },
  {
   "metadata": {
    "ExecuteTime": {
     "end_time": "2024-09-14T13:55:56.600354Z",
     "start_time": "2024-09-14T13:55:56.597391Z"
    }
   },
   "cell_type": "code",
   "source": [
    "def process_batch(batch):\n",
    "    if not batch[NodeType.PUBLICATION]:\n",
    "        return\n",
    "    title_embs = model.encode(\n",
    "        [node['title'] for node in batch[NodeType.PUBLICATION]]\n",
    "    )\n",
    "    abstract_embs = model.encode(\n",
    "        [node['abstract'] for node in batch[NodeType.PUBLICATION]]\n",
    "    )\n",
    "    venue_embs = model.encode(\n",
    "        [node['venue'] for node in batch[NodeType.PUBLICATION]]\n",
    "    )\n",
    "    for i, node in enumerate(batch[NodeType.PUBLICATION]):\n",
    "        node['title_emb'] = title_embs[i]\n",
    "        node['abstract_emb'] = abstract_embs[i]\n",
    "        node['venue_emb'] = venue_embs[i]\n",
    "    db.merge_nodes(NodeType.PUBLICATION, batch[NodeType.PUBLICATION])\n",
    "    batch[NodeType.PUBLICATION] = []"
   ],
   "id": "80d384ca1c9de88d",
   "outputs": [],
   "execution_count": 4
  },
  {
   "metadata": {
    "ExecuteTime": {
     "end_time": "2024-09-14T13:56:21.958411Z",
     "start_time": "2024-09-14T13:55:56.602294Z"
    }
   },
   "cell_type": "code",
   "source": [
    "batch_nodes = defaultdict(list)\n",
    "max_iterations = 1000\n",
    "current_iteration = 0\n",
    "with tqdm(total=max_iterations) as pbar:\n",
    "    for author_id, values in data.items():\n",
    "        if max_iterations is not None and current_iteration >= max_iterations:\n",
    "            break\n",
    "        current_iteration += 1\n",
    "        pbar.update(1)\n",
    "        \n",
    "        paper_node = {\n",
    "            'id': values['id'],\n",
    "            'title': values['title'],\n",
    "            'abstract': values['abstract'],\n",
    "            'year': values['year'],\n",
    "            'venue': values['venue'],\n",
    "        }\n",
    "        batch_nodes[NodeType.PUBLICATION].append(paper_node)\n",
    "        \n",
    "        if len(batch_nodes[NodeType.PUBLICATION]) % 1000 == 0:\n",
    "            process_batch(batch_nodes)\n",
    "\n",
    "process_batch(batch_nodes)"
   ],
   "id": "29946cd86c709ff8",
   "outputs": [
    {
     "data": {
      "text/plain": [
       "  0%|          | 0/1000 [00:00<?, ?it/s]"
      ],
      "application/vnd.jupyter.widget-view+json": {
       "version_major": 2,
       "version_minor": 0,
       "model_id": "b5b36f4284dc4573ab286704497a56d1"
      }
     },
     "metadata": {},
     "output_type": "display_data"
    },
    {
     "name": "stderr",
     "output_type": "stream",
     "text": [
      "/Users/vincie/miniconda3/envs/master/lib/python3.9/site-packages/neo4j/_sync/work/result.py:500: UserWarning: Expected a result with a single record, but found multiple.\n",
      "  warn(\"Expected a result with a single record, \"\n"
     ]
    }
   ],
   "execution_count": 5
  },
  {
   "metadata": {
    "ExecuteTime": {
     "end_time": "2024-09-14T13:56:21.982359Z",
     "start_time": "2024-09-14T13:56:21.959623Z"
    }
   },
   "cell_type": "code",
   "source": "print(db.count_nodes(NodeType.PUBLICATION))",
   "id": "f02c30d1f448354f",
   "outputs": [
    {
     "name": "stdout",
     "output_type": "stream",
     "text": [
      "1000\n"
     ]
    }
   ],
   "execution_count": 6
  },
  {
   "metadata": {
    "ExecuteTime": {
     "end_time": "2024-09-14T13:56:21.985643Z",
     "start_time": "2024-09-14T13:56:21.983424Z"
    }
   },
   "cell_type": "code",
   "source": "",
   "id": "cabd3b3063d244b2",
   "outputs": [],
   "execution_count": 6
  }
 ],
 "metadata": {
  "kernelspec": {
   "display_name": "Python 3",
   "language": "python",
   "name": "python3"
  },
  "language_info": {
   "codemirror_mode": {
    "name": "ipython",
    "version": 2
   },
   "file_extension": ".py",
   "mimetype": "text/x-python",
   "name": "python",
   "nbconvert_exporter": "python",
   "pygments_lexer": "ipython2",
   "version": "2.7.6"
  }
 },
 "nbformat": 4,
 "nbformat_minor": 5
}
