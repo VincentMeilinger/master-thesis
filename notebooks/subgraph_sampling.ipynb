{
 "cells": [
  {
   "cell_type": "code",
   "id": "initial_id",
   "metadata": {
    "collapsed": true,
    "ExecuteTime": {
     "end_time": "2024-08-18T18:04:55.739345Z",
     "start_time": "2024-08-18T18:04:55.735967Z"
    }
   },
   "source": [
    "import os\n",
    "from time import sleep\n",
    "\n",
    "import pandas as pd\n",
    "from graphdatascience import GraphDataScience\n",
    "from neo4j import GraphDatabase\n",
    "import torch\n",
    "import torch.optim as optim\n",
    "import torch.nn.functional as F\n",
    "from torch_geometric.data import Data\n",
    "from torch_geometric.loader import DataLoader\n",
    "from torch_geometric.nn import GCNConv\n",
    "from torch_geometric.transforms import RandomNodeSplit\n",
    "import random\n",
    "import numpy as np\n",
    "\n",
    "from src.shared.database_wrapper import DatabaseWrapper\n",
    "from src.model.GAT.gat_encoder import GATv2Encoder\n",
    "from src.model.GAT.gat_decoder import GATv2Decoder\n",
    "from src.shared.graph_schema import NodeType, EdgeType, node_one_hot, edge_one_hot\n",
    "from src.shared import config\n",
    "\n",
    "import networkx as nx\n",
    "import plotly.graph_objects as go\n",
    "\n",
    "random.seed(42)\n",
    "np.random.seed(42)\n",
    "torch.manual_seed(42)\n",
    "torch.cuda.manual_seed_all(42)"
   ],
   "outputs": [],
   "execution_count": 63
  },
  {
   "metadata": {
    "ExecuteTime": {
     "end_time": "2024-08-18T18:04:55.768622Z",
     "start_time": "2024-08-18T18:04:55.742757Z"
    }
   },
   "cell_type": "code",
   "source": [
    "driver = GraphDatabase.driver(config.DB_URI, auth=(config.DB_USER, config.DB_PASSWORD))\n",
    "gds = GraphDataScience(config.DB_URI, auth=(config.DB_USER, config.DB_PASSWORD))"
   ],
   "id": "f86e564187669603",
   "outputs": [],
   "execution_count": 64
  },
  {
   "metadata": {
    "ExecuteTime": {
     "end_time": "2024-08-18T18:04:56.394943Z",
     "start_time": "2024-08-18T18:04:56.391481Z"
    }
   },
   "cell_type": "code",
   "source": [
    "\n",
    "\n",
    "def fetch_n_hop_neighbourhood(start_node_type: NodeType, start_node_id: str, node_attr: str, node_types: list = None, edge_types: list = None, max_level: int = 6):\n",
    "    with driver.session() as session:\n",
    "        node_filter = '|'.join(\n",
    "            [nt.value for nt in NodeType] if node_types is None else \n",
    "            [nt.value for nt in node_types]\n",
    "        )\n",
    "        edge_filter = '|'.join(\n",
    "            [f\"<{et.value}\" for et in EdgeType] if edge_types is None else \n",
    "            [f\"<{et.value}\" for et in edge_types]\n",
    "        )\n",
    "        \n",
    "        query = f\"\"\"\n",
    "                MATCH (start:{start_node_type.value} {{id: '{start_node_id}'}})\n",
    "                CALL apoc.path.subgraphAll(start, {{\n",
    "                  maxLevel: {max_level},\n",
    "                  relationshipFilter: '{edge_filter}',\n",
    "                  labelFilter: '+{node_filter}'\n",
    "                }}) YIELD nodes, relationships\n",
    "                RETURN nodes, relationships\n",
    "            \"\"\"\n",
    "        result = session.run(query)\n",
    "        data = result.single()\n",
    "        nodes = data[\"nodes\"]\n",
    "        relationships = data[\"relationships\"]\n",
    "\n",
    "        # Process nodes\n",
    "        node_data = []\n",
    "        for node in nodes:\n",
    "            node_id = node.get(\"id\")\n",
    "            attr = node.get(node_attr, None)\n",
    "            node_data.append({\"nodeId\": node_id, node_attr: attr, \"nodeLabels\": list(node.labels)})\n",
    "        \n",
    "        node_df = pd.DataFrame(node_data)\n",
    "        \n",
    "        # Process relationships\n",
    "        edge_dict = {}\n",
    "        for rel in relationships:\n",
    "            if rel.type not in edge_dict:\n",
    "                edge_dict[rel.type] = [[], []]\n",
    "            source_id = rel.start_node.get(\"id\")\n",
    "            target_id = rel.end_node.get(\"id\")\n",
    "            \n",
    "            edge_dict[rel.type][0].append(source_id)\n",
    "            edge_dict[rel.type][1].append(target_id)\n",
    "    \n",
    "    return node_df, edge_dict"
   ],
   "id": "e70ec590b134a545",
   "outputs": [],
   "execution_count": 65
  },
  {
   "metadata": {
    "ExecuteTime": {
     "end_time": "2024-08-18T18:04:57.000461Z",
     "start_time": "2024-08-18T18:04:56.997520Z"
    }
   },
   "cell_type": "code",
   "source": [
    "def normalize_topology(new_idx_to_old, topology):\n",
    "    # Reverse index mapping based on new idx -> old idx\n",
    "    old_idx_to_new = dict((v, k) for k, v in new_idx_to_old.items())\n",
    "    return {rel_type: [[old_idx_to_new[node_id] for node_id in nodes] for nodes in topology] for rel_type, topology in topology.items()}\n",
    "\n",
    "def create_edge_index(topology):\n",
    "    edge_index = []\n",
    "    edge_features = []\n",
    "    for rel_type, nodes in topology.items():\n",
    "        src_nodes, dst_nodes = nodes\n",
    "        edges = torch.tensor([src_nodes, dst_nodes], dtype=torch.long)\n",
    "        edge_index.append(edges)\n",
    "        edge_feature_vec = edge_one_hot[rel_type]\n",
    "        edge_features.extend([edge_feature_vec for _ in range(len(src_nodes))])\n",
    "    return torch.cat(edge_index, dim=1), torch.vstack(edge_features)\n",
    "\n",
    "def project_node_embeddings(node_df):\n",
    "    def stack_one_hot(row):\n",
    "        one_hot_enc = node_one_hot[row[\"nodeLabels\"][0]]\n",
    "        return torch.hstack((one_hot_enc, torch.tensor(row[\"vec\"])))\n",
    "    return node_df.apply(stack_one_hot, axis=1)"
   ],
   "id": "5e3f57dde09c71f9",
   "outputs": [],
   "execution_count": 66
  },
  {
   "metadata": {
    "ExecuteTime": {
     "end_time": "2024-08-18T18:04:57.591020Z",
     "start_time": "2024-08-18T18:04:57.587800Z"
    }
   },
   "cell_type": "code",
   "source": [
    "included_nodes = [\n",
    "    NodeType.PUBLICATION, \n",
    "    NodeType.VENUE, \n",
    "    NodeType.ORGANIZATION,\n",
    "    NodeType.AUTHOR,\n",
    "    NodeType.CO_AUTHOR\n",
    "]\n",
    "included_edges = [\n",
    "    EdgeType.PUB_VENUE, \n",
    "    EdgeType.PUB_ORG, \n",
    "    EdgeType.SIM_VENUE,\n",
    "    EdgeType.SIM_ORG,\n",
    "    EdgeType.ORG_PUB, \n",
    "    EdgeType.VENUE_PUB,\n",
    "    EdgeType.PUB_AUTHOR,\n",
    "    EdgeType.AUTHOR_PUB,\n",
    "    EdgeType.AUTHOR_CO_AUTHOR,\n",
    "    EdgeType.CO_AUTHOR_AUTHOR,\n",
    "    EdgeType.PUB_CO_AUTHOR,\n",
    "    EdgeType.CO_AUTHOR_PUB,\n",
    "    EdgeType.AUTHOR_ORG,\n",
    "    EdgeType.ORG_AUTHOR,\n",
    "    EdgeType.CO_AUTHOR_ORG,\n",
    "    EdgeType.ORG_CO_AUTHOR\n",
    "]\n",
    "\n",
    "def sample_subgraph(node_list):\n",
    "    dataset = []\n",
    "    for node_id in node_list:\n",
    "        node_df, topology = fetch_n_hop_neighbourhood(\n",
    "            start_node_type=NodeType.PUBLICATION, \n",
    "            start_node_id=node_id, \n",
    "            node_attr=\"vec\",\n",
    "            node_types=included_nodes,\n",
    "            edge_types=included_edges,\n",
    "            max_level=5\n",
    "        )\n",
    "        node_df[\"vec_projected\"] = project_node_embeddings(node_df)\n",
    "        normalized_node_ids = {new_idx: old_idx for new_idx, old_idx in enumerate(node_df[\"nodeId\"])}\n",
    "        normalized_topology = normalize_topology(normalized_node_ids, topology)\n",
    "        if len(normalized_topology) == 0:\n",
    "            continue\n",
    "            \n",
    "        edge_index, edge_features = create_edge_index(normalized_topology)\n",
    "        node_features = torch.vstack(node_df[\"vec_projected\"].tolist())\n",
    "        \n",
    "        dataset.append(Data(\n",
    "            x=node_features,\n",
    "            edge_index=edge_index,\n",
    "            edge_attr=edge_features\n",
    "        ))\n",
    "    return DataLoader(dataset)"
   ],
   "id": "25f12b271e3e6d43",
   "outputs": [],
   "execution_count": 67
  },
  {
   "metadata": {
    "ExecuteTime": {
     "end_time": "2024-08-18T18:04:58.198278Z",
     "start_time": "2024-08-18T18:04:58.195048Z"
    }
   },
   "cell_type": "code",
   "source": [
    "def visualize_n_hop_neighbourhood(start_node_type: NodeType, start_node_id: str, node_attr: str, node_types: list = None, edge_types: list = None, max_level: int = 6):\n",
    "    with driver.session() as session:\n",
    "        node_filter = '|'.join(\n",
    "            [nt.value for nt in NodeType] if node_types is None else \n",
    "            [nt.value for nt in node_types]\n",
    "        )\n",
    "        edge_filter = '|'.join(\n",
    "            [f\"<{et.value}\" for et in EdgeType] if edge_types is None else \n",
    "            [f\"<{et.value}\" for et in edge_types]\n",
    "        )\n",
    "        \n",
    "        query = f\"\"\"\n",
    "                MATCH (start:{start_node_type.value} {{id: '{start_node_id}'}})\n",
    "                CALL apoc.path.subgraphAll(start, {{\n",
    "                  maxLevel: {max_level},\n",
    "                  relationshipFilter: '{edge_filter}',\n",
    "                  labelFilter: '+{node_filter}'\n",
    "                }}) YIELD nodes, relationships\n",
    "                RETURN nodes, relationships\n",
    "            \"\"\"\n",
    "        result = session.run(query)\n",
    "        data = result.single()\n",
    "        nodes = data[\"nodes\"]\n",
    "        relationships = data[\"relationships\"]\n",
    "\n",
    "        G = nx.Graph()\n",
    "\n",
    "        for node in nodes:\n",
    "            node_id = node.get(\"id\")\n",
    "            attr = node.get(node_attr, None)\n",
    "            G.add_node(node_id, label=node.labels, vec=attr)\n",
    "\n",
    "        for rel in relationships:\n",
    "            source_id = rel.start_node.get(\"id\")\n",
    "            target_id = rel.end_node.get(\"id\")\n",
    "            G.add_edge(source_id, target_id, type=rel.type)\n",
    "\n",
    "        return G"
   ],
   "id": "44d8164c80527b84",
   "outputs": [],
   "execution_count": 68
  },
  {
   "metadata": {
    "ExecuteTime": {
     "end_time": "2024-08-18T18:04:58.786838Z",
     "start_time": "2024-08-18T18:04:58.773250Z"
    }
   },
   "cell_type": "code",
   "source": [
    "def plot_graph(G):\n",
    "    pos = nx.spring_layout(G)\n",
    "\n",
    "    edge_trace = []\n",
    "    annotations = []\n",
    "\n",
    "    for edge in G.edges(data=True):\n",
    "        x0, y0 = pos[edge[0]]\n",
    "        x1, y1 = pos[edge[1]]\n",
    "\n",
    "        edge_trace.append(go.Scatter(\n",
    "            x=[x0, x1, None],\n",
    "            y=[y0, y1, None],\n",
    "            line=dict(width=1, color='#888'),\n",
    "            hoverinfo='none',\n",
    "            mode='lines'))\n",
    "\n",
    "        annotations.append(\n",
    "            dict(\n",
    "                ax=x0, ay=y0,\n",
    "                x=x1, y=y1,\n",
    "                xref='x', yref='y',\n",
    "                axref='x', ayref='y',\n",
    "                showarrow=True,\n",
    "                arrowhead=3,\n",
    "                arrowsize=1.5,\n",
    "                arrowwidth=1,\n",
    "                arrowcolor='#888'\n",
    "            )\n",
    "        )\n",
    "\n",
    "    node_trace = go.Scatter(\n",
    "        x=[],\n",
    "        y=[],\n",
    "        text=[],\n",
    "        mode='markers+text',\n",
    "        hoverinfo='text',\n",
    "        marker=dict(\n",
    "            showscale=True,\n",
    "            colorscale='YlGnBu',\n",
    "            reversescale=True,\n",
    "            color=[],\n",
    "            size=10,\n",
    "            colorbar=dict(\n",
    "                thickness=15,\n",
    "                title='Node Connections',\n",
    "                xanchor='left',\n",
    "                titleside='right'\n",
    "            ),\n",
    "        ))\n",
    "\n",
    "    for node in G.nodes(data=True):\n",
    "        x, y = pos[node[0]]\n",
    "        node_trace['x'] += tuple([x])\n",
    "        node_trace['y'] += tuple([y])\n",
    "\n",
    "        node_info = f\"{node[0]}<br>{list(node[1]['label'])[0]}\"\n",
    "        node_trace['text'] += tuple([node_info])\n",
    "        node_trace['marker']['color'] += tuple([len(G[node[0]])])\n",
    "\n",
    "    fig = go.Figure(\n",
    "        data=edge_trace + [node_trace],\n",
    "        layout=go.Layout(\n",
    "            title='<br>Subgraph',\n",
    "            titlefont=dict(size=16),\n",
    "            showlegend=False,\n",
    "            hovermode='closest',\n",
    "            margin=dict(b=0, l=0, r=0, t=0),\n",
    "            annotations=annotations,\n",
    "            xaxis=dict(showgrid=False, zeroline=False),\n",
    "            yaxis=dict(showgrid=False, zeroline=False)\n",
    "        )\n",
    "    )\n",
    "\n",
    "    fig.show()\n",
    "\n",
    "db_wrapper = DatabaseWrapper()\n",
    "\"\"\"\n",
    "for nodes in db_wrapper.iter_nodes(NodeType.PUBLICATION, [\"id\"]):\n",
    "    for node in nodes:\n",
    "        G = visualize_n_hop_neighbourhood(\n",
    "            start_node_type=NodeType.PUBLICATION, \n",
    "            start_node_id=node.get(\"id\"), \n",
    "            node_attr=\"vec\",\n",
    "            node_types=included_nodes,\n",
    "            edge_types=included_edges,\n",
    "            max_level=2\n",
    "        )\n",
    "        plot_graph(G)\n",
    "        sleep(5)\n",
    "        \n",
    "\"\"\""
   ],
   "id": "4da85a0ccf045b3",
   "outputs": [
    {
     "name": "stderr",
     "output_type": "stream",
     "text": [
      "2024-08-18 20:04:58,776 - DatabaseWrapper - INFO - Connecting to the database ...\n",
      "2024-08-18 20:04:58,784 - DatabaseWrapper - INFO - Database ready.\n"
     ]
    },
    {
     "data": {
      "text/plain": [
       "'\\nfor nodes in db_wrapper.iter_nodes(NodeType.PUBLICATION, [\"id\"]):\\n    for node in nodes:\\n        G = visualize_n_hop_neighbourhood(\\n            start_node_type=NodeType.PUBLICATION, \\n            start_node_id=node.get(\"id\"), \\n            node_attr=\"vec\",\\n            node_types=included_nodes,\\n            edge_types=included_edges,\\n            max_level=2\\n        )\\n        plot_graph(G)\\n        sleep(5)\\n        \\n'"
      ]
     },
     "execution_count": 69,
     "metadata": {},
     "output_type": "execute_result"
    }
   ],
   "execution_count": 69
  },
  {
   "metadata": {
    "ExecuteTime": {
     "end_time": "2024-08-18T18:04:59.400191Z",
     "start_time": "2024-08-18T18:04:59.398281Z"
    }
   },
   "cell_type": "code",
   "source": [
    "node_ids = []# [\"wgKatLxf\"]\n",
    "for node_id in node_ids:\n",
    "    G = visualize_n_hop_neighbourhood(\n",
    "        start_node_type=NodeType.PUBLICATION, \n",
    "        start_node_id=node_id, \n",
    "        node_attr=\"vec\",\n",
    "        node_types=included_nodes,\n",
    "        edge_types=included_edges,\n",
    "        max_level=2\n",
    "    )\n",
    "    print(len(G.nodes) * 37)\n",
    "    plot_graph(G)\n",
    "    sleep(5)"
   ],
   "id": "12efd4152d49c76f",
   "outputs": [],
   "execution_count": 70
  },
  {
   "metadata": {},
   "cell_type": "markdown",
   "source": "## Random Walk with Restarts",
   "id": "d2ed44354e8a9613"
  },
  {
   "metadata": {
    "ExecuteTime": {
     "end_time": "2024-08-18T18:04:59.980879Z",
     "start_time": "2024-08-18T18:04:59.978874Z"
    }
   },
   "cell_type": "code",
   "source": [
    "included_nodes = [\n",
    "    NodeType.PUBLICATION,\n",
    "    NodeType.VENUE,\n",
    "    NodeType.ORGANIZATION,\n",
    "    NodeType.AUTHOR,\n",
    "]\n",
    "included_edges = [\n",
    "    EdgeType.PUB_VENUE,\n",
    "    EdgeType.PUB_ORG,\n",
    "    #EdgeType.SIM_VENUE,\n",
    "    EdgeType.SIM_ORG,\n",
    "    EdgeType.ORG_PUB,\n",
    "    EdgeType.VENUE_PUB,\n",
    "    EdgeType.PUB_AUTHOR,\n",
    "    EdgeType.AUTHOR_PUB,\n",
    "    EdgeType.AUTHOR_ORG,\n",
    "    EdgeType.ORG_AUTHOR,\n",
    "]\n",
    "included_nodes = [nt.value for nt in included_nodes]\n",
    "included_edges = [et.value for et in included_edges]\n"
   ],
   "id": "468de674084389f5",
   "outputs": [],
   "execution_count": 71
  },
  {
   "metadata": {
    "ExecuteTime": {
     "end_time": "2024-08-18T18:05:02.489312Z",
     "start_time": "2024-08-18T18:05:00.650790Z"
    }
   },
   "cell_type": "code",
   "source": [
    "gds.graph.drop('projected_graph')\n",
    "G, result = gds.graph.project(\n",
    "    'projected_graph',\n",
    "    node_spec=included_nodes,\n",
    "    relationship_spec=included_edges,\n",
    "    nodeProperties=['vec'],\n",
    ")"
   ],
   "id": "63a559dca9b3ee86",
   "outputs": [
    {
     "data": {
      "text/plain": [
       "Loading:   0%|          | 0/100 [00:00<?, ?%/s]"
      ],
      "application/vnd.jupyter.widget-view+json": {
       "version_major": 2,
       "version_minor": 0,
       "model_id": "7ac95a09bdc7421a872b2cc50b01cbb8"
      }
     },
     "metadata": {},
     "output_type": "display_data"
    }
   ],
   "execution_count": 72
  },
  {
   "metadata": {
    "ExecuteTime": {
     "end_time": "2024-08-18T18:07:42.974209Z",
     "start_time": "2024-08-18T18:06:42.407079Z"
    }
   },
   "cell_type": "code",
   "source": [
    "gds.graph.drop('rwr_graph')\n",
    "gds.graph.sample.rwr(\n",
    "    'rwr_graph',\n",
    "    G,\n",
    "    max_nodes=10,\n",
    "    max_iterations=10,\n",
    "    restart_probability=0.2,\n",
    "    start_nodes=['wgKatLxf'],\n",
    ")\n",
    "gds.graph.sample.rwr(\n"
   ],
   "id": "75358e38fbb3c797",
   "outputs": [
    {
     "data": {
      "text/plain": [
       "Random walk with restarts sampling:   0%|          | 0/100 [00:00<?, ?%/s]"
      ],
      "application/vnd.jupyter.widget-view+json": {
       "version_major": 2,
       "version_minor": 0,
       "model_id": "a243b052ca204a6f8d480c24f1ed2448"
      }
     },
     "metadata": {},
     "output_type": "display_data"
    },
    {
     "data": {
      "text/plain": [
       "GraphCreateResult(graph=Graph({'graphName': 'rwr_graph', 'nodeCount': 616381, 'relationshipCount': 2095368, 'database': 'neo4j', 'configuration': {'nodeLabelStratification': False, 'relationshipProperties': {}, 'jobId': '81918428-fee9-44e5-9629-7fb40137313c', 'validateRelationships': False, 'sudo': False, 'samplingRatio': 0.15, 'relationshipProjection': {'AuthorPub': {'aggregation': 'DEFAULT', 'orientation': 'NATURAL', 'indexInverse': False, 'properties': {}, 'type': 'AuthorPub'}, 'VenuePub': {'aggregation': 'DEFAULT', 'orientation': 'NATURAL', 'indexInverse': False, 'properties': {}, 'type': 'VenuePub'}, 'OrgAuthor': {'aggregation': 'DEFAULT', 'orientation': 'NATURAL', 'indexInverse': False, 'properties': {}, 'type': 'OrgAuthor'}, 'PubAuthor': {'aggregation': 'DEFAULT', 'orientation': 'NATURAL', 'indexInverse': False, 'properties': {}, 'type': 'PubAuthor'}, 'AuthorOrg': {'aggregation': 'DEFAULT', 'orientation': 'NATURAL', 'indexInverse': False, 'properties': {}, 'type': 'AuthorOrg'}, 'PubOrg': {'aggregation': 'DEFAULT', 'orientation': 'NATURAL', 'indexInverse': False, 'properties': {}, 'type': 'PubOrg'}, 'PubVenue': {'aggregation': 'DEFAULT', 'orientation': 'NATURAL', 'indexInverse': False, 'properties': {}, 'type': 'PubVenue'}, 'SimilarOrg': {'aggregation': 'DEFAULT', 'orientation': 'NATURAL', 'indexInverse': False, 'properties': {}, 'type': 'SimilarOrg'}, 'OrgPub': {'aggregation': 'DEFAULT', 'orientation': 'NATURAL', 'indexInverse': False, 'properties': {}, 'type': 'OrgPub'}}, 'readConcurrency': 4, 'startNodes': [], 'nodeProperties': {}, 'nodeProjection': {'Venue': {'label': 'Venue', 'properties': {'vec': {'property': 'vec', 'defaultValue': None}}}, 'Author': {'label': 'Author', 'properties': {'vec': {'property': 'vec', 'defaultValue': None}}}, 'Publication': {'label': 'Publication', 'properties': {'vec': {'property': 'vec', 'defaultValue': None}}}, 'Organization': {'label': 'Organization', 'properties': {'vec': {'property': 'vec', 'defaultValue': None}}}}, 'logProgress': True, 'nodeLabels': ['*'], 'relationshipTypes': ['*'], 'creationTime': neo4j.time.DateTime(2024, 8, 18, 18, 5, 0, 657240116, tzinfo=<UTC>), 'restartProbability': 0.1}, 'schema': {'graphProperties': {}, 'nodes': {'Venue': {'vec': 'List of Float (DefaultValue(null), PERSISTENT)'}, 'Author': {'vec': 'List of Float (DefaultValue(null), PERSISTENT)'}, 'Publication': {'vec': 'List of Float (DefaultValue(null), PERSISTENT)'}, 'Organization': {'vec': 'List of Float (DefaultValue(null), PERSISTENT)'}}, 'relationships': {'AuthorPub': {}, 'VenuePub': {}, 'OrgAuthor': {}, 'PubAuthor': {}, 'AuthorOrg': {}, 'PubOrg': {}, 'PubVenue': {}, 'SimilarOrg': {}, 'OrgPub': {}}}, 'memoryUsage': '326 MiB'}), result=fromGraphName        projected_graph\n",
       "startNodeCount                   286\n",
       "graphName                  rwr_graph\n",
       "nodeCount                     616381\n",
       "relationshipCount            2095368\n",
       "projectMillis                  60460\n",
       "Name: 0, dtype: object)"
      ]
     },
     "execution_count": 74,
     "metadata": {},
     "output_type": "execute_result"
    }
   ],
   "execution_count": 74
  },
  {
   "metadata": {
    "ExecuteTime": {
     "end_time": "2024-08-18T18:06:03.050486Z",
     "start_time": "2024-08-18T18:06:03.049371Z"
    }
   },
   "cell_type": "code",
   "source": "",
   "id": "10031d45b8659fb4",
   "outputs": [],
   "execution_count": null
  }
 ],
 "metadata": {
  "kernelspec": {
   "display_name": "Python 3",
   "language": "python",
   "name": "python3"
  },
  "language_info": {
   "codemirror_mode": {
    "name": "ipython",
    "version": 2
   },
   "file_extension": ".py",
   "mimetype": "text/x-python",
   "name": "python",
   "nbconvert_exporter": "python",
   "pygments_lexer": "ipython2",
   "version": "2.7.6"
  }
 },
 "nbformat": 4,
 "nbformat_minor": 5
}
