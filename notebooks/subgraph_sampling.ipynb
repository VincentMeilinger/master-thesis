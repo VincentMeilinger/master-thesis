{
 "cells": [
  {
   "cell_type": "code",
   "id": "initial_id",
   "metadata": {
    "collapsed": true,
    "ExecuteTime": {
     "end_time": "2024-08-11T11:31:43.467051Z",
     "start_time": "2024-08-11T11:31:43.463396Z"
    }
   },
   "source": [
    "import os\n",
    "import pandas as pd\n",
    "from graphdatascience import GraphDataScience\n",
    "from neo4j import GraphDatabase\n",
    "import torch\n",
    "import torch.optim as optim\n",
    "import torch.nn.functional as F\n",
    "from torch_geometric.data import Data\n",
    "from torch_geometric.loader import DataLoader\n",
    "from torch_geometric.nn import GCNConv\n",
    "from torch_geometric.transforms import RandomNodeSplit\n",
    "import random\n",
    "import numpy as np\n",
    "\n",
    "from src.shared.database_wrapper import DatabaseWrapper\n",
    "from src.model.GAT.gat_encoder import GATv2Encoder\n",
    "from src.model.GAT.gat_decoder import GATv2Decoder\n",
    "from src.shared.graph_schema import NodeType, EdgeType, node_one_hot, edge_one_hot\n",
    "from src.shared import config\n",
    "\n",
    "import networkx as nx\n",
    "import plotly.graph_objects as go\n",
    "\n",
    "random.seed(42)\n",
    "np.random.seed(42)\n",
    "torch.manual_seed(42)\n",
    "torch.cuda.manual_seed_all(42)"
   ],
   "outputs": [],
   "execution_count": 91
  },
  {
   "metadata": {
    "ExecuteTime": {
     "end_time": "2024-08-11T11:31:43.474340Z",
     "start_time": "2024-08-11T11:31:43.469488Z"
    }
   },
   "cell_type": "code",
   "source": [
    "driver = GraphDatabase.driver(config.DB_URI, auth=(config.DB_USER, config.DB_PASSWORD))\n",
    "\n",
    "def fetch_n_hop_neighbourhood(start_node_type: NodeType, start_node_id: str, node_attr: str, node_types: list = None, edge_types: list = None, max_level: int = 6):\n",
    "    with driver.session() as session:\n",
    "        node_filter = '|'.join(\n",
    "            [nt.value for nt in NodeType] if node_types is None else \n",
    "            [nt.value for nt in node_types]\n",
    "        )\n",
    "        edge_filter = '|'.join(\n",
    "            [f\"<{et.value}\" for et in EdgeType] if edge_types is None else \n",
    "            [f\"<{et.value}\" for et in edge_types]\n",
    "        )\n",
    "        \n",
    "        query = f\"\"\"\n",
    "                MATCH (start:{start_node_type.value} {{id: '{start_node_id}'}})\n",
    "                CALL apoc.path.subgraphAll(start, {{\n",
    "                  maxLevel: {max_level},\n",
    "                  relationshipFilter: '{edge_filter}',\n",
    "                  labelFilter: '+{node_filter}'\n",
    "                }}) YIELD nodes, relationships\n",
    "                RETURN nodes, relationships\n",
    "            \"\"\"\n",
    "        result = session.run(query)\n",
    "        data = result.single()\n",
    "        nodes = data[\"nodes\"]\n",
    "        relationships = data[\"relationships\"]\n",
    "\n",
    "        # Process nodes\n",
    "        node_data = []\n",
    "        for node in nodes:\n",
    "            node_id = node.get(\"id\")\n",
    "            attr = node.get(node_attr, None)\n",
    "            node_data.append({\"nodeId\": node_id, node_attr: attr, \"nodeLabels\": list(node.labels)})\n",
    "        \n",
    "        node_df = pd.DataFrame(node_data)\n",
    "        \n",
    "        # Process relationships\n",
    "        edge_dict = {}\n",
    "        for rel in relationships:\n",
    "            if rel.type not in edge_dict:\n",
    "                edge_dict[rel.type] = [[], []]\n",
    "            source_id = rel.start_node.get(\"id\")\n",
    "            target_id = rel.end_node.get(\"id\")\n",
    "            \n",
    "            edge_dict[rel.type][0].append(source_id)\n",
    "            edge_dict[rel.type][1].append(target_id)\n",
    "    \n",
    "    return node_df, edge_dict"
   ],
   "id": "e70ec590b134a545",
   "outputs": [],
   "execution_count": 92
  },
  {
   "metadata": {
    "ExecuteTime": {
     "end_time": "2024-08-11T11:31:43.478908Z",
     "start_time": "2024-08-11T11:31:43.475565Z"
    }
   },
   "cell_type": "code",
   "source": [
    "def normalize_topology(new_idx_to_old, topology):\n",
    "    # Reverse index mapping based on new idx -> old idx\n",
    "    old_idx_to_new = dict((v, k) for k, v in new_idx_to_old.items())\n",
    "    return {rel_type: [[old_idx_to_new[node_id] for node_id in nodes] for nodes in topology] for rel_type, topology in topology.items()}\n",
    "\n",
    "def create_edge_index(topology):\n",
    "    edge_index = []\n",
    "    edge_features = []\n",
    "    for rel_type, nodes in topology.items():\n",
    "        src_nodes, dst_nodes = nodes\n",
    "        edges = torch.tensor([src_nodes, dst_nodes], dtype=torch.long)\n",
    "        edge_index.append(edges)\n",
    "        edge_feature_vec = edge_one_hot[rel_type]\n",
    "        edge_features.extend([edge_feature_vec for _ in range(len(src_nodes))])\n",
    "    return torch.cat(edge_index, dim=1), torch.vstack(edge_features)\n",
    "\n",
    "def project_node_embeddings(node_df):\n",
    "    def stack_one_hot(row):\n",
    "        one_hot_enc = node_one_hot[row[\"nodeLabels\"][0]]\n",
    "        return torch.hstack((one_hot_enc, torch.tensor(row[\"vec\"])))\n",
    "    return node_df.apply(stack_one_hot, axis=1)"
   ],
   "id": "5e3f57dde09c71f9",
   "outputs": [],
   "execution_count": 93
  },
  {
   "metadata": {
    "ExecuteTime": {
     "end_time": "2024-08-11T11:31:43.483394Z",
     "start_time": "2024-08-11T11:31:43.479777Z"
    }
   },
   "cell_type": "code",
   "source": [
    "included_nodes = [\n",
    "    NodeType.PUBLICATION, \n",
    "    NodeType.VENUE, \n",
    "    NodeType.ORGANIZATION,\n",
    "    NodeType.AUTHOR,\n",
    "    NodeType.CO_AUTHOR\n",
    "]\n",
    "included_edges = [\n",
    "    EdgeType.PUB_VENUE, \n",
    "    EdgeType.PUB_ORG, \n",
    "    EdgeType.SIM_VENUE,\n",
    "    EdgeType.SIM_ORG,\n",
    "    EdgeType.ORG_PUB, \n",
    "    EdgeType.VENUE_PUB,\n",
    "    EdgeType.PUB_AUTHOR,\n",
    "    EdgeType.AUTHOR_PUB,\n",
    "    EdgeType.AUTHOR_CO_AUTHOR,\n",
    "    EdgeType.CO_AUTHOR_AUTHOR,\n",
    "    EdgeType.PUB_CO_AUTHOR,\n",
    "    EdgeType.CO_AUTHOR_PUB,\n",
    "    EdgeType.AUTHOR_ORG,\n",
    "    EdgeType.ORG_AUTHOR,\n",
    "    EdgeType.CO_AUTHOR_ORG,\n",
    "    EdgeType.ORG_CO_AUTHOR\n",
    "]\n",
    "\n",
    "def sample_subgraph(node_list):\n",
    "    dataset = []\n",
    "    for node_id in node_list:\n",
    "        node_df, topology = fetch_n_hop_neighbourhood(\n",
    "            start_node_type=NodeType.PUBLICATION, \n",
    "            start_node_id=node_id, \n",
    "            node_attr=\"vec\",\n",
    "            node_types=included_nodes,\n",
    "            edge_types=included_edges,\n",
    "            max_level=5\n",
    "        )\n",
    "        node_df[\"vec_projected\"] = project_node_embeddings(node_df)\n",
    "        normalized_node_ids = {new_idx: old_idx for new_idx, old_idx in enumerate(node_df[\"nodeId\"])}\n",
    "        normalized_topology = normalize_topology(normalized_node_ids, topology)\n",
    "        if len(normalized_topology) == 0:\n",
    "            continue\n",
    "            \n",
    "        edge_index, edge_features = create_edge_index(normalized_topology)\n",
    "        node_features = torch.vstack(node_df[\"vec_projected\"].tolist())\n",
    "        \n",
    "        dataset.append(Data(\n",
    "            x=node_features,\n",
    "            edge_index=edge_index,\n",
    "            edge_attr=edge_features\n",
    "        ))\n",
    "    return DataLoader(dataset)"
   ],
   "id": "25f12b271e3e6d43",
   "outputs": [],
   "execution_count": 94
  },
  {
   "metadata": {
    "ExecuteTime": {
     "end_time": "2024-08-11T11:31:43.488648Z",
     "start_time": "2024-08-11T11:31:43.484675Z"
    }
   },
   "cell_type": "code",
   "source": [
    "def visualize_n_hop_neighbourhood(start_node_type: NodeType, start_node_id: str, node_attr: str, node_types: list = None, edge_types: list = None, max_level: int = 6):\n",
    "    with driver.session() as session:\n",
    "        node_filter = '|'.join(\n",
    "            [nt.value for nt in NodeType] if node_types is None else \n",
    "            [nt.value for nt in node_types]\n",
    "        )\n",
    "        edge_filter = '|'.join(\n",
    "            [f\"<{et.value}\" for et in EdgeType] if edge_types is None else \n",
    "            [f\"<{et.value}\" for et in edge_types]\n",
    "        )\n",
    "        \n",
    "        query = f\"\"\"\n",
    "                MATCH (start:{start_node_type.value} {{id: '{start_node_id}'}})\n",
    "                CALL apoc.path.subgraphAll(start, {{\n",
    "                  maxLevel: {max_level},\n",
    "                  relationshipFilter: '{edge_filter}',\n",
    "                  labelFilter: '+{node_filter}'\n",
    "                }}) YIELD nodes, relationships\n",
    "                RETURN nodes, relationships\n",
    "            \"\"\"\n",
    "        result = session.run(query)\n",
    "        data = result.single()\n",
    "        nodes = data[\"nodes\"]\n",
    "        relationships = data[\"relationships\"]\n",
    "\n",
    "        G = nx.Graph()\n",
    "\n",
    "        for node in nodes:\n",
    "            node_id = node.get(\"id\")\n",
    "            attr = node.get(node_attr, None)\n",
    "            G.add_node(node_id, label=node.labels, vec=attr)\n",
    "\n",
    "        for rel in relationships:\n",
    "            source_id = rel.start_node.get(\"id\")\n",
    "            target_id = rel.end_node.get(\"id\")\n",
    "            G.add_edge(source_id, target_id, type=rel.type)\n",
    "\n",
    "        return G"
   ],
   "id": "44d8164c80527b84",
   "outputs": [],
   "execution_count": 95
  },
  {
   "metadata": {
    "ExecuteTime": {
     "end_time": "2024-08-11T11:31:43.519746Z",
     "start_time": "2024-08-11T11:31:43.489656Z"
    }
   },
   "cell_type": "code",
   "source": [
    "def plot_graph(G):\n",
    "    pos = nx.spring_layout(G)\n",
    "\n",
    "    edge_trace = []\n",
    "    annotations = []\n",
    "\n",
    "    for edge in G.edges(data=True):\n",
    "        x0, y0 = pos[edge[0]]\n",
    "        x1, y1 = pos[edge[1]]\n",
    "\n",
    "        edge_trace.append(go.Scatter(\n",
    "            x=[x0, x1, None],\n",
    "            y=[y0, y1, None],\n",
    "            line=dict(width=1, color='#888'),\n",
    "            hoverinfo='none',\n",
    "            mode='lines'))\n",
    "\n",
    "        annotations.append(\n",
    "            dict(\n",
    "                ax=x0, ay=y0,\n",
    "                x=x1, y=y1,\n",
    "                xref='x', yref='y',\n",
    "                axref='x', ayref='y',\n",
    "                showarrow=True,\n",
    "                arrowhead=3,\n",
    "                arrowsize=1.5,\n",
    "                arrowwidth=1,\n",
    "                arrowcolor='#888'\n",
    "            )\n",
    "        )\n",
    "\n",
    "    node_trace = go.Scatter(\n",
    "        x=[],\n",
    "        y=[],\n",
    "        text=[],\n",
    "        mode='markers+text',\n",
    "        hoverinfo='text',\n",
    "        marker=dict(\n",
    "            showscale=True,\n",
    "            colorscale='YlGnBu',\n",
    "            reversescale=True,\n",
    "            color=[],\n",
    "            size=10,\n",
    "            colorbar=dict(\n",
    "                thickness=15,\n",
    "                title='Node Connections',\n",
    "                xanchor='left',\n",
    "                titleside='right'\n",
    "            ),\n",
    "        ))\n",
    "\n",
    "    for node in G.nodes(data=True):\n",
    "        x, y = pos[node[0]]\n",
    "        node_trace['x'] += tuple([x])\n",
    "        node_trace['y'] += tuple([y])\n",
    "\n",
    "        node_info = f\"{node[0]}<br>{list(node[1]['label'])[0]}\"\n",
    "        node_trace['text'] += tuple([node_info])\n",
    "        node_trace['marker']['color'] += tuple([len(G[node[0]])])\n",
    "\n",
    "    fig = go.Figure(data=edge_trace + [node_trace],\n",
    "                    layout=go.Layout(\n",
    "                        title='<br>Subgraph',\n",
    "                        titlefont=dict(size=16),\n",
    "                        showlegend=False,\n",
    "                        hovermode='closest',\n",
    "                        margin=dict(b=0, l=0, r=0, t=0),\n",
    "                        annotations=annotations,\n",
    "                        xaxis=dict(showgrid=False, zeroline=False),\n",
    "                        yaxis=dict(showgrid=False, zeroline=False)))\n",
    "\n",
    "    fig.show()\n",
    "\n",
    "G = visualize_n_hop_neighbourhood(\n",
    "    start_node_type=NodeType.PUBLICATION, \n",
    "    start_node_id=\"V1JgT3OM\", \n",
    "    node_attr=\"vec\",\n",
    "    node_types=included_nodes,\n",
    "    edge_types=included_edges,\n",
    "    max_level=2\n",
    ")\n",
    "plot_graph(G)"
   ],
   "id": "4da85a0ccf045b3",
   "outputs": [
    {
     "name": "stdout",
     "output_type": "stream",
     "text": [
      "V1JgT3OM  -->  6550333b-50aa-4c13-bb21-060af388dee5\n",
      "V1JgT3OM  -->  2e41be43-6000-4e7d-9d3c-8b141d729034\n",
      "V1JgT3OM  -->  7eb91ea7-be4a-49a1-b9fa-05319d25e9db\n",
      "V1JgT3OM  -->  9b7a700a-5f8f-4229-99e3-0e263cba49c8\n",
      "V1JgT3OM  -->  -1778888177\n",
      "V1JgT3OM  -->  746119487\n",
      "V1JgT3OM  -->  -206519655\n",
      "V1JgT3OM  -->  -1020290878\n",
      "V1JgT3OM  -->  be588d2f-ac9c-43e8-8e19-ea152667c347\n",
      "V1JgT3OM  -->  -544914061\n",
      "-1778888177  -->  7eb91ea7-be4a-49a1-b9fa-05319d25e9db\n",
      "-1778888177  -->  V1JgT3OM\n",
      "746119487  -->  2e41be43-6000-4e7d-9d3c-8b141d729034\n",
      "746119487  -->  V1JgT3OM\n",
      "-1020290878  -->  9b7a700a-5f8f-4229-99e3-0e263cba49c8\n",
      "-1020290878  -->  V1JgT3OM\n",
      "-206519655  -->  6550333b-50aa-4c13-bb21-060af388dee5\n",
      "-206519655  -->  V1JgT3OM\n",
      "-206519655  -->  be588d2f-ac9c-43e8-8e19-ea152667c347\n",
      "-544914061  -->  1ViMGRjR\n",
      "-544914061  -->  8B8GhlnI\n",
      "-544914061  -->  AHEIpRm4\n",
      "-544914061  -->  V1JgT3OM\n",
      "be588d2f-ac9c-43e8-8e19-ea152667c347  -->  -206519655\n",
      "be588d2f-ac9c-43e8-8e19-ea152667c347  -->  V1JgT3OM\n",
      "7eb91ea7-be4a-49a1-b9fa-05319d25e9db  -->  -1778888177\n",
      "7eb91ea7-be4a-49a1-b9fa-05319d25e9db  -->  V1JgT3OM\n",
      "6550333b-50aa-4c13-bb21-060af388dee5  -->  -206519655\n",
      "6550333b-50aa-4c13-bb21-060af388dee5  -->  V1JgT3OM\n",
      "9b7a700a-5f8f-4229-99e3-0e263cba49c8  -->  -1020290878\n",
      "9b7a700a-5f8f-4229-99e3-0e263cba49c8  -->  V1JgT3OM\n",
      "2e41be43-6000-4e7d-9d3c-8b141d729034  -->  746119487\n",
      "2e41be43-6000-4e7d-9d3c-8b141d729034  -->  V1JgT3OM\n",
      "1ViMGRjR  -->  -544914061\n",
      "8B8GhlnI  -->  -544914061\n",
      "AHEIpRm4  -->  -544914061\n"
     ]
    },
    {
     "data": {
      "application/vnd.plotly.v1+json": {
       "data": [
        {
         "hoverinfo": "none",
         "line": {
          "color": "#888",
          "width": 1
         },
         "mode": "lines",
         "x": [
          0.15928529768155106,
          0.3305373664635927,
          null
         ],
         "y": [
          -0.1902025909926222,
          0.26570041512424003,
          null
         ],
         "type": "scatter"
        },
        {
         "hoverinfo": "none",
         "line": {
          "color": "#888",
          "width": 1
         },
         "mode": "lines",
         "x": [
          0.15928529768155106,
          0.17103823475132754,
          null
         ],
         "y": [
          -0.1902025909926222,
          -0.7443370198726719,
          null
         ],
         "type": "scatter"
        },
        {
         "hoverinfo": "none",
         "line": {
          "color": "#888",
          "width": 1
         },
         "mode": "lines",
         "x": [
          0.15928529768155106,
          0.5161910495323743,
          null
         ],
         "y": [
          -0.1902025909926222,
          -0.6256979134372669,
          null
         ],
         "type": "scatter"
        },
        {
         "hoverinfo": "none",
         "line": {
          "color": "#888",
          "width": 1
         },
         "mode": "lines",
         "x": [
          0.15928529768155106,
          -0.30958049396661086,
          null
         ],
         "y": [
          -0.1902025909926222,
          -0.41128896362689876,
          null
         ],
         "type": "scatter"
        },
        {
         "hoverinfo": "none",
         "line": {
          "color": "#888",
          "width": 1
         },
         "mode": "lines",
         "x": [
          0.15928529768155106,
          0.655733775127641,
          null
         ],
         "y": [
          -0.1902025909926222,
          -0.4383778296244963,
          null
         ],
         "type": "scatter"
        },
        {
         "hoverinfo": "none",
         "line": {
          "color": "#888",
          "width": 1
         },
         "mode": "lines",
         "x": [
          0.15928529768155106,
          -0.058779275133751904,
          null
         ],
         "y": [
          -0.1902025909926222,
          -0.6995300986710432,
          null
         ],
         "type": "scatter"
        },
        {
         "hoverinfo": "none",
         "line": {
          "color": "#888",
          "width": 1
         },
         "mode": "lines",
         "x": [
          0.15928529768155106,
          0.5533227147438393,
          null
         ],
         "y": [
          -0.1902025909926222,
          0.14225901107685476,
          null
         ],
         "type": "scatter"
        },
        {
         "hoverinfo": "none",
         "line": {
          "color": "#888",
          "width": 1
         },
         "mode": "lines",
         "x": [
          0.15928529768155106,
          -0.28678168046176583,
          null
         ],
         "y": [
          -0.1902025909926222,
          -0.16543719314857272,
          null
         ],
         "type": "scatter"
        },
        {
         "hoverinfo": "none",
         "line": {
          "color": "#888",
          "width": 1
         },
         "mode": "lines",
         "x": [
          0.15928529768155106,
          0.6950831989777311,
          null
         ],
         "y": [
          -0.1902025909926222,
          -0.0639623479712171,
          null
         ],
         "type": "scatter"
        },
        {
         "hoverinfo": "none",
         "line": {
          "color": "#888",
          "width": 1
         },
         "mode": "lines",
         "x": [
          0.15928529768155106,
          -0.401123704069683,
          null
         ],
         "y": [
          -0.1902025909926222,
          0.4861136446264234,
          null
         ],
         "type": "scatter"
        },
        {
         "hoverinfo": "none",
         "line": {
          "color": "#888",
          "width": 1
         },
         "mode": "lines",
         "x": [
          0.655733775127641,
          0.5161910495323743,
          null
         ],
         "y": [
          -0.4383778296244963,
          -0.6256979134372669,
          null
         ],
         "type": "scatter"
        },
        {
         "hoverinfo": "none",
         "line": {
          "color": "#888",
          "width": 1
         },
         "mode": "lines",
         "x": [
          -0.058779275133751904,
          0.17103823475132754,
          null
         ],
         "y": [
          -0.6995300986710432,
          -0.7443370198726719,
          null
         ],
         "type": "scatter"
        },
        {
         "hoverinfo": "none",
         "line": {
          "color": "#888",
          "width": 1
         },
         "mode": "lines",
         "x": [
          -0.28678168046176583,
          -0.30958049396661086,
          null
         ],
         "y": [
          -0.16543719314857272,
          -0.41128896362689876,
          null
         ],
         "type": "scatter"
        },
        {
         "hoverinfo": "none",
         "line": {
          "color": "#888",
          "width": 1
         },
         "mode": "lines",
         "x": [
          0.5533227147438393,
          0.3305373664635927,
          null
         ],
         "y": [
          0.14225901107685476,
          0.26570041512424003,
          null
         ],
         "type": "scatter"
        },
        {
         "hoverinfo": "none",
         "line": {
          "color": "#888",
          "width": 1
         },
         "mode": "lines",
         "x": [
          0.5533227147438393,
          0.6950831989777311,
          null
         ],
         "y": [
          0.14225901107685476,
          -0.0639623479712171,
          null
         ],
         "type": "scatter"
        },
        {
         "hoverinfo": "none",
         "line": {
          "color": "#888",
          "width": 1
         },
         "mode": "lines",
         "x": [
          -0.401123704069683,
          -0.9175099435832583,
          null
         ],
         "y": [
          0.4861136446264234,
          0.5490958094143011,
          null
         ],
         "type": "scatter"
        },
        {
         "hoverinfo": "none",
         "line": {
          "color": "#888",
          "width": 1
         },
         "mode": "lines",
         "x": [
          -0.401123704069683,
          -0.3657354333685913,
          null
         ],
         "y": [
          0.4861136446264234,
          1.0,
          null
         ],
         "type": "scatter"
        },
        {
         "hoverinfo": "none",
         "line": {
          "color": "#888",
          "width": 1
         },
         "mode": "lines",
         "x": [
          -0.401123704069683,
          -0.7416811066943944,
          null
         ],
         "y": [
          0.4861136446264234,
          0.8956650771029688,
          null
         ],
         "type": "scatter"
        },
        {
         "hoverinfo": "text",
         "marker": {
          "color": [
           10,
           2,
           2,
           2,
           3,
           4,
           2,
           2,
           2,
           2,
           2,
           1,
           1,
           1
          ],
          "colorbar": {
           "thickness": 15,
           "title": {
            "side": "right",
            "text": "Node Connections"
           },
           "xanchor": "left"
          },
          "colorscale": [
           [
            0.0,
            "rgb(255,255,217)"
           ],
           [
            0.125,
            "rgb(237,248,177)"
           ],
           [
            0.25,
            "rgb(199,233,180)"
           ],
           [
            0.375,
            "rgb(127,205,187)"
           ],
           [
            0.5,
            "rgb(65,182,196)"
           ],
           [
            0.625,
            "rgb(29,145,192)"
           ],
           [
            0.75,
            "rgb(34,94,168)"
           ],
           [
            0.875,
            "rgb(37,52,148)"
           ],
           [
            1.0,
            "rgb(8,29,88)"
           ]
          ],
          "reversescale": true,
          "showscale": true,
          "size": 10
         },
         "mode": "markers+text",
         "text": [
          "V1JgT3OM<br>Publication",
          "-1778888177<br>Organization",
          "746119487<br>Organization",
          "-1020290878<br>Organization",
          "-206519655<br>Organization",
          "-544914061<br>Venue",
          "be588d2f-ac9c-43e8-8e19-ea152667c347<br>Author",
          "7eb91ea7-be4a-49a1-b9fa-05319d25e9db<br>CoAuthor",
          "6550333b-50aa-4c13-bb21-060af388dee5<br>CoAuthor",
          "9b7a700a-5f8f-4229-99e3-0e263cba49c8<br>CoAuthor",
          "2e41be43-6000-4e7d-9d3c-8b141d729034<br>CoAuthor",
          "1ViMGRjR<br>Publication",
          "8B8GhlnI<br>Publication",
          "AHEIpRm4<br>Publication"
         ],
         "x": [
          0.15928529768155106,
          0.655733775127641,
          -0.058779275133751904,
          -0.28678168046176583,
          0.5533227147438393,
          -0.401123704069683,
          0.6950831989777311,
          0.5161910495323743,
          0.3305373664635927,
          -0.30958049396661086,
          0.17103823475132754,
          -0.9175099435832583,
          -0.3657354333685913,
          -0.7416811066943944
         ],
         "y": [
          -0.1902025909926222,
          -0.4383778296244963,
          -0.6995300986710432,
          -0.16543719314857272,
          0.14225901107685476,
          0.4861136446264234,
          -0.0639623479712171,
          -0.6256979134372669,
          0.26570041512424003,
          -0.41128896362689876,
          -0.7443370198726719,
          0.5490958094143011,
          1.0,
          0.8956650771029688
         ],
         "type": "scatter"
        }
       ],
       "layout": {
        "annotations": [
         {
          "arrowcolor": "#888",
          "arrowhead": 3,
          "arrowsize": 1.5,
          "arrowwidth": 1,
          "ax": 0.15928529768155106,
          "axref": "x",
          "ay": -0.1902025909926222,
          "ayref": "y",
          "showarrow": true,
          "x": 0.3305373664635927,
          "xref": "x",
          "y": 0.26570041512424003,
          "yref": "y"
         },
         {
          "arrowcolor": "#888",
          "arrowhead": 3,
          "arrowsize": 1.5,
          "arrowwidth": 1,
          "ax": 0.15928529768155106,
          "axref": "x",
          "ay": -0.1902025909926222,
          "ayref": "y",
          "showarrow": true,
          "x": 0.17103823475132754,
          "xref": "x",
          "y": -0.7443370198726719,
          "yref": "y"
         },
         {
          "arrowcolor": "#888",
          "arrowhead": 3,
          "arrowsize": 1.5,
          "arrowwidth": 1,
          "ax": 0.15928529768155106,
          "axref": "x",
          "ay": -0.1902025909926222,
          "ayref": "y",
          "showarrow": true,
          "x": 0.5161910495323743,
          "xref": "x",
          "y": -0.6256979134372669,
          "yref": "y"
         },
         {
          "arrowcolor": "#888",
          "arrowhead": 3,
          "arrowsize": 1.5,
          "arrowwidth": 1,
          "ax": 0.15928529768155106,
          "axref": "x",
          "ay": -0.1902025909926222,
          "ayref": "y",
          "showarrow": true,
          "x": -0.30958049396661086,
          "xref": "x",
          "y": -0.41128896362689876,
          "yref": "y"
         },
         {
          "arrowcolor": "#888",
          "arrowhead": 3,
          "arrowsize": 1.5,
          "arrowwidth": 1,
          "ax": 0.15928529768155106,
          "axref": "x",
          "ay": -0.1902025909926222,
          "ayref": "y",
          "showarrow": true,
          "x": 0.655733775127641,
          "xref": "x",
          "y": -0.4383778296244963,
          "yref": "y"
         },
         {
          "arrowcolor": "#888",
          "arrowhead": 3,
          "arrowsize": 1.5,
          "arrowwidth": 1,
          "ax": 0.15928529768155106,
          "axref": "x",
          "ay": -0.1902025909926222,
          "ayref": "y",
          "showarrow": true,
          "x": -0.058779275133751904,
          "xref": "x",
          "y": -0.6995300986710432,
          "yref": "y"
         },
         {
          "arrowcolor": "#888",
          "arrowhead": 3,
          "arrowsize": 1.5,
          "arrowwidth": 1,
          "ax": 0.15928529768155106,
          "axref": "x",
          "ay": -0.1902025909926222,
          "ayref": "y",
          "showarrow": true,
          "x": 0.5533227147438393,
          "xref": "x",
          "y": 0.14225901107685476,
          "yref": "y"
         },
         {
          "arrowcolor": "#888",
          "arrowhead": 3,
          "arrowsize": 1.5,
          "arrowwidth": 1,
          "ax": 0.15928529768155106,
          "axref": "x",
          "ay": -0.1902025909926222,
          "ayref": "y",
          "showarrow": true,
          "x": -0.28678168046176583,
          "xref": "x",
          "y": -0.16543719314857272,
          "yref": "y"
         },
         {
          "arrowcolor": "#888",
          "arrowhead": 3,
          "arrowsize": 1.5,
          "arrowwidth": 1,
          "ax": 0.15928529768155106,
          "axref": "x",
          "ay": -0.1902025909926222,
          "ayref": "y",
          "showarrow": true,
          "x": 0.6950831989777311,
          "xref": "x",
          "y": -0.0639623479712171,
          "yref": "y"
         },
         {
          "arrowcolor": "#888",
          "arrowhead": 3,
          "arrowsize": 1.5,
          "arrowwidth": 1,
          "ax": 0.15928529768155106,
          "axref": "x",
          "ay": -0.1902025909926222,
          "ayref": "y",
          "showarrow": true,
          "x": -0.401123704069683,
          "xref": "x",
          "y": 0.4861136446264234,
          "yref": "y"
         },
         {
          "arrowcolor": "#888",
          "arrowhead": 3,
          "arrowsize": 1.5,
          "arrowwidth": 1,
          "ax": 0.655733775127641,
          "axref": "x",
          "ay": -0.4383778296244963,
          "ayref": "y",
          "showarrow": true,
          "x": 0.5161910495323743,
          "xref": "x",
          "y": -0.6256979134372669,
          "yref": "y"
         },
         {
          "arrowcolor": "#888",
          "arrowhead": 3,
          "arrowsize": 1.5,
          "arrowwidth": 1,
          "ax": -0.058779275133751904,
          "axref": "x",
          "ay": -0.6995300986710432,
          "ayref": "y",
          "showarrow": true,
          "x": 0.17103823475132754,
          "xref": "x",
          "y": -0.7443370198726719,
          "yref": "y"
         },
         {
          "arrowcolor": "#888",
          "arrowhead": 3,
          "arrowsize": 1.5,
          "arrowwidth": 1,
          "ax": -0.28678168046176583,
          "axref": "x",
          "ay": -0.16543719314857272,
          "ayref": "y",
          "showarrow": true,
          "x": -0.30958049396661086,
          "xref": "x",
          "y": -0.41128896362689876,
          "yref": "y"
         },
         {
          "arrowcolor": "#888",
          "arrowhead": 3,
          "arrowsize": 1.5,
          "arrowwidth": 1,
          "ax": 0.5533227147438393,
          "axref": "x",
          "ay": 0.14225901107685476,
          "ayref": "y",
          "showarrow": true,
          "x": 0.3305373664635927,
          "xref": "x",
          "y": 0.26570041512424003,
          "yref": "y"
         },
         {
          "arrowcolor": "#888",
          "arrowhead": 3,
          "arrowsize": 1.5,
          "arrowwidth": 1,
          "ax": 0.5533227147438393,
          "axref": "x",
          "ay": 0.14225901107685476,
          "ayref": "y",
          "showarrow": true,
          "x": 0.6950831989777311,
          "xref": "x",
          "y": -0.0639623479712171,
          "yref": "y"
         },
         {
          "arrowcolor": "#888",
          "arrowhead": 3,
          "arrowsize": 1.5,
          "arrowwidth": 1,
          "ax": -0.401123704069683,
          "axref": "x",
          "ay": 0.4861136446264234,
          "ayref": "y",
          "showarrow": true,
          "x": -0.9175099435832583,
          "xref": "x",
          "y": 0.5490958094143011,
          "yref": "y"
         },
         {
          "arrowcolor": "#888",
          "arrowhead": 3,
          "arrowsize": 1.5,
          "arrowwidth": 1,
          "ax": -0.401123704069683,
          "axref": "x",
          "ay": 0.4861136446264234,
          "ayref": "y",
          "showarrow": true,
          "x": -0.3657354333685913,
          "xref": "x",
          "y": 1.0,
          "yref": "y"
         },
         {
          "arrowcolor": "#888",
          "arrowhead": 3,
          "arrowsize": 1.5,
          "arrowwidth": 1,
          "ax": -0.401123704069683,
          "axref": "x",
          "ay": 0.4861136446264234,
          "ayref": "y",
          "showarrow": true,
          "x": -0.7416811066943944,
          "xref": "x",
          "y": 0.8956650771029688,
          "yref": "y"
         }
        ],
        "hovermode": "closest",
        "margin": {
         "b": 0,
         "l": 0,
         "r": 0,
         "t": 0
        },
        "showlegend": false,
        "title": {
         "font": {
          "size": 16
         },
         "text": "<br>Network graph with Edge Directions"
        },
        "xaxis": {
         "showgrid": false,
         "zeroline": false
        },
        "yaxis": {
         "showgrid": false,
         "zeroline": false
        },
        "template": {
         "data": {
          "histogram2dcontour": [
           {
            "type": "histogram2dcontour",
            "colorbar": {
             "outlinewidth": 0,
             "ticks": ""
            },
            "colorscale": [
             [
              0.0,
              "#0d0887"
             ],
             [
              0.1111111111111111,
              "#46039f"
             ],
             [
              0.2222222222222222,
              "#7201a8"
             ],
             [
              0.3333333333333333,
              "#9c179e"
             ],
             [
              0.4444444444444444,
              "#bd3786"
             ],
             [
              0.5555555555555556,
              "#d8576b"
             ],
             [
              0.6666666666666666,
              "#ed7953"
             ],
             [
              0.7777777777777778,
              "#fb9f3a"
             ],
             [
              0.8888888888888888,
              "#fdca26"
             ],
             [
              1.0,
              "#f0f921"
             ]
            ]
           }
          ],
          "choropleth": [
           {
            "type": "choropleth",
            "colorbar": {
             "outlinewidth": 0,
             "ticks": ""
            }
           }
          ],
          "histogram2d": [
           {
            "type": "histogram2d",
            "colorbar": {
             "outlinewidth": 0,
             "ticks": ""
            },
            "colorscale": [
             [
              0.0,
              "#0d0887"
             ],
             [
              0.1111111111111111,
              "#46039f"
             ],
             [
              0.2222222222222222,
              "#7201a8"
             ],
             [
              0.3333333333333333,
              "#9c179e"
             ],
             [
              0.4444444444444444,
              "#bd3786"
             ],
             [
              0.5555555555555556,
              "#d8576b"
             ],
             [
              0.6666666666666666,
              "#ed7953"
             ],
             [
              0.7777777777777778,
              "#fb9f3a"
             ],
             [
              0.8888888888888888,
              "#fdca26"
             ],
             [
              1.0,
              "#f0f921"
             ]
            ]
           }
          ],
          "heatmap": [
           {
            "type": "heatmap",
            "colorbar": {
             "outlinewidth": 0,
             "ticks": ""
            },
            "colorscale": [
             [
              0.0,
              "#0d0887"
             ],
             [
              0.1111111111111111,
              "#46039f"
             ],
             [
              0.2222222222222222,
              "#7201a8"
             ],
             [
              0.3333333333333333,
              "#9c179e"
             ],
             [
              0.4444444444444444,
              "#bd3786"
             ],
             [
              0.5555555555555556,
              "#d8576b"
             ],
             [
              0.6666666666666666,
              "#ed7953"
             ],
             [
              0.7777777777777778,
              "#fb9f3a"
             ],
             [
              0.8888888888888888,
              "#fdca26"
             ],
             [
              1.0,
              "#f0f921"
             ]
            ]
           }
          ],
          "heatmapgl": [
           {
            "type": "heatmapgl",
            "colorbar": {
             "outlinewidth": 0,
             "ticks": ""
            },
            "colorscale": [
             [
              0.0,
              "#0d0887"
             ],
             [
              0.1111111111111111,
              "#46039f"
             ],
             [
              0.2222222222222222,
              "#7201a8"
             ],
             [
              0.3333333333333333,
              "#9c179e"
             ],
             [
              0.4444444444444444,
              "#bd3786"
             ],
             [
              0.5555555555555556,
              "#d8576b"
             ],
             [
              0.6666666666666666,
              "#ed7953"
             ],
             [
              0.7777777777777778,
              "#fb9f3a"
             ],
             [
              0.8888888888888888,
              "#fdca26"
             ],
             [
              1.0,
              "#f0f921"
             ]
            ]
           }
          ],
          "contourcarpet": [
           {
            "type": "contourcarpet",
            "colorbar": {
             "outlinewidth": 0,
             "ticks": ""
            }
           }
          ],
          "contour": [
           {
            "type": "contour",
            "colorbar": {
             "outlinewidth": 0,
             "ticks": ""
            },
            "colorscale": [
             [
              0.0,
              "#0d0887"
             ],
             [
              0.1111111111111111,
              "#46039f"
             ],
             [
              0.2222222222222222,
              "#7201a8"
             ],
             [
              0.3333333333333333,
              "#9c179e"
             ],
             [
              0.4444444444444444,
              "#bd3786"
             ],
             [
              0.5555555555555556,
              "#d8576b"
             ],
             [
              0.6666666666666666,
              "#ed7953"
             ],
             [
              0.7777777777777778,
              "#fb9f3a"
             ],
             [
              0.8888888888888888,
              "#fdca26"
             ],
             [
              1.0,
              "#f0f921"
             ]
            ]
           }
          ],
          "surface": [
           {
            "type": "surface",
            "colorbar": {
             "outlinewidth": 0,
             "ticks": ""
            },
            "colorscale": [
             [
              0.0,
              "#0d0887"
             ],
             [
              0.1111111111111111,
              "#46039f"
             ],
             [
              0.2222222222222222,
              "#7201a8"
             ],
             [
              0.3333333333333333,
              "#9c179e"
             ],
             [
              0.4444444444444444,
              "#bd3786"
             ],
             [
              0.5555555555555556,
              "#d8576b"
             ],
             [
              0.6666666666666666,
              "#ed7953"
             ],
             [
              0.7777777777777778,
              "#fb9f3a"
             ],
             [
              0.8888888888888888,
              "#fdca26"
             ],
             [
              1.0,
              "#f0f921"
             ]
            ]
           }
          ],
          "mesh3d": [
           {
            "type": "mesh3d",
            "colorbar": {
             "outlinewidth": 0,
             "ticks": ""
            }
           }
          ],
          "scatter": [
           {
            "fillpattern": {
             "fillmode": "overlay",
             "size": 10,
             "solidity": 0.2
            },
            "type": "scatter"
           }
          ],
          "parcoords": [
           {
            "type": "parcoords",
            "line": {
             "colorbar": {
              "outlinewidth": 0,
              "ticks": ""
             }
            }
           }
          ],
          "scatterpolargl": [
           {
            "type": "scatterpolargl",
            "marker": {
             "colorbar": {
              "outlinewidth": 0,
              "ticks": ""
             }
            }
           }
          ],
          "bar": [
           {
            "error_x": {
             "color": "#2a3f5f"
            },
            "error_y": {
             "color": "#2a3f5f"
            },
            "marker": {
             "line": {
              "color": "#E5ECF6",
              "width": 0.5
             },
             "pattern": {
              "fillmode": "overlay",
              "size": 10,
              "solidity": 0.2
             }
            },
            "type": "bar"
           }
          ],
          "scattergeo": [
           {
            "type": "scattergeo",
            "marker": {
             "colorbar": {
              "outlinewidth": 0,
              "ticks": ""
             }
            }
           }
          ],
          "scatterpolar": [
           {
            "type": "scatterpolar",
            "marker": {
             "colorbar": {
              "outlinewidth": 0,
              "ticks": ""
             }
            }
           }
          ],
          "histogram": [
           {
            "marker": {
             "pattern": {
              "fillmode": "overlay",
              "size": 10,
              "solidity": 0.2
             }
            },
            "type": "histogram"
           }
          ],
          "scattergl": [
           {
            "type": "scattergl",
            "marker": {
             "colorbar": {
              "outlinewidth": 0,
              "ticks": ""
             }
            }
           }
          ],
          "scatter3d": [
           {
            "type": "scatter3d",
            "line": {
             "colorbar": {
              "outlinewidth": 0,
              "ticks": ""
             }
            },
            "marker": {
             "colorbar": {
              "outlinewidth": 0,
              "ticks": ""
             }
            }
           }
          ],
          "scattermapbox": [
           {
            "type": "scattermapbox",
            "marker": {
             "colorbar": {
              "outlinewidth": 0,
              "ticks": ""
             }
            }
           }
          ],
          "scatterternary": [
           {
            "type": "scatterternary",
            "marker": {
             "colorbar": {
              "outlinewidth": 0,
              "ticks": ""
             }
            }
           }
          ],
          "scattercarpet": [
           {
            "type": "scattercarpet",
            "marker": {
             "colorbar": {
              "outlinewidth": 0,
              "ticks": ""
             }
            }
           }
          ],
          "carpet": [
           {
            "aaxis": {
             "endlinecolor": "#2a3f5f",
             "gridcolor": "white",
             "linecolor": "white",
             "minorgridcolor": "white",
             "startlinecolor": "#2a3f5f"
            },
            "baxis": {
             "endlinecolor": "#2a3f5f",
             "gridcolor": "white",
             "linecolor": "white",
             "minorgridcolor": "white",
             "startlinecolor": "#2a3f5f"
            },
            "type": "carpet"
           }
          ],
          "table": [
           {
            "cells": {
             "fill": {
              "color": "#EBF0F8"
             },
             "line": {
              "color": "white"
             }
            },
            "header": {
             "fill": {
              "color": "#C8D4E3"
             },
             "line": {
              "color": "white"
             }
            },
            "type": "table"
           }
          ],
          "barpolar": [
           {
            "marker": {
             "line": {
              "color": "#E5ECF6",
              "width": 0.5
             },
             "pattern": {
              "fillmode": "overlay",
              "size": 10,
              "solidity": 0.2
             }
            },
            "type": "barpolar"
           }
          ],
          "pie": [
           {
            "automargin": true,
            "type": "pie"
           }
          ]
         },
         "layout": {
          "autotypenumbers": "strict",
          "colorway": [
           "#636efa",
           "#EF553B",
           "#00cc96",
           "#ab63fa",
           "#FFA15A",
           "#19d3f3",
           "#FF6692",
           "#B6E880",
           "#FF97FF",
           "#FECB52"
          ],
          "font": {
           "color": "#2a3f5f"
          },
          "hovermode": "closest",
          "hoverlabel": {
           "align": "left"
          },
          "paper_bgcolor": "white",
          "plot_bgcolor": "#E5ECF6",
          "polar": {
           "bgcolor": "#E5ECF6",
           "angularaxis": {
            "gridcolor": "white",
            "linecolor": "white",
            "ticks": ""
           },
           "radialaxis": {
            "gridcolor": "white",
            "linecolor": "white",
            "ticks": ""
           }
          },
          "ternary": {
           "bgcolor": "#E5ECF6",
           "aaxis": {
            "gridcolor": "white",
            "linecolor": "white",
            "ticks": ""
           },
           "baxis": {
            "gridcolor": "white",
            "linecolor": "white",
            "ticks": ""
           },
           "caxis": {
            "gridcolor": "white",
            "linecolor": "white",
            "ticks": ""
           }
          },
          "coloraxis": {
           "colorbar": {
            "outlinewidth": 0,
            "ticks": ""
           }
          },
          "colorscale": {
           "sequential": [
            [
             0.0,
             "#0d0887"
            ],
            [
             0.1111111111111111,
             "#46039f"
            ],
            [
             0.2222222222222222,
             "#7201a8"
            ],
            [
             0.3333333333333333,
             "#9c179e"
            ],
            [
             0.4444444444444444,
             "#bd3786"
            ],
            [
             0.5555555555555556,
             "#d8576b"
            ],
            [
             0.6666666666666666,
             "#ed7953"
            ],
            [
             0.7777777777777778,
             "#fb9f3a"
            ],
            [
             0.8888888888888888,
             "#fdca26"
            ],
            [
             1.0,
             "#f0f921"
            ]
           ],
           "sequentialminus": [
            [
             0.0,
             "#0d0887"
            ],
            [
             0.1111111111111111,
             "#46039f"
            ],
            [
             0.2222222222222222,
             "#7201a8"
            ],
            [
             0.3333333333333333,
             "#9c179e"
            ],
            [
             0.4444444444444444,
             "#bd3786"
            ],
            [
             0.5555555555555556,
             "#d8576b"
            ],
            [
             0.6666666666666666,
             "#ed7953"
            ],
            [
             0.7777777777777778,
             "#fb9f3a"
            ],
            [
             0.8888888888888888,
             "#fdca26"
            ],
            [
             1.0,
             "#f0f921"
            ]
           ],
           "diverging": [
            [
             0,
             "#8e0152"
            ],
            [
             0.1,
             "#c51b7d"
            ],
            [
             0.2,
             "#de77ae"
            ],
            [
             0.3,
             "#f1b6da"
            ],
            [
             0.4,
             "#fde0ef"
            ],
            [
             0.5,
             "#f7f7f7"
            ],
            [
             0.6,
             "#e6f5d0"
            ],
            [
             0.7,
             "#b8e186"
            ],
            [
             0.8,
             "#7fbc41"
            ],
            [
             0.9,
             "#4d9221"
            ],
            [
             1,
             "#276419"
            ]
           ]
          },
          "xaxis": {
           "gridcolor": "white",
           "linecolor": "white",
           "ticks": "",
           "title": {
            "standoff": 15
           },
           "zerolinecolor": "white",
           "automargin": true,
           "zerolinewidth": 2
          },
          "yaxis": {
           "gridcolor": "white",
           "linecolor": "white",
           "ticks": "",
           "title": {
            "standoff": 15
           },
           "zerolinecolor": "white",
           "automargin": true,
           "zerolinewidth": 2
          },
          "scene": {
           "xaxis": {
            "backgroundcolor": "#E5ECF6",
            "gridcolor": "white",
            "linecolor": "white",
            "showbackground": true,
            "ticks": "",
            "zerolinecolor": "white",
            "gridwidth": 2
           },
           "yaxis": {
            "backgroundcolor": "#E5ECF6",
            "gridcolor": "white",
            "linecolor": "white",
            "showbackground": true,
            "ticks": "",
            "zerolinecolor": "white",
            "gridwidth": 2
           },
           "zaxis": {
            "backgroundcolor": "#E5ECF6",
            "gridcolor": "white",
            "linecolor": "white",
            "showbackground": true,
            "ticks": "",
            "zerolinecolor": "white",
            "gridwidth": 2
           }
          },
          "shapedefaults": {
           "line": {
            "color": "#2a3f5f"
           }
          },
          "annotationdefaults": {
           "arrowcolor": "#2a3f5f",
           "arrowhead": 0,
           "arrowwidth": 1
          },
          "geo": {
           "bgcolor": "white",
           "landcolor": "#E5ECF6",
           "subunitcolor": "white",
           "showland": true,
           "showlakes": true,
           "lakecolor": "white"
          },
          "title": {
           "x": 0.05
          },
          "mapbox": {
           "style": "light"
          }
         }
        }
       },
       "config": {
        "plotlyServerURL": "https://plot.ly"
       }
      },
      "text/html": [
       "<div>                            <div id=\"48f0ae2f-b24d-475e-bed3-a6a6cf93b2b3\" class=\"plotly-graph-div\" style=\"height:525px; width:100%;\"></div>            <script type=\"text/javascript\">                require([\"plotly\"], function(Plotly) {                    window.PLOTLYENV=window.PLOTLYENV || {};                                    if (document.getElementById(\"48f0ae2f-b24d-475e-bed3-a6a6cf93b2b3\")) {                    Plotly.newPlot(                        \"48f0ae2f-b24d-475e-bed3-a6a6cf93b2b3\",                        [{\"hoverinfo\":\"none\",\"line\":{\"color\":\"#888\",\"width\":1},\"mode\":\"lines\",\"x\":[0.15928529768155106,0.3305373664635927,null],\"y\":[-0.1902025909926222,0.26570041512424003,null],\"type\":\"scatter\"},{\"hoverinfo\":\"none\",\"line\":{\"color\":\"#888\",\"width\":1},\"mode\":\"lines\",\"x\":[0.15928529768155106,0.17103823475132754,null],\"y\":[-0.1902025909926222,-0.7443370198726719,null],\"type\":\"scatter\"},{\"hoverinfo\":\"none\",\"line\":{\"color\":\"#888\",\"width\":1},\"mode\":\"lines\",\"x\":[0.15928529768155106,0.5161910495323743,null],\"y\":[-0.1902025909926222,-0.6256979134372669,null],\"type\":\"scatter\"},{\"hoverinfo\":\"none\",\"line\":{\"color\":\"#888\",\"width\":1},\"mode\":\"lines\",\"x\":[0.15928529768155106,-0.30958049396661086,null],\"y\":[-0.1902025909926222,-0.41128896362689876,null],\"type\":\"scatter\"},{\"hoverinfo\":\"none\",\"line\":{\"color\":\"#888\",\"width\":1},\"mode\":\"lines\",\"x\":[0.15928529768155106,0.655733775127641,null],\"y\":[-0.1902025909926222,-0.4383778296244963,null],\"type\":\"scatter\"},{\"hoverinfo\":\"none\",\"line\":{\"color\":\"#888\",\"width\":1},\"mode\":\"lines\",\"x\":[0.15928529768155106,-0.058779275133751904,null],\"y\":[-0.1902025909926222,-0.6995300986710432,null],\"type\":\"scatter\"},{\"hoverinfo\":\"none\",\"line\":{\"color\":\"#888\",\"width\":1},\"mode\":\"lines\",\"x\":[0.15928529768155106,0.5533227147438393,null],\"y\":[-0.1902025909926222,0.14225901107685476,null],\"type\":\"scatter\"},{\"hoverinfo\":\"none\",\"line\":{\"color\":\"#888\",\"width\":1},\"mode\":\"lines\",\"x\":[0.15928529768155106,-0.28678168046176583,null],\"y\":[-0.1902025909926222,-0.16543719314857272,null],\"type\":\"scatter\"},{\"hoverinfo\":\"none\",\"line\":{\"color\":\"#888\",\"width\":1},\"mode\":\"lines\",\"x\":[0.15928529768155106,0.6950831989777311,null],\"y\":[-0.1902025909926222,-0.0639623479712171,null],\"type\":\"scatter\"},{\"hoverinfo\":\"none\",\"line\":{\"color\":\"#888\",\"width\":1},\"mode\":\"lines\",\"x\":[0.15928529768155106,-0.401123704069683,null],\"y\":[-0.1902025909926222,0.4861136446264234,null],\"type\":\"scatter\"},{\"hoverinfo\":\"none\",\"line\":{\"color\":\"#888\",\"width\":1},\"mode\":\"lines\",\"x\":[0.655733775127641,0.5161910495323743,null],\"y\":[-0.4383778296244963,-0.6256979134372669,null],\"type\":\"scatter\"},{\"hoverinfo\":\"none\",\"line\":{\"color\":\"#888\",\"width\":1},\"mode\":\"lines\",\"x\":[-0.058779275133751904,0.17103823475132754,null],\"y\":[-0.6995300986710432,-0.7443370198726719,null],\"type\":\"scatter\"},{\"hoverinfo\":\"none\",\"line\":{\"color\":\"#888\",\"width\":1},\"mode\":\"lines\",\"x\":[-0.28678168046176583,-0.30958049396661086,null],\"y\":[-0.16543719314857272,-0.41128896362689876,null],\"type\":\"scatter\"},{\"hoverinfo\":\"none\",\"line\":{\"color\":\"#888\",\"width\":1},\"mode\":\"lines\",\"x\":[0.5533227147438393,0.3305373664635927,null],\"y\":[0.14225901107685476,0.26570041512424003,null],\"type\":\"scatter\"},{\"hoverinfo\":\"none\",\"line\":{\"color\":\"#888\",\"width\":1},\"mode\":\"lines\",\"x\":[0.5533227147438393,0.6950831989777311,null],\"y\":[0.14225901107685476,-0.0639623479712171,null],\"type\":\"scatter\"},{\"hoverinfo\":\"none\",\"line\":{\"color\":\"#888\",\"width\":1},\"mode\":\"lines\",\"x\":[-0.401123704069683,-0.9175099435832583,null],\"y\":[0.4861136446264234,0.5490958094143011,null],\"type\":\"scatter\"},{\"hoverinfo\":\"none\",\"line\":{\"color\":\"#888\",\"width\":1},\"mode\":\"lines\",\"x\":[-0.401123704069683,-0.3657354333685913,null],\"y\":[0.4861136446264234,1.0,null],\"type\":\"scatter\"},{\"hoverinfo\":\"none\",\"line\":{\"color\":\"#888\",\"width\":1},\"mode\":\"lines\",\"x\":[-0.401123704069683,-0.7416811066943944,null],\"y\":[0.4861136446264234,0.8956650771029688,null],\"type\":\"scatter\"},{\"hoverinfo\":\"text\",\"marker\":{\"color\":[10,2,2,2,3,4,2,2,2,2,2,1,1,1],\"colorbar\":{\"thickness\":15,\"title\":{\"side\":\"right\",\"text\":\"Node Connections\"},\"xanchor\":\"left\"},\"colorscale\":[[0.0,\"rgb(255,255,217)\"],[0.125,\"rgb(237,248,177)\"],[0.25,\"rgb(199,233,180)\"],[0.375,\"rgb(127,205,187)\"],[0.5,\"rgb(65,182,196)\"],[0.625,\"rgb(29,145,192)\"],[0.75,\"rgb(34,94,168)\"],[0.875,\"rgb(37,52,148)\"],[1.0,\"rgb(8,29,88)\"]],\"reversescale\":true,\"showscale\":true,\"size\":10},\"mode\":\"markers+text\",\"text\":[\"V1JgT3OM\\u003cbr\\u003ePublication\",\"-1778888177\\u003cbr\\u003eOrganization\",\"746119487\\u003cbr\\u003eOrganization\",\"-1020290878\\u003cbr\\u003eOrganization\",\"-206519655\\u003cbr\\u003eOrganization\",\"-544914061\\u003cbr\\u003eVenue\",\"be588d2f-ac9c-43e8-8e19-ea152667c347\\u003cbr\\u003eAuthor\",\"7eb91ea7-be4a-49a1-b9fa-05319d25e9db\\u003cbr\\u003eCoAuthor\",\"6550333b-50aa-4c13-bb21-060af388dee5\\u003cbr\\u003eCoAuthor\",\"9b7a700a-5f8f-4229-99e3-0e263cba49c8\\u003cbr\\u003eCoAuthor\",\"2e41be43-6000-4e7d-9d3c-8b141d729034\\u003cbr\\u003eCoAuthor\",\"1ViMGRjR\\u003cbr\\u003ePublication\",\"8B8GhlnI\\u003cbr\\u003ePublication\",\"AHEIpRm4\\u003cbr\\u003ePublication\"],\"x\":[0.15928529768155106,0.655733775127641,-0.058779275133751904,-0.28678168046176583,0.5533227147438393,-0.401123704069683,0.6950831989777311,0.5161910495323743,0.3305373664635927,-0.30958049396661086,0.17103823475132754,-0.9175099435832583,-0.3657354333685913,-0.7416811066943944],\"y\":[-0.1902025909926222,-0.4383778296244963,-0.6995300986710432,-0.16543719314857272,0.14225901107685476,0.4861136446264234,-0.0639623479712171,-0.6256979134372669,0.26570041512424003,-0.41128896362689876,-0.7443370198726719,0.5490958094143011,1.0,0.8956650771029688],\"type\":\"scatter\"}],                        {\"annotations\":[{\"arrowcolor\":\"#888\",\"arrowhead\":3,\"arrowsize\":1.5,\"arrowwidth\":1,\"ax\":0.15928529768155106,\"axref\":\"x\",\"ay\":-0.1902025909926222,\"ayref\":\"y\",\"showarrow\":true,\"x\":0.3305373664635927,\"xref\":\"x\",\"y\":0.26570041512424003,\"yref\":\"y\"},{\"arrowcolor\":\"#888\",\"arrowhead\":3,\"arrowsize\":1.5,\"arrowwidth\":1,\"ax\":0.15928529768155106,\"axref\":\"x\",\"ay\":-0.1902025909926222,\"ayref\":\"y\",\"showarrow\":true,\"x\":0.17103823475132754,\"xref\":\"x\",\"y\":-0.7443370198726719,\"yref\":\"y\"},{\"arrowcolor\":\"#888\",\"arrowhead\":3,\"arrowsize\":1.5,\"arrowwidth\":1,\"ax\":0.15928529768155106,\"axref\":\"x\",\"ay\":-0.1902025909926222,\"ayref\":\"y\",\"showarrow\":true,\"x\":0.5161910495323743,\"xref\":\"x\",\"y\":-0.6256979134372669,\"yref\":\"y\"},{\"arrowcolor\":\"#888\",\"arrowhead\":3,\"arrowsize\":1.5,\"arrowwidth\":1,\"ax\":0.15928529768155106,\"axref\":\"x\",\"ay\":-0.1902025909926222,\"ayref\":\"y\",\"showarrow\":true,\"x\":-0.30958049396661086,\"xref\":\"x\",\"y\":-0.41128896362689876,\"yref\":\"y\"},{\"arrowcolor\":\"#888\",\"arrowhead\":3,\"arrowsize\":1.5,\"arrowwidth\":1,\"ax\":0.15928529768155106,\"axref\":\"x\",\"ay\":-0.1902025909926222,\"ayref\":\"y\",\"showarrow\":true,\"x\":0.655733775127641,\"xref\":\"x\",\"y\":-0.4383778296244963,\"yref\":\"y\"},{\"arrowcolor\":\"#888\",\"arrowhead\":3,\"arrowsize\":1.5,\"arrowwidth\":1,\"ax\":0.15928529768155106,\"axref\":\"x\",\"ay\":-0.1902025909926222,\"ayref\":\"y\",\"showarrow\":true,\"x\":-0.058779275133751904,\"xref\":\"x\",\"y\":-0.6995300986710432,\"yref\":\"y\"},{\"arrowcolor\":\"#888\",\"arrowhead\":3,\"arrowsize\":1.5,\"arrowwidth\":1,\"ax\":0.15928529768155106,\"axref\":\"x\",\"ay\":-0.1902025909926222,\"ayref\":\"y\",\"showarrow\":true,\"x\":0.5533227147438393,\"xref\":\"x\",\"y\":0.14225901107685476,\"yref\":\"y\"},{\"arrowcolor\":\"#888\",\"arrowhead\":3,\"arrowsize\":1.5,\"arrowwidth\":1,\"ax\":0.15928529768155106,\"axref\":\"x\",\"ay\":-0.1902025909926222,\"ayref\":\"y\",\"showarrow\":true,\"x\":-0.28678168046176583,\"xref\":\"x\",\"y\":-0.16543719314857272,\"yref\":\"y\"},{\"arrowcolor\":\"#888\",\"arrowhead\":3,\"arrowsize\":1.5,\"arrowwidth\":1,\"ax\":0.15928529768155106,\"axref\":\"x\",\"ay\":-0.1902025909926222,\"ayref\":\"y\",\"showarrow\":true,\"x\":0.6950831989777311,\"xref\":\"x\",\"y\":-0.0639623479712171,\"yref\":\"y\"},{\"arrowcolor\":\"#888\",\"arrowhead\":3,\"arrowsize\":1.5,\"arrowwidth\":1,\"ax\":0.15928529768155106,\"axref\":\"x\",\"ay\":-0.1902025909926222,\"ayref\":\"y\",\"showarrow\":true,\"x\":-0.401123704069683,\"xref\":\"x\",\"y\":0.4861136446264234,\"yref\":\"y\"},{\"arrowcolor\":\"#888\",\"arrowhead\":3,\"arrowsize\":1.5,\"arrowwidth\":1,\"ax\":0.655733775127641,\"axref\":\"x\",\"ay\":-0.4383778296244963,\"ayref\":\"y\",\"showarrow\":true,\"x\":0.5161910495323743,\"xref\":\"x\",\"y\":-0.6256979134372669,\"yref\":\"y\"},{\"arrowcolor\":\"#888\",\"arrowhead\":3,\"arrowsize\":1.5,\"arrowwidth\":1,\"ax\":-0.058779275133751904,\"axref\":\"x\",\"ay\":-0.6995300986710432,\"ayref\":\"y\",\"showarrow\":true,\"x\":0.17103823475132754,\"xref\":\"x\",\"y\":-0.7443370198726719,\"yref\":\"y\"},{\"arrowcolor\":\"#888\",\"arrowhead\":3,\"arrowsize\":1.5,\"arrowwidth\":1,\"ax\":-0.28678168046176583,\"axref\":\"x\",\"ay\":-0.16543719314857272,\"ayref\":\"y\",\"showarrow\":true,\"x\":-0.30958049396661086,\"xref\":\"x\",\"y\":-0.41128896362689876,\"yref\":\"y\"},{\"arrowcolor\":\"#888\",\"arrowhead\":3,\"arrowsize\":1.5,\"arrowwidth\":1,\"ax\":0.5533227147438393,\"axref\":\"x\",\"ay\":0.14225901107685476,\"ayref\":\"y\",\"showarrow\":true,\"x\":0.3305373664635927,\"xref\":\"x\",\"y\":0.26570041512424003,\"yref\":\"y\"},{\"arrowcolor\":\"#888\",\"arrowhead\":3,\"arrowsize\":1.5,\"arrowwidth\":1,\"ax\":0.5533227147438393,\"axref\":\"x\",\"ay\":0.14225901107685476,\"ayref\":\"y\",\"showarrow\":true,\"x\":0.6950831989777311,\"xref\":\"x\",\"y\":-0.0639623479712171,\"yref\":\"y\"},{\"arrowcolor\":\"#888\",\"arrowhead\":3,\"arrowsize\":1.5,\"arrowwidth\":1,\"ax\":-0.401123704069683,\"axref\":\"x\",\"ay\":0.4861136446264234,\"ayref\":\"y\",\"showarrow\":true,\"x\":-0.9175099435832583,\"xref\":\"x\",\"y\":0.5490958094143011,\"yref\":\"y\"},{\"arrowcolor\":\"#888\",\"arrowhead\":3,\"arrowsize\":1.5,\"arrowwidth\":1,\"ax\":-0.401123704069683,\"axref\":\"x\",\"ay\":0.4861136446264234,\"ayref\":\"y\",\"showarrow\":true,\"x\":-0.3657354333685913,\"xref\":\"x\",\"y\":1.0,\"yref\":\"y\"},{\"arrowcolor\":\"#888\",\"arrowhead\":3,\"arrowsize\":1.5,\"arrowwidth\":1,\"ax\":-0.401123704069683,\"axref\":\"x\",\"ay\":0.4861136446264234,\"ayref\":\"y\",\"showarrow\":true,\"x\":-0.7416811066943944,\"xref\":\"x\",\"y\":0.8956650771029688,\"yref\":\"y\"}],\"hovermode\":\"closest\",\"margin\":{\"b\":0,\"l\":0,\"r\":0,\"t\":0},\"showlegend\":false,\"title\":{\"font\":{\"size\":16},\"text\":\"\\u003cbr\\u003eNetwork graph with Edge Directions\"},\"xaxis\":{\"showgrid\":false,\"zeroline\":false},\"yaxis\":{\"showgrid\":false,\"zeroline\":false},\"template\":{\"data\":{\"histogram2dcontour\":[{\"type\":\"histogram2dcontour\",\"colorbar\":{\"outlinewidth\":0,\"ticks\":\"\"},\"colorscale\":[[0.0,\"#0d0887\"],[0.1111111111111111,\"#46039f\"],[0.2222222222222222,\"#7201a8\"],[0.3333333333333333,\"#9c179e\"],[0.4444444444444444,\"#bd3786\"],[0.5555555555555556,\"#d8576b\"],[0.6666666666666666,\"#ed7953\"],[0.7777777777777778,\"#fb9f3a\"],[0.8888888888888888,\"#fdca26\"],[1.0,\"#f0f921\"]]}],\"choropleth\":[{\"type\":\"choropleth\",\"colorbar\":{\"outlinewidth\":0,\"ticks\":\"\"}}],\"histogram2d\":[{\"type\":\"histogram2d\",\"colorbar\":{\"outlinewidth\":0,\"ticks\":\"\"},\"colorscale\":[[0.0,\"#0d0887\"],[0.1111111111111111,\"#46039f\"],[0.2222222222222222,\"#7201a8\"],[0.3333333333333333,\"#9c179e\"],[0.4444444444444444,\"#bd3786\"],[0.5555555555555556,\"#d8576b\"],[0.6666666666666666,\"#ed7953\"],[0.7777777777777778,\"#fb9f3a\"],[0.8888888888888888,\"#fdca26\"],[1.0,\"#f0f921\"]]}],\"heatmap\":[{\"type\":\"heatmap\",\"colorbar\":{\"outlinewidth\":0,\"ticks\":\"\"},\"colorscale\":[[0.0,\"#0d0887\"],[0.1111111111111111,\"#46039f\"],[0.2222222222222222,\"#7201a8\"],[0.3333333333333333,\"#9c179e\"],[0.4444444444444444,\"#bd3786\"],[0.5555555555555556,\"#d8576b\"],[0.6666666666666666,\"#ed7953\"],[0.7777777777777778,\"#fb9f3a\"],[0.8888888888888888,\"#fdca26\"],[1.0,\"#f0f921\"]]}],\"heatmapgl\":[{\"type\":\"heatmapgl\",\"colorbar\":{\"outlinewidth\":0,\"ticks\":\"\"},\"colorscale\":[[0.0,\"#0d0887\"],[0.1111111111111111,\"#46039f\"],[0.2222222222222222,\"#7201a8\"],[0.3333333333333333,\"#9c179e\"],[0.4444444444444444,\"#bd3786\"],[0.5555555555555556,\"#d8576b\"],[0.6666666666666666,\"#ed7953\"],[0.7777777777777778,\"#fb9f3a\"],[0.8888888888888888,\"#fdca26\"],[1.0,\"#f0f921\"]]}],\"contourcarpet\":[{\"type\":\"contourcarpet\",\"colorbar\":{\"outlinewidth\":0,\"ticks\":\"\"}}],\"contour\":[{\"type\":\"contour\",\"colorbar\":{\"outlinewidth\":0,\"ticks\":\"\"},\"colorscale\":[[0.0,\"#0d0887\"],[0.1111111111111111,\"#46039f\"],[0.2222222222222222,\"#7201a8\"],[0.3333333333333333,\"#9c179e\"],[0.4444444444444444,\"#bd3786\"],[0.5555555555555556,\"#d8576b\"],[0.6666666666666666,\"#ed7953\"],[0.7777777777777778,\"#fb9f3a\"],[0.8888888888888888,\"#fdca26\"],[1.0,\"#f0f921\"]]}],\"surface\":[{\"type\":\"surface\",\"colorbar\":{\"outlinewidth\":0,\"ticks\":\"\"},\"colorscale\":[[0.0,\"#0d0887\"],[0.1111111111111111,\"#46039f\"],[0.2222222222222222,\"#7201a8\"],[0.3333333333333333,\"#9c179e\"],[0.4444444444444444,\"#bd3786\"],[0.5555555555555556,\"#d8576b\"],[0.6666666666666666,\"#ed7953\"],[0.7777777777777778,\"#fb9f3a\"],[0.8888888888888888,\"#fdca26\"],[1.0,\"#f0f921\"]]}],\"mesh3d\":[{\"type\":\"mesh3d\",\"colorbar\":{\"outlinewidth\":0,\"ticks\":\"\"}}],\"scatter\":[{\"fillpattern\":{\"fillmode\":\"overlay\",\"size\":10,\"solidity\":0.2},\"type\":\"scatter\"}],\"parcoords\":[{\"type\":\"parcoords\",\"line\":{\"colorbar\":{\"outlinewidth\":0,\"ticks\":\"\"}}}],\"scatterpolargl\":[{\"type\":\"scatterpolargl\",\"marker\":{\"colorbar\":{\"outlinewidth\":0,\"ticks\":\"\"}}}],\"bar\":[{\"error_x\":{\"color\":\"#2a3f5f\"},\"error_y\":{\"color\":\"#2a3f5f\"},\"marker\":{\"line\":{\"color\":\"#E5ECF6\",\"width\":0.5},\"pattern\":{\"fillmode\":\"overlay\",\"size\":10,\"solidity\":0.2}},\"type\":\"bar\"}],\"scattergeo\":[{\"type\":\"scattergeo\",\"marker\":{\"colorbar\":{\"outlinewidth\":0,\"ticks\":\"\"}}}],\"scatterpolar\":[{\"type\":\"scatterpolar\",\"marker\":{\"colorbar\":{\"outlinewidth\":0,\"ticks\":\"\"}}}],\"histogram\":[{\"marker\":{\"pattern\":{\"fillmode\":\"overlay\",\"size\":10,\"solidity\":0.2}},\"type\":\"histogram\"}],\"scattergl\":[{\"type\":\"scattergl\",\"marker\":{\"colorbar\":{\"outlinewidth\":0,\"ticks\":\"\"}}}],\"scatter3d\":[{\"type\":\"scatter3d\",\"line\":{\"colorbar\":{\"outlinewidth\":0,\"ticks\":\"\"}},\"marker\":{\"colorbar\":{\"outlinewidth\":0,\"ticks\":\"\"}}}],\"scattermapbox\":[{\"type\":\"scattermapbox\",\"marker\":{\"colorbar\":{\"outlinewidth\":0,\"ticks\":\"\"}}}],\"scatterternary\":[{\"type\":\"scatterternary\",\"marker\":{\"colorbar\":{\"outlinewidth\":0,\"ticks\":\"\"}}}],\"scattercarpet\":[{\"type\":\"scattercarpet\",\"marker\":{\"colorbar\":{\"outlinewidth\":0,\"ticks\":\"\"}}}],\"carpet\":[{\"aaxis\":{\"endlinecolor\":\"#2a3f5f\",\"gridcolor\":\"white\",\"linecolor\":\"white\",\"minorgridcolor\":\"white\",\"startlinecolor\":\"#2a3f5f\"},\"baxis\":{\"endlinecolor\":\"#2a3f5f\",\"gridcolor\":\"white\",\"linecolor\":\"white\",\"minorgridcolor\":\"white\",\"startlinecolor\":\"#2a3f5f\"},\"type\":\"carpet\"}],\"table\":[{\"cells\":{\"fill\":{\"color\":\"#EBF0F8\"},\"line\":{\"color\":\"white\"}},\"header\":{\"fill\":{\"color\":\"#C8D4E3\"},\"line\":{\"color\":\"white\"}},\"type\":\"table\"}],\"barpolar\":[{\"marker\":{\"line\":{\"color\":\"#E5ECF6\",\"width\":0.5},\"pattern\":{\"fillmode\":\"overlay\",\"size\":10,\"solidity\":0.2}},\"type\":\"barpolar\"}],\"pie\":[{\"automargin\":true,\"type\":\"pie\"}]},\"layout\":{\"autotypenumbers\":\"strict\",\"colorway\":[\"#636efa\",\"#EF553B\",\"#00cc96\",\"#ab63fa\",\"#FFA15A\",\"#19d3f3\",\"#FF6692\",\"#B6E880\",\"#FF97FF\",\"#FECB52\"],\"font\":{\"color\":\"#2a3f5f\"},\"hovermode\":\"closest\",\"hoverlabel\":{\"align\":\"left\"},\"paper_bgcolor\":\"white\",\"plot_bgcolor\":\"#E5ECF6\",\"polar\":{\"bgcolor\":\"#E5ECF6\",\"angularaxis\":{\"gridcolor\":\"white\",\"linecolor\":\"white\",\"ticks\":\"\"},\"radialaxis\":{\"gridcolor\":\"white\",\"linecolor\":\"white\",\"ticks\":\"\"}},\"ternary\":{\"bgcolor\":\"#E5ECF6\",\"aaxis\":{\"gridcolor\":\"white\",\"linecolor\":\"white\",\"ticks\":\"\"},\"baxis\":{\"gridcolor\":\"white\",\"linecolor\":\"white\",\"ticks\":\"\"},\"caxis\":{\"gridcolor\":\"white\",\"linecolor\":\"white\",\"ticks\":\"\"}},\"coloraxis\":{\"colorbar\":{\"outlinewidth\":0,\"ticks\":\"\"}},\"colorscale\":{\"sequential\":[[0.0,\"#0d0887\"],[0.1111111111111111,\"#46039f\"],[0.2222222222222222,\"#7201a8\"],[0.3333333333333333,\"#9c179e\"],[0.4444444444444444,\"#bd3786\"],[0.5555555555555556,\"#d8576b\"],[0.6666666666666666,\"#ed7953\"],[0.7777777777777778,\"#fb9f3a\"],[0.8888888888888888,\"#fdca26\"],[1.0,\"#f0f921\"]],\"sequentialminus\":[[0.0,\"#0d0887\"],[0.1111111111111111,\"#46039f\"],[0.2222222222222222,\"#7201a8\"],[0.3333333333333333,\"#9c179e\"],[0.4444444444444444,\"#bd3786\"],[0.5555555555555556,\"#d8576b\"],[0.6666666666666666,\"#ed7953\"],[0.7777777777777778,\"#fb9f3a\"],[0.8888888888888888,\"#fdca26\"],[1.0,\"#f0f921\"]],\"diverging\":[[0,\"#8e0152\"],[0.1,\"#c51b7d\"],[0.2,\"#de77ae\"],[0.3,\"#f1b6da\"],[0.4,\"#fde0ef\"],[0.5,\"#f7f7f7\"],[0.6,\"#e6f5d0\"],[0.7,\"#b8e186\"],[0.8,\"#7fbc41\"],[0.9,\"#4d9221\"],[1,\"#276419\"]]},\"xaxis\":{\"gridcolor\":\"white\",\"linecolor\":\"white\",\"ticks\":\"\",\"title\":{\"standoff\":15},\"zerolinecolor\":\"white\",\"automargin\":true,\"zerolinewidth\":2},\"yaxis\":{\"gridcolor\":\"white\",\"linecolor\":\"white\",\"ticks\":\"\",\"title\":{\"standoff\":15},\"zerolinecolor\":\"white\",\"automargin\":true,\"zerolinewidth\":2},\"scene\":{\"xaxis\":{\"backgroundcolor\":\"#E5ECF6\",\"gridcolor\":\"white\",\"linecolor\":\"white\",\"showbackground\":true,\"ticks\":\"\",\"zerolinecolor\":\"white\",\"gridwidth\":2},\"yaxis\":{\"backgroundcolor\":\"#E5ECF6\",\"gridcolor\":\"white\",\"linecolor\":\"white\",\"showbackground\":true,\"ticks\":\"\",\"zerolinecolor\":\"white\",\"gridwidth\":2},\"zaxis\":{\"backgroundcolor\":\"#E5ECF6\",\"gridcolor\":\"white\",\"linecolor\":\"white\",\"showbackground\":true,\"ticks\":\"\",\"zerolinecolor\":\"white\",\"gridwidth\":2}},\"shapedefaults\":{\"line\":{\"color\":\"#2a3f5f\"}},\"annotationdefaults\":{\"arrowcolor\":\"#2a3f5f\",\"arrowhead\":0,\"arrowwidth\":1},\"geo\":{\"bgcolor\":\"white\",\"landcolor\":\"#E5ECF6\",\"subunitcolor\":\"white\",\"showland\":true,\"showlakes\":true,\"lakecolor\":\"white\"},\"title\":{\"x\":0.05},\"mapbox\":{\"style\":\"light\"}}}},                        {\"responsive\": true}                    ).then(function(){\n",
       "                            \n",
       "var gd = document.getElementById('48f0ae2f-b24d-475e-bed3-a6a6cf93b2b3');\n",
       "var x = new MutationObserver(function (mutations, observer) {{\n",
       "        var display = window.getComputedStyle(gd).display;\n",
       "        if (!display || display === 'none') {{\n",
       "            console.log([gd, 'removed!']);\n",
       "            Plotly.purge(gd);\n",
       "            observer.disconnect();\n",
       "        }}\n",
       "}});\n",
       "\n",
       "// Listen for the removal of the full notebook cells\n",
       "var notebookContainer = gd.closest('#notebook-container');\n",
       "if (notebookContainer) {{\n",
       "    x.observe(notebookContainer, {childList: true});\n",
       "}}\n",
       "\n",
       "// Listen for the clearing of the current output cell\n",
       "var outputEl = gd.closest('.output');\n",
       "if (outputEl) {{\n",
       "    x.observe(outputEl, {childList: true});\n",
       "}}\n",
       "\n",
       "                        })                };                });            </script>        </div>"
      ]
     },
     "metadata": {},
     "output_type": "display_data"
    }
   ],
   "execution_count": 96
  }
 ],
 "metadata": {
  "kernelspec": {
   "display_name": "Python 3",
   "language": "python",
   "name": "python3"
  },
  "language_info": {
   "codemirror_mode": {
    "name": "ipython",
    "version": 2
   },
   "file_extension": ".py",
   "mimetype": "text/x-python",
   "name": "python",
   "nbconvert_exporter": "python",
   "pygments_lexer": "ipython2",
   "version": "2.7.6"
  }
 },
 "nbformat": 4,
 "nbformat_minor": 5
}
