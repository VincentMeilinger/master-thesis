{
 "cells": [
  {
   "cell_type": "code",
   "execution_count": null,
   "id": "initial_id",
   "metadata": {
    "collapsed": true
   },
   "outputs": [],
   "source": [
    "import torch\n",
    "import torch.nn as nn\n",
    "import torch.nn.functional as F"
   ]
  },
  {
   "metadata": {},
   "cell_type": "code",
   "outputs": [],
   "execution_count": null,
   "source": "",
   "id": "3dc8b781fc2b868b"
  },
  {
   "metadata": {},
   "cell_type": "code",
   "outputs": [],
   "execution_count": null,
   "source": [
    "class GNN_DistMult(nn.Module):\n",
    "    def __init__(self, num_relations, embedding_dim):\n",
    "        super(GNN_DistMult, self).__init__()\n",
    "        self.rel_emb = nn.Embedding(num_relations, embedding_dim)\n",
    "    \n",
    "    def forward(self, head_emb, tail_emb):\n",
    "        # Use given head and tail embeddings, learn relation embeddings. Return the probability of the triple being valid. \n",
    "        # TODO\n",
    "        \n",
    "        # Compute scores\n",
    "        scores = torch.sum(head_emb * rel_emb * tail_emb, dim=1)  # [batch_size]\n",
    "        return scores\n",
    "\n",
    "    def loss(self, scores, labels):\n",
    "        # Binary cross-entropy loss with logits\n",
    "        return F.binary_cross_entropy_with_logits(scores, labels)"
   ],
   "id": "dfc7e089aac673c9"
  },
  {
   "metadata": {},
   "cell_type": "code",
   "outputs": [],
   "execution_count": null,
   "source": [
    "# Initialization\n",
    "embedding_dim = 128\n",
    "hidden_channels = 64\n",
    "num_relations = ...  # Number of unique relation types\n",
    "gnn_encoder = GNNEncoder(node_features.size(1), hidden_channels, embedding_dim)\n",
    "model = GNN_DistMult(num_relations, embedding_dim, gnn_encoder).to(device)\n",
    "optimizer = torch.optim.Adam(model.parameters(), lr=0.001)\n",
    "\n",
    "# Training\n",
    "for epoch in range(num_epochs):\n",
    "    model.train()\n",
    "    optimizer.zero_grad()\n",
    "    scores = model(node_features.to(device), edge_index.to(device), triplets)\n",
    "    loss = model.loss(scores, labels.to(device))\n",
    "    loss.backward()\n",
    "    optimizer.step()\n",
    "    print(f'Epoch {epoch+1}, Loss: {loss.item():.4f}')"
   ],
   "id": "7427f528c412eea1"
  }
 ],
 "metadata": {
  "kernelspec": {
   "display_name": "Python 3",
   "language": "python",
   "name": "python3"
  },
  "language_info": {
   "codemirror_mode": {
    "name": "ipython",
    "version": 2
   },
   "file_extension": ".py",
   "mimetype": "text/x-python",
   "name": "python",
   "nbconvert_exporter": "python",
   "pygments_lexer": "ipython2",
   "version": "2.7.6"
  }
 },
 "nbformat": 4,
 "nbformat_minor": 5
}
