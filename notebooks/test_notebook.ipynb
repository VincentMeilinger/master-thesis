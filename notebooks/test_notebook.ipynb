{
 "cells": [
  {
   "cell_type": "markdown",
   "source": [
    "# Test Experiments"
   ],
   "metadata": {
    "collapsed": false
   },
   "id": "c3f1de004135f586"
  },
  {
   "cell_type": "code",
   "outputs": [],
   "source": [
    "from sparql_requests import run_query, download_file\n",
    "import multiprocessing as mp\n",
    "import pandas as pd\n",
    "import numpy as np\n",
    "import ampligraph\n",
    "import requests\n",
    "import rdflib\n",
    "import torch\n",
    "import os"
   ],
   "metadata": {
    "collapsed": false,
    "ExecuteTime": {
     "end_time": "2024-03-07T09:33:46.989021Z",
     "start_time": "2024-03-07T09:33:46.980814Z"
    }
   },
   "id": "d98c7b10347ec2af",
   "execution_count": 8
  },
  {
   "cell_type": "code",
   "outputs": [
    {
     "data": {
      "text/plain": "True"
     },
     "execution_count": 9,
     "metadata": {},
     "output_type": "execute_result"
    }
   ],
   "source": [
    "torch.cuda.is_available()"
   ],
   "metadata": {
    "collapsed": false,
    "ExecuteTime": {
     "end_time": "2024-03-07T09:33:47.018854Z",
     "start_time": "2024-03-07T09:33:47.013139Z"
    }
   },
   "id": "13bb0f4b368ef6be",
   "execution_count": 9
  },
  {
   "cell_type": "code",
   "outputs": [
    {
     "name": "stdout",
     "output_type": "stream",
     "text": [
      "                                          property  \\\n",
      "0  http://www.w3.org/1999/02/22-rdf-syntax-ns#type   \n",
      "1   http://www.w3.org/ns/dqv#hasQualityMeasurement   \n",
      "2   http://www.w3.org/ns/dqv#hasQualityMeasurement   \n",
      "3   http://www.w3.org/ns/dqv#hasQualityMeasurement   \n",
      "4   http://www.w3.org/ns/dqv#hasQualityMeasurement   \n",
      "\n",
      "                               value  \n",
      "0  http://www.w3.org/ns/dcat#Dataset  \n",
      "1               nodeID://b2487221501  \n",
      "2               nodeID://b2487221502  \n",
      "3               nodeID://b2487221503  \n",
      "4               nodeID://b2487221509  \n"
     ]
    }
   ],
   "source": [
    "# SPARQL Endpoint URL\n",
    "endpoint_url = \"https://data.europa.eu/sparql\"\n",
    "\n",
    "# SPARQL Query\n",
    "query = \"\"\"\n",
    "PREFIX dcat: <http://www.w3.org/ns/dcat#>\n",
    "PREFIX odp:  <http://data.europa.eu/euodp/ontologies/ec-odp#>\n",
    "PREFIX dct: <http://purl.org/dc/terms/>\n",
    "PREFIX xsd: <http://www.w3.org/2001/XMLSchema#>\n",
    "PREFIX foaf: <http://xmlns.com/foaf/0.1/>\n",
    "\n",
    "SELECT * WHERE { ?d a dcat:Dataset } LIMIT 1\n",
    "\"\"\"\n",
    "query_metadata = \"\"\"\n",
    "PREFIX dcat: <http://www.w3.org/ns/dcat#>\n",
    "PREFIX dct: <http://purl.org/dc/terms/>\n",
    "PREFIX foaf: <http://xmlns.com/foaf/0.1/>\n",
    "\n",
    "SELECT ?property ?value\n",
    "WHERE {\n",
    "  <http://data.europa.eu/88u/dataset/60f30419135bec6a5e480086~~1> ?property ?value .\n",
    "  FILTER (!isLiteral(?value) || langMatches(lang(?value), \"en\"))\n",
    "}\n",
    "\"\"\"\n",
    "\n",
    "# Run the query\n",
    "df = run_query(endpoint_url, query_metadata)\n",
    "\n",
    "# Display the first few rows of the DataFrame\n",
    "print(df.head())\n"
   ],
   "metadata": {
    "collapsed": false,
    "ExecuteTime": {
     "end_time": "2024-03-07T10:31:15.501Z",
     "start_time": "2024-03-07T10:31:15.307313Z"
    }
   },
   "id": "b355eaa72d0a0a42",
   "execution_count": 17
  },
  {
   "cell_type": "code",
   "outputs": [
    {
     "name": "stdout",
     "output_type": "stream",
     "text": [
      "http://www.w3.org/1999/02/22-rdf-syntax-ns#type\n",
      "    http://www.w3.org/ns/dcat#Dataset\n",
      "http://www.w3.org/ns/dqv#hasQualityMeasurement\n",
      "    nodeID://b2487221501\n",
      "http://www.w3.org/ns/dqv#hasQualityMeasurement\n",
      "    nodeID://b2487221502\n",
      "http://www.w3.org/ns/dqv#hasQualityMeasurement\n",
      "    nodeID://b2487221503\n",
      "http://www.w3.org/ns/dqv#hasQualityMeasurement\n",
      "    nodeID://b2487221509\n",
      "http://www.w3.org/ns/dqv#hasQualityMeasurement\n",
      "    nodeID://b2487221513\n",
      "http://www.w3.org/ns/dqv#hasQualityMeasurement\n",
      "    nodeID://b2487221514\n",
      "http://www.w3.org/ns/dqv#hasQualityMeasurement\n",
      "    nodeID://b2487221517\n",
      "http://www.w3.org/ns/dqv#hasQualityMeasurement\n",
      "    nodeID://b2487221519\n",
      "http://www.w3.org/ns/dqv#hasQualityMeasurement\n",
      "    nodeID://b2487221522\n",
      "http://www.w3.org/ns/dqv#hasQualityMeasurement\n",
      "    nodeID://b2487221523\n",
      "http://www.w3.org/ns/dqv#hasQualityMeasurement\n",
      "    nodeID://b2487221524\n",
      "http://www.w3.org/ns/dqv#hasQualityMeasurement\n",
      "    nodeID://b2487221525\n",
      "http://www.w3.org/ns/dqv#hasQualityMeasurement\n",
      "    nodeID://b2487221526\n",
      "http://www.w3.org/ns/dqv#hasQualityMeasurement\n",
      "    nodeID://b2487221527\n",
      "http://www.w3.org/ns/dqv#hasQualityMeasurement\n",
      "    nodeID://b2487221528\n",
      "http://www.w3.org/ns/dqv#hasQualityMeasurement\n",
      "    nodeID://b2487221529\n",
      "http://www.w3.org/ns/dcat#distribution\n",
      "    http://data.europa.eu/88u/distribution/704c7bb2-0b41-40ab-8da5-902781fbca22\n",
      "http://purl.org/dc/terms/accrualPeriodicity\n",
      "    http://purl.org/cld/freq/daily\n",
      "http://www.w3.org/ns/dqv#hasQualityMetadata\n",
      "    http://data.europa.eu/88u/metrics/60f30419135bec6a5e480086~~1\n",
      "http://www.w3.org/ns/dqv#hasQualityAnnotation\n",
      "    nodeID://b2487221515\n",
      "http://purl.org/dc/terms/publisher\n",
      "    https://www.data.gouv.fr/organizations/5f1ff75d09806862b208e8e9/\n",
      "http://purl.org/dc/terms/title\n",
      "    History of the political groups of the National Assembly (since 2012) — Information and statistics\n",
      "http://purl.org/dc/terms/description\n",
      "    This dataset presents all the political groups of the French National Assembly since the 14th legislature (2012). The data comes from open data from the National Assembly. This new game brings together data on political groups and parliamentary activity statistics developed by Datan in a single file.\n",
      "\n",
      "To view the active political groups of the National Assembly, [click here](https://www.data.gouv.fr/fr/datasets/groupes-politiques-actifs-de-lassemblee-nationale-informations-et-statistiques/).\n",
      "\n",
      "The variables are as follows:\n",
      "\n",
      "— ID: ID present on the Assembly’s website\n",
      "— parliamentary term\n",
      "— libelle: name of the group\n",
      "— libelleAbrev: abbreviation of the group\n",
      "— libelleAbrege: name of the abbreviated group\n",
      "— dateStart: date of creation of the group\n",
      "— political position: opposition group, majority or minority\n",
      "— colorAssociee: color on the website of the National Assembly\n",
      "— number of staff: number of Members in the Group\n",
      "— women: percentage of female MPs in the group\n",
      "— age: average age in the group\n",
      "— scoreRose: rose index measuring social representativeness (https://rdrr.io/rforge/polrep/man/Rose.html)\n",
      "— scoreCohesion: cohesion rate (0-1) of the group\n",
      "— scoreParticipation: average participation rate of Members of the Group\n",
      "— scoreMajorite: proximity rate with the group of the presidential majority\n",
      "— active: “1” if the political group is still active in the National Assembly\n",
      "— dateMaj: date of update\n"
     ]
    }
   ],
   "source": [
    "for predicate, object in zip(df['property'], df['value']):\n",
    "    print(predicate)\n",
    "    print(f\"    {object}\")"
   ],
   "metadata": {
    "collapsed": false,
    "ExecuteTime": {
     "end_time": "2024-03-07T10:31:17.401273Z",
     "start_time": "2024-03-07T10:31:17.394699Z"
    }
   },
   "id": "6aedd2e6fe0dcc05",
   "execution_count": 18
  },
  {
   "cell_type": "code",
   "outputs": [],
   "source": [],
   "metadata": {
    "collapsed": false
   },
   "id": "820202d2b0588f75",
   "execution_count": null
  }
 ],
 "metadata": {
  "kernelspec": {
   "display_name": "Python 3",
   "language": "python",
   "name": "python3"
  },
  "language_info": {
   "codemirror_mode": {
    "name": "ipython",
    "version": 2
   },
   "file_extension": ".py",
   "mimetype": "text/x-python",
   "name": "python",
   "nbconvert_exporter": "python",
   "pygments_lexer": "ipython2",
   "version": "2.7.6"
  }
 },
 "nbformat": 4,
 "nbformat_minor": 5
}
