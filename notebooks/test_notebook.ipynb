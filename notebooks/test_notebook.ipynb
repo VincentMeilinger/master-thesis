{
 "cells": [
  {
   "cell_type": "markdown",
   "source": [
    "# Test Experiments"
   ],
   "metadata": {
    "collapsed": false
   },
   "id": "c3f1de004135f586"
  },
  {
   "cell_type": "code",
   "source": [
    "from sparql_requests import run_query, download_file\n",
    "import rdflib\n",
    "import torch\n",
    "import networkx as nx\n",
    "import os"
   ],
   "metadata": {
    "collapsed": false,
    "ExecuteTime": {
     "end_time": "2024-03-22T14:34:42.985341Z",
     "start_time": "2024-03-22T14:34:40.722479Z"
    }
   },
   "id": "d98c7b10347ec2af",
   "execution_count": 1,
   "outputs": []
  },
  {
   "cell_type": "code",
   "source": [
    "torch.cuda.is_available()"
   ],
   "metadata": {
    "collapsed": false,
    "ExecuteTime": {
     "end_time": "2024-03-22T14:34:43.045407Z",
     "start_time": "2024-03-22T14:34:42.987652Z"
    }
   },
   "id": "13bb0f4b368ef6be",
   "execution_count": 2,
   "outputs": []
  },
  {
   "cell_type": "code",
   "source": [
    "from dash import Dash, html\n",
    "import dash_cytoscape as cyto\n",
    "import graph\n",
    "from parsers import parse_data\n",
    "\n",
    "g = parse_data.paper_author_graph('../data/IND-WhoIsWho/pid_to_info_all.json', include_info=False)\n",
    "g_cyto = graph.nx_to_cytoscape(g)\n",
    "\n",
    "\n"
   ],
   "metadata": {
    "collapsed": false,
    "ExecuteTime": {
     "end_time": "2024-03-22T15:06:02.069413Z",
     "start_time": "2024-03-22T15:05:15.737029Z"
    }
   },
   "id": "b355eaa72d0a0a42",
   "execution_count": 9,
   "outputs": []
  },
  {
   "cell_type": "code",
   "source": [],
   "metadata": {
    "collapsed": false,
    "ExecuteTime": {
     "end_time": "2024-03-22T14:34:43.057909Z",
     "start_time": "2024-03-22T14:34:43.054517Z"
    }
   },
   "id": "6aedd2e6fe0dcc05",
   "execution_count": 2,
   "outputs": []
  },
  {
   "cell_type": "code",
   "source": [],
   "metadata": {
    "collapsed": false
   },
   "id": "820202d2b0588f75",
   "execution_count": null,
   "outputs": []
  }
 ],
 "metadata": {
  "kernelspec": {
   "display_name": "Python 3",
   "language": "python",
   "name": "python3"
  },
  "language_info": {
   "codemirror_mode": {
    "name": "ipython",
    "version": 2
   },
   "file_extension": ".py",
   "mimetype": "text/x-python",
   "name": "python",
   "nbconvert_exporter": "python",
   "pygments_lexer": "ipython2",
   "version": "2.7.6"
  }
 },
 "nbformat": 4,
 "nbformat_minor": 5
}
