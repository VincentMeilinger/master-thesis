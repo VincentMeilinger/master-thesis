{
 "cells": [
  {
   "cell_type": "markdown",
   "source": [
    "# Test Experiments"
   ],
   "metadata": {
    "collapsed": false
   },
   "id": "c3f1de004135f586"
  },
  {
   "cell_type": "code",
   "outputs": [],
   "source": [
    "import multiprocessing as mp\n",
    "import pandas as pd\n",
    "import numpy as np\n",
    "import ampligraph\n",
    "import requests\n",
    "import rdflib\n",
    "import torch\n",
    "import os"
   ],
   "metadata": {
    "collapsed": false,
    "ExecuteTime": {
     "end_time": "2024-02-29T14:31:49.959172Z",
     "start_time": "2024-02-29T14:31:49.951637Z"
    }
   },
   "id": "d98c7b10347ec2af",
   "execution_count": 18
  },
  {
   "cell_type": "code",
   "outputs": [
    {
     "data": {
      "text/plain": "True"
     },
     "execution_count": 19,
     "metadata": {},
     "output_type": "execute_result"
    }
   ],
   "source": [
    "torch.cuda.is_available()"
   ],
   "metadata": {
    "collapsed": false,
    "ExecuteTime": {
     "end_time": "2024-02-29T14:31:49.995074Z",
     "start_time": "2024-02-29T14:31:49.988367Z"
    }
   },
   "id": "13bb0f4b368ef6be",
   "execution_count": 19
  },
  {
   "cell_type": "code",
   "outputs": [],
   "source": [
    "def run_query(url, query):\n",
    "    \"\"\"Run SPARQL query and return results as a DataFrame.\"\"\"\n",
    "    headers = {\n",
    "        \"Accept\": \"application/sparql-results+json\",\n",
    "        \"Content-Type\": \"application/sparql-query\"\n",
    "    }\n",
    "    response = requests.post(url, data=query, headers=headers)\n",
    "    \n",
    "    if response.status_code == 200:\n",
    "        data = response.json()\n",
    "        cols = data['head']['vars']\n",
    "        rows = [{col: row['value'] for col, row in item.items()} for item in data['results']['bindings']]\n",
    "        return pd.DataFrame(rows, columns=cols)\n",
    "    else:\n",
    "        print(f\"Error: {response.status_code}\")\n",
    "        return pd.DataFrame()"
   ],
   "metadata": {
    "collapsed": false,
    "ExecuteTime": {
     "end_time": "2024-02-29T14:31:50.033992Z",
     "start_time": "2024-02-29T14:31:50.027921Z"
    }
   },
   "id": "3c5964dd0aaa4bc0",
   "execution_count": 20
  },
  {
   "cell_type": "code",
   "outputs": [],
   "source": [
    "def download_file(url, path):\n",
    "    \"\"\"Download a file from the specified URL to the given path.\"\"\"\n",
    "    response = requests.get(url)\n",
    "    return response\n",
    "    if response.status_code == 200:\n",
    "        with open(path, 'wb') as file:\n",
    "            file.write(response.content)\n",
    "    else:\n",
    "        print(f\"Error downloading file: {response.status_code}\")"
   ],
   "metadata": {
    "collapsed": false,
    "ExecuteTime": {
     "end_time": "2024-02-29T14:31:50.061825Z",
     "start_time": "2024-02-29T14:31:50.056107Z"
    }
   },
   "id": "b89a651dd109ad64",
   "execution_count": 21
  },
  {
   "cell_type": "code",
   "outputs": [
    {
     "name": "stdout",
     "output_type": "stream",
     "text": [
      "                                                   d\n",
      "0  http://data.europa.eu/88u/dataset/0800af55-8e5...\n"
     ]
    }
   ],
   "source": [
    "# SPARQL Endpoint URL\n",
    "endpoint_url = \"https://data.europa.eu/sparql\"\n",
    "\n",
    "# SPARQL Query\n",
    "query = \"\"\"\n",
    "PREFIX dcat: <http://www.w3.org/ns/dcat#>\n",
    "PREFIX odp:  <http://data.europa.eu/euodp/ontologies/ec-odp#>\n",
    "PREFIX dct: <http://purl.org/dc/terms/>\n",
    "PREFIX xsd: <http://www.w3.org/2001/XMLSchema#>\n",
    "PREFIX foaf: <http://xmlns.com/foaf/0.1/>\n",
    "\n",
    "SELECT * WHERE { ?d a dcat:Dataset } LIMIT 1\n",
    "\"\"\"\n",
    "\n",
    "# Run the query\n",
    "df = run_query(endpoint_url, query)\n",
    "\n",
    "# Display the first few rows of the DataFrame\n",
    "print(df.head())"
   ],
   "metadata": {
    "collapsed": false,
    "ExecuteTime": {
     "end_time": "2024-02-29T14:31:50.312189Z",
     "start_time": "2024-02-29T14:31:50.105809Z"
    }
   },
   "id": "b355eaa72d0a0a42",
   "execution_count": 22
  },
  {
   "cell_type": "code",
   "outputs": [
    {
     "name": "stdout",
     "output_type": "stream",
     "text": [
      "http://data.europa.eu/88u/dataset/0800af55-8e56-49a0-8986-aa55151d0440\n",
      "b'<!DOCTYPE html>\\n<html lang=\"en\">\\n<head>\\n  <meta charset=\"utf-8\">\\n  <meta http-equiv=\"X-UA-Compatible\" content=\"IE=edge\">\\n  <meta name=\"viewport\" content=\"width=device-width,initial-scale=1.0\">\\n  <title>data.europa.eu</title>\\n  <!-- Import Favicon -->\\n  <link rel=\"shortcut icon\" type=\"image/ico\" href=\"/data/assets/favicon-7jgnUwDt.ico\">\\n  <!-- Import Loading Animation -->\\n  <script type=\"module\" crossorigin src=\"/data/app.PfalbxMJ.js\"></script>\\n  <link rel=\"stylesheet\" crossorigin href=\"/data/assets/index-vNvHa2_I.css\">\\n</head>\\n<body>\\n<div id=\"app\">\\n  <div class=\"spinner-container\" id=\"good\">\\n    <div class=\"spinner\"> </div>\\n  </div>\\n</div>\\n</body>\\n\\n</html>\\n'\n"
     ]
    }
   ],
   "source": [
    "for uri in df['d']:\n",
    "    print(uri)\n",
    "    response = download_file(uri, \"downloaded_dataset.csv\")\n",
    "    print(response.content)"
   ],
   "metadata": {
    "collapsed": false,
    "ExecuteTime": {
     "end_time": "2024-02-29T14:31:50.593148Z",
     "start_time": "2024-02-29T14:31:50.315275Z"
    }
   },
   "id": "6aedd2e6fe0dcc05",
   "execution_count": 23
  },
  {
   "cell_type": "code",
   "outputs": [],
   "source": [],
   "metadata": {
    "collapsed": false,
    "ExecuteTime": {
     "end_time": "2024-02-29T14:31:50.598397Z",
     "start_time": "2024-02-29T14:31:50.595243Z"
    }
   },
   "id": "820202d2b0588f75",
   "execution_count": 23
  }
 ],
 "metadata": {
  "kernelspec": {
   "display_name": "Python 3",
   "language": "python",
   "name": "python3"
  },
  "language_info": {
   "codemirror_mode": {
    "name": "ipython",
    "version": 2
   },
   "file_extension": ".py",
   "mimetype": "text/x-python",
   "name": "python",
   "nbconvert_exporter": "python",
   "pygments_lexer": "ipython2",
   "version": "2.7.6"
  }
 },
 "nbformat": 4,
 "nbformat_minor": 5
}
