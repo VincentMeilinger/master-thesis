{
 "cells": [
  {
   "cell_type": "code",
   "id": "initial_id",
   "metadata": {
    "collapsed": true,
    "ExecuteTime": {
     "end_time": "2024-10-14T15:24:15.490397Z",
     "start_time": "2024-10-14T15:24:15.487307Z"
    }
   },
   "source": [
    "from util import *\n",
    "from gat_models import *\n",
    "\n",
    "import random\n",
    "import numpy as np\n",
    "from sklearn.metrics import accuracy_score\n",
    "from tqdm.notebook import tqdm\n",
    "from torch_geometric.loader import DataLoader\n",
    "from torch.optim import Adam\n",
    "from sklearn.metrics.pairwise import cosine_distances\n",
    "\n",
    "from src.shared.database_wrapper import DatabaseWrapper\n",
    "from src.shared.graph_schema import *\n",
    "from src.shared.graph_sampling import GraphSampling\n",
    "\n",
    "random.seed(40)\n",
    "np.random.seed(40)\n",
    "torch.manual_seed(40)\n",
    "torch.cuda.manual_seed_all(40)"
   ],
   "outputs": [],
   "execution_count": 18
  },
  {
   "metadata": {},
   "cell_type": "markdown",
   "source": "### Configurations",
   "id": "ee4fa502d7e51e50"
  },
  {
   "metadata": {
    "ExecuteTime": {
     "end_time": "2024-10-14T15:24:15.531693Z",
     "start_time": "2024-10-14T15:24:15.520088Z"
    }
   },
   "cell_type": "code",
   "source": [
    "# Graph sampling configurations\n",
    "node_spec = [\n",
    "    NodeType.PUBLICATION,\n",
    "]\n",
    "\n",
    "edge_spec = [\n",
    "    #EdgeType.SIM_VENUE,\n",
    "    EdgeType.SIM_AUTHOR,\n",
    "]\n",
    "\n",
    "node_properties = [\n",
    "    'id',\n",
    "    'title',\n",
    "    'abstract',\n",
    "    'venue',\n",
    "    'title_emb',\n",
    "    'abstract_emb',\n",
    "    'venue_emb',\n",
    "    'true_author',\n",
    "]\n",
    "\n",
    "database = 'homogeneous-graph-compressed-emb'\n",
    "gs = GraphSampling(\n",
    "    node_spec=node_spec,\n",
    "    edge_spec=edge_spec,\n",
    "    node_properties=node_properties,\n",
    "    database=database,\n",
    ")\n",
    "\n",
    "# Model configurations\n",
    "config = {\n",
    "    'experiment': 'GATv2 encoder (with linear layer + dropout) trained on graph (publication nodes with title and abstract, similarity and co-author edges) using Pairwise Contrastive Loss and dimension reduced embeddings',\n",
    "    'max_hops': 3,\n",
    "    'model_node_feature': 'feature_vec',  # Node feature to use for GAT encoder\n",
    "    'hidden_channels': 64,\n",
    "    'out_channels': 16,\n",
    "    'num_heads': 8,\n",
    "    'margin': 1.0,\n",
    "    'optimizer': 'Adam',\n",
    "    'learning_rate': 0.005,\n",
    "    'weight_decay': 5e-4,\n",
    "    'num_epochs': 20,\n",
    "    'batch_size': 32,\n",
    "}\n",
    "\n",
    "model_class = HeteroGATEncoderLinearDropout\n",
    "device = torch.device('cuda' if torch.cuda.is_available() else 'cpu')\n",
    "\n",
    "\n",
    "save_file_postfix = \"hetero_edges_compressed_emb_linear_layer_dropout\""
   ],
   "id": "91b04efb689d61f4",
   "outputs": [],
   "execution_count": 19
  },
  {
   "metadata": {},
   "cell_type": "markdown",
   "source": "### Training functions",
   "id": "c0e4399d4af30692"
  },
  {
   "metadata": {
    "ExecuteTime": {
     "end_time": "2024-10-14T15:24:15.573083Z",
     "start_time": "2024-10-14T15:24:15.568925Z"
    }
   },
   "cell_type": "code",
   "source": [
    "def train(model, batch1, batch2, labels, optimizer):\n",
    "    model.train()\n",
    "    \n",
    "    optimizer.zero_grad()\n",
    "    \n",
    "    batch1 = batch1.to(device)\n",
    "    batch2 = batch2.to(device)\n",
    "    labels = labels.to(device)\n",
    "\n",
    "    embeddings1 = model(batch1)\n",
    "    embeddings2 = model(batch2)\n",
    "\n",
    "    embeddings1_central = embeddings1[NodeType.PUBLICATION.value][batch1.central_node_id]\n",
    "    embeddings2_central = embeddings2[NodeType.PUBLICATION.value][batch2.central_node_id]\n",
    "    \n",
    "    loss, _ = contrastive_loss(embeddings1_central, embeddings2_central, labels, config['margin'])\n",
    "    \n",
    "    loss.backward()\n",
    "    optimizer.step()\n",
    "        \n",
    "    batch_loss = loss.item()\n",
    "    #print(f\"Batch loss: {batch_loss:.4f}\")\n",
    "    return batch_loss\n",
    "\n",
    "def test(model, dataloader):\n",
    "    model.eval()\n",
    "    total_loss = 0\n",
    "    distances = []\n",
    "    labels_list = []\n",
    "    with torch.no_grad():\n",
    "        for batch1, batch2, labels in dataloader:\n",
    "            batch1 = batch1.to(device)\n",
    "            batch2 = batch2.to(device)\n",
    "            labels = labels.to(device)\n",
    "    \n",
    "            embeddings1 = model(batch1)\n",
    "            embeddings2 = model(batch2)\n",
    "            \n",
    "            embeddings1_central = embeddings1[NodeType.PUBLICATION.value][batch1.central_node_id]\n",
    "            embeddings2_central = embeddings2[NodeType.PUBLICATION.value][batch2.central_node_id]\n",
    "            \n",
    "            loss, dist = contrastive_loss(embeddings1_central, embeddings2_central, labels, config['margin'])\n",
    "            total_loss += loss.item()\n",
    "            distances.extend(dist.cpu().numpy())\n",
    "            labels_list.extend(labels.cpu().numpy())\n",
    "        \n",
    "    # Compute accuracy\n",
    "    distances = np.array(distances)\n",
    "    labels_list = np.array(labels_list).astype(int)\n",
    "    predictions = (distances <= config['margin']).astype(int)\n",
    "    accuracy = accuracy_score(labels_list, predictions)\n",
    "    \n",
    "    # Compute average loss    \n",
    "    avg_loss = total_loss / len(dataloader)\n",
    "    print(f\"Test Loss: {avg_loss:.4f}, Test Accuracy: {accuracy:.4f}\")\n",
    "    return avg_loss, accuracy\n",
    "    "
   ],
   "id": "2ff2cd9e6fd091ef",
   "outputs": [],
   "execution_count": 20
  },
  {
   "metadata": {},
   "cell_type": "markdown",
   "source": "### Training Configuration",
   "id": "b67cf89d3d17cc12"
  },
  {
   "metadata": {
    "ExecuteTime": {
     "end_time": "2024-10-14T15:24:15.633133Z",
     "start_time": "2024-10-14T15:24:15.622961Z"
    }
   },
   "cell_type": "code",
   "source": [
    "db = DatabaseWrapper(database=database)\n",
    "data_harvester = PairDataHarvester(db=db, gs=gs, edge_spec=edge_spec, config=config, save_file_postfix=save_file_postfix)\n",
    "\n",
    "\n",
    "# Split the pairs into train and test\n",
    "random.shuffle(data_harvester.pairs)\n",
    "train_size = int(0.95 * len(data_harvester.pairs))\n",
    "train_pairs = data_harvester.pairs[:train_size]\n",
    "test_pairs = data_harvester.pairs[train_size:]\n",
    "config['train_size'] = train_size\n",
    "config['test_size'] = len(data_harvester.pairs) - train_size\n",
    "\n",
    "# Create the datasets from the pairs (distinct pairs for training and testing)\n",
    "train_dataset = GraphPairDataset(train_pairs, gs, config=config)\n",
    "test_dataset = GraphPairDataset(test_pairs, gs, config=config)\n",
    "\n",
    "# Create the DataLoader\n",
    "train_dataloader = DataLoader(train_dataset, batch_size=config['batch_size'], shuffle=True, collate_fn=custom_pair_collate)\n",
    "test_dataloader = DataLoader(test_dataset, batch_size=config['batch_size'], shuffle=False, collate_fn=custom_pair_collate)\n",
    "\n",
    "# Create model\n",
    "metadata = (\n",
    "    [n.value for n in node_spec],\n",
    "    [edge_pyg_key_vals[r] for r in edge_spec]\n",
    ")\n",
    "config['node_spec'] = metadata[0]\n",
    "config['edge_spec'] = metadata[1]\n",
    "model = model_class(metadata, config['hidden_channels'], config['out_channels'], num_heads=config['num_heads']).to(device)\n",
    "optimizer = Adam(model.parameters(), lr=config['learning_rate'], weight_decay=config['weight_decay'])"
   ],
   "id": "62ef1028a5c5fd5d",
   "outputs": [
    {
     "name": "stderr",
     "output_type": "stream",
     "text": [
      "2024-10-14 17:24:15,625 - DatabaseWrapper - INFO - Connecting to the database ...\n",
      "2024-10-14 17:24:15,625 - DatabaseWrapper - INFO - Database ready.\n"
     ]
    },
    {
     "name": "stdout",
     "output_type": "stream",
     "text": [
      "Preparing pairs...\n",
      "Loading pairs...\n",
      "Loaded 6006 pairs.\n"
     ]
    }
   ],
   "execution_count": 21
  },
  {
   "metadata": {},
   "cell_type": "markdown",
   "source": "### Training Loop",
   "id": "bdf9a36f9d9a6f43"
  },
  {
   "metadata": {
    "jupyter": {
     "is_executing": true
    },
    "ExecuteTime": {
     "start_time": "2024-10-14T15:24:15.679602Z"
    }
   },
   "cell_type": "code",
   "source": [
    "num_epochs = config['num_epochs']\n",
    "margin = 1.0  # Margin for contrastive loss\n",
    "train_losses = []\n",
    "test_losses = []\n",
    "test_accuracies = []\n",
    "\n",
    "for epoch in range(1, num_epochs + 1):\n",
    "    epoch_marker_pos = list(range(0, len(train_dataloader) * epoch, len(train_dataloader)))\n",
    "    \n",
    "    for data1, data2, labels in tqdm(train_dataloader, desc=f\"Epoch {epoch}/{num_epochs}\"):\n",
    "        if data1 is None or data2 is None:\n",
    "            continue\n",
    "        \n",
    "        if len(train_losses) % 10 == 0:\n",
    "            test_loss, test_accuracy = test(model, test_dataloader)\n",
    "            test_losses.append(test_loss)\n",
    "            test_accuracies.append(test_accuracy)\n",
    "            test_epoch_marker_pos = [marker/10 for marker in epoch_marker_pos if marker != 0]\n",
    "            plot_loss(test_losses, epoch_marker_pos=test_epoch_marker_pos, plot_title='Test Loss', plot_avg=True, plot_file=f'./data/losses/test_loss_{save_file_postfix}.png')\n",
    "            plot_loss(test_accuracies, epoch_marker_pos=test_epoch_marker_pos, plot_title='Test Accuracy', plot_avg=True, plot_file=f'./data/losses/test_accuracy_{save_file_postfix}.png')\n",
    "            \n",
    "        loss = train(model, data1, data2, labels, optimizer)\n",
    "        train_losses.append(loss)\n",
    "        \n",
    "        plot_loss(train_losses, epoch_marker_pos=epoch_marker_pos, plot_title='Training Loss', plot_file=f'./data/losses/train_loss_{save_file_postfix}.png')\n",
    "    \n",
    "    # Save config and training results\n",
    "    save_training_results(train_losses, test_losses, None, config, f'./data/results/training_results_{save_file_postfix}.json')\n",
    "    \n",
    "    # Save model if loss has decreased\n",
    "    if len(test_losses) > 1 and test_losses[-1] < min(test_losses[:-1]):\n",
    "        print(f\"Saving model at epoch {epoch}...\")\n",
    "        torch.save(model.state_dict(), f'./data/models/gat_encoder_{save_file_postfix}.pt')"
   ],
   "id": "c3b28cd52881796",
   "outputs": [
    {
     "data": {
      "text/plain": [
       "Epoch 1/20:   0%|          | 0/179 [00:00<?, ?it/s]"
      ],
      "application/vnd.jupyter.widget-view+json": {
       "version_major": 2,
       "version_minor": 0,
       "model_id": "0e66f6f402404ccdb82577b1c40f61f7"
      }
     },
     "metadata": {},
     "output_type": "display_data"
    },
    {
     "name": "stdout",
     "output_type": "stream",
     "text": [
      "Test Loss: 0.3913, Test Accuracy: 0.4917\n",
      "Test Loss: 0.2324, Test Accuracy: 0.6412\n",
      "Test Loss: 0.2100, Test Accuracy: 0.5648\n",
      "Test Loss: 0.2037, Test Accuracy: 0.6213\n",
      "Test Loss: 0.1995, Test Accuracy: 0.6146\n",
      "Test Loss: 0.1964, Test Accuracy: 0.6080\n",
      "Test Loss: 0.1869, Test Accuracy: 0.6080\n",
      "Test Loss: 0.1797, Test Accuracy: 0.6047\n"
     ]
    }
   ],
   "execution_count": null
  }
 ],
 "metadata": {
  "kernelspec": {
   "display_name": "Python 3",
   "language": "python",
   "name": "python3"
  },
  "language_info": {
   "codemirror_mode": {
    "name": "ipython",
    "version": 2
   },
   "file_extension": ".py",
   "mimetype": "text/x-python",
   "name": "python",
   "nbconvert_exporter": "python",
   "pygments_lexer": "ipython2",
   "version": "2.7.6"
  }
 },
 "nbformat": 4,
 "nbformat_minor": 5
}
