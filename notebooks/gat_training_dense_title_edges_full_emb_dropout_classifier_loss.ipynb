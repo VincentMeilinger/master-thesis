{
 "cells": [
  {
   "cell_type": "code",
   "id": "initial_id",
   "metadata": {
    "collapsed": true,
    "ExecuteTime": {
     "end_time": "2024-12-10T09:25:27.288666Z",
     "start_time": "2024-12-10T09:25:27.285793Z"
    }
   },
   "source": [
    "from collections import defaultdict\n",
    "\n",
    "from util_homogeneous import *\n",
    "from util import *\n",
    "from training_homogeneous_classification_loss import *\n",
    "from gat_models import *\n",
    "\n",
    "import random\n",
    "import numpy as np\n",
    "from sklearn.metrics import accuracy_score\n",
    "from tqdm.notebook import tqdm\n",
    "from torch_geometric.loader import DataLoader\n",
    "from torch.optim import Adam\n",
    "from torch.nn.modules.loss import TripletMarginLoss\n",
    "\n",
    "from src.shared.database_wrapper import DatabaseWrapper\n",
    "from src.shared.graph_schema import *\n",
    "from src.shared.graph_sampling import GraphSampling\n",
    "\n",
    "random.seed(40)\n",
    "np.random.seed(40)\n",
    "torch.manual_seed(40)\n",
    "torch.cuda.manual_seed_all(40)"
   ],
   "outputs": [],
   "execution_count": 17
  },
  {
   "metadata": {},
   "cell_type": "markdown",
   "source": "## Configurations",
   "id": "ee4fa502d7e51e50"
  },
  {
   "metadata": {
    "ExecuteTime": {
     "end_time": "2024-12-10T09:25:27.310226Z",
     "start_time": "2024-12-10T09:25:27.301629Z"
    }
   },
   "cell_type": "code",
   "source": [
    "# Graph sampling configurations\n",
    "node_spec = NodeType.PUBLICATION\n",
    "\n",
    "edge_spec = EdgeType.SIM_ABSTRACT\n",
    "\n",
    "node_properties = [\n",
    "    'id',\n",
    "    'feature_vec',\n",
    "]\n",
    "\n",
    "database = 'small-graph'\n",
    "gs = GraphSampling(\n",
    "    node_spec=[node_spec],\n",
    "    edge_spec=[edge_spec],\n",
    "    node_properties=node_properties,\n",
    "    database=database\n",
    ")\n",
    "\n",
    "# Model configurations\n",
    "\n",
    "config = {\n",
    "    'experiment': 'GATv2 encoder (with linear layer + dropout) trained on small graph (publication nodes with title and abstract, org edges) using Triplet Loss and full embeddings',\n",
    "    'max_hops': 2,\n",
    "    'model_node_feature': 'feature_vec',  # Node feature to use for GAT encoder\n",
    "    'hidden_channels': 64,\n",
    "    'out_channels': 16,\n",
    "    'num_heads': 8,\n",
    "    'dropout_p': 0.4,\n",
    "    'margin': 1.0,\n",
    "    'optimizer': 'Adam',\n",
    "    'learning_rate': 0.005,\n",
    "    'weight_decay': 5e-4,\n",
    "    'num_epochs': 10,\n",
    "    'batch_size': 32,\n",
    "}\n",
    "\n",
    "model_class = HomoGATv2Encoder\n",
    "loss_fn = TripletMarginLoss(margin=config['margin'])\n",
    "device = torch.device('cuda' if torch.cuda.is_available() else 'cpu')\n",
    "\n",
    "# TODO: Adjust result folder name!\n",
    "result_folder_name = 'homogeneous (abstract) full_emb linear_layer dropout dual_loss'\n",
    "result_folder_path = f'./data/results/{result_folder_name}'\n",
    "if not os.path.exists(result_folder_path):\n",
    "    os.mkdir(result_folder_path)"
   ],
   "id": "91b04efb689d61f4",
   "outputs": [
    {
     "name": "stdout",
     "output_type": "stream",
     "text": [
      "Using default edge type: SimilarAbstract for homogeneous graph sampling.\n"
     ]
    }
   ],
   "execution_count": 18
  },
  {
   "metadata": {
    "ExecuteTime": {
     "end_time": "2024-12-10T09:25:27.416572Z",
     "start_time": "2024-12-10T09:25:27.377848Z"
    }
   },
   "cell_type": "code",
   "source": [
    "db = DatabaseWrapper(database=database)\n",
    "data_harvester = TripletDataHarvester(db=db, gs=gs, edge_spec=[edge_spec], config=config, valid_triplets_save_file='valid_triplets_homogeneous_abstract_small_graph', transformer_model='sentence-transformers/all-MiniLM-L6-v2')\n",
    "\n",
    "\n",
    "# Split the pairs into train and test\n",
    "\n",
    "# Harvest the evaluation triplets first, since triplets are ordered by author. This will ensure that the evaluation set has authors not seen in the training set.\n",
    "num_eval_authors = 3\n",
    "eval_papers = set()\n",
    "train_data = WhoIsWhoDataset.parse_train()\n",
    "for i, val in enumerate(train_data.values()):\n",
    "    num_eval_authors -= 1\n",
    "    for paper in val['normal_data']:\n",
    "        eval_papers.add(paper)\n",
    "    if num_eval_authors == 0:\n",
    "        break\n",
    "eval_triplets = []\n",
    "for triplet in data_harvester.triplets:\n",
    "    if triplet[0] in eval_papers or triplet[1] in eval_papers or triplet[2] in eval_papers:\n",
    "        eval_triplets.append(triplet)\n",
    "\n",
    "# Remove the evaluation triplets from the data harvester\n",
    "train_test_triplets = [triplet for triplet in data_harvester.triplets if triplet not in eval_triplets]\n",
    "\n",
    "random.shuffle(train_test_triplets)\n",
    "\n",
    "train_size = int(0.85 * len(train_test_triplets))\n",
    "test_size = len(train_test_triplets) - train_size\n",
    "\n",
    "train_triplets = train_test_triplets[:train_size]\n",
    "test_triplets = train_test_triplets[train_size:]\n",
    "config['train_size'] = len(train_triplets)\n",
    "config['test_size'] = len(test_triplets)\n",
    "config['eval_size'] = len(eval_triplets)\n",
    "\n",
    "print(f\"Train size: {len(train_triplets)}, Test size: {len(test_triplets)}, Eval size: {len(eval_triplets)}\")\n",
    "\n",
    "# Create the datasets from the pairs (distinct pairs for training and testing)\n",
    "train_dataset = HomogeneousGraphTripletDataset(train_triplets, gs, config=config)\n",
    "test_dataset = HomogeneousGraphTripletDataset(test_triplets, gs, config=config)\n",
    "eval_dataset = HomogeneousGraphTripletDataset(eval_triplets, gs, config=config)\n",
    "\n",
    "# Create the DataLoader\n",
    "train_dataloader = DataLoader(train_dataset, batch_size=config['batch_size'], shuffle=True, collate_fn=custom_triplet_collate)\n",
    "test_dataloader = DataLoader(test_dataset, batch_size=config['batch_size'], shuffle=False, collate_fn=custom_triplet_collate)\n",
    "eval_dataloader = DataLoader(eval_dataset, batch_size=config['batch_size'], shuffle=False, collate_fn=custom_triplet_collate)\n",
    "\n",
    "# Create model\n",
    "metadata = (\n",
    "    node_spec.value,\n",
    "    edge_spec.value\n",
    ")\n",
    "config['node_spec'] = metadata[0]\n",
    "config['edge_spec'] = metadata[1]\n",
    "model = model_class(config['hidden_channels'], config['out_channels'], num_heads=config['num_heads'], dropout_p=config['dropout_p']).to(device)\n",
    "optimizer = Adam(model.parameters(), lr=config['learning_rate'], weight_decay=config['weight_decay'])"
   ],
   "id": "62ef1028a5c5fd5d",
   "outputs": [
    {
     "name": "stderr",
     "output_type": "stream",
     "text": [
      "2024-12-10 10:25:27,381 - DatabaseWrapper - INFO - Connecting to the database ...\n",
      "2024-12-10 10:25:27,382 - DatabaseWrapper - INFO - Database ready.\n"
     ]
    },
    {
     "name": "stdout",
     "output_type": "stream",
     "text": [
      "Preparing triplets...\n",
      "Loading triplets...\n",
      "Loaded 5150 triplets.\n",
      "Train size: 4130, Test size: 729, Eval size: 291\n"
     ]
    }
   ],
   "execution_count": 19
  },
  {
   "metadata": {
    "ExecuteTime": {
     "end_time": "2024-12-10T10:23:11.850808Z",
     "start_time": "2024-12-10T09:25:27.434269Z"
    }
   },
   "cell_type": "code",
   "source": [
    "num_epochs = config['num_epochs']\n",
    "results = defaultdict(list)\n",
    "\n",
    "current_batch = 1\n",
    "\n",
    "for epoch in range(1, num_epochs + 1):\n",
    "    print(f\"=== Epoch {epoch}/{num_epochs} ======================\")\n",
    "    epoch_marker_pos = list(range(0, len(train_dataloader) * epoch, len(train_dataloader)))\n",
    "    current_batch = 1\n",
    "    for batch_anchor, batch_pos, batch_neg in tqdm(train_dataloader, desc=f\"Epoch {epoch}/{num_epochs}\"):\n",
    "        if batch_anchor is None or batch_pos is None or batch_neg is None:\n",
    "            continue\n",
    "        \n",
    "        if current_batch == 1 or current_batch == len(train_dataloader) // 2:\n",
    "            print(f\"___ Current Batch {current_batch}/{len(train_dataloader)} _________________________\")\n",
    "            # Model testing\n",
    "            print(\"    Test Results:\")\n",
    "            test_loss, test_triplet_loss, test_cross_entropy_loss, test_num_correct, test_correct_pos_val, test_correct_neg_val = test_and_eval(\n",
    "                model=model,\n",
    "                loss_fn=loss_fn,\n",
    "                dataloader=test_dataloader,\n",
    "                margin=config['margin']\n",
    "            )\n",
    "            results['test_total_loss'].append(test_loss)\n",
    "            results['test_triplet_loss'].append(test_triplet_loss)\n",
    "            results['test_neg_contrastive_loss'].append(test_cross_entropy_loss)\n",
    "            results['test_accuracies'].append(test_num_correct)\n",
    "            results['test_accuracies_correct_pos'].append(test_correct_pos_val)\n",
    "            results['test_accuracies_correct_neg'].append(test_correct_neg_val)\n",
    "    \n",
    "            plot_losses(\n",
    "                losses=[results['test_total_loss'], results['test_triplet_loss'], results['test_neg_contrastive_loss']], \n",
    "                epoch_len=2, \n",
    "                plot_title='Test Loss', \n",
    "                plot_file=result_folder_path + '/test_loss.png', \n",
    "                line_labels=[\"Total Loss\", \"Triplet Loss\", \"Neg. Contrastive Loss\"]\n",
    "            )\n",
    "            \n",
    "            plot_losses(\n",
    "                [results['test_accuracies'], results['test_accuracies_correct_pos'], results['test_accuracies_correct_neg']],\n",
    "                epoch_len=2,\n",
    "                plot_title='Test Accuracy',\n",
    "                x_label='Test Iterations',\n",
    "                y_label='Accuracy',\n",
    "                line_labels=['Total Accuracy', 'Correct Pos', 'Correct Neg'],\n",
    "                plot_file=result_folder_path + '/test_accuracy.png'\n",
    "            )\n",
    "            \n",
    "            # Model evaluation\n",
    "            print(\"    Eval Results:\")\n",
    "            eval_loss, eval_triplet_loss, eval_cross_entropy_loss, eval_num_correct, eval_correct_pos_val, eval_correct_neg_val = test_and_eval(\n",
    "                model=model,\n",
    "                loss_fn=loss_fn,\n",
    "                dataloader=eval_dataloader,\n",
    "                margin=config['margin']\n",
    "            )\n",
    "            results['eval_total_loss'].append(eval_loss)\n",
    "            results['eval_triplet_loss'].append(eval_triplet_loss)\n",
    "            results['eval_neg_contrastive_loss'].append(eval_cross_entropy_loss)\n",
    "            results['eval_accuracies'].append(eval_num_correct)\n",
    "            results['eval_accuracies_correct_pos'].append(eval_correct_pos_val)\n",
    "            results['eval_accuracies_correct_neg'].append(eval_correct_neg_val)\n",
    "            \n",
    "            plot_losses(\n",
    "                losses=[results['eval_total_loss'], results['eval_triplet_loss'], results['eval_neg_contrastive_loss']], \n",
    "                epoch_len=2, \n",
    "                plot_title='Evaluation Loss', \n",
    "                plot_file=result_folder_path + '/eval_loss.png', \n",
    "                line_labels=[\"Total Loss\", \"Triplet Loss\", \"Neg. Contrastive Loss\"]\n",
    "            )\n",
    "            \n",
    "            plot_losses(\n",
    "                [results['eval_accuracies'], results['eval_accuracies_correct_pos'], results['eval_accuracies_correct_neg']], \n",
    "                epoch_len=2, \n",
    "                plot_title='Evaluation Accuracy', \n",
    "                x_label='Eval Iterations',\n",
    "                y_label='Accuracy',\n",
    "                line_labels=['Total Accuracy', 'Correct Pos', 'Correct Neg'],\n",
    "                plot_file=result_folder_path + '/eval_accuracy.png'\n",
    "            )\n",
    "            \n",
    "            # Save config and training results\n",
    "            config['results'] = results\n",
    "            save_dict_to_json(config, result_folder_path + '/training_data.json')\n",
    "            \n",
    "        loss = train_dual_objective(\n",
    "            model=model,\n",
    "            loss_fn=loss_fn,\n",
    "            batch_anchor=batch_anchor,\n",
    "            batch_pos=batch_pos,\n",
    "            batch_neg=batch_neg,\n",
    "            optimizer=optimizer\n",
    "        )\n",
    "        results['train_loss'].append(loss)\n",
    "        \n",
    "        plot_loss(results['train_loss'], epoch_len=len(train_dataloader), plot_title='Training Loss', plot_avg=True, plot_file=result_folder_path + '/train_loss.png')\n",
    "        current_batch += 1\n",
    "        \n",
    "    # Save model if loss has decreased\n",
    "    if len(results['test_total_loss']) > 1 and results['test_total_loss'][-1] < min(results['test_total_loss'][:-1]):\n",
    "        print(f\"Saving model at epoch {epoch}...\")\n",
    "        torch.save(model.state_dict(), result_folder_path + '/gat_encoder.pt')"
   ],
   "id": "c3b28cd52881796",
   "outputs": [
    {
     "name": "stdout",
     "output_type": "stream",
     "text": [
      "=== Epoch 1/10 ======================\n"
     ]
    },
    {
     "data": {
      "text/plain": [
       "Epoch 1/10:   0%|          | 0/130 [00:00<?, ?it/s]"
      ],
      "application/vnd.jupyter.widget-view+json": {
       "version_major": 2,
       "version_minor": 0,
       "model_id": "d104ae88eb0c41078896f4eb4255da8f"
      }
     },
     "metadata": {},
     "output_type": "display_data"
    },
    {
     "name": "stdout",
     "output_type": "stream",
     "text": [
      "___ Current Batch 1/130 _________________________\n",
      "    Test Results:\n",
      "        Correct positive: 729 (100.00%), Correct negative: 0 (0.00%)\n",
      "        Total correct: 729 (50.00%)\n",
      "        Test/Eval Loss: 1.2658, Test/Eval Accuracy: 0.5000\n",
      "        Triplet Loss: 0.9929, Cross Entropy Loss: 0.2729\n",
      "    Eval Results:\n",
      "        Correct positive: 291 (100.00%), Correct negative: 0 (0.00%)\n",
      "        Total correct: 291 (50.00%)\n",
      "        Test/Eval Loss: 1.1611, Test/Eval Accuracy: 0.5000\n",
      "        Triplet Loss: 0.9403, Cross Entropy Loss: 0.2208\n",
      "___ Current Batch 65/130 _________________________\n",
      "    Test Results:\n",
      "        Correct positive: 580 (79.56%), Correct negative: 503 (69.00%)\n",
      "        Total correct: 1083 (74.28%)\n",
      "        Test/Eval Loss: 0.5558, Test/Eval Accuracy: 0.7428\n",
      "        Triplet Loss: 0.4634, Cross Entropy Loss: 0.0923\n",
      "    Eval Results:\n",
      "        Correct positive: 153 (52.58%), Correct negative: 272 (93.47%)\n",
      "        Total correct: 425 (73.02%)\n",
      "        Test/Eval Loss: 0.4271, Test/Eval Accuracy: 0.7302\n",
      "        Triplet Loss: 0.3920, Cross Entropy Loss: 0.0351\n",
      "Saving model at epoch 1...\n",
      "=== Epoch 2/10 ======================\n"
     ]
    },
    {
     "data": {
      "text/plain": [
       "Epoch 2/10:   0%|          | 0/130 [00:00<?, ?it/s]"
      ],
      "application/vnd.jupyter.widget-view+json": {
       "version_major": 2,
       "version_minor": 0,
       "model_id": "5fc5b4eddb3249b7b6c26b26e89e1f0e"
      }
     },
     "metadata": {},
     "output_type": "display_data"
    },
    {
     "name": "stdout",
     "output_type": "stream",
     "text": [
      "___ Current Batch 1/130 _________________________\n",
      "    Test Results:\n",
      "        Correct positive: 642 (88.07%), Correct negative: 443 (60.77%)\n",
      "        Total correct: 1085 (74.42%)\n",
      "        Test/Eval Loss: 0.5568, Test/Eval Accuracy: 0.7442\n",
      "        Triplet Loss: 0.4379, Cross Entropy Loss: 0.1189\n",
      "    Eval Results:\n",
      "        Correct positive: 184 (63.23%), Correct negative: 272 (93.47%)\n",
      "        Total correct: 456 (78.35%)\n",
      "        Test/Eval Loss: 0.3978, Test/Eval Accuracy: 0.7835\n",
      "        Triplet Loss: 0.3693, Cross Entropy Loss: 0.0285\n",
      "___ Current Batch 65/130 _________________________\n",
      "    Test Results:\n",
      "        Correct positive: 614 (84.22%), Correct negative: 534 (73.25%)\n",
      "        Total correct: 1148 (78.74%)\n",
      "        Test/Eval Loss: 0.4966, Test/Eval Accuracy: 0.7874\n",
      "        Triplet Loss: 0.3949, Cross Entropy Loss: 0.1017\n",
      "    Eval Results:\n",
      "        Correct positive: 157 (53.95%), Correct negative: 266 (91.41%)\n",
      "        Total correct: 423 (72.68%)\n",
      "        Test/Eval Loss: 0.4940, Test/Eval Accuracy: 0.7268\n",
      "        Triplet Loss: 0.4686, Cross Entropy Loss: 0.0254\n",
      "Saving model at epoch 2...\n",
      "=== Epoch 3/10 ======================\n"
     ]
    },
    {
     "data": {
      "text/plain": [
       "Epoch 3/10:   0%|          | 0/130 [00:00<?, ?it/s]"
      ],
      "application/vnd.jupyter.widget-view+json": {
       "version_major": 2,
       "version_minor": 0,
       "model_id": "8efe6e7afb5641419795a55571b1e31f"
      }
     },
     "metadata": {},
     "output_type": "display_data"
    },
    {
     "name": "stdout",
     "output_type": "stream",
     "text": [
      "___ Current Batch 1/130 _________________________\n",
      "    Test Results:\n",
      "        Correct positive: 641 (87.93%), Correct negative: 473 (64.88%)\n",
      "        Total correct: 1114 (76.41%)\n",
      "        Test/Eval Loss: 0.5379, Test/Eval Accuracy: 0.7641\n",
      "        Triplet Loss: 0.4087, Cross Entropy Loss: 0.1292\n",
      "    Eval Results:\n",
      "        Correct positive: 162 (55.67%), Correct negative: 275 (94.50%)\n",
      "        Total correct: 437 (75.09%)\n",
      "        Test/Eval Loss: 0.4044, Test/Eval Accuracy: 0.7509\n",
      "        Triplet Loss: 0.3915, Cross Entropy Loss: 0.0130\n",
      "___ Current Batch 65/130 _________________________\n",
      "    Test Results:\n",
      "        Correct positive: 621 (85.19%), Correct negative: 554 (75.99%)\n",
      "        Total correct: 1175 (80.59%)\n",
      "        Test/Eval Loss: 0.4040, Test/Eval Accuracy: 0.8059\n",
      "        Triplet Loss: 0.3522, Cross Entropy Loss: 0.0518\n",
      "    Eval Results:\n",
      "        Correct positive: 183 (62.89%), Correct negative: 280 (96.22%)\n",
      "        Total correct: 463 (79.55%)\n",
      "        Test/Eval Loss: 0.2837, Test/Eval Accuracy: 0.7955\n",
      "        Triplet Loss: 0.2669, Cross Entropy Loss: 0.0167\n",
      "Saving model at epoch 3...\n",
      "=== Epoch 4/10 ======================\n"
     ]
    },
    {
     "data": {
      "text/plain": [
       "Epoch 4/10:   0%|          | 0/130 [00:00<?, ?it/s]"
      ],
      "application/vnd.jupyter.widget-view+json": {
       "version_major": 2,
       "version_minor": 0,
       "model_id": "1ba7554aaa57453ba7d032fe930d2268"
      }
     },
     "metadata": {},
     "output_type": "display_data"
    },
    {
     "name": "stdout",
     "output_type": "stream",
     "text": [
      "___ Current Batch 1/130 _________________________\n",
      "    Test Results:\n",
      "        Correct positive: 634 (86.97%), Correct negative: 574 (78.74%)\n",
      "        Total correct: 1208 (82.85%)\n",
      "        Test/Eval Loss: 0.3869, Test/Eval Accuracy: 0.8285\n",
      "        Triplet Loss: 0.3177, Cross Entropy Loss: 0.0693\n",
      "    Eval Results:\n",
      "        Correct positive: 179 (61.51%), Correct negative: 284 (97.59%)\n",
      "        Total correct: 463 (79.55%)\n",
      "        Test/Eval Loss: 0.3107, Test/Eval Accuracy: 0.7955\n",
      "        Triplet Loss: 0.2949, Cross Entropy Loss: 0.0158\n",
      "___ Current Batch 65/130 _________________________\n",
      "    Test Results:\n",
      "        Correct positive: 656 (89.99%), Correct negative: 494 (67.76%)\n",
      "        Total correct: 1150 (78.88%)\n",
      "        Test/Eval Loss: 0.4660, Test/Eval Accuracy: 0.7888\n",
      "        Triplet Loss: 0.3655, Cross Entropy Loss: 0.1006\n",
      "    Eval Results:\n",
      "        Correct positive: 156 (53.61%), Correct negative: 254 (87.29%)\n",
      "        Total correct: 410 (70.45%)\n",
      "        Test/Eval Loss: 0.5173, Test/Eval Accuracy: 0.7045\n",
      "        Triplet Loss: 0.4912, Cross Entropy Loss: 0.0262\n",
      "=== Epoch 5/10 ======================\n"
     ]
    },
    {
     "data": {
      "text/plain": [
       "Epoch 5/10:   0%|          | 0/130 [00:00<?, ?it/s]"
      ],
      "application/vnd.jupyter.widget-view+json": {
       "version_major": 2,
       "version_minor": 0,
       "model_id": "aaa366dde70e405dba5ef7fc949ba581"
      }
     },
     "metadata": {},
     "output_type": "display_data"
    },
    {
     "name": "stdout",
     "output_type": "stream",
     "text": [
      "___ Current Batch 1/130 _________________________\n",
      "    Test Results:\n",
      "        Correct positive: 661 (90.67%), Correct negative: 529 (72.57%)\n",
      "        Total correct: 1190 (81.62%)\n",
      "        Test/Eval Loss: 0.4161, Test/Eval Accuracy: 0.8162\n",
      "        Triplet Loss: 0.3317, Cross Entropy Loss: 0.0844\n",
      "    Eval Results:\n",
      "        Correct positive: 217 (74.57%), Correct negative: 261 (89.69%)\n",
      "        Total correct: 478 (82.13%)\n",
      "        Test/Eval Loss: 0.3801, Test/Eval Accuracy: 0.8213\n",
      "        Triplet Loss: 0.3633, Cross Entropy Loss: 0.0168\n",
      "___ Current Batch 65/130 _________________________\n",
      "    Test Results:\n",
      "        Correct positive: 647 (88.75%), Correct negative: 510 (69.96%)\n",
      "        Total correct: 1157 (79.36%)\n",
      "        Test/Eval Loss: 0.4368, Test/Eval Accuracy: 0.7936\n",
      "        Triplet Loss: 0.3493, Cross Entropy Loss: 0.0875\n",
      "    Eval Results:\n",
      "        Correct positive: 223 (76.63%), Correct negative: 275 (94.50%)\n",
      "        Total correct: 498 (85.57%)\n",
      "        Test/Eval Loss: 0.3159, Test/Eval Accuracy: 0.8557\n",
      "        Triplet Loss: 0.2999, Cross Entropy Loss: 0.0160\n",
      "=== Epoch 6/10 ======================\n"
     ]
    },
    {
     "data": {
      "text/plain": [
       "Epoch 6/10:   0%|          | 0/130 [00:00<?, ?it/s]"
      ],
      "application/vnd.jupyter.widget-view+json": {
       "version_major": 2,
       "version_minor": 0,
       "model_id": "cd9c1c8aa7c4425883b42267b1bf0f6b"
      }
     },
     "metadata": {},
     "output_type": "display_data"
    },
    {
     "name": "stdout",
     "output_type": "stream",
     "text": [
      "___ Current Batch 1/130 _________________________\n",
      "    Test Results:\n",
      "        Correct positive: 647 (88.75%), Correct negative: 506 (69.41%)\n",
      "        Total correct: 1153 (79.08%)\n",
      "        Test/Eval Loss: 0.4717, Test/Eval Accuracy: 0.7908\n",
      "        Triplet Loss: 0.3754, Cross Entropy Loss: 0.0963\n",
      "    Eval Results:\n",
      "        Correct positive: 235 (80.76%), Correct negative: 205 (70.45%)\n",
      "        Total correct: 440 (75.60%)\n",
      "        Test/Eval Loss: 0.5243, Test/Eval Accuracy: 0.7560\n",
      "        Triplet Loss: 0.4881, Cross Entropy Loss: 0.0362\n",
      "___ Current Batch 65/130 _________________________\n",
      "    Test Results:\n",
      "        Correct positive: 631 (86.56%), Correct negative: 531 (72.84%)\n",
      "        Total correct: 1162 (79.70%)\n",
      "        Test/Eval Loss: 0.4577, Test/Eval Accuracy: 0.7970\n",
      "        Triplet Loss: 0.3662, Cross Entropy Loss: 0.0915\n",
      "    Eval Results:\n",
      "        Correct positive: 199 (68.38%), Correct negative: 250 (85.91%)\n",
      "        Total correct: 449 (77.15%)\n",
      "        Test/Eval Loss: 0.5241, Test/Eval Accuracy: 0.7715\n",
      "        Triplet Loss: 0.4843, Cross Entropy Loss: 0.0398\n",
      "=== Epoch 7/10 ======================\n"
     ]
    },
    {
     "data": {
      "text/plain": [
       "Epoch 7/10:   0%|          | 0/130 [00:00<?, ?it/s]"
      ],
      "application/vnd.jupyter.widget-view+json": {
       "version_major": 2,
       "version_minor": 0,
       "model_id": "ef3a7f3781e740198ca8a97c11bfecd6"
      }
     },
     "metadata": {},
     "output_type": "display_data"
    },
    {
     "name": "stdout",
     "output_type": "stream",
     "text": [
      "___ Current Batch 1/130 _________________________\n",
      "    Test Results:\n",
      "        Correct positive: 647 (88.75%), Correct negative: 495 (67.90%)\n",
      "        Total correct: 1142 (78.33%)\n",
      "        Test/Eval Loss: 0.4648, Test/Eval Accuracy: 0.7833\n",
      "        Triplet Loss: 0.3692, Cross Entropy Loss: 0.0956\n",
      "    Eval Results:\n",
      "        Correct positive: 223 (76.63%), Correct negative: 269 (92.44%)\n",
      "        Total correct: 492 (84.54%)\n",
      "        Test/Eval Loss: 0.3912, Test/Eval Accuracy: 0.8454\n",
      "        Triplet Loss: 0.3714, Cross Entropy Loss: 0.0199\n",
      "___ Current Batch 65/130 _________________________\n",
      "    Test Results:\n",
      "        Correct positive: 660 (90.53%), Correct negative: 512 (70.23%)\n",
      "        Total correct: 1172 (80.38%)\n",
      "        Test/Eval Loss: 0.4195, Test/Eval Accuracy: 0.8038\n",
      "        Triplet Loss: 0.3384, Cross Entropy Loss: 0.0811\n",
      "    Eval Results:\n",
      "        Correct positive: 245 (84.19%), Correct negative: 131 (45.02%)\n",
      "        Total correct: 376 (64.60%)\n",
      "        Test/Eval Loss: 0.6345, Test/Eval Accuracy: 0.6460\n",
      "        Triplet Loss: 0.5564, Cross Entropy Loss: 0.0781\n",
      "=== Epoch 8/10 ======================\n"
     ]
    },
    {
     "data": {
      "text/plain": [
       "Epoch 8/10:   0%|          | 0/130 [00:00<?, ?it/s]"
      ],
      "application/vnd.jupyter.widget-view+json": {
       "version_major": 2,
       "version_minor": 0,
       "model_id": "9409d69479e64048bde6ee9943982fdb"
      }
     },
     "metadata": {},
     "output_type": "display_data"
    },
    {
     "name": "stdout",
     "output_type": "stream",
     "text": [
      "___ Current Batch 1/130 _________________________\n",
      "    Test Results:\n",
      "        Correct positive: 651 (89.30%), Correct negative: 524 (71.88%)\n",
      "        Total correct: 1175 (80.59%)\n",
      "        Test/Eval Loss: 0.4438, Test/Eval Accuracy: 0.8059\n",
      "        Triplet Loss: 0.3668, Cross Entropy Loss: 0.0771\n",
      "    Eval Results:\n",
      "        Correct positive: 239 (82.13%), Correct negative: 184 (63.23%)\n",
      "        Total correct: 423 (72.68%)\n",
      "        Test/Eval Loss: 0.5401, Test/Eval Accuracy: 0.7268\n",
      "        Triplet Loss: 0.4790, Cross Entropy Loss: 0.0612\n",
      "___ Current Batch 65/130 _________________________\n",
      "    Test Results:\n",
      "        Correct positive: 657 (90.12%), Correct negative: 523 (71.74%)\n",
      "        Total correct: 1180 (80.93%)\n",
      "        Test/Eval Loss: 0.4732, Test/Eval Accuracy: 0.8093\n",
      "        Triplet Loss: 0.3618, Cross Entropy Loss: 0.1114\n",
      "    Eval Results:\n",
      "        Correct positive: 226 (77.66%), Correct negative: 156 (53.61%)\n",
      "        Total correct: 382 (65.64%)\n",
      "        Test/Eval Loss: 0.6636, Test/Eval Accuracy: 0.6564\n",
      "        Triplet Loss: 0.5917, Cross Entropy Loss: 0.0719\n",
      "=== Epoch 9/10 ======================\n"
     ]
    },
    {
     "data": {
      "text/plain": [
       "Epoch 9/10:   0%|          | 0/130 [00:00<?, ?it/s]"
      ],
      "application/vnd.jupyter.widget-view+json": {
       "version_major": 2,
       "version_minor": 0,
       "model_id": "6c2eba26e3fd4c72b9f3878ff5d3954f"
      }
     },
     "metadata": {},
     "output_type": "display_data"
    },
    {
     "name": "stdout",
     "output_type": "stream",
     "text": [
      "___ Current Batch 1/130 _________________________\n",
      "    Test Results:\n",
      "        Correct positive: 661 (90.67%), Correct negative: 478 (65.57%)\n",
      "        Total correct: 1139 (78.12%)\n",
      "        Test/Eval Loss: 0.5455, Test/Eval Accuracy: 0.7812\n",
      "        Triplet Loss: 0.4145, Cross Entropy Loss: 0.1310\n",
      "    Eval Results:\n",
      "        Correct positive: 179 (61.51%), Correct negative: 258 (88.66%)\n",
      "        Total correct: 437 (75.09%)\n",
      "        Test/Eval Loss: 0.4957, Test/Eval Accuracy: 0.7509\n",
      "        Triplet Loss: 0.4556, Cross Entropy Loss: 0.0400\n",
      "___ Current Batch 65/130 _________________________\n",
      "    Test Results:\n",
      "        Correct positive: 667 (91.50%), Correct negative: 456 (62.55%)\n",
      "        Total correct: 1123 (77.02%)\n",
      "        Test/Eval Loss: 0.5010, Test/Eval Accuracy: 0.7702\n",
      "        Triplet Loss: 0.3907, Cross Entropy Loss: 0.1104\n",
      "    Eval Results:\n",
      "        Correct positive: 197 (67.70%), Correct negative: 271 (93.13%)\n",
      "        Total correct: 468 (80.41%)\n",
      "        Test/Eval Loss: 0.4377, Test/Eval Accuracy: 0.8041\n",
      "        Triplet Loss: 0.4108, Cross Entropy Loss: 0.0269\n",
      "=== Epoch 10/10 ======================\n"
     ]
    },
    {
     "data": {
      "text/plain": [
       "Epoch 10/10:   0%|          | 0/130 [00:00<?, ?it/s]"
      ],
      "application/vnd.jupyter.widget-view+json": {
       "version_major": 2,
       "version_minor": 0,
       "model_id": "824fd5d712b14dcca5bdc70b230c44df"
      }
     },
     "metadata": {},
     "output_type": "display_data"
    },
    {
     "name": "stdout",
     "output_type": "stream",
     "text": [
      "___ Current Batch 1/130 _________________________\n",
      "    Test Results:\n",
      "        Correct positive: 664 (91.08%), Correct negative: 491 (67.35%)\n",
      "        Total correct: 1155 (79.22%)\n",
      "        Test/Eval Loss: 0.4853, Test/Eval Accuracy: 0.7922\n",
      "        Triplet Loss: 0.3800, Cross Entropy Loss: 0.1053\n",
      "    Eval Results:\n",
      "        Correct positive: 215 (73.88%), Correct negative: 254 (87.29%)\n",
      "        Total correct: 469 (80.58%)\n",
      "        Test/Eval Loss: 0.4116, Test/Eval Accuracy: 0.8058\n",
      "        Triplet Loss: 0.3873, Cross Entropy Loss: 0.0243\n",
      "___ Current Batch 65/130 _________________________\n",
      "    Test Results:\n",
      "        Correct positive: 661 (90.67%), Correct negative: 539 (73.94%)\n",
      "        Total correct: 1200 (82.30%)\n",
      "        Test/Eval Loss: 0.3969, Test/Eval Accuracy: 0.8230\n",
      "        Triplet Loss: 0.3231, Cross Entropy Loss: 0.0738\n",
      "    Eval Results:\n",
      "        Correct positive: 230 (79.04%), Correct negative: 207 (71.13%)\n",
      "        Total correct: 437 (75.09%)\n",
      "        Test/Eval Loss: 0.4880, Test/Eval Accuracy: 0.7509\n",
      "        Triplet Loss: 0.4405, Cross Entropy Loss: 0.0475\n"
     ]
    }
   ],
   "execution_count": 20
  }
 ],
 "metadata": {
  "kernelspec": {
   "display_name": "Python 3",
   "language": "python",
   "name": "python3"
  },
  "language_info": {
   "codemirror_mode": {
    "name": "ipython",
    "version": 2
   },
   "file_extension": ".py",
   "mimetype": "text/x-python",
   "name": "python",
   "nbconvert_exporter": "python",
   "pygments_lexer": "ipython2",
   "version": "2.7.6"
  }
 },
 "nbformat": 4,
 "nbformat_minor": 5
}
