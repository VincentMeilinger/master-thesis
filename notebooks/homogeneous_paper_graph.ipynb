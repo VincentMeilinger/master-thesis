{
 "cells": [
  {
   "cell_type": "code",
   "id": "initial_id",
   "metadata": {
    "collapsed": true
   },
   "source": [
    "from sentence_transformers import SentenceTransformer\n",
    "from tqdm.notebook import tqdm\n",
    "from collections import defaultdict\n",
    "\n",
    "from src.datasets.who_is_who import WhoIsWhoDataset\n",
    "from src.shared.database_wrapper import DatabaseWrapper\n",
    "from src.shared.graph_schema import NodeType, EdgeType\n",
    "from src.shared.neo_to_pyg import GraphSampling\n",
    "from src.shared import config"
   ],
   "outputs": [],
   "execution_count": null
  },
  {
   "metadata": {},
   "cell_type": "code",
   "source": [
    "db = DatabaseWrapper(database='homogeneous-graph')\n",
    "db.create_vector_index('title_index', NodeType.PUBLICATION, 'title_emb', 32)\n",
    "db.create_vector_index('abstract_index', NodeType.PUBLICATION, 'abstract_emb', 32)\n",
    "db.create_vector_index('venue_index', NodeType.PUBLICATION, 'venue_emb', 32)\n",
    "data = WhoIsWhoDataset.parse_data()"
   ],
   "id": "7b4f2bfe1943d12a",
   "outputs": [],
   "execution_count": null
  },
  {
   "metadata": {},
   "cell_type": "code",
   "source": [
    "model = SentenceTransformer(\n",
    "    '../data/models/scibert_scivocab_uncased_sentence_transformer-32dim',\n",
    "    device='mps'\n",
    ")"
   ],
   "id": "9a313d7d87172b1c",
   "outputs": [],
   "execution_count": null
  },
  {
   "metadata": {},
   "cell_type": "code",
   "source": [
    "def process_batch(batch):\n",
    "    if not batch[NodeType.PUBLICATION]:\n",
    "        return\n",
    "    title_embs = model.encode(\n",
    "        [node['title'] for node in batch[NodeType.PUBLICATION]]\n",
    "    )\n",
    "    abstract_embs = model.encode(\n",
    "        [node['abstract'] for node in batch[NodeType.PUBLICATION]]\n",
    "    )\n",
    "    venue_embs = model.encode(\n",
    "        [node['venue'] for node in batch[NodeType.PUBLICATION]]\n",
    "    )\n",
    "    for i, node in enumerate(batch[NodeType.PUBLICATION]):\n",
    "        node['title_emb'] = title_embs[i]\n",
    "        node['abstract_emb'] = abstract_embs[i]\n",
    "        node['venue_emb'] = venue_embs[i]\n",
    "    db.merge_nodes(NodeType.PUBLICATION, batch[NodeType.PUBLICATION])\n",
    "    batch[NodeType.PUBLICATION] = []"
   ],
   "id": "80d384ca1c9de88d",
   "outputs": [],
   "execution_count": null
  },
  {
   "metadata": {},
   "cell_type": "code",
   "source": [
    "batch_nodes = defaultdict(list)\n",
    "max_iterations = 10000\n",
    "current_iteration = 0\n",
    "with tqdm(total=max_iterations) as pbar:\n",
    "    for author_id, values in data.items():\n",
    "        if max_iterations is not None and current_iteration >= max_iterations:\n",
    "            break\n",
    "        current_iteration += 1\n",
    "        pbar.update(1)\n",
    "        \n",
    "        paper_node = {\n",
    "            'id': values['id'],\n",
    "            'title': values['title'],\n",
    "            'abstract': values['abstract'],\n",
    "            'year': values['year'],\n",
    "            'venue': values['venue'],\n",
    "        }\n",
    "        batch_nodes[NodeType.PUBLICATION].append(paper_node)\n",
    "        \n",
    "        if len(batch_nodes[NodeType.PUBLICATION]) % 1000 == 0:\n",
    "            process_batch(batch_nodes)\n",
    "\n",
    "process_batch(batch_nodes)"
   ],
   "id": "29946cd86c709ff8",
   "outputs": [],
   "execution_count": null
  },
  {
   "metadata": {},
   "cell_type": "code",
   "source": [
    "true_author_data = WhoIsWhoDataset.parse_train()\n",
    "props = []\n",
    "with tqdm(total=len(true_author_data.items()), desc=\"Merging WhoIsWho train_author.json\") as pbar:\n",
    "    for author_id, values in true_author_data.items():\n",
    "        author_name = values['name']\n",
    "        for pub_id in values['normal_data']:\n",
    "            db.merge_properties(NodeType.PUBLICATION, pub_id, {'true_author': author_name})\n",
    "        \"\"\"\n",
    "        for pub_id in values['normal_data']:\n",
    "            props.append({'id': pub_id, 'properties': {'true_author': author_name}})\n",
    "        pbar.update(1)\n",
    "        if len(props) > 1000:\n",
    "            db.merge_properties_batch(NodeType.PUBLICATION, props)\n",
    "            props.clear()\n",
    "\n",
    "    if props:\n",
    "        db.merge_properties_batch(NodeType.PUBLICATION, props)\n",
    "        \"\"\""
   ],
   "id": "9b2f2a4cbd1f8ad1",
   "outputs": [],
   "execution_count": null
  },
  {
   "metadata": {},
   "cell_type": "code",
   "source": "print(db.count_nodes(NodeType.PUBLICATION))",
   "id": "f02c30d1f448354f",
   "outputs": [],
   "execution_count": null
  },
  {
   "metadata": {},
   "cell_type": "code",
   "source": [
    "gs = GraphSampling(\n",
    "    node_spec=[NodeType.PUBLICATION], \n",
    "    edge_spec=[], \n",
    "    node_properties=['abstract_emb', 'title_emb', 'venue_emb']\n",
    ")"
   ],
   "id": "cabd3b3063d244b2",
   "outputs": [],
   "execution_count": null
  },
  {
   "metadata": {},
   "cell_type": "code",
   "source": [
    "nodes = gs.random_nodes(\n",
    "    node_type=NodeType.PUBLICATION,\n",
    "    node_properties=['abstract_emb', 'title_emb', 'venue_emb', 'true_author'],\n",
    "    n=1000\n",
    ")\n",
    "\n",
    "for node in nodes:\n",
    "    print(node)\n",
    "    break"
   ],
   "id": "9052fcccde7d1b21",
   "outputs": [],
   "execution_count": null
  },
  {
   "metadata": {},
   "cell_type": "code",
   "source": "",
   "id": "82533ad81894da8a",
   "outputs": [],
   "execution_count": null
  }
 ],
 "metadata": {
  "kernelspec": {
   "display_name": "Python 3",
   "language": "python",
   "name": "python3"
  },
  "language_info": {
   "codemirror_mode": {
    "name": "ipython",
    "version": 2
   },
   "file_extension": ".py",
   "mimetype": "text/x-python",
   "name": "python",
   "nbconvert_exporter": "python",
   "pygments_lexer": "ipython2",
   "version": "2.7.6"
  }
 },
 "nbformat": 4,
 "nbformat_minor": 5
}
