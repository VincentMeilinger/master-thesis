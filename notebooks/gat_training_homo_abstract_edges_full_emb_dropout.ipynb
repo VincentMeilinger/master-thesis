{
 "cells": [
  {
   "cell_type": "code",
   "id": "initial_id",
   "metadata": {
    "collapsed": true,
    "ExecuteTime": {
     "end_time": "2024-12-05T07:23:52.647967Z",
     "start_time": "2024-12-05T07:23:50.803807Z"
    }
   },
   "source": [
    "from util_homogeneous import *\n",
    "from util import *\n",
    "from training_homogeneous import *\n",
    "from gat_models import *\n",
    "\n",
    "from collections import defaultdict\n",
    "import random\n",
    "import numpy as np\n",
    "from sklearn.metrics import accuracy_score\n",
    "from tqdm.notebook import tqdm\n",
    "from torch_geometric.loader import DataLoader\n",
    "from torch.optim import Adam, SGD\n",
    "from torch.nn.modules.loss import TripletMarginLoss\n",
    "\n",
    "from src.shared.database_wrapper import DatabaseWrapper\n",
    "from src.shared.graph_schema import *\n",
    "from src.shared.graph_sampling import GraphSampling\n",
    "\n",
    "random.seed(40)\n",
    "np.random.seed(40)\n",
    "torch.manual_seed(40)\n",
    "torch.cuda.manual_seed_all(40)"
   ],
   "outputs": [
    {
     "name": "stderr",
     "output_type": "stream",
     "text": [
      "/home/vincie/.anaconda3/envs/master/lib/python3.9/site-packages/sentence_transformers/cross_encoder/CrossEncoder.py:11: TqdmExperimentalWarning: Using `tqdm.autonotebook.tqdm` in notebook mode. Use `tqdm.tqdm` instead to force console mode (e.g. in jupyter console)\n",
      "  from tqdm.autonotebook import tqdm, trange\n"
     ]
    }
   ],
   "execution_count": 1
  },
  {
   "metadata": {},
   "cell_type": "markdown",
   "source": "## Configurations",
   "id": "ee4fa502d7e51e50"
  },
  {
   "metadata": {
    "ExecuteTime": {
     "end_time": "2024-12-05T07:23:52.656679Z",
     "start_time": "2024-12-05T07:23:52.653052Z"
    }
   },
   "cell_type": "code",
   "source": [
    "# Graph sampling configurations\n",
    "node_spec = NodeType.PUBLICATION\n",
    "\n",
    "edge_spec = EdgeType.SIM_ABSTRACT\n",
    "\n",
    "node_properties = [\n",
    "    'id',\n",
    "    'feature_vec',\n",
    "]\n",
    "\n",
    "database = 'small-graph'\n",
    "gs = GraphSampling(\n",
    "    node_spec=[node_spec],\n",
    "    edge_spec=[edge_spec],\n",
    "    node_properties=node_properties,\n",
    "    database=database\n",
    ")\n",
    "\n",
    "# Model configurations\n",
    "\n",
    "config = {\n",
    "    'experiment': 'GATv2 encoder (with linear layer + dropout) trained on small graph (publication nodes with title and abstract, abstract edges) using Triplet Loss and full embeddings',\n",
    "    'max_hops': 2,\n",
    "    'model_node_feature': 'feature_vec',  # Node feature to use for GAT encoder\n",
    "    'hidden_channels': 64,\n",
    "    'out_channels': 16,\n",
    "    'num_heads': 8,\n",
    "    'dropout_p': 0.4,\n",
    "    'margin': 1.0,\n",
    "    'optimizer': 'Adam',\n",
    "    'learning_rate': 0.005,\n",
    "    'weight_decay': 5e-4,\n",
    "    'num_epochs': 10,\n",
    "    'batch_size': 32,\n",
    "}\n",
    "\n",
    "model_class = HomoGATv2Encoder\n",
    "loss_fn = TripletMarginLoss(margin=config['margin'])\n",
    "device = torch.device('cuda' if torch.cuda.is_available() else 'cpu')\n",
    "\n",
    "# TODO: Adjust result folder name!\n",
    "result_folder_name = 'homogeneous (abstract) full_emb linear_layer dropout'\n",
    "result_folder_path = f'./data/results/{result_folder_name}'\n",
    "if not os.path.exists(result_folder_path):\n",
    "    os.mkdir(result_folder_path)"
   ],
   "id": "91b04efb689d61f4",
   "outputs": [
    {
     "name": "stdout",
     "output_type": "stream",
     "text": [
      "Using default edge type: SimilarAbstract for homogeneous graph sampling.\n"
     ]
    }
   ],
   "execution_count": 2
  },
  {
   "metadata": {
    "ExecuteTime": {
     "end_time": "2024-12-05T07:25:43.883446Z",
     "start_time": "2024-12-05T07:23:52.702064Z"
    }
   },
   "cell_type": "code",
   "source": [
    "db = DatabaseWrapper(database=database)\n",
    "data_harvester = TripletDataHarvester(db=db, gs=gs, edge_spec=[edge_spec], config=config, valid_triplets_save_file='valid_triplets_homogeneous_abstract_small_graph', transformer_model='sentence-transformers/all-MiniLM-L6-v2')\n",
    "\n",
    "\n",
    "# Split the pairs into train and test\n",
    "\n",
    "train_size = int(0.85 * len(data_harvester.triplets))\n",
    "test_size = int(0.1 * len(data_harvester.triplets))\n",
    "eval_size = len(data_harvester.triplets) - train_size - test_size\n",
    "\n",
    "# Harvest the evaluation triplets first, since triplets are ordered by author. This will ensure that the evaluation set has authors not seen in the training set.\n",
    "eval_triplets = data_harvester.triplets[:eval_size]\n",
    "\n",
    "train_test_triplets = data_harvester.triplets[eval_size:]\n",
    "random.shuffle(train_test_triplets)\n",
    "\n",
    "train_triplets = train_test_triplets[:train_size]\n",
    "test_triplets = train_test_triplets[train_size:]\n",
    "config['train_size'] = len(train_triplets)\n",
    "config['test_size'] = len(test_triplets)\n",
    "config['eval_size'] = len(eval_triplets)\n",
    "\n",
    "print(f\"Train size: {len(train_triplets)}, Test size: {len(test_triplets)}, Eval size: {len(eval_triplets)}\")\n",
    "\n",
    "# Create the datasets from the pairs (distinct pairs for training and testing)\n",
    "train_dataset = HomogeneousGraphTripletDataset(train_triplets, gs, config=config)\n",
    "test_dataset = HomogeneousGraphTripletDataset(test_triplets, gs, config=config)\n",
    "eval_dataset = HomogeneousGraphTripletDataset(eval_triplets, gs, config=config)\n",
    "\n",
    "# Create the DataLoader\n",
    "train_dataloader = DataLoader(train_dataset, batch_size=config['batch_size'], shuffle=True, collate_fn=custom_triplet_collate)\n",
    "test_dataloader = DataLoader(test_dataset, batch_size=config['batch_size'], shuffle=False, collate_fn=custom_triplet_collate)\n",
    "eval_dataloader = DataLoader(eval_dataset, batch_size=config['batch_size'], shuffle=False, collate_fn=custom_triplet_collate)\n",
    "\n",
    "# Create model\n",
    "metadata = (\n",
    "    node_spec.value,\n",
    "    edge_spec.value\n",
    ")\n",
    "config['node_spec'] = metadata[0]\n",
    "config['edge_spec'] = metadata[1]\n",
    "model = model_class(config['hidden_channels'], config['out_channels'], num_heads=config['num_heads'], dropout_p=config['dropout_p']).to(device)\n",
    "#optimizer = SGD(model.parameters(), lr=0.1, momentum=0.9)\n",
    "optimizer = Adam(model.parameters(), lr=config['learning_rate'], weight_decay=config['weight_decay'])"
   ],
   "id": "62ef1028a5c5fd5d",
   "outputs": [
    {
     "name": "stderr",
     "output_type": "stream",
     "text": [
      "2024-12-05 08:23:52,705 - DatabaseWrapper - INFO - Connecting to the database ...\n",
      "2024-12-05 08:23:52,706 - DatabaseWrapper - INFO - Database ready.\n"
     ]
    },
    {
     "name": "stdout",
     "output_type": "stream",
     "text": [
      "Preparing triplets...\n",
      "Loading triplets...\n",
      "Could not load triplets from file. Generating triplets...\n",
      "Checking data validity...\n",
      "Out of 8865 checked papers, 3301 are valid and 5564 are invalid.\n",
      "Generating hard triplets ...\n"
     ]
    },
    {
     "name": "stderr",
     "output_type": "stream",
     "text": [
      "/home/vincie/.anaconda3/envs/master/lib/python3.9/site-packages/transformers/tokenization_utils_base.py:1601: FutureWarning: `clean_up_tokenization_spaces` was not set. It will be set to `True` by default. This behavior will be depracted in transformers v4.45, and will be then set to `False` by default. For more details check this issue: https://github.com/huggingface/transformers/issues/31884\n",
      "  warnings.warn(\n"
     ]
    },
    {
     "name": "stdout",
     "output_type": "stream",
     "text": [
      "Too few triplets generated: 2575. Generating more triplets...\n",
      "Total triplets generated: 5150. Done.\n",
      "Generated 5150 triplets.\n",
      "Saving triplets...\n",
      "Triplets saved.\n",
      "Train size: 4377, Test size: 515, Eval size: 258\n"
     ]
    }
   ],
   "execution_count": 3
  },
  {
   "metadata": {
    "ExecuteTime": {
     "end_time": "2024-12-05T08:19:32.965462Z",
     "start_time": "2024-12-05T07:25:43.897105Z"
    }
   },
   "cell_type": "code",
   "source": [
    "num_epochs = config['num_epochs']\n",
    "results = defaultdict(list)\n",
    "\n",
    "current_batch = 1\n",
    "\n",
    "for epoch in range(1, num_epochs + 1):\n",
    "    print(f\"=== Epoch {epoch}/{num_epochs} ======================\")\n",
    "    epoch_marker_pos = list(range(0, len(train_dataloader) * epoch, len(train_dataloader)))\n",
    "    current_batch = 1\n",
    "    for batch_anchor, batch_pos, batch_neg in tqdm(train_dataloader, desc=f\"Epoch {epoch}/{num_epochs}\"):\n",
    "        if batch_anchor is None or batch_pos is None or batch_neg is None:\n",
    "            continue\n",
    "        \n",
    "        if current_batch == 1 or current_batch == len(train_dataloader) // 2:\n",
    "            print(f\"___ Current Batch {current_batch}/{len(train_dataloader)} _________________________\")\n",
    "            # Model testing\n",
    "            print(\"    Test Results:\")\n",
    "            test_loss, test_num_correct, test_correct_pos_val, test_correct_neg_val, test_precision, test_recall, test_F1 = test_and_eval(\n",
    "                model=model,\n",
    "                loss_fn=loss_fn,\n",
    "                dataloader=test_dataloader,\n",
    "                margin=config['margin']\n",
    "            )\n",
    "            results['test_total_loss'].append(test_loss)\n",
    "            results['test_accuracies'].append(test_num_correct)\n",
    "            results['test_accuracies_correct_pos'].append(test_correct_pos_val)\n",
    "            results['test_accuracies_correct_neg'].append(test_correct_neg_val)\n",
    "            results['test_precision'].append(test_precision)\n",
    "            results['test_recall'].append(test_recall)\n",
    "            results['test_F1'].append(test_F1)\n",
    "    \n",
    "            plot_losses(\n",
    "                losses=[results['test_total_loss']], \n",
    "                epoch_len=2, \n",
    "                plot_title='Test Loss', \n",
    "                plot_file=result_folder_path + '/test_loss.png', \n",
    "                line_labels=[\"Triplet Loss\"]\n",
    "            )\n",
    "            \n",
    "            plot_losses(\n",
    "                [results['test_accuracies'], results['test_accuracies_correct_pos'], results['test_accuracies_correct_neg']],\n",
    "                epoch_len=2,\n",
    "                plot_title='Test Accuracy',\n",
    "                x_label='Test Iterations',\n",
    "                y_label='Accuracy',\n",
    "                line_labels=['Total Accuracy', 'Correct Pos', 'Correct Neg'],\n",
    "                plot_file=result_folder_path + '/test_accuracy.png'\n",
    "            )\n",
    "            \n",
    "            # Model evaluation\n",
    "            print(\"    Eval Results:\")\n",
    "            eval_loss, eval_num_correct, eval_correct_pos_val, eval_correct_neg_val, eval_precision, eval_recall, eval_F1 = test_and_eval(\n",
    "                model=model,\n",
    "                loss_fn=loss_fn,\n",
    "                dataloader=eval_dataloader,\n",
    "                margin=config['margin']\n",
    "            )\n",
    "            results['eval_total_loss'].append(eval_loss)\n",
    "            results['eval_accuracies'].append(eval_num_correct)\n",
    "            results['eval_accuracies_correct_pos'].append(eval_correct_pos_val)\n",
    "            results['eval_accuracies_correct_neg'].append(eval_correct_neg_val)\n",
    "            results['eval_precision'].append(eval_precision)\n",
    "            results['eval_recall'].append(eval_recall)\n",
    "            results['eval_F1'].append(eval_F1)\n",
    "            \n",
    "            plot_losses(\n",
    "                losses=[results['eval_total_loss']], \n",
    "                epoch_len=2, \n",
    "                plot_title='Evaluation Loss', \n",
    "                plot_file=result_folder_path + '/eval_loss.png', \n",
    "                line_labels=[\"Triplet Loss\"]\n",
    "            )\n",
    "            \n",
    "            plot_losses(\n",
    "                [results['eval_accuracies'], results['eval_accuracies_correct_pos'], results['eval_accuracies_correct_neg']], \n",
    "                epoch_len=2, \n",
    "                plot_title='Evaluation Accuracy', \n",
    "                x_label='Eval Iterations',\n",
    "                y_label='Accuracy',\n",
    "                line_labels=['Total Accuracy', 'Correct Pos', 'Correct Neg'],\n",
    "                plot_file=result_folder_path + '/eval_accuracy.png'\n",
    "            )\n",
    "            \n",
    "            # Save config and training results\n",
    "            config['results'] = results\n",
    "            save_dict_to_json(config, result_folder_path + '/training_data.json')\n",
    "            \n",
    "        loss = train(\n",
    "            model=model,\n",
    "            loss_fn=loss_fn,\n",
    "            batch_anchor=batch_anchor,\n",
    "            batch_pos=batch_pos,\n",
    "            batch_neg=batch_neg,\n",
    "            optimizer=optimizer\n",
    "        )\n",
    "        results['train_loss'].append(loss)\n",
    "        \n",
    "        plot_loss(results['train_loss'], epoch_len=len(train_dataloader), plot_title='Training Loss', plot_avg=True, plot_file=result_folder_path + '/train_loss.png')\n",
    "        current_batch += 1\n",
    "        \n",
    "    # Save model if loss has decreased\n",
    "    if len(results['test_total_loss']) > 1 and results['test_total_loss'][-1] < min(results['test_total_loss'][:-1]):\n",
    "        print(f\"Saving model at epoch {epoch}...\")\n",
    "        torch.save(model.state_dict(), result_folder_path + '/gat_encoder.pt')"
   ],
   "id": "c3b28cd52881796",
   "outputs": [
    {
     "name": "stdout",
     "output_type": "stream",
     "text": [
      "=== Epoch 1/10 ======================\n"
     ]
    },
    {
     "data": {
      "text/plain": [
       "Epoch 1/10:   0%|          | 0/137 [00:00<?, ?it/s]"
      ],
      "application/vnd.jupyter.widget-view+json": {
       "version_major": 2,
       "version_minor": 0,
       "model_id": "ef90ddf2b08e454fba69463190d1c907"
      }
     },
     "metadata": {},
     "output_type": "display_data"
    },
    {
     "name": "stdout",
     "output_type": "stream",
     "text": [
      "___ Current Batch 1/137 _________________________\n",
      "    Test Results:\n",
      "        Correct positive: 515 (100.00%), Correct negative: 0 (0.00%)\n",
      "        Total correct: 515 (50.00%)\n",
      "        Test/Eval Loss: 1.0172, Test/Eval Accuracy: 0.5000\n",
      "        Precision: 0.5000, Recall: 1.0000, F1: 0.6667\n",
      "    Eval Results:\n",
      "        Correct positive: 258 (100.00%), Correct negative: 0 (0.00%)\n",
      "        Total correct: 258 (50.00%)\n",
      "        Test/Eval Loss: 1.0544, Test/Eval Accuracy: 0.5000\n",
      "        Precision: 0.5000, Recall: 1.0000, F1: 0.6667\n",
      "___ Current Batch 68/137 _________________________\n",
      "    Test Results:\n",
      "        Correct positive: 434 (84.27%), Correct negative: 391 (75.92%)\n",
      "        Total correct: 825 (80.10%)\n",
      "        Test/Eval Loss: 0.3927, Test/Eval Accuracy: 0.8010\n",
      "        Precision: 0.7778, Recall: 0.8427, F1: 0.8089\n",
      "    Eval Results:\n",
      "        Correct positive: 181 (70.16%), Correct negative: 150 (58.14%)\n",
      "        Total correct: 331 (64.15%)\n",
      "        Test/Eval Loss: 0.5969, Test/Eval Accuracy: 0.6415\n",
      "        Precision: 0.6263, Recall: 0.7016, F1: 0.6618\n",
      "Saving model at epoch 1...\n",
      "=== Epoch 2/10 ======================\n"
     ]
    },
    {
     "data": {
      "text/plain": [
       "Epoch 2/10:   0%|          | 0/137 [00:00<?, ?it/s]"
      ],
      "application/vnd.jupyter.widget-view+json": {
       "version_major": 2,
       "version_minor": 0,
       "model_id": "9c4a1e5379444444a8c8a06acac9bfbd"
      }
     },
     "metadata": {},
     "output_type": "display_data"
    },
    {
     "name": "stdout",
     "output_type": "stream",
     "text": [
      "___ Current Batch 1/137 _________________________\n",
      "    Test Results:\n",
      "        Correct positive: 467 (90.68%), Correct negative: 313 (60.78%)\n",
      "        Total correct: 780 (75.73%)\n",
      "        Test/Eval Loss: 0.4335, Test/Eval Accuracy: 0.7573\n",
      "        Precision: 0.6981, Recall: 0.9068, F1: 0.7889\n",
      "    Eval Results:\n",
      "        Correct positive: 180 (69.77%), Correct negative: 165 (63.95%)\n",
      "        Total correct: 345 (66.86%)\n",
      "        Test/Eval Loss: 0.5700, Test/Eval Accuracy: 0.6686\n",
      "        Precision: 0.6593, Recall: 0.6977, F1: 0.6780\n",
      "___ Current Batch 68/137 _________________________\n",
      "    Test Results:\n",
      "        Correct positive: 472 (91.65%), Correct negative: 332 (64.47%)\n",
      "        Total correct: 804 (78.06%)\n",
      "        Test/Eval Loss: 0.3971, Test/Eval Accuracy: 0.7806\n",
      "        Precision: 0.7206, Recall: 0.9165, F1: 0.8068\n",
      "    Eval Results:\n",
      "        Correct positive: 183 (70.93%), Correct negative: 210 (81.40%)\n",
      "        Total correct: 393 (76.16%)\n",
      "        Test/Eval Loss: 0.4407, Test/Eval Accuracy: 0.7616\n",
      "        Precision: 0.7922, Recall: 0.7093, F1: 0.7485\n",
      "=== Epoch 3/10 ======================\n"
     ]
    },
    {
     "data": {
      "text/plain": [
       "Epoch 3/10:   0%|          | 0/137 [00:00<?, ?it/s]"
      ],
      "application/vnd.jupyter.widget-view+json": {
       "version_major": 2,
       "version_minor": 0,
       "model_id": "72e30a54b004414180d474f11c503cbf"
      }
     },
     "metadata": {},
     "output_type": "display_data"
    },
    {
     "name": "stdout",
     "output_type": "stream",
     "text": [
      "___ Current Batch 1/137 _________________________\n",
      "    Test Results:\n",
      "        Correct positive: 481 (93.40%), Correct negative: 328 (63.69%)\n",
      "        Total correct: 809 (78.54%)\n",
      "        Test/Eval Loss: 0.3793, Test/Eval Accuracy: 0.7854\n",
      "        Precision: 0.7201, Recall: 0.9340, F1: 0.8132\n",
      "    Eval Results:\n",
      "        Correct positive: 193 (74.81%), Correct negative: 165 (63.95%)\n",
      "        Total correct: 358 (69.38%)\n",
      "        Test/Eval Loss: 0.5137, Test/Eval Accuracy: 0.6938\n",
      "        Precision: 0.6748, Recall: 0.7481, F1: 0.7096\n",
      "___ Current Batch 68/137 _________________________\n",
      "    Test Results:\n",
      "        Correct positive: 489 (94.95%), Correct negative: 282 (54.76%)\n",
      "        Total correct: 771 (74.85%)\n",
      "        Test/Eval Loss: 0.4602, Test/Eval Accuracy: 0.7485\n",
      "        Precision: 0.6773, Recall: 0.9495, F1: 0.7906\n",
      "    Eval Results:\n",
      "        Correct positive: 201 (77.91%), Correct negative: 163 (63.18%)\n",
      "        Total correct: 364 (70.54%)\n",
      "        Test/Eval Loss: 0.4741, Test/Eval Accuracy: 0.7054\n",
      "        Precision: 0.6791, Recall: 0.7791, F1: 0.7256\n",
      "=== Epoch 4/10 ======================\n"
     ]
    },
    {
     "data": {
      "text/plain": [
       "Epoch 4/10:   0%|          | 0/137 [00:00<?, ?it/s]"
      ],
      "application/vnd.jupyter.widget-view+json": {
       "version_major": 2,
       "version_minor": 0,
       "model_id": "3d92f2ca0f884dc38a89099f9269ae88"
      }
     },
     "metadata": {},
     "output_type": "display_data"
    },
    {
     "name": "stdout",
     "output_type": "stream",
     "text": [
      "___ Current Batch 1/137 _________________________\n",
      "    Test Results:\n",
      "        Correct positive: 482 (93.59%), Correct negative: 313 (60.78%)\n",
      "        Total correct: 795 (77.18%)\n",
      "        Test/Eval Loss: 0.4454, Test/Eval Accuracy: 0.7718\n",
      "        Precision: 0.7047, Recall: 0.9359, F1: 0.8040\n",
      "    Eval Results:\n",
      "        Correct positive: 208 (80.62%), Correct negative: 166 (64.34%)\n",
      "        Total correct: 374 (72.48%)\n",
      "        Test/Eval Loss: 0.4610, Test/Eval Accuracy: 0.7248\n",
      "        Precision: 0.6933, Recall: 0.8062, F1: 0.7455\n",
      "___ Current Batch 68/137 _________________________\n",
      "    Test Results:\n",
      "        Correct positive: 477 (92.62%), Correct negative: 367 (71.26%)\n",
      "        Total correct: 844 (81.94%)\n",
      "        Test/Eval Loss: 0.3147, Test/Eval Accuracy: 0.8194\n",
      "        Precision: 0.7632, Recall: 0.9262, F1: 0.8368\n",
      "    Eval Results:\n",
      "        Correct positive: 185 (71.71%), Correct negative: 203 (78.68%)\n",
      "        Total correct: 388 (75.19%)\n",
      "        Test/Eval Loss: 0.4513, Test/Eval Accuracy: 0.7519\n",
      "        Precision: 0.7708, Recall: 0.7171, F1: 0.7430\n",
      "Saving model at epoch 4...\n",
      "=== Epoch 5/10 ======================\n"
     ]
    },
    {
     "data": {
      "text/plain": [
       "Epoch 5/10:   0%|          | 0/137 [00:00<?, ?it/s]"
      ],
      "application/vnd.jupyter.widget-view+json": {
       "version_major": 2,
       "version_minor": 0,
       "model_id": "efb1b90704c14401b512c13480e09050"
      }
     },
     "metadata": {},
     "output_type": "display_data"
    },
    {
     "name": "stdout",
     "output_type": "stream",
     "text": [
      "___ Current Batch 1/137 _________________________\n",
      "    Test Results:\n",
      "        Correct positive: 491 (95.34%), Correct negative: 303 (58.83%)\n",
      "        Total correct: 794 (77.09%)\n",
      "        Test/Eval Loss: 0.3865, Test/Eval Accuracy: 0.7709\n",
      "        Precision: 0.6984, Recall: 0.9534, F1: 0.8062\n",
      "    Eval Results:\n",
      "        Correct positive: 199 (77.13%), Correct negative: 201 (77.91%)\n",
      "        Total correct: 400 (77.52%)\n",
      "        Test/Eval Loss: 0.3691, Test/Eval Accuracy: 0.7752\n",
      "        Precision: 0.7773, Recall: 0.7713, F1: 0.7743\n",
      "___ Current Batch 68/137 _________________________\n",
      "    Test Results:\n",
      "        Correct positive: 490 (95.15%), Correct negative: 299 (58.06%)\n",
      "        Total correct: 789 (76.60%)\n",
      "        Test/Eval Loss: 0.4170, Test/Eval Accuracy: 0.7660\n",
      "        Precision: 0.6941, Recall: 0.9515, F1: 0.8026\n",
      "    Eval Results:\n",
      "        Correct positive: 183 (70.93%), Correct negative: 208 (80.62%)\n",
      "        Total correct: 391 (75.78%)\n",
      "        Test/Eval Loss: 0.4727, Test/Eval Accuracy: 0.7578\n",
      "        Precision: 0.7854, Recall: 0.7093, F1: 0.7454\n",
      "=== Epoch 6/10 ======================\n"
     ]
    },
    {
     "data": {
      "text/plain": [
       "Epoch 6/10:   0%|          | 0/137 [00:00<?, ?it/s]"
      ],
      "application/vnd.jupyter.widget-view+json": {
       "version_major": 2,
       "version_minor": 0,
       "model_id": "f958c2d72f434c4c83a5495595b0411a"
      }
     },
     "metadata": {},
     "output_type": "display_data"
    },
    {
     "name": "stdout",
     "output_type": "stream",
     "text": [
      "___ Current Batch 1/137 _________________________\n",
      "    Test Results:\n",
      "        Correct positive: 497 (96.50%), Correct negative: 280 (54.37%)\n",
      "        Total correct: 777 (75.44%)\n",
      "        Test/Eval Loss: 0.4225, Test/Eval Accuracy: 0.7544\n",
      "        Precision: 0.6790, Recall: 0.9650, F1: 0.7971\n",
      "    Eval Results:\n",
      "        Correct positive: 220 (85.27%), Correct negative: 191 (74.03%)\n",
      "        Total correct: 411 (79.65%)\n",
      "        Test/Eval Loss: 0.4008, Test/Eval Accuracy: 0.7965\n",
      "        Precision: 0.7666, Recall: 0.8527, F1: 0.8073\n",
      "___ Current Batch 68/137 _________________________\n",
      "    Test Results:\n",
      "        Correct positive: 483 (93.79%), Correct negative: 354 (68.74%)\n",
      "        Total correct: 837 (81.26%)\n",
      "        Test/Eval Loss: 0.3330, Test/Eval Accuracy: 0.8126\n",
      "        Precision: 0.7500, Recall: 0.9379, F1: 0.8335\n",
      "    Eval Results:\n",
      "        Correct positive: 221 (85.66%), Correct negative: 183 (70.93%)\n",
      "        Total correct: 404 (78.29%)\n",
      "        Test/Eval Loss: 0.2988, Test/Eval Accuracy: 0.7829\n",
      "        Precision: 0.7466, Recall: 0.8566, F1: 0.7978\n",
      "=== Epoch 7/10 ======================\n"
     ]
    },
    {
     "data": {
      "text/plain": [
       "Epoch 7/10:   0%|          | 0/137 [00:00<?, ?it/s]"
      ],
      "application/vnd.jupyter.widget-view+json": {
       "version_major": 2,
       "version_minor": 0,
       "model_id": "ea4199413b4f4fb08d0f24a340cd716f"
      }
     },
     "metadata": {},
     "output_type": "display_data"
    },
    {
     "name": "stdout",
     "output_type": "stream",
     "text": [
      "___ Current Batch 1/137 _________________________\n",
      "    Test Results:\n",
      "        Correct positive: 483 (93.79%), Correct negative: 305 (59.22%)\n",
      "        Total correct: 788 (76.50%)\n",
      "        Test/Eval Loss: 0.4062, Test/Eval Accuracy: 0.7650\n",
      "        Precision: 0.6970, Recall: 0.9379, F1: 0.7997\n",
      "    Eval Results:\n",
      "        Correct positive: 224 (86.82%), Correct negative: 174 (67.44%)\n",
      "        Total correct: 398 (77.13%)\n",
      "        Test/Eval Loss: 0.4194, Test/Eval Accuracy: 0.7713\n",
      "        Precision: 0.7273, Recall: 0.8682, F1: 0.7915\n",
      "___ Current Batch 68/137 _________________________\n",
      "    Test Results:\n",
      "        Correct positive: 475 (92.23%), Correct negative: 304 (59.03%)\n",
      "        Total correct: 779 (75.63%)\n",
      "        Test/Eval Loss: 0.4108, Test/Eval Accuracy: 0.7563\n",
      "        Precision: 0.6924, Recall: 0.9223, F1: 0.7910\n",
      "    Eval Results:\n",
      "        Correct positive: 209 (81.01%), Correct negative: 170 (65.89%)\n",
      "        Total correct: 379 (73.45%)\n",
      "        Test/Eval Loss: 0.5138, Test/Eval Accuracy: 0.7345\n",
      "        Precision: 0.7037, Recall: 0.8101, F1: 0.7532\n",
      "=== Epoch 8/10 ======================\n"
     ]
    },
    {
     "data": {
      "text/plain": [
       "Epoch 8/10:   0%|          | 0/137 [00:00<?, ?it/s]"
      ],
      "application/vnd.jupyter.widget-view+json": {
       "version_major": 2,
       "version_minor": 0,
       "model_id": "9ae123d5115a460a9dac85d458426725"
      }
     },
     "metadata": {},
     "output_type": "display_data"
    },
    {
     "name": "stdout",
     "output_type": "stream",
     "text": [
      "___ Current Batch 1/137 _________________________\n",
      "    Test Results:\n",
      "        Correct positive: 476 (92.43%), Correct negative: 349 (67.77%)\n",
      "        Total correct: 825 (80.10%)\n",
      "        Test/Eval Loss: 0.3316, Test/Eval Accuracy: 0.8010\n",
      "        Precision: 0.7414, Recall: 0.9243, F1: 0.8228\n",
      "    Eval Results:\n",
      "        Correct positive: 193 (74.81%), Correct negative: 163 (63.18%)\n",
      "        Total correct: 356 (68.99%)\n",
      "        Test/Eval Loss: 0.5075, Test/Eval Accuracy: 0.6899\n",
      "        Precision: 0.6701, Recall: 0.7481, F1: 0.7070\n",
      "___ Current Batch 68/137 _________________________\n",
      "    Test Results:\n",
      "        Correct positive: 485 (94.17%), Correct negative: 291 (56.50%)\n",
      "        Total correct: 776 (75.34%)\n",
      "        Test/Eval Loss: 0.3882, Test/Eval Accuracy: 0.7534\n",
      "        Precision: 0.6841, Recall: 0.9417, F1: 0.7925\n",
      "    Eval Results:\n",
      "        Correct positive: 199 (77.13%), Correct negative: 162 (62.79%)\n",
      "        Total correct: 361 (69.96%)\n",
      "        Test/Eval Loss: 0.5287, Test/Eval Accuracy: 0.6996\n",
      "        Precision: 0.6746, Recall: 0.7713, F1: 0.7197\n",
      "=== Epoch 9/10 ======================\n"
     ]
    },
    {
     "data": {
      "text/plain": [
       "Epoch 9/10:   0%|          | 0/137 [00:00<?, ?it/s]"
      ],
      "application/vnd.jupyter.widget-view+json": {
       "version_major": 2,
       "version_minor": 0,
       "model_id": "f2da3b33fc594fcea69f55dad7eab401"
      }
     },
     "metadata": {},
     "output_type": "display_data"
    },
    {
     "name": "stdout",
     "output_type": "stream",
     "text": [
      "___ Current Batch 1/137 _________________________\n",
      "    Test Results:\n",
      "        Correct positive: 468 (90.87%), Correct negative: 356 (69.13%)\n",
      "        Total correct: 824 (80.00%)\n",
      "        Test/Eval Loss: 0.4126, Test/Eval Accuracy: 0.8000\n",
      "        Precision: 0.7464, Recall: 0.9087, F1: 0.8196\n",
      "    Eval Results:\n",
      "        Correct positive: 191 (74.03%), Correct negative: 192 (74.42%)\n",
      "        Total correct: 383 (74.22%)\n",
      "        Test/Eval Loss: 0.5208, Test/Eval Accuracy: 0.7422\n",
      "        Precision: 0.7432, Recall: 0.7403, F1: 0.7417\n",
      "___ Current Batch 68/137 _________________________\n",
      "    Test Results:\n",
      "        Correct positive: 482 (93.59%), Correct negative: 347 (67.38%)\n",
      "        Total correct: 829 (80.49%)\n",
      "        Test/Eval Loss: 0.3318, Test/Eval Accuracy: 0.8049\n",
      "        Precision: 0.7415, Recall: 0.9359, F1: 0.8275\n",
      "    Eval Results:\n",
      "        Correct positive: 210 (81.40%), Correct negative: 165 (63.95%)\n",
      "        Total correct: 375 (72.67%)\n",
      "        Test/Eval Loss: 0.4602, Test/Eval Accuracy: 0.7267\n",
      "        Precision: 0.6931, Recall: 0.8140, F1: 0.7487\n",
      "=== Epoch 10/10 ======================\n"
     ]
    },
    {
     "data": {
      "text/plain": [
       "Epoch 10/10:   0%|          | 0/137 [00:00<?, ?it/s]"
      ],
      "application/vnd.jupyter.widget-view+json": {
       "version_major": 2,
       "version_minor": 0,
       "model_id": "a4f2988fd146423385873586b99d15eb"
      }
     },
     "metadata": {},
     "output_type": "display_data"
    },
    {
     "name": "stdout",
     "output_type": "stream",
     "text": [
      "___ Current Batch 1/137 _________________________\n",
      "    Test Results:\n",
      "        Correct positive: 499 (96.89%), Correct negative: 296 (57.48%)\n",
      "        Total correct: 795 (77.18%)\n",
      "        Test/Eval Loss: 0.4240, Test/Eval Accuracy: 0.7718\n",
      "        Precision: 0.6950, Recall: 0.9689, F1: 0.8094\n",
      "    Eval Results:\n",
      "        Correct positive: 230 (89.15%), Correct negative: 158 (61.24%)\n",
      "        Total correct: 388 (75.19%)\n",
      "        Test/Eval Loss: 0.4837, Test/Eval Accuracy: 0.7519\n",
      "        Precision: 0.6970, Recall: 0.8915, F1: 0.7823\n",
      "___ Current Batch 68/137 _________________________\n",
      "    Test Results:\n",
      "        Correct positive: 485 (94.17%), Correct negative: 355 (68.93%)\n",
      "        Total correct: 840 (81.55%)\n",
      "        Test/Eval Loss: 0.3399, Test/Eval Accuracy: 0.8155\n",
      "        Precision: 0.7519, Recall: 0.9417, F1: 0.8362\n",
      "    Eval Results:\n",
      "        Correct positive: 235 (91.09%), Correct negative: 171 (66.28%)\n",
      "        Total correct: 406 (78.68%)\n",
      "        Test/Eval Loss: 0.4231, Test/Eval Accuracy: 0.7868\n",
      "        Precision: 0.7298, Recall: 0.9109, F1: 0.8103\n"
     ]
    }
   ],
   "execution_count": 4
  }
 ],
 "metadata": {
  "kernelspec": {
   "display_name": "Python 3",
   "language": "python",
   "name": "python3"
  },
  "language_info": {
   "codemirror_mode": {
    "name": "ipython",
    "version": 2
   },
   "file_extension": ".py",
   "mimetype": "text/x-python",
   "name": "python",
   "nbconvert_exporter": "python",
   "pygments_lexer": "ipython2",
   "version": "2.7.6"
  }
 },
 "nbformat": 4,
 "nbformat_minor": 5
}
