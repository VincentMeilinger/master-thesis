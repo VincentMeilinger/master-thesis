{
 "cells": [
  {
   "cell_type": "code",
   "id": "initial_id",
   "metadata": {
    "collapsed": true,
    "ExecuteTime": {
     "end_time": "2024-11-10T11:57:14.794012Z",
     "start_time": "2024-11-10T11:57:14.791081Z"
    }
   },
   "source": [
    "from notebooks.util_homogeneous import HomogeneousGraphTripletDataset\n",
    "from util_homogeneous import *\n",
    "from util_heterogeneous import plot_loss, save_training_results\n",
    "from training_homogeneous import *\n",
    "from gat_models import *\n",
    "\n",
    "import random\n",
    "import numpy as np\n",
    "from sklearn.metrics import accuracy_score\n",
    "from tqdm.notebook import tqdm\n",
    "from torch_geometric.loader import DataLoader\n",
    "from torch.optim import Adam\n",
    "from torch.nn.modules.loss import TripletMarginLoss\n",
    "\n",
    "from src.shared.database_wrapper import DatabaseWrapper\n",
    "from src.shared.graph_schema import *\n",
    "from src.shared.graph_sampling import GraphSampling\n",
    "\n",
    "random.seed(40)\n",
    "np.random.seed(40)\n",
    "torch.manual_seed(40)\n",
    "torch.cuda.manual_seed_all(40)"
   ],
   "outputs": [],
   "execution_count": 17
  },
  {
   "metadata": {},
   "cell_type": "markdown",
   "source": "## Configurations",
   "id": "ee4fa502d7e51e50"
  },
  {
   "metadata": {
    "ExecuteTime": {
     "end_time": "2024-11-10T11:57:14.823131Z",
     "start_time": "2024-11-10T11:57:14.808520Z"
    }
   },
   "cell_type": "code",
   "source": [
    "# Graph sampling configurations\n",
    "node_spec = NodeType.PUBLICATION\n",
    "\n",
    "edge_spec = EdgeType.SIM_ABSTRACT\n",
    "\n",
    "node_properties = [\n",
    "    'id',\n",
    "    'feature_vec',\n",
    "]\n",
    "\n",
    "database = 'homogeneous-graph'\n",
    "gs = GraphSampling(\n",
    "    node_spec=[node_spec],\n",
    "    edge_spec=[edge_spec],\n",
    "    node_properties=node_properties,\n",
    "    database=database\n",
    ")\n",
    "\n",
    "# Model configurations\n",
    "\n",
    "config = {\n",
    "    'experiment': 'GATv2 encoder (with linear layer + dropout) trained on homogeneous graph (publication nodes with title and abstract, abstract edges) using Triplet Loss and full embeddings',\n",
    "    'max_hops': 3,\n",
    "    'model_node_feature': 'feature_vec',  # Node feature to use for GAT encoder\n",
    "    'hidden_channels': 32,\n",
    "    'out_channels': 16,\n",
    "    'num_heads': 8,\n",
    "    'margin': 1.0,\n",
    "    'optimizer': 'Adam',\n",
    "    'learning_rate': 0.005,\n",
    "    'weight_decay': 5e-4,\n",
    "    'num_epochs': 10,\n",
    "    'batch_size': 32,\n",
    "}\n",
    "\n",
    "model_class = HomoGATEncoderLinearDropout\n",
    "loss_fn = TripletMarginLoss(margin=config['margin'])\n",
    "device = torch.device('cuda' if torch.cuda.is_available() else 'cpu')\n",
    "\n",
    "# TODO: Adjust result folder name!\n",
    "result_folder_name = 'homogeneous (abstract) full_emb linear_layer dropout'\n",
    "result_folder_path = f'./data/results/{result_folder_name}'\n",
    "if not os.path.exists(result_folder_path):\n",
    "    os.mkdir(result_folder_path)"
   ],
   "id": "91b04efb689d61f4",
   "outputs": [],
   "execution_count": 18
  },
  {
   "metadata": {
    "ExecuteTime": {
     "end_time": "2024-11-10T12:00:32.935694Z",
     "start_time": "2024-11-10T11:57:14.854854Z"
    }
   },
   "cell_type": "code",
   "source": [
    "db = DatabaseWrapper(database=database)\n",
    "data_harvester = TripletDataHarvester(db=db, gs=gs, edge_spec=[edge_spec], config=config, valid_triplets_save_file='valid_triplets_homogeneous_abstract', transformer_model='sentence-transformers/all-MiniLM-L6-v2')\n",
    "\n",
    "\n",
    "# Split the pairs into train and test\n",
    "\n",
    "train_size = int(0.85 * len(data_harvester.triplets))\n",
    "test_size = int(0.1 * len(data_harvester.triplets))\n",
    "eval_size = len(data_harvester.triplets) - train_size - test_size\n",
    "\n",
    "# Harvest the evaluation triplets first, since triplets are ordered by author. This will ensure that the evaluation set has authors not seen in the training set.\n",
    "eval_triplets = data_harvester.triplets[:eval_size]\n",
    "\n",
    "train_test_triplets = data_harvester.triplets[eval_size:]\n",
    "random.shuffle(train_test_triplets)\n",
    "\n",
    "train_triplets = train_test_triplets[:train_size]\n",
    "test_triplets = train_test_triplets[train_size:]\n",
    "config['train_size'] = len(train_triplets)\n",
    "config['test_size'] = len(test_triplets)\n",
    "config['eval_size'] = len(eval_triplets)\n",
    "\n",
    "print(f\"Train size: {len(train_triplets)}, Test size: {len(test_triplets)}, Eval size: {len(eval_triplets)}\")\n",
    "\n",
    "# Create the datasets from the pairs (distinct pairs for training and testing)\n",
    "train_dataset = HomogeneousGraphTripletDataset(train_triplets, gs, config=config)\n",
    "test_dataset = HomogeneousGraphTripletDataset(test_triplets, gs, config=config)\n",
    "eval_dataset = HomogeneousGraphTripletDataset(eval_triplets, gs, config=config)\n",
    "\n",
    "# Create the DataLoader\n",
    "train_dataloader = DataLoader(train_dataset, batch_size=config['batch_size'], shuffle=True, collate_fn=custom_triplet_collate)\n",
    "test_dataloader = DataLoader(test_dataset, batch_size=config['batch_size'], shuffle=False, collate_fn=custom_triplet_collate)\n",
    "eval_dataloader = DataLoader(eval_dataset, batch_size=config['batch_size'], shuffle=False, collate_fn=custom_triplet_collate)\n",
    "\n",
    "# Create model\n",
    "metadata = (\n",
    "    node_spec.value,\n",
    "    edge_spec.value\n",
    ")\n",
    "config['node_spec'] = metadata[0]\n",
    "config['edge_spec'] = metadata[1]\n",
    "model = model_class(config['hidden_channels'], config['out_channels'], num_heads=config['num_heads']).to(device)\n",
    "optimizer = Adam(model.parameters(), lr=config['learning_rate'], weight_decay=config['weight_decay'])"
   ],
   "id": "62ef1028a5c5fd5d",
   "outputs": [
    {
     "name": "stderr",
     "output_type": "stream",
     "text": [
      "2024-11-10 12:57:14,857 - DatabaseWrapper - INFO - Connecting to the database ...\n",
      "2024-11-10 12:57:14,858 - DatabaseWrapper - INFO - Database ready.\n"
     ]
    },
    {
     "name": "stdout",
     "output_type": "stream",
     "text": [
      "Preparing triplets...\n",
      "Loading triplets...\n",
      "Could not load triplets from file. Generating triplets...\n",
      "Checking data validity...\n",
      "Out of 20034 checked papers, 7665 are valid and 12369 are invalid.\n",
      "Generating hard triplets ...\n"
     ]
    },
    {
     "name": "stderr",
     "output_type": "stream",
     "text": [
      "/home/vincie/.anaconda3/envs/master/lib/python3.9/site-packages/transformers/tokenization_utils_base.py:1601: FutureWarning: `clean_up_tokenization_spaces` was not set. It will be set to `True` by default. This behavior will be depracted in transformers v4.45, and will be then set to `False` by default. For more details check this issue: https://github.com/huggingface/transformers/issues/31884\n",
      "  warnings.warn(\n"
     ]
    },
    {
     "name": "stdout",
     "output_type": "stream",
     "text": [
      "Total triplets generated: 6368. Done.\n",
      "Generated 6368 triplets.\n",
      "Saving triplets...\n",
      "Triplets saved.\n",
      "Train size: 5412, Test size: 636, Eval size: 320\n"
     ]
    }
   ],
   "execution_count": 19
  },
  {
   "metadata": {
    "ExecuteTime": {
     "end_time": "2024-11-10T13:26:50.699117Z",
     "start_time": "2024-11-10T12:00:33.007296Z"
    }
   },
   "cell_type": "code",
   "source": [
    "num_epochs = config['num_epochs']\n",
    "train_losses = []\n",
    "\n",
    "test_losses = []\n",
    "test_accuracies = []\n",
    "test_correct_pos = []\n",
    "test_correct_neg = []\n",
    "\n",
    "eval_losses = []\n",
    "eval_accuracies = []\n",
    "eval_correct_pos = []\n",
    "eval_correct_neg = []\n",
    "\n",
    "current_batch = 1\n",
    "\n",
    "for epoch in range(1, num_epochs + 1):\n",
    "    print(f\"=== Epoch {epoch}/{num_epochs} ======================\")\n",
    "    epoch_marker_pos = list(range(0, len(train_dataloader) * epoch, len(train_dataloader)))\n",
    "    current_batch = 1\n",
    "    for batch_anchor, batch_pos, batch_neg in tqdm(train_dataloader, desc=f\"Epoch {epoch}/{num_epochs}\"):\n",
    "        if batch_anchor is None or batch_pos is None or batch_neg is None:\n",
    "            continue\n",
    "        \n",
    "        if current_batch == 1 or current_batch == len(train_dataloader) // 2:\n",
    "            print(f\"___ Current Batch {current_batch}/{len(train_dataloader)} _________________________\")\n",
    "            # Model testing\n",
    "            print(\"    Test Results:\")\n",
    "            test_loss, test_num_correct, test_correct_pos_val, test_correct_neg_val = test(\n",
    "                model=model,\n",
    "                loss_fn=loss_fn,\n",
    "                dataloader=test_dataloader,\n",
    "                margin=config['margin']\n",
    "            )\n",
    "            test_losses.append(test_loss)\n",
    "            test_accuracies.append(test_num_correct)\n",
    "            test_correct_pos.append(test_correct_pos_val)\n",
    "            test_correct_neg.append(test_correct_neg_val)\n",
    "    \n",
    "            plot_loss(test_losses, epoch_len=2, plot_title='Test Loss', plot_avg=False, plot_file=result_folder_path + '/test_loss.png')\n",
    "            plot_loss(\n",
    "                test_accuracies,\n",
    "                epoch_len=2,\n",
    "                plot_title='Test Accuracy',\n",
    "                plot_avg=False, \n",
    "                x_label='Test Iterations',\n",
    "                y_label='Accuracy',\n",
    "                line_label='Accuracy',\n",
    "                plot_file=result_folder_path + '/test_accuracy.png'\n",
    "            )\n",
    "            \n",
    "            # Model evaluation\n",
    "            print(\"    Eval Results:\")\n",
    "            eval_loss, eval_num_correct, eval_correct_pos_val, eval_correct_neg_val = evaluate(\n",
    "                model=model,\n",
    "                loss_fn=loss_fn,\n",
    "                dataloader=eval_dataloader,\n",
    "                margin=config['margin']\n",
    "            )\n",
    "            eval_losses.append(eval_loss)\n",
    "            eval_accuracies.append(eval_num_correct)\n",
    "            eval_correct_pos.append(eval_correct_pos_val)\n",
    "            eval_correct_neg.append(eval_correct_neg_val)\n",
    "            \n",
    "            plot_loss(eval_losses, epoch_len=2, plot_title='Evaluation Loss', plot_avg=False, plot_file=result_folder_path + '/eval_loss.png')\n",
    "            plot_loss(\n",
    "                eval_accuracies, \n",
    "                epoch_len=2, \n",
    "                plot_title='Evaluation Accuracy', \n",
    "                plot_avg=False, \n",
    "                x_label='Eval Iterations',\n",
    "                y_label='Accuracy',\n",
    "                line_label='Accuracy',\n",
    "                plot_file=result_folder_path + '/eval_accuracy.png'\n",
    "            )\n",
    "            \n",
    "        loss = train(\n",
    "            model=model,\n",
    "            loss_fn=loss_fn,\n",
    "            batch_anchor=batch_anchor,\n",
    "            batch_pos=batch_pos,\n",
    "            batch_neg=batch_neg,\n",
    "            optimizer=optimizer\n",
    "        )\n",
    "        train_losses.append(loss)\n",
    "        \n",
    "        plot_loss(train_losses, epoch_len=len(train_dataloader), plot_title='Training Loss', plot_avg=True, plot_file=result_folder_path + '/train_loss.png')\n",
    "        current_batch += 1\n",
    "        \n",
    "    # Save config and training results\n",
    "    eval_results = {\n",
    "        'eval_losses': eval_losses,\n",
    "        'eval_accuracies': eval_accuracies,\n",
    "        'eval_correct_pos': eval_correct_pos,\n",
    "        'eval_correct_neg': eval_correct_neg\n",
    "    }\n",
    "    save_training_results(train_losses, test_losses, eval_results, config, result_folder_path + '/training_data.json')\n",
    "    \n",
    "    # Save model if loss has decreased\n",
    "    if len(test_losses) > 1 and test_losses[-1] < min(test_losses[:-1]):\n",
    "        print(f\"Saving model at epoch {epoch}...\")\n",
    "        torch.save(model.state_dict(), result_folder_path + '/gat_encoder.pt')"
   ],
   "id": "c3b28cd52881796",
   "outputs": [
    {
     "name": "stdout",
     "output_type": "stream",
     "text": [
      "=== Epoch 1/10 ======================\n"
     ]
    },
    {
     "data": {
      "text/plain": [
       "Epoch 1/10:   0%|          | 0/170 [00:00<?, ?it/s]"
      ],
      "application/vnd.jupyter.widget-view+json": {
       "version_major": 2,
       "version_minor": 0,
       "model_id": "0fbe13c60e234d7ebea96c72edb78b27"
      }
     },
     "metadata": {},
     "output_type": "display_data"
    },
    {
     "name": "stdout",
     "output_type": "stream",
     "text": [
      "___ Current Batch 1/170 _________________________\n",
      "    Test Results:\n",
      "        Correct positive: 636 (100.00%), Correct negative: 0 (0.00%)\n",
      "        Total correct: 636 (50.00%)\n",
      "        Test Loss: 1.0256, Test Accuracy: 0.5000\n",
      "    Eval Results:\n",
      "        Correct positive: 320 (100.00%), Correct negative: 0 (0.00%)\n",
      "        Total correct: 320 (50.00%)\n",
      "        Eval Loss: 0.9901, Eval Accuracy: 0.5000\n",
      "___ Current Batch 85/170 _________________________\n",
      "    Test Results:\n",
      "        Correct positive: 422 (66.35%), Correct negative: 578 (90.88%)\n",
      "        Total correct: 1000 (78.62%)\n",
      "        Test Loss: 0.2398, Test Accuracy: 0.7862\n",
      "    Eval Results:\n",
      "        Correct positive: 174 (54.37%), Correct negative: 168 (52.50%)\n",
      "        Total correct: 342 (53.44%)\n",
      "        Eval Loss: 0.9645, Eval Accuracy: 0.5344\n",
      "Saving model at epoch 1...\n",
      "=== Epoch 2/10 ======================\n"
     ]
    },
    {
     "data": {
      "text/plain": [
       "Epoch 2/10:   0%|          | 0/170 [00:00<?, ?it/s]"
      ],
      "application/vnd.jupyter.widget-view+json": {
       "version_major": 2,
       "version_minor": 0,
       "model_id": "e1b7da586d8d417eb6641f8e9b0de4ca"
      }
     },
     "metadata": {},
     "output_type": "display_data"
    },
    {
     "name": "stdout",
     "output_type": "stream",
     "text": [
      "___ Current Batch 1/170 _________________________\n",
      "    Test Results:\n",
      "        Correct positive: 383 (60.22%), Correct negative: 591 (92.92%)\n",
      "        Total correct: 974 (76.57%)\n",
      "        Test Loss: 0.2267, Test Accuracy: 0.7657\n",
      "    Eval Results:\n",
      "        Correct positive: 121 (37.81%), Correct negative: 153 (47.81%)\n",
      "        Total correct: 274 (42.81%)\n",
      "        Eval Loss: 1.2027, Eval Accuracy: 0.4281\n",
      "___ Current Batch 85/170 _________________________\n",
      "    Test Results:\n",
      "        Correct positive: 394 (61.95%), Correct negative: 577 (90.72%)\n",
      "        Total correct: 971 (76.34%)\n",
      "        Test Loss: 0.2319, Test Accuracy: 0.7634\n",
      "    Eval Results:\n",
      "        Correct positive: 107 (33.44%), Correct negative: 187 (58.44%)\n",
      "        Total correct: 294 (45.94%)\n",
      "        Eval Loss: 1.0916, Eval Accuracy: 0.4594\n",
      "=== Epoch 3/10 ======================\n"
     ]
    },
    {
     "data": {
      "text/plain": [
       "Epoch 3/10:   0%|          | 0/170 [00:00<?, ?it/s]"
      ],
      "application/vnd.jupyter.widget-view+json": {
       "version_major": 2,
       "version_minor": 0,
       "model_id": "e8145c81c2c44521a77263aa18714a50"
      }
     },
     "metadata": {},
     "output_type": "display_data"
    },
    {
     "name": "stdout",
     "output_type": "stream",
     "text": [
      "___ Current Batch 1/170 _________________________\n",
      "    Test Results:\n",
      "        Correct positive: 499 (78.46%), Correct negative: 583 (91.67%)\n",
      "        Total correct: 1082 (85.06%)\n",
      "        Test Loss: 0.1897, Test Accuracy: 0.8506\n",
      "    Eval Results:\n",
      "        Correct positive: 173 (54.06%), Correct negative: 123 (38.44%)\n",
      "        Total correct: 296 (46.25%)\n",
      "        Eval Loss: 1.0870, Eval Accuracy: 0.4625\n",
      "___ Current Batch 85/170 _________________________\n",
      "    Test Results:\n",
      "        Correct positive: 458 (72.01%), Correct negative: 575 (90.41%)\n",
      "        Total correct: 1033 (81.21%)\n",
      "        Test Loss: 0.2014, Test Accuracy: 0.8121\n",
      "    Eval Results:\n",
      "        Correct positive: 178 (55.62%), Correct negative: 83 (25.94%)\n",
      "        Total correct: 261 (40.78%)\n",
      "        Eval Loss: 1.1952, Eval Accuracy: 0.4078\n",
      "=== Epoch 4/10 ======================\n"
     ]
    },
    {
     "data": {
      "text/plain": [
       "Epoch 4/10:   0%|          | 0/170 [00:00<?, ?it/s]"
      ],
      "application/vnd.jupyter.widget-view+json": {
       "version_major": 2,
       "version_minor": 0,
       "model_id": "4e02a1464a0b4c4c831c20b277b19676"
      }
     },
     "metadata": {},
     "output_type": "display_data"
    },
    {
     "name": "stdout",
     "output_type": "stream",
     "text": [
      "___ Current Batch 1/170 _________________________\n",
      "    Test Results:\n",
      "        Correct positive: 455 (71.54%), Correct negative: 589 (92.61%)\n",
      "        Total correct: 1044 (82.08%)\n",
      "        Test Loss: 0.1862, Test Accuracy: 0.8208\n",
      "    Eval Results:\n",
      "        Correct positive: 202 (63.12%), Correct negative: 108 (33.75%)\n",
      "        Total correct: 310 (48.44%)\n",
      "        Eval Loss: 1.1138, Eval Accuracy: 0.4844\n",
      "___ Current Batch 85/170 _________________________\n",
      "    Test Results:\n",
      "        Correct positive: 399 (62.74%), Correct negative: 584 (91.82%)\n",
      "        Total correct: 983 (77.28%)\n",
      "        Test Loss: 0.1959, Test Accuracy: 0.7728\n",
      "    Eval Results:\n",
      "        Correct positive: 172 (53.75%), Correct negative: 158 (49.38%)\n",
      "        Total correct: 330 (51.56%)\n",
      "        Eval Loss: 0.9911, Eval Accuracy: 0.5156\n",
      "=== Epoch 5/10 ======================\n"
     ]
    },
    {
     "data": {
      "text/plain": [
       "Epoch 5/10:   0%|          | 0/170 [00:00<?, ?it/s]"
      ],
      "application/vnd.jupyter.widget-view+json": {
       "version_major": 2,
       "version_minor": 0,
       "model_id": "c6776c779225451fb31622bdb3c43884"
      }
     },
     "metadata": {},
     "output_type": "display_data"
    },
    {
     "name": "stdout",
     "output_type": "stream",
     "text": [
      "___ Current Batch 1/170 _________________________\n",
      "    Test Results:\n",
      "        Correct positive: 424 (66.67%), Correct negative: 598 (94.03%)\n",
      "        Total correct: 1022 (80.35%)\n",
      "        Test Loss: 0.1926, Test Accuracy: 0.8035\n",
      "    Eval Results:\n",
      "        Correct positive: 167 (52.19%), Correct negative: 150 (46.88%)\n",
      "        Total correct: 317 (49.53%)\n",
      "        Eval Loss: 0.9195, Eval Accuracy: 0.4953\n",
      "___ Current Batch 85/170 _________________________\n",
      "    Test Results:\n",
      "        Correct positive: 458 (72.01%), Correct negative: 593 (93.24%)\n",
      "        Total correct: 1051 (82.63%)\n",
      "        Test Loss: 0.1896, Test Accuracy: 0.8263\n",
      "    Eval Results:\n",
      "        Correct positive: 170 (53.12%), Correct negative: 176 (55.00%)\n",
      "        Total correct: 346 (54.06%)\n",
      "        Eval Loss: 1.0277, Eval Accuracy: 0.5406\n",
      "=== Epoch 6/10 ======================\n"
     ]
    },
    {
     "data": {
      "text/plain": [
       "Epoch 6/10:   0%|          | 0/170 [00:00<?, ?it/s]"
      ],
      "application/vnd.jupyter.widget-view+json": {
       "version_major": 2,
       "version_minor": 0,
       "model_id": "6743b027f27a4ea9b7f20b62a00d83f4"
      }
     },
     "metadata": {},
     "output_type": "display_data"
    },
    {
     "name": "stdout",
     "output_type": "stream",
     "text": [
      "___ Current Batch 1/170 _________________________\n",
      "    Test Results:\n",
      "        Correct positive: 529 (83.18%), Correct negative: 582 (91.51%)\n",
      "        Total correct: 1111 (87.34%)\n",
      "        Test Loss: 0.1859, Test Accuracy: 0.8734\n",
      "    Eval Results:\n",
      "        Correct positive: 228 (71.25%), Correct negative: 65 (20.31%)\n",
      "        Total correct: 293 (45.78%)\n",
      "        Eval Loss: 1.1118, Eval Accuracy: 0.4578\n",
      "___ Current Batch 85/170 _________________________\n",
      "    Test Results:\n",
      "        Correct positive: 503 (79.09%), Correct negative: 588 (92.45%)\n",
      "        Total correct: 1091 (85.77%)\n",
      "        Test Loss: 0.1623, Test Accuracy: 0.8577\n",
      "    Eval Results:\n",
      "        Correct positive: 206 (64.38%), Correct negative: 122 (38.12%)\n",
      "        Total correct: 328 (51.25%)\n",
      "        Eval Loss: 1.1098, Eval Accuracy: 0.5125\n",
      "Saving model at epoch 6...\n",
      "=== Epoch 7/10 ======================\n"
     ]
    },
    {
     "data": {
      "text/plain": [
       "Epoch 7/10:   0%|          | 0/170 [00:00<?, ?it/s]"
      ],
      "application/vnd.jupyter.widget-view+json": {
       "version_major": 2,
       "version_minor": 0,
       "model_id": "5d6f2b14462e46e39284e77bf3755347"
      }
     },
     "metadata": {},
     "output_type": "display_data"
    },
    {
     "name": "stdout",
     "output_type": "stream",
     "text": [
      "___ Current Batch 1/170 _________________________\n",
      "    Test Results:\n",
      "        Correct positive: 461 (72.48%), Correct negative: 591 (92.92%)\n",
      "        Total correct: 1052 (82.70%)\n",
      "        Test Loss: 0.1482, Test Accuracy: 0.8270\n",
      "    Eval Results:\n",
      "        Correct positive: 156 (48.75%), Correct negative: 137 (42.81%)\n",
      "        Total correct: 293 (45.78%)\n",
      "        Eval Loss: 1.1837, Eval Accuracy: 0.4578\n",
      "___ Current Batch 85/170 _________________________\n",
      "    Test Results:\n",
      "        Correct positive: 505 (79.40%), Correct negative: 585 (91.98%)\n",
      "        Total correct: 1090 (85.69%)\n",
      "        Test Loss: 0.2071, Test Accuracy: 0.8569\n",
      "    Eval Results:\n",
      "        Correct positive: 209 (65.31%), Correct negative: 70 (21.88%)\n",
      "        Total correct: 279 (43.59%)\n",
      "        Eval Loss: 1.1497, Eval Accuracy: 0.4359\n",
      "=== Epoch 8/10 ======================\n"
     ]
    },
    {
     "data": {
      "text/plain": [
       "Epoch 8/10:   0%|          | 0/170 [00:00<?, ?it/s]"
      ],
      "application/vnd.jupyter.widget-view+json": {
       "version_major": 2,
       "version_minor": 0,
       "model_id": "28b179ec13f44677aeaf35328ce1d833"
      }
     },
     "metadata": {},
     "output_type": "display_data"
    },
    {
     "name": "stdout",
     "output_type": "stream",
     "text": [
      "___ Current Batch 1/170 _________________________\n",
      "    Test Results:\n",
      "        Correct positive: 472 (74.21%), Correct negative: 603 (94.81%)\n",
      "        Total correct: 1075 (84.51%)\n",
      "        Test Loss: 0.1516, Test Accuracy: 0.8451\n",
      "    Eval Results:\n",
      "        Correct positive: 194 (60.62%), Correct negative: 103 (32.19%)\n",
      "        Total correct: 297 (46.41%)\n",
      "        Eval Loss: 1.1647, Eval Accuracy: 0.4641\n",
      "___ Current Batch 85/170 _________________________\n",
      "    Test Results:\n",
      "        Correct positive: 426 (66.98%), Correct negative: 605 (95.13%)\n",
      "        Total correct: 1031 (81.05%)\n",
      "        Test Loss: 0.1743, Test Accuracy: 0.8105\n",
      "    Eval Results:\n",
      "        Correct positive: 159 (49.69%), Correct negative: 121 (37.81%)\n",
      "        Total correct: 280 (43.75%)\n",
      "        Eval Loss: 1.1385, Eval Accuracy: 0.4375\n",
      "=== Epoch 9/10 ======================\n"
     ]
    },
    {
     "data": {
      "text/plain": [
       "Epoch 9/10:   0%|          | 0/170 [00:00<?, ?it/s]"
      ],
      "application/vnd.jupyter.widget-view+json": {
       "version_major": 2,
       "version_minor": 0,
       "model_id": "c2df1db0eb69479ebeadb5f36b82ec77"
      }
     },
     "metadata": {},
     "output_type": "display_data"
    },
    {
     "name": "stdout",
     "output_type": "stream",
     "text": [
      "___ Current Batch 1/170 _________________________\n",
      "    Test Results:\n",
      "        Correct positive: 448 (70.44%), Correct negative: 602 (94.65%)\n",
      "        Total correct: 1050 (82.55%)\n",
      "        Test Loss: 0.1688, Test Accuracy: 0.8255\n",
      "    Eval Results:\n",
      "        Correct positive: 175 (54.69%), Correct negative: 138 (43.12%)\n",
      "        Total correct: 313 (48.91%)\n",
      "        Eval Loss: 1.0498, Eval Accuracy: 0.4891\n",
      "___ Current Batch 85/170 _________________________\n",
      "    Test Results:\n",
      "        Correct positive: 393 (61.79%), Correct negative: 604 (94.97%)\n",
      "        Total correct: 997 (78.38%)\n",
      "        Test Loss: 0.1599, Test Accuracy: 0.7838\n",
      "    Eval Results:\n",
      "        Correct positive: 118 (36.88%), Correct negative: 190 (59.38%)\n",
      "        Total correct: 308 (48.12%)\n",
      "        Eval Loss: 1.1441, Eval Accuracy: 0.4813\n",
      "=== Epoch 10/10 ======================\n"
     ]
    },
    {
     "data": {
      "text/plain": [
       "Epoch 10/10:   0%|          | 0/170 [00:00<?, ?it/s]"
      ],
      "application/vnd.jupyter.widget-view+json": {
       "version_major": 2,
       "version_minor": 0,
       "model_id": "74bd301fe83b4be7b8dd088c8ed38531"
      }
     },
     "metadata": {},
     "output_type": "display_data"
    },
    {
     "name": "stdout",
     "output_type": "stream",
     "text": [
      "___ Current Batch 1/170 _________________________\n",
      "    Test Results:\n",
      "        Correct positive: 513 (80.66%), Correct negative: 571 (89.78%)\n",
      "        Total correct: 1084 (85.22%)\n",
      "        Test Loss: 0.1840, Test Accuracy: 0.8522\n",
      "    Eval Results:\n",
      "        Correct positive: 221 (69.06%), Correct negative: 128 (40.00%)\n",
      "        Total correct: 349 (54.53%)\n",
      "        Eval Loss: 0.9596, Eval Accuracy: 0.5453\n",
      "___ Current Batch 85/170 _________________________\n",
      "    Test Results:\n",
      "        Correct positive: 355 (55.82%), Correct negative: 598 (94.03%)\n",
      "        Total correct: 953 (74.92%)\n",
      "        Test Loss: 0.2008, Test Accuracy: 0.7492\n",
      "    Eval Results:\n",
      "        Correct positive: 130 (40.62%), Correct negative: 133 (41.56%)\n",
      "        Total correct: 263 (41.09%)\n",
      "        Eval Loss: 1.2492, Eval Accuracy: 0.4109\n"
     ]
    }
   ],
   "execution_count": 20
  }
 ],
 "metadata": {
  "kernelspec": {
   "display_name": "Python 3",
   "language": "python",
   "name": "python3"
  },
  "language_info": {
   "codemirror_mode": {
    "name": "ipython",
    "version": 2
   },
   "file_extension": ".py",
   "mimetype": "text/x-python",
   "name": "python",
   "nbconvert_exporter": "python",
   "pygments_lexer": "ipython2",
   "version": "2.7.6"
  }
 },
 "nbformat": 4,
 "nbformat_minor": 5
}
