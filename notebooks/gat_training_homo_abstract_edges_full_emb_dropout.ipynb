{
 "cells": [
  {
   "cell_type": "code",
   "id": "initial_id",
   "metadata": {
    "collapsed": true,
    "ExecuteTime": {
     "end_time": "2024-12-12T14:03:43.865160Z",
     "start_time": "2024-12-12T14:03:41.389405Z"
    }
   },
   "source": [
    "from util_homogeneous import *\n",
    "from util import *\n",
    "from training_homogeneous import *\n",
    "from gat_models import *\n",
    "\n",
    "from collections import defaultdict\n",
    "import random\n",
    "import numpy as np\n",
    "from sklearn.metrics import accuracy_score\n",
    "from tqdm.notebook import tqdm\n",
    "from torch_geometric.loader import DataLoader\n",
    "from torch.optim import Adam, SGD\n",
    "from torch.nn.modules.loss import TripletMarginLoss\n",
    "\n",
    "from src.shared.database_wrapper import DatabaseWrapper\n",
    "from src.shared.graph_schema import *\n",
    "from src.shared.graph_sampling import GraphSampling\n",
    "\n",
    "random.seed(40)\n",
    "np.random.seed(40)\n",
    "torch.manual_seed(40)\n",
    "torch.cuda.manual_seed_all(40)"
   ],
   "outputs": [
    {
     "name": "stderr",
     "output_type": "stream",
     "text": [
      "/home/vincie/.anaconda3/envs/master/lib/python3.9/site-packages/sentence_transformers/cross_encoder/CrossEncoder.py:11: TqdmExperimentalWarning: Using `tqdm.autonotebook.tqdm` in notebook mode. Use `tqdm.tqdm` instead to force console mode (e.g. in jupyter console)\n",
      "  from tqdm.autonotebook import tqdm, trange\n"
     ]
    }
   ],
   "execution_count": 1
  },
  {
   "metadata": {},
   "cell_type": "markdown",
   "source": "## Configurations",
   "id": "ee4fa502d7e51e50"
  },
  {
   "metadata": {
    "ExecuteTime": {
     "end_time": "2024-12-12T14:03:43.873619Z",
     "start_time": "2024-12-12T14:03:43.870043Z"
    }
   },
   "cell_type": "code",
   "source": [
    "# Graph sampling configurations\n",
    "node_spec = NodeType.PUBLICATION\n",
    "\n",
    "edge_spec = EdgeType.SIM_ABSTRACT\n",
    "\n",
    "node_properties = [\n",
    "    'id',\n",
    "    'feature_vec',\n",
    "]\n",
    "\n",
    "database = 'small-graph'\n",
    "gs = GraphSampling(\n",
    "    node_spec=[node_spec],\n",
    "    edge_spec=[edge_spec],\n",
    "    node_properties=node_properties,\n",
    "    database=database\n",
    ")\n",
    "\n",
    "# Model configurations\n",
    "\n",
    "config = {\n",
    "    'experiment': 'GATv2 encoder (with linear layer + dropout) trained on small graph (publication nodes with title and abstract, abstract edges) using Triplet Loss and full embeddings',\n",
    "    'max_hops': 2,\n",
    "    'model_node_feature': 'feature_vec',  # Node feature to use for GAT encoder\n",
    "    'hidden_channels': 32,\n",
    "    'out_channels': 8,\n",
    "    'num_heads': 8,\n",
    "    'dropout_p': 0.4,\n",
    "    'margin': 1.0,\n",
    "    'optimizer': 'Adam',\n",
    "    'learning_rate': 0.005,\n",
    "    'weight_decay': 5e-4,\n",
    "    'num_epochs': 10,\n",
    "    'batch_size': 32,\n",
    "}\n",
    "\n",
    "model_class = HomoGATv2Encoder1Conv2Linear\n",
    "loss_fn = TripletMarginLoss(margin=config['margin'])\n",
    "device = torch.device('cuda' if torch.cuda.is_available() else 'cpu')\n",
    "\n",
    "# TODO: Adjust result folder name!\n",
    "result_folder_name = 'homogeneous (abstract) full_emb linear_layer dropout 1_conv_layer 2_linear'\n",
    "result_folder_path = f'./data/results/{result_folder_name}'\n",
    "if not os.path.exists(result_folder_path):\n",
    "    os.mkdir(result_folder_path)"
   ],
   "id": "91b04efb689d61f4",
   "outputs": [
    {
     "name": "stdout",
     "output_type": "stream",
     "text": [
      "Using default edge type: SimilarAbstract for homogeneous graph sampling.\n"
     ]
    }
   ],
   "execution_count": 2
  },
  {
   "metadata": {
    "ExecuteTime": {
     "end_time": "2024-12-12T14:03:44.153771Z",
     "start_time": "2024-12-12T14:03:43.974618Z"
    }
   },
   "cell_type": "code",
   "source": [
    "db = DatabaseWrapper(database=database)\n",
    "data_harvester = TripletDataHarvester(db=db, gs=gs, edge_spec=[edge_spec], config=config, valid_triplets_save_file='valid_triplets_homogeneous_abstract_small_graph', transformer_model='sentence-transformers/all-MiniLM-L6-v2')\n",
    "\n",
    "\n",
    "# Harvest the evaluation triplets first, since triplets are ordered by author. This will ensure that the evaluation set has authors not seen in the training set.\n",
    "num_eval_authors = 3\n",
    "eval_papers = set()\n",
    "train_data = WhoIsWhoDataset.parse_train()\n",
    "for i, val in enumerate(train_data.values()):\n",
    "    num_eval_authors -= 1\n",
    "    for paper in val['normal_data']:\n",
    "        eval_papers.add(paper)\n",
    "    if num_eval_authors == 0:\n",
    "        break\n",
    "eval_triplets = []\n",
    "for triplet in data_harvester.triplets:\n",
    "    if triplet[0] in eval_papers or triplet[1] in eval_papers or triplet[2] in eval_papers:\n",
    "        eval_triplets.append(triplet)\n",
    "\n",
    "# Remove the evaluation triplets from the data harvester\n",
    "train_test_triplets = [triplet for triplet in data_harvester.triplets if triplet not in eval_triplets]\n",
    "\n",
    "random.shuffle(train_test_triplets)\n",
    "\n",
    "train_size = int(0.85 * len(train_test_triplets))\n",
    "test_size = len(train_test_triplets) - train_size\n",
    "\n",
    "train_triplets = train_test_triplets[:train_size]\n",
    "test_triplets = train_test_triplets[train_size:]\n",
    "config['train_size'] = len(train_triplets)\n",
    "config['test_size'] = len(test_triplets)\n",
    "config['eval_size'] = len(eval_triplets)\n",
    "\n",
    "print(f\"Train size: {len(train_triplets)}, Test size: {len(test_triplets)}, Eval size: {len(eval_triplets)}\")\n",
    "\n",
    "# Create the datasets from the pairs (distinct pairs for training and testing)\n",
    "train_dataset = HomogeneousGraphTripletDataset(train_triplets, gs, config=config)\n",
    "test_dataset = HomogeneousGraphTripletDataset(test_triplets, gs, config=config)\n",
    "eval_dataset = HomogeneousGraphTripletDataset(eval_triplets, gs, config=config)\n",
    "\n",
    "# Create the DataLoader\n",
    "train_dataloader = DataLoader(train_dataset, batch_size=config['batch_size'], shuffle=True, collate_fn=custom_triplet_collate)\n",
    "test_dataloader = DataLoader(test_dataset, batch_size=config['batch_size'], shuffle=False, collate_fn=custom_triplet_collate)\n",
    "eval_dataloader = DataLoader(eval_dataset, batch_size=config['batch_size'], shuffle=False, collate_fn=custom_triplet_collate)\n",
    "\n",
    "# Create model\n",
    "metadata = (\n",
    "    node_spec.value,\n",
    "    edge_spec.value\n",
    ")\n",
    "config['node_spec'] = metadata[0]\n",
    "config['edge_spec'] = metadata[1]\n",
    "model = model_class(config['hidden_channels'], config['out_channels'], num_heads=config['num_heads'], dropout_p=config['dropout_p']).to(device)\n",
    "#optimizer = SGD(model.parameters(), lr=0.1, momentum=0.9)\n",
    "optimizer = Adam(model.parameters(), lr=config['learning_rate'], weight_decay=config['weight_decay'])"
   ],
   "id": "62ef1028a5c5fd5d",
   "outputs": [
    {
     "name": "stderr",
     "output_type": "stream",
     "text": [
      "2024-12-12 15:03:43,978 - DatabaseWrapper - INFO - Connecting to the database ...\n",
      "2024-12-12 15:03:43,979 - DatabaseWrapper - INFO - Database ready.\n"
     ]
    },
    {
     "name": "stdout",
     "output_type": "stream",
     "text": [
      "Preparing triplets...\n",
      "Loading triplets...\n",
      "Loaded 5150 triplets.\n",
      "Train size: 4130, Test size: 729, Eval size: 291\n"
     ]
    }
   ],
   "execution_count": 3
  },
  {
   "metadata": {
    "ExecuteTime": {
     "end_time": "2024-12-12T15:00:07.224900Z",
     "start_time": "2024-12-12T14:03:44.166750Z"
    }
   },
   "cell_type": "code",
   "source": [
    "num_epochs = config['num_epochs']\n",
    "results = defaultdict(list)\n",
    "\n",
    "current_batch = 1\n",
    "\n",
    "for epoch in range(1, num_epochs + 1):\n",
    "    print(f\"=== Epoch {epoch}/{num_epochs} ======================\")\n",
    "    epoch_marker_pos = list(range(0, len(train_dataloader) * epoch, len(train_dataloader)))\n",
    "    current_batch = 1\n",
    "    for batch_anchor, batch_pos, batch_neg in tqdm(train_dataloader, desc=f\"Epoch {epoch}/{num_epochs}\"):\n",
    "        if batch_anchor is None or batch_pos is None or batch_neg is None:\n",
    "            continue\n",
    "        \n",
    "        if current_batch == 1 or current_batch == len(train_dataloader) // 2:\n",
    "            print(f\"___ Current Batch {current_batch}/{len(train_dataloader)} _________________________\")\n",
    "            # Model testing\n",
    "            print(\"    Test Results:\")\n",
    "            test_loss, test_num_correct, test_correct_pos_val, test_correct_neg_val, test_precision, test_recall, test_F1 = test_and_eval(\n",
    "                model=model,\n",
    "                loss_fn=loss_fn,\n",
    "                dataloader=test_dataloader,\n",
    "                margin=config['margin']\n",
    "            )\n",
    "            results['test_total_loss'].append(test_loss)\n",
    "            results['test_accuracies'].append(test_num_correct)\n",
    "            results['test_accuracies_correct_pos'].append(test_correct_pos_val)\n",
    "            results['test_accuracies_correct_neg'].append(test_correct_neg_val)\n",
    "            results['test_precision'].append(test_precision)\n",
    "            results['test_recall'].append(test_recall)\n",
    "            results['test_F1'].append(test_F1)\n",
    "    \n",
    "            plot_losses(\n",
    "                losses=[results['test_total_loss']], \n",
    "                epoch_len=2, \n",
    "                plot_title='Test Loss', \n",
    "                plot_file=result_folder_path + '/test_loss.png', \n",
    "                line_labels=[\"Triplet Loss\"]\n",
    "            )\n",
    "            \n",
    "            plot_losses(\n",
    "                [results['test_accuracies'], results['test_accuracies_correct_pos'], results['test_accuracies_correct_neg']],\n",
    "                epoch_len=2,\n",
    "                plot_title='Test Accuracy',\n",
    "                x_label='Test Iterations',\n",
    "                y_label='Accuracy',\n",
    "                line_labels=['Total Accuracy', 'Correct Pos', 'Correct Neg'],\n",
    "                plot_file=result_folder_path + '/test_accuracy.png'\n",
    "            )\n",
    "            \n",
    "            # Model evaluation\n",
    "            print(\"    Eval Results:\")\n",
    "            eval_loss, eval_num_correct, eval_correct_pos_val, eval_correct_neg_val, eval_precision, eval_recall, eval_F1 = test_and_eval(\n",
    "                model=model,\n",
    "                loss_fn=loss_fn,\n",
    "                dataloader=eval_dataloader,\n",
    "                margin=config['margin']\n",
    "            )\n",
    "            results['eval_total_loss'].append(eval_loss)\n",
    "            results['eval_accuracies'].append(eval_num_correct)\n",
    "            results['eval_accuracies_correct_pos'].append(eval_correct_pos_val)\n",
    "            results['eval_accuracies_correct_neg'].append(eval_correct_neg_val)\n",
    "            results['eval_precision'].append(eval_precision)\n",
    "            results['eval_recall'].append(eval_recall)\n",
    "            results['eval_F1'].append(eval_F1)\n",
    "            \n",
    "            plot_losses(\n",
    "                losses=[results['eval_total_loss']], \n",
    "                epoch_len=2, \n",
    "                plot_title='Evaluation Loss', \n",
    "                plot_file=result_folder_path + '/eval_loss.png', \n",
    "                line_labels=[\"Triplet Loss\"]\n",
    "            )\n",
    "            \n",
    "            plot_losses(\n",
    "                [results['eval_accuracies'], results['eval_accuracies_correct_pos'], results['eval_accuracies_correct_neg']], \n",
    "                epoch_len=2, \n",
    "                plot_title='Evaluation Accuracy', \n",
    "                x_label='Eval Iterations',\n",
    "                y_label='Accuracy',\n",
    "                line_labels=['Total Accuracy', 'Correct Pos', 'Correct Neg'],\n",
    "                plot_file=result_folder_path + '/eval_accuracy.png'\n",
    "            )\n",
    "            \n",
    "            # Save config and training results\n",
    "            config['results'] = results\n",
    "            save_dict_to_json(config, result_folder_path + '/training_data.json')\n",
    "            \n",
    "            # Save model if loss has decreased\n",
    "            if len(results['eval_accuracies']) > 1 and results['eval_accuracies'][-1] > max(results['eval_accuracies'][:-1]):\n",
    "                print(f\"Saving model at epoch {epoch}...\")\n",
    "                torch.save(model.state_dict(), result_folder_path + '/gat_encoder.pt')\n",
    "            \n",
    "        loss = train(\n",
    "            model=model,\n",
    "            loss_fn=loss_fn,\n",
    "            batch_anchor=batch_anchor,\n",
    "            batch_pos=batch_pos,\n",
    "            batch_neg=batch_neg,\n",
    "            optimizer=optimizer\n",
    "        )\n",
    "        results['train_loss'].append(loss)\n",
    "        \n",
    "        plot_loss(results['train_loss'], epoch_len=len(train_dataloader), plot_title='Training Loss', plot_avg=True, plot_file=result_folder_path + '/train_loss.png')\n",
    "        current_batch += 1\n",
    "        \n",
    "    "
   ],
   "id": "c3b28cd52881796",
   "outputs": [
    {
     "name": "stdout",
     "output_type": "stream",
     "text": [
      "=== Epoch 1/10 ======================\n"
     ]
    },
    {
     "data": {
      "text/plain": [
       "Epoch 1/10:   0%|          | 0/130 [00:00<?, ?it/s]"
      ],
      "application/vnd.jupyter.widget-view+json": {
       "version_major": 2,
       "version_minor": 0,
       "model_id": "ff637ecaf5fc4352b9b1ddef1d909f9f"
      }
     },
     "metadata": {},
     "output_type": "display_data"
    },
    {
     "name": "stdout",
     "output_type": "stream",
     "text": [
      "___ Current Batch 1/130 _________________________\n",
      "    Test Results:\n",
      "        Correct positive: 729 (100.00%), Correct negative: 0 (0.00%)\n",
      "        Total correct: 729 (50.00%)\n",
      "        Test/Eval Loss: 0.9923, Test/Eval Accuracy: 0.5000\n",
      "        Precision: 0.5000, Recall: 1.0000, F1: 0.6667\n",
      "    Eval Results:\n",
      "        Correct positive: 291 (100.00%), Correct negative: 0 (0.00%)\n",
      "        Total correct: 291 (50.00%)\n",
      "        Test/Eval Loss: 0.9911, Test/Eval Accuracy: 0.5000\n",
      "        Precision: 0.5000, Recall: 1.0000, F1: 0.6667\n",
      "___ Current Batch 65/130 _________________________\n",
      "    Test Results:\n",
      "        Correct positive: 572 (78.46%), Correct negative: 422 (57.89%)\n",
      "        Total correct: 994 (68.18%)\n",
      "        Test/Eval Loss: 0.5142, Test/Eval Accuracy: 0.6818\n",
      "        Precision: 0.6507, Recall: 0.7846, F1: 0.7114\n",
      "    Eval Results:\n",
      "        Correct positive: 241 (82.82%), Correct negative: 277 (95.19%)\n",
      "        Total correct: 518 (89.00%)\n",
      "        Test/Eval Loss: 0.2273, Test/Eval Accuracy: 0.8900\n",
      "        Precision: 0.9451, Recall: 0.8282, F1: 0.8828\n",
      "Saving model at epoch 1...\n",
      "=== Epoch 2/10 ======================\n"
     ]
    },
    {
     "data": {
      "text/plain": [
       "Epoch 2/10:   0%|          | 0/130 [00:00<?, ?it/s]"
      ],
      "application/vnd.jupyter.widget-view+json": {
       "version_major": 2,
       "version_minor": 0,
       "model_id": "69cc8aa3fa0f4b17929701186f2b6b76"
      }
     },
     "metadata": {},
     "output_type": "display_data"
    },
    {
     "name": "stdout",
     "output_type": "stream",
     "text": [
      "___ Current Batch 1/130 _________________________\n",
      "    Test Results:\n",
      "        Correct positive: 603 (82.72%), Correct negative: 574 (78.74%)\n",
      "        Total correct: 1177 (80.73%)\n",
      "        Test/Eval Loss: 0.3715, Test/Eval Accuracy: 0.8073\n",
      "        Precision: 0.7955, Recall: 0.8272, F1: 0.8110\n",
      "    Eval Results:\n",
      "        Correct positive: 241 (82.82%), Correct negative: 277 (95.19%)\n",
      "        Total correct: 518 (89.00%)\n",
      "        Test/Eval Loss: 0.2295, Test/Eval Accuracy: 0.8900\n",
      "        Precision: 0.9451, Recall: 0.8282, F1: 0.8828\n",
      "___ Current Batch 65/130 _________________________\n",
      "    Test Results:\n",
      "        Correct positive: 625 (85.73%), Correct negative: 496 (68.04%)\n",
      "        Total correct: 1121 (76.89%)\n",
      "        Test/Eval Loss: 0.3548, Test/Eval Accuracy: 0.7689\n",
      "        Precision: 0.7284, Recall: 0.8573, F1: 0.7876\n",
      "    Eval Results:\n",
      "        Correct positive: 240 (82.47%), Correct negative: 281 (96.56%)\n",
      "        Total correct: 521 (89.52%)\n",
      "        Test/Eval Loss: 0.2157, Test/Eval Accuracy: 0.8952\n",
      "        Precision: 0.9600, Recall: 0.8247, F1: 0.8872\n",
      "Saving model at epoch 2...\n",
      "=== Epoch 3/10 ======================\n"
     ]
    },
    {
     "data": {
      "text/plain": [
       "Epoch 3/10:   0%|          | 0/130 [00:00<?, ?it/s]"
      ],
      "application/vnd.jupyter.widget-view+json": {
       "version_major": 2,
       "version_minor": 0,
       "model_id": "886578430249481d9a470e39e8baf5b5"
      }
     },
     "metadata": {},
     "output_type": "display_data"
    },
    {
     "name": "stdout",
     "output_type": "stream",
     "text": [
      "___ Current Batch 1/130 _________________________\n",
      "    Test Results:\n",
      "        Correct positive: 636 (87.24%), Correct negative: 474 (65.02%)\n",
      "        Total correct: 1110 (76.13%)\n",
      "        Test/Eval Loss: 0.3903, Test/Eval Accuracy: 0.7613\n",
      "        Precision: 0.7138, Recall: 0.8724, F1: 0.7852\n",
      "    Eval Results:\n",
      "        Correct positive: 241 (82.82%), Correct negative: 277 (95.19%)\n",
      "        Total correct: 518 (89.00%)\n",
      "        Test/Eval Loss: 0.2318, Test/Eval Accuracy: 0.8900\n",
      "        Precision: 0.9451, Recall: 0.8282, F1: 0.8828\n",
      "___ Current Batch 65/130 _________________________\n",
      "    Test Results:\n",
      "        Correct positive: 639 (87.65%), Correct negative: 543 (74.49%)\n",
      "        Total correct: 1182 (81.07%)\n",
      "        Test/Eval Loss: 0.3448, Test/Eval Accuracy: 0.8107\n",
      "        Precision: 0.7745, Recall: 0.8765, F1: 0.8224\n",
      "    Eval Results:\n",
      "        Correct positive: 243 (83.51%), Correct negative: 149 (51.20%)\n",
      "        Total correct: 392 (67.35%)\n",
      "        Test/Eval Loss: 0.3710, Test/Eval Accuracy: 0.6735\n",
      "        Precision: 0.6312, Recall: 0.8351, F1: 0.7189\n",
      "=== Epoch 4/10 ======================\n"
     ]
    },
    {
     "data": {
      "text/plain": [
       "Epoch 4/10:   0%|          | 0/130 [00:00<?, ?it/s]"
      ],
      "application/vnd.jupyter.widget-view+json": {
       "version_major": 2,
       "version_minor": 0,
       "model_id": "350aef4113974eaa86c7b9e7d7dfd19a"
      }
     },
     "metadata": {},
     "output_type": "display_data"
    },
    {
     "name": "stdout",
     "output_type": "stream",
     "text": [
      "___ Current Batch 1/130 _________________________\n",
      "    Test Results:\n",
      "        Correct positive: 639 (87.65%), Correct negative: 493 (67.63%)\n",
      "        Total correct: 1132 (77.64%)\n",
      "        Test/Eval Loss: 0.3622, Test/Eval Accuracy: 0.7764\n",
      "        Precision: 0.7303, Recall: 0.8765, F1: 0.7968\n",
      "    Eval Results:\n",
      "        Correct positive: 243 (83.51%), Correct negative: 129 (44.33%)\n",
      "        Total correct: 372 (63.92%)\n",
      "        Test/Eval Loss: 0.4182, Test/Eval Accuracy: 0.6392\n",
      "        Precision: 0.6000, Recall: 0.8351, F1: 0.6983\n",
      "___ Current Batch 65/130 _________________________\n",
      "    Test Results:\n",
      "        Correct positive: 637 (87.38%), Correct negative: 473 (64.88%)\n",
      "        Total correct: 1110 (76.13%)\n",
      "        Test/Eval Loss: 0.3877, Test/Eval Accuracy: 0.7613\n",
      "        Precision: 0.7133, Recall: 0.8738, F1: 0.7855\n",
      "    Eval Results:\n",
      "        Correct positive: 242 (83.16%), Correct negative: 255 (87.63%)\n",
      "        Total correct: 497 (85.40%)\n",
      "        Test/Eval Loss: 0.2900, Test/Eval Accuracy: 0.8540\n",
      "        Precision: 0.8705, Recall: 0.8316, F1: 0.8506\n",
      "=== Epoch 5/10 ======================\n"
     ]
    },
    {
     "data": {
      "text/plain": [
       "Epoch 5/10:   0%|          | 0/130 [00:00<?, ?it/s]"
      ],
      "application/vnd.jupyter.widget-view+json": {
       "version_major": 2,
       "version_minor": 0,
       "model_id": "d1fa5f1f2cf84e4985e35f02a1f55a65"
      }
     },
     "metadata": {},
     "output_type": "display_data"
    },
    {
     "name": "stdout",
     "output_type": "stream",
     "text": [
      "___ Current Batch 1/130 _________________________\n",
      "    Test Results:\n",
      "        Correct positive: 680 (93.28%), Correct negative: 416 (57.06%)\n",
      "        Total correct: 1096 (75.17%)\n",
      "        Test/Eval Loss: 0.3626, Test/Eval Accuracy: 0.7517\n",
      "        Precision: 0.6848, Recall: 0.9328, F1: 0.7898\n",
      "    Eval Results:\n",
      "        Correct positive: 260 (89.35%), Correct negative: 21 (7.22%)\n",
      "        Total correct: 281 (48.28%)\n",
      "        Test/Eval Loss: 0.6699, Test/Eval Accuracy: 0.4828\n",
      "        Precision: 0.4906, Recall: 0.8935, F1: 0.6334\n",
      "___ Current Batch 65/130 _________________________\n",
      "    Test Results:\n",
      "        Correct positive: 668 (91.63%), Correct negative: 459 (62.96%)\n",
      "        Total correct: 1127 (77.30%)\n",
      "        Test/Eval Loss: 0.3523, Test/Eval Accuracy: 0.7730\n",
      "        Precision: 0.7122, Recall: 0.9163, F1: 0.8014\n",
      "    Eval Results:\n",
      "        Correct positive: 243 (83.51%), Correct negative: 183 (62.89%)\n",
      "        Total correct: 426 (73.20%)\n",
      "        Test/Eval Loss: 0.3831, Test/Eval Accuracy: 0.7320\n",
      "        Precision: 0.6923, Recall: 0.8351, F1: 0.7570\n",
      "=== Epoch 6/10 ======================\n"
     ]
    },
    {
     "data": {
      "text/plain": [
       "Epoch 6/10:   0%|          | 0/130 [00:00<?, ?it/s]"
      ],
      "application/vnd.jupyter.widget-view+json": {
       "version_major": 2,
       "version_minor": 0,
       "model_id": "6a9e5f704f3744478c79db33b4bf3c38"
      }
     },
     "metadata": {},
     "output_type": "display_data"
    },
    {
     "name": "stdout",
     "output_type": "stream",
     "text": [
      "___ Current Batch 1/130 _________________________\n",
      "    Test Results:\n",
      "        Correct positive: 631 (86.56%), Correct negative: 574 (78.74%)\n",
      "        Total correct: 1205 (82.65%)\n",
      "        Test/Eval Loss: 0.3234, Test/Eval Accuracy: 0.8265\n",
      "        Precision: 0.8028, Recall: 0.8656, F1: 0.8330\n",
      "    Eval Results:\n",
      "        Correct positive: 260 (89.35%), Correct negative: 19 (6.53%)\n",
      "        Total correct: 279 (47.94%)\n",
      "        Test/Eval Loss: 1.0000, Test/Eval Accuracy: 0.4794\n",
      "        Precision: 0.4887, Recall: 0.8935, F1: 0.6318\n",
      "___ Current Batch 65/130 _________________________\n",
      "    Test Results:\n",
      "        Correct positive: 683 (93.69%), Correct negative: 332 (45.54%)\n",
      "        Total correct: 1015 (69.62%)\n",
      "        Test/Eval Loss: 0.4621, Test/Eval Accuracy: 0.6962\n",
      "        Precision: 0.6324, Recall: 0.9369, F1: 0.7551\n",
      "    Eval Results:\n",
      "        Correct positive: 239 (82.13%), Correct negative: 271 (93.13%)\n",
      "        Total correct: 510 (87.63%)\n",
      "        Test/Eval Loss: 0.2895, Test/Eval Accuracy: 0.8763\n",
      "        Precision: 0.9228, Recall: 0.8213, F1: 0.8691\n",
      "=== Epoch 7/10 ======================\n"
     ]
    },
    {
     "data": {
      "text/plain": [
       "Epoch 7/10:   0%|          | 0/130 [00:00<?, ?it/s]"
      ],
      "application/vnd.jupyter.widget-view+json": {
       "version_major": 2,
       "version_minor": 0,
       "model_id": "79406c09637a43d6971e012fdc532e6c"
      }
     },
     "metadata": {},
     "output_type": "display_data"
    },
    {
     "name": "stdout",
     "output_type": "stream",
     "text": [
      "___ Current Batch 1/130 _________________________\n",
      "    Test Results:\n",
      "        Correct positive: 663 (90.95%), Correct negative: 491 (67.35%)\n",
      "        Total correct: 1154 (79.15%)\n",
      "        Test/Eval Loss: 0.3522, Test/Eval Accuracy: 0.7915\n",
      "        Precision: 0.7358, Recall: 0.9095, F1: 0.8135\n",
      "    Eval Results:\n",
      "        Correct positive: 260 (89.35%), Correct negative: 19 (6.53%)\n",
      "        Total correct: 279 (47.94%)\n",
      "        Test/Eval Loss: 0.6891, Test/Eval Accuracy: 0.4794\n",
      "        Precision: 0.4887, Recall: 0.8935, F1: 0.6318\n",
      "___ Current Batch 65/130 _________________________\n",
      "    Test Results:\n",
      "        Correct positive: 704 (96.57%), Correct negative: 351 (48.15%)\n",
      "        Total correct: 1055 (72.36%)\n",
      "        Test/Eval Loss: 0.4045, Test/Eval Accuracy: 0.7236\n",
      "        Precision: 0.6506, Recall: 0.9657, F1: 0.7775\n",
      "    Eval Results:\n",
      "        Correct positive: 257 (88.32%), Correct negative: 17 (5.84%)\n",
      "        Total correct: 274 (47.08%)\n",
      "        Test/Eval Loss: 0.5868, Test/Eval Accuracy: 0.4708\n",
      "        Precision: 0.4840, Recall: 0.8832, F1: 0.6253\n",
      "=== Epoch 8/10 ======================\n"
     ]
    },
    {
     "data": {
      "text/plain": [
       "Epoch 8/10:   0%|          | 0/130 [00:00<?, ?it/s]"
      ],
      "application/vnd.jupyter.widget-view+json": {
       "version_major": 2,
       "version_minor": 0,
       "model_id": "e7cad1741aae484cbe9cd4b1d69171c0"
      }
     },
     "metadata": {},
     "output_type": "display_data"
    },
    {
     "name": "stdout",
     "output_type": "stream",
     "text": [
      "___ Current Batch 1/130 _________________________\n",
      "    Test Results:\n",
      "        Correct positive: 687 (94.24%), Correct negative: 389 (53.36%)\n",
      "        Total correct: 1076 (73.80%)\n",
      "        Test/Eval Loss: 0.4220, Test/Eval Accuracy: 0.7380\n",
      "        Precision: 0.6689, Recall: 0.9424, F1: 0.7825\n",
      "    Eval Results:\n",
      "        Correct positive: 260 (89.35%), Correct negative: 21 (7.22%)\n",
      "        Total correct: 281 (48.28%)\n",
      "        Test/Eval Loss: 0.6714, Test/Eval Accuracy: 0.4828\n",
      "        Precision: 0.4906, Recall: 0.8935, F1: 0.6334\n",
      "___ Current Batch 65/130 _________________________\n",
      "    Test Results:\n",
      "        Correct positive: 705 (96.71%), Correct negative: 334 (45.82%)\n",
      "        Total correct: 1039 (71.26%)\n",
      "        Test/Eval Loss: 0.4380, Test/Eval Accuracy: 0.7126\n",
      "        Precision: 0.6409, Recall: 0.9671, F1: 0.7709\n",
      "    Eval Results:\n",
      "        Correct positive: 260 (89.35%), Correct negative: 13 (4.47%)\n",
      "        Total correct: 273 (46.91%)\n",
      "        Test/Eval Loss: 0.6266, Test/Eval Accuracy: 0.4691\n",
      "        Precision: 0.4833, Recall: 0.8935, F1: 0.6273\n",
      "=== Epoch 9/10 ======================\n"
     ]
    },
    {
     "data": {
      "text/plain": [
       "Epoch 9/10:   0%|          | 0/130 [00:00<?, ?it/s]"
      ],
      "application/vnd.jupyter.widget-view+json": {
       "version_major": 2,
       "version_minor": 0,
       "model_id": "2e7e4bb169394617a36c4ade67497d5e"
      }
     },
     "metadata": {},
     "output_type": "display_data"
    },
    {
     "name": "stdout",
     "output_type": "stream",
     "text": [
      "___ Current Batch 1/130 _________________________\n",
      "    Test Results:\n",
      "        Correct positive: 705 (96.71%), Correct negative: 329 (45.13%)\n",
      "        Total correct: 1034 (70.92%)\n",
      "        Test/Eval Loss: 0.4822, Test/Eval Accuracy: 0.7092\n",
      "        Precision: 0.6380, Recall: 0.9671, F1: 0.7688\n",
      "    Eval Results:\n",
      "        Correct positive: 251 (86.25%), Correct negative: 78 (26.80%)\n",
      "        Total correct: 329 (56.53%)\n",
      "        Test/Eval Loss: 0.5239, Test/Eval Accuracy: 0.5653\n",
      "        Precision: 0.5409, Recall: 0.8625, F1: 0.6649\n",
      "___ Current Batch 65/130 _________________________\n",
      "    Test Results:\n",
      "        Correct positive: 686 (94.10%), Correct negative: 442 (60.63%)\n",
      "        Total correct: 1128 (77.37%)\n",
      "        Test/Eval Loss: 0.3590, Test/Eval Accuracy: 0.7737\n",
      "        Precision: 0.7050, Recall: 0.9410, F1: 0.8061\n",
      "    Eval Results:\n",
      "        Correct positive: 260 (89.35%), Correct negative: 21 (7.22%)\n",
      "        Total correct: 281 (48.28%)\n",
      "        Test/Eval Loss: 0.8794, Test/Eval Accuracy: 0.4828\n",
      "        Precision: 0.4906, Recall: 0.8935, F1: 0.6334\n",
      "=== Epoch 10/10 ======================\n"
     ]
    },
    {
     "data": {
      "text/plain": [
       "Epoch 10/10:   0%|          | 0/130 [00:00<?, ?it/s]"
      ],
      "application/vnd.jupyter.widget-view+json": {
       "version_major": 2,
       "version_minor": 0,
       "model_id": "126eba474604465484cb72f269c1de5b"
      }
     },
     "metadata": {},
     "output_type": "display_data"
    },
    {
     "name": "stdout",
     "output_type": "stream",
     "text": [
      "___ Current Batch 1/130 _________________________\n",
      "    Test Results:\n",
      "        Correct positive: 703 (96.43%), Correct negative: 365 (50.07%)\n",
      "        Total correct: 1068 (73.25%)\n",
      "        Test/Eval Loss: 0.3928, Test/Eval Accuracy: 0.7325\n",
      "        Precision: 0.6589, Recall: 0.9643, F1: 0.7829\n",
      "    Eval Results:\n",
      "        Correct positive: 261 (89.69%), Correct negative: 13 (4.47%)\n",
      "        Total correct: 274 (47.08%)\n",
      "        Test/Eval Loss: 0.9626, Test/Eval Accuracy: 0.4708\n",
      "        Precision: 0.4842, Recall: 0.8969, F1: 0.6289\n",
      "___ Current Batch 65/130 _________________________\n",
      "    Test Results:\n",
      "        Correct positive: 698 (95.75%), Correct negative: 400 (54.87%)\n",
      "        Total correct: 1098 (75.31%)\n",
      "        Test/Eval Loss: 0.4266, Test/Eval Accuracy: 0.7531\n",
      "        Precision: 0.6796, Recall: 0.9575, F1: 0.7950\n",
      "    Eval Results:\n",
      "        Correct positive: 260 (89.35%), Correct negative: 17 (5.84%)\n",
      "        Total correct: 277 (47.59%)\n",
      "        Test/Eval Loss: 0.5847, Test/Eval Accuracy: 0.4759\n",
      "        Precision: 0.4869, Recall: 0.8935, F1: 0.6303\n"
     ]
    }
   ],
   "execution_count": 4
  }
 ],
 "metadata": {
  "kernelspec": {
   "display_name": "Python 3",
   "language": "python",
   "name": "python3"
  },
  "language_info": {
   "codemirror_mode": {
    "name": "ipython",
    "version": 2
   },
   "file_extension": ".py",
   "mimetype": "text/x-python",
   "name": "python",
   "nbconvert_exporter": "python",
   "pygments_lexer": "ipython2",
   "version": "2.7.6"
  }
 },
 "nbformat": 4,
 "nbformat_minor": 5
}
