{
 "cells": [
  {
   "cell_type": "code",
   "id": "initial_id",
   "metadata": {
    "collapsed": true,
    "ExecuteTime": {
     "end_time": "2024-12-04T16:10:27.520573Z",
     "start_time": "2024-12-04T16:10:25.668399Z"
    }
   },
   "source": [
    "import numpy as np\n",
    "from sentence_transformers import SentenceTransformer\n",
    "from tqdm.notebook import tqdm\n",
    "from collections import defaultdict\n",
    "import re\n",
    "\n",
    "from src.datasets.who_is_who import WhoIsWhoDataset\n",
    "from src.shared.database_wrapper import DatabaseWrapper\n",
    "from src.shared.graph_schema import NodeType, EdgeType\n",
    "from src.shared.graph_sampling import GraphSampling"
   ],
   "outputs": [
    {
     "name": "stderr",
     "output_type": "stream",
     "text": [
      "/home/vincie/.anaconda3/envs/master/lib/python3.9/site-packages/sentence_transformers/cross_encoder/CrossEncoder.py:11: TqdmExperimentalWarning: Using `tqdm.autonotebook.tqdm` in notebook mode. Use `tqdm.tqdm` instead to force console mode (e.g. in jupyter console)\n",
      "  from tqdm.autonotebook import tqdm, trange\n"
     ]
    }
   ],
   "execution_count": 1
  },
  {
   "metadata": {},
   "cell_type": "markdown",
   "source": "## Configuration",
   "id": "f934f5daf06dbc1d"
  },
  {
   "metadata": {
    "ExecuteTime": {
     "end_time": "2024-12-04T16:10:27.525224Z",
     "start_time": "2024-12-04T16:10:27.522889Z"
    }
   },
   "cell_type": "code",
   "source": [
    "max_iterations = 50\n",
    "add_true_authors = False\n",
    "link_true_authors = True\n",
    "link_co_authors = True\n",
    "link_title = True\n",
    "link_abstract = True\n",
    "link_venue = True\n",
    "link_org = True"
   ],
   "id": "bb1b78124474912c",
   "outputs": [],
   "execution_count": 2
  },
  {
   "metadata": {
    "ExecuteTime": {
     "end_time": "2024-12-04T16:10:27.573939Z",
     "start_time": "2024-12-04T16:10:27.566454Z"
    }
   },
   "cell_type": "code",
   "source": [
    "\n",
    "db = DatabaseWrapper(database='small-graph')\n",
    "db.delete_all_nodes()"
   ],
   "id": "39befe6e82597c35",
   "outputs": [
    {
     "name": "stderr",
     "output_type": "stream",
     "text": [
      "2024-12-04 17:10:27,567 - DatabaseWrapper - INFO - Connecting to the database ...\n",
      "2024-12-04 17:10:27,567 - DatabaseWrapper - INFO - Database ready.\n",
      "2024-12-04 17:10:27,570 - DatabaseWrapper - INFO - Deleted all nodes.\n"
     ]
    }
   ],
   "execution_count": 3
  },
  {
   "metadata": {
    "ExecuteTime": {
     "end_time": "2024-12-04T16:10:36.824807Z",
     "start_time": "2024-12-04T16:10:27.612636Z"
    }
   },
   "cell_type": "code",
   "source": [
    "data = WhoIsWhoDataset.parse_data()\n",
    "train_data = WhoIsWhoDataset.parse_train()\n",
    "\n",
    "co_author_overlap_threshold = 0.25\n",
    "link_title_threshold = 0.7\n",
    "link_abstract_threshold = 0.7\n",
    "link_venue_threshold = 0.7\n",
    "link_org_threshold = 0.9\n",
    "\n",
    "link_title_k = 8\n",
    "link_abstract_k = 8\n",
    "link_venue_k = 8\n",
    "link_org_k = 8"
   ],
   "id": "7b4f2bfe1943d12a",
   "outputs": [],
   "execution_count": 4
  },
  {
   "metadata": {
    "ExecuteTime": {
     "end_time": "2024-12-04T16:10:38.328041Z",
     "start_time": "2024-12-04T16:10:36.910705Z"
    }
   },
   "cell_type": "code",
   "source": [
    "model = SentenceTransformer(\n",
    "    'sentence-transformers/all-MiniLM-L6-v2',\n",
    "    device='cuda'\n",
    ")\n",
    "print(f\"Model dim: {model.get_sentence_embedding_dimension()}\")"
   ],
   "id": "9a313d7d87172b1c",
   "outputs": [
    {
     "name": "stderr",
     "output_type": "stream",
     "text": [
      "/home/vincie/.anaconda3/envs/master/lib/python3.9/site-packages/transformers/tokenization_utils_base.py:1601: FutureWarning: `clean_up_tokenization_spaces` was not set. It will be set to `True` by default. This behavior will be depracted in transformers v4.45, and will be then set to `False` by default. For more details check this issue: https://github.com/huggingface/transformers/issues/31884\n",
      "  warnings.warn(\n"
     ]
    },
    {
     "name": "stdout",
     "output_type": "stream",
     "text": [
      "Model dim: 384\n"
     ]
    }
   ],
   "execution_count": 5
  },
  {
   "metadata": {},
   "cell_type": "markdown",
   "source": "## Add publication nodes to the graph database",
   "id": "15768f9232b8a006"
  },
  {
   "metadata": {
    "ExecuteTime": {
     "end_time": "2024-12-04T16:10:38.421203Z",
     "start_time": "2024-12-04T16:10:38.418178Z"
    }
   },
   "cell_type": "code",
   "source": [
    "def process_batch(batch):\n",
    "    if not batch[NodeType.PUBLICATION]:\n",
    "        return\n",
    "    title_embs = model.encode(\n",
    "        [node['title'] for node in batch[NodeType.PUBLICATION]]\n",
    "    )\n",
    "    abstract_embs = model.encode(\n",
    "        [node['abstract'] for node in batch[NodeType.PUBLICATION]]\n",
    "    )\n",
    "    venue_embs = model.encode(\n",
    "        [node['venue'] for node in batch[NodeType.PUBLICATION]]\n",
    "    )\n",
    "    org_embs = model.encode(\n",
    "        [node['org'] for node in batch[NodeType.PUBLICATION]]\n",
    "    )\n",
    "    for i, node in enumerate(batch[NodeType.PUBLICATION]):\n",
    "        node['title_emb'] = title_embs[i]\n",
    "        node['abstract_emb'] = abstract_embs[i]\n",
    "        node['venue_emb'] = venue_embs[i]\n",
    "        node['org_emb'] = org_embs[i]\n",
    "        # vertically stack the embeddings\n",
    "        node['feature_vec'] = list(title_embs[i]) + list(abstract_embs[i])\n",
    "    db.merge_nodes(NodeType.PUBLICATION, batch[NodeType.PUBLICATION])\n",
    "    batch[NodeType.PUBLICATION] = []"
   ],
   "id": "fb863533ee3db7cb",
   "outputs": [],
   "execution_count": 6
  },
  {
   "metadata": {
    "ExecuteTime": {
     "end_time": "2024-12-04T16:12:08.409370Z",
     "start_time": "2024-12-04T16:10:38.493191Z"
    }
   },
   "cell_type": "code",
   "source": [
    "batch_nodes = defaultdict(list)\n",
    "current_iteration = 0\n",
    "authors_in_graph = set()\n",
    "\n",
    "with tqdm(total=max_iterations) as pbar:\n",
    "    for author_id, values in train_data.items():\n",
    "        if max_iterations is not None and current_iteration >= max_iterations:\n",
    "            break\n",
    "            \n",
    "        authors_in_graph.add(author_id)\n",
    "        \n",
    "        papers = values.get('normal_data', [])\n",
    "        papers.extend(values.get('outliers', []))\n",
    "        \n",
    "        \n",
    "        current_iteration += 1\n",
    "        \n",
    "        for paper_id in papers:\n",
    "            values = data[paper_id]\n",
    "            authors = values.get('authors', [])\n",
    "            org = ''\n",
    "            if len(authors) > 0 and 'org' in authors[0]:\n",
    "                org = authors[0].get('org', '')\n",
    "            paper_node = {\n",
    "                'id': values['id'],\n",
    "                'title': values['title'],\n",
    "                'abstract': values['abstract'],\n",
    "                'year': values['year'],\n",
    "                'venue': values['venue'],\n",
    "                'org': org\n",
    "            }\n",
    "            batch_nodes[NodeType.PUBLICATION].append(paper_node)\n",
    "            \n",
    "            if len(batch_nodes[NodeType.PUBLICATION]) % 1000 == 0:\n",
    "                process_batch(batch_nodes)\n",
    "                \n",
    "        pbar.update(1)\n",
    "        \n",
    "process_batch(batch_nodes)\n",
    "print(\"Number of authors in the graph:\", len(authors_in_graph))\n",
    "print(\"Number of publication nodes:\", db.count_nodes(NodeType.PUBLICATION))"
   ],
   "id": "29946cd86c709ff8",
   "outputs": [
    {
     "data": {
      "text/plain": [
       "  0%|          | 0/50 [00:00<?, ?it/s]"
      ],
      "application/vnd.jupyter.widget-view+json": {
       "version_major": 2,
       "version_minor": 0,
       "model_id": "33d46f0e5d144392814e941b3592bfa2"
      }
     },
     "metadata": {},
     "output_type": "display_data"
    },
    {
     "name": "stderr",
     "output_type": "stream",
     "text": [
      "/home/vincie/.anaconda3/envs/master/lib/python3.9/site-packages/neo4j/_sync/work/result.py:500: UserWarning: Expected a result with a single record, but found multiple.\n",
      "  warn(\"Expected a result with a single record, \"\n"
     ]
    },
    {
     "name": "stdout",
     "output_type": "stream",
     "text": [
      "Number of authors in the graph: 50\n",
      "Number of publication nodes: 8865\n"
     ]
    }
   ],
   "execution_count": 7
  },
  {
   "metadata": {},
   "cell_type": "markdown",
   "source": "## Add true author data to the nodes",
   "id": "ebf992fa74894e99"
  },
  {
   "metadata": {
    "ExecuteTime": {
     "end_time": "2024-12-04T16:13:14.223947Z",
     "start_time": "2024-12-04T16:12:08.491089Z"
    }
   },
   "cell_type": "code",
   "source": [
    "def reverse_dict(author_dict):\n",
    "    paper_to_author = {}\n",
    "    for author_id, values in author_dict.items():\n",
    "        normal_papers = values.get('normal_data', [])\n",
    "        for paper_id in normal_papers:\n",
    "            paper_to_author[paper_id] = author_id\n",
    "    return paper_to_author\n",
    "\n",
    "def add_true_authors(db: DatabaseWrapper, train_data):\n",
    "    paper_id_to_author = reverse_dict(train_data)\n",
    "\n",
    "    with tqdm(total=db.count_nodes(NodeType.PUBLICATION), desc=\"Merging WhoIsWho train_author.json\") as pbar:\n",
    "        for nodes in db.iter_nodes(NodeType.PUBLICATION, ['id']):\n",
    "            for node in nodes:\n",
    "                true_author_id = paper_id_to_author.get(node['id'], '')\n",
    "                true_author_name = train_data.get(true_author_id, {}).get('name', '')\n",
    "                \n",
    "                db.merge_properties(\n",
    "                    type=NodeType.PUBLICATION, \n",
    "                    node_id=node['id'], \n",
    "                    properties={'true_author_id': true_author_id, 'true_author_name': true_author_name}\n",
    "                )\n",
    "                pbar.update(1)\n",
    "\n",
    "if add_true_authors:\n",
    "    add_true_authors(db, train_data)"
   ],
   "id": "9b2f2a4cbd1f8ad1",
   "outputs": [
    {
     "data": {
      "text/plain": [
       "Merging WhoIsWho train_author.json:   0%|          | 0/8865 [00:00<?, ?it/s]"
      ],
      "application/vnd.jupyter.widget-view+json": {
       "version_major": 2,
       "version_minor": 0,
       "model_id": "4f3417e939e6443193f2f0b9dc32155b"
      }
     },
     "metadata": {},
     "output_type": "display_data"
    }
   ],
   "execution_count": 8
  },
  {
   "metadata": {},
   "cell_type": "markdown",
   "source": "## Link publication nodes if they share the same true author",
   "id": "c55bcbf69531cd7d"
  },
  {
   "metadata": {
    "ExecuteTime": {
     "end_time": "2024-12-04T16:13:25.420443Z",
     "start_time": "2024-12-04T16:13:14.310104Z"
    }
   },
   "cell_type": "code",
   "source": [
    "import random\n",
    "\n",
    "def get_sample_size(num_papers):\n",
    "    random_k = 3 + random.random() * 0.2\n",
    "    return int(num_papers**0.5 * random_k)\n",
    "\n",
    "def link_true_authors(db: DatabaseWrapper, train_data):\n",
    "    node_type = NodeType.PUBLICATION\n",
    "    edges_to_merge = []\n",
    "    current_iteration = 0\n",
    "    \n",
    "    with tqdm(total=max_iterations, desc=\"Merging true-author edges\") as pbar:\n",
    "        for author_id, values in train_data.items():\n",
    "            papers = values.get('normal_data', [])\n",
    "            print(f\"Number of papers: {len(papers)}\")\n",
    "            \n",
    "            pbar.update(len(papers) + len(values.get('outliers', [])))\n",
    "            if max_iterations is not None and current_iteration >= max_iterations:\n",
    "                break \n",
    "            current_iteration += len(papers) + len(values.get('outliers', []))\n",
    "            \n",
    "            for i in range(len(papers)):\n",
    "                for j in range(len(papers)):\n",
    "                    if i == j:\n",
    "                        continue\n",
    "                    edges_to_merge.append([papers[i], papers[j]])\n",
    "            \n",
    "            print(f\"Number of edges to merge: {len(edges_to_merge)}\")\n",
    "            # Randomly sample 10-40% of the edges_to_merge list\n",
    "            sample_size = get_sample_size(len(edges_to_merge))\n",
    "            print(f\"Sample size: {sample_size}\")\n",
    "            edges_to_merge = random.sample(edges_to_merge, sample_size)\n",
    "            print(f\"Sampled number of edges to merge: {len(edges_to_merge)}\")\n",
    "             \n",
    "            if len(edges_to_merge) > 1000:\n",
    "                db.merge_edges(start_label=node_type, end_label=node_type, edge_type=EdgeType.SAME_AUTHOR, edges=edges_to_merge)\n",
    "                edges_to_merge.clear()\n",
    "            \n",
    "            \n",
    "            \n",
    "        \n",
    "        if edges_to_merge:\n",
    "            db.merge_edges(start_label=node_type, end_label=node_type, edge_type=EdgeType.SAME_AUTHOR, edges=edges_to_merge)\n",
    "            edges_to_merge.clear()\n",
    "            \n",
    "if link_true_authors:\n",
    "    db.delete_edges(EdgeType.SAME_AUTHOR)\n",
    "    link_true_authors(db, train_data)"
   ],
   "id": "5a54f0712c36cbe6",
   "outputs": [
    {
     "data": {
      "text/plain": [
       "Merging true-author edges:   0%|          | 0/50 [00:00<?, ?it/s]"
      ],
      "application/vnd.jupyter.widget-view+json": {
       "version_major": 2,
       "version_minor": 0,
       "model_id": "b0894adedcfb4bb38d6b9404288dfe57"
      }
     },
     "metadata": {},
     "output_type": "display_data"
    },
    {
     "name": "stdout",
     "output_type": "stream",
     "text": [
      "Number of papers: 565\n",
      "Number of edges to merge: 318660\n",
      "Sample size: 1784\n",
      "Sampled number of edges to merge: 1784\n",
      "Number of papers: 40\n"
     ]
    }
   ],
   "execution_count": 9
  },
  {
   "metadata": {},
   "cell_type": "markdown",
   "source": "## Link nodes based on co-author relationships",
   "id": "f289de4073e4964f"
  },
  {
   "metadata": {
    "ExecuteTime": {
     "end_time": "2024-12-04T16:13:25.502999Z",
     "start_time": "2024-12-04T16:13:25.498389Z"
    }
   },
   "cell_type": "code",
   "source": [
    "def link_co_author_network(db: DatabaseWrapper, node_type: NodeType):\n",
    "    num_nodes = db.count_nodes(node_type)\n",
    "    attrs = ['id']\n",
    "    co_author_map = defaultdict(list)\n",
    "    co_author_overlap = defaultdict(int)\n",
    "        \n",
    "    print(f\"Linking {node_type.value} nodes based on co-authorship ...\")\n",
    "    with tqdm(total=num_nodes, desc=f\"Progress {node_type.value} co-authorship\") as pbar:\n",
    "        for nodes in db.iter_nodes(node_type, attrs):\n",
    "            for node in nodes:\n",
    "                co_authors = [author[\"name\"] for author in data[node['id']]['authors']]\n",
    "                for author in co_authors:\n",
    "                    name = author.strip()\n",
    "                    name = re.sub(r'[^A-Za-z\\s]', '', name)\n",
    "                    name_parts = name.split()\n",
    "                    if len(name_parts) == 0:\n",
    "                        continue\n",
    "                    \n",
    "                    surname = name_parts[-1]\n",
    "                    given_name_initial = (name_parts[0] if len(name_parts) > 1 else ' ')[0]\n",
    "                    abbrev = f\"{surname} {given_name_initial}\"\n",
    "                    co_author_map[abbrev].append(node['id'])\n",
    "                pbar.update(1)\n",
    "    \n",
    "    for k, v in co_author_map.items():\n",
    "        for i in range(len(v)):\n",
    "            for j in range(i + 1, len(v)):\n",
    "                co_author_overlap[(v[i], v[j])] += 1\n",
    "                \n",
    "    for k, v in co_author_overlap.items():\n",
    "        total_num_authors = data[k[0]][\"authors\"] + data[k[1]][\"authors\"]\n",
    "        co_author_overlap[k] = v / len(total_num_authors)\n",
    "    \n",
    "    print(f\"Max. co-authors: {max(len(v) for v in co_author_map.values())}\")\n",
    "    print(f\"Max. co-author overlap: {max(co_author_overlap.values())}\")\n",
    "    \n",
    "    print(\"Number of co-author pairs:\", len(co_author_overlap))\n",
    "    print(f\"Number of co-author pairs with overlap > {co_author_overlap_threshold}:\", len([v for v in co_author_overlap.values() if v > co_author_overlap_threshold]))\n",
    "    \n",
    "    print(\"Merging edges ...\")\n",
    "    edges_to_merge = [[k[0], k[1], {'sim': v}] for k, v in co_author_overlap.items() if v > co_author_overlap_threshold]\n",
    "    with tqdm(total=len(edges_to_merge), desc=\"Merging co-author edges\") as pbar:\n",
    "        for i in range(0, len(edges_to_merge), 1000):\n",
    "            db.merge_edges_with_properties(start_label=node_type, end_label=node_type, edge_type=EdgeType.SIM_AUTHOR, edges=edges_to_merge[i:i+1000])\n",
    "            pbar.update(1000)"
   ],
   "id": "a7757bd1c39b85df",
   "outputs": [],
   "execution_count": 10
  },
  {
   "metadata": {
    "ExecuteTime": {
     "end_time": "2024-12-04T16:17:50.486819Z",
     "start_time": "2024-12-04T16:13:25.576554Z"
    }
   },
   "cell_type": "code",
   "source": [
    "if link_co_authors:\n",
    "    link_co_author_network(db, NodeType.PUBLICATION)"
   ],
   "id": "e663cedfc1fbdc51",
   "outputs": [
    {
     "name": "stdout",
     "output_type": "stream",
     "text": [
      "Linking Publication nodes based on co-authorship ...\n"
     ]
    },
    {
     "data": {
      "text/plain": [
       "Progress Publication co-authorship:   0%|          | 0/8865 [00:00<?, ?it/s]"
      ],
      "application/vnd.jupyter.widget-view+json": {
       "version_major": 2,
       "version_minor": 0,
       "model_id": "3b70bf12707f4fa2af513fe482f2512e"
      }
     },
     "metadata": {},
     "output_type": "display_data"
    },
    {
     "name": "stdout",
     "output_type": "stream",
     "text": [
      "Max. co-authors: 797\n",
      "Max. co-author overlap: 1.0\n",
      "Number of co-author pairs: 1296615\n",
      "Number of co-author pairs with overlap > 0.25: 46386\n",
      "Merging edges ...\n"
     ]
    },
    {
     "data": {
      "text/plain": [
       "Merging co-author edges:   0%|          | 0/46386 [00:00<?, ?it/s]"
      ],
      "application/vnd.jupyter.widget-view+json": {
       "version_major": 2,
       "version_minor": 0,
       "model_id": "da3737bae09b4209ab089c8e99a238ee"
      }
     },
     "metadata": {},
     "output_type": "display_data"
    }
   ],
   "execution_count": 11
  },
  {
   "metadata": {},
   "cell_type": "markdown",
   "source": "## Link nodes based on cosine similarity of their embeddings",
   "id": "4a98eaadf5534888"
  },
  {
   "metadata": {
    "ExecuteTime": {
     "end_time": "2024-12-04T16:17:50.579487Z",
     "start_time": "2024-12-04T16:17:50.576042Z"
    }
   },
   "cell_type": "code",
   "source": [
    "def link_node_attr_cosine(db: DatabaseWrapper, node_type: NodeType, vec_attr: str, edge_type: EdgeType, threshold: float = 0.7, filter_empty_original_attr: str = None, k: int = 8):\n",
    "    num_nodes = db.count_nodes(node_type)\n",
    "    edges = []\n",
    "    attrs = ['id', vec_attr]\n",
    "    if filter_empty_original_attr:\n",
    "        attrs.append(filter_empty_original_attr)\n",
    "        \n",
    "    print(f\"Linking {node_type.value} nodes based on {vec_attr} attribute ...\")\n",
    "    with tqdm(total=num_nodes, desc=f\"Progress {node_type.value} {vec_attr}\") as pbar:\n",
    "        for nodes in db.iter_nodes(node_type, attrs):\n",
    "            for node in nodes:\n",
    "                if filter_empty_original_attr and not node[filter_empty_original_attr]:\n",
    "                    pbar.update(1)\n",
    "                    print(f\"Skipping node {node['id']} because {filter_empty_original_attr} is empty\")\n",
    "                    continue\n",
    "\n",
    "                similar_nodes = db.get_similar_nodes_vec(\n",
    "                    node_type,\n",
    "                    vec_attr,\n",
    "                    node[vec_attr],\n",
    "                    threshold,\n",
    "                    k\n",
    "                )\n",
    "                for ix, row in similar_nodes.iterrows():\n",
    "                    if row['id'] == node['id']:\n",
    "                        continue\n",
    "                    edges.append([node['id'], row['id']])\n",
    "                    #db.merge_edge(node_type, node['id'], node_type, row['id'], edge_type, {\"sim\": row['sim']})\n",
    "                if len(edges) > 1000:\n",
    "                    print(f\"Merging {len(edges)} edges ...\")\n",
    "                    db.merge_edges(start_label=node_type, end_label=node_type, edge_type=edge_type, edges=edges)\n",
    "                    edges.clear()\n",
    "                    \n",
    "                pbar.update(1)\n",
    "    if edges:\n",
    "        db.merge_edges(start_label=node_type, end_label=node_type, edge_type=edge_type, edges=edges)"
   ],
   "id": "df5874196d002a6",
   "outputs": [],
   "execution_count": 12
  },
  {
   "metadata": {
    "ExecuteTime": {
     "end_time": "2024-12-04T16:17:50.660995Z",
     "start_time": "2024-12-04T16:17:50.659487Z"
    }
   },
   "cell_type": "code",
   "source": "model_dim = model.get_sentence_embedding_dimension()",
   "id": "3c224a8575c060e0",
   "outputs": [],
   "execution_count": 13
  },
  {
   "metadata": {
    "ExecuteTime": {
     "end_time": "2024-12-04T16:40:58.936980Z",
     "start_time": "2024-12-04T16:17:50.737078Z"
    }
   },
   "cell_type": "code",
   "source": [
    "# Create vector index and link nodes based on cosine similarity\n",
    "if link_title:\n",
    "    db.create_vector_index('title_index', NodeType.PUBLICATION, 'title_emb', model_dim)\n",
    "    link_node_attr_cosine(db, NodeType.PUBLICATION, 'title_emb', EdgeType.SIM_TITLE, threshold=link_title_threshold, k=link_title_k)"
   ],
   "id": "71010a3d4cd7ff1c",
   "outputs": [
    {
     "name": "stdout",
     "output_type": "stream",
     "text": [
      "Linking Publication nodes based on title_emb attribute ...\n"
     ]
    },
    {
     "data": {
      "text/plain": [
       "Progress Publication title_emb:   0%|          | 0/8865 [00:00<?, ?it/s]"
      ],
      "application/vnd.jupyter.widget-view+json": {
       "version_major": 2,
       "version_minor": 0,
       "model_id": "f55354c30d454cf5827d238aef2da123"
      }
     },
     "metadata": {},
     "output_type": "display_data"
    },
    {
     "name": "stdout",
     "output_type": "stream",
     "text": [
      "Merging 1002 edges ...\n",
      "Merging 1003 edges ...\n",
      "Merging 1005 edges ...\n",
      "Merging 1002 edges ...\n",
      "Merging 1001 edges ...\n",
      "Merging 1004 edges ...\n",
      "Merging 1001 edges ...\n",
      "Merging 1006 edges ...\n",
      "Merging 1001 edges ...\n",
      "Merging 1002 edges ...\n",
      "Merging 1002 edges ...\n",
      "Merging 1002 edges ...\n",
      "Merging 1001 edges ...\n",
      "Merging 1002 edges ...\n",
      "Merging 1001 edges ...\n"
     ]
    }
   ],
   "execution_count": 14
  },
  {
   "metadata": {
    "ExecuteTime": {
     "end_time": "2024-12-04T16:59:43.361521Z",
     "start_time": "2024-12-04T16:40:59.031367Z"
    }
   },
   "cell_type": "code",
   "source": [
    "if link_abstract:\n",
    "    db.create_vector_index('abstract_index', NodeType.PUBLICATION, 'abstract_emb', model_dim)\n",
    "    link_node_attr_cosine(db, NodeType.PUBLICATION, 'abstract_emb', EdgeType.SIM_ABSTRACT, threshold=link_abstract_threshold, k=link_abstract_k)"
   ],
   "id": "df1d5bc0037d8e25",
   "outputs": [
    {
     "name": "stdout",
     "output_type": "stream",
     "text": [
      "Linking Publication nodes based on abstract_emb attribute ...\n"
     ]
    },
    {
     "data": {
      "text/plain": [
       "Progress Publication abstract_emb:   0%|          | 0/8865 [00:00<?, ?it/s]"
      ],
      "application/vnd.jupyter.widget-view+json": {
       "version_major": 2,
       "version_minor": 0,
       "model_id": "a3c50575db2f4d23ad46af3b2108ffc5"
      }
     },
     "metadata": {},
     "output_type": "display_data"
    },
    {
     "name": "stdout",
     "output_type": "stream",
     "text": [
      "Merging 1004 edges ...\n",
      "Merging 1001 edges ...\n",
      "Merging 1001 edges ...\n",
      "Merging 1002 edges ...\n",
      "Merging 1007 edges ...\n",
      "Merging 1002 edges ...\n",
      "Merging 1002 edges ...\n",
      "Merging 1004 edges ...\n",
      "Merging 1002 edges ...\n",
      "Merging 1006 edges ...\n",
      "Merging 1004 edges ...\n",
      "Merging 1001 edges ...\n",
      "Merging 1008 edges ...\n",
      "Merging 1001 edges ...\n",
      "Merging 1007 edges ...\n",
      "Merging 1004 edges ...\n",
      "Merging 1008 edges ...\n",
      "Merging 1003 edges ...\n",
      "Merging 1007 edges ...\n",
      "Merging 1006 edges ...\n",
      "Merging 1003 edges ...\n",
      "Merging 1002 edges ...\n",
      "Merging 1005 edges ...\n",
      "Merging 1005 edges ...\n",
      "Merging 1002 edges ...\n",
      "Merging 1007 edges ...\n",
      "Merging 1006 edges ...\n",
      "Merging 1006 edges ...\n",
      "Merging 1002 edges ...\n",
      "Merging 1001 edges ...\n",
      "Merging 1005 edges ...\n",
      "Merging 1003 edges ...\n",
      "Merging 1008 edges ...\n"
     ]
    }
   ],
   "execution_count": 15
  },
  {
   "metadata": {
    "ExecuteTime": {
     "end_time": "2024-12-04T17:16:58.240925Z",
     "start_time": "2024-12-04T16:59:43.455856Z"
    }
   },
   "cell_type": "code",
   "source": [
    "if link_venue:\n",
    "    db.create_vector_index('venue_index', NodeType.PUBLICATION, 'venue_emb', model_dim)\n",
    "    link_node_attr_cosine(db, NodeType.PUBLICATION, 'venue_emb', EdgeType.SIM_VENUE, threshold=link_venue_threshold, k=link_venue_k)"
   ],
   "id": "1574d03ce42a7fc",
   "outputs": [
    {
     "name": "stdout",
     "output_type": "stream",
     "text": [
      "Linking Publication nodes based on venue_emb attribute ...\n"
     ]
    },
    {
     "data": {
      "text/plain": [
       "Progress Publication venue_emb:   0%|          | 0/8865 [00:00<?, ?it/s]"
      ],
      "application/vnd.jupyter.widget-view+json": {
       "version_major": 2,
       "version_minor": 0,
       "model_id": "416ac369f23143189c1f353192046ae3"
      }
     },
     "metadata": {},
     "output_type": "display_data"
    },
    {
     "name": "stdout",
     "output_type": "stream",
     "text": [
      "Merging 1006 edges ...\n",
      "Merging 1005 edges ...\n",
      "Merging 1008 edges ...\n",
      "Merging 1002 edges ...\n",
      "Merging 1004 edges ...\n",
      "Merging 1001 edges ...\n",
      "Merging 1002 edges ...\n",
      "Merging 1003 edges ...\n",
      "Merging 1006 edges ...\n",
      "Merging 1007 edges ...\n",
      "Merging 1002 edges ...\n",
      "Merging 1006 edges ...\n",
      "Merging 1001 edges ...\n",
      "Merging 1007 edges ...\n",
      "Merging 1004 edges ...\n",
      "Merging 1007 edges ...\n",
      "Merging 1006 edges ...\n",
      "Merging 1007 edges ...\n",
      "Merging 1004 edges ...\n",
      "Merging 1002 edges ...\n",
      "Merging 1001 edges ...\n",
      "Merging 1002 edges ...\n",
      "Merging 1005 edges ...\n",
      "Merging 1007 edges ...\n",
      "Merging 1004 edges ...\n",
      "Merging 1003 edges ...\n",
      "Merging 1008 edges ...\n",
      "Merging 1002 edges ...\n",
      "Merging 1002 edges ...\n",
      "Merging 1007 edges ...\n",
      "Merging 1003 edges ...\n",
      "Merging 1004 edges ...\n",
      "Merging 1001 edges ...\n",
      "Merging 1005 edges ...\n",
      "Merging 1005 edges ...\n",
      "Merging 1005 edges ...\n",
      "Merging 1008 edges ...\n",
      "Merging 1002 edges ...\n",
      "Merging 1001 edges ...\n",
      "Merging 1006 edges ...\n",
      "Merging 1003 edges ...\n",
      "Merging 1005 edges ...\n",
      "Merging 1004 edges ...\n",
      "Merging 1003 edges ...\n",
      "Merging 1006 edges ...\n",
      "Merging 1001 edges ...\n",
      "Merging 1005 edges ...\n",
      "Merging 1007 edges ...\n",
      "Merging 1006 edges ...\n",
      "Merging 1007 edges ...\n",
      "Merging 1002 edges ...\n",
      "Merging 1001 edges ...\n",
      "Merging 1002 edges ...\n"
     ]
    }
   ],
   "execution_count": 16
  },
  {
   "metadata": {
    "ExecuteTime": {
     "end_time": "2024-12-04T17:32:28.775513Z",
     "start_time": "2024-12-04T17:16:58.333722Z"
    }
   },
   "cell_type": "code",
   "source": [
    "if link_org:\n",
    "    db.create_vector_index('org_index', NodeType.PUBLICATION, 'org_emb', model_dim)\n",
    "    link_node_attr_cosine(db, NodeType.PUBLICATION, 'org_emb', EdgeType.SIM_ORG, threshold=link_org_threshold, k=link_org_k)"
   ],
   "id": "7251cb4af4e03874",
   "outputs": [
    {
     "name": "stdout",
     "output_type": "stream",
     "text": [
      "Linking Publication nodes based on org_emb attribute ...\n"
     ]
    },
    {
     "data": {
      "text/plain": [
       "Progress Publication org_emb:   0%|          | 0/8865 [00:00<?, ?it/s]"
      ],
      "application/vnd.jupyter.widget-view+json": {
       "version_major": 2,
       "version_minor": 0,
       "model_id": "d2f6d36f8bfe49299b679cc202f0cebf"
      }
     },
     "metadata": {},
     "output_type": "display_data"
    },
    {
     "name": "stdout",
     "output_type": "stream",
     "text": [
      "Merging 1001 edges ...\n",
      "Merging 1005 edges ...\n",
      "Merging 1002 edges ...\n",
      "Merging 1002 edges ...\n",
      "Merging 1005 edges ...\n",
      "Merging 1007 edges ...\n",
      "Merging 1002 edges ...\n",
      "Merging 1008 edges ...\n",
      "Merging 1008 edges ...\n",
      "Merging 1001 edges ...\n",
      "Merging 1004 edges ...\n",
      "Merging 1004 edges ...\n",
      "Merging 1002 edges ...\n",
      "Merging 1005 edges ...\n",
      "Merging 1001 edges ...\n",
      "Merging 1001 edges ...\n",
      "Merging 1006 edges ...\n",
      "Merging 1005 edges ...\n",
      "Merging 1006 edges ...\n",
      "Merging 1007 edges ...\n",
      "Merging 1008 edges ...\n",
      "Merging 1001 edges ...\n",
      "Merging 1007 edges ...\n",
      "Merging 1004 edges ...\n",
      "Merging 1004 edges ...\n",
      "Merging 1005 edges ...\n",
      "Merging 1003 edges ...\n",
      "Merging 1006 edges ...\n",
      "Merging 1008 edges ...\n",
      "Merging 1001 edges ...\n",
      "Merging 1003 edges ...\n",
      "Merging 1004 edges ...\n",
      "Merging 1007 edges ...\n",
      "Merging 1008 edges ...\n",
      "Merging 1007 edges ...\n",
      "Merging 1001 edges ...\n",
      "Merging 1006 edges ...\n",
      "Merging 1007 edges ...\n",
      "Merging 1007 edges ...\n",
      "Merging 1007 edges ...\n",
      "Merging 1003 edges ...\n",
      "Merging 1002 edges ...\n",
      "Merging 1008 edges ...\n",
      "Merging 1006 edges ...\n",
      "Merging 1004 edges ...\n",
      "Merging 1006 edges ...\n",
      "Merging 1007 edges ...\n",
      "Merging 1002 edges ...\n",
      "Merging 1003 edges ...\n"
     ]
    }
   ],
   "execution_count": 17
  },
  {
   "metadata": {
    "ExecuteTime": {
     "end_time": "2024-12-04T17:32:29.083916Z",
     "start_time": "2024-12-04T17:32:28.867430Z"
    }
   },
   "cell_type": "code",
   "source": [
    "# Remove edges if according attribute is empty\n",
    "if link_title:\n",
    "    db.delete_edges_for_empty_attr(NodeType.PUBLICATION, EdgeType.SIM_TITLE, 'title')\n",
    "    \n",
    "if link_abstract:\n",
    "    db.delete_edges_for_empty_attr(NodeType.PUBLICATION, EdgeType.SIM_ABSTRACT, 'abstract')\n",
    "    \n",
    "if link_venue:\n",
    "    db.delete_edges_for_empty_attr(NodeType.PUBLICATION, EdgeType.SIM_VENUE, 'venue')"
   ],
   "id": "837c860f5efe8056",
   "outputs": [],
   "execution_count": 18
  },
  {
   "metadata": {
    "ExecuteTime": {
     "end_time": "2024-12-04T17:32:29.162337Z",
     "start_time": "2024-12-04T17:32:29.160525Z"
    }
   },
   "cell_type": "code",
   "source": "db.close()",
   "id": "f02c30d1f448354f",
   "outputs": [
    {
     "name": "stderr",
     "output_type": "stream",
     "text": [
      "2024-12-04 18:32:29,160 - DatabaseWrapper - INFO - Closing the database connection\n"
     ]
    }
   ],
   "execution_count": 19
  }
 ],
 "metadata": {
  "kernelspec": {
   "display_name": "Python 3",
   "language": "python",
   "name": "python3"
  },
  "language_info": {
   "codemirror_mode": {
    "name": "ipython",
    "version": 2
   },
   "file_extension": ".py",
   "mimetype": "text/x-python",
   "name": "python",
   "nbconvert_exporter": "python",
   "pygments_lexer": "ipython2",
   "version": "2.7.6"
  }
 },
 "nbformat": 4,
 "nbformat_minor": 5
}
