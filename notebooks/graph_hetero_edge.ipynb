{
 "cells": [
  {
   "cell_type": "code",
   "id": "initial_id",
   "metadata": {
    "collapsed": true,
    "ExecuteTime": {
     "end_time": "2024-11-13T16:19:52.633806Z",
     "start_time": "2024-11-13T16:19:50.245893Z"
    }
   },
   "source": [
    "from sentence_transformers import SentenceTransformer\n",
    "from tqdm.notebook import tqdm\n",
    "from collections import defaultdict\n",
    "import re\n",
    "\n",
    "from src.datasets.who_is_who import WhoIsWhoDataset\n",
    "from src.shared.database_wrapper import DatabaseWrapper\n",
    "from src.shared.graph_schema import NodeType, EdgeType\n",
    "from src.shared.graph_sampling import GraphSampling"
   ],
   "outputs": [
    {
     "name": "stderr",
     "output_type": "stream",
     "text": [
      "/home/vincie/.anaconda3/envs/master/lib/python3.9/site-packages/sentence_transformers/cross_encoder/CrossEncoder.py:11: TqdmExperimentalWarning: Using `tqdm.autonotebook.tqdm` in notebook mode. Use `tqdm.tqdm` instead to force console mode (e.g. in jupyter console)\n",
      "  from tqdm.autonotebook import tqdm, trange\n"
     ]
    }
   ],
   "execution_count": 1
  },
  {
   "metadata": {},
   "cell_type": "markdown",
   "source": "## Configuration",
   "id": "f934f5daf06dbc1d"
  },
  {
   "metadata": {
    "ExecuteTime": {
     "end_time": "2024-11-13T16:20:51.802913Z",
     "start_time": "2024-11-13T16:20:51.801091Z"
    }
   },
   "cell_type": "code",
   "source": [
    "max_iterations = 20000\n",
    "add_true_authors = False\n",
    "link_true_authors = True\n",
    "link_co_authors = True\n",
    "link_title = True\n",
    "link_abstract = True\n",
    "link_venue = True"
   ],
   "id": "bb1b78124474912c",
   "outputs": [],
   "execution_count": 7
  },
  {
   "metadata": {
    "ExecuteTime": {
     "end_time": "2024-11-13T16:19:55.671315Z",
     "start_time": "2024-11-13T16:19:55.668830Z"
    }
   },
   "cell_type": "code",
   "source": [
    "\n",
    "db = DatabaseWrapper(database='homogeneous-graph')\n",
    "#db.delete_all_nodes()"
   ],
   "id": "39befe6e82597c35",
   "outputs": [
    {
     "name": "stderr",
     "output_type": "stream",
     "text": [
      "2024-11-13 17:19:55,669 - DatabaseWrapper - INFO - Connecting to the database ...\n",
      "2024-11-13 17:19:55,670 - DatabaseWrapper - INFO - Database ready.\n"
     ]
    }
   ],
   "execution_count": 3
  },
  {
   "metadata": {
    "ExecuteTime": {
     "end_time": "2024-11-13T16:20:06.843501Z",
     "start_time": "2024-11-13T16:19:57.109957Z"
    }
   },
   "cell_type": "code",
   "source": [
    "data = WhoIsWhoDataset.parse_data()\n",
    "train_data = WhoIsWhoDataset.parse_train()"
   ],
   "id": "7b4f2bfe1943d12a",
   "outputs": [],
   "execution_count": 4
  },
  {
   "metadata": {
    "ExecuteTime": {
     "end_time": "2024-11-13T16:20:08.418682Z",
     "start_time": "2024-11-13T16:20:06.850278Z"
    }
   },
   "cell_type": "code",
   "source": [
    "model = SentenceTransformer(\n",
    "    'sentence-transformers/all-MiniLM-L6-v2',\n",
    "    device='cuda'\n",
    ")\n",
    "print(f\"Model dim: {model.get_sentence_embedding_dimension()}\")"
   ],
   "id": "9a313d7d87172b1c",
   "outputs": [
    {
     "name": "stderr",
     "output_type": "stream",
     "text": [
      "/home/vincie/.anaconda3/envs/master/lib/python3.9/site-packages/transformers/tokenization_utils_base.py:1601: FutureWarning: `clean_up_tokenization_spaces` was not set. It will be set to `True` by default. This behavior will be depracted in transformers v4.45, and will be then set to `False` by default. For more details check this issue: https://github.com/huggingface/transformers/issues/31884\n",
      "  warnings.warn(\n"
     ]
    },
    {
     "name": "stdout",
     "output_type": "stream",
     "text": [
      "Model dim: 384\n"
     ]
    }
   ],
   "execution_count": 5
  },
  {
   "metadata": {},
   "cell_type": "markdown",
   "source": "## Add publication nodes to the graph database",
   "id": "15768f9232b8a006"
  },
  {
   "metadata": {
    "ExecuteTime": {
     "end_time": "2024-11-08T08:37:27.667642Z",
     "start_time": "2024-11-08T08:37:27.664826Z"
    }
   },
   "cell_type": "code",
   "source": [
    "def process_batch(batch):\n",
    "    if not batch[NodeType.PUBLICATION]:\n",
    "        return\n",
    "    title_embs = model.encode(\n",
    "        [node['title'] for node in batch[NodeType.PUBLICATION]]\n",
    "    )\n",
    "    abstract_embs = model.encode(\n",
    "        [node['abstract'] for node in batch[NodeType.PUBLICATION]]\n",
    "    )\n",
    "    venue_embs = model.encode(\n",
    "        [node['venue'] for node in batch[NodeType.PUBLICATION]]\n",
    "    )\n",
    "    for i, node in enumerate(batch[NodeType.PUBLICATION]):\n",
    "        node['title_emb'] = title_embs[i]\n",
    "        node['abstract_emb'] = abstract_embs[i]\n",
    "        node['venue_emb'] = venue_embs[i]\n",
    "        # vertically stack the embeddings\n",
    "        node['feature_vec'] = list(title_embs[i]) + list(abstract_embs[i])\n",
    "    db.merge_nodes(NodeType.PUBLICATION, batch[NodeType.PUBLICATION])\n",
    "    batch[NodeType.PUBLICATION] = []"
   ],
   "id": "fb863533ee3db7cb",
   "outputs": [],
   "execution_count": 13
  },
  {
   "metadata": {
    "ExecuteTime": {
     "end_time": "2024-11-08T08:40:43.954259Z",
     "start_time": "2024-11-08T08:37:31.075253Z"
    }
   },
   "cell_type": "code",
   "source": [
    "batch_nodes = defaultdict(list)\n",
    "current_iteration = 0\n",
    "\n",
    "with tqdm(total=max_iterations) as pbar:\n",
    "    for author_id, values in train_data.items():\n",
    "        papers = values.get('normal_data', [])\n",
    "        papers.extend(values.get('outliers', []))\n",
    "        \n",
    "        if max_iterations is not None and current_iteration >= max_iterations:\n",
    "            break\n",
    "        current_iteration += len(papers)\n",
    "        \n",
    "        for paper_id in papers:\n",
    "            values = data[paper_id]\n",
    "            paper_node = {\n",
    "                'id': values['id'],\n",
    "                'title': values['title'],\n",
    "                'abstract': values['abstract'],\n",
    "                'year': values['year'],\n",
    "                'venue': values['venue'],\n",
    "            }\n",
    "            batch_nodes[NodeType.PUBLICATION].append(paper_node)\n",
    "            \n",
    "            if len(batch_nodes[NodeType.PUBLICATION]) % 1000 == 0:\n",
    "                process_batch(batch_nodes)\n",
    "                \n",
    "            pbar.update(1)\n",
    "        \n",
    "process_batch(batch_nodes)"
   ],
   "id": "29946cd86c709ff8",
   "outputs": [
    {
     "data": {
      "text/plain": [
       "  0%|          | 0/20000 [00:00<?, ?it/s]"
      ],
      "application/vnd.jupyter.widget-view+json": {
       "version_major": 2,
       "version_minor": 0,
       "model_id": "10cd39956f3345c78a7ed37c37881619"
      }
     },
     "metadata": {},
     "output_type": "display_data"
    },
    {
     "name": "stderr",
     "output_type": "stream",
     "text": [
      "/home/vincie/.anaconda3/envs/master/lib/python3.9/site-packages/neo4j/_sync/work/result.py:500: UserWarning: Expected a result with a single record, but found multiple.\n",
      "  warn(\"Expected a result with a single record, \"\n"
     ]
    }
   ],
   "execution_count": 14
  },
  {
   "metadata": {},
   "cell_type": "markdown",
   "source": "## Add true author data to the nodes",
   "id": "ebf992fa74894e99"
  },
  {
   "metadata": {
    "ExecuteTime": {
     "end_time": "2024-11-08T08:44:29.277179Z",
     "start_time": "2024-11-08T08:40:44.047866Z"
    }
   },
   "cell_type": "code",
   "source": [
    "def reverse_dict(author_dict):\n",
    "    paper_to_author = {}\n",
    "    for author_id, values in author_dict.items():\n",
    "        normal_papers = values.get('normal_data', [])\n",
    "        for paper_id in normal_papers:\n",
    "            paper_to_author[paper_id] = author_id\n",
    "    return paper_to_author\n",
    "\n",
    "def add_true_authors(db: DatabaseWrapper, train_data):\n",
    "    paper_id_to_author = reverse_dict(train_data)\n",
    "\n",
    "    with tqdm(total=db.count_nodes(NodeType.PUBLICATION), desc=\"Merging WhoIsWho train_author.json\") as pbar:\n",
    "        for nodes in db.iter_nodes(NodeType.PUBLICATION, ['id']):\n",
    "            for node in nodes:\n",
    "                true_author_id = paper_id_to_author.get(node['id'], '')\n",
    "                true_author_name = train_data.get(true_author_id, {}).get('name', '')\n",
    "                \n",
    "                db.merge_properties(\n",
    "                    type=NodeType.PUBLICATION, \n",
    "                    node_id=node['id'], \n",
    "                    properties={'true_author_id': true_author_id, 'true_author_name': true_author_name}\n",
    "                )\n",
    "                pbar.update(1)\n",
    "\n",
    "if add_true_authors:\n",
    "    add_true_authors(db, train_data)"
   ],
   "id": "9b2f2a4cbd1f8ad1",
   "outputs": [
    {
     "data": {
      "text/plain": [
       "Merging WhoIsWho train_author.json:   0%|          | 0/20034 [00:00<?, ?it/s]"
      ],
      "application/vnd.jupyter.widget-view+json": {
       "version_major": 2,
       "version_minor": 0,
       "model_id": "51582e9fafec46e6bde56aff154581e1"
      }
     },
     "metadata": {},
     "output_type": "display_data"
    }
   ],
   "execution_count": 15
  },
  {
   "metadata": {},
   "cell_type": "markdown",
   "source": "## Link publication nodes if they share the same true author",
   "id": "c55bcbf69531cd7d"
  },
  {
   "metadata": {
    "ExecuteTime": {
     "end_time": "2024-11-13T17:09:56.855382Z",
     "start_time": "2024-11-13T17:03:17.571634Z"
    }
   },
   "cell_type": "code",
   "source": [
    "import random\n",
    "\n",
    "def get_sample_size(num_papers):\n",
    "    random_k = 3 + random.random() * 0.2\n",
    "    return int(num_papers**0.5 * random_k)\n",
    "\n",
    "def link_true_authors(db: DatabaseWrapper, train_data):\n",
    "    node_type = NodeType.PUBLICATION\n",
    "    edges_to_merge = []\n",
    "    current_iteration = 0\n",
    "    \n",
    "    with tqdm(total=max_iterations, desc=\"Merging true-author edges\") as pbar:\n",
    "        for author_id, values in train_data.items():\n",
    "            papers = values.get('normal_data', [])\n",
    "            print(f\"Number of papers: {len(papers)}\")\n",
    "            \n",
    "            pbar.update(len(papers) + len(values.get('outliers', [])))\n",
    "            if max_iterations is not None and current_iteration >= max_iterations:\n",
    "                break \n",
    "            current_iteration += len(papers) + len(values.get('outliers', []))\n",
    "            \n",
    "            for i in range(len(papers)):\n",
    "                for j in range(len(papers)):\n",
    "                    if i == j:\n",
    "                        continue\n",
    "                    edges_to_merge.append([papers[i], papers[j]])\n",
    "            \n",
    "            print(f\"Number of edges to merge: {len(edges_to_merge)}\")\n",
    "            # Randomly sample 10-40% of the edges_to_merge list\n",
    "            sample_size = get_sample_size(len(edges_to_merge))\n",
    "            print(f\"Sample size: {sample_size}\")\n",
    "            edges_to_merge = random.sample(edges_to_merge, sample_size)\n",
    "            print(f\"Sampled number of edges to merge: {len(edges_to_merge)}\")\n",
    "             \n",
    "            if len(edges_to_merge) > 1000:\n",
    "                db.merge_edges(start_label=node_type, end_label=node_type, edge_type=EdgeType.SAME_AUTHOR, edges=edges_to_merge)\n",
    "                edges_to_merge.clear()\n",
    "            \n",
    "            \n",
    "            \n",
    "        \n",
    "        if edges_to_merge:\n",
    "            db.merge_edges(start_label=node_type, end_label=node_type, edge_type=EdgeType.SAME_AUTHOR, edges=edges_to_merge)\n",
    "            edges_to_merge.clear()\n",
    "            \n",
    "if link_true_authors:\n",
    "    db.delete_edges(EdgeType.SAME_AUTHOR)\n",
    "    link_true_authors(db, train_data)"
   ],
   "id": "5a54f0712c36cbe6",
   "outputs": [
    {
     "data": {
      "text/plain": [
       "Merging true-author edges:   0%|          | 0/20000 [00:00<?, ?it/s]"
      ],
      "application/vnd.jupyter.widget-view+json": {
       "version_major": 2,
       "version_minor": 0,
       "model_id": "928acccc1193439c9de4e4bd8ca7d1af"
      }
     },
     "metadata": {},
     "output_type": "display_data"
    },
    {
     "name": "stdout",
     "output_type": "stream",
     "text": [
      "Number of papers: 550\n",
      "Number of edges to merge: 301950\n",
      "Sample size: 1732\n",
      "Sampled number of edges to merge: 1732\n",
      "Number of papers: 34\n",
      "Number of edges to merge: 1122\n",
      "Sample size: 103\n",
      "Sampled number of edges to merge: 103\n",
      "Number of papers: 41\n",
      "Number of edges to merge: 1743\n",
      "Sample size: 130\n",
      "Sampled number of edges to merge: 130\n",
      "Number of papers: 14\n",
      "Number of edges to merge: 312\n",
      "Sample size: 53\n",
      "Sampled number of edges to merge: 53\n",
      "Number of papers: 23\n",
      "Number of edges to merge: 559\n",
      "Sample size: 75\n",
      "Sampled number of edges to merge: 75\n",
      "Number of papers: 6\n",
      "Number of edges to merge: 105\n",
      "Sample size: 32\n",
      "Sampled number of edges to merge: 32\n",
      "Number of papers: 143\n",
      "Number of edges to merge: 20338\n",
      "Sample size: 428\n",
      "Sampled number of edges to merge: 428\n",
      "Number of papers: 137\n",
      "Number of edges to merge: 19060\n",
      "Sample size: 439\n",
      "Sampled number of edges to merge: 439\n",
      "Number of papers: 10\n",
      "Number of edges to merge: 529\n",
      "Sample size: 73\n",
      "Sampled number of edges to merge: 73\n",
      "Number of papers: 150\n",
      "Number of edges to merge: 22423\n",
      "Sample size: 459\n",
      "Sampled number of edges to merge: 459\n",
      "Number of papers: 422\n",
      "Number of edges to merge: 178121\n",
      "Sample size: 1332\n",
      "Sampled number of edges to merge: 1332\n",
      "Number of papers: 261\n",
      "Number of edges to merge: 67860\n",
      "Sample size: 795\n",
      "Sampled number of edges to merge: 795\n",
      "Number of papers: 78\n",
      "Number of edges to merge: 6801\n",
      "Sample size: 261\n",
      "Sampled number of edges to merge: 261\n",
      "Number of papers: 54\n",
      "Number of edges to merge: 3123\n",
      "Sample size: 169\n",
      "Sampled number of edges to merge: 169\n",
      "Number of papers: 398\n",
      "Number of edges to merge: 158175\n",
      "Sample size: 1229\n",
      "Sampled number of edges to merge: 1229\n",
      "Number of papers: 86\n",
      "Number of edges to merge: 7310\n",
      "Sample size: 258\n",
      "Sampled number of edges to merge: 258\n",
      "Number of papers: 404\n",
      "Number of edges to merge: 163070\n",
      "Sample size: 1217\n",
      "Sampled number of edges to merge: 1217\n",
      "Number of papers: 18\n",
      "Number of edges to merge: 306\n",
      "Sample size: 53\n",
      "Sampled number of edges to merge: 53\n",
      "Number of papers: 56\n",
      "Number of edges to merge: 3133\n",
      "Sample size: 177\n",
      "Sampled number of edges to merge: 177\n",
      "Number of papers: 227\n",
      "Number of edges to merge: 51479\n",
      "Sample size: 689\n",
      "Sampled number of edges to merge: 689\n",
      "Number of papers: 67\n",
      "Number of edges to merge: 5111\n",
      "Sample size: 220\n",
      "Sampled number of edges to merge: 220\n",
      "Number of papers: 352\n",
      "Number of edges to merge: 123772\n",
      "Sample size: 1085\n",
      "Sampled number of edges to merge: 1085\n",
      "Number of papers: 166\n",
      "Number of edges to merge: 27390\n",
      "Sample size: 526\n",
      "Sampled number of edges to merge: 526\n",
      "Number of papers: 32\n",
      "Number of edges to merge: 1518\n",
      "Sample size: 118\n",
      "Sampled number of edges to merge: 118\n",
      "Number of papers: 15\n",
      "Number of edges to merge: 328\n",
      "Sample size: 54\n",
      "Sampled number of edges to merge: 54\n",
      "Number of papers: 110\n",
      "Number of edges to merge: 12044\n",
      "Sample size: 330\n",
      "Sampled number of edges to merge: 330\n",
      "Number of papers: 903\n",
      "Number of edges to merge: 814836\n",
      "Sample size: 2822\n",
      "Sampled number of edges to merge: 2822\n",
      "Number of papers: 70\n",
      "Number of edges to merge: 4830\n",
      "Sample size: 210\n",
      "Sampled number of edges to merge: 210\n",
      "Number of papers: 211\n",
      "Number of edges to merge: 44520\n",
      "Sample size: 662\n",
      "Sampled number of edges to merge: 662\n",
      "Number of papers: 144\n",
      "Number of edges to merge: 21254\n",
      "Sample size: 447\n",
      "Sampled number of edges to merge: 447\n",
      "Number of papers: 60\n",
      "Number of edges to merge: 3987\n",
      "Sample size: 198\n",
      "Sampled number of edges to merge: 198\n",
      "Number of papers: 7\n",
      "Number of edges to merge: 240\n",
      "Sample size: 47\n",
      "Sampled number of edges to merge: 47\n",
      "Number of papers: 91\n",
      "Number of edges to merge: 8237\n",
      "Sample size: 289\n",
      "Sampled number of edges to merge: 289\n",
      "Number of papers: 285\n",
      "Number of edges to merge: 81229\n",
      "Sample size: 855\n",
      "Sampled number of edges to merge: 855\n",
      "Number of papers: 92\n",
      "Number of edges to merge: 9227\n",
      "Sample size: 297\n",
      "Sampled number of edges to merge: 297\n",
      "Number of papers: 381\n",
      "Number of edges to merge: 145077\n",
      "Sample size: 1162\n",
      "Sampled number of edges to merge: 1162\n",
      "Number of papers: 363\n",
      "Number of edges to merge: 131406\n",
      "Sample size: 1157\n",
      "Sampled number of edges to merge: 1157\n",
      "Number of papers: 95\n",
      "Number of edges to merge: 8930\n",
      "Sample size: 292\n",
      "Sampled number of edges to merge: 292\n",
      "Number of papers: 79\n",
      "Number of edges to merge: 6454\n",
      "Sample size: 250\n",
      "Sampled number of edges to merge: 250\n",
      "Number of papers: 18\n",
      "Number of edges to merge: 556\n",
      "Sample size: 74\n",
      "Sampled number of edges to merge: 74\n",
      "Number of papers: 43\n",
      "Number of edges to merge: 1880\n",
      "Sample size: 133\n",
      "Sampled number of edges to merge: 133\n",
      "Number of papers: 302\n",
      "Number of edges to merge: 91035\n",
      "Sample size: 911\n",
      "Sampled number of edges to merge: 911\n",
      "Number of papers: 59\n",
      "Number of edges to merge: 4333\n",
      "Sample size: 206\n",
      "Sampled number of edges to merge: 206\n",
      "Number of papers: 125\n",
      "Number of edges to merge: 15706\n",
      "Sample size: 380\n",
      "Sampled number of edges to merge: 380\n",
      "Number of papers: 145\n",
      "Number of edges to merge: 21260\n",
      "Sample size: 437\n",
      "Sampled number of edges to merge: 437\n",
      "Number of papers: 101\n",
      "Number of edges to merge: 10537\n",
      "Sample size: 319\n",
      "Sampled number of edges to merge: 319\n",
      "Number of papers: 295\n",
      "Number of edges to merge: 87049\n",
      "Sample size: 933\n",
      "Sampled number of edges to merge: 933\n",
      "Number of papers: 87\n",
      "Number of edges to merge: 8415\n",
      "Sample size: 291\n",
      "Sampled number of edges to merge: 291\n",
      "Number of papers: 131\n",
      "Number of edges to merge: 17321\n",
      "Sample size: 401\n",
      "Sampled number of edges to merge: 401\n",
      "Number of papers: 44\n",
      "Number of edges to merge: 2293\n",
      "Sample size: 145\n",
      "Sampled number of edges to merge: 145\n",
      "Number of papers: 15\n",
      "Number of edges to merge: 355\n",
      "Sample size: 58\n",
      "Sampled number of edges to merge: 58\n",
      "Number of papers: 187\n",
      "Number of edges to merge: 34840\n",
      "Sample size: 587\n",
      "Sampled number of edges to merge: 587\n",
      "Number of papers: 1673\n",
      "Number of edges to merge: 2797843\n",
      "Sample size: 5188\n",
      "Sampled number of edges to merge: 5188\n",
      "Number of papers: 624\n",
      "Number of edges to merge: 388752\n",
      "Sample size: 1907\n",
      "Sampled number of edges to merge: 1907\n",
      "Number of papers: 312\n",
      "Number of edges to merge: 97032\n",
      "Sample size: 952\n",
      "Sampled number of edges to merge: 952\n",
      "Number of papers: 368\n",
      "Number of edges to merge: 136008\n",
      "Sample size: 1122\n",
      "Sampled number of edges to merge: 1122\n",
      "Number of papers: 528\n",
      "Number of edges to merge: 278256\n",
      "Sample size: 1671\n",
      "Sampled number of edges to merge: 1671\n",
      "Number of papers: 14\n",
      "Number of edges to merge: 182\n",
      "Sample size: 41\n",
      "Sampled number of edges to merge: 41\n",
      "Number of papers: 19\n",
      "Number of edges to merge: 383\n",
      "Sample size: 61\n",
      "Sampled number of edges to merge: 61\n",
      "Number of papers: 29\n",
      "Number of edges to merge: 873\n",
      "Sample size: 91\n",
      "Sampled number of edges to merge: 91\n",
      "Number of papers: 7\n",
      "Number of edges to merge: 133\n",
      "Sample size: 35\n",
      "Sampled number of edges to merge: 35\n",
      "Number of papers: 61\n",
      "Number of edges to merge: 3695\n",
      "Sample size: 190\n",
      "Sampled number of edges to merge: 190\n",
      "Number of papers: 21\n",
      "Number of edges to merge: 610\n",
      "Sample size: 76\n",
      "Sampled number of edges to merge: 76\n",
      "Number of papers: 37\n",
      "Number of edges to merge: 1408\n",
      "Sample size: 119\n",
      "Sampled number of edges to merge: 119\n",
      "Number of papers: 111\n",
      "Number of edges to merge: 12329\n",
      "Sample size: 339\n",
      "Sampled number of edges to merge: 339\n",
      "Number of papers: 450\n",
      "Number of edges to merge: 202389\n",
      "Sample size: 1428\n",
      "Sampled number of edges to merge: 1428\n",
      "Number of papers: 10\n",
      "Number of edges to merge: 90\n",
      "Sample size: 28\n",
      "Sampled number of edges to merge: 28\n",
      "Number of papers: 283\n",
      "Number of edges to merge: 79834\n",
      "Sample size: 883\n",
      "Sampled number of edges to merge: 883\n",
      "Number of papers: 26\n",
      "Number of edges to merge: 1533\n",
      "Sample size: 119\n",
      "Sampled number of edges to merge: 119\n",
      "Number of papers: 27\n",
      "Number of edges to merge: 821\n",
      "Sample size: 86\n",
      "Sampled number of edges to merge: 86\n",
      "Number of papers: 324\n",
      "Number of edges to merge: 104738\n",
      "Sample size: 994\n",
      "Sampled number of edges to merge: 994\n",
      "Number of papers: 331\n",
      "Number of edges to merge: 110224\n",
      "Sample size: 1033\n",
      "Sampled number of edges to merge: 1033\n",
      "Number of papers: 430\n",
      "Number of edges to merge: 184470\n",
      "Sample size: 1354\n",
      "Sampled number of edges to merge: 1354\n",
      "Number of papers: 12\n",
      "Number of edges to merge: 132\n",
      "Sample size: 36\n",
      "Sampled number of edges to merge: 36\n",
      "Number of papers: 34\n",
      "Number of edges to merge: 1158\n",
      "Sample size: 107\n",
      "Sampled number of edges to merge: 107\n",
      "Number of papers: 66\n",
      "Number of edges to merge: 4397\n",
      "Sample size: 203\n",
      "Sampled number of edges to merge: 203\n",
      "Number of papers: 113\n",
      "Number of edges to merge: 12859\n",
      "Sample size: 341\n",
      "Sampled number of edges to merge: 341\n",
      "Number of papers: 610\n",
      "Number of edges to merge: 371831\n",
      "Sample size: 1848\n",
      "Sampled number of edges to merge: 1848\n",
      "Number of papers: 76\n",
      "Number of edges to merge: 5700\n",
      "Sample size: 239\n",
      "Sampled number of edges to merge: 239\n",
      "Number of papers: 69\n",
      "Number of edges to merge: 4931\n",
      "Sample size: 218\n",
      "Sampled number of edges to merge: 218\n",
      "Number of papers: 35\n",
      "Number of edges to merge: 1408\n",
      "Sample size: 118\n",
      "Sampled number of edges to merge: 118\n",
      "Number of papers: 119\n",
      "Number of edges to merge: 14160\n",
      "Sample size: 375\n",
      "Sampled number of edges to merge: 375\n",
      "Number of papers: 38\n",
      "Number of edges to merge: 1781\n",
      "Sample size: 129\n",
      "Sampled number of edges to merge: 129\n",
      "Number of papers: 129\n",
      "Number of edges to merge: 16641\n",
      "Sample size: 398\n",
      "Sampled number of edges to merge: 398\n",
      "Number of papers: 6\n",
      "Number of edges to merge: 428\n",
      "Sample size: 63\n",
      "Sampled number of edges to merge: 63\n",
      "Number of papers: 66\n",
      "Number of edges to merge: 4353\n",
      "Sample size: 200\n",
      "Sampled number of edges to merge: 200\n",
      "Number of papers: 158\n",
      "Number of edges to merge: 25006\n",
      "Sample size: 487\n",
      "Sampled number of edges to merge: 487\n",
      "Number of papers: 157\n",
      "Number of edges to merge: 24979\n",
      "Sample size: 477\n",
      "Sampled number of edges to merge: 477\n",
      "Number of papers: 115\n",
      "Number of edges to merge: 13587\n",
      "Sample size: 349\n",
      "Sampled number of edges to merge: 349\n",
      "Number of papers: 55\n",
      "Number of edges to merge: 3319\n",
      "Sample size: 178\n",
      "Sampled number of edges to merge: 178\n",
      "Number of papers: 30\n",
      "Number of edges to merge: 1048\n",
      "Sample size: 100\n",
      "Sampled number of edges to merge: 100\n",
      "Number of papers: 201\n",
      "Number of edges to merge: 40300\n",
      "Sample size: 624\n",
      "Sampled number of edges to merge: 624\n",
      "Number of papers: 11\n",
      "Number of edges to merge: 734\n",
      "Sample size: 83\n",
      "Sampled number of edges to merge: 83\n",
      "Number of papers: 64\n",
      "Number of edges to merge: 4115\n",
      "Sample size: 202\n",
      "Sampled number of edges to merge: 202\n",
      "Number of papers: 22\n",
      "Number of edges to merge: 664\n",
      "Sample size: 78\n",
      "Sampled number of edges to merge: 78\n",
      "Number of papers: 19\n",
      "Number of edges to merge: 420\n",
      "Sample size: 62\n",
      "Sampled number of edges to merge: 62\n",
      "Number of papers: 8\n",
      "Number of edges to merge: 118\n",
      "Sample size: 32\n",
      "Sampled number of edges to merge: 32\n",
      "Number of papers: 8\n",
      "Number of edges to merge: 88\n",
      "Sample size: 28\n",
      "Sampled number of edges to merge: 28\n",
      "Number of papers: 180\n",
      "Number of edges to merge: 32248\n",
      "Sample size: 541\n",
      "Sampled number of edges to merge: 541\n",
      "Number of papers: 1053\n",
      "Number of edges to merge: 1108297\n",
      "Sample size: 3242\n",
      "Sampled number of edges to merge: 3242\n",
      "Number of papers: 20\n",
      "Number of edges to merge: 380\n",
      "Sample size: 60\n",
      "Sampled number of edges to merge: 60\n",
      "Number of papers: 181\n",
      "Number of edges to merge: 32640\n",
      "Sample size: 554\n",
      "Sampled number of edges to merge: 554\n",
      "Number of papers: 377\n",
      "Number of edges to merge: 142306\n",
      "Sample size: 1157\n",
      "Sampled number of edges to merge: 1157\n",
      "Number of papers: 36\n"
     ]
    }
   ],
   "execution_count": 18
  },
  {
   "metadata": {},
   "cell_type": "markdown",
   "source": "## Link nodes based on co-author relationships",
   "id": "f289de4073e4964f"
  },
  {
   "metadata": {
    "ExecuteTime": {
     "end_time": "2024-11-08T08:44:29.451301Z",
     "start_time": "2024-11-08T08:44:29.446396Z"
    }
   },
   "cell_type": "code",
   "source": [
    "def link_co_author_network(db: DatabaseWrapper, node_type: NodeType):\n",
    "    num_nodes = db.count_nodes(node_type)\n",
    "    attrs = ['id']\n",
    "    co_author_map = defaultdict(list)\n",
    "    co_author_overlap = defaultdict(int)\n",
    "        \n",
    "    print(f\"Linking {node_type.value} nodes based on co-authorship ...\")\n",
    "    with tqdm(total=num_nodes, desc=f\"Progress {node_type.value} co-authorship\") as pbar:\n",
    "        for nodes in db.iter_nodes(node_type, attrs):\n",
    "            for node in nodes:\n",
    "                co_authors = [author[\"name\"] for author in data[node['id']]['authors']]\n",
    "                for author in co_authors:\n",
    "                    name = author.strip()\n",
    "                    name = re.sub(r'[^A-Za-z\\s]', '', name)\n",
    "                    name_parts = name.split()\n",
    "                    if len(name_parts) == 0:\n",
    "                        continue\n",
    "                    \n",
    "                    surname = name_parts[-1]\n",
    "                    given_name_initial = (name_parts[0] if len(name_parts) > 1 else ' ')[0]\n",
    "                    abbrev = f\"{surname} {given_name_initial}\"\n",
    "                    co_author_map[abbrev].append(node['id'])\n",
    "                pbar.update(1)\n",
    "    \n",
    "    for k, v in co_author_map.items():\n",
    "        for i in range(len(v)):\n",
    "            for j in range(i + 1, len(v)):\n",
    "                co_author_overlap[(v[i], v[j])] += 1\n",
    "                \n",
    "    for k, v in co_author_overlap.items():\n",
    "        total_num_authors = data[k[0]][\"authors\"] + data[k[1]][\"authors\"]\n",
    "        co_author_overlap[k] = v / len(total_num_authors)\n",
    "    \n",
    "    print(f\"Max. co-authors: {max(len(v) for v in co_author_map.values())}\")\n",
    "    print(f\"Max. co-author overlap: {max(co_author_overlap.values())}\")\n",
    "    \n",
    "    print(\"Number of co-author pairs:\", len(co_author_overlap))\n",
    "    print(\"Number of co-author pairs with overlap > 0.25:\", len([v for v in co_author_overlap.values() if v > 0.25]))\n",
    "    \n",
    "    print(\"Merging edges ...\")\n",
    "    edges_to_merge = [[k[0], k[1], {'sim': v}] for k, v in co_author_overlap.items() if v > 0.25]\n",
    "    with tqdm(total=len(edges_to_merge), desc=\"Merging co-author edges\") as pbar:\n",
    "        for i in range(0, len(edges_to_merge), 1000):\n",
    "            db.merge_edges_with_properties(start_label=node_type, end_label=node_type, edge_type=EdgeType.SIM_AUTHOR, edges=edges_to_merge[i:i+1000])\n",
    "            pbar.update(1000)"
   ],
   "id": "a7757bd1c39b85df",
   "outputs": [],
   "execution_count": 17
  },
  {
   "metadata": {
    "ExecuteTime": {
     "end_time": "2024-11-08T09:08:35.264526Z",
     "start_time": "2024-11-08T08:44:29.534723Z"
    }
   },
   "cell_type": "code",
   "source": [
    "if link_co_authors:\n",
    "    link_co_author_network(db, NodeType.PUBLICATION)"
   ],
   "id": "e663cedfc1fbdc51",
   "outputs": [
    {
     "name": "stdout",
     "output_type": "stream",
     "text": [
      "Linking Publication nodes based on co-authorship ...\n"
     ]
    },
    {
     "data": {
      "text/plain": [
       "Progress Publication co-authorship:   0%|          | 0/20034 [00:00<?, ?it/s]"
      ],
      "application/vnd.jupyter.widget-view+json": {
       "version_major": 2,
       "version_minor": 0,
       "model_id": "88858be3e3c44e6797a27e07dbd63924"
      }
     },
     "metadata": {},
     "output_type": "display_data"
    },
    {
     "name": "stdout",
     "output_type": "stream",
     "text": [
      "Max. co-authors: 1796\n",
      "Max. co-author overlap: 1.2181571815718157\n",
      "Number of co-author pairs: 6293688\n",
      "Number of co-author pairs with overlap > 0.25: 131667\n",
      "Merging edges ...\n"
     ]
    },
    {
     "data": {
      "text/plain": [
       "Merging co-author edges:   0%|          | 0/131667 [00:00<?, ?it/s]"
      ],
      "application/vnd.jupyter.widget-view+json": {
       "version_major": 2,
       "version_minor": 0,
       "model_id": "d7bdfab6fa8f44f4b4fc2acd6ecd0630"
      }
     },
     "metadata": {},
     "output_type": "display_data"
    }
   ],
   "execution_count": 18
  },
  {
   "metadata": {},
   "cell_type": "markdown",
   "source": "## Link nodes based on cosine similarity of their embeddings",
   "id": "4a98eaadf5534888"
  },
  {
   "metadata": {
    "ExecuteTime": {
     "end_time": "2024-11-08T09:08:35.357608Z",
     "start_time": "2024-11-08T09:08:35.354251Z"
    }
   },
   "cell_type": "code",
   "source": [
    "def link_node_attr_cosine(db: DatabaseWrapper, node_type: NodeType, vec_attr: str, edge_type: EdgeType, threshold: float = 0.7, filter_empty_original_attr: str = None):\n",
    "    num_nodes = db.count_nodes(node_type)\n",
    "    edges = []\n",
    "    attrs = ['id', vec_attr]\n",
    "    if filter_empty_original_attr:\n",
    "        attrs.append(filter_empty_original_attr)\n",
    "        \n",
    "    print(f\"Linking {node_type.value} nodes based on {vec_attr} attribute ...\")\n",
    "    with tqdm(total=num_nodes, desc=f\"Progress {node_type.value} {vec_attr}\") as pbar:\n",
    "        for nodes in db.iter_nodes(node_type, attrs):\n",
    "            for node in nodes:\n",
    "                if filter_empty_original_attr and not node[filter_empty_original_attr]:\n",
    "                    pbar.update(1)\n",
    "                    print(f\"Skipping node {node['id']} because {filter_empty_original_attr} is empty\")\n",
    "                    continue\n",
    "                k = 8\n",
    "                similar_nodes = db.get_similar_nodes_vec(\n",
    "                    node_type,\n",
    "                    vec_attr,\n",
    "                    node[vec_attr],\n",
    "                    threshold,\n",
    "                    k\n",
    "                )\n",
    "                for ix, row in similar_nodes.iterrows():\n",
    "                    if row['id'] == node['id']:\n",
    "                        continue\n",
    "                    edges.append([node['id'], row['id']])\n",
    "                    #db.merge_edge(node_type, node['id'], node_type, row['id'], edge_type, {\"sim\": row['sim']})\n",
    "                if len(edges) > 1000:\n",
    "                    print(f\"Merging {len(edges)} edges ...\")\n",
    "                    db.merge_edges(start_label=node_type, end_label=node_type, edge_type=edge_type, edges=edges)\n",
    "                    edges.clear()\n",
    "                    \n",
    "                pbar.update(1)\n",
    "    if edges:\n",
    "        db.merge_edges(start_label=node_type, end_label=node_type, edge_type=edge_type, edges=edges)"
   ],
   "id": "df5874196d002a6",
   "outputs": [],
   "execution_count": 19
  },
  {
   "metadata": {
    "ExecuteTime": {
     "end_time": "2024-11-08T13:40:42.399194Z",
     "start_time": "2024-11-08T09:08:35.445560Z"
    }
   },
   "cell_type": "code",
   "source": [
    "model_dim = model.get_sentence_embedding_dimension()\n",
    "\n",
    "# Create vector index and link nodes based on cosine similarity\n",
    "if link_title:\n",
    "    db.create_vector_index('title_index', NodeType.PUBLICATION, 'title_emb', model_dim)\n",
    "    link_node_attr_cosine(db, NodeType.PUBLICATION, 'title_emb', EdgeType.SIM_TITLE)\n",
    "    \n",
    "if link_abstract:\n",
    "    db.create_vector_index('abstract_index', NodeType.PUBLICATION, 'abstract_emb', model_dim)\n",
    "    link_node_attr_cosine(db, NodeType.PUBLICATION, 'abstract_emb', EdgeType.SIM_ABSTRACT)\n",
    "    \n",
    "if link_venue:\n",
    "    db.create_vector_index('venue_index', NodeType.PUBLICATION, 'venue_emb', model_dim)\n",
    "    link_node_attr_cosine(db, NodeType.PUBLICATION, 'venue_emb', EdgeType.SIM_VENUE, threshold=0.9)"
   ],
   "id": "71010a3d4cd7ff1c",
   "outputs": [
    {
     "name": "stdout",
     "output_type": "stream",
     "text": [
      "Linking Publication nodes based on title_emb attribute ...\n"
     ]
    },
    {
     "data": {
      "text/plain": [
       "Progress Publication title_emb:   0%|          | 0/20034 [00:00<?, ?it/s]"
      ],
      "application/vnd.jupyter.widget-view+json": {
       "version_major": 2,
       "version_minor": 0,
       "model_id": "e45598e509294ae2bb31c5faaccaae82"
      }
     },
     "metadata": {},
     "output_type": "display_data"
    },
    {
     "name": "stdout",
     "output_type": "stream",
     "text": [
      "Merging 1002 edges ...\n",
      "Merging 1001 edges ...\n",
      "Merging 1001 edges ...\n",
      "Merging 1001 edges ...\n",
      "Merging 1006 edges ...\n",
      "Merging 1002 edges ...\n",
      "Merging 1003 edges ...\n",
      "Merging 1003 edges ...\n",
      "Merging 1007 edges ...\n",
      "Merging 1008 edges ...\n",
      "Merging 1002 edges ...\n",
      "Merging 1004 edges ...\n",
      "Merging 1004 edges ...\n",
      "Merging 1001 edges ...\n",
      "Merging 1006 edges ...\n",
      "Merging 1001 edges ...\n",
      "Merging 1001 edges ...\n",
      "Merging 1005 edges ...\n",
      "Merging 1001 edges ...\n",
      "Merging 1002 edges ...\n",
      "Merging 1002 edges ...\n",
      "Merging 1003 edges ...\n",
      "Merging 1002 edges ...\n",
      "Merging 1006 edges ...\n",
      "Merging 1003 edges ...\n",
      "Merging 1001 edges ...\n",
      "Merging 1001 edges ...\n",
      "Merging 1003 edges ...\n",
      "Merging 1001 edges ...\n",
      "Merging 1006 edges ...\n",
      "Merging 1008 edges ...\n",
      "Merging 1001 edges ...\n",
      "Merging 1002 edges ...\n",
      "Merging 1003 edges ...\n",
      "Merging 1002 edges ...\n",
      "Merging 1001 edges ...\n",
      "Merging 1001 edges ...\n",
      "Merging 1002 edges ...\n",
      "Linking Publication nodes based on abstract_emb attribute ...\n"
     ]
    },
    {
     "data": {
      "text/plain": [
       "Progress Publication abstract_emb:   0%|          | 0/20034 [00:00<?, ?it/s]"
      ],
      "application/vnd.jupyter.widget-view+json": {
       "version_major": 2,
       "version_minor": 0,
       "model_id": "d56715f39dff4fbbb76a911a2fb8a6f4"
      }
     },
     "metadata": {},
     "output_type": "display_data"
    },
    {
     "name": "stdout",
     "output_type": "stream",
     "text": [
      "Merging 1005 edges ...\n",
      "Merging 1003 edges ...\n",
      "Merging 1004 edges ...\n",
      "Merging 1007 edges ...\n",
      "Merging 1002 edges ...\n",
      "Merging 1001 edges ...\n",
      "Merging 1004 edges ...\n",
      "Merging 1007 edges ...\n",
      "Merging 1001 edges ...\n",
      "Merging 1005 edges ...\n",
      "Merging 1007 edges ...\n",
      "Merging 1005 edges ...\n",
      "Merging 1001 edges ...\n",
      "Merging 1005 edges ...\n",
      "Merging 1002 edges ...\n",
      "Merging 1004 edges ...\n",
      "Merging 1002 edges ...\n",
      "Merging 1002 edges ...\n",
      "Merging 1002 edges ...\n",
      "Merging 1004 edges ...\n",
      "Merging 1008 edges ...\n",
      "Merging 1001 edges ...\n",
      "Merging 1004 edges ...\n",
      "Merging 1007 edges ...\n",
      "Merging 1001 edges ...\n",
      "Merging 1008 edges ...\n",
      "Merging 1003 edges ...\n",
      "Merging 1002 edges ...\n",
      "Merging 1002 edges ...\n",
      "Merging 1006 edges ...\n",
      "Merging 1005 edges ...\n",
      "Merging 1001 edges ...\n",
      "Merging 1005 edges ...\n",
      "Merging 1004 edges ...\n",
      "Merging 1007 edges ...\n",
      "Merging 1004 edges ...\n",
      "Merging 1001 edges ...\n",
      "Merging 1001 edges ...\n",
      "Merging 1004 edges ...\n",
      "Merging 1004 edges ...\n",
      "Merging 1002 edges ...\n",
      "Merging 1003 edges ...\n",
      "Merging 1008 edges ...\n",
      "Merging 1004 edges ...\n",
      "Merging 1006 edges ...\n",
      "Merging 1005 edges ...\n",
      "Merging 1004 edges ...\n",
      "Merging 1004 edges ...\n",
      "Merging 1006 edges ...\n",
      "Merging 1007 edges ...\n",
      "Merging 1001 edges ...\n",
      "Merging 1006 edges ...\n",
      "Merging 1002 edges ...\n",
      "Merging 1007 edges ...\n",
      "Merging 1002 edges ...\n",
      "Merging 1007 edges ...\n",
      "Merging 1006 edges ...\n",
      "Merging 1001 edges ...\n",
      "Merging 1005 edges ...\n",
      "Merging 1004 edges ...\n",
      "Merging 1008 edges ...\n",
      "Merging 1007 edges ...\n",
      "Merging 1007 edges ...\n",
      "Merging 1001 edges ...\n",
      "Merging 1006 edges ...\n",
      "Merging 1006 edges ...\n",
      "Merging 1001 edges ...\n",
      "Merging 1007 edges ...\n",
      "Merging 1007 edges ...\n",
      "Merging 1004 edges ...\n",
      "Merging 1006 edges ...\n",
      "Merging 1001 edges ...\n",
      "Merging 1007 edges ...\n",
      "Linking Publication nodes based on venue_emb attribute ...\n"
     ]
    },
    {
     "data": {
      "text/plain": [
       "Progress Publication venue_emb:   0%|          | 0/20034 [00:00<?, ?it/s]"
      ],
      "application/vnd.jupyter.widget-view+json": {
       "version_major": 2,
       "version_minor": 0,
       "model_id": "b00ee59abdfa4eed829d33fddbbbfa45"
      }
     },
     "metadata": {},
     "output_type": "display_data"
    },
    {
     "name": "stdout",
     "output_type": "stream",
     "text": [
      "Merging 1007 edges ...\n",
      "Merging 1002 edges ...\n",
      "Merging 1003 edges ...\n",
      "Merging 1002 edges ...\n",
      "Merging 1007 edges ...\n",
      "Merging 1003 edges ...\n",
      "Merging 1001 edges ...\n",
      "Merging 1002 edges ...\n",
      "Merging 1001 edges ...\n",
      "Merging 1005 edges ...\n",
      "Merging 1004 edges ...\n",
      "Merging 1005 edges ...\n",
      "Merging 1001 edges ...\n",
      "Merging 1002 edges ...\n",
      "Merging 1001 edges ...\n",
      "Merging 1002 edges ...\n",
      "Merging 1006 edges ...\n",
      "Merging 1004 edges ...\n",
      "Merging 1003 edges ...\n",
      "Merging 1007 edges ...\n",
      "Merging 1003 edges ...\n",
      "Merging 1007 edges ...\n",
      "Merging 1003 edges ...\n",
      "Merging 1001 edges ...\n",
      "Merging 1005 edges ...\n",
      "Merging 1003 edges ...\n",
      "Merging 1004 edges ...\n",
      "Merging 1006 edges ...\n",
      "Merging 1008 edges ...\n",
      "Merging 1002 edges ...\n",
      "Merging 1003 edges ...\n",
      "Merging 1007 edges ...\n",
      "Merging 1006 edges ...\n",
      "Merging 1005 edges ...\n",
      "Merging 1003 edges ...\n",
      "Merging 1006 edges ...\n",
      "Merging 1004 edges ...\n",
      "Merging 1005 edges ...\n",
      "Merging 1001 edges ...\n",
      "Merging 1005 edges ...\n",
      "Merging 1007 edges ...\n",
      "Merging 1005 edges ...\n",
      "Merging 1005 edges ...\n",
      "Merging 1004 edges ...\n",
      "Merging 1005 edges ...\n",
      "Merging 1002 edges ...\n",
      "Merging 1001 edges ...\n",
      "Merging 1002 edges ...\n",
      "Merging 1003 edges ...\n",
      "Merging 1001 edges ...\n",
      "Merging 1002 edges ...\n",
      "Merging 1008 edges ...\n",
      "Merging 1007 edges ...\n",
      "Merging 1008 edges ...\n",
      "Merging 1005 edges ...\n",
      "Merging 1002 edges ...\n",
      "Merging 1006 edges ...\n",
      "Merging 1004 edges ...\n",
      "Merging 1004 edges ...\n",
      "Merging 1002 edges ...\n",
      "Merging 1001 edges ...\n",
      "Merging 1007 edges ...\n",
      "Merging 1001 edges ...\n",
      "Merging 1008 edges ...\n",
      "Merging 1003 edges ...\n",
      "Merging 1001 edges ...\n",
      "Merging 1002 edges ...\n",
      "Merging 1001 edges ...\n",
      "Merging 1002 edges ...\n",
      "Merging 1004 edges ...\n",
      "Merging 1007 edges ...\n",
      "Merging 1001 edges ...\n",
      "Merging 1003 edges ...\n",
      "Merging 1004 edges ...\n",
      "Merging 1005 edges ...\n",
      "Merging 1002 edges ...\n",
      "Merging 1003 edges ...\n",
      "Merging 1003 edges ...\n",
      "Merging 1008 edges ...\n",
      "Merging 1005 edges ...\n",
      "Merging 1005 edges ...\n",
      "Merging 1008 edges ...\n",
      "Merging 1003 edges ...\n",
      "Merging 1002 edges ...\n",
      "Merging 1006 edges ...\n",
      "Merging 1005 edges ...\n",
      "Merging 1001 edges ...\n",
      "Merging 1004 edges ...\n",
      "Merging 1001 edges ...\n",
      "Merging 1006 edges ...\n",
      "Merging 1002 edges ...\n",
      "Merging 1004 edges ...\n",
      "Merging 1004 edges ...\n",
      "Merging 1007 edges ...\n",
      "Merging 1001 edges ...\n",
      "Merging 1003 edges ...\n",
      "Merging 1005 edges ...\n",
      "Merging 1004 edges ...\n",
      "Merging 1003 edges ...\n",
      "Merging 1005 edges ...\n",
      "Merging 1002 edges ...\n",
      "Merging 1008 edges ...\n",
      "Merging 1002 edges ...\n",
      "Merging 1005 edges ...\n",
      "Merging 1003 edges ...\n",
      "Merging 1005 edges ...\n"
     ]
    }
   ],
   "execution_count": 20
  },
  {
   "metadata": {
    "ExecuteTime": {
     "end_time": "2024-11-08T13:40:42.983650Z",
     "start_time": "2024-11-08T13:40:42.494185Z"
    }
   },
   "cell_type": "code",
   "source": [
    "# Remove edges if according attribute is empty\n",
    "if link_title:\n",
    "    db.delete_edges_for_empty_attr(NodeType.PUBLICATION, EdgeType.SIM_TITLE, 'title')\n",
    "    \n",
    "if link_abstract:\n",
    "    db.delete_edges_for_empty_attr(NodeType.PUBLICATION, EdgeType.SIM_ABSTRACT, 'abstract')\n",
    "    \n",
    "if link_venue:\n",
    "    db.delete_edges_for_empty_attr(NodeType.PUBLICATION, EdgeType.SIM_VENUE, 'venue')"
   ],
   "id": "837c860f5efe8056",
   "outputs": [],
   "execution_count": 21
  },
  {
   "metadata": {
    "ExecuteTime": {
     "end_time": "2024-11-08T13:40:43.078133Z",
     "start_time": "2024-11-08T13:40:43.075642Z"
    }
   },
   "cell_type": "code",
   "source": "print(\"Number of publication nodes:\", db.count_nodes(NodeType.PUBLICATION))",
   "id": "f02c30d1f448354f",
   "outputs": [
    {
     "name": "stdout",
     "output_type": "stream",
     "text": [
      "Number of publication nodes: 20034\n"
     ]
    }
   ],
   "execution_count": 22
  }
 ],
 "metadata": {
  "kernelspec": {
   "display_name": "Python 3",
   "language": "python",
   "name": "python3"
  },
  "language_info": {
   "codemirror_mode": {
    "name": "ipython",
    "version": 2
   },
   "file_extension": ".py",
   "mimetype": "text/x-python",
   "name": "python",
   "nbconvert_exporter": "python",
   "pygments_lexer": "ipython2",
   "version": "2.7.6"
  }
 },
 "nbformat": 4,
 "nbformat_minor": 5
}
