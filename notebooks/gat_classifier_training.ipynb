{
 "cells": [
  {
   "cell_type": "code",
   "id": "initial_id",
   "metadata": {
    "collapsed": true,
    "ExecuteTime": {
     "end_time": "2024-12-13T09:39:15.150518Z",
     "start_time": "2024-12-13T09:39:15.146797Z"
    }
   },
   "source": [
    "from notebooks.util_classifier import MultiHomogeneousGraphTripletDataset\n",
    "from training_classifier import *\n",
    "from util_classifier import *\n",
    "from util import plot_losses, save_training_results, save_dict_to_json\n",
    "from gat_models import *\n",
    "\n",
    "import os\n",
    "import random\n",
    "import numpy as np\n",
    "from sklearn.metrics import accuracy_score\n",
    "from tqdm.notebook import tqdm\n",
    "from torch_geometric.loader import DataLoader\n",
    "from torch.optim import Adam\n",
    "from torch.nn.modules.loss import TripletMarginLoss\n",
    "import torch.nn as nn\n",
    "from src.shared.database_wrapper import DatabaseWrapper\n",
    "from src.shared.graph_schema import *\n",
    "from src.shared.graph_sampling import GraphSampling\n",
    "\n",
    "random.seed(40)\n",
    "np.random.seed(40)\n",
    "torch.manual_seed(40)\n",
    "torch.cuda.manual_seed_all(40)"
   ],
   "outputs": [],
   "execution_count": 9
  },
  {
   "metadata": {
    "ExecuteTime": {
     "end_time": "2024-12-13T09:39:15.194424Z",
     "start_time": "2024-12-13T09:39:15.192299Z"
    }
   },
   "cell_type": "code",
   "source": [
    "config = {\n",
    "    'experiment': 'GAT Classifier Training',\n",
    "    'max_hops': 2,\n",
    "    'model_node_feature': 'feature_vec',  # Node feature to use for GAT encoder\n",
    "    'hidden_channels': 32,\n",
    "    'out_channels': 8,\n",
    "    'num_heads': 8,\n",
    "    'classifier_in_channels': 4 * 8,\n",
    "    'classifier_hidden_channels': 16,\n",
    "    'classifier_out_channels': 8,\n",
    "    'classifier_dropout': 0.3,\n",
    "    'margin': 1.0,\n",
    "    'optimizer': 'Adam',\n",
    "    'learning_rate': 0.005,\n",
    "    'weight_decay': 5e-4,\n",
    "    'num_epochs': 10,\n",
    "    'batch_size': 32,\n",
    "}"
   ],
   "id": "a053e7ce282b9a50",
   "outputs": [],
   "execution_count": 10
  },
  {
   "metadata": {
    "ExecuteTime": {
     "end_time": "2024-12-13T09:39:15.268928Z",
     "start_time": "2024-12-13T09:39:15.237004Z"
    }
   },
   "cell_type": "code",
   "source": [
    "# Graph sampling configurations\n",
    "node_properties = [\n",
    "    'id',\n",
    "    'feature_vec',\n",
    "]\n",
    "\n",
    "node_spec = [\n",
    "    NodeType.PUBLICATION\n",
    "]\n",
    "\n",
    "edge_spec = [\n",
    "    # EdgeType.SIM_TITLE,\n",
    "    EdgeType.SIM_ABSTRACT,\n",
    "    EdgeType.SIM_AUTHOR,\n",
    "    EdgeType.SIM_ORG,\n",
    "    EdgeType.SAME_AUTHOR,\n",
    "]\n",
    "\n",
    "gat_list = {\n",
    "    EdgeType.SIM_ABSTRACT: './data/results/homogeneous (abstract) full_emb linear_layer dropout 32h 8out/gat_encoder.pt',\n",
    "    EdgeType.SIM_AUTHOR: './data/results/homogeneous (similar co-authors) full_emb linear_layer dropout small_graph low_dim/gat_encoder.pt',\n",
    "    EdgeType.SIM_ORG: './data/results/homogeneous (org) full_emb linear_layer dropout 32h 8out/gat_encoder.pt',\n",
    "    EdgeType.SAME_AUTHOR: './data/results/homogeneous (same author) full_emb linear_layer dropout low_dim/gat_encoder.pt'\n",
    "}\n",
    "\n",
    "\n",
    "database = 'small-graph'\n",
    "gs = GraphSampling(\n",
    "    node_spec=node_spec,\n",
    "    edge_spec=edge_spec,\n",
    "    node_properties=node_properties,\n",
    "    database=database\n",
    ")\n",
    "\n",
    "# Model configurations\n",
    "# Load pre-trained GAT encoders\n",
    "gat_encoders = {}\n",
    "for edge_key, gat_path in gat_list.items():\n",
    "    gat_encoder = HomoGATv2Encoder(config['hidden_channels'], config['out_channels'], num_heads=config['num_heads']).to(device)\n",
    "    gat_encoder.load_state_dict(torch.load(gat_path))\n",
    "    gat_list[edge_key] = gat_encoder\n",
    "\n",
    "loss_fn = TripletMarginLoss(margin=config['margin'])\n",
    "device = torch.device('cuda' if torch.cuda.is_available() else 'cpu')\n",
    "\n",
    "# TODO: Adjust result folder name!\n",
    "result_folder_name = 'classifier full_emb (abstract, org, sim_author, same_author edges) low dim 2 layers'\n",
    "result_folder_path = f'./data/results/{result_folder_name}'\n",
    "if not os.path.exists(result_folder_path):\n",
    "    os.mkdir(result_folder_path)"
   ],
   "id": "8bf2f1d69c0ec445",
   "outputs": [
    {
     "name": "stdout",
     "output_type": "stream",
     "text": [
      "Using default edge type: SimilarAbstract for homogeneous graph sampling.\n"
     ]
    }
   ],
   "execution_count": 11
  },
  {
   "metadata": {},
   "cell_type": "markdown",
   "source": [
    "## Embedding Network\n",
    "**This network takes in the stacked GAT node embeddings and outputs a lower-dimensional embedding.**"
   ],
   "id": "300fa32358270cd9"
  },
  {
   "metadata": {
    "ExecuteTime": {
     "end_time": "2024-12-13T09:39:15.286860Z",
     "start_time": "2024-12-13T09:39:15.284345Z"
    }
   },
   "cell_type": "code",
   "source": [
    "class EmbeddingNet(nn.Module):\n",
    "    def __init__(self, input_size, hidden_size = 128, embedding_size = 16, dropout = 0.2):\n",
    "        super(EmbeddingNet, self).__init__()\n",
    "        self.fc = nn.Sequential(\n",
    "            nn.Dropout(dropout),\n",
    "            nn.Linear(input_size, hidden_size),\n",
    "            nn.BatchNorm1d(hidden_size),\n",
    "            nn.ReLU(),\n",
    "            nn.Dropout(dropout),\n",
    "            nn.Linear(hidden_size, embedding_size),\n",
    "        )\n",
    "    \n",
    "    def forward(self, x):\n",
    "        x = self.fc(x)\n",
    "        x = F.normalize(x, p=2, dim=-1)\n",
    "        return x"
   ],
   "id": "2f21df15b8250070",
   "outputs": [],
   "execution_count": 12
  },
  {
   "metadata": {},
   "cell_type": "markdown",
   "source": [
    "## Triplet Network\n",
    "**This network takes in three inputs: an anchor, a positive example, and a negative example. It outputs the embeddings of the three inputs. It is used to simplify triplet loss training**"
   ],
   "id": "e794b8217c921084"
  },
  {
   "metadata": {
    "ExecuteTime": {
     "end_time": "2024-12-13T09:39:15.333797Z",
     "start_time": "2024-12-13T09:39:15.329357Z"
    }
   },
   "cell_type": "code",
   "source": [
    "class TripletNet(nn.Module):\n",
    "    def __init__(self, embedding_net: EmbeddingNet, edge_spec: [EdgeType], gat_encoders: dict[EdgeType, nn.Module]):\n",
    "        super(TripletNet, self).__init__()\n",
    "        self.edge_spec = edge_spec\n",
    "        self.gat_encoders = gat_encoders\n",
    "        self.embedding_net = embedding_net\n",
    "        \n",
    "        for gat in self.gat_encoders.values():\n",
    "            gat.eval()\n",
    "            for param in gat.parameters():\n",
    "                param.requires_grad = False\n",
    "        \n",
    "\n",
    "    def forward(self, data_dict: dict):\n",
    "        anchor = []\n",
    "        positive = []\n",
    "        negative = []\n",
    "        \n",
    "        for edge_type in self.edge_spec:\n",
    "            # Anchor node embedding for the edge type \n",
    "            anchor_graph = data_dict[edge_type][0]\n",
    "            anchor_gat_emb = self.gat_encoders[edge_type](anchor_graph)\n",
    "            anchor.append(anchor_gat_emb[anchor_graph.central_node_id])\n",
    "            \n",
    "            # Positive node embedding for the edge type\n",
    "            positive_graph = data_dict[edge_type][1]\n",
    "            positive_gat_emb = self.gat_encoders[edge_type](positive_graph)\n",
    "            positive.append(positive_gat_emb[positive_graph.central_node_id])\n",
    "            \n",
    "            # Negative node embedding for the edge type\n",
    "            negative_graph = data_dict[edge_type][2]\n",
    "            negative_gat_emb = self.gat_encoders[edge_type](negative_graph)\n",
    "            negative.append(negative_gat_emb[negative_graph.central_node_id])\n",
    "            \n",
    "        anchor = torch.cat(anchor, dim=1)\n",
    "        positive = torch.cat(positive, dim=1)\n",
    "        negative = torch.cat(negative, dim=1)\n",
    "        \n",
    "        output_anchor = self.embedding_net(anchor)\n",
    "        output_positive = self.embedding_net(positive)\n",
    "        output_negative = self.embedding_net(negative)\n",
    "        \n",
    "        return output_anchor, output_positive, output_negative\n",
    "\n",
    "    def get_embedding(self, x):\n",
    "        return self.embedding_net(x)"
   ],
   "id": "4c72f91a757a3500",
   "outputs": [],
   "execution_count": 13
  },
  {
   "metadata": {},
   "cell_type": "markdown",
   "source": [
    "## Pair Classifier (Old)\n",
    "**This network will be used for the actual classification task (the AND pipeline). (Deprecated)**"
   ],
   "id": "988a62dfdb08331d"
  },
  {
   "metadata": {
    "ExecuteTime": {
     "end_time": "2024-12-13T09:39:15.377209Z",
     "start_time": "2024-12-13T09:39:15.374999Z"
    }
   },
   "cell_type": "code",
   "source": [
    "class PairClassifier(nn.Module):\n",
    "    def __init__(self, embedding_net):\n",
    "        super(PairClassifier, self).__init__()\n",
    "        self.embedding_net = embedding_net\n",
    "\n",
    "    def forward(self, embedding_1, embedding_2):\n",
    "        out_1 = self.embedding_net(embedding_1)\n",
    "        out_2 = self.embedding_net(embedding_2)\n",
    "        \n",
    "        # Compute probability of the pair being similar by computing pairwise distance\n",
    "        distance = F.pairwise_distance(out_1, out_2)\n",
    "        similarity_prediction = torch.sigmoid(-distance)\n",
    "        \n",
    "        return similarity_prediction\n",
    "\n",
    "    def get_embedding(self, x):\n",
    "        return self.embedding_net(x)"
   ],
   "id": "c7d713968074844a",
   "outputs": [],
   "execution_count": 14
  },
  {
   "metadata": {},
   "cell_type": "markdown",
   "source": "## Training",
   "id": "4dfe22b3fa0ce6f8"
  },
  {
   "metadata": {
    "ExecuteTime": {
     "end_time": "2024-12-13T09:39:15.480879Z",
     "start_time": "2024-12-13T09:39:15.429706Z"
    }
   },
   "cell_type": "code",
   "source": [
    "db = DatabaseWrapper(database=database)\n",
    "data_harvester = ClassifierTripletDataHarvester(db=db, gs=gs, edge_spec=edge_spec, config=config, valid_triplets_save_file='valid_triplets_classifier_small_graph', transformer_model='sentence-transformers/all-MiniLM-L6-v2')\n",
    "\n",
    "\n",
    "# Split the pairs into train and test\n",
    "\n",
    "# Harvest the evaluation triplets first, since triplets are ordered by author. This will ensure that the evaluation set has authors not seen in the training set.\n",
    "num_eval_authors = 3\n",
    "eval_papers = set()\n",
    "train_data = WhoIsWhoDataset.parse_train()\n",
    "for i, val in enumerate(train_data.values()):\n",
    "    num_eval_authors -= 1\n",
    "    for paper in val['normal_data']:\n",
    "        eval_papers.add(paper)\n",
    "    if num_eval_authors == 0:\n",
    "        break\n",
    "eval_triplets = []\n",
    "for triplet in data_harvester.triplets:\n",
    "    if triplet[0] in eval_papers or triplet[1] in eval_papers or triplet[2] in eval_papers:\n",
    "        eval_triplets.append(triplet)\n",
    "\n",
    "# Remove the evaluation triplets from the data harvester\n",
    "train_test_triplets = [triplet for triplet in data_harvester.triplets if triplet not in eval_triplets]\n",
    "\n",
    "random.shuffle(train_test_triplets)\n",
    "\n",
    "train_size = int(0.85 * len(train_test_triplets))\n",
    "test_size = len(train_test_triplets) - train_size\n",
    "\n",
    "train_triplets = train_test_triplets[:train_size]\n",
    "test_triplets = train_test_triplets[train_size:]\n",
    "config['train_size'] = len(train_triplets)\n",
    "config['test_size'] = len(test_triplets)\n",
    "config['eval_size'] = len(eval_triplets)\n",
    "\n",
    "print(f\"Train size: {len(train_triplets)}, Test size: {len(test_triplets)}, Eval size: {len(eval_triplets)}\")\n",
    "\n",
    "# Create the datasets from the pairs (distinct pairs for training and testing)\n",
    "train_dataset = MultiHomogeneousGraphTripletDataset(train_triplets, gs, edge_spec=edge_spec, config=config)\n",
    "test_dataset = MultiHomogeneousGraphTripletDataset(test_triplets, gs, edge_spec=edge_spec, config=config)\n",
    "eval_dataset = MultiHomogeneousGraphTripletDataset(eval_triplets, gs, edge_spec=edge_spec, config=config)\n",
    "\n",
    "# Create the DataLoader\n",
    "train_dataloader = DataLoader(train_dataset, batch_size=config['batch_size'], shuffle=True, collate_fn=custom_triplet_collate)\n",
    "test_dataloader = DataLoader(test_dataset, batch_size=config['batch_size'], shuffle=False, collate_fn=custom_triplet_collate)\n",
    "eval_dataloader = DataLoader(eval_dataset, batch_size=config['batch_size'], shuffle=False, collate_fn=custom_triplet_collate)\n",
    "\n",
    "# Create models\n",
    "metadata = (\n",
    "    [n.value for n in node_spec],\n",
    "    [edge_pyg_key_vals[r] for r in edge_spec]\n",
    ")\n",
    "config['node_spec'] = metadata[0]\n",
    "config['edge_spec'] = metadata[1]\n",
    "\n",
    "# Embedding model\n",
    "embedding_net = EmbeddingNet(\n",
    "    input_size=config['classifier_in_channels'], \n",
    "    hidden_size=config['classifier_hidden_channels'],\n",
    "    embedding_size=config['classifier_out_channels'],\n",
    "    dropout=config['classifier_dropout']\n",
    ").to(device)\n",
    "\n",
    "# Triplet training classifier model\n",
    "triplet_net = TripletNet(\n",
    "    embedding_net=embedding_net,\n",
    "    edge_spec=edge_spec,\n",
    "    gat_encoders=gat_list\n",
    ").to(device)\n",
    "\n",
    "# Optimizer\n",
    "optimizer = torch.optim.Adam(triplet_net.embedding_net.parameters(), lr=config['learning_rate'], weight_decay=config['weight_decay'])"
   ],
   "id": "5b32cfaf13d243bd",
   "outputs": [
    {
     "name": "stderr",
     "output_type": "stream",
     "text": [
      "2024-12-13 10:39:15,434 - DatabaseWrapper - INFO - Connecting to the database ...\n",
      "2024-12-13 10:39:15,434 - DatabaseWrapper - INFO - Database ready.\n"
     ]
    },
    {
     "name": "stdout",
     "output_type": "stream",
     "text": [
      "Preparing triplets...\n",
      "Loading triplets...\n",
      "Loaded 6284 triplets.\n",
      "Train size: 4985, Test size: 880, Eval size: 419\n"
     ]
    }
   ],
   "execution_count": 15
  },
  {
   "metadata": {
    "ExecuteTime": {
     "end_time": "2024-12-13T13:50:03.089447Z",
     "start_time": "2024-12-13T09:39:15.495165Z"
    }
   },
   "cell_type": "code",
   "source": [
    "from collections import defaultdict\n",
    "\n",
    "num_epochs = config['num_epochs']\n",
    "results = defaultdict(list)\n",
    "\n",
    "current_batch = 1\n",
    "\n",
    "for epoch in range(1, num_epochs + 1):\n",
    "    print(f\"=== Epoch {epoch}/{num_epochs} ======================\")\n",
    "    epoch_marker_pos = list(range(0, len(train_dataloader) * epoch, len(train_dataloader)))\n",
    "    current_batch = 1\n",
    "    for data_dict in tqdm(train_dataloader, desc=f\"Epoch {epoch}/{num_epochs}\"):\n",
    "        if current_batch == 1 or current_batch == len(train_dataloader) // 2:\n",
    "            print(f\"___ Current Batch {current_batch}/{len(train_dataloader)} _________________________\")\n",
    "            # Model testing\n",
    "            print(\"    Test Results:\")\n",
    "            test_loss, test_num_correct, test_correct_pos_val, test_correct_neg_val, test_precision, test_recall, test_F1 = test_and_eval(\n",
    "                model=triplet_net,\n",
    "                loss_fn=loss_fn,\n",
    "                dataloader=test_dataloader,\n",
    "                margin=config['margin']\n",
    "            )\n",
    "            results['test_total_loss'].append(test_loss)\n",
    "            results['test_accuracies'].append(test_num_correct)\n",
    "            results['test_accuracies_correct_pos'].append(test_correct_pos_val)\n",
    "            results['test_accuracies_correct_neg'].append(test_correct_neg_val)\n",
    "            results['test_precision'].append(test_precision)\n",
    "            results['test_recall'].append(test_recall)\n",
    "            results['test_F1'].append(test_F1)\n",
    "    \n",
    "            plot_losses(\n",
    "                losses=[results['test_total_loss']], \n",
    "                epoch_len=2, \n",
    "                plot_title='Test Loss', \n",
    "                plot_file=result_folder_path + '/test_loss.png', \n",
    "                line_labels=[\"Triplet Loss\"]\n",
    "            )\n",
    "            \n",
    "            plot_losses(\n",
    "                [results['test_accuracies'], results['test_accuracies_correct_pos'], results['test_accuracies_correct_neg']],\n",
    "                epoch_len=2,\n",
    "                plot_title='Test Accuracy',\n",
    "                x_label='Test Iterations',\n",
    "                y_label='Accuracy',\n",
    "                line_labels=['Total Accuracy', 'Correct Pos', 'Correct Neg'],\n",
    "                plot_file=result_folder_path + '/test_accuracy.png'\n",
    "            )\n",
    "            \n",
    "            # Model evaluation\n",
    "            print(\"    Eval Results:\")\n",
    "            eval_loss, eval_num_correct, eval_correct_pos_val, eval_correct_neg_val, eval_precision, eval_recall, eval_F1 = test_and_eval(\n",
    "                model=triplet_net,\n",
    "                loss_fn=loss_fn,\n",
    "                dataloader=eval_dataloader,\n",
    "                margin=config['margin']\n",
    "            )\n",
    "            results['eval_total_loss'].append(eval_loss)\n",
    "            results['eval_accuracies'].append(eval_num_correct)\n",
    "            results['eval_accuracies_correct_pos'].append(eval_correct_pos_val)\n",
    "            results['eval_accuracies_correct_neg'].append(eval_correct_neg_val)\n",
    "            results['eval_precision'].append(eval_precision)\n",
    "            results['eval_recall'].append(eval_recall)\n",
    "            results['eval_F1'].append(eval_F1)\n",
    "            \n",
    "            plot_losses(\n",
    "                losses=[results['eval_total_loss']], \n",
    "                epoch_len=2, \n",
    "                plot_title='Evaluation Loss', \n",
    "                plot_file=result_folder_path + '/eval_loss.png', \n",
    "                line_labels=[\"Triplet Loss\"]\n",
    "            )\n",
    "            \n",
    "            plot_losses(\n",
    "                [results['eval_accuracies'], results['eval_accuracies_correct_pos'], results['eval_accuracies_correct_neg']], \n",
    "                epoch_len=2, \n",
    "                plot_title='Evaluation Accuracy', \n",
    "                x_label='Eval Iterations',\n",
    "                y_label='Accuracy',\n",
    "                line_labels=['Total Accuracy', 'Correct Pos', 'Correct Neg'],\n",
    "                plot_file=result_folder_path + '/eval_accuracy.png'\n",
    "            )\n",
    "            \n",
    "            # Save config and training results\n",
    "            config['results'] = results\n",
    "            save_dict_to_json(config, result_folder_path + '/training_data.json')\n",
    "            \n",
    "            # Save model if loss has decreased\n",
    "            if len(results['eval_accuracies']) > 1 and results['eval_accuracies'][-1] > max(results['eval_accuracies'][:-1]):\n",
    "                print(f\"Saving model at epoch {epoch}...\")\n",
    "                torch.save(triplet_net.embedding_net.state_dict(), result_folder_path + '/embedding_net.pt')\n",
    "        \n",
    "        loss = train(\n",
    "            triplet_classifier_model=triplet_net,\n",
    "            loss_fn=loss_fn,\n",
    "            data_dict=data_dict,\n",
    "            optimizer=optimizer\n",
    "        )\n",
    "        results['train_loss'].append(loss)\n",
    "        \n",
    "        plot_loss(results['train_loss'], epoch_len=len(train_dataloader), plot_title='Training Loss', plot_avg=True, plot_file=result_folder_path + '/train_loss.png')\n",
    "        current_batch += 1\n"
   ],
   "id": "9f2ad94dcf4a330a",
   "outputs": [
    {
     "name": "stdout",
     "output_type": "stream",
     "text": [
      "=== Epoch 1/10 ======================\n"
     ]
    },
    {
     "data": {
      "text/plain": [
       "Epoch 1/10:   0%|          | 0/156 [00:00<?, ?it/s]"
      ],
      "application/vnd.jupyter.widget-view+json": {
       "version_major": 2,
       "version_minor": 0,
       "model_id": "1d346680bd4b4e95a073ac672b1c9458"
      }
     },
     "metadata": {},
     "output_type": "display_data"
    },
    {
     "name": "stdout",
     "output_type": "stream",
     "text": [
      "___ Current Batch 1/156 _________________________\n",
      "    Test Results:\n",
      "        Correct positive: 880 (100.00%), Correct negative: 0 (0.00%)\n",
      "        Total correct: 880 (50.00%)\n",
      "        Test/Eval Loss: 0.9547, Test/Eval Accuracy: 0.5000\n",
      "        Precision: 0.5000, Recall: 1.0000, F1: 0.6667\n",
      "    Eval Results:\n",
      "        Correct positive: 419 (100.00%), Correct negative: 0 (0.00%)\n",
      "        Total correct: 419 (50.00%)\n",
      "        Test/Eval Loss: 0.9522, Test/Eval Accuracy: 0.5000\n",
      "        Precision: 0.5000, Recall: 1.0000, F1: 0.6667\n",
      "___ Current Batch 78/156 _________________________\n",
      "    Test Results:\n",
      "        Correct positive: 528 (60.00%), Correct negative: 648 (73.64%)\n",
      "        Total correct: 1176 (66.82%)\n",
      "        Test/Eval Loss: 0.6473, Test/Eval Accuracy: 0.6682\n",
      "        Precision: 0.6947, Recall: 0.6000, F1: 0.6439\n",
      "    Eval Results:\n",
      "        Correct positive: 329 (78.52%), Correct negative: 161 (38.42%)\n",
      "        Total correct: 490 (58.47%)\n",
      "        Test/Eval Loss: 0.7192, Test/Eval Accuracy: 0.5847\n",
      "        Precision: 0.5605, Recall: 0.7852, F1: 0.6541\n",
      "Saving model at epoch 1...\n",
      "=== Epoch 2/10 ======================\n"
     ]
    },
    {
     "data": {
      "text/plain": [
       "Epoch 2/10:   0%|          | 0/156 [00:00<?, ?it/s]"
      ],
      "application/vnd.jupyter.widget-view+json": {
       "version_major": 2,
       "version_minor": 0,
       "model_id": "e84cf72503ec4836b1b7171348b1dcf2"
      }
     },
     "metadata": {},
     "output_type": "display_data"
    },
    {
     "name": "stdout",
     "output_type": "stream",
     "text": [
      "___ Current Batch 1/156 _________________________\n",
      "    Test Results:\n",
      "        Correct positive: 580 (65.91%), Correct negative: 639 (72.61%)\n",
      "        Total correct: 1219 (69.26%)\n",
      "        Test/Eval Loss: 0.6089, Test/Eval Accuracy: 0.6926\n",
      "        Precision: 0.7065, Recall: 0.6591, F1: 0.6820\n",
      "    Eval Results:\n",
      "        Correct positive: 321 (76.61%), Correct negative: 162 (38.66%)\n",
      "        Total correct: 483 (57.64%)\n",
      "        Test/Eval Loss: 0.7380, Test/Eval Accuracy: 0.5764\n",
      "        Precision: 0.5554, Recall: 0.7661, F1: 0.6439\n",
      "___ Current Batch 78/156 _________________________\n",
      "    Test Results:\n",
      "        Correct positive: 548 (62.27%), Correct negative: 648 (73.64%)\n",
      "        Total correct: 1196 (67.95%)\n",
      "        Test/Eval Loss: 0.5971, Test/Eval Accuracy: 0.6795\n",
      "        Precision: 0.7026, Recall: 0.6227, F1: 0.6602\n",
      "    Eval Results:\n",
      "        Correct positive: 267 (63.72%), Correct negative: 160 (38.19%)\n",
      "        Total correct: 427 (50.95%)\n",
      "        Test/Eval Loss: 0.7526, Test/Eval Accuracy: 0.5095\n",
      "        Precision: 0.5076, Recall: 0.6372, F1: 0.5651\n",
      "=== Epoch 3/10 ======================\n"
     ]
    },
    {
     "data": {
      "text/plain": [
       "Epoch 3/10:   0%|          | 0/156 [00:00<?, ?it/s]"
      ],
      "application/vnd.jupyter.widget-view+json": {
       "version_major": 2,
       "version_minor": 0,
       "model_id": "9859f9f6551d4be19d8b03df621a8630"
      }
     },
     "metadata": {},
     "output_type": "display_data"
    },
    {
     "name": "stdout",
     "output_type": "stream",
     "text": [
      "___ Current Batch 1/156 _________________________\n",
      "    Test Results:\n",
      "        Correct positive: 579 (65.80%), Correct negative: 672 (76.36%)\n",
      "        Total correct: 1251 (71.08%)\n",
      "        Test/Eval Loss: 0.5864, Test/Eval Accuracy: 0.7108\n",
      "        Precision: 0.7357, Recall: 0.6580, F1: 0.6947\n",
      "    Eval Results:\n",
      "        Correct positive: 258 (61.58%), Correct negative: 215 (51.31%)\n",
      "        Total correct: 473 (56.44%)\n",
      "        Test/Eval Loss: 0.7656, Test/Eval Accuracy: 0.5644\n",
      "        Precision: 0.5584, Recall: 0.6158, F1: 0.5857\n",
      "___ Current Batch 78/156 _________________________\n",
      "    Test Results:\n",
      "        Correct positive: 565 (64.20%), Correct negative: 649 (73.75%)\n",
      "        Total correct: 1214 (68.98%)\n",
      "        Test/Eval Loss: 0.6075, Test/Eval Accuracy: 0.6898\n",
      "        Precision: 0.7098, Recall: 0.6420, F1: 0.6742\n",
      "    Eval Results:\n",
      "        Correct positive: 260 (62.05%), Correct negative: 239 (57.04%)\n",
      "        Total correct: 499 (59.55%)\n",
      "        Test/Eval Loss: 0.6804, Test/Eval Accuracy: 0.5955\n",
      "        Precision: 0.5909, Recall: 0.6205, F1: 0.6054\n",
      "Saving model at epoch 3...\n",
      "=== Epoch 4/10 ======================\n"
     ]
    },
    {
     "data": {
      "text/plain": [
       "Epoch 4/10:   0%|          | 0/156 [00:00<?, ?it/s]"
      ],
      "application/vnd.jupyter.widget-view+json": {
       "version_major": 2,
       "version_minor": 0,
       "model_id": "68b3ee1199694968bbdaddcd2751f35a"
      }
     },
     "metadata": {},
     "output_type": "display_data"
    },
    {
     "name": "stdout",
     "output_type": "stream",
     "text": [
      "___ Current Batch 1/156 _________________________\n",
      "    Test Results:\n",
      "        Correct positive: 574 (65.23%), Correct negative: 662 (75.23%)\n",
      "        Total correct: 1236 (70.23%)\n",
      "        Test/Eval Loss: 0.5868, Test/Eval Accuracy: 0.7023\n",
      "        Precision: 0.7247, Recall: 0.6523, F1: 0.6866\n",
      "    Eval Results:\n",
      "        Correct positive: 256 (61.10%), Correct negative: 224 (53.46%)\n",
      "        Total correct: 480 (57.28%)\n",
      "        Test/Eval Loss: 0.7463, Test/Eval Accuracy: 0.5728\n",
      "        Precision: 0.5676, Recall: 0.6110, F1: 0.5885\n",
      "___ Current Batch 78/156 _________________________\n",
      "    Test Results:\n",
      "        Correct positive: 565 (64.20%), Correct negative: 657 (74.66%)\n",
      "        Total correct: 1222 (69.43%)\n",
      "        Test/Eval Loss: 0.5849, Test/Eval Accuracy: 0.6943\n",
      "        Precision: 0.7170, Recall: 0.6420, F1: 0.6775\n",
      "    Eval Results:\n",
      "        Correct positive: 267 (63.72%), Correct negative: 165 (39.38%)\n",
      "        Total correct: 432 (51.55%)\n",
      "        Test/Eval Loss: 0.6991, Test/Eval Accuracy: 0.5155\n",
      "        Precision: 0.5125, Recall: 0.6372, F1: 0.5681\n",
      "=== Epoch 5/10 ======================\n"
     ]
    },
    {
     "data": {
      "text/plain": [
       "Epoch 5/10:   0%|          | 0/156 [00:00<?, ?it/s]"
      ],
      "application/vnd.jupyter.widget-view+json": {
       "version_major": 2,
       "version_minor": 0,
       "model_id": "502ac658d1ec4fdebc8812ee636178b8"
      }
     },
     "metadata": {},
     "output_type": "display_data"
    },
    {
     "name": "stdout",
     "output_type": "stream",
     "text": [
      "___ Current Batch 1/156 _________________________\n",
      "    Test Results:\n",
      "        Correct positive: 570 (64.77%), Correct negative: 666 (75.68%)\n",
      "        Total correct: 1236 (70.23%)\n",
      "        Test/Eval Loss: 0.5895, Test/Eval Accuracy: 0.7023\n",
      "        Precision: 0.7270, Recall: 0.6477, F1: 0.6851\n",
      "    Eval Results:\n",
      "        Correct positive: 248 (59.19%), Correct negative: 357 (85.20%)\n",
      "        Total correct: 605 (72.20%)\n",
      "        Test/Eval Loss: 0.6534, Test/Eval Accuracy: 0.7220\n",
      "        Precision: 0.8000, Recall: 0.5919, F1: 0.6804\n",
      "Saving model at epoch 5...\n",
      "___ Current Batch 78/156 _________________________\n",
      "    Test Results:\n",
      "        Correct positive: 556 (63.18%), Correct negative: 646 (73.41%)\n",
      "        Total correct: 1202 (68.30%)\n",
      "        Test/Eval Loss: 0.6036, Test/Eval Accuracy: 0.6830\n",
      "        Precision: 0.7038, Recall: 0.6318, F1: 0.6659\n",
      "    Eval Results:\n",
      "        Correct positive: 302 (72.08%), Correct negative: 193 (46.06%)\n",
      "        Total correct: 495 (59.07%)\n",
      "        Test/Eval Loss: 0.6588, Test/Eval Accuracy: 0.5907\n",
      "        Precision: 0.5720, Recall: 0.7208, F1: 0.6378\n",
      "=== Epoch 6/10 ======================\n"
     ]
    },
    {
     "data": {
      "text/plain": [
       "Epoch 6/10:   0%|          | 0/156 [00:00<?, ?it/s]"
      ],
      "application/vnd.jupyter.widget-view+json": {
       "version_major": 2,
       "version_minor": 0,
       "model_id": "1f1d61eb6c1745fab0b43318a501dc7f"
      }
     },
     "metadata": {},
     "output_type": "display_data"
    },
    {
     "name": "stdout",
     "output_type": "stream",
     "text": [
      "___ Current Batch 1/156 _________________________\n",
      "    Test Results:\n",
      "        Correct positive: 594 (67.50%), Correct negative: 668 (75.91%)\n",
      "        Total correct: 1262 (71.70%)\n",
      "        Test/Eval Loss: 0.5616, Test/Eval Accuracy: 0.7170\n",
      "        Precision: 0.7370, Recall: 0.6750, F1: 0.7046\n",
      "    Eval Results:\n",
      "        Correct positive: 278 (66.35%), Correct negative: 211 (50.36%)\n",
      "        Total correct: 489 (58.35%)\n",
      "        Test/Eval Loss: 0.6655, Test/Eval Accuracy: 0.5835\n",
      "        Precision: 0.5720, Recall: 0.6635, F1: 0.6144\n",
      "___ Current Batch 78/156 _________________________\n",
      "    Test Results:\n",
      "        Correct positive: 576 (65.45%), Correct negative: 668 (75.91%)\n",
      "        Total correct: 1244 (70.68%)\n",
      "        Test/Eval Loss: 0.5699, Test/Eval Accuracy: 0.7068\n",
      "        Precision: 0.7310, Recall: 0.6545, F1: 0.6906\n",
      "    Eval Results:\n",
      "        Correct positive: 261 (62.29%), Correct negative: 347 (82.82%)\n",
      "        Total correct: 608 (72.55%)\n",
      "        Test/Eval Loss: 0.6307, Test/Eval Accuracy: 0.7255\n",
      "        Precision: 0.7838, Recall: 0.6229, F1: 0.6941\n",
      "Saving model at epoch 6...\n",
      "=== Epoch 7/10 ======================\n"
     ]
    },
    {
     "data": {
      "text/plain": [
       "Epoch 7/10:   0%|          | 0/156 [00:00<?, ?it/s]"
      ],
      "application/vnd.jupyter.widget-view+json": {
       "version_major": 2,
       "version_minor": 0,
       "model_id": "9f18dcbf0aee4834ad1979902f194d85"
      }
     },
     "metadata": {},
     "output_type": "display_data"
    },
    {
     "name": "stdout",
     "output_type": "stream",
     "text": [
      "___ Current Batch 1/156 _________________________\n",
      "    Test Results:\n",
      "        Correct positive: 573 (65.11%), Correct negative: 666 (75.68%)\n",
      "        Total correct: 1239 (70.40%)\n",
      "        Test/Eval Loss: 0.5739, Test/Eval Accuracy: 0.7040\n",
      "        Precision: 0.7281, Recall: 0.6511, F1: 0.6875\n",
      "    Eval Results:\n",
      "        Correct positive: 282 (67.30%), Correct negative: 349 (83.29%)\n",
      "        Total correct: 631 (75.30%)\n",
      "        Test/Eval Loss: 0.5827, Test/Eval Accuracy: 0.7530\n",
      "        Precision: 0.8011, Recall: 0.6730, F1: 0.7315\n",
      "Saving model at epoch 7...\n",
      "___ Current Batch 78/156 _________________________\n",
      "    Test Results:\n",
      "        Correct positive: 579 (65.80%), Correct negative: 666 (75.68%)\n",
      "        Total correct: 1245 (70.74%)\n",
      "        Test/Eval Loss: 0.5704, Test/Eval Accuracy: 0.7074\n",
      "        Precision: 0.7301, Recall: 0.6580, F1: 0.6922\n",
      "    Eval Results:\n",
      "        Correct positive: 258 (61.58%), Correct negative: 364 (86.87%)\n",
      "        Total correct: 622 (74.22%)\n",
      "        Test/Eval Loss: 0.6511, Test/Eval Accuracy: 0.7422\n",
      "        Precision: 0.8243, Recall: 0.6158, F1: 0.7049\n",
      "=== Epoch 8/10 ======================\n"
     ]
    },
    {
     "data": {
      "text/plain": [
       "Epoch 8/10:   0%|          | 0/156 [00:00<?, ?it/s]"
      ],
      "application/vnd.jupyter.widget-view+json": {
       "version_major": 2,
       "version_minor": 0,
       "model_id": "c588637001164a6ca2eee113ec59a6b8"
      }
     },
     "metadata": {},
     "output_type": "display_data"
    },
    {
     "name": "stdout",
     "output_type": "stream",
     "text": [
      "___ Current Batch 1/156 _________________________\n",
      "    Test Results:\n",
      "        Correct positive: 581 (66.02%), Correct negative: 683 (77.61%)\n",
      "        Total correct: 1264 (71.82%)\n",
      "        Test/Eval Loss: 0.5618, Test/Eval Accuracy: 0.7182\n",
      "        Precision: 0.7468, Recall: 0.6602, F1: 0.7008\n",
      "    Eval Results:\n",
      "        Correct positive: 280 (66.83%), Correct negative: 223 (53.22%)\n",
      "        Total correct: 503 (60.02%)\n",
      "        Test/Eval Loss: 0.6572, Test/Eval Accuracy: 0.6002\n",
      "        Precision: 0.5882, Recall: 0.6683, F1: 0.6257\n",
      "___ Current Batch 78/156 _________________________\n",
      "    Test Results:\n",
      "        Correct positive: 585 (66.48%), Correct negative: 656 (74.55%)\n",
      "        Total correct: 1241 (70.51%)\n",
      "        Test/Eval Loss: 0.5697, Test/Eval Accuracy: 0.7051\n",
      "        Precision: 0.7231, Recall: 0.6648, F1: 0.6927\n",
      "    Eval Results:\n",
      "        Correct positive: 316 (75.42%), Correct negative: 166 (39.62%)\n",
      "        Total correct: 482 (57.52%)\n",
      "        Test/Eval Loss: 0.6525, Test/Eval Accuracy: 0.5752\n",
      "        Precision: 0.5554, Recall: 0.7542, F1: 0.6397\n",
      "=== Epoch 9/10 ======================\n"
     ]
    },
    {
     "data": {
      "text/plain": [
       "Epoch 9/10:   0%|          | 0/156 [00:00<?, ?it/s]"
      ],
      "application/vnd.jupyter.widget-view+json": {
       "version_major": 2,
       "version_minor": 0,
       "model_id": "89432be52033424496393235f781ea29"
      }
     },
     "metadata": {},
     "output_type": "display_data"
    },
    {
     "name": "stdout",
     "output_type": "stream",
     "text": [
      "___ Current Batch 1/156 _________________________\n",
      "    Test Results:\n",
      "        Correct positive: 577 (65.57%), Correct negative: 677 (76.93%)\n",
      "        Total correct: 1254 (71.25%)\n",
      "        Test/Eval Loss: 0.5735, Test/Eval Accuracy: 0.7125\n",
      "        Precision: 0.7397, Recall: 0.6557, F1: 0.6952\n",
      "    Eval Results:\n",
      "        Correct positive: 270 (64.44%), Correct negative: 260 (62.05%)\n",
      "        Total correct: 530 (63.25%)\n",
      "        Test/Eval Loss: 0.6413, Test/Eval Accuracy: 0.6325\n",
      "        Precision: 0.6294, Recall: 0.6444, F1: 0.6368\n",
      "___ Current Batch 78/156 _________________________\n",
      "    Test Results:\n",
      "        Correct positive: 597 (67.84%), Correct negative: 674 (76.59%)\n",
      "        Total correct: 1271 (72.22%)\n",
      "        Test/Eval Loss: 0.5582, Test/Eval Accuracy: 0.7222\n",
      "        Precision: 0.7435, Recall: 0.6784, F1: 0.7094\n",
      "    Eval Results:\n",
      "        Correct positive: 286 (68.26%), Correct negative: 179 (42.72%)\n",
      "        Total correct: 465 (55.49%)\n",
      "        Test/Eval Loss: 0.7031, Test/Eval Accuracy: 0.5549\n",
      "        Precision: 0.5437, Recall: 0.6826, F1: 0.6053\n",
      "=== Epoch 10/10 ======================\n"
     ]
    },
    {
     "data": {
      "text/plain": [
       "Epoch 10/10:   0%|          | 0/156 [00:00<?, ?it/s]"
      ],
      "application/vnd.jupyter.widget-view+json": {
       "version_major": 2,
       "version_minor": 0,
       "model_id": "7a654d1577dc4151826b924e7c9b1b0c"
      }
     },
     "metadata": {},
     "output_type": "display_data"
    },
    {
     "name": "stdout",
     "output_type": "stream",
     "text": [
      "___ Current Batch 1/156 _________________________\n",
      "    Test Results:\n",
      "        Correct positive: 580 (65.91%), Correct negative: 662 (75.23%)\n",
      "        Total correct: 1242 (70.57%)\n",
      "        Test/Eval Loss: 0.5636, Test/Eval Accuracy: 0.7057\n",
      "        Precision: 0.7268, Recall: 0.6591, F1: 0.6913\n",
      "    Eval Results:\n",
      "        Correct positive: 248 (59.19%), Correct negative: 363 (86.63%)\n",
      "        Total correct: 611 (72.91%)\n",
      "        Test/Eval Loss: 0.6276, Test/Eval Accuracy: 0.7291\n",
      "        Precision: 0.8158, Recall: 0.5919, F1: 0.6860\n",
      "___ Current Batch 78/156 _________________________\n",
      "    Test Results:\n",
      "        Correct positive: 571 (64.89%), Correct negative: 677 (76.93%)\n",
      "        Total correct: 1248 (70.91%)\n",
      "        Test/Eval Loss: 0.5701, Test/Eval Accuracy: 0.7091\n",
      "        Precision: 0.7377, Recall: 0.6489, F1: 0.6904\n",
      "    Eval Results:\n",
      "        Correct positive: 261 (62.29%), Correct negative: 358 (85.44%)\n",
      "        Total correct: 619 (73.87%)\n",
      "        Test/Eval Loss: 0.5527, Test/Eval Accuracy: 0.7387\n",
      "        Precision: 0.8106, Recall: 0.6229, F1: 0.7045\n"
     ]
    }
   ],
   "execution_count": 16
  },
  {
   "metadata": {
    "ExecuteTime": {
     "end_time": "2024-12-13T13:50:03.149233Z",
     "start_time": "2024-12-13T13:50:03.147998Z"
    }
   },
   "cell_type": "code",
   "source": "",
   "id": "d5efacd4c1f46181",
   "outputs": [],
   "execution_count": null
  }
 ],
 "metadata": {
  "kernelspec": {
   "display_name": "Python 3",
   "language": "python",
   "name": "python3"
  },
  "language_info": {
   "codemirror_mode": {
    "name": "ipython",
    "version": 2
   },
   "file_extension": ".py",
   "mimetype": "text/x-python",
   "name": "python",
   "nbconvert_exporter": "python",
   "pygments_lexer": "ipython2",
   "version": "2.7.6"
  }
 },
 "nbformat": 4,
 "nbformat_minor": 5
}
