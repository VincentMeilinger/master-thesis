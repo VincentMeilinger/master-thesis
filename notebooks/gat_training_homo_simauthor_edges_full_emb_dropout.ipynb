{
 "cells": [
  {
   "cell_type": "code",
   "id": "initial_id",
   "metadata": {
    "collapsed": true,
    "ExecuteTime": {
     "end_time": "2024-12-11T18:37:18.457921Z",
     "start_time": "2024-12-11T18:37:16.563322Z"
    }
   },
   "source": [
    "from util_homogeneous import *\n",
    "from util import *\n",
    "from training_homogeneous import *\n",
    "from gat_models import *\n",
    "\n",
    "from collections import defaultdict\n",
    "import random\n",
    "import numpy as np\n",
    "from tqdm.notebook import tqdm\n",
    "from torch_geometric.loader import DataLoader\n",
    "from torch.optim import Adam, SGD\n",
    "from torch.nn.modules.loss import TripletMarginLoss\n",
    "\n",
    "from src.shared.database_wrapper import DatabaseWrapper\n",
    "from src.shared.graph_schema import *\n",
    "from src.shared.graph_sampling import GraphSampling\n",
    "\n",
    "random.seed(40)\n",
    "np.random.seed(40)\n",
    "torch.manual_seed(40)\n",
    "torch.cuda.manual_seed_all(40)"
   ],
   "outputs": [
    {
     "name": "stderr",
     "output_type": "stream",
     "text": [
      "/home/vincie/.anaconda3/envs/master/lib/python3.9/site-packages/sentence_transformers/cross_encoder/CrossEncoder.py:11: TqdmExperimentalWarning: Using `tqdm.autonotebook.tqdm` in notebook mode. Use `tqdm.tqdm` instead to force console mode (e.g. in jupyter console)\n",
      "  from tqdm.autonotebook import tqdm, trange\n"
     ]
    }
   ],
   "execution_count": 1
  },
  {
   "metadata": {},
   "cell_type": "markdown",
   "source": "## Configurations",
   "id": "ee4fa502d7e51e50"
  },
  {
   "metadata": {
    "ExecuteTime": {
     "end_time": "2024-12-11T18:37:18.465033Z",
     "start_time": "2024-12-11T18:37:18.461408Z"
    }
   },
   "cell_type": "code",
   "source": [
    "# Graph sampling configurations\n",
    "node_spec = NodeType.PUBLICATION\n",
    "\n",
    "edge_spec = EdgeType.SIM_AUTHOR\n",
    "\n",
    "node_properties = [\n",
    "    'id',\n",
    "    'feature_vec',\n",
    "]\n",
    "\n",
    "database = 'small-graph'\n",
    "gs = GraphSampling(\n",
    "    node_spec=[node_spec],\n",
    "    edge_spec=[edge_spec],\n",
    "    node_properties=node_properties,\n",
    "    database=database\n",
    ")\n",
    "\n",
    "# Model configurations\n",
    "\n",
    "config = {\n",
    "    'experiment': 'GATv2 encoder (with linear layer + dropout) trained on small graph (publication nodes with title and abstract, sim_author edges) using Triplet Loss and full embeddings',\n",
    "    'max_hops': 2,\n",
    "    'model_node_feature': 'feature_vec',  # Node feature to use for GAT encoder\n",
    "    'hidden_channels': 32,\n",
    "    'out_channels': 8,\n",
    "    'num_heads': 8,\n",
    "    'dropout_p': 0.4,\n",
    "    'margin': 1.0,\n",
    "    'optimizer': 'Adam',\n",
    "    'learning_rate': 0.005,\n",
    "    'weight_decay': 5e-4,\n",
    "    'num_epochs': 10,\n",
    "    'batch_size': 32,\n",
    "}\n",
    "\n",
    "model_class = HomoGATv2Encoder\n",
    "loss_fn = TripletMarginLoss(margin=config['margin'])\n",
    "device = torch.device('cuda' if torch.cuda.is_available() else 'cpu')\n",
    "\n",
    "# TODO: Adjust result folder name!\n",
    "result_folder_name = 'homogeneous (similar co-authors) full_emb linear_layer dropout small_graph low_dim'\n",
    "result_folder_path = f'./data/results/{result_folder_name}'\n",
    "if not os.path.exists(result_folder_path):\n",
    "    os.mkdir(result_folder_path)"
   ],
   "id": "91b04efb689d61f4",
   "outputs": [
    {
     "name": "stdout",
     "output_type": "stream",
     "text": [
      "Using default edge type: SimilarAuthor for homogeneous graph sampling.\n"
     ]
    }
   ],
   "execution_count": 2
  },
  {
   "metadata": {
    "ExecuteTime": {
     "end_time": "2024-12-11T18:37:18.743153Z",
     "start_time": "2024-12-11T18:37:18.563039Z"
    }
   },
   "cell_type": "code",
   "source": [
    "db = DatabaseWrapper(database=database)\n",
    "data_harvester = TripletDataHarvester(db=db, gs=gs, edge_spec=[edge_spec], config=config, valid_triplets_save_file='valid_triplets_small_graph_simauthor', transformer_model='sentence-transformers/all-MiniLM-L6-v2')\n",
    "\n",
    "\n",
    "# Split the pairs into train and test\n",
    "\n",
    "train_size = int(0.85 * len(data_harvester.triplets))\n",
    "test_size = int(0.1 * len(data_harvester.triplets))\n",
    "eval_size = len(data_harvester.triplets) - train_size - test_size\n",
    "\n",
    "# Harvest the evaluation triplets first, since triplets are ordered by author. This will ensure that the evaluation set has authors not seen in the training set.\n",
    "num_eval_authors = 3\n",
    "eval_papers = set()\n",
    "train_data = WhoIsWhoDataset.parse_train()\n",
    "for i, val in enumerate(train_data.values()):\n",
    "    num_eval_authors -= 1\n",
    "    for paper in val['normal_data']:\n",
    "        eval_papers.add(paper)\n",
    "    if num_eval_authors == 0:\n",
    "        break\n",
    "eval_triplets = []\n",
    "for triplet in data_harvester.triplets:\n",
    "    if triplet[0] in eval_papers or triplet[1] in eval_papers or triplet[2] in eval_papers:\n",
    "        eval_triplets.append(triplet)\n",
    "\n",
    "# Remove the evaluation triplets from the data harvester\n",
    "train_test_triplets = [triplet for triplet in data_harvester.triplets if triplet not in eval_triplets]\n",
    "\n",
    "random.shuffle(train_test_triplets)\n",
    "\n",
    "train_size = int(0.85 * len(train_test_triplets))\n",
    "test_size = len(train_test_triplets) - train_size\n",
    "\n",
    "train_triplets = train_test_triplets[:train_size]\n",
    "test_triplets = train_test_triplets[train_size:]\n",
    "config['train_size'] = len(train_triplets)\n",
    "config['test_size'] = len(test_triplets)\n",
    "config['eval_size'] = len(eval_triplets)\n",
    "\n",
    "print(f\"Train size: {len(train_triplets)}, Test size: {len(test_triplets)}, Eval size: {len(eval_triplets)}\")\n",
    "\n",
    "# Create the datasets from the pairs (distinct pairs for training and testing)\n",
    "train_dataset = HomogeneousGraphTripletDataset(train_triplets, gs, config=config)\n",
    "test_dataset = HomogeneousGraphTripletDataset(test_triplets, gs, config=config)\n",
    "eval_dataset = HomogeneousGraphTripletDataset(eval_triplets, gs, config=config)\n",
    "\n",
    "# Create the DataLoader\n",
    "train_dataloader = DataLoader(train_dataset, batch_size=config['batch_size'], shuffle=True, collate_fn=custom_triplet_collate)\n",
    "test_dataloader = DataLoader(test_dataset, batch_size=config['batch_size'], shuffle=False, collate_fn=custom_triplet_collate)\n",
    "eval_dataloader = DataLoader(eval_dataset, batch_size=config['batch_size'], shuffle=False, collate_fn=custom_triplet_collate)\n",
    "\n",
    "# Create model\n",
    "metadata = (\n",
    "    node_spec.value,\n",
    "    edge_spec.value\n",
    ")\n",
    "config['node_spec'] = metadata[0]\n",
    "config['edge_spec'] = metadata[1]\n",
    "\n",
    "model = model_class(config['hidden_channels'], config['out_channels'], num_heads=config['num_heads'], dropout_p=config['dropout_p']).to(device)\n",
    "optimizer = Adam(model.parameters(), lr=config['learning_rate'], weight_decay=config['weight_decay'])"
   ],
   "id": "62ef1028a5c5fd5d",
   "outputs": [
    {
     "name": "stderr",
     "output_type": "stream",
     "text": [
      "2024-12-11 19:37:18,567 - DatabaseWrapper - INFO - Connecting to the database ...\n",
      "2024-12-11 19:37:18,567 - DatabaseWrapper - INFO - Database ready.\n"
     ]
    },
    {
     "name": "stdout",
     "output_type": "stream",
     "text": [
      "Preparing triplets...\n",
      "Loading triplets...\n",
      "Loaded 5026 triplets.\n",
      "Train size: 3995, Test size: 706, Eval size: 325\n"
     ]
    }
   ],
   "execution_count": 3
  },
  {
   "metadata": {
    "ExecuteTime": {
     "end_time": "2024-12-11T20:12:08.317753Z",
     "start_time": "2024-12-11T18:37:18.757977Z"
    }
   },
   "cell_type": "code",
   "source": [
    "num_epochs = config['num_epochs']\n",
    "results = defaultdict(list)\n",
    "\n",
    "current_batch = 1\n",
    "\n",
    "for epoch in range(1, num_epochs + 1):\n",
    "    print(f\"=== Epoch {epoch}/{num_epochs} ======================\")\n",
    "    epoch_marker_pos = list(range(0, len(train_dataloader) * epoch, len(train_dataloader)))\n",
    "    current_batch = 1\n",
    "    for batch_anchor, batch_pos, batch_neg in tqdm(train_dataloader, desc=f\"Epoch {epoch}/{num_epochs}\"):\n",
    "        if batch_anchor is None or batch_pos is None or batch_neg is None:\n",
    "            continue\n",
    "        \n",
    "        if current_batch == 1 or current_batch == len(train_dataloader) // 2:\n",
    "            print(f\"___ Current Batch {current_batch}/{len(train_dataloader)} _________________________\")\n",
    "            # Model testing\n",
    "            print(\"    Test Results:\")\n",
    "            test_loss, test_num_correct, test_correct_pos_val, test_correct_neg_val, test_precision, test_recall, test_F1 = test_and_eval(\n",
    "                model=model,\n",
    "                loss_fn=loss_fn,\n",
    "                dataloader=test_dataloader,\n",
    "                margin=config['margin']\n",
    "            )\n",
    "            results['test_total_loss'].append(test_loss)\n",
    "            results['test_accuracies'].append(test_num_correct)\n",
    "            results['test_accuracies_correct_pos'].append(test_correct_pos_val)\n",
    "            results['test_accuracies_correct_neg'].append(test_correct_neg_val)\n",
    "            results['test_precision'].append(test_precision)\n",
    "            results['test_recall'].append(test_recall)\n",
    "            results['test_F1'].append(test_F1)\n",
    "    \n",
    "            plot_losses(\n",
    "                losses=[results['test_total_loss']], \n",
    "                epoch_len=2, \n",
    "                plot_title='Test Loss', \n",
    "                plot_file=result_folder_path + '/test_loss.png', \n",
    "                line_labels=[\"Triplet Loss\"]\n",
    "            )\n",
    "            \n",
    "            plot_losses(\n",
    "                [results['test_accuracies'], results['test_accuracies_correct_pos'], results['test_accuracies_correct_neg']],\n",
    "                epoch_len=2,\n",
    "                plot_title='Test Accuracy',\n",
    "                x_label='Test Iterations',\n",
    "                y_label='Accuracy',\n",
    "                line_labels=['Total Accuracy', 'Correct Pos', 'Correct Neg'],\n",
    "                plot_file=result_folder_path + '/test_accuracy.png'\n",
    "            )\n",
    "            \n",
    "            # Model evaluation\n",
    "            print(\"    Eval Results:\")\n",
    "            eval_loss, eval_num_correct, eval_correct_pos_val, eval_correct_neg_val, eval_precision, eval_recall, eval_F1 = test_and_eval(\n",
    "                model=model,\n",
    "                loss_fn=loss_fn,\n",
    "                dataloader=eval_dataloader,\n",
    "                margin=config['margin']\n",
    "            )\n",
    "            results['eval_total_loss'].append(eval_loss)\n",
    "            results['eval_accuracies'].append(eval_num_correct)\n",
    "            results['eval_accuracies_correct_pos'].append(eval_correct_pos_val)\n",
    "            results['eval_accuracies_correct_neg'].append(eval_correct_neg_val)\n",
    "            results['eval_precision'].append(eval_precision)\n",
    "            results['eval_recall'].append(eval_recall)\n",
    "            results['eval_F1'].append(eval_F1)\n",
    "            \n",
    "            plot_losses(\n",
    "                losses=[results['eval_total_loss']], \n",
    "                epoch_len=2, \n",
    "                plot_title='Evaluation Loss', \n",
    "                plot_file=result_folder_path + '/eval_loss.png', \n",
    "                line_labels=[\"Triplet Loss\"]\n",
    "            )\n",
    "            \n",
    "            plot_losses(\n",
    "                [results['eval_accuracies'], results['eval_accuracies_correct_pos'], results['eval_accuracies_correct_neg']], \n",
    "                epoch_len=2, \n",
    "                plot_title='Evaluation Accuracy', \n",
    "                x_label='Eval Iterations',\n",
    "                y_label='Accuracy',\n",
    "                line_labels=['Total Accuracy', 'Correct Pos', 'Correct Neg'],\n",
    "                plot_file=result_folder_path + '/eval_accuracy.png'\n",
    "            )\n",
    "            \n",
    "            # Save config and training results\n",
    "            config['results'] = results\n",
    "            save_dict_to_json(config, result_folder_path + '/training_data.json')\n",
    "            \n",
    "            # Save model if loss has decreased\n",
    "            if len(results['eval_accuracies']) > 1 and results['eval_accuracies'][-1] > max(results['eval_accuracies'][:-1]):\n",
    "                print(f\"Saving model at epoch {epoch}...\")\n",
    "                torch.save(model.state_dict(), result_folder_path + '/gat_encoder.pt')\n",
    "            \n",
    "        loss = train(\n",
    "            model=model,\n",
    "            loss_fn=loss_fn,\n",
    "            batch_anchor=batch_anchor,\n",
    "            batch_pos=batch_pos,\n",
    "            batch_neg=batch_neg,\n",
    "            optimizer=optimizer\n",
    "        )\n",
    "        results['train_loss'].append(loss)\n",
    "        \n",
    "        plot_loss(results['train_loss'], epoch_len=len(train_dataloader), plot_title='Training Loss', plot_avg=True, plot_file=result_folder_path + '/train_loss.png')\n",
    "        current_batch += 1"
   ],
   "id": "c3b28cd52881796",
   "outputs": [
    {
     "name": "stdout",
     "output_type": "stream",
     "text": [
      "=== Epoch 1/10 ======================\n"
     ]
    },
    {
     "data": {
      "text/plain": [
       "Epoch 1/10:   0%|          | 0/125 [00:00<?, ?it/s]"
      ],
      "application/vnd.jupyter.widget-view+json": {
       "version_major": 2,
       "version_minor": 0,
       "model_id": "43e1b1cf729448f0b184d12fe45bd171"
      }
     },
     "metadata": {},
     "output_type": "display_data"
    },
    {
     "name": "stdout",
     "output_type": "stream",
     "text": [
      "___ Current Batch 1/125 _________________________\n",
      "    Test Results:\n",
      "        Correct positive: 706 (100.00%), Correct negative: 0 (0.00%)\n",
      "        Total correct: 706 (50.00%)\n",
      "        Test/Eval Loss: 0.9895, Test/Eval Accuracy: 0.5000\n",
      "        Precision: 0.5000, Recall: 1.0000, F1: 0.6667\n",
      "    Eval Results:\n",
      "        Correct positive: 325 (100.00%), Correct negative: 0 (0.00%)\n",
      "        Total correct: 325 (50.00%)\n",
      "        Test/Eval Loss: 1.0156, Test/Eval Accuracy: 0.5000\n",
      "        Precision: 0.5000, Recall: 1.0000, F1: 0.6667\n",
      "___ Current Batch 62/125 _________________________\n",
      "    Test Results:\n",
      "        Correct positive: 516 (73.09%), Correct negative: 481 (68.13%)\n",
      "        Total correct: 997 (70.61%)\n",
      "        Test/Eval Loss: 0.5849, Test/Eval Accuracy: 0.7061\n",
      "        Precision: 0.6964, Recall: 0.7309, F1: 0.7132\n",
      "    Eval Results:\n",
      "        Correct positive: 193 (59.38%), Correct negative: 211 (64.92%)\n",
      "        Total correct: 404 (62.15%)\n",
      "        Test/Eval Loss: 0.6696, Test/Eval Accuracy: 0.6215\n",
      "        Precision: 0.6287, Recall: 0.5938, F1: 0.6108\n",
      "Saving model at epoch 1...\n",
      "=== Epoch 2/10 ======================\n"
     ]
    },
    {
     "data": {
      "text/plain": [
       "Epoch 2/10:   0%|          | 0/125 [00:00<?, ?it/s]"
      ],
      "application/vnd.jupyter.widget-view+json": {
       "version_major": 2,
       "version_minor": 0,
       "model_id": "21b73c7623334e65b23cf68662b91092"
      }
     },
     "metadata": {},
     "output_type": "display_data"
    },
    {
     "name": "stdout",
     "output_type": "stream",
     "text": [
      "___ Current Batch 1/125 _________________________\n",
      "    Test Results:\n",
      "        Correct positive: 589 (83.43%), Correct negative: 442 (62.61%)\n",
      "        Total correct: 1031 (73.02%)\n",
      "        Test/Eval Loss: 0.5270, Test/Eval Accuracy: 0.7302\n",
      "        Precision: 0.6905, Recall: 0.8343, F1: 0.7556\n",
      "    Eval Results:\n",
      "        Correct positive: 267 (82.15%), Correct negative: 119 (36.62%)\n",
      "        Total correct: 386 (59.38%)\n",
      "        Test/Eval Loss: 0.8170, Test/Eval Accuracy: 0.5938\n",
      "        Precision: 0.5645, Recall: 0.8215, F1: 0.6692\n",
      "___ Current Batch 62/125 _________________________\n",
      "    Test Results:\n",
      "        Correct positive: 613 (86.83%), Correct negative: 411 (58.22%)\n",
      "        Total correct: 1024 (72.52%)\n",
      "        Test/Eval Loss: 0.4987, Test/Eval Accuracy: 0.7252\n",
      "        Precision: 0.6751, Recall: 0.8683, F1: 0.7596\n",
      "    Eval Results:\n",
      "        Correct positive: 237 (72.92%), Correct negative: 115 (35.38%)\n",
      "        Total correct: 352 (54.15%)\n",
      "        Test/Eval Loss: 0.8813, Test/Eval Accuracy: 0.5415\n",
      "        Precision: 0.5302, Recall: 0.7292, F1: 0.6140\n",
      "=== Epoch 3/10 ======================\n"
     ]
    },
    {
     "data": {
      "text/plain": [
       "Epoch 3/10:   0%|          | 0/125 [00:00<?, ?it/s]"
      ],
      "application/vnd.jupyter.widget-view+json": {
       "version_major": 2,
       "version_minor": 0,
       "model_id": "77cded2673fe419e8475a7faee6dc3e9"
      }
     },
     "metadata": {},
     "output_type": "display_data"
    },
    {
     "name": "stdout",
     "output_type": "stream",
     "text": [
      "___ Current Batch 1/125 _________________________\n",
      "    Test Results:\n",
      "        Correct positive: 628 (88.95%), Correct negative: 454 (64.31%)\n",
      "        Total correct: 1082 (76.63%)\n",
      "        Test/Eval Loss: 0.4431, Test/Eval Accuracy: 0.7663\n",
      "        Precision: 0.7136, Recall: 0.8895, F1: 0.7919\n",
      "    Eval Results:\n",
      "        Correct positive: 226 (69.54%), Correct negative: 139 (42.77%)\n",
      "        Total correct: 365 (56.15%)\n",
      "        Test/Eval Loss: 0.7953, Test/Eval Accuracy: 0.5615\n",
      "        Precision: 0.5485, Recall: 0.6954, F1: 0.6133\n",
      "___ Current Batch 62/125 _________________________\n",
      "    Test Results:\n",
      "        Correct positive: 622 (88.10%), Correct negative: 409 (57.93%)\n",
      "        Total correct: 1031 (73.02%)\n",
      "        Test/Eval Loss: 0.4881, Test/Eval Accuracy: 0.7302\n",
      "        Precision: 0.6768, Recall: 0.8810, F1: 0.7655\n",
      "    Eval Results:\n",
      "        Correct positive: 233 (71.69%), Correct negative: 142 (43.69%)\n",
      "        Total correct: 375 (57.69%)\n",
      "        Test/Eval Loss: 0.8324, Test/Eval Accuracy: 0.5769\n",
      "        Precision: 0.5601, Recall: 0.7169, F1: 0.6289\n",
      "=== Epoch 4/10 ======================\n"
     ]
    },
    {
     "data": {
      "text/plain": [
       "Epoch 4/10:   0%|          | 0/125 [00:00<?, ?it/s]"
      ],
      "application/vnd.jupyter.widget-view+json": {
       "version_major": 2,
       "version_minor": 0,
       "model_id": "2451b0b136d3486c8b5570fb948aca4a"
      }
     },
     "metadata": {},
     "output_type": "display_data"
    },
    {
     "name": "stdout",
     "output_type": "stream",
     "text": [
      "___ Current Batch 1/125 _________________________\n",
      "    Test Results:\n",
      "        Correct positive: 627 (88.81%), Correct negative: 402 (56.94%)\n",
      "        Total correct: 1029 (72.88%)\n",
      "        Test/Eval Loss: 0.5003, Test/Eval Accuracy: 0.7288\n",
      "        Precision: 0.6735, Recall: 0.8881, F1: 0.7660\n",
      "    Eval Results:\n",
      "        Correct positive: 265 (81.54%), Correct negative: 128 (39.38%)\n",
      "        Total correct: 393 (60.46%)\n",
      "        Test/Eval Loss: 0.6966, Test/Eval Accuracy: 0.6046\n",
      "        Precision: 0.5736, Recall: 0.8154, F1: 0.6734\n",
      "___ Current Batch 62/125 _________________________\n",
      "    Test Results:\n",
      "        Correct positive: 639 (90.51%), Correct negative: 432 (61.19%)\n",
      "        Total correct: 1071 (75.85%)\n",
      "        Test/Eval Loss: 0.4391, Test/Eval Accuracy: 0.7585\n",
      "        Precision: 0.6999, Recall: 0.9051, F1: 0.7894\n",
      "    Eval Results:\n",
      "        Correct positive: 209 (64.31%), Correct negative: 132 (40.62%)\n",
      "        Total correct: 341 (52.46%)\n",
      "        Test/Eval Loss: 0.9238, Test/Eval Accuracy: 0.5246\n",
      "        Precision: 0.5199, Recall: 0.6431, F1: 0.5750\n",
      "=== Epoch 5/10 ======================\n"
     ]
    },
    {
     "data": {
      "text/plain": [
       "Epoch 5/10:   0%|          | 0/125 [00:00<?, ?it/s]"
      ],
      "application/vnd.jupyter.widget-view+json": {
       "version_major": 2,
       "version_minor": 0,
       "model_id": "2c53832ad8844a3aa6f2144308e83a08"
      }
     },
     "metadata": {},
     "output_type": "display_data"
    },
    {
     "name": "stdout",
     "output_type": "stream",
     "text": [
      "___ Current Batch 1/125 _________________________\n",
      "    Test Results:\n",
      "        Correct positive: 648 (91.78%), Correct negative: 411 (58.22%)\n",
      "        Total correct: 1059 (75.00%)\n",
      "        Test/Eval Loss: 0.4442, Test/Eval Accuracy: 0.7500\n",
      "        Precision: 0.6872, Recall: 0.9178, F1: 0.7859\n",
      "    Eval Results:\n",
      "        Correct positive: 245 (75.38%), Correct negative: 108 (33.23%)\n",
      "        Total correct: 353 (54.31%)\n",
      "        Test/Eval Loss: 0.8873, Test/Eval Accuracy: 0.5431\n",
      "        Precision: 0.5303, Recall: 0.7538, F1: 0.6226\n",
      "___ Current Batch 62/125 _________________________\n",
      "    Test Results:\n",
      "        Correct positive: 643 (91.08%), Correct negative: 386 (54.67%)\n",
      "        Total correct: 1029 (72.88%)\n",
      "        Test/Eval Loss: 0.4768, Test/Eval Accuracy: 0.7288\n",
      "        Precision: 0.6677, Recall: 0.9108, F1: 0.7705\n",
      "    Eval Results:\n",
      "        Correct positive: 245 (75.38%), Correct negative: 95 (29.23%)\n",
      "        Total correct: 340 (52.31%)\n",
      "        Test/Eval Loss: 0.8740, Test/Eval Accuracy: 0.5231\n",
      "        Precision: 0.5158, Recall: 0.7538, F1: 0.6125\n",
      "=== Epoch 6/10 ======================\n"
     ]
    },
    {
     "data": {
      "text/plain": [
       "Epoch 6/10:   0%|          | 0/125 [00:00<?, ?it/s]"
      ],
      "application/vnd.jupyter.widget-view+json": {
       "version_major": 2,
       "version_minor": 0,
       "model_id": "b727eda52cd44036a4efb291e682094b"
      }
     },
     "metadata": {},
     "output_type": "display_data"
    },
    {
     "name": "stdout",
     "output_type": "stream",
     "text": [
      "___ Current Batch 1/125 _________________________\n",
      "    Test Results:\n",
      "        Correct positive: 655 (92.78%), Correct negative: 389 (55.10%)\n",
      "        Total correct: 1044 (73.94%)\n",
      "        Test/Eval Loss: 0.4804, Test/Eval Accuracy: 0.7394\n",
      "        Precision: 0.6739, Recall: 0.9278, F1: 0.7807\n",
      "    Eval Results:\n",
      "        Correct positive: 177 (54.46%), Correct negative: 83 (25.54%)\n",
      "        Total correct: 260 (40.00%)\n",
      "        Test/Eval Loss: 1.1309, Test/Eval Accuracy: 0.4000\n",
      "        Precision: 0.4224, Recall: 0.5446, F1: 0.4758\n",
      "___ Current Batch 62/125 _________________________\n",
      "    Test Results:\n",
      "        Correct positive: 641 (90.79%), Correct negative: 431 (61.05%)\n",
      "        Total correct: 1072 (75.92%)\n",
      "        Test/Eval Loss: 0.4357, Test/Eval Accuracy: 0.7592\n",
      "        Precision: 0.6998, Recall: 0.9079, F1: 0.7904\n",
      "    Eval Results:\n",
      "        Correct positive: 124 (38.15%), Correct negative: 153 (47.08%)\n",
      "        Total correct: 277 (42.62%)\n",
      "        Test/Eval Loss: 1.2343, Test/Eval Accuracy: 0.4262\n",
      "        Precision: 0.4189, Recall: 0.3815, F1: 0.3994\n",
      "=== Epoch 7/10 ======================\n"
     ]
    },
    {
     "data": {
      "text/plain": [
       "Epoch 7/10:   0%|          | 0/125 [00:00<?, ?it/s]"
      ],
      "application/vnd.jupyter.widget-view+json": {
       "version_major": 2,
       "version_minor": 0,
       "model_id": "92346165ed964c08b66a8dae77e0ff1c"
      }
     },
     "metadata": {},
     "output_type": "display_data"
    },
    {
     "name": "stdout",
     "output_type": "stream",
     "text": [
      "___ Current Batch 1/125 _________________________\n",
      "    Test Results:\n",
      "        Correct positive: 601 (85.13%), Correct negative: 447 (63.31%)\n",
      "        Total correct: 1048 (74.22%)\n",
      "        Test/Eval Loss: 0.4475, Test/Eval Accuracy: 0.7422\n",
      "        Precision: 0.6988, Recall: 0.8513, F1: 0.7676\n",
      "    Eval Results:\n",
      "        Correct positive: 175 (53.85%), Correct negative: 131 (40.31%)\n",
      "        Total correct: 306 (47.08%)\n",
      "        Test/Eval Loss: 1.0200, Test/Eval Accuracy: 0.4708\n",
      "        Precision: 0.4743, Recall: 0.5385, F1: 0.5043\n",
      "___ Current Batch 62/125 _________________________\n",
      "    Test Results:\n",
      "        Correct positive: 643 (91.08%), Correct negative: 341 (48.30%)\n",
      "        Total correct: 984 (69.69%)\n",
      "        Test/Eval Loss: 0.5344, Test/Eval Accuracy: 0.6969\n",
      "        Precision: 0.6379, Recall: 0.9108, F1: 0.7503\n",
      "    Eval Results:\n",
      "        Correct positive: 116 (35.69%), Correct negative: 82 (25.23%)\n",
      "        Total correct: 198 (30.46%)\n",
      "        Test/Eval Loss: 1.4329, Test/Eval Accuracy: 0.3046\n",
      "        Precision: 0.3231, Recall: 0.3569, F1: 0.3392\n",
      "=== Epoch 8/10 ======================\n"
     ]
    },
    {
     "data": {
      "text/plain": [
       "Epoch 8/10:   0%|          | 0/125 [00:00<?, ?it/s]"
      ],
      "application/vnd.jupyter.widget-view+json": {
       "version_major": 2,
       "version_minor": 0,
       "model_id": "f35f94fc9b384c61898741e43917018a"
      }
     },
     "metadata": {},
     "output_type": "display_data"
    },
    {
     "name": "stdout",
     "output_type": "stream",
     "text": [
      "___ Current Batch 1/125 _________________________\n",
      "    Test Results:\n",
      "        Correct positive: 673 (95.33%), Correct negative: 261 (36.97%)\n",
      "        Total correct: 934 (66.15%)\n",
      "        Test/Eval Loss: 0.5753, Test/Eval Accuracy: 0.6615\n",
      "        Precision: 0.6020, Recall: 0.9533, F1: 0.7379\n",
      "    Eval Results:\n",
      "        Correct positive: 264 (81.23%), Correct negative: 54 (16.62%)\n",
      "        Total correct: 318 (48.92%)\n",
      "        Test/Eval Loss: 1.0323, Test/Eval Accuracy: 0.4892\n",
      "        Precision: 0.4935, Recall: 0.8123, F1: 0.6140\n",
      "___ Current Batch 62/125 _________________________\n",
      "    Test Results:\n",
      "        Correct positive: 660 (93.48%), Correct negative: 321 (45.47%)\n",
      "        Total correct: 981 (69.48%)\n",
      "        Test/Eval Loss: 0.5196, Test/Eval Accuracy: 0.6948\n",
      "        Precision: 0.6316, Recall: 0.9348, F1: 0.7539\n",
      "    Eval Results:\n",
      "        Correct positive: 284 (87.38%), Correct negative: 66 (20.31%)\n",
      "        Total correct: 350 (53.85%)\n",
      "        Test/Eval Loss: 0.8382, Test/Eval Accuracy: 0.5385\n",
      "        Precision: 0.5230, Recall: 0.8738, F1: 0.6544\n",
      "=== Epoch 9/10 ======================\n"
     ]
    },
    {
     "data": {
      "text/plain": [
       "Epoch 9/10:   0%|          | 0/125 [00:00<?, ?it/s]"
      ],
      "application/vnd.jupyter.widget-view+json": {
       "version_major": 2,
       "version_minor": 0,
       "model_id": "05cd15e6197749159395adc0272c7bff"
      }
     },
     "metadata": {},
     "output_type": "display_data"
    },
    {
     "name": "stdout",
     "output_type": "stream",
     "text": [
      "___ Current Batch 1/125 _________________________\n",
      "    Test Results:\n",
      "        Correct positive: 661 (93.63%), Correct negative: 359 (50.85%)\n",
      "        Total correct: 1020 (72.24%)\n",
      "        Test/Eval Loss: 0.4966, Test/Eval Accuracy: 0.7224\n",
      "        Precision: 0.6558, Recall: 0.9363, F1: 0.7713\n",
      "    Eval Results:\n",
      "        Correct positive: 208 (64.00%), Correct negative: 115 (35.38%)\n",
      "        Total correct: 323 (49.69%)\n",
      "        Test/Eval Loss: 1.0020, Test/Eval Accuracy: 0.4969\n",
      "        Precision: 0.4976, Recall: 0.6400, F1: 0.5599\n",
      "___ Current Batch 62/125 _________________________\n",
      "    Test Results:\n",
      "        Correct positive: 672 (95.18%), Correct negative: 362 (51.27%)\n",
      "        Total correct: 1034 (73.23%)\n",
      "        Test/Eval Loss: 0.4781, Test/Eval Accuracy: 0.7323\n",
      "        Precision: 0.6614, Recall: 0.9518, F1: 0.7805\n",
      "    Eval Results:\n",
      "        Correct positive: 220 (67.69%), Correct negative: 103 (31.69%)\n",
      "        Total correct: 323 (49.69%)\n",
      "        Test/Eval Loss: 1.0426, Test/Eval Accuracy: 0.4969\n",
      "        Precision: 0.4977, Recall: 0.6769, F1: 0.5737\n",
      "=== Epoch 10/10 ======================\n"
     ]
    },
    {
     "data": {
      "text/plain": [
       "Epoch 10/10:   0%|          | 0/125 [00:00<?, ?it/s]"
      ],
      "application/vnd.jupyter.widget-view+json": {
       "version_major": 2,
       "version_minor": 0,
       "model_id": "19f9378a1a734c1ea7a09c2cd87f9c86"
      }
     },
     "metadata": {},
     "output_type": "display_data"
    },
    {
     "name": "stdout",
     "output_type": "stream",
     "text": [
      "___ Current Batch 1/125 _________________________\n",
      "    Test Results:\n",
      "        Correct positive: 609 (86.26%), Correct negative: 466 (66.01%)\n",
      "        Total correct: 1075 (76.13%)\n",
      "        Test/Eval Loss: 0.4461, Test/Eval Accuracy: 0.7613\n",
      "        Precision: 0.7173, Recall: 0.8626, F1: 0.7833\n",
      "    Eval Results:\n",
      "        Correct positive: 176 (54.15%), Correct negative: 124 (38.15%)\n",
      "        Total correct: 300 (46.15%)\n",
      "        Test/Eval Loss: 0.9620, Test/Eval Accuracy: 0.4615\n",
      "        Precision: 0.4668, Recall: 0.5415, F1: 0.5014\n",
      "___ Current Batch 62/125 _________________________\n",
      "    Test Results:\n",
      "        Correct positive: 639 (90.51%), Correct negative: 439 (62.18%)\n",
      "        Total correct: 1078 (76.35%)\n",
      "        Test/Eval Loss: 0.4259, Test/Eval Accuracy: 0.7635\n",
      "        Precision: 0.7053, Recall: 0.9051, F1: 0.7928\n",
      "    Eval Results:\n",
      "        Correct positive: 145 (44.62%), Correct negative: 100 (30.77%)\n",
      "        Total correct: 245 (37.69%)\n",
      "        Test/Eval Loss: 1.2443, Test/Eval Accuracy: 0.3769\n",
      "        Precision: 0.3919, Recall: 0.4462, F1: 0.4173\n"
     ]
    }
   ],
   "execution_count": 4
  }
 ],
 "metadata": {
  "kernelspec": {
   "display_name": "Python 3",
   "language": "python",
   "name": "python3"
  },
  "language_info": {
   "codemirror_mode": {
    "name": "ipython",
    "version": 2
   },
   "file_extension": ".py",
   "mimetype": "text/x-python",
   "name": "python",
   "nbconvert_exporter": "python",
   "pygments_lexer": "ipython2",
   "version": "2.7.6"
  }
 },
 "nbformat": 4,
 "nbformat_minor": 5
}
