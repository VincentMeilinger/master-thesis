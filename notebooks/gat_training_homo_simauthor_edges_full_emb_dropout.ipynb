{
 "cells": [
  {
   "cell_type": "code",
   "id": "initial_id",
   "metadata": {
    "collapsed": true,
    "ExecuteTime": {
     "end_time": "2024-12-05T07:20:37.328811Z",
     "start_time": "2024-12-05T07:20:35.389260Z"
    }
   },
   "source": [
    "from util_homogeneous import *\n",
    "from util import *\n",
    "from training_homogeneous import *\n",
    "from gat_models import *\n",
    "\n",
    "from collections import defaultdict\n",
    "import random\n",
    "import numpy as np\n",
    "from tqdm.notebook import tqdm\n",
    "from torch_geometric.loader import DataLoader\n",
    "from torch.optim import Adam, SGD\n",
    "from torch.nn.modules.loss import TripletMarginLoss\n",
    "\n",
    "from src.shared.database_wrapper import DatabaseWrapper\n",
    "from src.shared.graph_schema import *\n",
    "from src.shared.graph_sampling import GraphSampling\n",
    "\n",
    "random.seed(40)\n",
    "np.random.seed(40)\n",
    "torch.manual_seed(40)\n",
    "torch.cuda.manual_seed_all(40)"
   ],
   "outputs": [
    {
     "name": "stderr",
     "output_type": "stream",
     "text": [
      "/home/vincie/.anaconda3/envs/master/lib/python3.9/site-packages/sentence_transformers/cross_encoder/CrossEncoder.py:11: TqdmExperimentalWarning: Using `tqdm.autonotebook.tqdm` in notebook mode. Use `tqdm.tqdm` instead to force console mode (e.g. in jupyter console)\n",
      "  from tqdm.autonotebook import tqdm, trange\n"
     ]
    }
   ],
   "execution_count": 1
  },
  {
   "metadata": {},
   "cell_type": "markdown",
   "source": "## Configurations",
   "id": "ee4fa502d7e51e50"
  },
  {
   "metadata": {
    "ExecuteTime": {
     "end_time": "2024-12-05T07:20:37.335019Z",
     "start_time": "2024-12-05T07:20:37.331786Z"
    }
   },
   "cell_type": "code",
   "source": [
    "# Graph sampling configurations\n",
    "node_spec = NodeType.PUBLICATION\n",
    "\n",
    "edge_spec = EdgeType.SIM_AUTHOR\n",
    "\n",
    "node_properties = [\n",
    "    'id',\n",
    "    'feature_vec',\n",
    "]\n",
    "\n",
    "database = 'small-graph'\n",
    "gs = GraphSampling(\n",
    "    node_spec=[node_spec],\n",
    "    edge_spec=[edge_spec],\n",
    "    node_properties=node_properties,\n",
    "    database=database\n",
    ")\n",
    "\n",
    "# Model configurations\n",
    "\n",
    "config = {\n",
    "    'experiment': 'GATv2 encoder (with linear layer + dropout) trained on small graph (publication nodes with title and abstract, sim_author edges) using Triplet Loss and full embeddings',\n",
    "    'max_hops': 2,\n",
    "    'model_node_feature': 'feature_vec',  # Node feature to use for GAT encoder\n",
    "    'hidden_channels': 64,\n",
    "    'out_channels': 16,\n",
    "    'num_heads': 8,\n",
    "    'dropout_p': 0.4,\n",
    "    'margin': 1.0,\n",
    "    'optimizer': 'Adam',\n",
    "    'learning_rate': 0.005,\n",
    "    'weight_decay': 5e-4,\n",
    "    'num_epochs': 10,\n",
    "    'batch_size': 32,\n",
    "}\n",
    "\n",
    "model_class = HomoGATv2Encoder\n",
    "loss_fn = TripletMarginLoss(margin=config['margin'])\n",
    "device = torch.device('cuda' if torch.cuda.is_available() else 'cpu')\n",
    "\n",
    "# TODO: Adjust result folder name!\n",
    "result_folder_name = 'homogeneous (similar co-authors) full_emb linear_layer dropout small_graph'\n",
    "result_folder_path = f'./data/results/{result_folder_name}'\n",
    "if not os.path.exists(result_folder_path):\n",
    "    os.mkdir(result_folder_path)"
   ],
   "id": "91b04efb689d61f4",
   "outputs": [
    {
     "name": "stdout",
     "output_type": "stream",
     "text": [
      "Using default edge type: SimilarAuthor for homogeneous graph sampling.\n"
     ]
    }
   ],
   "execution_count": 2
  },
  {
   "metadata": {
    "ExecuteTime": {
     "end_time": "2024-12-05T07:23:32.912305Z",
     "start_time": "2024-12-05T07:20:37.378450Z"
    }
   },
   "cell_type": "code",
   "source": [
    "db = DatabaseWrapper(database=database)\n",
    "data_harvester = TripletDataHarvester(db=db, gs=gs, edge_spec=[edge_spec], config=config, valid_triplets_save_file='valid_triplets_small_graph_simauthor', transformer_model='sentence-transformers/all-MiniLM-L6-v2')\n",
    "\n",
    "\n",
    "# Split the pairs into train and test\n",
    "\n",
    "train_size = int(0.85 * len(data_harvester.triplets))\n",
    "test_size = int(0.1 * len(data_harvester.triplets))\n",
    "eval_size = len(data_harvester.triplets) - train_size - test_size\n",
    "\n",
    "# Harvest the evaluation triplets first, since triplets are ordered by author. This will ensure that the evaluation set has authors not seen in the training set.\n",
    "eval_triplets = data_harvester.triplets[:eval_size]\n",
    "\n",
    "train_test_triplets = data_harvester.triplets[eval_size:]\n",
    "random.shuffle(train_test_triplets)\n",
    "\n",
    "train_triplets = train_test_triplets[:train_size]\n",
    "test_triplets = train_test_triplets[train_size:]\n",
    "config['train_size'] = len(train_triplets)\n",
    "config['test_size'] = len(test_triplets)\n",
    "config['eval_size'] = len(eval_triplets)\n",
    "\n",
    "print(f\"Train size: {len(train_triplets)}, Test size: {len(test_triplets)}, Eval size: {len(eval_triplets)}\")\n",
    "\n",
    "# Create the datasets from the pairs (distinct pairs for training and testing)\n",
    "train_dataset = HomogeneousGraphTripletDataset(train_triplets, gs, config=config)\n",
    "test_dataset = HomogeneousGraphTripletDataset(test_triplets, gs, config=config)\n",
    "eval_dataset = HomogeneousGraphTripletDataset(eval_triplets, gs, config=config)\n",
    "\n",
    "# Create the DataLoader\n",
    "train_dataloader = DataLoader(train_dataset, batch_size=config['batch_size'], shuffle=True, collate_fn=custom_triplet_collate)\n",
    "test_dataloader = DataLoader(test_dataset, batch_size=config['batch_size'], shuffle=False, collate_fn=custom_triplet_collate)\n",
    "eval_dataloader = DataLoader(eval_dataset, batch_size=config['batch_size'], shuffle=False, collate_fn=custom_triplet_collate)\n",
    "\n",
    "# Create model\n",
    "metadata = (\n",
    "    node_spec.value,\n",
    "    edge_spec.value\n",
    ")\n",
    "config['node_spec'] = metadata[0]\n",
    "config['edge_spec'] = metadata[1]\n",
    "\n",
    "model = model_class(config['hidden_channels'], config['out_channels'], num_heads=config['num_heads'], dropout_p=config['dropout_p']).to(device)\n",
    "optimizer = Adam(model.parameters(), lr=config['learning_rate'], weight_decay=config['weight_decay'])"
   ],
   "id": "62ef1028a5c5fd5d",
   "outputs": [
    {
     "name": "stderr",
     "output_type": "stream",
     "text": [
      "2024-12-05 08:20:37,381 - DatabaseWrapper - INFO - Connecting to the database ...\n",
      "2024-12-05 08:20:37,382 - DatabaseWrapper - INFO - Database ready.\n"
     ]
    },
    {
     "name": "stdout",
     "output_type": "stream",
     "text": [
      "Preparing triplets...\n",
      "Loading triplets...\n",
      "Could not load triplets from file. Generating triplets...\n",
      "Checking data validity...\n",
      "Out of 8865 checked papers, 5525 are valid and 3340 are invalid.\n",
      "Generating hard triplets ...\n"
     ]
    },
    {
     "name": "stderr",
     "output_type": "stream",
     "text": [
      "/home/vincie/.anaconda3/envs/master/lib/python3.9/site-packages/transformers/tokenization_utils_base.py:1601: FutureWarning: `clean_up_tokenization_spaces` was not set. It will be set to `True` by default. This behavior will be depracted in transformers v4.45, and will be then set to `False` by default. For more details check this issue: https://github.com/huggingface/transformers/issues/31884\n",
      "  warnings.warn(\n"
     ]
    },
    {
     "name": "stdout",
     "output_type": "stream",
     "text": [
      "Total triplets generated: 5026. Done.\n",
      "Generated 5026 triplets.\n",
      "Saving triplets...\n",
      "Triplets saved.\n",
      "Train size: 4272, Test size: 502, Eval size: 252\n"
     ]
    }
   ],
   "execution_count": 3
  },
  {
   "metadata": {
    "ExecuteTime": {
     "end_time": "2024-12-05T08:58:26.646204Z",
     "start_time": "2024-12-05T07:23:32.974696Z"
    }
   },
   "cell_type": "code",
   "source": [
    "num_epochs = config['num_epochs']\n",
    "results = defaultdict(list)\n",
    "\n",
    "current_batch = 1\n",
    "\n",
    "for epoch in range(1, num_epochs + 1):\n",
    "    print(f\"=== Epoch {epoch}/{num_epochs} ======================\")\n",
    "    epoch_marker_pos = list(range(0, len(train_dataloader) * epoch, len(train_dataloader)))\n",
    "    current_batch = 1\n",
    "    for batch_anchor, batch_pos, batch_neg in tqdm(train_dataloader, desc=f\"Epoch {epoch}/{num_epochs}\"):\n",
    "        if batch_anchor is None or batch_pos is None or batch_neg is None:\n",
    "            continue\n",
    "        \n",
    "        if current_batch == 1 or current_batch == len(train_dataloader) // 2:\n",
    "            print(f\"___ Current Batch {current_batch}/{len(train_dataloader)} _________________________\")\n",
    "            # Model testing\n",
    "            print(\"    Test Results:\")\n",
    "            test_loss, test_num_correct, test_correct_pos_val, test_correct_neg_val, test_precision, test_recall, test_F1 = test_and_eval(\n",
    "                model=model,\n",
    "                loss_fn=loss_fn,\n",
    "                dataloader=test_dataloader,\n",
    "                margin=config['margin']\n",
    "            )\n",
    "            results['test_total_loss'].append(test_loss)\n",
    "            results['test_accuracies'].append(test_num_correct)\n",
    "            results['test_accuracies_correct_pos'].append(test_correct_pos_val)\n",
    "            results['test_accuracies_correct_neg'].append(test_correct_neg_val)\n",
    "            results['test_precision'].append(test_precision)\n",
    "            results['test_recall'].append(test_recall)\n",
    "            results['test_F1'].append(test_F1)\n",
    "    \n",
    "            plot_losses(\n",
    "                losses=[results['test_total_loss']], \n",
    "                epoch_len=2, \n",
    "                plot_title='Test Loss', \n",
    "                plot_file=result_folder_path + '/test_loss.png', \n",
    "                line_labels=[\"Triplet Loss\"]\n",
    "            )\n",
    "            \n",
    "            plot_losses(\n",
    "                [results['test_accuracies'], results['test_accuracies_correct_pos'], results['test_accuracies_correct_neg']],\n",
    "                epoch_len=2,\n",
    "                plot_title='Test Accuracy',\n",
    "                x_label='Test Iterations',\n",
    "                y_label='Accuracy',\n",
    "                line_labels=['Total Accuracy', 'Correct Pos', 'Correct Neg'],\n",
    "                plot_file=result_folder_path + '/test_accuracy.png'\n",
    "            )\n",
    "            \n",
    "            # Model evaluation\n",
    "            print(\"    Eval Results:\")\n",
    "            eval_loss, eval_num_correct, eval_correct_pos_val, eval_correct_neg_val, eval_precision, eval_recall, eval_F1 = test_and_eval(\n",
    "                model=model,\n",
    "                loss_fn=loss_fn,\n",
    "                dataloader=eval_dataloader,\n",
    "                margin=config['margin']\n",
    "            )\n",
    "            results['eval_total_loss'].append(eval_loss)\n",
    "            results['eval_accuracies'].append(eval_num_correct)\n",
    "            results['eval_accuracies_correct_pos'].append(eval_correct_pos_val)\n",
    "            results['eval_accuracies_correct_neg'].append(eval_correct_neg_val)\n",
    "            results['eval_precision'].append(eval_precision)\n",
    "            results['eval_recall'].append(eval_recall)\n",
    "            results['eval_F1'].append(eval_F1)\n",
    "            \n",
    "            plot_losses(\n",
    "                losses=[results['eval_total_loss']], \n",
    "                epoch_len=2, \n",
    "                plot_title='Evaluation Loss', \n",
    "                plot_file=result_folder_path + '/eval_loss.png', \n",
    "                line_labels=[\"Triplet Loss\"]\n",
    "            )\n",
    "            \n",
    "            plot_losses(\n",
    "                [results['eval_accuracies'], results['eval_accuracies_correct_pos'], results['eval_accuracies_correct_neg']], \n",
    "                epoch_len=2, \n",
    "                plot_title='Evaluation Accuracy', \n",
    "                x_label='Eval Iterations',\n",
    "                y_label='Accuracy',\n",
    "                line_labels=['Total Accuracy', 'Correct Pos', 'Correct Neg'],\n",
    "                plot_file=result_folder_path + '/eval_accuracy.png'\n",
    "            )\n",
    "            \n",
    "            # Save config and training results\n",
    "            config['results'] = results\n",
    "            save_dict_to_json(config, result_folder_path + '/training_data.json')\n",
    "            \n",
    "        loss = train(\n",
    "            model=model,\n",
    "            loss_fn=loss_fn,\n",
    "            batch_anchor=batch_anchor,\n",
    "            batch_pos=batch_pos,\n",
    "            batch_neg=batch_neg,\n",
    "            optimizer=optimizer\n",
    "        )\n",
    "        results['train_loss'].append(loss)\n",
    "        \n",
    "        plot_loss(results['train_loss'], epoch_len=len(train_dataloader), plot_title='Training Loss', plot_avg=True, plot_file=result_folder_path + '/train_loss.png')\n",
    "        current_batch += 1\n",
    "        \n",
    "    # Save model if loss has decreased\n",
    "    if len(results['test_total_loss']) > 1 and results['test_total_loss'][-1] < min(results['test_total_loss'][:-1]):\n",
    "        print(f\"Saving model at epoch {epoch}...\")\n",
    "        torch.save(model.state_dict(), result_folder_path + '/gat_encoder.pt')"
   ],
   "id": "c3b28cd52881796",
   "outputs": [
    {
     "name": "stdout",
     "output_type": "stream",
     "text": [
      "=== Epoch 1/10 ======================\n"
     ]
    },
    {
     "data": {
      "text/plain": [
       "Epoch 1/10:   0%|          | 0/134 [00:00<?, ?it/s]"
      ],
      "application/vnd.jupyter.widget-view+json": {
       "version_major": 2,
       "version_minor": 0,
       "model_id": "c3bb1ffa77fe48fea20846fdd75a5ff3"
      }
     },
     "metadata": {},
     "output_type": "display_data"
    },
    {
     "name": "stdout",
     "output_type": "stream",
     "text": [
      "___ Current Batch 1/134 _________________________\n",
      "    Test Results:\n",
      "        Correct positive: 502 (100.00%), Correct negative: 0 (0.00%)\n",
      "        Total correct: 502 (50.00%)\n",
      "        Test/Eval Loss: 1.0058, Test/Eval Accuracy: 0.5000\n",
      "        Precision: 0.5000, Recall: 1.0000, F1: 0.6667\n",
      "    Eval Results:\n",
      "        Correct positive: 252 (100.00%), Correct negative: 0 (0.00%)\n",
      "        Total correct: 252 (50.00%)\n",
      "        Test/Eval Loss: 0.9913, Test/Eval Accuracy: 0.5000\n",
      "        Precision: 0.5000, Recall: 1.0000, F1: 0.6667\n",
      "___ Current Batch 67/134 _________________________\n",
      "    Test Results:\n",
      "        Correct positive: 410 (81.67%), Correct negative: 303 (60.36%)\n",
      "        Total correct: 713 (71.02%)\n",
      "        Test/Eval Loss: 0.5516, Test/Eval Accuracy: 0.7102\n",
      "        Precision: 0.6732, Recall: 0.8167, F1: 0.7381\n",
      "    Eval Results:\n",
      "        Correct positive: 199 (78.97%), Correct negative: 102 (40.48%)\n",
      "        Total correct: 301 (59.72%)\n",
      "        Test/Eval Loss: 0.7934, Test/Eval Accuracy: 0.5972\n",
      "        Precision: 0.5702, Recall: 0.7897, F1: 0.6622\n",
      "Saving model at epoch 1...\n",
      "=== Epoch 2/10 ======================\n"
     ]
    },
    {
     "data": {
      "text/plain": [
       "Epoch 2/10:   0%|          | 0/134 [00:00<?, ?it/s]"
      ],
      "application/vnd.jupyter.widget-view+json": {
       "version_major": 2,
       "version_minor": 0,
       "model_id": "1b1a66703aad4501bbf100d5d83e5c46"
      }
     },
     "metadata": {},
     "output_type": "display_data"
    },
    {
     "name": "stdout",
     "output_type": "stream",
     "text": [
      "___ Current Batch 1/134 _________________________\n",
      "    Test Results:\n",
      "        Correct positive: 405 (80.68%), Correct negative: 315 (62.75%)\n",
      "        Total correct: 720 (71.71%)\n",
      "        Test/Eval Loss: 0.5354, Test/Eval Accuracy: 0.7171\n",
      "        Precision: 0.6841, Recall: 0.8068, F1: 0.7404\n",
      "    Eval Results:\n",
      "        Correct positive: 104 (41.27%), Correct negative: 115 (45.63%)\n",
      "        Total correct: 219 (43.45%)\n",
      "        Test/Eval Loss: 1.1212, Test/Eval Accuracy: 0.4345\n",
      "        Precision: 0.4315, Recall: 0.4127, F1: 0.4219\n",
      "___ Current Batch 67/134 _________________________\n",
      "    Test Results:\n",
      "        Correct positive: 416 (82.87%), Correct negative: 353 (70.32%)\n",
      "        Total correct: 769 (76.59%)\n",
      "        Test/Eval Loss: 0.4582, Test/Eval Accuracy: 0.7659\n",
      "        Precision: 0.7363, Recall: 0.8287, F1: 0.7798\n",
      "    Eval Results:\n",
      "        Correct positive: 150 (59.52%), Correct negative: 126 (50.00%)\n",
      "        Total correct: 276 (54.76%)\n",
      "        Test/Eval Loss: 0.9172, Test/Eval Accuracy: 0.5476\n",
      "        Precision: 0.5435, Recall: 0.5952, F1: 0.5682\n",
      "Saving model at epoch 2...\n",
      "=== Epoch 3/10 ======================\n"
     ]
    },
    {
     "data": {
      "text/plain": [
       "Epoch 3/10:   0%|          | 0/134 [00:00<?, ?it/s]"
      ],
      "application/vnd.jupyter.widget-view+json": {
       "version_major": 2,
       "version_minor": 0,
       "model_id": "9ee2053b9f374415b24a0701daf694e1"
      }
     },
     "metadata": {},
     "output_type": "display_data"
    },
    {
     "name": "stdout",
     "output_type": "stream",
     "text": [
      "___ Current Batch 1/134 _________________________\n",
      "    Test Results:\n",
      "        Correct positive: 419 (83.47%), Correct negative: 336 (66.93%)\n",
      "        Total correct: 755 (75.20%)\n",
      "        Test/Eval Loss: 0.4612, Test/Eval Accuracy: 0.7520\n",
      "        Precision: 0.7162, Recall: 0.8347, F1: 0.7709\n",
      "    Eval Results:\n",
      "        Correct positive: 194 (76.98%), Correct negative: 121 (48.02%)\n",
      "        Total correct: 315 (62.50%)\n",
      "        Test/Eval Loss: 0.8221, Test/Eval Accuracy: 0.6250\n",
      "        Precision: 0.5969, Recall: 0.7698, F1: 0.6724\n",
      "___ Current Batch 67/134 _________________________\n",
      "    Test Results:\n",
      "        Correct positive: 427 (85.06%), Correct negative: 302 (60.16%)\n",
      "        Total correct: 729 (72.61%)\n",
      "        Test/Eval Loss: 0.5206, Test/Eval Accuracy: 0.7261\n",
      "        Precision: 0.6810, Recall: 0.8506, F1: 0.7564\n",
      "    Eval Results:\n",
      "        Correct positive: 115 (45.63%), Correct negative: 141 (55.95%)\n",
      "        Total correct: 256 (50.79%)\n",
      "        Test/Eval Loss: 1.0069, Test/Eval Accuracy: 0.5079\n",
      "        Precision: 0.5088, Recall: 0.4563, F1: 0.4812\n",
      "=== Epoch 4/10 ======================\n"
     ]
    },
    {
     "data": {
      "text/plain": [
       "Epoch 4/10:   0%|          | 0/134 [00:00<?, ?it/s]"
      ],
      "application/vnd.jupyter.widget-view+json": {
       "version_major": 2,
       "version_minor": 0,
       "model_id": "2a66d10062c947049ced9899800a9788"
      }
     },
     "metadata": {},
     "output_type": "display_data"
    },
    {
     "name": "stdout",
     "output_type": "stream",
     "text": [
      "___ Current Batch 1/134 _________________________\n",
      "    Test Results:\n",
      "        Correct positive: 443 (88.25%), Correct negative: 312 (62.15%)\n",
      "        Total correct: 755 (75.20%)\n",
      "        Test/Eval Loss: 0.5058, Test/Eval Accuracy: 0.7520\n",
      "        Precision: 0.6998, Recall: 0.8825, F1: 0.7806\n",
      "    Eval Results:\n",
      "        Correct positive: 175 (69.44%), Correct negative: 121 (48.02%)\n",
      "        Total correct: 296 (58.73%)\n",
      "        Test/Eval Loss: 0.8560, Test/Eval Accuracy: 0.5873\n",
      "        Precision: 0.5719, Recall: 0.6944, F1: 0.6272\n",
      "___ Current Batch 67/134 _________________________\n",
      "    Test Results:\n",
      "        Correct positive: 453 (90.24%), Correct negative: 316 (62.95%)\n",
      "        Total correct: 769 (76.59%)\n",
      "        Test/Eval Loss: 0.4188, Test/Eval Accuracy: 0.7659\n",
      "        Precision: 0.7089, Recall: 0.9024, F1: 0.7940\n",
      "    Eval Results:\n",
      "        Correct positive: 139 (55.16%), Correct negative: 136 (53.97%)\n",
      "        Total correct: 275 (54.56%)\n",
      "        Test/Eval Loss: 0.9393, Test/Eval Accuracy: 0.5456\n",
      "        Precision: 0.5451, Recall: 0.5516, F1: 0.5483\n",
      "Saving model at epoch 4...\n",
      "=== Epoch 5/10 ======================\n"
     ]
    },
    {
     "data": {
      "text/plain": [
       "Epoch 5/10:   0%|          | 0/134 [00:00<?, ?it/s]"
      ],
      "application/vnd.jupyter.widget-view+json": {
       "version_major": 2,
       "version_minor": 0,
       "model_id": "659d03be75db4b999ddedc7ba5967cf3"
      }
     },
     "metadata": {},
     "output_type": "display_data"
    },
    {
     "name": "stdout",
     "output_type": "stream",
     "text": [
      "___ Current Batch 1/134 _________________________\n",
      "    Test Results:\n",
      "        Correct positive: 449 (89.44%), Correct negative: 326 (64.94%)\n",
      "        Total correct: 775 (77.19%)\n",
      "        Test/Eval Loss: 0.4303, Test/Eval Accuracy: 0.7719\n",
      "        Precision: 0.7184, Recall: 0.8944, F1: 0.7968\n",
      "    Eval Results:\n",
      "        Correct positive: 195 (77.38%), Correct negative: 156 (61.90%)\n",
      "        Total correct: 351 (69.64%)\n",
      "        Test/Eval Loss: 0.5698, Test/Eval Accuracy: 0.6964\n",
      "        Precision: 0.6701, Recall: 0.7738, F1: 0.7182\n",
      "___ Current Batch 67/134 _________________________\n",
      "    Test Results:\n",
      "        Correct positive: 445 (88.65%), Correct negative: 344 (68.53%)\n",
      "        Total correct: 789 (78.59%)\n",
      "        Test/Eval Loss: 0.3961, Test/Eval Accuracy: 0.7859\n",
      "        Precision: 0.7380, Recall: 0.8865, F1: 0.8054\n",
      "    Eval Results:\n",
      "        Correct positive: 139 (55.16%), Correct negative: 213 (84.52%)\n",
      "        Total correct: 352 (69.84%)\n",
      "        Test/Eval Loss: 0.5533, Test/Eval Accuracy: 0.6984\n",
      "        Precision: 0.7809, Recall: 0.5516, F1: 0.6465\n",
      "Saving model at epoch 5...\n",
      "=== Epoch 6/10 ======================\n"
     ]
    },
    {
     "data": {
      "text/plain": [
       "Epoch 6/10:   0%|          | 0/134 [00:00<?, ?it/s]"
      ],
      "application/vnd.jupyter.widget-view+json": {
       "version_major": 2,
       "version_minor": 0,
       "model_id": "b491941eafba471ca98ec2482a6a8dd2"
      }
     },
     "metadata": {},
     "output_type": "display_data"
    },
    {
     "name": "stdout",
     "output_type": "stream",
     "text": [
      "___ Current Batch 1/134 _________________________\n",
      "    Test Results:\n",
      "        Correct positive: 462 (92.03%), Correct negative: 286 (56.97%)\n",
      "        Total correct: 748 (74.50%)\n",
      "        Test/Eval Loss: 0.4659, Test/Eval Accuracy: 0.7450\n",
      "        Precision: 0.6814, Recall: 0.9203, F1: 0.7831\n",
      "    Eval Results:\n",
      "        Correct positive: 169 (67.06%), Correct negative: 221 (87.70%)\n",
      "        Total correct: 390 (77.38%)\n",
      "        Test/Eval Loss: 0.3929, Test/Eval Accuracy: 0.7738\n",
      "        Precision: 0.8450, Recall: 0.6706, F1: 0.7478\n",
      "___ Current Batch 67/134 _________________________\n",
      "    Test Results:\n",
      "        Correct positive: 442 (88.05%), Correct negative: 302 (60.16%)\n",
      "        Total correct: 744 (74.10%)\n",
      "        Test/Eval Loss: 0.4819, Test/Eval Accuracy: 0.7410\n",
      "        Precision: 0.6885, Recall: 0.8805, F1: 0.7727\n",
      "    Eval Results:\n",
      "        Correct positive: 147 (58.33%), Correct negative: 152 (60.32%)\n",
      "        Total correct: 299 (59.33%)\n",
      "        Test/Eval Loss: 0.8459, Test/Eval Accuracy: 0.5933\n",
      "        Precision: 0.5951, Recall: 0.5833, F1: 0.5892\n",
      "=== Epoch 7/10 ======================\n"
     ]
    },
    {
     "data": {
      "text/plain": [
       "Epoch 7/10:   0%|          | 0/134 [00:00<?, ?it/s]"
      ],
      "application/vnd.jupyter.widget-view+json": {
       "version_major": 2,
       "version_minor": 0,
       "model_id": "933180f644914f9cb4bfaef46483a4ff"
      }
     },
     "metadata": {},
     "output_type": "display_data"
    },
    {
     "name": "stdout",
     "output_type": "stream",
     "text": [
      "___ Current Batch 1/134 _________________________\n",
      "    Test Results:\n",
      "        Correct positive: 466 (92.83%), Correct negative: 294 (58.57%)\n",
      "        Total correct: 760 (75.70%)\n",
      "        Test/Eval Loss: 0.4570, Test/Eval Accuracy: 0.7570\n",
      "        Precision: 0.6914, Recall: 0.9283, F1: 0.7925\n",
      "    Eval Results:\n",
      "        Correct positive: 207 (82.14%), Correct negative: 83 (32.94%)\n",
      "        Total correct: 290 (57.54%)\n",
      "        Test/Eval Loss: 0.8486, Test/Eval Accuracy: 0.5754\n",
      "        Precision: 0.5505, Recall: 0.8214, F1: 0.6592\n",
      "___ Current Batch 67/134 _________________________\n",
      "    Test Results:\n",
      "        Correct positive: 456 (90.84%), Correct negative: 284 (56.57%)\n",
      "        Total correct: 740 (73.71%)\n",
      "        Test/Eval Loss: 0.4986, Test/Eval Accuracy: 0.7371\n",
      "        Precision: 0.6766, Recall: 0.9084, F1: 0.7755\n",
      "    Eval Results:\n",
      "        Correct positive: 209 (82.94%), Correct negative: 100 (39.68%)\n",
      "        Total correct: 309 (61.31%)\n",
      "        Test/Eval Loss: 0.7379, Test/Eval Accuracy: 0.6131\n",
      "        Precision: 0.5789, Recall: 0.8294, F1: 0.6819\n",
      "=== Epoch 8/10 ======================\n"
     ]
    },
    {
     "data": {
      "text/plain": [
       "Epoch 8/10:   0%|          | 0/134 [00:00<?, ?it/s]"
      ],
      "application/vnd.jupyter.widget-view+json": {
       "version_major": 2,
       "version_minor": 0,
       "model_id": "af5ec679bfa947e3b0a8e21026ca395b"
      }
     },
     "metadata": {},
     "output_type": "display_data"
    },
    {
     "name": "stdout",
     "output_type": "stream",
     "text": [
      "___ Current Batch 1/134 _________________________\n",
      "    Test Results:\n",
      "        Correct positive: 463 (92.23%), Correct negative: 303 (60.36%)\n",
      "        Total correct: 766 (76.29%)\n",
      "        Test/Eval Loss: 0.4419, Test/Eval Accuracy: 0.7629\n",
      "        Precision: 0.6994, Recall: 0.9223, F1: 0.7955\n",
      "    Eval Results:\n",
      "        Correct positive: 107 (42.46%), Correct negative: 216 (85.71%)\n",
      "        Total correct: 323 (64.09%)\n",
      "        Test/Eval Loss: 0.6279, Test/Eval Accuracy: 0.6409\n",
      "        Precision: 0.7483, Recall: 0.4246, F1: 0.5418\n",
      "___ Current Batch 67/134 _________________________\n",
      "    Test Results:\n",
      "        Correct positive: 468 (93.23%), Correct negative: 293 (58.37%)\n",
      "        Total correct: 761 (75.80%)\n",
      "        Test/Eval Loss: 0.4268, Test/Eval Accuracy: 0.7580\n",
      "        Precision: 0.6913, Recall: 0.9323, F1: 0.7939\n",
      "    Eval Results:\n",
      "        Correct positive: 226 (89.68%), Correct negative: 179 (71.03%)\n",
      "        Total correct: 405 (80.36%)\n",
      "        Test/Eval Loss: 0.3956, Test/Eval Accuracy: 0.8036\n",
      "        Precision: 0.7559, Recall: 0.8968, F1: 0.8203\n",
      "=== Epoch 9/10 ======================\n"
     ]
    },
    {
     "data": {
      "text/plain": [
       "Epoch 9/10:   0%|          | 0/134 [00:00<?, ?it/s]"
      ],
      "application/vnd.jupyter.widget-view+json": {
       "version_major": 2,
       "version_minor": 0,
       "model_id": "7863226bac384307ac325798d7530026"
      }
     },
     "metadata": {},
     "output_type": "display_data"
    },
    {
     "name": "stdout",
     "output_type": "stream",
     "text": [
      "___ Current Batch 1/134 _________________________\n",
      "    Test Results:\n",
      "        Correct positive: 473 (94.22%), Correct negative: 267 (53.19%)\n",
      "        Total correct: 740 (73.71%)\n",
      "        Test/Eval Loss: 0.4527, Test/Eval Accuracy: 0.7371\n",
      "        Precision: 0.6681, Recall: 0.9422, F1: 0.7818\n",
      "    Eval Results:\n",
      "        Correct positive: 190 (75.40%), Correct negative: 129 (51.19%)\n",
      "        Total correct: 319 (63.29%)\n",
      "        Test/Eval Loss: 0.6987, Test/Eval Accuracy: 0.6329\n",
      "        Precision: 0.6070, Recall: 0.7540, F1: 0.6726\n",
      "___ Current Batch 67/134 _________________________\n",
      "    Test Results:\n",
      "        Correct positive: 459 (91.43%), Correct negative: 297 (59.16%)\n",
      "        Total correct: 756 (75.30%)\n",
      "        Test/Eval Loss: 0.4794, Test/Eval Accuracy: 0.7530\n",
      "        Precision: 0.6913, Recall: 0.9143, F1: 0.7873\n",
      "    Eval Results:\n",
      "        Correct positive: 204 (80.95%), Correct negative: 118 (46.83%)\n",
      "        Total correct: 322 (63.89%)\n",
      "        Test/Eval Loss: 0.7073, Test/Eval Accuracy: 0.6389\n",
      "        Precision: 0.6036, Recall: 0.8095, F1: 0.6915\n",
      "=== Epoch 10/10 ======================\n"
     ]
    },
    {
     "data": {
      "text/plain": [
       "Epoch 10/10:   0%|          | 0/134 [00:00<?, ?it/s]"
      ],
      "application/vnd.jupyter.widget-view+json": {
       "version_major": 2,
       "version_minor": 0,
       "model_id": "039e5818d3894c508e0d3cc2f87a347b"
      }
     },
     "metadata": {},
     "output_type": "display_data"
    },
    {
     "name": "stdout",
     "output_type": "stream",
     "text": [
      "___ Current Batch 1/134 _________________________\n",
      "    Test Results:\n",
      "        Correct positive: 454 (90.44%), Correct negative: 331 (65.94%)\n",
      "        Total correct: 785 (78.19%)\n",
      "        Test/Eval Loss: 0.4034, Test/Eval Accuracy: 0.7819\n",
      "        Precision: 0.7264, Recall: 0.9044, F1: 0.8057\n",
      "    Eval Results:\n",
      "        Correct positive: 169 (67.06%), Correct negative: 231 (91.67%)\n",
      "        Total correct: 400 (79.37%)\n",
      "        Test/Eval Loss: 0.4965, Test/Eval Accuracy: 0.7937\n",
      "        Precision: 0.8895, Recall: 0.6706, F1: 0.7647\n",
      "___ Current Batch 67/134 _________________________\n",
      "    Test Results:\n",
      "        Correct positive: 462 (92.03%), Correct negative: 316 (62.95%)\n",
      "        Total correct: 778 (77.49%)\n",
      "        Test/Eval Loss: 0.4306, Test/Eval Accuracy: 0.7749\n",
      "        Precision: 0.7130, Recall: 0.9203, F1: 0.8035\n",
      "    Eval Results:\n",
      "        Correct positive: 172 (68.25%), Correct negative: 159 (63.10%)\n",
      "        Total correct: 331 (65.67%)\n",
      "        Test/Eval Loss: 0.6669, Test/Eval Accuracy: 0.6567\n",
      "        Precision: 0.6491, Recall: 0.6825, F1: 0.6654\n"
     ]
    }
   ],
   "execution_count": 4
  }
 ],
 "metadata": {
  "kernelspec": {
   "display_name": "Python 3",
   "language": "python",
   "name": "python3"
  },
  "language_info": {
   "codemirror_mode": {
    "name": "ipython",
    "version": 2
   },
   "file_extension": ".py",
   "mimetype": "text/x-python",
   "name": "python",
   "nbconvert_exporter": "python",
   "pygments_lexer": "ipython2",
   "version": "2.7.6"
  }
 },
 "nbformat": 4,
 "nbformat_minor": 5
}
