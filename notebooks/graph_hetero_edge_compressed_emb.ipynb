{
 "cells": [
  {
   "cell_type": "code",
   "id": "initial_id",
   "metadata": {
    "collapsed": true,
    "ExecuteTime": {
     "end_time": "2024-10-14T09:04:06.464637Z",
     "start_time": "2024-10-14T09:04:04.754907Z"
    }
   },
   "source": [
    "from sentence_transformers import SentenceTransformer\n",
    "from tqdm.notebook import tqdm\n",
    "from collections import defaultdict\n",
    "import re\n",
    "\n",
    "from src.datasets.who_is_who import WhoIsWhoDataset\n",
    "from src.shared.database_wrapper import DatabaseWrapper\n",
    "from src.shared.graph_schema import NodeType, EdgeType\n",
    "from src.shared.graph_sampling import GraphSampling"
   ],
   "outputs": [
    {
     "name": "stderr",
     "output_type": "stream",
     "text": [
      "/home/vincie/.anaconda3/envs/master/lib/python3.9/site-packages/sentence_transformers/cross_encoder/CrossEncoder.py:11: TqdmExperimentalWarning: Using `tqdm.autonotebook.tqdm` in notebook mode. Use `tqdm.tqdm` instead to force console mode (e.g. in jupyter console)\n",
      "  from tqdm.autonotebook import tqdm, trange\n"
     ]
    }
   ],
   "execution_count": 1
  },
  {
   "metadata": {},
   "cell_type": "markdown",
   "source": "## Configuration",
   "id": "f934f5daf06dbc1d"
  },
  {
   "metadata": {
    "ExecuteTime": {
     "end_time": "2024-10-14T09:35:35.029182Z",
     "start_time": "2024-10-14T09:35:35.027265Z"
    }
   },
   "cell_type": "code",
   "source": [
    "max_iterations = 20000\n",
    "add_true_authors = False\n",
    "link_co_authors = True\n",
    "link_title = False\n",
    "link_abstract = False\n",
    "link_venue = True"
   ],
   "id": "bb1b78124474912c",
   "outputs": [],
   "execution_count": 14
  },
  {
   "metadata": {
    "ExecuteTime": {
     "end_time": "2024-10-14T09:04:08.215181Z",
     "start_time": "2024-10-14T09:04:06.511103Z"
    }
   },
   "cell_type": "code",
   "source": [
    "d\n",
    "db = DatabaseWrapper(database='homogeneous-graph-compressed-emb')\n",
    "db.delete_all_nodes()"
   ],
   "id": "39befe6e82597c35",
   "outputs": [
    {
     "name": "stderr",
     "output_type": "stream",
     "text": [
      "2024-10-14 11:04:06,512 - DatabaseWrapper - INFO - Connecting to the database ...\n",
      "2024-10-14 11:04:06,512 - DatabaseWrapper - INFO - Database ready.\n",
      "2024-10-14 11:04:06,573 - DatabaseWrapper - INFO - Deleted all nodes.\n"
     ]
    }
   ],
   "execution_count": 3
  },
  {
   "metadata": {
    "ExecuteTime": {
     "end_time": "2024-10-14T09:04:17.190265Z",
     "start_time": "2024-10-14T09:04:08.220279Z"
    }
   },
   "cell_type": "code",
   "source": [
    "data = WhoIsWhoDataset.parse_data()\n",
    "train_data = WhoIsWhoDataset.parse_train()"
   ],
   "id": "7b4f2bfe1943d12a",
   "outputs": [],
   "execution_count": 4
  },
  {
   "metadata": {
    "ExecuteTime": {
     "end_time": "2024-10-14T09:04:17.530120Z",
     "start_time": "2024-10-14T09:04:17.275108Z"
    }
   },
   "cell_type": "code",
   "source": [
    "model = SentenceTransformer(\n",
    "    'data/models/all-MiniLM-L6-v2-32dim',\n",
    "    device='cuda'\n",
    ")\n",
    "print(f\"Model dim: {model.get_sentence_embedding_dimension()}\")"
   ],
   "id": "9a313d7d87172b1c",
   "outputs": [
    {
     "name": "stdout",
     "output_type": "stream",
     "text": [
      "Model dim: 32\n"
     ]
    }
   ],
   "execution_count": 5
  },
  {
   "metadata": {},
   "cell_type": "markdown",
   "source": "## Add publication nodes to the graph database",
   "id": "15768f9232b8a006"
  },
  {
   "metadata": {
    "ExecuteTime": {
     "end_time": "2024-10-14T09:04:17.612832Z",
     "start_time": "2024-10-14T09:04:17.610217Z"
    }
   },
   "cell_type": "code",
   "source": [
    "def process_batch(batch):\n",
    "    if not batch[NodeType.PUBLICATION]:\n",
    "        return\n",
    "    title_embs = model.encode(\n",
    "        [node['title'] for node in batch[NodeType.PUBLICATION]]\n",
    "    )\n",
    "    abstract_embs = model.encode(\n",
    "        [node['abstract'] for node in batch[NodeType.PUBLICATION]]\n",
    "    )\n",
    "    venue_embs = model.encode(\n",
    "        [node['venue'] for node in batch[NodeType.PUBLICATION]]\n",
    "    )\n",
    "    for i, node in enumerate(batch[NodeType.PUBLICATION]):\n",
    "        node['title_emb'] = title_embs[i]\n",
    "        node['abstract_emb'] = abstract_embs[i]\n",
    "        node['venue_emb'] = venue_embs[i]\n",
    "        # vertically stack the embeddings\n",
    "        node['feature_vec'] = list(title_embs[i]) + list(abstract_embs[i])\n",
    "    db.merge_nodes(NodeType.PUBLICATION, batch[NodeType.PUBLICATION])\n",
    "    batch[NodeType.PUBLICATION] = []"
   ],
   "id": "fb863533ee3db7cb",
   "outputs": [],
   "execution_count": 6
  },
  {
   "metadata": {
    "ExecuteTime": {
     "end_time": "2024-10-14T09:05:35.392705Z",
     "start_time": "2024-10-14T09:04:17.684640Z"
    }
   },
   "cell_type": "code",
   "source": [
    "batch_nodes = defaultdict(list)\n",
    "current_iteration = 0\n",
    "\n",
    "with tqdm(total=max_iterations) as pbar:\n",
    "    for author_id, values in train_data.items():\n",
    "        papers = values.get('normal_data', [])\n",
    "        papers.extend(values.get('outliers', []))\n",
    "        \n",
    "        if max_iterations is not None and current_iteration >= max_iterations:\n",
    "            break\n",
    "        current_iteration += len(papers)\n",
    "        \n",
    "        for paper_id in papers:\n",
    "            values = data[paper_id]\n",
    "            paper_node = {\n",
    "                'id': values['id'],\n",
    "                'title': values['title'],\n",
    "                'abstract': values['abstract'],\n",
    "                'year': values['year'],\n",
    "                'venue': values['venue'],\n",
    "            }\n",
    "            batch_nodes[NodeType.PUBLICATION].append(paper_node)\n",
    "            \n",
    "            if len(batch_nodes[NodeType.PUBLICATION]) % 1000 == 0:\n",
    "                process_batch(batch_nodes)\n",
    "                \n",
    "            pbar.update(1)\n",
    "        \n",
    "process_batch(batch_nodes)"
   ],
   "id": "29946cd86c709ff8",
   "outputs": [
    {
     "data": {
      "text/plain": [
       "  0%|          | 0/20000 [00:00<?, ?it/s]"
      ],
      "application/vnd.jupyter.widget-view+json": {
       "version_major": 2,
       "version_minor": 0,
       "model_id": "81b02cab46144bb8aed16ca6f9184a70"
      }
     },
     "metadata": {},
     "output_type": "display_data"
    },
    {
     "name": "stderr",
     "output_type": "stream",
     "text": [
      "/home/vincie/.anaconda3/envs/master/lib/python3.9/site-packages/neo4j/_sync/work/result.py:500: UserWarning: Expected a result with a single record, but found multiple.\n",
      "  warn(\"Expected a result with a single record, \"\n"
     ]
    }
   ],
   "execution_count": 7
  },
  {
   "metadata": {},
   "cell_type": "markdown",
   "source": "## Add true author data to the nodes",
   "id": "ebf992fa74894e99"
  },
  {
   "metadata": {
    "ExecuteTime": {
     "end_time": "2024-10-14T09:08:40.862017Z",
     "start_time": "2024-10-14T09:05:35.475153Z"
    }
   },
   "cell_type": "code",
   "source": [
    "def reverse_dict(author_dict):\n",
    "    paper_to_author = {}\n",
    "    for author_id, values in author_dict.items():\n",
    "        normal_papers = values.get('normal_data', [])\n",
    "        for paper_id in normal_papers:\n",
    "            paper_to_author[paper_id] = author_id\n",
    "    return paper_to_author\n",
    "\n",
    "def add_true_authors(db: DatabaseWrapper, train_data):\n",
    "    paper_id_to_author = reverse_dict(train_data)\n",
    "\n",
    "    props = []\n",
    "    with tqdm(total=db.count_nodes(NodeType.PUBLICATION), desc=\"Merging WhoIsWho train_author.json\") as pbar:\n",
    "        for nodes in db.iter_nodes(NodeType.PUBLICATION, ['id']):\n",
    "            for node in nodes:\n",
    "                true_author_id = paper_id_to_author.get(node['id'], '')\n",
    "                true_author_name = train_data.get(true_author_id, {}).get('name', '')\n",
    "                \n",
    "                db.merge_properties(\n",
    "                    type=NodeType.PUBLICATION, \n",
    "                    node_id=node['id'], \n",
    "                    properties={'true_author_id': true_author_id, 'true_author_name': true_author_name}\n",
    "                )\n",
    "                pbar.update(1)\n",
    "\n",
    "if add_true_authors:\n",
    "    add_true_authors(db, train_data)"
   ],
   "id": "9b2f2a4cbd1f8ad1",
   "outputs": [
    {
     "data": {
      "text/plain": [
       "Merging WhoIsWho train_author.json:   0%|          | 0/20034 [00:00<?, ?it/s]"
      ],
      "application/vnd.jupyter.widget-view+json": {
       "version_major": 2,
       "version_minor": 0,
       "model_id": "f37e67bdd18e4bdf8fb5f5acd23d73b5"
      }
     },
     "metadata": {},
     "output_type": "display_data"
    },
    {
     "data": {
      "text/plain": [
       "\"\\n        for pub_id in values['normal_data']:\\n            props.append({'id': pub_id, 'properties': {'true_author': author_name}})\\n        pbar.update(1)\\n        if len(props) > 1000:\\n            db.merge_properties_batch(NodeType.PUBLICATION, props)\\n            props.clear()\\n\\n    if props:\\n        db.merge_properties_batch(NodeType.PUBLICATION, props)\\n\""
      ]
     },
     "execution_count": 8,
     "metadata": {},
     "output_type": "execute_result"
    }
   ],
   "execution_count": 8
  },
  {
   "metadata": {},
   "cell_type": "markdown",
   "source": "## Link nodes based on co-author relationships",
   "id": "f289de4073e4964f"
  },
  {
   "metadata": {
    "ExecuteTime": {
     "end_time": "2024-10-14T09:08:40.978926Z",
     "start_time": "2024-10-14T09:08:40.974245Z"
    }
   },
   "cell_type": "code",
   "source": [
    "def link_co_author_network(db: DatabaseWrapper, node_type: NodeType):\n",
    "    num_nodes = db.count_nodes(node_type)\n",
    "    attrs = ['id']\n",
    "    co_author_map = defaultdict(list)\n",
    "    co_author_overlap = defaultdict(int)\n",
    "        \n",
    "    print(f\"Linking {node_type.value} nodes based on co-authorship ...\")\n",
    "    with tqdm(total=num_nodes, desc=f\"Progress {node_type.value} co-authorship\") as pbar:\n",
    "        for nodes in db.iter_nodes(node_type, attrs):\n",
    "            for node in nodes:\n",
    "                co_authors = [author[\"name\"] for author in data[node['id']]['authors']]\n",
    "                for author in co_authors:\n",
    "                    name = author.strip()\n",
    "                    name = re.sub(r'[^A-Za-z\\s]', '', name)\n",
    "                    name_parts = name.split()\n",
    "                    if len(name_parts) == 0:\n",
    "                        continue\n",
    "                    \n",
    "                    surname = name_parts[-1]\n",
    "                    given_name_initial = (name_parts[0] if len(name_parts) > 1 else ' ')[0]\n",
    "                    abbrev = f\"{surname} {given_name_initial}\"\n",
    "                    co_author_map[abbrev].append(node['id'])\n",
    "                pbar.update(1)\n",
    "    \n",
    "    for k, v in co_author_map.items():\n",
    "        for i in range(len(v)):\n",
    "            for j in range(i + 1, len(v)):\n",
    "                co_author_overlap[(v[i], v[j])] += 1\n",
    "                \n",
    "    for k, v in co_author_overlap.items():\n",
    "        total_num_authors = data[k[0]][\"authors\"] + data[k[1]][\"authors\"]\n",
    "        co_author_overlap[k] = v / len(total_num_authors)\n",
    "    \n",
    "    print(f\"Max. co-authors: {max(len(v) for v in co_author_map.values())}\")\n",
    "    print(f\"Max. co-author overlap: {max(co_author_overlap.values())}\")\n",
    "    \n",
    "    print(\"Number of co-author pairs:\", len(co_author_overlap))\n",
    "    print(\"Number of co-author pairs with overlap > 0.25:\", len([v for v in co_author_overlap.values() if v > 0.25]))\n",
    "    \n",
    "    print(\"Merging edges ...\")\n",
    "    edges_to_merge = [[k[0], k[1], {'sim': v}] for k, v in co_author_overlap.items() if v > 0.25]\n",
    "    with tqdm(total=len(edges_to_merge), desc=\"Merging co-author edges\") as pbar:\n",
    "        for i in range(0, len(edges_to_merge), 1000):\n",
    "            db.merge_edges(start_label=node_type, end_label=node_type, edge_type=EdgeType.SIM_AUTHOR, edges=edges_to_merge[i:i+1000])\n",
    "            pbar.update(1000)"
   ],
   "id": "a7757bd1c39b85df",
   "outputs": [],
   "execution_count": 9
  },
  {
   "metadata": {
    "ExecuteTime": {
     "end_time": "2024-10-14T09:33:22.847774Z",
     "start_time": "2024-10-14T09:08:41.083959Z"
    }
   },
   "cell_type": "code",
   "source": [
    "if link_co_authors:\n",
    "    link_co_author_network(db, NodeType.PUBLICATION)"
   ],
   "id": "e663cedfc1fbdc51",
   "outputs": [
    {
     "name": "stdout",
     "output_type": "stream",
     "text": [
      "Linking Publication nodes based on co-authorship ...\n"
     ]
    },
    {
     "data": {
      "text/plain": [
       "Progress Publication co-authorship:   0%|          | 0/20034 [00:00<?, ?it/s]"
      ],
      "application/vnd.jupyter.widget-view+json": {
       "version_major": 2,
       "version_minor": 0,
       "model_id": "6ec249e0f7c347a1b72828ab41ca69e7"
      }
     },
     "metadata": {},
     "output_type": "display_data"
    },
    {
     "name": "stdout",
     "output_type": "stream",
     "text": [
      "Max. co-authors: 1796\n",
      "Max. co-author overlap: 1.2181571815718157\n",
      "Number of co-author pairs: 6293688\n",
      "Number of co-author pairs with overlap > 0.25: 131667\n",
      "Merging edges ...\n"
     ]
    },
    {
     "data": {
      "text/plain": [
       "Merging co-author edges:   0%|          | 0/131667 [00:00<?, ?it/s]"
      ],
      "application/vnd.jupyter.widget-view+json": {
       "version_major": 2,
       "version_minor": 0,
       "model_id": "898f4a722083486ebb139a45607f2573"
      }
     },
     "metadata": {},
     "output_type": "display_data"
    }
   ],
   "execution_count": 10
  },
  {
   "metadata": {},
   "cell_type": "markdown",
   "source": "## Link nodes based on cosine similarity of their embeddings",
   "id": "4a98eaadf5534888"
  },
  {
   "metadata": {
    "ExecuteTime": {
     "end_time": "2024-10-14T09:33:22.957954Z",
     "start_time": "2024-10-14T09:33:22.954516Z"
    }
   },
   "cell_type": "code",
   "source": [
    "def link_node_attr_cosine(db: DatabaseWrapper, node_type: NodeType, vec_attr: str, edge_type: EdgeType, threshold: float = 0.7, filter_empty_original_attr: str = None):\n",
    "    num_nodes = db.count_nodes(node_type)\n",
    "    edges = []\n",
    "    attrs = ['id', vec_attr]\n",
    "    if filter_empty_original_attr:\n",
    "        attrs.append(filter_empty_original_attr)\n",
    "        \n",
    "    print(f\"Linking {node_type.value} nodes based on {vec_attr} attribute ...\")\n",
    "    with tqdm(total=num_nodes, desc=f\"Progress {node_type.value} {vec_attr}\") as pbar:\n",
    "        for nodes in db.iter_nodes(node_type, attrs):\n",
    "            for node in nodes:\n",
    "                if filter_empty_original_attr and not node[filter_empty_original_attr]:\n",
    "                    pbar.update(1)\n",
    "                    print(f\"Skipping node {node['id']} because {filter_empty_original_attr} is empty\")\n",
    "                    continue\n",
    "                k = 8\n",
    "                similar_nodes = db.get_similar_nodes_vec(\n",
    "                    node_type,\n",
    "                    vec_attr,\n",
    "                    node[vec_attr],\n",
    "                    threshold,\n",
    "                    k\n",
    "                )\n",
    "                for ix, row in similar_nodes.iterrows():\n",
    "                    if row['id'] == node['id']:\n",
    "                        continue\n",
    "                    edges.append([node['id'], row['id']])\n",
    "                    #db.merge_edge(node_type, node['id'], node_type, row['id'], edge_type, {\"sim\": row['sim']})\n",
    "                if len(edges) > 1000:\n",
    "                    print(f\"Merging {len(edges)} edges ...\")\n",
    "                    db.merge_edges(start_label=node_type, end_label=node_type, edge_type=edge_type, edges=edges)\n",
    "                    edges.clear()\n",
    "                    \n",
    "                pbar.update(1)\n",
    "    if edges:\n",
    "        db.merge_edges(start_label=node_type, end_label=node_type, edge_type=edge_type, edges=edges)"
   ],
   "id": "df5874196d002a6",
   "outputs": [],
   "execution_count": 11
  },
  {
   "metadata": {
    "ExecuteTime": {
     "end_time": "2024-10-14T09:35:17.329503Z",
     "start_time": "2024-10-14T09:33:23.052034Z"
    }
   },
   "cell_type": "code",
   "source": [
    "model_dim = model.get_sentence_embedding_dimension()\n",
    "\n",
    "# Create vector index and link nodes based on cosine similarity\n",
    "if link_title:\n",
    "    db.create_vector_index('title_index', NodeType.PUBLICATION, 'title_emb', model_dim)\n",
    "    link_node_attr_cosine(db, NodeType.PUBLICATION, 'title_emb', EdgeType.SIM_TITLE)\n",
    "    \n",
    "if link_abstract:\n",
    "    db.create_vector_index('abstract_index', NodeType.PUBLICATION, 'abstract_emb', model_dim)\n",
    "    link_node_attr_cosine(db, NodeType.PUBLICATION, 'abstract_emb', EdgeType.SIM_ABSTRACT)\n",
    "    \n",
    "if link_venue:\n",
    "    db.create_vector_index('venue_index', NodeType.PUBLICATION, 'venue_emb', model_dim)\n",
    "    link_node_attr_cosine(db, NodeType.PUBLICATION, 'venue_emb', EdgeType.SIM_VENUE, threshold=0.9)"
   ],
   "id": "71010a3d4cd7ff1c",
   "outputs": [
    {
     "name": "stdout",
     "output_type": "stream",
     "text": [
      "Linking Publication nodes based on title_emb attribute ...\n"
     ]
    },
    {
     "data": {
      "text/plain": [
       "Progress Publication title_emb:   0%|          | 0/20034 [00:00<?, ?it/s]"
      ],
      "application/vnd.jupyter.widget-view+json": {
       "version_major": 2,
       "version_minor": 0,
       "model_id": "f858d37db4b14a0ba2c14a05f123bdaf"
      }
     },
     "metadata": {},
     "output_type": "display_data"
    },
    {
     "name": "stdout",
     "output_type": "stream",
     "text": [
      "Merging 1003 edges ...\n",
      "Merging 1005 edges ...\n",
      "Merging 1008 edges ...\n",
      "Merging 1004 edges ...\n",
      "Merging 1006 edges ...\n",
      "Merging 1002 edges ...\n",
      "Merging 1006 edges ...\n",
      "Merging 1006 edges ...\n",
      "Merging 1004 edges ...\n"
     ]
    },
    {
     "ename": "KeyboardInterrupt",
     "evalue": "",
     "output_type": "error",
     "traceback": [
      "\u001B[0;31m---------------------------------------------------------------------------\u001B[0m",
      "\u001B[0;31mKeyboardInterrupt\u001B[0m                         Traceback (most recent call last)",
      "File \u001B[0;32m~/Git/master-thesis/src/shared/database_wrapper.py:111\u001B[0m, in \u001B[0;36mDatabaseWrapper.merge_edges\u001B[0;34m(self, start_label, end_label, edge_type, edges)\u001B[0m\n\u001B[1;32m    106\u001B[0m result \u001B[38;5;241m=\u001B[39m session\u001B[38;5;241m.\u001B[39mrun(query, edges\u001B[38;5;241m=\u001B[39m[{\n\u001B[1;32m    107\u001B[0m     \u001B[38;5;124m\"\u001B[39m\u001B[38;5;124mstart_id\u001B[39m\u001B[38;5;124m\"\u001B[39m: edge[\u001B[38;5;241m0\u001B[39m],\n\u001B[1;32m    108\u001B[0m     \u001B[38;5;124m\"\u001B[39m\u001B[38;5;124mend_id\u001B[39m\u001B[38;5;124m\"\u001B[39m: edge[\u001B[38;5;241m1\u001B[39m]\n\u001B[1;32m    109\u001B[0m } \u001B[38;5;28;01mfor\u001B[39;00m edge \u001B[38;5;129;01min\u001B[39;00m edges])\n\u001B[0;32m--> 111\u001B[0m \u001B[38;5;28;01mif\u001B[39;00m \u001B[43mresult\u001B[49m\u001B[38;5;241;43m.\u001B[39;49m\u001B[43msingle\u001B[49m\u001B[43m(\u001B[49m\u001B[43m)\u001B[49m \u001B[38;5;129;01mis\u001B[39;00m \u001B[38;5;28;01mNone\u001B[39;00m:\n\u001B[1;32m    112\u001B[0m     logger\u001B[38;5;241m.\u001B[39merror(\u001B[38;5;124mf\u001B[39m\u001B[38;5;124m\"\u001B[39m\u001B[38;5;124mFailed to merge edges of type \u001B[39m\u001B[38;5;132;01m{\u001B[39;00medge_type\u001B[38;5;241m.\u001B[39mvalue\u001B[38;5;132;01m}\u001B[39;00m\u001B[38;5;124m\"\u001B[39m)\n",
      "File \u001B[0;32m~/.anaconda3/envs/master/lib/python3.9/site-packages/neo4j/_sync/work/result.py:485\u001B[0m, in \u001B[0;36mResult.single\u001B[0;34m(self, strict)\u001B[0m\n\u001B[1;32m    451\u001B[0m \u001B[38;5;250m\u001B[39m\u001B[38;5;124;03m\"\"\"Obtain the next and only remaining record or None.\u001B[39;00m\n\u001B[1;32m    452\u001B[0m \n\u001B[1;32m    453\u001B[0m \u001B[38;5;124;03mCalling this method always exhausts the result.\u001B[39;00m\n\u001B[0;32m   (...)\u001B[0m\n\u001B[1;32m    483\u001B[0m \u001B[38;5;124;03m    * Can raise :exc:`.ResultConsumedError`.\u001B[39;00m\n\u001B[1;32m    484\u001B[0m \u001B[38;5;124;03m\"\"\"\u001B[39;00m\n\u001B[0;32m--> 485\u001B[0m \u001B[38;5;28;43mself\u001B[39;49m\u001B[38;5;241;43m.\u001B[39;49m\u001B[43m_buffer\u001B[49m\u001B[43m(\u001B[49m\u001B[38;5;241;43m2\u001B[39;49m\u001B[43m)\u001B[49m\n\u001B[1;32m    486\u001B[0m buffer \u001B[38;5;241m=\u001B[39m \u001B[38;5;28mself\u001B[39m\u001B[38;5;241m.\u001B[39m_record_buffer\n",
      "File \u001B[0;32m~/.anaconda3/envs/master/lib/python3.9/site-packages/neo4j/_sync/work/result.py:318\u001B[0m, in \u001B[0;36mResult._buffer\u001B[0;34m(self, n)\u001B[0m\n\u001B[1;32m    317\u001B[0m record_buffer \u001B[38;5;241m=\u001B[39m deque()\n\u001B[0;32m--> 318\u001B[0m \u001B[38;5;28;01mfor\u001B[39;00m record \u001B[38;5;129;01min\u001B[39;00m \u001B[38;5;28mself\u001B[39m:\n\u001B[1;32m    319\u001B[0m     record_buffer\u001B[38;5;241m.\u001B[39mappend(record)\n",
      "File \u001B[0;32m~/.anaconda3/envs/master/lib/python3.9/site-packages/neo4j/_sync/work/result.py:270\u001B[0m, in \u001B[0;36mResult.__iter__\u001B[0;34m(self)\u001B[0m\n\u001B[1;32m    269\u001B[0m \u001B[38;5;28;01melif\u001B[39;00m \u001B[38;5;28mself\u001B[39m\u001B[38;5;241m.\u001B[39m_streaming:\n\u001B[0;32m--> 270\u001B[0m     \u001B[38;5;28;43mself\u001B[39;49m\u001B[38;5;241;43m.\u001B[39;49m\u001B[43m_connection\u001B[49m\u001B[38;5;241;43m.\u001B[39;49m\u001B[43mfetch_message\u001B[49m\u001B[43m(\u001B[49m\u001B[43m)\u001B[49m\n\u001B[1;32m    271\u001B[0m \u001B[38;5;28;01melif\u001B[39;00m \u001B[38;5;28mself\u001B[39m\u001B[38;5;241m.\u001B[39m_discarding:\n",
      "File \u001B[0;32m~/.anaconda3/envs/master/lib/python3.9/site-packages/neo4j/_sync/io/_common.py:178\u001B[0m, in \u001B[0;36mConnectionErrorHandler.__getattr__.<locals>.outer.<locals>.inner\u001B[0;34m(*args, **kwargs)\u001B[0m\n\u001B[1;32m    177\u001B[0m \u001B[38;5;28;01mtry\u001B[39;00m:\n\u001B[0;32m--> 178\u001B[0m     \u001B[43mfunc\u001B[49m\u001B[43m(\u001B[49m\u001B[38;5;241;43m*\u001B[39;49m\u001B[43margs\u001B[49m\u001B[43m,\u001B[49m\u001B[43m \u001B[49m\u001B[38;5;241;43m*\u001B[39;49m\u001B[38;5;241;43m*\u001B[39;49m\u001B[43mkwargs\u001B[49m\u001B[43m)\u001B[49m\n\u001B[1;32m    179\u001B[0m \u001B[38;5;28;01mexcept\u001B[39;00m (Neo4jError, ServiceUnavailable, SessionExpired) \u001B[38;5;28;01mas\u001B[39;00m exc:\n",
      "File \u001B[0;32m~/.anaconda3/envs/master/lib/python3.9/site-packages/neo4j/_sync/io/_bolt.py:846\u001B[0m, in \u001B[0;36mBolt.fetch_message\u001B[0;34m(self)\u001B[0m\n\u001B[1;32m    845\u001B[0m \u001B[38;5;66;03m# Receive exactly one message\u001B[39;00m\n\u001B[0;32m--> 846\u001B[0m tag, fields \u001B[38;5;241m=\u001B[39m \u001B[38;5;28;43mself\u001B[39;49m\u001B[38;5;241;43m.\u001B[39;49m\u001B[43minbox\u001B[49m\u001B[38;5;241;43m.\u001B[39;49m\u001B[43mpop\u001B[49m\u001B[43m(\u001B[49m\n\u001B[1;32m    847\u001B[0m \u001B[43m    \u001B[49m\u001B[43mhydration_hooks\u001B[49m\u001B[38;5;241;43m=\u001B[39;49m\u001B[38;5;28;43mself\u001B[39;49m\u001B[38;5;241;43m.\u001B[39;49m\u001B[43mresponses\u001B[49m\u001B[43m[\u001B[49m\u001B[38;5;241;43m0\u001B[39;49m\u001B[43m]\u001B[49m\u001B[38;5;241;43m.\u001B[39;49m\u001B[43mhydration_hooks\u001B[49m\n\u001B[1;32m    848\u001B[0m \u001B[43m\u001B[49m\u001B[43m)\u001B[49m\n\u001B[1;32m    849\u001B[0m res \u001B[38;5;241m=\u001B[39m \u001B[38;5;28mself\u001B[39m\u001B[38;5;241m.\u001B[39m_process_message(tag, fields)\n",
      "File \u001B[0;32m~/.anaconda3/envs/master/lib/python3.9/site-packages/neo4j/_sync/io/_common.py:72\u001B[0m, in \u001B[0;36mInbox.pop\u001B[0;34m(self, hydration_hooks)\u001B[0m\n\u001B[1;32m     71\u001B[0m \u001B[38;5;28;01mdef\u001B[39;00m \u001B[38;5;21mpop\u001B[39m(\u001B[38;5;28mself\u001B[39m, hydration_hooks):\n\u001B[0;32m---> 72\u001B[0m     \u001B[38;5;28;43mself\u001B[39;49m\u001B[38;5;241;43m.\u001B[39;49m\u001B[43m_buffer_one_chunk\u001B[49m\u001B[43m(\u001B[49m\u001B[43m)\u001B[49m\n\u001B[1;32m     73\u001B[0m     \u001B[38;5;28;01mtry\u001B[39;00m:\n",
      "File \u001B[0;32m~/.anaconda3/envs/master/lib/python3.9/site-packages/neo4j/_sync/io/_common.py:51\u001B[0m, in \u001B[0;36mInbox._buffer_one_chunk\u001B[0;34m(self)\u001B[0m\n\u001B[1;32m     49\u001B[0m \u001B[38;5;28;01mwhile\u001B[39;00m chunk_size \u001B[38;5;241m==\u001B[39m \u001B[38;5;241m0\u001B[39m:\n\u001B[1;32m     50\u001B[0m     \u001B[38;5;66;03m# Determine the chunk size and skip noop\u001B[39;00m\n\u001B[0;32m---> 51\u001B[0m     \u001B[43mreceive_into_buffer\u001B[49m\u001B[43m(\u001B[49m\u001B[38;5;28;43mself\u001B[39;49m\u001B[38;5;241;43m.\u001B[39;49m\u001B[43m_socket\u001B[49m\u001B[43m,\u001B[49m\u001B[43m \u001B[49m\u001B[38;5;28;43mself\u001B[39;49m\u001B[38;5;241;43m.\u001B[39;49m\u001B[43m_buffer\u001B[49m\u001B[43m,\u001B[49m\u001B[43m \u001B[49m\u001B[38;5;241;43m2\u001B[39;49m\u001B[43m)\u001B[49m\n\u001B[1;32m     52\u001B[0m     chunk_size \u001B[38;5;241m=\u001B[39m \u001B[38;5;28mself\u001B[39m\u001B[38;5;241m.\u001B[39m_buffer\u001B[38;5;241m.\u001B[39mpop_u16()\n",
      "File \u001B[0;32m~/.anaconda3/envs/master/lib/python3.9/site-packages/neo4j/_sync/io/_common.py:326\u001B[0m, in \u001B[0;36mreceive_into_buffer\u001B[0;34m(sock, buffer, n_bytes)\u001B[0m\n\u001B[1;32m    325\u001B[0m \u001B[38;5;28;01mwhile\u001B[39;00m buffer\u001B[38;5;241m.\u001B[39mused \u001B[38;5;241m<\u001B[39m end:\n\u001B[0;32m--> 326\u001B[0m     n \u001B[38;5;241m=\u001B[39m \u001B[43msock\u001B[49m\u001B[38;5;241;43m.\u001B[39;49m\u001B[43mrecv_into\u001B[49m\u001B[43m(\u001B[49m\u001B[43mview\u001B[49m\u001B[43m[\u001B[49m\u001B[43mbuffer\u001B[49m\u001B[38;5;241;43m.\u001B[39;49m\u001B[43mused\u001B[49m\u001B[43m:\u001B[49m\u001B[43mend\u001B[49m\u001B[43m]\u001B[49m\u001B[43m,\u001B[49m\u001B[43m \u001B[49m\u001B[43mend\u001B[49m\u001B[43m \u001B[49m\u001B[38;5;241;43m-\u001B[39;49m\u001B[43m \u001B[49m\u001B[43mbuffer\u001B[49m\u001B[38;5;241;43m.\u001B[39;49m\u001B[43mused\u001B[49m\u001B[43m)\u001B[49m\n\u001B[1;32m    327\u001B[0m     \u001B[38;5;28;01mif\u001B[39;00m n \u001B[38;5;241m==\u001B[39m \u001B[38;5;241m0\u001B[39m:\n",
      "File \u001B[0;32m~/.anaconda3/envs/master/lib/python3.9/site-packages/neo4j/_async_compat/network/_bolt_socket.py:493\u001B[0m, in \u001B[0;36mBoltSocket.recv_into\u001B[0;34m(self, buffer, nbytes)\u001B[0m\n\u001B[1;32m    492\u001B[0m \u001B[38;5;28;01mdef\u001B[39;00m \u001B[38;5;21mrecv_into\u001B[39m(\u001B[38;5;28mself\u001B[39m, buffer, nbytes):\n\u001B[0;32m--> 493\u001B[0m     \u001B[38;5;28;01mreturn\u001B[39;00m \u001B[38;5;28;43mself\u001B[39;49m\u001B[38;5;241;43m.\u001B[39;49m\u001B[43m_wait_for_io\u001B[49m\u001B[43m(\u001B[49m\u001B[38;5;28;43mself\u001B[39;49m\u001B[38;5;241;43m.\u001B[39;49m\u001B[43m_socket\u001B[49m\u001B[38;5;241;43m.\u001B[39;49m\u001B[43mrecv_into\u001B[49m\u001B[43m,\u001B[49m\u001B[43m \u001B[49m\u001B[43mbuffer\u001B[49m\u001B[43m,\u001B[49m\u001B[43m \u001B[49m\u001B[43mnbytes\u001B[49m\u001B[43m)\u001B[49m\n",
      "File \u001B[0;32m~/.anaconda3/envs/master/lib/python3.9/site-packages/neo4j/_async_compat/network/_bolt_socket.py:468\u001B[0m, in \u001B[0;36mBoltSocket._wait_for_io\u001B[0;34m(self, func, *args, **kwargs)\u001B[0m\n\u001B[1;32m    467\u001B[0m \u001B[38;5;28;01mif\u001B[39;00m \u001B[38;5;28mself\u001B[39m\u001B[38;5;241m.\u001B[39m_deadline \u001B[38;5;129;01mis\u001B[39;00m \u001B[38;5;28;01mNone\u001B[39;00m:\n\u001B[0;32m--> 468\u001B[0m     \u001B[38;5;28;01mreturn\u001B[39;00m \u001B[43mfunc\u001B[49m\u001B[43m(\u001B[49m\u001B[38;5;241;43m*\u001B[39;49m\u001B[43margs\u001B[49m\u001B[43m,\u001B[49m\u001B[43m \u001B[49m\u001B[38;5;241;43m*\u001B[39;49m\u001B[38;5;241;43m*\u001B[39;49m\u001B[43mkwargs\u001B[49m\u001B[43m)\u001B[49m\n\u001B[1;32m    469\u001B[0m timeout \u001B[38;5;241m=\u001B[39m \u001B[38;5;28mself\u001B[39m\u001B[38;5;241m.\u001B[39m_socket\u001B[38;5;241m.\u001B[39mgettimeout()\n",
      "\u001B[0;31mKeyboardInterrupt\u001B[0m: ",
      "\nDuring handling of the above exception, another exception occurred:\n",
      "\u001B[0;31mKeyboardInterrupt\u001B[0m                         Traceback (most recent call last)",
      "Cell \u001B[0;32mIn[12], line 5\u001B[0m\n\u001B[1;32m      3\u001B[0m \u001B[38;5;66;03m#db.create_vector_index('abstract_index', NodeType.PUBLICATION, 'abstract_emb', model_dim)\u001B[39;00m\n\u001B[1;32m      4\u001B[0m db\u001B[38;5;241m.\u001B[39mcreate_vector_index(\u001B[38;5;124m'\u001B[39m\u001B[38;5;124mvenue_index\u001B[39m\u001B[38;5;124m'\u001B[39m, NodeType\u001B[38;5;241m.\u001B[39mPUBLICATION, \u001B[38;5;124m'\u001B[39m\u001B[38;5;124mvenue_emb\u001B[39m\u001B[38;5;124m'\u001B[39m, model_dim)\n\u001B[0;32m----> 5\u001B[0m \u001B[43mlink_node_attr_cosine\u001B[49m\u001B[43m(\u001B[49m\u001B[43mdb\u001B[49m\u001B[43m,\u001B[49m\u001B[43m \u001B[49m\u001B[43mNodeType\u001B[49m\u001B[38;5;241;43m.\u001B[39;49m\u001B[43mPUBLICATION\u001B[49m\u001B[43m,\u001B[49m\u001B[43m \u001B[49m\u001B[38;5;124;43m'\u001B[39;49m\u001B[38;5;124;43mtitle_emb\u001B[39;49m\u001B[38;5;124;43m'\u001B[39;49m\u001B[43m,\u001B[49m\u001B[43m \u001B[49m\u001B[43mEdgeType\u001B[49m\u001B[38;5;241;43m.\u001B[39;49m\u001B[43mSIM_TITLE\u001B[49m\u001B[43m)\u001B[49m\n\u001B[1;32m      6\u001B[0m \u001B[38;5;66;03m#link_node_attr_cosine(db, NodeType.PUBLICATION, 'abstract_emb', EdgeType.SIM_ABSTRACT)\u001B[39;00m\n\u001B[1;32m      7\u001B[0m link_node_attr_cosine(db, NodeType\u001B[38;5;241m.\u001B[39mPUBLICATION, \u001B[38;5;124m'\u001B[39m\u001B[38;5;124mvenue_emb\u001B[39m\u001B[38;5;124m'\u001B[39m, EdgeType\u001B[38;5;241m.\u001B[39mSIM_VENUE, threshold\u001B[38;5;241m=\u001B[39m\u001B[38;5;241m0.9\u001B[39m)\n",
      "Cell \u001B[0;32mIn[11], line 31\u001B[0m, in \u001B[0;36mlink_node_attr_cosine\u001B[0;34m(db, node_type, vec_attr, edge_type, threshold, filter_empty_original_attr)\u001B[0m\n\u001B[1;32m     29\u001B[0m \u001B[38;5;28;01mif\u001B[39;00m \u001B[38;5;28mlen\u001B[39m(edges) \u001B[38;5;241m>\u001B[39m \u001B[38;5;241m1000\u001B[39m:\n\u001B[1;32m     30\u001B[0m     \u001B[38;5;28mprint\u001B[39m(\u001B[38;5;124mf\u001B[39m\u001B[38;5;124m\"\u001B[39m\u001B[38;5;124mMerging \u001B[39m\u001B[38;5;132;01m{\u001B[39;00m\u001B[38;5;28mlen\u001B[39m(edges)\u001B[38;5;132;01m}\u001B[39;00m\u001B[38;5;124m edges ...\u001B[39m\u001B[38;5;124m\"\u001B[39m)\n\u001B[0;32m---> 31\u001B[0m     \u001B[43mdb\u001B[49m\u001B[38;5;241;43m.\u001B[39;49m\u001B[43mmerge_edges\u001B[49m\u001B[43m(\u001B[49m\u001B[43mstart_label\u001B[49m\u001B[38;5;241;43m=\u001B[39;49m\u001B[43mnode_type\u001B[49m\u001B[43m,\u001B[49m\u001B[43m \u001B[49m\u001B[43mend_label\u001B[49m\u001B[38;5;241;43m=\u001B[39;49m\u001B[43mnode_type\u001B[49m\u001B[43m,\u001B[49m\u001B[43m \u001B[49m\u001B[43medge_type\u001B[49m\u001B[38;5;241;43m=\u001B[39;49m\u001B[43medge_type\u001B[49m\u001B[43m,\u001B[49m\u001B[43m \u001B[49m\u001B[43medges\u001B[49m\u001B[38;5;241;43m=\u001B[39;49m\u001B[43medges\u001B[49m\u001B[43m)\u001B[49m\n\u001B[1;32m     32\u001B[0m     edges\u001B[38;5;241m.\u001B[39mclear()\n\u001B[1;32m     34\u001B[0m pbar\u001B[38;5;241m.\u001B[39mupdate(\u001B[38;5;241m1\u001B[39m)\n",
      "File \u001B[0;32m~/Git/master-thesis/src/shared/database_wrapper.py:112\u001B[0m, in \u001B[0;36mDatabaseWrapper.merge_edges\u001B[0;34m(self, start_label, end_label, edge_type, edges)\u001B[0m\n\u001B[1;32m    106\u001B[0m result \u001B[38;5;241m=\u001B[39m session\u001B[38;5;241m.\u001B[39mrun(query, edges\u001B[38;5;241m=\u001B[39m[{\n\u001B[1;32m    107\u001B[0m     \u001B[38;5;124m\"\u001B[39m\u001B[38;5;124mstart_id\u001B[39m\u001B[38;5;124m\"\u001B[39m: edge[\u001B[38;5;241m0\u001B[39m],\n\u001B[1;32m    108\u001B[0m     \u001B[38;5;124m\"\u001B[39m\u001B[38;5;124mend_id\u001B[39m\u001B[38;5;124m\"\u001B[39m: edge[\u001B[38;5;241m1\u001B[39m]\n\u001B[1;32m    109\u001B[0m } \u001B[38;5;28;01mfor\u001B[39;00m edge \u001B[38;5;129;01min\u001B[39;00m edges])\n\u001B[1;32m    111\u001B[0m \u001B[38;5;28;01mif\u001B[39;00m result\u001B[38;5;241m.\u001B[39msingle() \u001B[38;5;129;01mis\u001B[39;00m \u001B[38;5;28;01mNone\u001B[39;00m:\n\u001B[0;32m--> 112\u001B[0m     logger\u001B[38;5;241m.\u001B[39merror(\u001B[38;5;124mf\u001B[39m\u001B[38;5;124m\"\u001B[39m\u001B[38;5;124mFailed to merge edges of type \u001B[39m\u001B[38;5;132;01m{\u001B[39;00medge_type\u001B[38;5;241m.\u001B[39mvalue\u001B[38;5;132;01m}\u001B[39;00m\u001B[38;5;124m\"\u001B[39m)\n",
      "File \u001B[0;32m~/.anaconda3/envs/master/lib/python3.9/site-packages/neo4j/_sync/work/session.py:124\u001B[0m, in \u001B[0;36mSession.__exit__\u001B[0;34m(self, exception_type, exception_value, traceback)\u001B[0m\n\u001B[1;32m    122\u001B[0m         \u001B[38;5;28;01mreturn\u001B[39;00m\n\u001B[1;32m    123\u001B[0m     \u001B[38;5;28mself\u001B[39m\u001B[38;5;241m.\u001B[39m_state_failed \u001B[38;5;241m=\u001B[39m \u001B[38;5;28;01mTrue\u001B[39;00m\n\u001B[0;32m--> 124\u001B[0m \u001B[38;5;28;43mself\u001B[39;49m\u001B[38;5;241;43m.\u001B[39;49m\u001B[43mclose\u001B[49m\u001B[43m(\u001B[49m\u001B[43m)\u001B[49m\n",
      "File \u001B[0;32m~/.anaconda3/envs/master/lib/python3.9/site-packages/neo4j/_sync/work/session.py:213\u001B[0m, in \u001B[0;36mSession.close\u001B[0;34m(self)\u001B[0m\n\u001B[1;32m    211\u001B[0m     \u001B[38;5;28;01mif\u001B[39;00m \u001B[38;5;28mself\u001B[39m\u001B[38;5;241m.\u001B[39m_connection:\n\u001B[1;32m    212\u001B[0m         \u001B[38;5;28mself\u001B[39m\u001B[38;5;241m.\u001B[39m_connection\u001B[38;5;241m.\u001B[39msend_all()\n\u001B[0;32m--> 213\u001B[0m         \u001B[38;5;28;43mself\u001B[39;49m\u001B[38;5;241;43m.\u001B[39;49m\u001B[43m_connection\u001B[49m\u001B[38;5;241;43m.\u001B[39;49m\u001B[43mfetch_all\u001B[49m\u001B[43m(\u001B[49m\u001B[43m)\u001B[49m\n\u001B[1;32m    214\u001B[0m         \u001B[38;5;66;03m# TODO: Investigate potential non graceful close states\u001B[39;00m\n\u001B[1;32m    215\u001B[0m \u001B[38;5;28;01mexcept\u001B[39;00m Neo4jError:\n",
      "File \u001B[0;32m~/.anaconda3/envs/master/lib/python3.9/site-packages/neo4j/_sync/io/_bolt.py:863\u001B[0m, in \u001B[0;36mBolt.fetch_all\u001B[0;34m(self)\u001B[0m\n\u001B[1;32m    861\u001B[0m response \u001B[38;5;241m=\u001B[39m \u001B[38;5;28mself\u001B[39m\u001B[38;5;241m.\u001B[39mresponses[\u001B[38;5;241m0\u001B[39m]\n\u001B[1;32m    862\u001B[0m \u001B[38;5;28;01mwhile\u001B[39;00m \u001B[38;5;129;01mnot\u001B[39;00m response\u001B[38;5;241m.\u001B[39mcomplete:\n\u001B[0;32m--> 863\u001B[0m     detail_delta, summary_delta \u001B[38;5;241m=\u001B[39m \u001B[38;5;28;43mself\u001B[39;49m\u001B[38;5;241;43m.\u001B[39;49m\u001B[43mfetch_message\u001B[49m\u001B[43m(\u001B[49m\u001B[43m)\u001B[49m\n\u001B[1;32m    864\u001B[0m     detail_count \u001B[38;5;241m+\u001B[39m\u001B[38;5;241m=\u001B[39m detail_delta\n\u001B[1;32m    865\u001B[0m     summary_count \u001B[38;5;241m+\u001B[39m\u001B[38;5;241m=\u001B[39m summary_delta\n",
      "File \u001B[0;32m~/.anaconda3/envs/master/lib/python3.9/site-packages/neo4j/_sync/io/_bolt.py:846\u001B[0m, in \u001B[0;36mBolt.fetch_message\u001B[0;34m(self)\u001B[0m\n\u001B[1;32m    843\u001B[0m     \u001B[38;5;28;01mreturn\u001B[39;00m \u001B[38;5;241m0\u001B[39m, \u001B[38;5;241m0\u001B[39m\n\u001B[1;32m    845\u001B[0m \u001B[38;5;66;03m# Receive exactly one message\u001B[39;00m\n\u001B[0;32m--> 846\u001B[0m tag, fields \u001B[38;5;241m=\u001B[39m \u001B[38;5;28;43mself\u001B[39;49m\u001B[38;5;241;43m.\u001B[39;49m\u001B[43minbox\u001B[49m\u001B[38;5;241;43m.\u001B[39;49m\u001B[43mpop\u001B[49m\u001B[43m(\u001B[49m\n\u001B[1;32m    847\u001B[0m \u001B[43m    \u001B[49m\u001B[43mhydration_hooks\u001B[49m\u001B[38;5;241;43m=\u001B[39;49m\u001B[38;5;28;43mself\u001B[39;49m\u001B[38;5;241;43m.\u001B[39;49m\u001B[43mresponses\u001B[49m\u001B[43m[\u001B[49m\u001B[38;5;241;43m0\u001B[39;49m\u001B[43m]\u001B[49m\u001B[38;5;241;43m.\u001B[39;49m\u001B[43mhydration_hooks\u001B[49m\n\u001B[1;32m    848\u001B[0m \u001B[43m\u001B[49m\u001B[43m)\u001B[49m\n\u001B[1;32m    849\u001B[0m res \u001B[38;5;241m=\u001B[39m \u001B[38;5;28mself\u001B[39m\u001B[38;5;241m.\u001B[39m_process_message(tag, fields)\n\u001B[1;32m    850\u001B[0m \u001B[38;5;28mself\u001B[39m\u001B[38;5;241m.\u001B[39midle_since \u001B[38;5;241m=\u001B[39m monotonic()\n",
      "File \u001B[0;32m~/.anaconda3/envs/master/lib/python3.9/site-packages/neo4j/_sync/io/_common.py:72\u001B[0m, in \u001B[0;36mInbox.pop\u001B[0;34m(self, hydration_hooks)\u001B[0m\n\u001B[1;32m     71\u001B[0m \u001B[38;5;28;01mdef\u001B[39;00m \u001B[38;5;21mpop\u001B[39m(\u001B[38;5;28mself\u001B[39m, hydration_hooks):\n\u001B[0;32m---> 72\u001B[0m     \u001B[38;5;28;43mself\u001B[39;49m\u001B[38;5;241;43m.\u001B[39;49m\u001B[43m_buffer_one_chunk\u001B[49m\u001B[43m(\u001B[49m\u001B[43m)\u001B[49m\n\u001B[1;32m     73\u001B[0m     \u001B[38;5;28;01mtry\u001B[39;00m:\n\u001B[1;32m     74\u001B[0m         size, tag \u001B[38;5;241m=\u001B[39m \u001B[38;5;28mself\u001B[39m\u001B[38;5;241m.\u001B[39m_unpacker\u001B[38;5;241m.\u001B[39munpack_structure_header()\n",
      "File \u001B[0;32m~/.anaconda3/envs/master/lib/python3.9/site-packages/neo4j/_sync/io/_common.py:51\u001B[0m, in \u001B[0;36mInbox._buffer_one_chunk\u001B[0;34m(self)\u001B[0m\n\u001B[1;32m     48\u001B[0m \u001B[38;5;28;01mwhile\u001B[39;00m \u001B[38;5;28;01mTrue\u001B[39;00m:\n\u001B[1;32m     49\u001B[0m     \u001B[38;5;28;01mwhile\u001B[39;00m chunk_size \u001B[38;5;241m==\u001B[39m \u001B[38;5;241m0\u001B[39m:\n\u001B[1;32m     50\u001B[0m         \u001B[38;5;66;03m# Determine the chunk size and skip noop\u001B[39;00m\n\u001B[0;32m---> 51\u001B[0m         \u001B[43mreceive_into_buffer\u001B[49m\u001B[43m(\u001B[49m\u001B[38;5;28;43mself\u001B[39;49m\u001B[38;5;241;43m.\u001B[39;49m\u001B[43m_socket\u001B[49m\u001B[43m,\u001B[49m\u001B[43m \u001B[49m\u001B[38;5;28;43mself\u001B[39;49m\u001B[38;5;241;43m.\u001B[39;49m\u001B[43m_buffer\u001B[49m\u001B[43m,\u001B[49m\u001B[43m \u001B[49m\u001B[38;5;241;43m2\u001B[39;49m\u001B[43m)\u001B[49m\n\u001B[1;32m     52\u001B[0m         chunk_size \u001B[38;5;241m=\u001B[39m \u001B[38;5;28mself\u001B[39m\u001B[38;5;241m.\u001B[39m_buffer\u001B[38;5;241m.\u001B[39mpop_u16()\n\u001B[1;32m     53\u001B[0m         \u001B[38;5;28;01mif\u001B[39;00m chunk_size \u001B[38;5;241m==\u001B[39m \u001B[38;5;241m0\u001B[39m:\n",
      "File \u001B[0;32m~/.anaconda3/envs/master/lib/python3.9/site-packages/neo4j/_sync/io/_common.py:326\u001B[0m, in \u001B[0;36mreceive_into_buffer\u001B[0;34m(sock, buffer, n_bytes)\u001B[0m\n\u001B[1;32m    324\u001B[0m \u001B[38;5;28;01mwith\u001B[39;00m \u001B[38;5;28mmemoryview\u001B[39m(buffer\u001B[38;5;241m.\u001B[39mdata) \u001B[38;5;28;01mas\u001B[39;00m view:\n\u001B[1;32m    325\u001B[0m     \u001B[38;5;28;01mwhile\u001B[39;00m buffer\u001B[38;5;241m.\u001B[39mused \u001B[38;5;241m<\u001B[39m end:\n\u001B[0;32m--> 326\u001B[0m         n \u001B[38;5;241m=\u001B[39m \u001B[43msock\u001B[49m\u001B[38;5;241;43m.\u001B[39;49m\u001B[43mrecv_into\u001B[49m\u001B[43m(\u001B[49m\u001B[43mview\u001B[49m\u001B[43m[\u001B[49m\u001B[43mbuffer\u001B[49m\u001B[38;5;241;43m.\u001B[39;49m\u001B[43mused\u001B[49m\u001B[43m:\u001B[49m\u001B[43mend\u001B[49m\u001B[43m]\u001B[49m\u001B[43m,\u001B[49m\u001B[43m \u001B[49m\u001B[43mend\u001B[49m\u001B[43m \u001B[49m\u001B[38;5;241;43m-\u001B[39;49m\u001B[43m \u001B[49m\u001B[43mbuffer\u001B[49m\u001B[38;5;241;43m.\u001B[39;49m\u001B[43mused\u001B[49m\u001B[43m)\u001B[49m\n\u001B[1;32m    327\u001B[0m         \u001B[38;5;28;01mif\u001B[39;00m n \u001B[38;5;241m==\u001B[39m \u001B[38;5;241m0\u001B[39m:\n\u001B[1;32m    328\u001B[0m             \u001B[38;5;28;01mraise\u001B[39;00m \u001B[38;5;167;01mOSError\u001B[39;00m(\u001B[38;5;124m\"\u001B[39m\u001B[38;5;124mNo data\u001B[39m\u001B[38;5;124m\"\u001B[39m)\n",
      "File \u001B[0;32m~/.anaconda3/envs/master/lib/python3.9/site-packages/neo4j/_async_compat/network/_bolt_socket.py:493\u001B[0m, in \u001B[0;36mBoltSocket.recv_into\u001B[0;34m(self, buffer, nbytes)\u001B[0m\n\u001B[1;32m    492\u001B[0m \u001B[38;5;28;01mdef\u001B[39;00m \u001B[38;5;21mrecv_into\u001B[39m(\u001B[38;5;28mself\u001B[39m, buffer, nbytes):\n\u001B[0;32m--> 493\u001B[0m     \u001B[38;5;28;01mreturn\u001B[39;00m \u001B[38;5;28;43mself\u001B[39;49m\u001B[38;5;241;43m.\u001B[39;49m\u001B[43m_wait_for_io\u001B[49m\u001B[43m(\u001B[49m\u001B[38;5;28;43mself\u001B[39;49m\u001B[38;5;241;43m.\u001B[39;49m\u001B[43m_socket\u001B[49m\u001B[38;5;241;43m.\u001B[39;49m\u001B[43mrecv_into\u001B[49m\u001B[43m,\u001B[49m\u001B[43m \u001B[49m\u001B[43mbuffer\u001B[49m\u001B[43m,\u001B[49m\u001B[43m \u001B[49m\u001B[43mnbytes\u001B[49m\u001B[43m)\u001B[49m\n",
      "File \u001B[0;32m~/.anaconda3/envs/master/lib/python3.9/site-packages/neo4j/_async_compat/network/_bolt_socket.py:468\u001B[0m, in \u001B[0;36mBoltSocket._wait_for_io\u001B[0;34m(self, func, *args, **kwargs)\u001B[0m\n\u001B[1;32m    466\u001B[0m \u001B[38;5;28;01mdef\u001B[39;00m \u001B[38;5;21m_wait_for_io\u001B[39m(\u001B[38;5;28mself\u001B[39m, func, \u001B[38;5;241m*\u001B[39margs, \u001B[38;5;241m*\u001B[39m\u001B[38;5;241m*\u001B[39mkwargs):\n\u001B[1;32m    467\u001B[0m     \u001B[38;5;28;01mif\u001B[39;00m \u001B[38;5;28mself\u001B[39m\u001B[38;5;241m.\u001B[39m_deadline \u001B[38;5;129;01mis\u001B[39;00m \u001B[38;5;28;01mNone\u001B[39;00m:\n\u001B[0;32m--> 468\u001B[0m         \u001B[38;5;28;01mreturn\u001B[39;00m \u001B[43mfunc\u001B[49m\u001B[43m(\u001B[49m\u001B[38;5;241;43m*\u001B[39;49m\u001B[43margs\u001B[49m\u001B[43m,\u001B[49m\u001B[43m \u001B[49m\u001B[38;5;241;43m*\u001B[39;49m\u001B[38;5;241;43m*\u001B[39;49m\u001B[43mkwargs\u001B[49m\u001B[43m)\u001B[49m\n\u001B[1;32m    469\u001B[0m     timeout \u001B[38;5;241m=\u001B[39m \u001B[38;5;28mself\u001B[39m\u001B[38;5;241m.\u001B[39m_socket\u001B[38;5;241m.\u001B[39mgettimeout()\n\u001B[1;32m    470\u001B[0m     deadline_timeout \u001B[38;5;241m=\u001B[39m \u001B[38;5;28mself\u001B[39m\u001B[38;5;241m.\u001B[39m_deadline\u001B[38;5;241m.\u001B[39mto_timeout()\n",
      "\u001B[0;31mKeyboardInterrupt\u001B[0m: "
     ]
    }
   ],
   "execution_count": 12
  },
  {
   "metadata": {
    "ExecuteTime": {
     "end_time": "2024-10-14T09:35:40.711997Z",
     "start_time": "2024-10-14T09:35:40.669126Z"
    }
   },
   "cell_type": "code",
   "source": [
    "# Remove edges if according attribute is empty\n",
    "if link_title:\n",
    "    db.delete_edges_for_empty_attr(NodeType.PUBLICATION, EdgeType.SIM_TITLE, 'title')\n",
    "    \n",
    "if link_abstract:\n",
    "    db.delete_edges_for_empty_attr(NodeType.PUBLICATION, EdgeType.SIM_ABSTRACT, 'abstract')\n",
    "    \n",
    "if link_venue:\n",
    "    db.delete_edges_for_empty_attr(NodeType.PUBLICATION, EdgeType.SIM_VENUE, 'venue')"
   ],
   "id": "837c860f5efe8056",
   "outputs": [],
   "execution_count": 15
  },
  {
   "metadata": {
    "ExecuteTime": {
     "end_time": "2024-10-14T09:35:17.412367060Z",
     "start_time": "2024-09-24T10:11:20.605287Z"
    }
   },
   "cell_type": "code",
   "source": "print(\"Number of publication nodes:\", db.count_nodes(NodeType.PUBLICATION))",
   "id": "f02c30d1f448354f",
   "outputs": [
    {
     "name": "stdout",
     "output_type": "stream",
     "text": [
      "10829\n"
     ]
    }
   ],
   "execution_count": 22
  }
 ],
 "metadata": {
  "kernelspec": {
   "display_name": "Python 3",
   "language": "python",
   "name": "python3"
  },
  "language_info": {
   "codemirror_mode": {
    "name": "ipython",
    "version": 2
   },
   "file_extension": ".py",
   "mimetype": "text/x-python",
   "name": "python",
   "nbconvert_exporter": "python",
   "pygments_lexer": "ipython2",
   "version": "2.7.6"
  }
 },
 "nbformat": 4,
 "nbformat_minor": 5
}
