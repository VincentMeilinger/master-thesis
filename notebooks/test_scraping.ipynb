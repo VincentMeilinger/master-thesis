{
 "cells": [
  {
   "cell_type": "code",
   "execution_count": 1,
   "id": "initial_id",
   "metadata": {
    "collapsed": true,
    "ExecuteTime": {
     "end_time": "2024-03-13T10:37:04.118507643Z",
     "start_time": "2024-03-13T10:37:04.019436826Z"
    }
   },
   "outputs": [],
   "source": [
    "from bs4 import BeautifulSoup\n",
    "import requests"
   ]
  },
  {
   "cell_type": "code",
   "outputs": [
    {
     "data": {
      "text/plain": "{'citation_keywords': [{'content': 'Innovation acceptance; social innovation; healthcare innovation; frame analysis; shared decision-making; Dissertation'}],\n 'citation_title': [{'content': 'On the Acceptance of Social Innovations: A Constructivist Frame Analysis on Beliefs and Social Influences Shaping the Acceptance of Shared Decision-Making in Perioperative Care for Elderly and Frail Patients'}],\n 'citation_author': [{'content': 'Vogel, Amyn'}],\n 'citation_pdf_url': [{'content': 'https://refubium.fu-berlin.de/bitstream/fub188/41650/3/Synopsis_AmynVogel-2.pdf'}],\n 'citation_date': [{'content': '2023'}],\n 'citation_abstract_html_url': [{'content': 'https://refubium.fu-berlin.de/handle/fub188/41650'}],\n 'DC.creator': [{'content': 'Vogel, Amyn'}],\n 'DCTERMS.dateAccepted': [{'content': '2023-12-08T13:30:00Z',\n   'scheme': 'DCTERMS.W3CDTF'}],\n 'DCTERMS.available': [{'content': '2023-12-08T13:30:00Z',\n   'scheme': 'DCTERMS.W3CDTF'}],\n 'DCTERMS.issued': [{'content': '2023', 'scheme': 'DCTERMS.W3CDTF'}],\n 'DC.identifier': [{'content': 'https://refubium.fu-berlin.de/handle/fub188/41650',\n   'scheme': 'DCTERMS.URI'},\n  {'content': 'http://dx.doi.org/10.17169/refubium-41370',\n   'scheme': 'DCTERMS.URI'},\n  {'content': 'urn:nbn:de:kobv:188-refubium-41650-6'}],\n 'DCTERMS.abstract': [{'content': 'What predicts the acceptance of social innovation (SI), novel ideas, processes, and practices? This is the core question pursued in this thesis. And it is a fundamental issue within the SI literature, dealing with “new social practices created from collective, intentional, and goal-oriented actions” (Cajaiba-Santana, 2014, p. 44), which are intended to respond to individual and collective social needs (Abad & Ezponda, 2022; Cajaiba-Santana, 2014; Grimm et al., 2013; van der Have & Rubalcaba, 2016).\\r\\nResearch on innovation acceptance is characterized by a vast landscape of theories, concepts, and models. These consider various factors relating to innovation characteristics, social, organizational and individual factors, which are assumed to shape the process of the innovation decision-making (Kim & Chung, 2017). But what is at the core determining whether novelty emerges and becomes applied? A look at the field of future studies, which I used to pursue, provides an intriguing notion: Research on futures primarily refers to the exploration and discussion of possible, desirable, and probable futures. The common ground of these categories aims at the capacity to attach novel ideas to the individuals involved – to their attitudes, believes and opinions on the nature, desired state, and potential evolution of the subject at hand. Novel ideas are thus linked to the ability of the individuals concerned to recognize and accept this novelty and to create room for it to unfold. In this sense, novelty is always linked to the present, thoughts, believes and conceptions of reality by individuals.\\r\\nThe literature on innovation research echoes this perspective, emphasizing the need to take individuals’ characteristics for exploring and predicting the process of an innovation and its’ acceptance by concerned stakeholders into account (Agarwal & Prasad, 1997; Kim & Chung, 2017; van Oorschot et al., 2018). Key models that have had significant influence on subsequent research include Rogers’ (2003) innovation-diffusion model, Triandis’ (1977) model of choice, the Technology Acceptance Model (TAM) (Davis, 1989), the Unified Theory of Acceptance and Use of Technology (UTAUT) (Venkatesh et al., 2003), the Theory of Reasoned Action (TRA) (Fishbein & Ajzen, 1975), and the Theory of Planned Behaviour (TPB) (Ajzen, 1985, 1991; Ajzen & Madden, 1986). These offer a wide range of overarching issues and detailed factors shaping how individuals approach innovation processes and their acceptance (Dedehayir et al., 2017; Kim & Chung, 2017; Lewis et al., 2003; Muthitcharoen et al., 2011). Although these insights were drawn mainly on technological practice and innovations, the findings also shape research on SI (Demirel & Payne, 2018; Małecka et al., 2022; Oeij et al., 2019).\\r\\n2\\r\\nResearch on innovation acceptance remains dominated by these models (Dedehayir et al., 2017; Kim & Chung, 2017; Lewis et al., 2003; Muthitcharoen et al., 2011; Williams et al., 2015). Building on these studies, a wide variety of studies examine contextual adaptations and extensions. Among others, these consider the relation between organization and individual (Pak et al., 2019) and individuals’ emotions (Choi et al., 2011; Raffaelli et al., 2019). Further, issues like trust (Gefen et al., 2003; Małecka et al., 2022), perception of risk (Arruda Filho et al., 2022), culture (Srite & Karahanna, 2006), and the role of peers (Demirel & Payne, 2018; Małecka et al., 2022) are being explored. However, the majority of these studies relate to technological innovations, calling into consideration their applicability to SI.',\n   'language': 'en'}],\n 'DCTERMS.extent': [{'content': '86 Seiten'}],\n 'DC.language': [{'content': 'eng'}],\n 'DC.rights': [{'content': 'http://www.fu-berlin.de/sites/refubium/rechtliches/Nutzungsbedingungen',\n   'scheme': 'DCTERMS.URI'}],\n 'DC.subject': [{'content': 'Innovation acceptance', 'language': 'en'},\n  {'content': 'social innovation', 'language': 'en'},\n  {'content': 'healthcare innovation', 'language': 'en'},\n  {'content': 'frame analysis', 'language': 'en'},\n  {'content': 'shared decision-making', 'language': 'en'},\n  {'content': '300 Sozialwissenschaften::300 Sozialwissenschaften, Soziologie::304 Das Sozialverhalten beeinflussende Faktoren',\n   'scheme': 'DCTERMS.DDC'},\n  {'content': '300 Sozialwissenschaften::300 Sozialwissenschaften, Soziologie::305 Soziale Gruppen',\n   'scheme': 'DCTERMS.DDC'}],\n 'DC.title': [{'content': 'On the Acceptance of Social Innovations'},\n  {'content': 'A Constructivist Frame Analysis on Beliefs and Social Influences Shaping the Acceptance of Shared Decision-Making in Perioperative Care for Elderly and Frail Patients'}],\n 'DC.type': [{'content': 'Dissertation'}],\n 'DC.contributor': [{'content': 'male'},\n  {'content': 'Sydow, Jörg'},\n  {'content': 'Hammamet (Tunesien)'},\n  {'content': 'Fürstenau, Daniel'},\n  {'content': 'Gersch, Martin'},\n  {'content': 'Sundermeier, Janina'}],\n 'DC.date': [{'content': '2023-11-27', 'scheme': 'DCTERMS.W3CDTF'}]}"
     },
     "execution_count": 2,
     "metadata": {},
     "output_type": "execute_result"
    }
   ],
   "source": [
    "from scraper.scrape_refubium import scrape\n",
    "\n",
    "url = 'https://refubium.fu-berlin.de/handle/fub188/41650'\n",
    "\n",
    "scrape(url, write_to_file=True)"
   ],
   "metadata": {
    "collapsed": false,
    "ExecuteTime": {
     "end_time": "2024-03-13T10:37:04.362725538Z",
     "start_time": "2024-03-13T10:37:04.161826223Z"
    }
   },
   "id": "71d8a394b86f736b",
   "execution_count": 2
  },
  {
   "cell_type": "code",
   "outputs": [],
   "source": [
    "\n"
   ],
   "metadata": {
    "collapsed": false,
    "ExecuteTime": {
     "end_time": "2024-03-13T10:37:04.365245009Z",
     "start_time": "2024-03-13T10:37:04.362925940Z"
    }
   },
   "id": "a801c07c03787b99",
   "execution_count": 2
  },
  {
   "cell_type": "code",
   "outputs": [],
   "source": [],
   "metadata": {
    "collapsed": false,
    "ExecuteTime": {
     "end_time": "2024-03-13T10:37:04.370138487Z",
     "start_time": "2024-03-13T10:37:04.368055816Z"
    }
   },
   "id": "a0913da1dfb837e5",
   "execution_count": 2
  }
 ],
 "metadata": {
  "kernelspec": {
   "display_name": "Python 3",
   "language": "python",
   "name": "python3"
  },
  "language_info": {
   "codemirror_mode": {
    "name": "ipython",
    "version": 2
   },
   "file_extension": ".py",
   "mimetype": "text/x-python",
   "name": "python",
   "nbconvert_exporter": "python",
   "pygments_lexer": "ipython2",
   "version": "2.7.6"
  }
 },
 "nbformat": 4,
 "nbformat_minor": 5
}
